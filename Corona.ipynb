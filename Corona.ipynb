{
  "nbformat": 4,
  "nbformat_minor": 0,
  "metadata": {
    "colab": {
      "name": "Corona.ipynb",
      "provenance": [],
      "collapsed_sections": [],
      "authorship_tag": "ABX9TyMq3fLEpIZd+VCKo1wxWfIA",
      "include_colab_link": true
    },
    "kernelspec": {
      "name": "python3",
      "display_name": "Python 3"
    },
    "accelerator": "GPU"
  },
  "cells": [
    {
      "cell_type": "markdown",
      "metadata": {
        "id": "view-in-github",
        "colab_type": "text"
      },
      "source": [
        "<a href=\"https://colab.research.google.com/github/talhaanwarch/Corona_Virus/blob/master/Corona.ipynb\" target=\"_parent\"><img src=\"https://colab.research.google.com/assets/colab-badge.svg\" alt=\"Open In Colab\"/></a>"
      ]
    },
    {
      "cell_type": "code",
      "metadata": {
        "id": "Hx_mNhZ0f6Pa",
        "colab_type": "code",
        "colab": {}
      },
      "source": [
        "#https://arxiv.org/ftp/arxiv/papers/2003/2003.13145.pdf"
      ],
      "execution_count": 0,
      "outputs": []
    },
    {
      "cell_type": "code",
      "metadata": {
        "id": "e7sE0AGtdF-9",
        "colab_type": "code",
        "colab": {
          "base_uri": "https://localhost:8080/",
          "height": 33
        },
        "outputId": "eda2ebfb-67ee-4ca1-97e9-8623629be857"
      },
      "source": [
        "#Setup Kaggle DIR; copy json file ; chmod\n",
        "!mkdir -p ~/.kaggle\n",
        "!cp kaggle.json ~/.kaggle/\n",
        "!chmod 600 ~/.kaggle/kaggle.json\n",
        "!ls ~/.kaggle"
      ],
      "execution_count": 2,
      "outputs": [
        {
          "output_type": "stream",
          "text": [
            "kaggle.json\n"
          ],
          "name": "stdout"
        }
      ]
    },
    {
      "cell_type": "code",
      "metadata": {
        "id": "zh39xDtzdTyM",
        "colab_type": "code",
        "colab": {
          "base_uri": "https://localhost:8080/",
          "height": 134
        },
        "outputId": "3d78766b-fa28-40d4-c7a5-ef2f69384397"
      },
      "source": [
        "\n",
        "#Install kaggle packages\n",
        "!pip install -q kaggle\n",
        "!pip install -q kaggle-cli"
      ],
      "execution_count": 3,
      "outputs": [
        {
          "output_type": "stream",
          "text": [
            "\u001b[K     |████████████████████████████████| 81kB 5.8MB/s \n",
            "\u001b[K     |████████████████████████████████| 5.3MB 15.5MB/s \n",
            "\u001b[K     |████████████████████████████████| 51kB 6.6MB/s \n",
            "\u001b[K     |████████████████████████████████| 112kB 54.3MB/s \n",
            "\u001b[K     |████████████████████████████████| 112kB 61.7MB/s \n",
            "\u001b[?25h  Building wheel for kaggle-cli (setup.py) ... \u001b[?25l\u001b[?25hdone\n",
            "  Building wheel for pyperclip (setup.py) ... \u001b[?25l\u001b[?25hdone\n"
          ],
          "name": "stdout"
        }
      ]
    },
    {
      "cell_type": "code",
      "metadata": {
        "id": "rNziR1SddUWX",
        "colab_type": "code",
        "colab": {
          "base_uri": "https://localhost:8080/",
          "height": 84
        },
        "outputId": "98245771-0c2a-44c2-85c9-7e21345a1097"
      },
      "source": [
        "#!kaggle datasets list\n",
        "!kaggle datasets list -s tawsifurrahman/covid19-radiography-database"
      ],
      "execution_count": 4,
      "outputs": [
        {
          "output_type": "stream",
          "text": [
            "Warning: Looks like you're using an outdated API Version, please consider updating (server 1.5.6 / client 1.5.4)\n",
            "ref                                          title                          size  lastUpdated          downloadCount  \n",
            "-------------------------------------------  -----------------------------  ----  -------------------  -------------  \n",
            "tawsifurrahman/covid19-radiography-database  COVID-19 Radiography Database   1GB  2020-03-28 23:36:00             85  \n"
          ],
          "name": "stdout"
        }
      ]
    },
    {
      "cell_type": "code",
      "metadata": {
        "id": "FQynPUuEdmm5",
        "colab_type": "code",
        "colab": {
          "base_uri": "https://localhost:8080/",
          "height": 67
        },
        "outputId": "346d86d4-d53c-4c58-9ad7-98e2da553d33"
      },
      "source": [
        "!kaggle datasets download -d tawsifurrahman/covid19-radiography-database"
      ],
      "execution_count": 5,
      "outputs": [
        {
          "output_type": "stream",
          "text": [
            "Downloading covid19-radiography-database.zip to /content\n",
            "100% 1.15G/1.15G [00:21<00:00, 61.2MB/s]\n",
            "100% 1.15G/1.15G [00:21<00:00, 58.3MB/s]\n"
          ],
          "name": "stdout"
        }
      ]
    },
    {
      "cell_type": "code",
      "metadata": {
        "id": "QAUSKsFVdzgo",
        "colab_type": "code",
        "colab": {}
      },
      "source": [
        "%%capture\n",
        "!unzip covid19-radiography-database.zip"
      ],
      "execution_count": 0,
      "outputs": []
    },
    {
      "cell_type": "code",
      "metadata": {
        "id": "RwXvgE7NeovP",
        "colab_type": "code",
        "colab": {}
      },
      "source": [
        "%%capture\n",
        "!pip install efficientnet"
      ],
      "execution_count": 0,
      "outputs": []
    },
    {
      "cell_type": "code",
      "metadata": {
        "id": "NCH8fGHBfDVf",
        "colab_type": "code",
        "colab": {}
      },
      "source": [
        "import numpy as np # linear algebra\n",
        "import pandas as pd # data processing, CSV file I/O (e.g. pd.read_csv)\n",
        "import matplotlib.pyplot as plt"
      ],
      "execution_count": 0,
      "outputs": []
    },
    {
      "cell_type": "code",
      "metadata": {
        "id": "VByl228IfKB2",
        "colab_type": "code",
        "colab": {}
      },
      "source": [
        "from keras_preprocessing.image import ImageDataGenerator\n",
        "\n",
        "data_gen= ImageDataGenerator(\n",
        "    horizontal_flip=True,\n",
        "    vertical_flip=True,\n",
        "    rotation_range=90,\n",
        "    width_shift_range=0.1,\n",
        "    height_shift_range=0.1,\n",
        "    zoom_range=.1,\n",
        "    rescale=1/255,\n",
        "    fill_mode='nearest',\n",
        "    shear_range=0.1,\n",
        "    brightness_range=[0.5, 1.5],\n",
        "    validation_split=0.3)"
      ],
      "execution_count": 0,
      "outputs": []
    },
    {
      "cell_type": "code",
      "metadata": {
        "id": "wX4JK4fefMzS",
        "colab_type": "code",
        "colab": {}
      },
      "source": [
        "img_shape=300\n",
        "batch_size=16"
      ],
      "execution_count": 0,
      "outputs": []
    },
    {
      "cell_type": "code",
      "metadata": {
        "id": "9cs23Hc4fOwr",
        "colab_type": "code",
        "colab": {
          "base_uri": "https://localhost:8080/",
          "height": 33
        },
        "outputId": "99e62cb9-dcf9-459a-dfbd-369a2f7ecf4a"
      },
      "source": [
        "\n",
        "#load the training data\n",
        "train_generator = data_gen.flow_from_directory(\n",
        "    '/content/COVID-19 Radiography Database',\n",
        "    target_size=(img_shape,img_shape),\n",
        "    batch_size=batch_size,\n",
        "    class_mode='categorical',\n",
        "    subset='training',\n",
        "    shuffle=True)"
      ],
      "execution_count": 11,
      "outputs": [
        {
          "output_type": "stream",
          "text": [
            "Found 2035 images belonging to 3 classes.\n"
          ],
          "name": "stdout"
        }
      ]
    },
    {
      "cell_type": "code",
      "metadata": {
        "id": "WP33eFswfTWd",
        "colab_type": "code",
        "colab": {
          "base_uri": "https://localhost:8080/",
          "height": 33
        },
        "outputId": "b87cb4fc-4c0c-4f64-c7e2-4872bfc7cf3e"
      },
      "source": [
        "#load the training data\n",
        "val_suffle=False\n",
        "val_generator = data_gen.flow_from_directory(\n",
        "    '/content/COVID-19 Radiography Database',\n",
        "    target_size=(img_shape,img_shape),\n",
        "    batch_size=16,\n",
        "    class_mode='categorical',\n",
        "    subset='validation',shuffle=val_suffle)#shuffle should be False in validation\n",
        "    #https://stackoverflow.com/a/47439789/11170350"
      ],
      "execution_count": 12,
      "outputs": [
        {
          "output_type": "stream",
          "text": [
            "Found 870 images belonging to 3 classes.\n"
          ],
          "name": "stdout"
        }
      ]
    },
    {
      "cell_type": "code",
      "metadata": {
        "id": "Qi6qnTxNfY4z",
        "colab_type": "code",
        "colab": {
          "base_uri": "https://localhost:8080/",
          "height": 33
        },
        "outputId": "f146a61f-e2eb-407b-8bb6-97faef807bfa"
      },
      "source": [
        "train_generator.next()[0].shape,train_generator.next()[1].shape"
      ],
      "execution_count": 13,
      "outputs": [
        {
          "output_type": "execute_result",
          "data": {
            "text/plain": [
              "((16, 300, 300, 3), (16, 3))"
            ]
          },
          "metadata": {
            "tags": []
          },
          "execution_count": 13
        }
      ]
    },
    {
      "cell_type": "code",
      "metadata": {
        "id": "i3Vqjn53fa7h",
        "colab_type": "code",
        "colab": {
          "base_uri": "https://localhost:8080/",
          "height": 33
        },
        "outputId": "6cbe8761-8747-4482-fda0-37f82840c32e"
      },
      "source": [
        "val_generator.next()[0].shape,val_generator.next()[1].shape"
      ],
      "execution_count": 14,
      "outputs": [
        {
          "output_type": "execute_result",
          "data": {
            "text/plain": [
              "((16, 300, 300, 3), (16, 3))"
            ]
          },
          "metadata": {
            "tags": []
          },
          "execution_count": 14
        }
      ]
    },
    {
      "cell_type": "code",
      "metadata": {
        "id": "94grLuQafcwc",
        "colab_type": "code",
        "colab": {}
      },
      "source": [
        "from tensorflow.keras.models import Sequential,Model\n",
        "from tensorflow.keras.layers import Activation, Dropout, Flatten, Dense, Conv2D, MaxPool2D, BatchNormalization,Input,MaxPooling2D,GlobalMaxPooling2D,concatenate\n",
        "from tensorflow.keras.layers import GlobalAveragePooling2D\n",
        "from tensorflow.keras.applications.resnet50 import ResNet50\n",
        "from tensorflow.keras.callbacks import ModelCheckpoint,ReduceLROnPlateau\n",
        "from tensorflow.keras.optimizers import Adam\n",
        "import tensorflow.keras.backend as K\n",
        "import tensorflow as tf"
      ],
      "execution_count": 0,
      "outputs": []
    },
    {
      "cell_type": "code",
      "metadata": {
        "id": "RzXhp-tPfe6I",
        "colab_type": "code",
        "colab": {
          "base_uri": "https://localhost:8080/",
          "height": 50
        },
        "outputId": "e79222ff-bb38-4757-b8b6-582cb279529e"
      },
      "source": [
        "import efficientnet.tfkeras as efn\n",
        "model =efn.EfficientNetB4(weights ='noisy-student', include_top=False, input_shape = (img_shape,img_shape,3))"
      ],
      "execution_count": 16,
      "outputs": [
        {
          "output_type": "stream",
          "text": [
            "Downloading data from https://github.com/qubvel/efficientnet/releases/download/v0.0.1/efficientnet-b4_noisy-student_notop.h5\n",
            "71680000/71678424 [==============================] - 3s 0us/step\n"
          ],
          "name": "stdout"
        }
      ]
    },
    {
      "cell_type": "code",
      "metadata": {
        "id": "sVh4wcRhfg6A",
        "colab_type": "code",
        "colab": {}
      },
      "source": [
        "\n",
        "x = model.output\n",
        "x = GlobalAveragePooling2D()(x)\n",
        "x = Dropout(0.3)(x)\n",
        "x = Dense(128, activation=\"relu\")(x)\n",
        "x = Dropout(0.3)(x)\n",
        "x = Dense(64, activation=\"relu\")(x)\n",
        "predictions = Dense(3, activation=\"softmax\")(x)"
      ],
      "execution_count": 0,
      "outputs": []
    },
    {
      "cell_type": "code",
      "metadata": {
        "id": "-c2artipfkZT",
        "colab_type": "code",
        "colab": {}
      },
      "source": [
        "model = Model(inputs=model.input, outputs=predictions)\n",
        "\n",
        "def custom_loss(y_true, y_pred):\n",
        "    return tf.keras.losses.categorical_crossentropy(y_true, y_pred, label_smoothing=0.1)\n",
        "model.compile(optimizer='adam', loss=custom_loss, metrics=['accuracy'])"
      ],
      "execution_count": 0,
      "outputs": []
    },
    {
      "cell_type": "code",
      "metadata": {
        "id": "QmANclK6fs7C",
        "colab_type": "code",
        "colab": {
          "base_uri": "https://localhost:8080/",
          "height": 538
        },
        "outputId": "d3af97fd-a89a-4de7-e8bb-fbc707836326"
      },
      "source": [
        "results = model.fit(train_generator,epochs=15,\n",
        "                              steps_per_epoch=train_generator.n/batch_size,\n",
        "                              validation_data=val_generator,\n",
        "                             validation_steps=val_generator.n/batch_size,\n",
        "                              callbacks=[ReduceLROnPlateau(monitor='val_loss', factor=0.3,patience=2, min_lr=0.000001)])"
      ],
      "execution_count": 19,
      "outputs": [
        {
          "output_type": "stream",
          "text": [
            "Epoch 1/15\n",
            "128/127 [==============================] - 141s 1s/step - loss: 0.6216 - accuracy: 0.8423 - val_loss: 1.2824 - val_accuracy: 0.6437 - lr: 0.0010\n",
            "Epoch 2/15\n",
            "128/127 [==============================] - 137s 1s/step - loss: 0.5435 - accuracy: 0.8767 - val_loss: 0.4898 - val_accuracy: 0.9322 - lr: 0.0010\n",
            "Epoch 3/15\n",
            "128/127 [==============================] - 137s 1s/step - loss: 0.4961 - accuracy: 0.9042 - val_loss: 0.6560 - val_accuracy: 0.8713 - lr: 0.0010\n",
            "Epoch 4/15\n",
            "128/127 [==============================] - 137s 1s/step - loss: 0.4934 - accuracy: 0.9032 - val_loss: 0.5532 - val_accuracy: 0.8448 - lr: 0.0010\n",
            "Epoch 5/15\n",
            "128/127 [==============================] - 138s 1s/step - loss: 0.4295 - accuracy: 0.9366 - val_loss: 0.3923 - val_accuracy: 0.9552 - lr: 3.0000e-04\n",
            "Epoch 6/15\n",
            "128/127 [==============================] - 139s 1s/step - loss: 0.4093 - accuracy: 0.9469 - val_loss: 0.3993 - val_accuracy: 0.9529 - lr: 3.0000e-04\n",
            "Epoch 7/15\n",
            "128/127 [==============================] - 137s 1s/step - loss: 0.3964 - accuracy: 0.9499 - val_loss: 0.3590 - val_accuracy: 0.9667 - lr: 3.0000e-04\n",
            "Epoch 8/15\n",
            "128/127 [==============================] - 137s 1s/step - loss: 0.3883 - accuracy: 0.9543 - val_loss: 0.3786 - val_accuracy: 0.9552 - lr: 3.0000e-04\n",
            "Epoch 9/15\n",
            "128/127 [==============================] - 137s 1s/step - loss: 0.3770 - accuracy: 0.9602 - val_loss: 0.3835 - val_accuracy: 0.9563 - lr: 3.0000e-04\n",
            "Epoch 10/15\n",
            "128/127 [==============================] - 137s 1s/step - loss: 0.3697 - accuracy: 0.9587 - val_loss: 0.3597 - val_accuracy: 0.9667 - lr: 9.0000e-05\n",
            "Epoch 11/15\n",
            "128/127 [==============================] - 137s 1s/step - loss: 0.3654 - accuracy: 0.9671 - val_loss: 0.3543 - val_accuracy: 0.9736 - lr: 9.0000e-05\n",
            "Epoch 12/15\n",
            "128/127 [==============================] - 137s 1s/step - loss: 0.3530 - accuracy: 0.9725 - val_loss: 0.3454 - val_accuracy: 0.9770 - lr: 9.0000e-05\n",
            "Epoch 13/15\n",
            "128/127 [==============================] - 137s 1s/step - loss: 0.3627 - accuracy: 0.9666 - val_loss: 0.3463 - val_accuracy: 0.9713 - lr: 9.0000e-05\n",
            "Epoch 14/15\n",
            "128/127 [==============================] - 137s 1s/step - loss: 0.3532 - accuracy: 0.9740 - val_loss: 0.3538 - val_accuracy: 0.9713 - lr: 9.0000e-05\n",
            "Epoch 15/15\n",
            "128/127 [==============================] - 137s 1s/step - loss: 0.3416 - accuracy: 0.9779 - val_loss: 0.3498 - val_accuracy: 0.9736 - lr: 2.7000e-05\n"
          ],
          "name": "stdout"
        }
      ]
    },
    {
      "cell_type": "code",
      "metadata": {
        "id": "uk7bsohNf0iZ",
        "colab_type": "code",
        "colab": {
          "base_uri": "https://localhost:8080/",
          "height": 295
        },
        "outputId": "6ce9ad6b-69f7-49e5-9aca-7a7b0ef72af0"
      },
      "source": [
        "plt.plot(results.history['accuracy'])\n",
        "plt.plot(results.history['val_accuracy'])\n",
        "plt.title('Covid model accuracy ')\n",
        "plt.ylabel('accuracy')\n",
        "plt.xlabel('epoch')\n",
        "plt.legend(['train', 'test'], loc='upper left')\n",
        "plt.show()"
      ],
      "execution_count": 20,
      "outputs": [
        {
          "output_type": "display_data",
          "data": {
            "image/png": "[encoded data removed]",
            "text/plain": [
              "<Figure size 432x288 with 1 Axes>"
            ]
          },
          "metadata": {
            "tags": []
          }
        }
      ]
    },
    {
      "cell_type": "code",
      "metadata": {
        "id": "7uMrTCd_qIaj",
        "colab_type": "code",
        "colab": {
          "base_uri": "https://localhost:8080/",
          "height": 295
        },
        "outputId": "88373e51-512c-4a93-e678-7373f421928c"
      },
      "source": [
        "plt.plot(results.history['loss'])\n",
        "plt.plot(results.history['val_loss'])\n",
        "plt.title('Eye disease model loss')\n",
        "plt.ylabel('loss')\n",
        "plt.xlabel('epoch')\n",
        "plt.legend(['train', 'test'], loc='upper left')\n",
        "plt.show()"
      ],
      "execution_count": 21,
      "outputs": [
        {
          "output_type": "display_data",
          "data": {
            "image/png": "[encoded data removed]",
            "text/plain": [
              "<Figure size 432x288 with 1 Axes>"
            ]
          },
          "metadata": {
            "tags": []
          }
        }
      ]
    },
    {
      "cell_type": "code",
      "metadata": {
        "id": "8hFF1nnXqK1p",
        "colab_type": "code",
        "colab": {
          "base_uri": "https://localhost:8080/",
          "height": 67
        },
        "outputId": "e0bbd9f6-ba19-4a23-d242-827a9a846279"
      },
      "source": [
        "val_generator.reset()\n",
        "y_pred=model.predict(val_generator,steps=val_generator.n/batch_size,verbose=1)\n",
        "y_true = val_generator.classes\n",
        "y_pred=np.argmax(y_pred, axis=1)\n",
        "from sklearn.metrics import classification_report,accuracy_score,f1_score\n",
        "print(accuracy_score(y_true,y_pred))\n",
        "print(f1_score(y_true,y_pred,average='macro'))"
      ],
      "execution_count": 22,
      "outputs": [
        {
          "output_type": "stream",
          "text": [
            "55/54 [==============================] - 31s 570ms/step\n",
            "0.9770114942528736\n",
            "0.9748457921542176\n"
          ],
          "name": "stdout"
        }
      ]
    },
    {
      "cell_type": "code",
      "metadata": {
        "id": "LgJwLgMRqOTx",
        "colab_type": "code",
        "colab": {
          "base_uri": "https://localhost:8080/",
          "height": 184
        },
        "outputId": "a56c775d-5473-48cf-fcbf-547fa7407c0d"
      },
      "source": [
        "class_label=list(train_generator.class_indices.keys())\n",
        "print(classification_report(y_true, y_pred,target_names=class_label))#"
      ],
      "execution_count": 23,
      "outputs": [
        {
          "output_type": "stream",
          "text": [
            "                 precision    recall  f1-score   support\n",
            "\n",
            "       COVID-19       0.97      0.97      0.97        65\n",
            "         NORMAL       0.96      0.99      0.98       402\n",
            "Viral Pneumonia       0.99      0.96      0.98       403\n",
            "\n",
            "       accuracy                           0.98       870\n",
            "      macro avg       0.98      0.97      0.97       870\n",
            "   weighted avg       0.98      0.98      0.98       870\n",
            "\n"
          ],
          "name": "stdout"
        }
      ]
    },
    {
      "cell_type": "code",
      "metadata": {
        "id": "6hqzt6a7ftUr",
        "colab_type": "code",
        "colab": {}
      },
      "source": [
        ""
      ],
      "execution_count": 0,
      "outputs": []
    },
    {
      "cell_type": "code",
      "metadata": {
        "id": "gcTfPILkdsmG",
        "colab_type": "code",
        "colab": {}
      },
      "source": [
        ""
      ],
      "execution_count": 0,
      "outputs": []
    },
    {
      "cell_type": "code",
      "metadata": {
        "id": "hh8z9jJ-djV-",
        "colab_type": "code",
        "colab": {}
      },
      "source": [
        ""
      ],
      "execution_count": 0,
      "outputs": []
    },
    {
      "cell_type": "code",
      "metadata": {
        "id": "Tpw8A0Ncdg-G",
        "colab_type": "code",
        "colab": {}
      },
      "source": [
        ""
      ],
      "execution_count": 0,
      "outputs": []
    }
  ]
}