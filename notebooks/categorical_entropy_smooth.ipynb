{
  "nbformat": 4,
  "nbformat_minor": 0,
  "metadata": {
    "colab": {
      "name": "categorical_entropy_smooth.ipynb",
      "provenance": [],
      "collapsed_sections": []
    },
    "kernelspec": {
      "name": "python3",
      "display_name": "Python 3"
    },
    "accelerator": "GPU"
  },
  "cells": [
    {
      "cell_type": "code",
      "metadata": {
        "id": "Hx_mNhZ0f6Pa",
        "colab_type": "code",
        "colab": {}
      },
      "source": [
        "#https://arxiv.org/ftp/arxiv/papers/2003/2003.13145.pdf"
      ],
      "execution_count": 0,
      "outputs": []
    },
    {
      "cell_type": "code",
      "metadata": {
        "id": "e7sE0AGtdF-9",
        "colab_type": "code",
        "outputId": "54ab76eb-53f5-4f59-e079-1091a2c32d46",
        "colab": {
          "base_uri": "https://localhost:8080/",
          "height": 33
        }
      },
      "source": [
        "#Setup Kaggle DIR; copy json file ; chmod\n",
        "!mkdir -p ~/.kaggle\n",
        "!cp kaggle.json ~/.kaggle/\n",
        "!chmod 600 ~/.kaggle/kaggle.json\n",
        "!ls ~/.kaggle"
      ],
      "execution_count": 3,
      "outputs": [
        {
          "output_type": "stream",
          "text": [
            "kaggle.json\n"
          ],
          "name": "stdout"
        }
      ]
    },
    {
      "cell_type": "code",
      "metadata": {
        "id": "zh39xDtzdTyM",
        "colab_type": "code",
        "outputId": "c994a90e-bf5e-4d02-e108-596195da69ae",
        "colab": {
          "base_uri": "https://localhost:8080/",
          "height": 134
        }
      },
      "source": [
        "\n",
        "#Install kaggle packages\n",
        "!pip install -q kaggle\n",
        "!pip install -q kaggle-cli"
      ],
      "execution_count": 4,
      "outputs": [
        {
          "output_type": "stream",
          "text": [
            "\u001b[K     |████████████████████████████████| 81kB 5.6MB/s \n",
            "\u001b[K     |████████████████████████████████| 5.3MB 25.9MB/s \n",
            "\u001b[K     |████████████████████████████████| 112kB 59.4MB/s \n",
            "\u001b[K     |████████████████████████████████| 51kB 8.5MB/s \n",
            "\u001b[K     |████████████████████████████████| 112kB 58.8MB/s \n",
            "\u001b[?25h  Building wheel for kaggle-cli (setup.py) ... \u001b[?25l\u001b[?25hdone\n",
            "  Building wheel for pyperclip (setup.py) ... \u001b[?25l\u001b[?25hdone\n"
          ],
          "name": "stdout"
        }
      ]
    },
    {
      "cell_type": "code",
      "metadata": {
        "id": "rNziR1SddUWX",
        "colab_type": "code",
        "outputId": "268df931-a5c5-41ce-e240-458fc9b2fc02",
        "colab": {
          "base_uri": "https://localhost:8080/",
          "height": 84
        }
      },
      "source": [
        "#!kaggle datasets list\n",
        "!kaggle datasets list -s tawsifurrahman/covid19-radiography-database"
      ],
      "execution_count": 5,
      "outputs": [
        {
          "output_type": "stream",
          "text": [
            "Warning: Looks like you're using an outdated API Version, please consider updating (server 1.5.6 / client 1.5.4)\n",
            "ref                                          title                          size  lastUpdated          downloadCount  \n",
            "-------------------------------------------  -----------------------------  ----  -------------------  -------------  \n",
            "tawsifurrahman/covid19-radiography-database  COVID-19 Radiography Database   1GB  2020-03-28 23:36:00             96  \n"
          ],
          "name": "stdout"
        }
      ]
    },
    {
      "cell_type": "code",
      "metadata": {
        "id": "FQynPUuEdmm5",
        "colab_type": "code",
        "outputId": "0cab7f49-12ee-426b-ae0f-93a89dc2ff5d",
        "colab": {
          "base_uri": "https://localhost:8080/",
          "height": 67
        }
      },
      "source": [
        "!kaggle datasets download -d tawsifurrahman/covid19-radiography-database"
      ],
      "execution_count": 6,
      "outputs": [
        {
          "output_type": "stream",
          "text": [
            "Downloading covid19-radiography-database.zip to /content\n",
            "100% 1.15G/1.15G [00:20<00:00, 45.2MB/s]\n",
            "100% 1.15G/1.15G [00:20<00:00, 60.1MB/s]\n"
          ],
          "name": "stdout"
        }
      ]
    },
    {
      "cell_type": "code",
      "metadata": {
        "id": "QAUSKsFVdzgo",
        "colab_type": "code",
        "colab": {}
      },
      "source": [
        "%%capture\n",
        "!unzip covid19-radiography-database.zip"
      ],
      "execution_count": 0,
      "outputs": []
    },
    {
      "cell_type": "code",
      "metadata": {
        "id": "RwXvgE7NeovP",
        "colab_type": "code",
        "colab": {}
      },
      "source": [
        "%%capture\n",
        "!pip install efficientnet"
      ],
      "execution_count": 0,
      "outputs": []
    },
    {
      "cell_type": "code",
      "metadata": {
        "id": "d5TW5jEhnY_3",
        "colab_type": "code",
        "colab": {}
      },
      "source": [
        "import glob\n",
        "import pandas as pd\n",
        "import os\n",
        "import numpy as np"
      ],
      "execution_count": 0,
      "outputs": []
    },
    {
      "cell_type": "code",
      "metadata": {
        "id": "6-BUg9tQjv3L",
        "colab_type": "code",
        "colab": {}
      },
      "source": [
        "\n",
        "covid=os.listdir('/content/COVID-19 Radiography Database/COVID-19')\n",
        "normal=os.listdir('/content/COVID-19 Radiography Database/NORMAL')\n",
        "pneumonia=os.listdir('/content/COVID-19 Radiography Database/Viral Pneumonia')\n"
      ],
      "execution_count": 0,
      "outputs": []
    },
    {
      "cell_type": "code",
      "metadata": {
        "id": "IjSQ-HF0lny3",
        "colab_type": "code",
        "outputId": "c66b0c94-5eb4-49bc-bd06-f1da9e0e21e5",
        "colab": {
          "base_uri": "https://localhost:8080/",
          "height": 196
        }
      },
      "source": [
        "cov=list(zip(covid,['covid']*(len(covid))))\n",
        "covid_df = pd.DataFrame(cov,columns=['file','label']) \n",
        "covid_df.head()"
      ],
      "execution_count": 11,
      "outputs": [
        {
          "output_type": "execute_result",
          "data": {
            "text/html": [
              "<div>\n",
              "<style scoped>\n",
              "    .dataframe tbody tr th:only-of-type {\n",
              "        vertical-align: middle;\n",
              "    }\n",
              "\n",
              "    .dataframe tbody tr th {\n",
              "        vertical-align: top;\n",
              "    }\n",
              "\n",
              "    .dataframe thead th {\n",
              "        text-align: right;\n",
              "    }\n",
              "</style>\n",
              "<table border=\"1\" class=\"dataframe\">\n",
              "  <thead>\n",
              "    <tr style=\"text-align: right;\">\n",
              "      <th></th>\n",
              "      <th>file</th>\n",
              "      <th>label</th>\n",
              "    </tr>\n",
              "  </thead>\n",
              "  <tbody>\n",
              "    <tr>\n",
              "      <th>0</th>\n",
              "      <td>COVID-19 (48).png</td>\n",
              "      <td>covid</td>\n",
              "    </tr>\n",
              "    <tr>\n",
              "      <th>1</th>\n",
              "      <td>COVID-19(178).png</td>\n",
              "      <td>covid</td>\n",
              "    </tr>\n",
              "    <tr>\n",
              "      <th>2</th>\n",
              "      <td>COVID-19(180).png</td>\n",
              "      <td>covid</td>\n",
              "    </tr>\n",
              "    <tr>\n",
              "      <th>3</th>\n",
              "      <td>COVID-19 (19).png</td>\n",
              "      <td>covid</td>\n",
              "    </tr>\n",
              "    <tr>\n",
              "      <th>4</th>\n",
              "      <td>COVID-19(155).png</td>\n",
              "      <td>covid</td>\n",
              "    </tr>\n",
              "  </tbody>\n",
              "</table>\n",
              "</div>"
            ],
            "text/plain": [
              "                file  label\n",
              "0  COVID-19 (48).png  covid\n",
              "1  COVID-19(178).png  covid\n",
              "2  COVID-19(180).png  covid\n",
              "3  COVID-19 (19).png  covid\n",
              "4  COVID-19(155).png  covid"
            ]
          },
          "metadata": {
            "tags": []
          },
          "execution_count": 11
        }
      ]
    },
    {
      "cell_type": "code",
      "metadata": {
        "id": "NPb6WURumZl_",
        "colab_type": "code",
        "outputId": "d96e30fe-c880-47f3-dce1-5107a8830692",
        "colab": {
          "base_uri": "https://localhost:8080/",
          "height": 196
        }
      },
      "source": [
        "norm=list(zip(normal,['normal']*(len(normal))))\n",
        "normal_df = pd.DataFrame(norm,columns=['file','label']) \n",
        "normal_df.head()"
      ],
      "execution_count": 12,
      "outputs": [
        {
          "output_type": "execute_result",
          "data": {
            "text/html": [
              "<div>\n",
              "<style scoped>\n",
              "    .dataframe tbody tr th:only-of-type {\n",
              "        vertical-align: middle;\n",
              "    }\n",
              "\n",
              "    .dataframe tbody tr th {\n",
              "        vertical-align: top;\n",
              "    }\n",
              "\n",
              "    .dataframe thead th {\n",
              "        text-align: right;\n",
              "    }\n",
              "</style>\n",
              "<table border=\"1\" class=\"dataframe\">\n",
              "  <thead>\n",
              "    <tr style=\"text-align: right;\">\n",
              "      <th></th>\n",
              "      <th>file</th>\n",
              "      <th>label</th>\n",
              "    </tr>\n",
              "  </thead>\n",
              "  <tbody>\n",
              "    <tr>\n",
              "      <th>0</th>\n",
              "      <td>NORMAL (110).png</td>\n",
              "      <td>normal</td>\n",
              "    </tr>\n",
              "    <tr>\n",
              "      <th>1</th>\n",
              "      <td>NORMAL (360).png</td>\n",
              "      <td>normal</td>\n",
              "    </tr>\n",
              "    <tr>\n",
              "      <th>2</th>\n",
              "      <td>NORMAL (131).png</td>\n",
              "      <td>normal</td>\n",
              "    </tr>\n",
              "    <tr>\n",
              "      <th>3</th>\n",
              "      <td>NORMAL (662).png</td>\n",
              "      <td>normal</td>\n",
              "    </tr>\n",
              "    <tr>\n",
              "      <th>4</th>\n",
              "      <td>NORMAL (1009).png</td>\n",
              "      <td>normal</td>\n",
              "    </tr>\n",
              "  </tbody>\n",
              "</table>\n",
              "</div>"
            ],
            "text/plain": [
              "                file   label\n",
              "0   NORMAL (110).png  normal\n",
              "1   NORMAL (360).png  normal\n",
              "2   NORMAL (131).png  normal\n",
              "3   NORMAL (662).png  normal\n",
              "4  NORMAL (1009).png  normal"
            ]
          },
          "metadata": {
            "tags": []
          },
          "execution_count": 12
        }
      ]
    },
    {
      "cell_type": "code",
      "metadata": {
        "id": "e5qFiQlwkyYI",
        "colab_type": "code",
        "outputId": "e072eba7-9cdd-48eb-c03a-00bae338d94f",
        "colab": {
          "base_uri": "https://localhost:8080/",
          "height": 196
        }
      },
      "source": [
        "pneumonia=list(zip(pneumonia,['pneumonia']*(len(pneumonia))*2))\n",
        "pneumonia_df = pd.DataFrame(pneumonia,columns=['file','label']) \n",
        "pneumonia_df.head()"
      ],
      "execution_count": 13,
      "outputs": [
        {
          "output_type": "execute_result",
          "data": {
            "text/html": [
              "<div>\n",
              "<style scoped>\n",
              "    .dataframe tbody tr th:only-of-type {\n",
              "        vertical-align: middle;\n",
              "    }\n",
              "\n",
              "    .dataframe tbody tr th {\n",
              "        vertical-align: top;\n",
              "    }\n",
              "\n",
              "    .dataframe thead th {\n",
              "        text-align: right;\n",
              "    }\n",
              "</style>\n",
              "<table border=\"1\" class=\"dataframe\">\n",
              "  <thead>\n",
              "    <tr style=\"text-align: right;\">\n",
              "      <th></th>\n",
              "      <th>file</th>\n",
              "      <th>label</th>\n",
              "    </tr>\n",
              "  </thead>\n",
              "  <tbody>\n",
              "    <tr>\n",
              "      <th>0</th>\n",
              "      <td>Viral Pneumonia (1067).png</td>\n",
              "      <td>pneumonia</td>\n",
              "    </tr>\n",
              "    <tr>\n",
              "      <th>1</th>\n",
              "      <td>Viral Pneumonia (1094).png</td>\n",
              "      <td>pneumonia</td>\n",
              "    </tr>\n",
              "    <tr>\n",
              "      <th>2</th>\n",
              "      <td>Viral Pneumonia (1287).png</td>\n",
              "      <td>pneumonia</td>\n",
              "    </tr>\n",
              "    <tr>\n",
              "      <th>3</th>\n",
              "      <td>Viral Pneumonia (1218).png</td>\n",
              "      <td>pneumonia</td>\n",
              "    </tr>\n",
              "    <tr>\n",
              "      <th>4</th>\n",
              "      <td>Viral Pneumonia (876).png</td>\n",
              "      <td>pneumonia</td>\n",
              "    </tr>\n",
              "  </tbody>\n",
              "</table>\n",
              "</div>"
            ],
            "text/plain": [
              "                         file      label\n",
              "0  Viral Pneumonia (1067).png  pneumonia\n",
              "1  Viral Pneumonia (1094).png  pneumonia\n",
              "2  Viral Pneumonia (1287).png  pneumonia\n",
              "3  Viral Pneumonia (1218).png  pneumonia\n",
              "4   Viral Pneumonia (876).png  pneumonia"
            ]
          },
          "metadata": {
            "tags": []
          },
          "execution_count": 13
        }
      ]
    },
    {
      "cell_type": "code",
      "metadata": {
        "id": "9DDgLUjwlKIQ",
        "colab_type": "code",
        "outputId": "aee8a2b0-5d57-473a-e41e-ede6715c473e",
        "colab": {
          "base_uri": "https://localhost:8080/",
          "height": 196
        }
      },
      "source": [
        "dataframe=pd.concat([covid_df,normal_df,pneumonia_df])\n",
        "dataframe.head()"
      ],
      "execution_count": 14,
      "outputs": [
        {
          "output_type": "execute_result",
          "data": {
            "text/html": [
              "<div>\n",
              "<style scoped>\n",
              "    .dataframe tbody tr th:only-of-type {\n",
              "        vertical-align: middle;\n",
              "    }\n",
              "\n",
              "    .dataframe tbody tr th {\n",
              "        vertical-align: top;\n",
              "    }\n",
              "\n",
              "    .dataframe thead th {\n",
              "        text-align: right;\n",
              "    }\n",
              "</style>\n",
              "<table border=\"1\" class=\"dataframe\">\n",
              "  <thead>\n",
              "    <tr style=\"text-align: right;\">\n",
              "      <th></th>\n",
              "      <th>file</th>\n",
              "      <th>label</th>\n",
              "    </tr>\n",
              "  </thead>\n",
              "  <tbody>\n",
              "    <tr>\n",
              "      <th>0</th>\n",
              "      <td>COVID-19 (48).png</td>\n",
              "      <td>covid</td>\n",
              "    </tr>\n",
              "    <tr>\n",
              "      <th>1</th>\n",
              "      <td>COVID-19(178).png</td>\n",
              "      <td>covid</td>\n",
              "    </tr>\n",
              "    <tr>\n",
              "      <th>2</th>\n",
              "      <td>COVID-19(180).png</td>\n",
              "      <td>covid</td>\n",
              "    </tr>\n",
              "    <tr>\n",
              "      <th>3</th>\n",
              "      <td>COVID-19 (19).png</td>\n",
              "      <td>covid</td>\n",
              "    </tr>\n",
              "    <tr>\n",
              "      <th>4</th>\n",
              "      <td>COVID-19(155).png</td>\n",
              "      <td>covid</td>\n",
              "    </tr>\n",
              "  </tbody>\n",
              "</table>\n",
              "</div>"
            ],
            "text/plain": [
              "                file  label\n",
              "0  COVID-19 (48).png  covid\n",
              "1  COVID-19(178).png  covid\n",
              "2  COVID-19(180).png  covid\n",
              "3  COVID-19 (19).png  covid\n",
              "4  COVID-19(155).png  covid"
            ]
          },
          "metadata": {
            "tags": []
          },
          "execution_count": 14
        }
      ]
    },
    {
      "cell_type": "code",
      "metadata": {
        "id": "HsaG153kksOV",
        "colab_type": "code",
        "outputId": "64fb27d5-61ea-4e45-b599-db78a15ce1ea",
        "colab": {
          "base_uri": "https://localhost:8080/",
          "height": 196
        }
      },
      "source": [
        "df = pd.get_dummies(dataframe['label'])\n",
        "df.head()"
      ],
      "execution_count": 15,
      "outputs": [
        {
          "output_type": "execute_result",
          "data": {
            "text/html": [
              "<div>\n",
              "<style scoped>\n",
              "    .dataframe tbody tr th:only-of-type {\n",
              "        vertical-align: middle;\n",
              "    }\n",
              "\n",
              "    .dataframe tbody tr th {\n",
              "        vertical-align: top;\n",
              "    }\n",
              "\n",
              "    .dataframe thead th {\n",
              "        text-align: right;\n",
              "    }\n",
              "</style>\n",
              "<table border=\"1\" class=\"dataframe\">\n",
              "  <thead>\n",
              "    <tr style=\"text-align: right;\">\n",
              "      <th></th>\n",
              "      <th>covid</th>\n",
              "      <th>normal</th>\n",
              "      <th>pneumonia</th>\n",
              "    </tr>\n",
              "  </thead>\n",
              "  <tbody>\n",
              "    <tr>\n",
              "      <th>0</th>\n",
              "      <td>1</td>\n",
              "      <td>0</td>\n",
              "      <td>0</td>\n",
              "    </tr>\n",
              "    <tr>\n",
              "      <th>1</th>\n",
              "      <td>1</td>\n",
              "      <td>0</td>\n",
              "      <td>0</td>\n",
              "    </tr>\n",
              "    <tr>\n",
              "      <th>2</th>\n",
              "      <td>1</td>\n",
              "      <td>0</td>\n",
              "      <td>0</td>\n",
              "    </tr>\n",
              "    <tr>\n",
              "      <th>3</th>\n",
              "      <td>1</td>\n",
              "      <td>0</td>\n",
              "      <td>0</td>\n",
              "    </tr>\n",
              "    <tr>\n",
              "      <th>4</th>\n",
              "      <td>1</td>\n",
              "      <td>0</td>\n",
              "      <td>0</td>\n",
              "    </tr>\n",
              "  </tbody>\n",
              "</table>\n",
              "</div>"
            ],
            "text/plain": [
              "   covid  normal  pneumonia\n",
              "0      1       0          0\n",
              "1      1       0          0\n",
              "2      1       0          0\n",
              "3      1       0          0\n",
              "4      1       0          0"
            ]
          },
          "metadata": {
            "tags": []
          },
          "execution_count": 15
        }
      ]
    },
    {
      "cell_type": "code",
      "metadata": {
        "id": "GD9oXFKskFAT",
        "colab_type": "code",
        "outputId": "394706a5-7ce4-4d10-952e-de00ff666c66",
        "colab": {
          "base_uri": "https://localhost:8080/",
          "height": 196
        }
      },
      "source": [
        "df = pd.concat([dataframe, df], axis=1)\n",
        "df.head()"
      ],
      "execution_count": 16,
      "outputs": [
        {
          "output_type": "execute_result",
          "data": {
            "text/html": [
              "<div>\n",
              "<style scoped>\n",
              "    .dataframe tbody tr th:only-of-type {\n",
              "        vertical-align: middle;\n",
              "    }\n",
              "\n",
              "    .dataframe tbody tr th {\n",
              "        vertical-align: top;\n",
              "    }\n",
              "\n",
              "    .dataframe thead th {\n",
              "        text-align: right;\n",
              "    }\n",
              "</style>\n",
              "<table border=\"1\" class=\"dataframe\">\n",
              "  <thead>\n",
              "    <tr style=\"text-align: right;\">\n",
              "      <th></th>\n",
              "      <th>file</th>\n",
              "      <th>label</th>\n",
              "      <th>covid</th>\n",
              "      <th>normal</th>\n",
              "      <th>pneumonia</th>\n",
              "    </tr>\n",
              "  </thead>\n",
              "  <tbody>\n",
              "    <tr>\n",
              "      <th>0</th>\n",
              "      <td>COVID-19 (48).png</td>\n",
              "      <td>covid</td>\n",
              "      <td>1</td>\n",
              "      <td>0</td>\n",
              "      <td>0</td>\n",
              "    </tr>\n",
              "    <tr>\n",
              "      <th>1</th>\n",
              "      <td>COVID-19(178).png</td>\n",
              "      <td>covid</td>\n",
              "      <td>1</td>\n",
              "      <td>0</td>\n",
              "      <td>0</td>\n",
              "    </tr>\n",
              "    <tr>\n",
              "      <th>2</th>\n",
              "      <td>COVID-19(180).png</td>\n",
              "      <td>covid</td>\n",
              "      <td>1</td>\n",
              "      <td>0</td>\n",
              "      <td>0</td>\n",
              "    </tr>\n",
              "    <tr>\n",
              "      <th>3</th>\n",
              "      <td>COVID-19 (19).png</td>\n",
              "      <td>covid</td>\n",
              "      <td>1</td>\n",
              "      <td>0</td>\n",
              "      <td>0</td>\n",
              "    </tr>\n",
              "    <tr>\n",
              "      <th>4</th>\n",
              "      <td>COVID-19(155).png</td>\n",
              "      <td>covid</td>\n",
              "      <td>1</td>\n",
              "      <td>0</td>\n",
              "      <td>0</td>\n",
              "    </tr>\n",
              "  </tbody>\n",
              "</table>\n",
              "</div>"
            ],
            "text/plain": [
              "                file  label  covid  normal  pneumonia\n",
              "0  COVID-19 (48).png  covid      1       0          0\n",
              "1  COVID-19(178).png  covid      1       0          0\n",
              "2  COVID-19(180).png  covid      1       0          0\n",
              "3  COVID-19 (19).png  covid      1       0          0\n",
              "4  COVID-19(155).png  covid      1       0          0"
            ]
          },
          "metadata": {
            "tags": []
          },
          "execution_count": 16
        }
      ]
    },
    {
      "cell_type": "code",
      "metadata": {
        "id": "BJlGUf0xpbJK",
        "colab_type": "code",
        "colab": {}
      },
      "source": [
        "df=df.sample(frac=1)"
      ],
      "execution_count": 0,
      "outputs": []
    },
    {
      "cell_type": "code",
      "metadata": {
        "id": "BVbMw1PLkC6Q",
        "colab_type": "code",
        "colab": {}
      },
      "source": [
        "!mkdir data"
      ],
      "execution_count": 0,
      "outputs": []
    },
    {
      "cell_type": "code",
      "metadata": {
        "id": "5tVw5aP6qSpS",
        "colab_type": "code",
        "colab": {}
      },
      "source": [
        "!cp -r /content/COVID-19\\ Radiography\\ Database/COVID-19/* data\n"
      ],
      "execution_count": 0,
      "outputs": []
    },
    {
      "cell_type": "code",
      "metadata": {
        "id": "AOT0dpOkjv8R",
        "colab_type": "code",
        "colab": {}
      },
      "source": [
        "!cp -r /content/COVID-19\\ Radiography\\ Database/NORMAL/* data\n"
      ],
      "execution_count": 0,
      "outputs": []
    },
    {
      "cell_type": "code",
      "metadata": {
        "id": "gv8Xa1e5jv_q",
        "colab_type": "code",
        "colab": {}
      },
      "source": [
        "!cp -r /content/COVID-19\\ Radiography\\ Database/Viral\\ Pneumonia/* data\n"
      ],
      "execution_count": 0,
      "outputs": []
    },
    {
      "cell_type": "code",
      "metadata": {
        "id": "NCH8fGHBfDVf",
        "colab_type": "code",
        "colab": {}
      },
      "source": [
        "import numpy as np # linear algebra\n",
        "import pandas as pd # data processing, CSV file I/O (e.g. pd.read_csv)\n",
        "import matplotlib.pyplot as plt"
      ],
      "execution_count": 0,
      "outputs": []
    },
    {
      "cell_type": "code",
      "metadata": {
        "id": "VByl228IfKB2",
        "colab_type": "code",
        "colab": {}
      },
      "source": [
        "from keras_preprocessing.image import ImageDataGenerator\n",
        "\n",
        "data_gen= ImageDataGenerator(\n",
        "    horizontal_flip=True,\n",
        "    vertical_flip=True,\n",
        "    rotation_range=90,\n",
        "    width_shift_range=0.1,\n",
        "    height_shift_range=0.1,\n",
        "    zoom_range=.1,\n",
        "    rescale=1/255,\n",
        "    fill_mode='nearest',\n",
        "    shear_range=0.1,\n",
        "    brightness_range=[0.5, 1.5])"
      ],
      "execution_count": 0,
      "outputs": []
    },
    {
      "cell_type": "code",
      "metadata": {
        "id": "wX4JK4fefMzS",
        "colab_type": "code",
        "colab": {}
      },
      "source": [
        "img_shape=300\n",
        "batch_size=16"
      ],
      "execution_count": 0,
      "outputs": []
    },
    {
      "cell_type": "code",
      "metadata": {
        "id": "94grLuQafcwc",
        "colab_type": "code",
        "colab": {}
      },
      "source": [
        "from tensorflow.keras.models import Sequential,Model\n",
        "from tensorflow.keras.layers import Activation, Dropout, Flatten, Dense, Conv2D, MaxPool2D, BatchNormalization,Input,MaxPooling2D,GlobalMaxPooling2D,concatenate\n",
        "from tensorflow.keras.layers import GlobalAveragePooling2D\n",
        "from tensorflow.keras.applications.resnet50 import ResNet50\n",
        "from tensorflow.keras.callbacks import ModelCheckpoint,ReduceLROnPlateau\n",
        "from tensorflow.keras.optimizers import Adam\n",
        "import tensorflow.keras.backend as K\n",
        "import tensorflow as tf"
      ],
      "execution_count": 0,
      "outputs": []
    },
    {
      "cell_type": "code",
      "metadata": {
        "id": "ENgCMgtw8o0p",
        "colab_type": "code",
        "colab": {
          "base_uri": "https://localhost:8080/",
          "height": 1000
        },
        "outputId": "9de5ef6f-12aa-436c-f566-b4503f95be16"
      },
      "source": [
        "from sklearn.model_selection import KFold\n",
        "import gc\n",
        "\n",
        "from sklearn.metrics import classification_report,accuracy_score,f1_score\n",
        "classification_reports=[]\n",
        "kf = KFold(n_splits=5)\n",
        "history=[]\n",
        "accuracy=[]\n",
        "f1_scores=[]\n",
        "fold=0\n",
        "for train_index, test_index in kf.split(df):\n",
        "  train=df.iloc[train_index,:]\n",
        "  val=df.iloc[test_index,:]\n",
        "  print('-----------fold {}--------------'.format(fold))\n",
        "  train_generator=data_gen.flow_from_dataframe(train,directory='data',\n",
        "                                                      target_size=(img_shape,img_shape),\n",
        "                                                      x_col=\"file\",\n",
        "                                                      y_col=['covid','normal','pneumonia'],\n",
        "                                                      class_mode='raw',\n",
        "                                                      shuffle=True,\n",
        "                                                      batch_size=batch_size)\n",
        "\n",
        "  val_generator=data_gen.flow_from_dataframe(val,directory='data',\n",
        "                                                        target_size=(img_shape,img_shape),\n",
        "                                                        x_col=\"file\",\n",
        "                                                        y_col=['covid','normal','pneumonia'],\n",
        "                                                        class_mode='raw',\n",
        "                                                        shuffle=False,\n",
        "                                                        batch_size=batch_size)\n",
        "  train_generator.next()[0].shape,train_generator.next()[1].shape\n",
        "  import efficientnet.tfkeras as efn\n",
        "  model =efn.EfficientNetB4(weights ='noisy-student', include_top=False, input_shape = (img_shape,img_shape,3))\n",
        "    \n",
        "  x = model.output\n",
        "  x = GlobalAveragePooling2D()(x)\n",
        "  x = Dropout(0.3)(x)\n",
        "  x = Dense(128, activation=\"relu\")(x)\n",
        "  x = Dropout(0.3)(x)\n",
        "  x = Dense(64, activation=\"relu\")(x)\n",
        "  predictions = Dense(3, activation=\"softmax\")(x)\n",
        "  model = Model(inputs=model.input, outputs=predictions)\n",
        "\n",
        "  def custom_loss(y_true, y_pred):\n",
        "      return tf.keras.losses.categorical_crossentropy(y_true, y_pred, label_smoothing=0.1)\n",
        "  model.compile(optimizer='adam', loss=custom_loss, metrics=['accuracy'])\n",
        "\n",
        "  results = model.fit(train_generator,epochs=15,\n",
        "                              steps_per_epoch=train_generator.n/batch_size,\n",
        "                              validation_data=val_generator,\n",
        "                             validation_steps=val_generator.n/batch_size,\n",
        "                              callbacks=[ReduceLROnPlateau(monitor='val_loss', factor=0.3,patience=2, min_lr=0.000001)])\n",
        "  val_generator.reset()\n",
        "  y_pred=model.predict(val_generator,steps=val_generator.n/batch_size,verbose=1)\n",
        "  y_pred=y_pred.round().astype(int)\n",
        "  y_true=val.iloc[:,2::]\n",
        "  classification_reports.append(classification_report(y_true, y_pred,target_names=['covid','normal','pneumonia']))#\n",
        "  accuracy.append(accuracy_score(y_true,y_pred))\n",
        "  f1_scores.append(f1_score(y_true,y_pred,average='macro'))\n",
        "  fold+=1\n",
        "  del model\n",
        "  tf.keras.backend.clear_session()\n",
        "  gc.collect()\n",
        "  "
      ],
      "execution_count": 31,
      "outputs": [
        {
          "output_type": "stream",
          "text": [
            "-----------fold 0--------------\n",
            "Found 2324 validated image filenames.\n",
            "Found 581 validated image filenames.\n",
            "Epoch 1/15\n",
            "146/145 [==============================] - 134s 916ms/step - loss: 0.6209 - accuracy: 0.8352 - val_loss: 0.6910 - val_accuracy: 0.8003 - lr: 0.0010\n",
            "Epoch 2/15\n",
            "146/145 [==============================] - 131s 899ms/step - loss: 0.5328 - accuracy: 0.8804 - val_loss: 0.5154 - val_accuracy: 0.8778 - lr: 0.0010\n",
            "Epoch 3/15\n",
            "146/145 [==============================] - 131s 899ms/step - loss: 0.4983 - accuracy: 0.9040 - val_loss: 0.7533 - val_accuracy: 0.8193 - lr: 0.0010\n",
            "Epoch 4/15\n",
            "146/145 [==============================] - 131s 900ms/step - loss: 0.4674 - accuracy: 0.9182 - val_loss: 0.4480 - val_accuracy: 0.9157 - lr: 0.0010\n",
            "Epoch 5/15\n",
            "146/145 [==============================] - 131s 898ms/step - loss: 0.4457 - accuracy: 0.9260 - val_loss: 0.4325 - val_accuracy: 0.9277 - lr: 0.0010\n",
            "Epoch 6/15\n",
            "146/145 [==============================] - 131s 897ms/step - loss: 0.4311 - accuracy: 0.9312 - val_loss: 0.4144 - val_accuracy: 0.9277 - lr: 0.0010\n",
            "Epoch 7/15\n",
            "146/145 [==============================] - 131s 898ms/step - loss: 0.4240 - accuracy: 0.9398 - val_loss: 0.4071 - val_accuracy: 0.9466 - lr: 0.0010\n",
            "Epoch 8/15\n",
            "146/145 [==============================] - 134s 918ms/step - loss: 0.4217 - accuracy: 0.9410 - val_loss: 0.4142 - val_accuracy: 0.9380 - lr: 0.0010\n",
            "Epoch 9/15\n",
            "146/145 [==============================] - 134s 915ms/step - loss: 0.4099 - accuracy: 0.9458 - val_loss: 0.3944 - val_accuracy: 0.9449 - lr: 0.0010\n",
            "Epoch 10/15\n",
            "146/145 [==============================] - 133s 914ms/step - loss: 0.3904 - accuracy: 0.9535 - val_loss: 0.3894 - val_accuracy: 0.9449 - lr: 0.0010\n",
            "Epoch 11/15\n",
            "146/145 [==============================] - 133s 913ms/step - loss: 0.3984 - accuracy: 0.9488 - val_loss: 0.3904 - val_accuracy: 0.9501 - lr: 0.0010\n",
            "Epoch 12/15\n",
            "146/145 [==============================] - 133s 913ms/step - loss: 0.3953 - accuracy: 0.9565 - val_loss: 2.3837 - val_accuracy: 0.1325 - lr: 0.0010\n",
            "Epoch 13/15\n",
            "146/145 [==============================] - 133s 913ms/step - loss: 0.3793 - accuracy: 0.9565 - val_loss: 0.9220 - val_accuracy: 0.6850 - lr: 3.0000e-04\n",
            "Epoch 14/15\n",
            "146/145 [==============================] - 133s 913ms/step - loss: 0.3607 - accuracy: 0.9673 - val_loss: 0.3448 - val_accuracy: 0.9776 - lr: 3.0000e-04\n",
            "Epoch 15/15\n",
            "146/145 [==============================] - 133s 910ms/step - loss: 0.3474 - accuracy: 0.9776 - val_loss: 0.3384 - val_accuracy: 0.9725 - lr: 3.0000e-04\n",
            "37/36 [==============================] - 21s 571ms/step\n"
          ],
          "name": "stdout"
        },
        {
          "output_type": "stream",
          "text": [
            "/usr/local/lib/python3.6/dist-packages/sklearn/metrics/_classification.py:1272: UndefinedMetricWarning: Precision and F-score are ill-defined and being set to 0.0 in samples with no predicted labels. Use `zero_division` parameter to control this behavior.\n",
            "  _warn_prf(average, modifier, msg_start, len(result))\n"
          ],
          "name": "stderr"
        },
        {
          "output_type": "stream",
          "text": [
            "-----------fold 1--------------\n",
            "Found 2324 validated image filenames.\n",
            "Found 581 validated image filenames.\n",
            "Epoch 1/15\n",
            "146/145 [==============================] - 133s 913ms/step - loss: 0.6383 - accuracy: 0.8257 - val_loss: 3.2989 - val_accuracy: 0.4475 - lr: 0.0010\n",
            "Epoch 2/15\n",
            "146/145 [==============================] - 133s 913ms/step - loss: 0.5378 - accuracy: 0.8838 - val_loss: 0.5858 - val_accuracy: 0.8589 - lr: 0.0010\n",
            "Epoch 3/15\n",
            "146/145 [==============================] - 134s 916ms/step - loss: 0.5017 - accuracy: 0.9002 - val_loss: 0.4175 - val_accuracy: 0.9449 - lr: 0.0010\n",
            "Epoch 4/15\n",
            "146/145 [==============================] - 134s 915ms/step - loss: 0.4595 - accuracy: 0.9174 - val_loss: 0.5173 - val_accuracy: 0.9225 - lr: 0.0010\n",
            "Epoch 5/15\n",
            "146/145 [==============================] - 133s 914ms/step - loss: 0.4509 - accuracy: 0.9221 - val_loss: 0.5007 - val_accuracy: 0.9071 - lr: 0.0010\n",
            "Epoch 6/15\n",
            "146/145 [==============================] - 133s 913ms/step - loss: 0.4130 - accuracy: 0.9428 - val_loss: 0.3721 - val_accuracy: 0.9501 - lr: 3.0000e-04\n",
            "Epoch 7/15\n",
            "146/145 [==============================] - 133s 913ms/step - loss: 0.3863 - accuracy: 0.9600 - val_loss: 0.4181 - val_accuracy: 0.9363 - lr: 3.0000e-04\n",
            "Epoch 8/15\n",
            "146/145 [==============================] - 133s 913ms/step - loss: 0.3684 - accuracy: 0.9669 - val_loss: 0.3674 - val_accuracy: 0.9673 - lr: 3.0000e-04\n",
            "Epoch 9/15\n",
            "146/145 [==============================] - 133s 910ms/step - loss: 0.3620 - accuracy: 0.9699 - val_loss: 0.3667 - val_accuracy: 0.9673 - lr: 3.0000e-04\n",
            "Epoch 10/15\n",
            "146/145 [==============================] - 133s 913ms/step - loss: 0.3663 - accuracy: 0.9647 - val_loss: 0.4318 - val_accuracy: 0.9329 - lr: 3.0000e-04\n",
            "Epoch 11/15\n",
            "146/145 [==============================] - 133s 912ms/step - loss: 0.3616 - accuracy: 0.9664 - val_loss: 0.3623 - val_accuracy: 0.9639 - lr: 3.0000e-04\n",
            "Epoch 12/15\n",
            "146/145 [==============================] - 134s 915ms/step - loss: 0.3738 - accuracy: 0.9613 - val_loss: 0.3734 - val_accuracy: 0.9518 - lr: 3.0000e-04\n",
            "Epoch 13/15\n",
            "146/145 [==============================] - 133s 909ms/step - loss: 0.3687 - accuracy: 0.9664 - val_loss: 0.3770 - val_accuracy: 0.9518 - lr: 3.0000e-04\n",
            "Epoch 14/15\n",
            "146/145 [==============================] - 133s 914ms/step - loss: 0.3448 - accuracy: 0.9789 - val_loss: 0.3472 - val_accuracy: 0.9725 - lr: 9.0000e-05\n",
            "Epoch 15/15\n",
            "146/145 [==============================] - 133s 914ms/step - loss: 0.3442 - accuracy: 0.9742 - val_loss: 0.3477 - val_accuracy: 0.9707 - lr: 9.0000e-05\n",
            "37/36 [==============================] - 22s 590ms/step\n",
            "-----------fold 2--------------\n",
            "Found 2324 validated image filenames.\n",
            "Found 581 validated image filenames.\n",
            "Epoch 1/15\n",
            "146/145 [==============================] - 133s 911ms/step - loss: 0.6246 - accuracy: 0.8292 - val_loss: 0.6418 - val_accuracy: 0.8365 - lr: 0.0010\n",
            "Epoch 2/15\n",
            "146/145 [==============================] - 134s 915ms/step - loss: 0.5358 - accuracy: 0.8868 - val_loss: 0.5188 - val_accuracy: 0.8606 - lr: 0.0010\n",
            "Epoch 3/15\n",
            "146/145 [==============================] - 134s 918ms/step - loss: 0.4989 - accuracy: 0.8980 - val_loss: 0.4834 - val_accuracy: 0.9139 - lr: 0.0010\n",
            "Epoch 4/15\n",
            "146/145 [==============================] - 134s 919ms/step - loss: 0.4740 - accuracy: 0.9114 - val_loss: 0.4313 - val_accuracy: 0.9157 - lr: 0.0010\n",
            "Epoch 5/15\n",
            "146/145 [==============================] - 134s 915ms/step - loss: 0.4679 - accuracy: 0.9157 - val_loss: 0.4632 - val_accuracy: 0.9225 - lr: 0.0010\n",
            "Epoch 6/15\n",
            "146/145 [==============================] - 134s 917ms/step - loss: 0.4396 - accuracy: 0.9307 - val_loss: 0.3940 - val_accuracy: 0.9552 - lr: 0.0010\n",
            "Epoch 7/15\n",
            "146/145 [==============================] - 133s 913ms/step - loss: 0.4469 - accuracy: 0.9290 - val_loss: 0.5585 - val_accuracy: 0.8709 - lr: 0.0010\n",
            "Epoch 8/15\n",
            "146/145 [==============================] - 134s 915ms/step - loss: 0.4218 - accuracy: 0.9419 - val_loss: 0.6237 - val_accuracy: 0.8382 - lr: 0.0010\n",
            "Epoch 9/15\n",
            "146/145 [==============================] - 134s 914ms/step - loss: 0.4038 - accuracy: 0.9466 - val_loss: 0.3506 - val_accuracy: 0.9742 - lr: 3.0000e-04\n",
            "Epoch 10/15\n",
            "146/145 [==============================] - 134s 915ms/step - loss: 0.3750 - accuracy: 0.9608 - val_loss: 0.3395 - val_accuracy: 0.9793 - lr: 3.0000e-04\n",
            "Epoch 11/15\n",
            "146/145 [==============================] - 134s 916ms/step - loss: 0.3626 - accuracy: 0.9682 - val_loss: 0.3309 - val_accuracy: 0.9793 - lr: 3.0000e-04\n",
            "Epoch 12/15\n",
            "146/145 [==============================] - 134s 915ms/step - loss: 0.3615 - accuracy: 0.9682 - val_loss: 0.3391 - val_accuracy: 0.9828 - lr: 3.0000e-04\n",
            "Epoch 13/15\n",
            "146/145 [==============================] - 134s 916ms/step - loss: 0.3571 - accuracy: 0.9677 - val_loss: 0.3429 - val_accuracy: 0.9742 - lr: 3.0000e-04\n",
            "Epoch 14/15\n",
            "146/145 [==============================] - 133s 908ms/step - loss: 0.3594 - accuracy: 0.9686 - val_loss: 0.3244 - val_accuracy: 0.9862 - lr: 9.0000e-05\n",
            "Epoch 15/15\n",
            "146/145 [==============================] - 133s 910ms/step - loss: 0.3411 - accuracy: 0.9781 - val_loss: 0.3260 - val_accuracy: 0.9862 - lr: 9.0000e-05\n",
            "37/36 [==============================] - 22s 596ms/step\n",
            "-----------fold 3--------------\n",
            "Found 2324 validated image filenames.\n",
            "Found 581 validated image filenames.\n",
            "Epoch 1/15\n",
            "146/145 [==============================] - 132s 903ms/step - loss: 0.6243 - accuracy: 0.8318 - val_loss: 0.6466 - val_accuracy: 0.8003 - lr: 0.0010\n",
            "Epoch 2/15\n",
            "146/145 [==============================] - 132s 906ms/step - loss: 0.5127 - accuracy: 0.8886 - val_loss: 0.4383 - val_accuracy: 0.9191 - lr: 0.0010\n",
            "Epoch 3/15\n",
            "146/145 [==============================] - 133s 909ms/step - loss: 0.5089 - accuracy: 0.9002 - val_loss: 0.4659 - val_accuracy: 0.9294 - lr: 0.0010\n",
            "Epoch 4/15\n",
            "146/145 [==============================] - 132s 902ms/step - loss: 0.4631 - accuracy: 0.9131 - val_loss: 0.4150 - val_accuracy: 0.9415 - lr: 0.0010\n",
            "Epoch 5/15\n",
            "146/145 [==============================] - 132s 907ms/step - loss: 0.4516 - accuracy: 0.9221 - val_loss: 0.5197 - val_accuracy: 0.8778 - lr: 0.0010\n",
            "Epoch 6/15\n",
            "146/145 [==============================] - 132s 903ms/step - loss: 0.4239 - accuracy: 0.9337 - val_loss: 0.4410 - val_accuracy: 0.9346 - lr: 0.0010\n",
            "Epoch 7/15\n",
            "146/145 [==============================] - 132s 902ms/step - loss: 0.4008 - accuracy: 0.9514 - val_loss: 0.3790 - val_accuracy: 0.9621 - lr: 3.0000e-04\n",
            "Epoch 8/15\n",
            "146/145 [==============================] - 130s 890ms/step - loss: 0.3785 - accuracy: 0.9621 - val_loss: 0.3560 - val_accuracy: 0.9725 - lr: 3.0000e-04\n",
            "Epoch 9/15\n",
            "146/145 [==============================] - 131s 896ms/step - loss: 0.3687 - accuracy: 0.9651 - val_loss: 0.3505 - val_accuracy: 0.9690 - lr: 3.0000e-04\n",
            "Epoch 10/15\n",
            "146/145 [==============================] - 130s 888ms/step - loss: 0.3701 - accuracy: 0.9626 - val_loss: 0.3554 - val_accuracy: 0.9673 - lr: 3.0000e-04\n",
            "Epoch 11/15\n",
            "146/145 [==============================] - 130s 890ms/step - loss: 0.3596 - accuracy: 0.9712 - val_loss: 0.3416 - val_accuracy: 0.9707 - lr: 3.0000e-04\n",
            "Epoch 12/15\n",
            "146/145 [==============================] - 130s 890ms/step - loss: 0.3638 - accuracy: 0.9660 - val_loss: 0.3501 - val_accuracy: 0.9707 - lr: 3.0000e-04\n",
            "Epoch 13/15\n",
            "146/145 [==============================] - 129s 886ms/step - loss: 0.3521 - accuracy: 0.9712 - val_loss: 0.3571 - val_accuracy: 0.9690 - lr: 3.0000e-04\n",
            "Epoch 14/15\n",
            "146/145 [==============================] - 130s 890ms/step - loss: 0.3517 - accuracy: 0.9738 - val_loss: 0.3419 - val_accuracy: 0.9793 - lr: 9.0000e-05\n",
            "Epoch 15/15\n",
            "146/145 [==============================] - 129s 887ms/step - loss: 0.3384 - accuracy: 0.9785 - val_loss: 0.3520 - val_accuracy: 0.9690 - lr: 9.0000e-05\n",
            "37/36 [==============================] - 21s 570ms/step\n",
            "-----------fold 4--------------\n",
            "Found 2324 validated image filenames.\n",
            "Found 581 validated image filenames.\n",
            "Epoch 1/15\n",
            "146/145 [==============================] - 131s 895ms/step - loss: 0.6434 - accuracy: 0.8249 - val_loss: 1.4083 - val_accuracy: 0.5215 - lr: 0.0010\n",
            "Epoch 2/15\n",
            "146/145 [==============================] - 130s 892ms/step - loss: 0.5384 - accuracy: 0.8868 - val_loss: 0.5568 - val_accuracy: 0.8726 - lr: 0.0010\n",
            "Epoch 3/15\n",
            "146/145 [==============================] - 131s 896ms/step - loss: 0.5076 - accuracy: 0.9023 - val_loss: 0.5441 - val_accuracy: 0.8985 - lr: 0.0010\n",
            "Epoch 4/15\n",
            "146/145 [==============================] - 130s 893ms/step - loss: 0.4577 - accuracy: 0.9165 - val_loss: 0.5055 - val_accuracy: 0.9174 - lr: 0.0010\n",
            "Epoch 5/15\n",
            "146/145 [==============================] - 130s 893ms/step - loss: 0.4514 - accuracy: 0.9221 - val_loss: 0.3981 - val_accuracy: 0.9432 - lr: 0.0010\n",
            "Epoch 6/15\n",
            "146/145 [==============================] - 130s 892ms/step - loss: 0.4299 - accuracy: 0.9367 - val_loss: 0.4840 - val_accuracy: 0.9088 - lr: 0.0010\n",
            "Epoch 7/15\n",
            "146/145 [==============================] - 130s 891ms/step - loss: 0.4326 - accuracy: 0.9294 - val_loss: 0.4110 - val_accuracy: 0.9380 - lr: 0.0010\n",
            "Epoch 8/15\n",
            "146/145 [==============================] - 131s 897ms/step - loss: 0.3936 - accuracy: 0.9527 - val_loss: 0.3672 - val_accuracy: 0.9604 - lr: 3.0000e-04\n",
            "Epoch 9/15\n",
            "146/145 [==============================] - 128s 878ms/step - loss: 0.3744 - accuracy: 0.9583 - val_loss: 0.3592 - val_accuracy: 0.9725 - lr: 3.0000e-04\n",
            "Epoch 10/15\n",
            "146/145 [==============================] - 128s 878ms/step - loss: 0.3648 - accuracy: 0.9677 - val_loss: 0.3583 - val_accuracy: 0.9707 - lr: 3.0000e-04\n",
            "Epoch 11/15\n",
            "146/145 [==============================] - 130s 887ms/step - loss: 0.3701 - accuracy: 0.9617 - val_loss: 0.3685 - val_accuracy: 0.9552 - lr: 3.0000e-04\n",
            "Epoch 12/15\n",
            "146/145 [==============================] - 131s 898ms/step - loss: 0.3614 - accuracy: 0.9651 - val_loss: 0.3531 - val_accuracy: 0.9742 - lr: 3.0000e-04\n",
            "Epoch 13/15\n",
            "146/145 [==============================] - 131s 897ms/step - loss: 0.3620 - accuracy: 0.9699 - val_loss: 0.3425 - val_accuracy: 0.9759 - lr: 3.0000e-04\n",
            "Epoch 14/15\n",
            "146/145 [==============================] - 131s 896ms/step - loss: 0.3503 - accuracy: 0.9725 - val_loss: 0.3492 - val_accuracy: 0.9690 - lr: 3.0000e-04\n",
            "Epoch 15/15\n",
            "146/145 [==============================] - 131s 895ms/step - loss: 0.3588 - accuracy: 0.9694 - val_loss: 0.3563 - val_accuracy: 0.9707 - lr: 3.0000e-04\n",
            "37/36 [==============================] - 21s 563ms/step\n"
          ],
          "name": "stdout"
        }
      ]
    },
    {
      "cell_type": "code",
      "metadata": {
        "id": "F2O_Kf-EG0jw",
        "colab_type": "code",
        "colab": {
          "base_uri": "https://localhost:8080/",
          "height": 100
        },
        "outputId": "8c464c5a-bbd1-4dfc-b40e-8a6de447ed9d"
      },
      "source": [
        "accuracy"
      ],
      "execution_count": 32,
      "outputs": [
        {
          "output_type": "execute_result",
          "data": {
            "text/plain": [
              "[0.9759036144578314,\n",
              " 0.9672977624784854,\n",
              " 0.9845094664371773,\n",
              " 0.9759036144578314,\n",
              " 0.9621342512908778]"
            ]
          },
          "metadata": {
            "tags": []
          },
          "execution_count": 32
        }
      ]
    },
    {
      "cell_type": "code",
      "metadata": {
        "id": "HqbPhuFC2vJR",
        "colab_type": "code",
        "colab": {
          "base_uri": "https://localhost:8080/",
          "height": 100
        },
        "outputId": "ef56b473-3fcf-48a7-c8a1-fd843a2bbbbd"
      },
      "source": [
        "f1_scores"
      ],
      "execution_count": 33,
      "outputs": [
        {
          "output_type": "execute_result",
          "data": {
            "text/plain": [
              "[0.9846841011524033,\n",
              " 0.9697631088730342,\n",
              " 0.9856448236696611,\n",
              " 0.9762670447641546,\n",
              " 0.9711372989150767]"
            ]
          },
          "metadata": {
            "tags": []
          },
          "execution_count": 33
        }
      ]
    },
    {
      "cell_type": "code",
      "metadata": {
        "id": "TSuiEZvPPJ1k",
        "colab_type": "code",
        "colab": {
          "base_uri": "https://localhost:8080/",
          "height": 33
        },
        "outputId": "0a50ea07-12fb-4218-b441-0a9e3c8672a7"
      },
      "source": [
        "np.mean(f1_scores)"
      ],
      "execution_count": 34,
      "outputs": [
        {
          "output_type": "execute_result",
          "data": {
            "text/plain": [
              "0.9774992754748659"
            ]
          },
          "metadata": {
            "tags": []
          },
          "execution_count": 34
        }
      ]
    },
    {
      "cell_type": "code",
      "metadata": {
        "id": "UNawL9Id21YU",
        "colab_type": "code",
        "colab": {
          "base_uri": "https://localhost:8080/",
          "height": 1000
        },
        "outputId": "56359eb9-e845-4f2b-99ea-c1f539bcb691"
      },
      "source": [
        "for i in range(5):\n",
        "  print('--------------FOLD {}------------------'.format(i))\n",
        "  print(classification_reports[i])"
      ],
      "execution_count": 37,
      "outputs": [
        {
          "output_type": "stream",
          "text": [
            "--------------FOLD 0------------------\n",
            "              precision    recall  f1-score   support\n",
            "\n",
            "       covid       1.00      1.00      1.00        35\n",
            "      normal       0.98      0.98      0.98       276\n",
            "   pneumonia       0.98      0.97      0.98       270\n",
            "\n",
            "   micro avg       0.98      0.98      0.98       581\n",
            "   macro avg       0.99      0.98      0.98       581\n",
            "weighted avg       0.98      0.98      0.98       581\n",
            " samples avg       0.98      0.98      0.98       581\n",
            "\n",
            "--------------FOLD 1------------------\n",
            "              precision    recall  f1-score   support\n",
            "\n",
            "       covid       0.98      0.96      0.97        54\n",
            "      normal       0.96      0.98      0.97       267\n",
            "   pneumonia       0.98      0.95      0.97       260\n",
            "\n",
            "   micro avg       0.97      0.97      0.97       581\n",
            "   macro avg       0.97      0.97      0.97       581\n",
            "weighted avg       0.97      0.97      0.97       581\n",
            " samples avg       0.97      0.97      0.97       581\n",
            "\n",
            "--------------FOLD 2------------------\n",
            "              precision    recall  f1-score   support\n",
            "\n",
            "       covid       0.98      1.00      0.99        44\n",
            "      normal       0.98      0.99      0.99       278\n",
            "   pneumonia       0.99      0.97      0.98       259\n",
            "\n",
            "   micro avg       0.98      0.98      0.98       581\n",
            "   macro avg       0.98      0.99      0.99       581\n",
            "weighted avg       0.98      0.98      0.98       581\n",
            " samples avg       0.98      0.98      0.98       581\n",
            "\n",
            "--------------FOLD 3------------------\n",
            "              precision    recall  f1-score   support\n",
            "\n",
            "       covid       1.00      0.96      0.98        45\n",
            "      normal       0.95      1.00      0.97       253\n",
            "   pneumonia       1.00      0.96      0.98       283\n",
            "\n",
            "   micro avg       0.98      0.98      0.98       581\n",
            "   macro avg       0.98      0.97      0.98       581\n",
            "weighted avg       0.98      0.98      0.98       581\n",
            " samples avg       0.98      0.98      0.98       581\n",
            "\n",
            "--------------FOLD 4------------------\n",
            "              precision    recall  f1-score   support\n",
            "\n",
            "       covid       1.00      0.98      0.99        41\n",
            "      normal       0.94      0.99      0.96       267\n",
            "   pneumonia       1.00      0.93      0.96       273\n",
            "\n",
            "   micro avg       0.97      0.96      0.96       581\n",
            "   macro avg       0.98      0.97      0.97       581\n",
            "weighted avg       0.97      0.96      0.96       581\n",
            " samples avg       0.96      0.96      0.96       581\n",
            "\n"
          ],
          "name": "stdout"
        }
      ]
    },
    {
      "cell_type": "code",
      "metadata": {
        "id": "G4RYUVli3DFe",
        "colab_type": "code",
        "colab": {}
      },
      "source": [
        "print(classification_reports[0])"
      ],
      "execution_count": 0,
      "outputs": []
    }
  ]
}