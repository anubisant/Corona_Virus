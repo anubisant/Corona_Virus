{
  "nbformat": 4,
  "nbformat_minor": 0,
  "metadata": {
    "colab": {
      "name": "Corona_aug.ipynb",
      "provenance": [],
      "collapsed_sections": []
    },
    "kernelspec": {
      "name": "python3",
      "display_name": "Python 3"
    },
    "accelerator": "GPU"
  },
  "cells": [
    {
      "cell_type": "code",
      "metadata": {
        "id": "Hx_mNhZ0f6Pa",
        "colab_type": "code",
        "colab": {}
      },
      "source": [
        "#https://arxiv.org/ftp/arxiv/papers/2003/2003.13145.pdf"
      ],
      "execution_count": 0,
      "outputs": []
    },
    {
      "cell_type": "code",
      "metadata": {
        "id": "pnxTswzLt9gQ",
        "colab_type": "code",
        "outputId": "9043c2e6-a628-47e3-9730-af4968705ddc",
        "colab": {
          "base_uri": "https://localhost:8080/",
          "height": 146
        }
      },
      "source": [
        "!git clone https://github.com/mjkvaak/ImageDataAugmentor.git"
      ],
      "execution_count": 2,
      "outputs": [
        {
          "output_type": "stream",
          "text": [
            "Cloning into 'ImageDataAugmentor'...\n",
            "remote: Enumerating objects: 98, done.\u001b[K\n",
            "remote: Counting objects: 100% (98/98), done.\u001b[K\n",
            "remote: Compressing objects: 100% (81/81), done.\u001b[K\n",
            "remote: Total 263 (delta 54), reused 38 (delta 15), pack-reused 165\u001b[K\n",
            "Receiving objects: 100% (263/263), 130.33 KiB | 373.00 KiB/s, done.\n",
            "Resolving deltas: 100% (153/153), done.\n"
          ],
          "name": "stdout"
        }
      ]
    },
    {
      "cell_type": "code",
      "metadata": {
        "id": "eAPVcU9Puz8w",
        "colab_type": "code",
        "outputId": "ae4c460f-a072-4bbc-a3ea-d3cd7faab930",
        "colab": {
          "base_uri": "https://localhost:8080/",
          "height": 35
        }
      },
      "source": [
        "from ImageDataAugmentor.image_data_augmentor import *"
      ],
      "execution_count": 3,
      "outputs": [
        {
          "output_type": "stream",
          "text": [
            "Using TensorFlow backend.\n"
          ],
          "name": "stderr"
        }
      ]
    },
    {
      "cell_type": "code",
      "metadata": {
        "id": "e7sE0AGtdF-9",
        "colab_type": "code",
        "outputId": "edd31cd3-5dd9-44b1-f6b6-995040f3f175",
        "colab": {
          "base_uri": "https://localhost:8080/",
          "height": 35
        }
      },
      "source": [
        "#Setup Kaggle DIR; copy json file ; chmod\n",
        "!mkdir -p ~/.kaggle\n",
        "!cp kaggle.json ~/.kaggle/\n",
        "!chmod 600 ~/.kaggle/kaggle.json\n",
        "!ls ~/.kaggle"
      ],
      "execution_count": 4,
      "outputs": [
        {
          "output_type": "stream",
          "text": [
            "kaggle.json\n"
          ],
          "name": "stdout"
        }
      ]
    },
    {
      "cell_type": "code",
      "metadata": {
        "id": "zh39xDtzdTyM",
        "colab_type": "code",
        "outputId": "e1d9f191-a802-4dad-de48-ce3948b2fc68",
        "colab": {
          "base_uri": "https://localhost:8080/",
          "height": 146
        }
      },
      "source": [
        "\n",
        "#Install kaggle packages\n",
        "!pip install -q kaggle\n",
        "!pip install -q kaggle-cli"
      ],
      "execution_count": 5,
      "outputs": [
        {
          "output_type": "stream",
          "text": [
            "\u001b[K     |████████████████████████████████| 81kB 1.4MB/s \n",
            "\u001b[K     |████████████████████████████████| 5.3MB 3.5MB/s \n",
            "\u001b[K     |████████████████████████████████| 112kB 25.1MB/s \n",
            "\u001b[K     |████████████████████████████████| 51kB 5.6MB/s \n",
            "\u001b[K     |████████████████████████████████| 112kB 32.1MB/s \n",
            "\u001b[?25h  Building wheel for kaggle-cli (setup.py) ... \u001b[?25l\u001b[?25hdone\n",
            "  Building wheel for pyperclip (setup.py) ... \u001b[?25l\u001b[?25hdone\n"
          ],
          "name": "stdout"
        }
      ]
    },
    {
      "cell_type": "code",
      "metadata": {
        "id": "rNziR1SddUWX",
        "colab_type": "code",
        "outputId": "ca7b3579-b145-441c-e256-6a38561d300d",
        "colab": {
          "base_uri": "https://localhost:8080/",
          "height": 111
        }
      },
      "source": [
        "#!kaggle datasets list\n",
        "!kaggle datasets list -s tawsifurrahman/covid19-radiography-database"
      ],
      "execution_count": 6,
      "outputs": [
        {
          "output_type": "stream",
          "text": [
            "Warning: Looks like you're using an outdated API Version, please consider updating (server 1.5.6 / client 1.5.4)\n",
            "ref                                          title                          size  lastUpdated          downloadCount  \n",
            "-------------------------------------------  -----------------------------  ----  -------------------  -------------  \n",
            "tawsifurrahman/covid19-radiography-database  COVID-19 Radiography Database   1GB  2020-03-28 23:36:00            124  \n"
          ],
          "name": "stdout"
        }
      ]
    },
    {
      "cell_type": "code",
      "metadata": {
        "id": "FQynPUuEdmm5",
        "colab_type": "code",
        "outputId": "4f0005f5-6b92-4f8c-eb1f-c6b9c3643a8e",
        "colab": {
          "base_uri": "https://localhost:8080/",
          "height": 72
        }
      },
      "source": [
        "!kaggle datasets download -d tawsifurrahman/covid19-radiography-database"
      ],
      "execution_count": 7,
      "outputs": [
        {
          "output_type": "stream",
          "text": [
            "Downloading covid19-radiography-database.zip to /content\n",
            " 99% 1.14G/1.15G [00:41<00:00, 33.8MB/s]\n",
            "100% 1.15G/1.15G [00:41<00:00, 29.7MB/s]\n"
          ],
          "name": "stdout"
        }
      ]
    },
    {
      "cell_type": "code",
      "metadata": {
        "id": "QAUSKsFVdzgo",
        "colab_type": "code",
        "colab": {}
      },
      "source": [
        "%%capture\n",
        "!unzip covid19-radiography-database.zip"
      ],
      "execution_count": 0,
      "outputs": []
    },
    {
      "cell_type": "code",
      "metadata": {
        "id": "RwXvgE7NeovP",
        "colab_type": "code",
        "colab": {}
      },
      "source": [
        "%%capture\n",
        "!pip install efficientnet"
      ],
      "execution_count": 0,
      "outputs": []
    },
    {
      "cell_type": "code",
      "metadata": {
        "id": "d5TW5jEhnY_3",
        "colab_type": "code",
        "colab": {}
      },
      "source": [
        "import glob\n",
        "import pandas as pd\n",
        "import os\n",
        "import numpy as np"
      ],
      "execution_count": 0,
      "outputs": []
    },
    {
      "cell_type": "code",
      "metadata": {
        "id": "6-BUg9tQjv3L",
        "colab_type": "code",
        "colab": {}
      },
      "source": [
        "\n",
        "covid=os.listdir('/content/COVID-19 Radiography Database/COVID-19')\n",
        "normal=os.listdir('/content/COVID-19 Radiography Database/NORMAL')\n",
        "pneumonia=os.listdir('/content/COVID-19 Radiography Database/Viral Pneumonia')\n"
      ],
      "execution_count": 0,
      "outputs": []
    },
    {
      "cell_type": "code",
      "metadata": {
        "id": "IjSQ-HF0lny3",
        "colab_type": "code",
        "outputId": "bf803411-a2dd-43f5-b031-31a17eae745c",
        "colab": {
          "base_uri": "https://localhost:8080/",
          "height": 206
        }
      },
      "source": [
        "cov=list(zip(covid,['covid']*(len(covid))))\n",
        "covid_df = pd.DataFrame(cov,columns=['file','label']) \n",
        "covid_df.head()"
      ],
      "execution_count": 12,
      "outputs": [
        {
          "output_type": "execute_result",
          "data": {
            "text/html": [
              "<div>\n",
              "<style scoped>\n",
              "    .dataframe tbody tr th:only-of-type {\n",
              "        vertical-align: middle;\n",
              "    }\n",
              "\n",
              "    .dataframe tbody tr th {\n",
              "        vertical-align: top;\n",
              "    }\n",
              "\n",
              "    .dataframe thead th {\n",
              "        text-align: right;\n",
              "    }\n",
              "</style>\n",
              "<table border=\"1\" class=\"dataframe\">\n",
              "  <thead>\n",
              "    <tr style=\"text-align: right;\">\n",
              "      <th></th>\n",
              "      <th>file</th>\n",
              "      <th>label</th>\n",
              "    </tr>\n",
              "  </thead>\n",
              "  <tbody>\n",
              "    <tr>\n",
              "      <th>0</th>\n",
              "      <td>COVID-19 (48).png</td>\n",
              "      <td>covid</td>\n",
              "    </tr>\n",
              "    <tr>\n",
              "      <th>1</th>\n",
              "      <td>COVID-19(178).png</td>\n",
              "      <td>covid</td>\n",
              "    </tr>\n",
              "    <tr>\n",
              "      <th>2</th>\n",
              "      <td>COVID-19(180).png</td>\n",
              "      <td>covid</td>\n",
              "    </tr>\n",
              "    <tr>\n",
              "      <th>3</th>\n",
              "      <td>COVID-19 (19).png</td>\n",
              "      <td>covid</td>\n",
              "    </tr>\n",
              "    <tr>\n",
              "      <th>4</th>\n",
              "      <td>COVID-19(155).png</td>\n",
              "      <td>covid</td>\n",
              "    </tr>\n",
              "  </tbody>\n",
              "</table>\n",
              "</div>"
            ],
            "text/plain": [
              "                file  label\n",
              "0  COVID-19 (48).png  covid\n",
              "1  COVID-19(178).png  covid\n",
              "2  COVID-19(180).png  covid\n",
              "3  COVID-19 (19).png  covid\n",
              "4  COVID-19(155).png  covid"
            ]
          },
          "metadata": {
            "tags": []
          },
          "execution_count": 12
        }
      ]
    },
    {
      "cell_type": "code",
      "metadata": {
        "id": "NPb6WURumZl_",
        "colab_type": "code",
        "outputId": "5db8df7a-f11b-404b-e39b-03fee0768562",
        "colab": {
          "base_uri": "https://localhost:8080/",
          "height": 206
        }
      },
      "source": [
        "norm=list(zip(normal,['normal']*(len(normal))))\n",
        "normal_df = pd.DataFrame(norm,columns=['file','label']) \n",
        "normal_df.head()"
      ],
      "execution_count": 13,
      "outputs": [
        {
          "output_type": "execute_result",
          "data": {
            "text/html": [
              "<div>\n",
              "<style scoped>\n",
              "    .dataframe tbody tr th:only-of-type {\n",
              "        vertical-align: middle;\n",
              "    }\n",
              "\n",
              "    .dataframe tbody tr th {\n",
              "        vertical-align: top;\n",
              "    }\n",
              "\n",
              "    .dataframe thead th {\n",
              "        text-align: right;\n",
              "    }\n",
              "</style>\n",
              "<table border=\"1\" class=\"dataframe\">\n",
              "  <thead>\n",
              "    <tr style=\"text-align: right;\">\n",
              "      <th></th>\n",
              "      <th>file</th>\n",
              "      <th>label</th>\n",
              "    </tr>\n",
              "  </thead>\n",
              "  <tbody>\n",
              "    <tr>\n",
              "      <th>0</th>\n",
              "      <td>NORMAL (110).png</td>\n",
              "      <td>normal</td>\n",
              "    </tr>\n",
              "    <tr>\n",
              "      <th>1</th>\n",
              "      <td>NORMAL (360).png</td>\n",
              "      <td>normal</td>\n",
              "    </tr>\n",
              "    <tr>\n",
              "      <th>2</th>\n",
              "      <td>NORMAL (131).png</td>\n",
              "      <td>normal</td>\n",
              "    </tr>\n",
              "    <tr>\n",
              "      <th>3</th>\n",
              "      <td>NORMAL (662).png</td>\n",
              "      <td>normal</td>\n",
              "    </tr>\n",
              "    <tr>\n",
              "      <th>4</th>\n",
              "      <td>NORMAL (1009).png</td>\n",
              "      <td>normal</td>\n",
              "    </tr>\n",
              "  </tbody>\n",
              "</table>\n",
              "</div>"
            ],
            "text/plain": [
              "                file   label\n",
              "0   NORMAL (110).png  normal\n",
              "1   NORMAL (360).png  normal\n",
              "2   NORMAL (131).png  normal\n",
              "3   NORMAL (662).png  normal\n",
              "4  NORMAL (1009).png  normal"
            ]
          },
          "metadata": {
            "tags": []
          },
          "execution_count": 13
        }
      ]
    },
    {
      "cell_type": "code",
      "metadata": {
        "id": "e5qFiQlwkyYI",
        "colab_type": "code",
        "outputId": "dd13ed94-b59c-486a-cc86-5354781a0ca7",
        "colab": {
          "base_uri": "https://localhost:8080/",
          "height": 206
        }
      },
      "source": [
        "pneumonia=list(zip(pneumonia,['pneumonia']*(len(pneumonia))*2))\n",
        "pneumonia_df = pd.DataFrame(pneumonia,columns=['file','label']) \n",
        "pneumonia_df.head()"
      ],
      "execution_count": 14,
      "outputs": [
        {
          "output_type": "execute_result",
          "data": {
            "text/html": [
              "<div>\n",
              "<style scoped>\n",
              "    .dataframe tbody tr th:only-of-type {\n",
              "        vertical-align: middle;\n",
              "    }\n",
              "\n",
              "    .dataframe tbody tr th {\n",
              "        vertical-align: top;\n",
              "    }\n",
              "\n",
              "    .dataframe thead th {\n",
              "        text-align: right;\n",
              "    }\n",
              "</style>\n",
              "<table border=\"1\" class=\"dataframe\">\n",
              "  <thead>\n",
              "    <tr style=\"text-align: right;\">\n",
              "      <th></th>\n",
              "      <th>file</th>\n",
              "      <th>label</th>\n",
              "    </tr>\n",
              "  </thead>\n",
              "  <tbody>\n",
              "    <tr>\n",
              "      <th>0</th>\n",
              "      <td>Viral Pneumonia (1067).png</td>\n",
              "      <td>pneumonia</td>\n",
              "    </tr>\n",
              "    <tr>\n",
              "      <th>1</th>\n",
              "      <td>Viral Pneumonia (1094).png</td>\n",
              "      <td>pneumonia</td>\n",
              "    </tr>\n",
              "    <tr>\n",
              "      <th>2</th>\n",
              "      <td>Viral Pneumonia (1287).png</td>\n",
              "      <td>pneumonia</td>\n",
              "    </tr>\n",
              "    <tr>\n",
              "      <th>3</th>\n",
              "      <td>Viral Pneumonia (1218).png</td>\n",
              "      <td>pneumonia</td>\n",
              "    </tr>\n",
              "    <tr>\n",
              "      <th>4</th>\n",
              "      <td>Viral Pneumonia (876).png</td>\n",
              "      <td>pneumonia</td>\n",
              "    </tr>\n",
              "  </tbody>\n",
              "</table>\n",
              "</div>"
            ],
            "text/plain": [
              "                         file      label\n",
              "0  Viral Pneumonia (1067).png  pneumonia\n",
              "1  Viral Pneumonia (1094).png  pneumonia\n",
              "2  Viral Pneumonia (1287).png  pneumonia\n",
              "3  Viral Pneumonia (1218).png  pneumonia\n",
              "4   Viral Pneumonia (876).png  pneumonia"
            ]
          },
          "metadata": {
            "tags": []
          },
          "execution_count": 14
        }
      ]
    },
    {
      "cell_type": "code",
      "metadata": {
        "id": "9DDgLUjwlKIQ",
        "colab_type": "code",
        "outputId": "56699827-8940-4561-893e-5171f5aaf2bd",
        "colab": {
          "base_uri": "https://localhost:8080/",
          "height": 206
        }
      },
      "source": [
        "dataframe=pd.concat([covid_df,normal_df,pneumonia_df])\n",
        "dataframe.head()"
      ],
      "execution_count": 15,
      "outputs": [
        {
          "output_type": "execute_result",
          "data": {
            "text/html": [
              "<div>\n",
              "<style scoped>\n",
              "    .dataframe tbody tr th:only-of-type {\n",
              "        vertical-align: middle;\n",
              "    }\n",
              "\n",
              "    .dataframe tbody tr th {\n",
              "        vertical-align: top;\n",
              "    }\n",
              "\n",
              "    .dataframe thead th {\n",
              "        text-align: right;\n",
              "    }\n",
              "</style>\n",
              "<table border=\"1\" class=\"dataframe\">\n",
              "  <thead>\n",
              "    <tr style=\"text-align: right;\">\n",
              "      <th></th>\n",
              "      <th>file</th>\n",
              "      <th>label</th>\n",
              "    </tr>\n",
              "  </thead>\n",
              "  <tbody>\n",
              "    <tr>\n",
              "      <th>0</th>\n",
              "      <td>COVID-19 (48).png</td>\n",
              "      <td>covid</td>\n",
              "    </tr>\n",
              "    <tr>\n",
              "      <th>1</th>\n",
              "      <td>COVID-19(178).png</td>\n",
              "      <td>covid</td>\n",
              "    </tr>\n",
              "    <tr>\n",
              "      <th>2</th>\n",
              "      <td>COVID-19(180).png</td>\n",
              "      <td>covid</td>\n",
              "    </tr>\n",
              "    <tr>\n",
              "      <th>3</th>\n",
              "      <td>COVID-19 (19).png</td>\n",
              "      <td>covid</td>\n",
              "    </tr>\n",
              "    <tr>\n",
              "      <th>4</th>\n",
              "      <td>COVID-19(155).png</td>\n",
              "      <td>covid</td>\n",
              "    </tr>\n",
              "  </tbody>\n",
              "</table>\n",
              "</div>"
            ],
            "text/plain": [
              "                file  label\n",
              "0  COVID-19 (48).png  covid\n",
              "1  COVID-19(178).png  covid\n",
              "2  COVID-19(180).png  covid\n",
              "3  COVID-19 (19).png  covid\n",
              "4  COVID-19(155).png  covid"
            ]
          },
          "metadata": {
            "tags": []
          },
          "execution_count": 15
        }
      ]
    },
    {
      "cell_type": "code",
      "metadata": {
        "id": "HsaG153kksOV",
        "colab_type": "code",
        "outputId": "690adbfa-6cc7-4f7a-9175-f634949d1958",
        "colab": {
          "base_uri": "https://localhost:8080/",
          "height": 206
        }
      },
      "source": [
        "df = pd.get_dummies(dataframe['label'])\n",
        "df.head()"
      ],
      "execution_count": 16,
      "outputs": [
        {
          "output_type": "execute_result",
          "data": {
            "text/html": [
              "<div>\n",
              "<style scoped>\n",
              "    .dataframe tbody tr th:only-of-type {\n",
              "        vertical-align: middle;\n",
              "    }\n",
              "\n",
              "    .dataframe tbody tr th {\n",
              "        vertical-align: top;\n",
              "    }\n",
              "\n",
              "    .dataframe thead th {\n",
              "        text-align: right;\n",
              "    }\n",
              "</style>\n",
              "<table border=\"1\" class=\"dataframe\">\n",
              "  <thead>\n",
              "    <tr style=\"text-align: right;\">\n",
              "      <th></th>\n",
              "      <th>covid</th>\n",
              "      <th>normal</th>\n",
              "      <th>pneumonia</th>\n",
              "    </tr>\n",
              "  </thead>\n",
              "  <tbody>\n",
              "    <tr>\n",
              "      <th>0</th>\n",
              "      <td>1</td>\n",
              "      <td>0</td>\n",
              "      <td>0</td>\n",
              "    </tr>\n",
              "    <tr>\n",
              "      <th>1</th>\n",
              "      <td>1</td>\n",
              "      <td>0</td>\n",
              "      <td>0</td>\n",
              "    </tr>\n",
              "    <tr>\n",
              "      <th>2</th>\n",
              "      <td>1</td>\n",
              "      <td>0</td>\n",
              "      <td>0</td>\n",
              "    </tr>\n",
              "    <tr>\n",
              "      <th>3</th>\n",
              "      <td>1</td>\n",
              "      <td>0</td>\n",
              "      <td>0</td>\n",
              "    </tr>\n",
              "    <tr>\n",
              "      <th>4</th>\n",
              "      <td>1</td>\n",
              "      <td>0</td>\n",
              "      <td>0</td>\n",
              "    </tr>\n",
              "  </tbody>\n",
              "</table>\n",
              "</div>"
            ],
            "text/plain": [
              "   covid  normal  pneumonia\n",
              "0      1       0          0\n",
              "1      1       0          0\n",
              "2      1       0          0\n",
              "3      1       0          0\n",
              "4      1       0          0"
            ]
          },
          "metadata": {
            "tags": []
          },
          "execution_count": 16
        }
      ]
    },
    {
      "cell_type": "code",
      "metadata": {
        "id": "GD9oXFKskFAT",
        "colab_type": "code",
        "outputId": "5168295b-d01d-452c-93bc-713cfde9eae3",
        "colab": {
          "base_uri": "https://localhost:8080/",
          "height": 206
        }
      },
      "source": [
        "df = pd.concat([dataframe, df], axis=1)\n",
        "df.head()"
      ],
      "execution_count": 17,
      "outputs": [
        {
          "output_type": "execute_result",
          "data": {
            "text/html": [
              "<div>\n",
              "<style scoped>\n",
              "    .dataframe tbody tr th:only-of-type {\n",
              "        vertical-align: middle;\n",
              "    }\n",
              "\n",
              "    .dataframe tbody tr th {\n",
              "        vertical-align: top;\n",
              "    }\n",
              "\n",
              "    .dataframe thead th {\n",
              "        text-align: right;\n",
              "    }\n",
              "</style>\n",
              "<table border=\"1\" class=\"dataframe\">\n",
              "  <thead>\n",
              "    <tr style=\"text-align: right;\">\n",
              "      <th></th>\n",
              "      <th>file</th>\n",
              "      <th>label</th>\n",
              "      <th>covid</th>\n",
              "      <th>normal</th>\n",
              "      <th>pneumonia</th>\n",
              "    </tr>\n",
              "  </thead>\n",
              "  <tbody>\n",
              "    <tr>\n",
              "      <th>0</th>\n",
              "      <td>COVID-19 (48).png</td>\n",
              "      <td>covid</td>\n",
              "      <td>1</td>\n",
              "      <td>0</td>\n",
              "      <td>0</td>\n",
              "    </tr>\n",
              "    <tr>\n",
              "      <th>1</th>\n",
              "      <td>COVID-19(178).png</td>\n",
              "      <td>covid</td>\n",
              "      <td>1</td>\n",
              "      <td>0</td>\n",
              "      <td>0</td>\n",
              "    </tr>\n",
              "    <tr>\n",
              "      <th>2</th>\n",
              "      <td>COVID-19(180).png</td>\n",
              "      <td>covid</td>\n",
              "      <td>1</td>\n",
              "      <td>0</td>\n",
              "      <td>0</td>\n",
              "    </tr>\n",
              "    <tr>\n",
              "      <th>3</th>\n",
              "      <td>COVID-19 (19).png</td>\n",
              "      <td>covid</td>\n",
              "      <td>1</td>\n",
              "      <td>0</td>\n",
              "      <td>0</td>\n",
              "    </tr>\n",
              "    <tr>\n",
              "      <th>4</th>\n",
              "      <td>COVID-19(155).png</td>\n",
              "      <td>covid</td>\n",
              "      <td>1</td>\n",
              "      <td>0</td>\n",
              "      <td>0</td>\n",
              "    </tr>\n",
              "  </tbody>\n",
              "</table>\n",
              "</div>"
            ],
            "text/plain": [
              "                file  label  covid  normal  pneumonia\n",
              "0  COVID-19 (48).png  covid      1       0          0\n",
              "1  COVID-19(178).png  covid      1       0          0\n",
              "2  COVID-19(180).png  covid      1       0          0\n",
              "3  COVID-19 (19).png  covid      1       0          0\n",
              "4  COVID-19(155).png  covid      1       0          0"
            ]
          },
          "metadata": {
            "tags": []
          },
          "execution_count": 17
        }
      ]
    },
    {
      "cell_type": "code",
      "metadata": {
        "id": "BJlGUf0xpbJK",
        "colab_type": "code",
        "colab": {}
      },
      "source": [
        "df=df.sample(frac=1)"
      ],
      "execution_count": 0,
      "outputs": []
    },
    {
      "cell_type": "code",
      "metadata": {
        "id": "BVbMw1PLkC6Q",
        "colab_type": "code",
        "colab": {}
      },
      "source": [
        "!mkdir data"
      ],
      "execution_count": 0,
      "outputs": []
    },
    {
      "cell_type": "code",
      "metadata": {
        "id": "5tVw5aP6qSpS",
        "colab_type": "code",
        "colab": {}
      },
      "source": [
        "!cp -r /content/COVID-19\\ Radiography\\ Database/COVID-19/* data\n"
      ],
      "execution_count": 0,
      "outputs": []
    },
    {
      "cell_type": "code",
      "metadata": {
        "id": "AOT0dpOkjv8R",
        "colab_type": "code",
        "colab": {}
      },
      "source": [
        "!cp -r /content/COVID-19\\ Radiography\\ Database/NORMAL/* data\n"
      ],
      "execution_count": 0,
      "outputs": []
    },
    {
      "cell_type": "code",
      "metadata": {
        "id": "gv8Xa1e5jv_q",
        "colab_type": "code",
        "colab": {}
      },
      "source": [
        "!cp -r /content/COVID-19\\ Radiography\\ Database/Viral\\ Pneumonia/* data\n"
      ],
      "execution_count": 0,
      "outputs": []
    },
    {
      "cell_type": "code",
      "metadata": {
        "id": "NCH8fGHBfDVf",
        "colab_type": "code",
        "colab": {}
      },
      "source": [
        "import numpy as np # linear algebra\n",
        "import pandas as pd # data processing, CSV file I/O (e.g. pd.read_csv)\n",
        "import matplotlib.pyplot as plt\n",
        "from albumentations import *\n"
      ],
      "execution_count": 0,
      "outputs": []
    },
    {
      "cell_type": "code",
      "metadata": {
        "id": "InkYbh3KvPTR",
        "colab_type": "code",
        "colab": {}
      },
      "source": [
        "aug=Compose([\n",
        "        RandomRotate90(),\n",
        "        Flip(),\n",
        "        Transpose(),\n",
        "        OneOf([\n",
        "            IAAAdditiveGaussianNoise(),\n",
        "            GaussNoise(),\n",
        "            \n",
        "        ], p=0.2),\n",
        "        OneOf([\n",
        "            MotionBlur(p=.2),\n",
        "            MedianBlur(blur_limit=3, p=.1),\n",
        "            Blur(blur_limit=3, p=.1),\n",
        "        ], p=0.3),\n",
        "        ShiftScaleRotate(shift_limit=0.0625, scale_limit=0.2, rotate_limit=45, p=.2),\n",
        "        OneOf([\n",
        "            OpticalDistortion(p=0.3),\n",
        "            GridDistortion(p=.1),\n",
        "            IAAPiecewiseAffine(p=0.3),\n",
        "        ], p=0.3),\n",
        "        OneOf([\n",
        "            CLAHE(clip_limit=2),\n",
        "            IAASharpen(),\n",
        "            IAAEmboss(),\n",
        "            RandomContrast(),\n",
        "            RandomBrightness(),\n",
        "        ], p=0.3),\n",
        "        #HueSaturationValue(p=0.3),\n",
        "    ], p=1)"
      ],
      "execution_count": 0,
      "outputs": []
    },
    {
      "cell_type": "code",
      "metadata": {
        "id": "C0xQzjdywEO1",
        "colab_type": "code",
        "colab": {}
      },
      "source": [
        ""
      ],
      "execution_count": 0,
      "outputs": []
    },
    {
      "cell_type": "code",
      "metadata": {
        "id": "VByl228IfKB2",
        "colab_type": "code",
        "colab": {}
      },
      "source": [
        "#from keras_preprocessing.image import ImageDataGenerator\n",
        "from ImageDataAugmentor.image_data_augmentor import *\n",
        "data_gen= ImageDataAugmentor(\n",
        "    #horizontal_flip=True,\n",
        "    #vertical_flip=True,\n",
        "    #rotation_range=90,\n",
        "    # width_shift_range=0.2,\n",
        "    # height_shift_range=0.2,\n",
        "    # zoom_range=.2,\n",
        "    rescale=1/255,\n",
        "    # fill_mode='nearest',\n",
        "    # shear_range=0.2,\n",
        "    # brightness_range=[0.2, 2.0],\n",
        "    augment =aug)"
      ],
      "execution_count": 0,
      "outputs": []
    },
    {
      "cell_type": "code",
      "metadata": {
        "id": "wX4JK4fefMzS",
        "colab_type": "code",
        "colab": {}
      },
      "source": [
        "img_shape=300\n",
        "batch_size=16"
      ],
      "execution_count": 0,
      "outputs": []
    },
    {
      "cell_type": "code",
      "metadata": {
        "id": "94grLuQafcwc",
        "colab_type": "code",
        "colab": {}
      },
      "source": [
        "from tensorflow.keras.models import Sequential,Model\n",
        "from tensorflow.keras.layers import Activation, Dropout, Flatten, Dense, Conv2D, MaxPool2D, BatchNormalization,Input,MaxPooling2D,GlobalMaxPooling2D,concatenate\n",
        "from tensorflow.keras.layers import GlobalAveragePooling2D\n",
        "from tensorflow.keras.applications.resnet50 import ResNet50\n",
        "from tensorflow.keras.callbacks import ModelCheckpoint,ReduceLROnPlateau\n",
        "from tensorflow.keras.optimizers import Adam\n",
        "import tensorflow.keras.backend as K\n",
        "import tensorflow as tf"
      ],
      "execution_count": 0,
      "outputs": []
    },
    {
      "cell_type": "code",
      "metadata": {
        "id": "ENgCMgtw8o0p",
        "colab_type": "code",
        "outputId": "ea1b539c-1ef2-4d76-c43c-5dd69f426d45",
        "colab": {
          "base_uri": "https://localhost:8080/",
          "height": 1000
        }
      },
      "source": [
        "from sklearn.model_selection import KFold\n",
        "import gc\n",
        "\n",
        "from sklearn.metrics import classification_report,accuracy_score,f1_score\n",
        "classification_reports=[]\n",
        "kf = KFold(n_splits=5)\n",
        "history=[]\n",
        "accuracy=[]\n",
        "f1_scores=[]\n",
        "fold=0\n",
        "for train_index, test_index in kf.split(df):\n",
        "  train=df.iloc[train_index,:]\n",
        "  val=df.iloc[test_index,:]\n",
        "  print('-----------fold {}--------------'.format(fold))\n",
        "  train_generator=data_gen.flow_from_dataframe(train,directory='data',\n",
        "                                                      target_size=(img_shape,img_shape),\n",
        "                                                      x_col=\"file\",\n",
        "                                                      y_col=['covid','normal','pneumonia'],\n",
        "                                                      class_mode='raw',\n",
        "                                                      shuffle=True,\n",
        "                                                      batch_size=batch_size)\n",
        "\n",
        "  val_generator=data_gen.flow_from_dataframe(val,directory='data',\n",
        "                                                        target_size=(img_shape,img_shape),\n",
        "                                                        x_col=\"file\",\n",
        "                                                        y_col=['covid','normal','pneumonia'],\n",
        "                                                        class_mode='raw',\n",
        "                                                        shuffle=False,\n",
        "                                                        batch_size=batch_size)\n",
        "  #train_generator.next()[0].shape,train_generator.next()[1].shape\n",
        "  import efficientnet.tfkeras as efn\n",
        "  model =efn.EfficientNetB4(weights ='noisy-student', include_top=False, input_shape = (img_shape,img_shape,3))\n",
        "    \n",
        "  x = model.output\n",
        "  x = GlobalAveragePooling2D()(x)\n",
        "  x = Dropout(0.3)(x)\n",
        "  x = Dense(128, activation=\"relu\")(x)\n",
        "  #x = Dropout(0.3)(x)\n",
        "  x = Dense(64, activation=\"relu\")(x)\n",
        "  predictions = Dense(3, activation=\"softmax\")(x)\n",
        "  model = Model(inputs=model.input, outputs=predictions)\n",
        "\n",
        "  def custom_loss(y_true, y_pred):\n",
        "      return tf.keras.losses.categorical_crossentropy(y_true, y_pred, label_smoothing=0.1)\n",
        "  model.compile(optimizer=Adam(0.0001), loss=custom_loss, metrics=['accuracy'])\n",
        "\n",
        "  results = model.fit(train_generator,epochs=25,\n",
        "                              steps_per_epoch=train_generator.n/batch_size,\n",
        "                              validation_data=val_generator,\n",
        "                             validation_steps=val_generator.n/batch_size,\n",
        "                              callbacks=[ReduceLROnPlateau(monitor='val_loss', factor=0.5,patience=3, min_lr=0.000001),\n",
        "                                         ModelCheckpoint('model_{}.hdf5'.format(fold), save_best_only=True, monitor='val_loss', mode='min')\n",
        "                                         ])\n",
        "  model.load_weights('model_{}.hdf5'.format(fold))\n",
        "  val_generator.reset()\n",
        "  y_pred=model.predict(val_generator,steps=val_generator.n/batch_size,verbose=1)\n",
        "  y_pred=y_pred.round().astype(int)\n",
        "  y_true=val.iloc[:,2::]\n",
        "  classification_reports.append(classification_report(y_true, y_pred,target_names=['covid','normal','pneumonia']))#\n",
        "  accuracy.append(accuracy_score(y_true,y_pred))\n",
        "  f1=f1_score(y_true,y_pred,average='macro')\n",
        "  print('f1 score is ', f1)\n",
        "  f1_scores.append(f1)\n",
        "  fold+=1\n",
        "  del model\n",
        "  tf.keras.backend.clear_session()\n",
        "  gc.collect()\n",
        "  "
      ],
      "execution_count": 38,
      "outputs": [
        {
          "output_type": "stream",
          "text": [
            "-----------fold 0--------------\n",
            "Found 2324 validated image filenames.\n",
            "Found 581 validated image filenames.\n",
            "Epoch 1/25\n",
            "146/145 [==============================] - 126s 864ms/step - loss: 0.7053 - accuracy: 0.7638 - val_loss: 0.6453 - val_accuracy: 0.8399 - lr: 1.0000e-04\n",
            "Epoch 2/25\n",
            "146/145 [==============================] - 128s 874ms/step - loss: 0.4743 - accuracy: 0.9152 - val_loss: 0.5462 - val_accuracy: 0.8623 - lr: 1.0000e-04\n",
            "Epoch 3/25\n",
            "146/145 [==============================] - 127s 867ms/step - loss: 0.4392 - accuracy: 0.9243 - val_loss: 0.4984 - val_accuracy: 0.8881 - lr: 1.0000e-04\n",
            "Epoch 4/25\n",
            "146/145 [==============================] - 123s 842ms/step - loss: 0.4218 - accuracy: 0.9290 - val_loss: 0.4285 - val_accuracy: 0.9312 - lr: 1.0000e-04\n",
            "Epoch 5/25\n",
            "146/145 [==============================] - 122s 836ms/step - loss: 0.4096 - accuracy: 0.9432 - val_loss: 0.3795 - val_accuracy: 0.9535 - lr: 1.0000e-04\n",
            "Epoch 6/25\n",
            "146/145 [==============================] - 123s 839ms/step - loss: 0.3916 - accuracy: 0.9488 - val_loss: 0.3704 - val_accuracy: 0.9570 - lr: 1.0000e-04\n",
            "Epoch 7/25\n",
            "146/145 [==============================] - 122s 838ms/step - loss: 0.3881 - accuracy: 0.9527 - val_loss: 0.3722 - val_accuracy: 0.9587 - lr: 1.0000e-04\n",
            "Epoch 8/25\n",
            "146/145 [==============================] - 118s 807ms/step - loss: 0.3721 - accuracy: 0.9596 - val_loss: 0.3544 - val_accuracy: 0.9707 - lr: 1.0000e-04\n",
            "Epoch 9/25\n",
            "146/145 [==============================] - 121s 826ms/step - loss: 0.3710 - accuracy: 0.9617 - val_loss: 0.3627 - val_accuracy: 0.9707 - lr: 1.0000e-04\n",
            "Epoch 10/25\n",
            "146/145 [==============================] - 124s 849ms/step - loss: 0.3775 - accuracy: 0.9544 - val_loss: 0.3672 - val_accuracy: 0.9621 - lr: 1.0000e-04\n",
            "Epoch 11/25\n",
            "146/145 [==============================] - 123s 839ms/step - loss: 0.3717 - accuracy: 0.9565 - val_loss: 0.3480 - val_accuracy: 0.9759 - lr: 1.0000e-04\n",
            "Epoch 12/25\n",
            "146/145 [==============================] - 125s 855ms/step - loss: 0.3587 - accuracy: 0.9651 - val_loss: 0.3629 - val_accuracy: 0.9621 - lr: 1.0000e-04\n",
            "Epoch 13/25\n",
            "146/145 [==============================] - 124s 847ms/step - loss: 0.3522 - accuracy: 0.9712 - val_loss: 0.3484 - val_accuracy: 0.9707 - lr: 1.0000e-04\n",
            "Epoch 14/25\n",
            "146/145 [==============================] - 117s 803ms/step - loss: 0.3436 - accuracy: 0.9733 - val_loss: 0.3508 - val_accuracy: 0.9742 - lr: 1.0000e-04\n",
            "Epoch 15/25\n",
            "146/145 [==============================] - 124s 849ms/step - loss: 0.3389 - accuracy: 0.9763 - val_loss: 0.3597 - val_accuracy: 0.9639 - lr: 5.0000e-05\n",
            "Epoch 16/25\n",
            "146/145 [==============================] - 124s 850ms/step - loss: 0.3439 - accuracy: 0.9733 - val_loss: 0.3460 - val_accuracy: 0.9690 - lr: 5.0000e-05\n",
            "Epoch 17/25\n",
            "146/145 [==============================] - 123s 842ms/step - loss: 0.3362 - accuracy: 0.9772 - val_loss: 0.3294 - val_accuracy: 0.9845 - lr: 5.0000e-05\n",
            "Epoch 18/25\n",
            "146/145 [==============================] - 123s 843ms/step - loss: 0.3286 - accuracy: 0.9824 - val_loss: 0.3408 - val_accuracy: 0.9759 - lr: 5.0000e-05\n",
            "Epoch 19/25\n",
            "146/145 [==============================] - 117s 803ms/step - loss: 0.3304 - accuracy: 0.9806 - val_loss: 0.3443 - val_accuracy: 0.9725 - lr: 5.0000e-05\n",
            "Epoch 20/25\n",
            "146/145 [==============================] - 123s 839ms/step - loss: 0.3279 - accuracy: 0.9828 - val_loss: 0.3386 - val_accuracy: 0.9793 - lr: 5.0000e-05\n",
            "Epoch 21/25\n",
            "146/145 [==============================] - 122s 838ms/step - loss: 0.3236 - accuracy: 0.9828 - val_loss: 0.3323 - val_accuracy: 0.9811 - lr: 2.5000e-05\n",
            "Epoch 22/25\n",
            "146/145 [==============================] - 119s 815ms/step - loss: 0.3229 - accuracy: 0.9832 - val_loss: 0.3327 - val_accuracy: 0.9828 - lr: 2.5000e-05\n",
            "Epoch 23/25\n",
            "146/145 [==============================] - 123s 844ms/step - loss: 0.3209 - accuracy: 0.9849 - val_loss: 0.3366 - val_accuracy: 0.9776 - lr: 2.5000e-05\n",
            "Epoch 24/25\n",
            "146/145 [==============================] - 124s 849ms/step - loss: 0.3179 - accuracy: 0.9884 - val_loss: 0.3288 - val_accuracy: 0.9811 - lr: 1.2500e-05\n",
            "Epoch 25/25\n",
            "146/145 [==============================] - 123s 841ms/step - loss: 0.3150 - accuracy: 0.9897 - val_loss: 0.3313 - val_accuracy: 0.9811 - lr: 1.2500e-05\n",
            "37/36 [==============================] - 20s 536ms/step\n",
            "f1 score is  0.9815409599130224\n",
            "-----------fold 1--------------\n",
            "Found 2324 validated image filenames.\n",
            "Found 581 validated image filenames.\n",
            "Epoch 1/25\n",
            "146/145 [==============================] - 125s 858ms/step - loss: 0.6876 - accuracy: 0.7741 - val_loss: 0.6076 - val_accuracy: 0.8417 - lr: 1.0000e-04\n",
            "Epoch 2/25\n",
            "146/145 [==============================] - 121s 832ms/step - loss: 0.4831 - accuracy: 0.9023 - val_loss: 0.5576 - val_accuracy: 0.8520 - lr: 1.0000e-04\n",
            "Epoch 3/25\n",
            "146/145 [==============================] - 125s 854ms/step - loss: 0.4476 - accuracy: 0.9286 - val_loss: 0.4881 - val_accuracy: 0.8985 - lr: 1.0000e-04\n",
            "Epoch 4/25\n",
            "146/145 [==============================] - 124s 848ms/step - loss: 0.4339 - accuracy: 0.9303 - val_loss: 0.3907 - val_accuracy: 0.9466 - lr: 1.0000e-04\n",
            "Epoch 5/25\n",
            "146/145 [==============================] - 121s 827ms/step - loss: 0.4139 - accuracy: 0.9389 - val_loss: 0.3746 - val_accuracy: 0.9604 - lr: 1.0000e-04\n",
            "Epoch 6/25\n",
            "146/145 [==============================] - 128s 876ms/step - loss: 0.4022 - accuracy: 0.9428 - val_loss: 0.3534 - val_accuracy: 0.9707 - lr: 1.0000e-04\n",
            "Epoch 7/25\n",
            "146/145 [==============================] - 126s 862ms/step - loss: 0.3910 - accuracy: 0.9492 - val_loss: 0.3686 - val_accuracy: 0.9604 - lr: 1.0000e-04\n",
            "Epoch 8/25\n",
            "146/145 [==============================] - 122s 832ms/step - loss: 0.3882 - accuracy: 0.9492 - val_loss: 0.3639 - val_accuracy: 0.9639 - lr: 1.0000e-04\n",
            "Epoch 9/25\n",
            "146/145 [==============================] - 127s 871ms/step - loss: 0.3823 - accuracy: 0.9587 - val_loss: 0.3415 - val_accuracy: 0.9759 - lr: 1.0000e-04\n",
            "Epoch 10/25\n",
            "146/145 [==============================] - 122s 838ms/step - loss: 0.3648 - accuracy: 0.9656 - val_loss: 0.3439 - val_accuracy: 0.9776 - lr: 1.0000e-04\n",
            "Epoch 11/25\n",
            "146/145 [==============================] - 122s 834ms/step - loss: 0.3657 - accuracy: 0.9660 - val_loss: 0.3800 - val_accuracy: 0.9535 - lr: 1.0000e-04\n",
            "Epoch 12/25\n",
            "146/145 [==============================] - 120s 825ms/step - loss: 0.3651 - accuracy: 0.9626 - val_loss: 0.3578 - val_accuracy: 0.9639 - lr: 1.0000e-04\n",
            "Epoch 13/25\n",
            "146/145 [==============================] - 124s 849ms/step - loss: 0.3545 - accuracy: 0.9738 - val_loss: 0.3265 - val_accuracy: 0.9811 - lr: 5.0000e-05\n",
            "Epoch 14/25\n",
            "146/145 [==============================] - 119s 817ms/step - loss: 0.3573 - accuracy: 0.9651 - val_loss: 0.3366 - val_accuracy: 0.9776 - lr: 5.0000e-05\n",
            "Epoch 15/25\n",
            "146/145 [==============================] - 123s 844ms/step - loss: 0.3520 - accuracy: 0.9725 - val_loss: 0.3381 - val_accuracy: 0.9725 - lr: 5.0000e-05\n",
            "Epoch 16/25\n",
            "146/145 [==============================] - 123s 845ms/step - loss: 0.3439 - accuracy: 0.9733 - val_loss: 0.3221 - val_accuracy: 0.9845 - lr: 5.0000e-05\n",
            "Epoch 17/25\n",
            "146/145 [==============================] - 119s 813ms/step - loss: 0.3328 - accuracy: 0.9828 - val_loss: 0.3243 - val_accuracy: 0.9828 - lr: 5.0000e-05\n",
            "Epoch 18/25\n",
            "146/145 [==============================] - 120s 825ms/step - loss: 0.3404 - accuracy: 0.9772 - val_loss: 0.3260 - val_accuracy: 0.9862 - lr: 5.0000e-05\n",
            "Epoch 19/25\n",
            "146/145 [==============================] - 122s 836ms/step - loss: 0.3310 - accuracy: 0.9815 - val_loss: 0.3320 - val_accuracy: 0.9828 - lr: 5.0000e-05\n",
            "Epoch 20/25\n",
            "146/145 [==============================] - 127s 869ms/step - loss: 0.3300 - accuracy: 0.9811 - val_loss: 0.3199 - val_accuracy: 0.9880 - lr: 2.5000e-05\n",
            "Epoch 21/25\n",
            "146/145 [==============================] - 122s 832ms/step - loss: 0.3379 - accuracy: 0.9785 - val_loss: 0.3239 - val_accuracy: 0.9811 - lr: 2.5000e-05\n",
            "Epoch 22/25\n",
            "146/145 [==============================] - 122s 832ms/step - loss: 0.3251 - accuracy: 0.9828 - val_loss: 0.3234 - val_accuracy: 0.9828 - lr: 2.5000e-05\n",
            "Epoch 23/25\n",
            "146/145 [==============================] - 126s 863ms/step - loss: 0.3323 - accuracy: 0.9785 - val_loss: 0.3184 - val_accuracy: 0.9811 - lr: 2.5000e-05\n",
            "Epoch 24/25\n",
            "146/145 [==============================] - 124s 849ms/step - loss: 0.3290 - accuracy: 0.9798 - val_loss: 0.3283 - val_accuracy: 0.9862 - lr: 2.5000e-05\n",
            "Epoch 25/25\n",
            "146/145 [==============================] - 119s 814ms/step - loss: 0.3278 - accuracy: 0.9802 - val_loss: 0.3296 - val_accuracy: 0.9776 - lr: 2.5000e-05\n",
            "37/36 [==============================] - 19s 517ms/step\n"
          ],
          "name": "stdout"
        },
        {
          "output_type": "stream",
          "text": [
            "/usr/local/lib/python3.6/dist-packages/sklearn/metrics/_classification.py:1272: UndefinedMetricWarning: Precision and F-score are ill-defined and being set to 0.0 in samples with no predicted labels. Use `zero_division` parameter to control this behavior.\n",
            "  _warn_prf(average, modifier, msg_start, len(result))\n"
          ],
          "name": "stderr"
        },
        {
          "output_type": "stream",
          "text": [
            "f1 score is  0.9861540631747995\n",
            "-----------fold 2--------------\n",
            "Found 2324 validated image filenames.\n",
            "Found 581 validated image filenames.\n",
            "Epoch 1/25\n",
            "146/145 [==============================] - 130s 891ms/step - loss: 0.6880 - accuracy: 0.7874 - val_loss: 0.8277 - val_accuracy: 0.6282 - lr: 1.0000e-04\n",
            "Epoch 2/25\n",
            "146/145 [==============================] - 121s 830ms/step - loss: 0.4942 - accuracy: 0.9053 - val_loss: 0.5987 - val_accuracy: 0.8244 - lr: 1.0000e-04\n",
            "Epoch 3/25\n",
            "146/145 [==============================] - 130s 891ms/step - loss: 0.4449 - accuracy: 0.9277 - val_loss: 0.5282 - val_accuracy: 0.8744 - lr: 1.0000e-04\n",
            "Epoch 4/25\n",
            "146/145 [==============================] - 126s 860ms/step - loss: 0.4185 - accuracy: 0.9380 - val_loss: 0.4024 - val_accuracy: 0.9432 - lr: 1.0000e-04\n",
            "Epoch 5/25\n",
            "146/145 [==============================] - 126s 861ms/step - loss: 0.4225 - accuracy: 0.9337 - val_loss: 0.3676 - val_accuracy: 0.9604 - lr: 1.0000e-04\n",
            "Epoch 6/25\n",
            "146/145 [==============================] - 122s 838ms/step - loss: 0.3958 - accuracy: 0.9466 - val_loss: 0.3798 - val_accuracy: 0.9535 - lr: 1.0000e-04\n",
            "Epoch 7/25\n",
            "146/145 [==============================] - 125s 854ms/step - loss: 0.3916 - accuracy: 0.9522 - val_loss: 0.3574 - val_accuracy: 0.9604 - lr: 1.0000e-04\n",
            "Epoch 8/25\n",
            "146/145 [==============================] - 125s 854ms/step - loss: 0.3955 - accuracy: 0.9492 - val_loss: 0.3498 - val_accuracy: 0.9639 - lr: 1.0000e-04\n",
            "Epoch 9/25\n",
            "146/145 [==============================] - 123s 839ms/step - loss: 0.3830 - accuracy: 0.9565 - val_loss: 0.3673 - val_accuracy: 0.9673 - lr: 1.0000e-04\n",
            "Epoch 10/25\n",
            "146/145 [==============================] - 124s 852ms/step - loss: 0.3787 - accuracy: 0.9565 - val_loss: 0.3584 - val_accuracy: 0.9673 - lr: 1.0000e-04\n",
            "Epoch 11/25\n",
            "146/145 [==============================] - 126s 866ms/step - loss: 0.3764 - accuracy: 0.9574 - val_loss: 0.3448 - val_accuracy: 0.9742 - lr: 1.0000e-04\n",
            "Epoch 12/25\n",
            "146/145 [==============================] - 125s 856ms/step - loss: 0.3711 - accuracy: 0.9617 - val_loss: 0.3419 - val_accuracy: 0.9776 - lr: 1.0000e-04\n",
            "Epoch 13/25\n",
            "146/145 [==============================] - 125s 854ms/step - loss: 0.3492 - accuracy: 0.9707 - val_loss: 0.3401 - val_accuracy: 0.9759 - lr: 1.0000e-04\n",
            "Epoch 14/25\n",
            "146/145 [==============================] - 125s 853ms/step - loss: 0.3519 - accuracy: 0.9694 - val_loss: 0.3387 - val_accuracy: 0.9776 - lr: 1.0000e-04\n",
            "Epoch 15/25\n",
            "146/145 [==============================] - 121s 828ms/step - loss: 0.3488 - accuracy: 0.9694 - val_loss: 0.3415 - val_accuracy: 0.9759 - lr: 1.0000e-04\n",
            "Epoch 16/25\n",
            "146/145 [==============================] - 123s 843ms/step - loss: 0.3582 - accuracy: 0.9669 - val_loss: 0.3441 - val_accuracy: 0.9742 - lr: 1.0000e-04\n",
            "Epoch 17/25\n",
            "146/145 [==============================] - 120s 822ms/step - loss: 0.3466 - accuracy: 0.9725 - val_loss: 0.3457 - val_accuracy: 0.9759 - lr: 1.0000e-04\n",
            "Epoch 18/25\n",
            "146/145 [==============================] - 127s 869ms/step - loss: 0.3396 - accuracy: 0.9811 - val_loss: 0.3326 - val_accuracy: 0.9725 - lr: 5.0000e-05\n",
            "Epoch 19/25\n",
            "146/145 [==============================] - 124s 848ms/step - loss: 0.3446 - accuracy: 0.9682 - val_loss: 0.3354 - val_accuracy: 0.9707 - lr: 5.0000e-05\n",
            "Epoch 20/25\n",
            "146/145 [==============================] - 124s 850ms/step - loss: 0.3353 - accuracy: 0.9781 - val_loss: 0.3226 - val_accuracy: 0.9828 - lr: 5.0000e-05\n",
            "Epoch 21/25\n",
            "146/145 [==============================] - 123s 845ms/step - loss: 0.3224 - accuracy: 0.9858 - val_loss: 0.3408 - val_accuracy: 0.9742 - lr: 5.0000e-05\n",
            "Epoch 22/25\n",
            "146/145 [==============================] - 122s 833ms/step - loss: 0.3318 - accuracy: 0.9806 - val_loss: 0.3166 - val_accuracy: 0.9914 - lr: 5.0000e-05\n",
            "Epoch 23/25\n",
            "146/145 [==============================] - 124s 851ms/step - loss: 0.3272 - accuracy: 0.9828 - val_loss: 0.3377 - val_accuracy: 0.9776 - lr: 5.0000e-05\n",
            "Epoch 24/25\n",
            "146/145 [==============================] - 125s 859ms/step - loss: 0.3288 - accuracy: 0.9815 - val_loss: 0.3200 - val_accuracy: 0.9845 - lr: 5.0000e-05\n",
            "Epoch 25/25\n",
            "146/145 [==============================] - 125s 859ms/step - loss: 0.3235 - accuracy: 0.9867 - val_loss: 0.3381 - val_accuracy: 0.9759 - lr: 5.0000e-05\n",
            "37/36 [==============================] - 20s 537ms/step\n",
            "f1 score is  0.9772288842920812\n",
            "-----------fold 3--------------\n",
            "Found 2324 validated image filenames.\n",
            "Found 581 validated image filenames.\n",
            "Epoch 1/25\n",
            "146/145 [==============================] - 128s 878ms/step - loss: 0.6757 - accuracy: 0.7840 - val_loss: 0.6500 - val_accuracy: 0.8227 - lr: 1.0000e-04\n",
            "Epoch 2/25\n",
            "146/145 [==============================] - 122s 837ms/step - loss: 0.4938 - accuracy: 0.8997 - val_loss: 0.5971 - val_accuracy: 0.8296 - lr: 1.0000e-04\n",
            "Epoch 3/25\n",
            "146/145 [==============================] - 126s 863ms/step - loss: 0.4464 - accuracy: 0.9221 - val_loss: 0.4911 - val_accuracy: 0.9157 - lr: 1.0000e-04\n",
            "Epoch 4/25\n",
            "146/145 [==============================] - 128s 875ms/step - loss: 0.4283 - accuracy: 0.9290 - val_loss: 0.4265 - val_accuracy: 0.9329 - lr: 1.0000e-04\n",
            "Epoch 5/25\n",
            "146/145 [==============================] - 126s 861ms/step - loss: 0.4076 - accuracy: 0.9393 - val_loss: 0.3822 - val_accuracy: 0.9501 - lr: 1.0000e-04\n",
            "Epoch 6/25\n",
            "146/145 [==============================] - 124s 849ms/step - loss: 0.3997 - accuracy: 0.9432 - val_loss: 0.3752 - val_accuracy: 0.9552 - lr: 1.0000e-04\n",
            "Epoch 7/25\n",
            "146/145 [==============================] - 126s 864ms/step - loss: 0.3906 - accuracy: 0.9497 - val_loss: 0.3736 - val_accuracy: 0.9604 - lr: 1.0000e-04\n",
            "Epoch 8/25\n",
            "146/145 [==============================] - 121s 827ms/step - loss: 0.3890 - accuracy: 0.9544 - val_loss: 0.3671 - val_accuracy: 0.9673 - lr: 1.0000e-04\n",
            "Epoch 9/25\n",
            "146/145 [==============================] - 126s 863ms/step - loss: 0.3627 - accuracy: 0.9664 - val_loss: 0.3535 - val_accuracy: 0.9707 - lr: 1.0000e-04\n",
            "Epoch 10/25\n",
            "146/145 [==============================] - 119s 817ms/step - loss: 0.3640 - accuracy: 0.9651 - val_loss: 0.3537 - val_accuracy: 0.9690 - lr: 1.0000e-04\n",
            "Epoch 11/25\n",
            "146/145 [==============================] - 118s 807ms/step - loss: 0.3646 - accuracy: 0.9613 - val_loss: 0.3580 - val_accuracy: 0.9604 - lr: 1.0000e-04\n",
            "Epoch 12/25\n",
            "146/145 [==============================] - 122s 832ms/step - loss: 0.3596 - accuracy: 0.9656 - val_loss: 0.3583 - val_accuracy: 0.9621 - lr: 1.0000e-04\n",
            "Epoch 13/25\n",
            "146/145 [==============================] - 125s 859ms/step - loss: 0.3500 - accuracy: 0.9669 - val_loss: 0.3348 - val_accuracy: 0.9742 - lr: 5.0000e-05\n",
            "Epoch 14/25\n",
            "146/145 [==============================] - 120s 819ms/step - loss: 0.3452 - accuracy: 0.9733 - val_loss: 0.3513 - val_accuracy: 0.9725 - lr: 5.0000e-05\n",
            "Epoch 15/25\n",
            "146/145 [==============================] - 117s 802ms/step - loss: 0.3481 - accuracy: 0.9738 - val_loss: 0.3527 - val_accuracy: 0.9639 - lr: 5.0000e-05\n",
            "Epoch 16/25\n",
            "146/145 [==============================] - 120s 825ms/step - loss: 0.3353 - accuracy: 0.9798 - val_loss: 0.3423 - val_accuracy: 0.9776 - lr: 5.0000e-05\n",
            "Epoch 17/25\n",
            "146/145 [==============================] - 120s 825ms/step - loss: 0.3349 - accuracy: 0.9793 - val_loss: 0.3387 - val_accuracy: 0.9725 - lr: 2.5000e-05\n",
            "Epoch 18/25\n",
            "146/145 [==============================] - 122s 836ms/step - loss: 0.3278 - accuracy: 0.9832 - val_loss: 0.3415 - val_accuracy: 0.9707 - lr: 2.5000e-05\n",
            "Epoch 19/25\n",
            "146/145 [==============================] - 124s 848ms/step - loss: 0.3275 - accuracy: 0.9819 - val_loss: 0.3341 - val_accuracy: 0.9776 - lr: 2.5000e-05\n",
            "Epoch 20/25\n",
            "146/145 [==============================] - 121s 830ms/step - loss: 0.3333 - accuracy: 0.9819 - val_loss: 0.3495 - val_accuracy: 0.9690 - lr: 2.5000e-05\n",
            "Epoch 21/25\n",
            "146/145 [==============================] - 119s 812ms/step - loss: 0.3252 - accuracy: 0.9858 - val_loss: 0.3411 - val_accuracy: 0.9742 - lr: 2.5000e-05\n",
            "Epoch 22/25\n",
            "146/145 [==============================] - 124s 850ms/step - loss: 0.3214 - accuracy: 0.9862 - val_loss: 0.3398 - val_accuracy: 0.9742 - lr: 2.5000e-05\n",
            "Epoch 23/25\n",
            "146/145 [==============================] - 123s 843ms/step - loss: 0.3242 - accuracy: 0.9854 - val_loss: 0.3291 - val_accuracy: 0.9845 - lr: 1.2500e-05\n",
            "Epoch 24/25\n",
            "146/145 [==============================] - 118s 807ms/step - loss: 0.3256 - accuracy: 0.9854 - val_loss: 0.3374 - val_accuracy: 0.9742 - lr: 1.2500e-05\n",
            "Epoch 25/25\n",
            "146/145 [==============================] - 128s 875ms/step - loss: 0.3177 - accuracy: 0.9871 - val_loss: 0.3405 - val_accuracy: 0.9776 - lr: 1.2500e-05\n",
            "37/36 [==============================] - 20s 535ms/step\n",
            "f1 score is  0.9806688882043814\n",
            "-----------fold 4--------------\n",
            "Found 2324 validated image filenames.\n",
            "Found 581 validated image filenames.\n",
            "Epoch 1/25\n",
            "146/145 [==============================] - 123s 844ms/step - loss: 0.7003 - accuracy: 0.7728 - val_loss: 0.6910 - val_accuracy: 0.7556 - lr: 1.0000e-04\n",
            "Epoch 2/25\n",
            "146/145 [==============================] - 124s 847ms/step - loss: 0.4845 - accuracy: 0.9053 - val_loss: 0.5831 - val_accuracy: 0.8382 - lr: 1.0000e-04\n",
            "Epoch 3/25\n",
            "146/145 [==============================] - 123s 841ms/step - loss: 0.4384 - accuracy: 0.9273 - val_loss: 0.5211 - val_accuracy: 0.8778 - lr: 1.0000e-04\n",
            "Epoch 4/25\n",
            "146/145 [==============================] - 123s 843ms/step - loss: 0.4153 - accuracy: 0.9389 - val_loss: 0.4225 - val_accuracy: 0.9329 - lr: 1.0000e-04\n",
            "Epoch 5/25\n",
            "146/145 [==============================] - 124s 850ms/step - loss: 0.4134 - accuracy: 0.9415 - val_loss: 0.3760 - val_accuracy: 0.9639 - lr: 1.0000e-04\n",
            "Epoch 6/25\n",
            "146/145 [==============================] - 119s 814ms/step - loss: 0.3952 - accuracy: 0.9488 - val_loss: 0.3821 - val_accuracy: 0.9587 - lr: 1.0000e-04\n",
            "Epoch 7/25\n",
            "146/145 [==============================] - 121s 826ms/step - loss: 0.3867 - accuracy: 0.9484 - val_loss: 0.4038 - val_accuracy: 0.9380 - lr: 1.0000e-04\n",
            "Epoch 8/25\n",
            "146/145 [==============================] - 124s 847ms/step - loss: 0.3677 - accuracy: 0.9651 - val_loss: 0.3599 - val_accuracy: 0.9690 - lr: 1.0000e-04\n",
            "Epoch 9/25\n",
            "146/145 [==============================] - 122s 837ms/step - loss: 0.3839 - accuracy: 0.9479 - val_loss: 0.4178 - val_accuracy: 0.9243 - lr: 1.0000e-04\n",
            "Epoch 10/25\n",
            "146/145 [==============================] - 124s 848ms/step - loss: 0.3690 - accuracy: 0.9591 - val_loss: 0.3548 - val_accuracy: 0.9690 - lr: 1.0000e-04\n",
            "Epoch 11/25\n",
            "146/145 [==============================] - 124s 850ms/step - loss: 0.3637 - accuracy: 0.9634 - val_loss: 0.3550 - val_accuracy: 0.9725 - lr: 1.0000e-04\n",
            "Epoch 12/25\n",
            "146/145 [==============================] - 121s 827ms/step - loss: 0.3563 - accuracy: 0.9664 - val_loss: 0.3705 - val_accuracy: 0.9552 - lr: 1.0000e-04\n",
            "Epoch 13/25\n",
            "146/145 [==============================] - 125s 855ms/step - loss: 0.3564 - accuracy: 0.9682 - val_loss: 0.3663 - val_accuracy: 0.9604 - lr: 1.0000e-04\n",
            "Epoch 14/25\n",
            "146/145 [==============================] - 129s 884ms/step - loss: 0.3462 - accuracy: 0.9712 - val_loss: 0.3429 - val_accuracy: 0.9759 - lr: 5.0000e-05\n",
            "Epoch 15/25\n",
            "146/145 [==============================] - 124s 850ms/step - loss: 0.3392 - accuracy: 0.9768 - val_loss: 0.3519 - val_accuracy: 0.9673 - lr: 5.0000e-05\n",
            "Epoch 16/25\n",
            "146/145 [==============================] - 124s 849ms/step - loss: 0.3346 - accuracy: 0.9785 - val_loss: 0.3340 - val_accuracy: 0.9828 - lr: 5.0000e-05\n",
            "Epoch 17/25\n",
            "146/145 [==============================] - 130s 892ms/step - loss: 0.3294 - accuracy: 0.9798 - val_loss: 0.3337 - val_accuracy: 0.9776 - lr: 5.0000e-05\n",
            "Epoch 18/25\n",
            "146/145 [==============================] - 121s 828ms/step - loss: 0.3328 - accuracy: 0.9811 - val_loss: 0.3437 - val_accuracy: 0.9707 - lr: 5.0000e-05\n",
            "Epoch 19/25\n",
            "146/145 [==============================] - 122s 838ms/step - loss: 0.3273 - accuracy: 0.9806 - val_loss: 0.3368 - val_accuracy: 0.9742 - lr: 5.0000e-05\n",
            "Epoch 20/25\n",
            "146/145 [==============================] - 119s 816ms/step - loss: 0.3264 - accuracy: 0.9832 - val_loss: 0.3580 - val_accuracy: 0.9621 - lr: 5.0000e-05\n",
            "Epoch 21/25\n",
            "146/145 [==============================] - 125s 858ms/step - loss: 0.3283 - accuracy: 0.9815 - val_loss: 0.3426 - val_accuracy: 0.9742 - lr: 2.5000e-05\n",
            "Epoch 22/25\n",
            "146/145 [==============================] - 123s 842ms/step - loss: 0.3290 - accuracy: 0.9824 - val_loss: 0.3418 - val_accuracy: 0.9673 - lr: 2.5000e-05\n",
            "Epoch 23/25\n",
            "146/145 [==============================] - 125s 853ms/step - loss: 0.3252 - accuracy: 0.9824 - val_loss: 0.3368 - val_accuracy: 0.9742 - lr: 2.5000e-05\n",
            "Epoch 24/25\n",
            "146/145 [==============================] - 121s 832ms/step - loss: 0.3251 - accuracy: 0.9867 - val_loss: 0.3421 - val_accuracy: 0.9759 - lr: 1.2500e-05\n",
            "Epoch 25/25\n",
            "146/145 [==============================] - 122s 835ms/step - loss: 0.3192 - accuracy: 0.9845 - val_loss: 0.3299 - val_accuracy: 0.9793 - lr: 1.2500e-05\n",
            "37/36 [==============================] - 19s 510ms/step\n",
            "f1 score is  0.978913715784171\n"
          ],
          "name": "stdout"
        }
      ]
    },
    {
      "cell_type": "code",
      "metadata": {
        "id": "F2O_Kf-EG0jw",
        "colab_type": "code",
        "outputId": "2622524f-3ffd-468b-ecd4-eaf0a581444b",
        "colab": {
          "base_uri": "https://localhost:8080/",
          "height": 109
        }
      },
      "source": [
        "accuracy"
      ],
      "execution_count": 39,
      "outputs": [
        {
          "output_type": "execute_result",
          "data": {
            "text/plain": [
              "[0.9827882960413081,\n",
              " 0.9845094664371773,\n",
              " 0.9724612736660929,\n",
              " 0.9724612736660929,\n",
              " 0.9741824440619621]"
            ]
          },
          "metadata": {
            "tags": []
          },
          "execution_count": 39
        }
      ]
    },
    {
      "cell_type": "code",
      "metadata": {
        "id": "dxZa1v_5tuxp",
        "colab_type": "code",
        "colab": {
          "base_uri": "https://localhost:8080/",
          "height": 35
        },
        "outputId": "cab5942b-9d84-4fda-ee52-2dabe7b31c26"
      },
      "source": [
        "print(np.mean(accuracy))"
      ],
      "execution_count": 40,
      "outputs": [
        {
          "output_type": "stream",
          "text": [
            "0.9772805507745266\n"
          ],
          "name": "stdout"
        }
      ]
    },
    {
      "cell_type": "code",
      "metadata": {
        "id": "Rf0AjoRMtytt",
        "colab_type": "code",
        "colab": {
          "base_uri": "https://localhost:8080/",
          "height": 109
        },
        "outputId": "149c7707-9fda-4dab-94f2-abec6e957a10"
      },
      "source": [
        "f1_scores"
      ],
      "execution_count": 41,
      "outputs": [
        {
          "output_type": "execute_result",
          "data": {
            "text/plain": [
              "[0.9815409599130224,\n",
              " 0.9861540631747995,\n",
              " 0.9772288842920812,\n",
              " 0.9806688882043814,\n",
              " 0.978913715784171]"
            ]
          },
          "metadata": {
            "tags": []
          },
          "execution_count": 41
        }
      ]
    },
    {
      "cell_type": "code",
      "metadata": {
        "id": "wsH3n6wht0nE",
        "colab_type": "code",
        "colab": {
          "base_uri": "https://localhost:8080/",
          "height": 35
        },
        "outputId": "e9f61785-9fff-4234-c3af-0275a53b69cf"
      },
      "source": [
        "np.mean(f1_scores)"
      ],
      "execution_count": 42,
      "outputs": [
        {
          "output_type": "execute_result",
          "data": {
            "text/plain": [
              "0.980901302273691"
            ]
          },
          "metadata": {
            "tags": []
          },
          "execution_count": 42
        }
      ]
    },
    {
      "cell_type": "code",
      "metadata": {
        "id": "w5_IM6bdt2V4",
        "colab_type": "code",
        "colab": {
          "base_uri": "https://localhost:8080/",
          "height": 1000
        },
        "outputId": "43257223-2d63-4a1f-b54b-c9a8df00712c"
      },
      "source": [
        "\n",
        "for i in range(5):\n",
        "  print('--------------FOLD {}------------------'.format(i))\n",
        "  print(classification_reports[i])"
      ],
      "execution_count": 43,
      "outputs": [
        {
          "output_type": "stream",
          "text": [
            "--------------FOLD 0------------------\n",
            "              precision    recall  f1-score   support\n",
            "\n",
            "       covid       1.00      0.96      0.98        47\n",
            "      normal       0.97      0.99      0.98       265\n",
            "   pneumonia       0.99      0.98      0.99       269\n",
            "\n",
            "   micro avg       0.98      0.98      0.98       581\n",
            "   macro avg       0.99      0.98      0.98       581\n",
            "weighted avg       0.98      0.98      0.98       581\n",
            " samples avg       0.98      0.98      0.98       581\n",
            "\n",
            "--------------FOLD 1------------------\n",
            "              precision    recall  f1-score   support\n",
            "\n",
            "       covid       1.00      0.98      0.99        43\n",
            "      normal       0.98      0.99      0.98       259\n",
            "   pneumonia       0.99      0.98      0.99       279\n",
            "\n",
            "   micro avg       0.99      0.98      0.99       581\n",
            "   macro avg       0.99      0.98      0.99       581\n",
            "weighted avg       0.99      0.98      0.99       581\n",
            " samples avg       0.98      0.98      0.98       581\n",
            "\n",
            "--------------FOLD 2------------------\n",
            "              precision    recall  f1-score   support\n",
            "\n",
            "       covid       0.97      1.00      0.99        38\n",
            "      normal       0.98      0.97      0.97       270\n",
            "   pneumonia       0.97      0.97      0.97       273\n",
            "\n",
            "   micro avg       0.97      0.97      0.97       581\n",
            "   macro avg       0.97      0.98      0.98       581\n",
            "weighted avg       0.97      0.97      0.97       581\n",
            " samples avg       0.97      0.97      0.97       581\n",
            "\n",
            "--------------FOLD 3------------------\n",
            "              precision    recall  f1-score   support\n",
            "\n",
            "       covid       1.00      1.00      1.00        46\n",
            "      normal       0.97      0.97      0.97       268\n",
            "   pneumonia       0.97      0.97      0.97       267\n",
            "\n",
            "   micro avg       0.97      0.97      0.97       581\n",
            "   macro avg       0.98      0.98      0.98       581\n",
            "weighted avg       0.97      0.97      0.97       581\n",
            " samples avg       0.97      0.97      0.97       581\n",
            "\n",
            "--------------FOLD 4------------------\n",
            "              precision    recall  f1-score   support\n",
            "\n",
            "       covid       0.98      1.00      0.99        45\n",
            "      normal       0.98      0.96      0.97       279\n",
            "   pneumonia       0.97      0.98      0.97       257\n",
            "\n",
            "   micro avg       0.98      0.97      0.98       581\n",
            "   macro avg       0.98      0.98      0.98       581\n",
            "weighted avg       0.98      0.97      0.98       581\n",
            " samples avg       0.97      0.97      0.97       581\n",
            "\n"
          ],
          "name": "stdout"
        }
      ]
    },
    {
      "cell_type": "code",
      "metadata": {
        "id": "TSuiEZvPPJ1k",
        "colab_type": "code",
        "colab": {}
      },
      "source": [
        ""
      ],
      "execution_count": 0,
      "outputs": []
    }
  ]
}