{
  "nbformat": 4,
  "nbformat_minor": 0,
  "metadata": {
    "colab": {
      "name": "cross_validation_test.ipynb",
      "provenance": [],
      "include_colab_link": true
    },
    "kernelspec": {
      "name": "python3",
      "display_name": "Python 3"
    },
    "accelerator": "GPU"
  },
  "cells": [
    {
      "cell_type": "markdown",
      "metadata": {
        "id": "view-in-github",
        "colab_type": "text"
      },
      "source": [
        "<a href=\"https://colab.research.google.com/github/talhaanwarch/Corona_Virus/blob/master/CT_scan/cross_validation_test.ipynb\" target=\"_parent\"><img src=\"https://colab.research.google.com/assets/colab-badge.svg\" alt=\"Open In Colab\"/></a>"
      ]
    },
    {
      "cell_type": "code",
      "metadata": {
        "id": "ylMZAGXl7kKx",
        "colab_type": "code",
        "colab": {}
      },
      "source": [
        "%%capture\n",
        "!pip install efficientnet"
      ],
      "execution_count": 0,
      "outputs": []
    },
    {
      "cell_type": "code",
      "metadata": {
        "id": "_d7PdOxl3KJv",
        "colab_type": "code",
        "colab": {}
      },
      "source": [
        "%%capture\n",
        "!pip install focal-loss"
      ],
      "execution_count": 0,
      "outputs": []
    },
    {
      "cell_type": "markdown",
      "metadata": {
        "id": "4FDtv7g97nN8",
        "colab_type": "text"
      },
      "source": [
        "### CLone github repo, to dowlonad data"
      ]
    },
    {
      "cell_type": "code",
      "metadata": {
        "id": "yi2pSQus7JR4",
        "colab_type": "code",
        "outputId": "101934b6-5c48-45bc-d4cb-0d3a795a3e3f",
        "colab": {
          "base_uri": "https://localhost:8080/",
          "height": 150
        }
      },
      "source": [
        "!git clone https://github.com/UCSD-AI4H/COVID-CT.git"
      ],
      "execution_count": 2,
      "outputs": [
        {
          "output_type": "stream",
          "text": [
            "Cloning into 'COVID-CT'...\n",
            "remote: Enumerating objects: 130, done.\u001b[K\n",
            "remote: Counting objects: 100% (130/130), done.\u001b[K\n",
            "remote: Compressing objects: 100% (128/128), done.\u001b[K\n",
            "remote: Total 5443 (delta 60), reused 9 (delta 2), pack-reused 5313\u001b[K\n",
            "Receiving objects: 100% (5443/5443), 1.09 GiB | 12.77 MiB/s, done.\n",
            "Resolving deltas: 100% (351/351), done.\n",
            "Checking out files: 100% (1048/1048), done.\n"
          ],
          "name": "stdout"
        }
      ]
    },
    {
      "cell_type": "markdown",
      "metadata": {
        "id": "imIfz2hq7s0m",
        "colab_type": "text"
      },
      "source": [
        "### Extract data in one format"
      ]
    },
    {
      "cell_type": "code",
      "metadata": {
        "id": "6WuO45h57deK",
        "colab_type": "code",
        "colab": {}
      },
      "source": [
        "%%capture\n",
        "!unzip /content/COVID-CT/Images-processed/CT_COVID.zip\n",
        "!unzip /content/COVID-CT/Images-processed/CT_NonCOVID.zip"
      ],
      "execution_count": 0,
      "outputs": []
    },
    {
      "cell_type": "code",
      "metadata": {
        "id": "eJUYRmVS8kJR",
        "colab_type": "code",
        "colab": {}
      },
      "source": [
        "!mkdir images\n",
        "!cp -r /content/CT_COVID/* images\n",
        "!cp -r /content/CT_NonCOVID/* images\n"
      ],
      "execution_count": 0,
      "outputs": []
    },
    {
      "cell_type": "markdown",
      "metadata": {
        "id": "R959Xz4V9GuP",
        "colab_type": "text"
      },
      "source": [
        "###read meta files"
      ]
    },
    {
      "cell_type": "code",
      "metadata": {
        "id": "ZSd1vcC-9Smh",
        "colab_type": "code",
        "colab": {}
      },
      "source": [
        "import pandas as pd\n",
        "import os"
      ],
      "execution_count": 0,
      "outputs": []
    },
    {
      "cell_type": "code",
      "metadata": {
        "id": "Li1uZhmr9Jk2",
        "colab_type": "code",
        "outputId": "bafa4e76-5ee7-4838-c30a-7eeec29f8afa",
        "colab": {
          "base_uri": "https://localhost:8080/",
          "height": 196
        }
      },
      "source": [
        "covid=os.listdir('/content/CT_COVID')\n",
        "cov=list(zip(covid,['covid']*(len(covid))))\n",
        "covid_df = pd.DataFrame(cov,columns=['file','label']) \n",
        "covid_df.head()"
      ],
      "execution_count": 6,
      "outputs": [
        {
          "output_type": "execute_result",
          "data": {
            "text/html": [
              "<div>\n",
              "<style scoped>\n",
              "    .dataframe tbody tr th:only-of-type {\n",
              "        vertical-align: middle;\n",
              "    }\n",
              "\n",
              "    .dataframe tbody tr th {\n",
              "        vertical-align: top;\n",
              "    }\n",
              "\n",
              "    .dataframe thead th {\n",
              "        text-align: right;\n",
              "    }\n",
              "</style>\n",
              "<table border=\"1\" class=\"dataframe\">\n",
              "  <thead>\n",
              "    <tr style=\"text-align: right;\">\n",
              "      <th></th>\n",
              "      <th>file</th>\n",
              "      <th>label</th>\n",
              "    </tr>\n",
              "  </thead>\n",
              "  <tbody>\n",
              "    <tr>\n",
              "      <th>0</th>\n",
              "      <td>PIIS0140673620303603%3.png</td>\n",
              "      <td>covid</td>\n",
              "    </tr>\n",
              "    <tr>\n",
              "      <th>1</th>\n",
              "      <td>2020.03.30.20047985-p9-56%1.png</td>\n",
              "      <td>covid</td>\n",
              "    </tr>\n",
              "    <tr>\n",
              "      <th>2</th>\n",
              "      <td>PIIS0140673620302117_2.png</td>\n",
              "      <td>covid</td>\n",
              "    </tr>\n",
              "    <tr>\n",
              "      <th>3</th>\n",
              "      <td>2020.03.22.20040782-p25-1542.png</td>\n",
              "      <td>covid</td>\n",
              "    </tr>\n",
              "    <tr>\n",
              "      <th>4</th>\n",
              "      <td>bmj.m606.full-p4-22%1.png</td>\n",
              "      <td>covid</td>\n",
              "    </tr>\n",
              "  </tbody>\n",
              "</table>\n",
              "</div>"
            ],
            "text/plain": [
              "                               file  label\n",
              "0        PIIS0140673620303603%3.png  covid\n",
              "1   2020.03.30.20047985-p9-56%1.png  covid\n",
              "2        PIIS0140673620302117_2.png  covid\n",
              "3  2020.03.22.20040782-p25-1542.png  covid\n",
              "4         bmj.m606.full-p4-22%1.png  covid"
            ]
          },
          "metadata": {
            "tags": []
          },
          "execution_count": 6
        }
      ]
    },
    {
      "cell_type": "code",
      "metadata": {
        "id": "PUrppSTx7Z3f",
        "colab_type": "code",
        "outputId": "1091091a-f70d-4a53-91be-1d8942652422",
        "colab": {
          "base_uri": "https://localhost:8080/",
          "height": 196
        }
      },
      "source": [
        "noncovid=os.listdir('/content/CT_NonCOVID')\n",
        "noncov=list(zip(noncovid,['noncovid']*(len(noncovid))))\n",
        "noncovid_df = pd.DataFrame(noncov,columns=['file','label']) \n",
        "noncovid_df.head()"
      ],
      "execution_count": 7,
      "outputs": [
        {
          "output_type": "execute_result",
          "data": {
            "text/html": [
              "<div>\n",
              "<style scoped>\n",
              "    .dataframe tbody tr th:only-of-type {\n",
              "        vertical-align: middle;\n",
              "    }\n",
              "\n",
              "    .dataframe tbody tr th {\n",
              "        vertical-align: top;\n",
              "    }\n",
              "\n",
              "    .dataframe thead th {\n",
              "        text-align: right;\n",
              "    }\n",
              "</style>\n",
              "<table border=\"1\" class=\"dataframe\">\n",
              "  <thead>\n",
              "    <tr style=\"text-align: right;\">\n",
              "      <th></th>\n",
              "      <th>file</th>\n",
              "      <th>label</th>\n",
              "    </tr>\n",
              "  </thead>\n",
              "  <tbody>\n",
              "    <tr>\n",
              "      <th>0</th>\n",
              "      <td>81%2.jpg</td>\n",
              "      <td>noncovid</td>\n",
              "    </tr>\n",
              "    <tr>\n",
              "      <th>1</th>\n",
              "      <td>583.png</td>\n",
              "      <td>noncovid</td>\n",
              "    </tr>\n",
              "    <tr>\n",
              "      <th>2</th>\n",
              "      <td>5%7.jpg</td>\n",
              "      <td>noncovid</td>\n",
              "    </tr>\n",
              "    <tr>\n",
              "      <th>3</th>\n",
              "      <td>1212.png</td>\n",
              "      <td>noncovid</td>\n",
              "    </tr>\n",
              "    <tr>\n",
              "      <th>4</th>\n",
              "      <td>46.jpg</td>\n",
              "      <td>noncovid</td>\n",
              "    </tr>\n",
              "  </tbody>\n",
              "</table>\n",
              "</div>"
            ],
            "text/plain": [
              "       file     label\n",
              "0  81%2.jpg  noncovid\n",
              "1   583.png  noncovid\n",
              "2   5%7.jpg  noncovid\n",
              "3  1212.png  noncovid\n",
              "4    46.jpg  noncovid"
            ]
          },
          "metadata": {
            "tags": []
          },
          "execution_count": 7
        }
      ]
    },
    {
      "cell_type": "code",
      "metadata": {
        "id": "Tryb2TOv99r4",
        "colab_type": "code",
        "outputId": "3f0a453c-b3ab-482d-ed5d-dc26a16c21af",
        "colab": {
          "base_uri": "https://localhost:8080/",
          "height": 196
        }
      },
      "source": [
        "dataframe=pd.concat([covid_df,noncovid_df])\n",
        "dataframe.head()"
      ],
      "execution_count": 8,
      "outputs": [
        {
          "output_type": "execute_result",
          "data": {
            "text/html": [
              "<div>\n",
              "<style scoped>\n",
              "    .dataframe tbody tr th:only-of-type {\n",
              "        vertical-align: middle;\n",
              "    }\n",
              "\n",
              "    .dataframe tbody tr th {\n",
              "        vertical-align: top;\n",
              "    }\n",
              "\n",
              "    .dataframe thead th {\n",
              "        text-align: right;\n",
              "    }\n",
              "</style>\n",
              "<table border=\"1\" class=\"dataframe\">\n",
              "  <thead>\n",
              "    <tr style=\"text-align: right;\">\n",
              "      <th></th>\n",
              "      <th>file</th>\n",
              "      <th>label</th>\n",
              "    </tr>\n",
              "  </thead>\n",
              "  <tbody>\n",
              "    <tr>\n",
              "      <th>0</th>\n",
              "      <td>PIIS0140673620303603%3.png</td>\n",
              "      <td>covid</td>\n",
              "    </tr>\n",
              "    <tr>\n",
              "      <th>1</th>\n",
              "      <td>2020.03.30.20047985-p9-56%1.png</td>\n",
              "      <td>covid</td>\n",
              "    </tr>\n",
              "    <tr>\n",
              "      <th>2</th>\n",
              "      <td>PIIS0140673620302117_2.png</td>\n",
              "      <td>covid</td>\n",
              "    </tr>\n",
              "    <tr>\n",
              "      <th>3</th>\n",
              "      <td>2020.03.22.20040782-p25-1542.png</td>\n",
              "      <td>covid</td>\n",
              "    </tr>\n",
              "    <tr>\n",
              "      <th>4</th>\n",
              "      <td>bmj.m606.full-p4-22%1.png</td>\n",
              "      <td>covid</td>\n",
              "    </tr>\n",
              "  </tbody>\n",
              "</table>\n",
              "</div>"
            ],
            "text/plain": [
              "                               file  label\n",
              "0        PIIS0140673620303603%3.png  covid\n",
              "1   2020.03.30.20047985-p9-56%1.png  covid\n",
              "2        PIIS0140673620302117_2.png  covid\n",
              "3  2020.03.22.20040782-p25-1542.png  covid\n",
              "4         bmj.m606.full-p4-22%1.png  covid"
            ]
          },
          "metadata": {
            "tags": []
          },
          "execution_count": 8
        }
      ]
    },
    {
      "cell_type": "code",
      "metadata": {
        "id": "L9YLBD4e-Gnd",
        "colab_type": "code",
        "outputId": "799e697a-f796-42ec-d17e-a93e5d3d1566",
        "colab": {
          "base_uri": "https://localhost:8080/",
          "height": 196
        }
      },
      "source": [
        "df = pd.get_dummies(dataframe['label'])\n",
        "df = pd.concat([dataframe, df], axis=1)\n",
        "df=df.sample(frac=1)\n",
        "df.head()\n"
      ],
      "execution_count": 9,
      "outputs": [
        {
          "output_type": "execute_result",
          "data": {
            "text/html": [
              "<div>\n",
              "<style scoped>\n",
              "    .dataframe tbody tr th:only-of-type {\n",
              "        vertical-align: middle;\n",
              "    }\n",
              "\n",
              "    .dataframe tbody tr th {\n",
              "        vertical-align: top;\n",
              "    }\n",
              "\n",
              "    .dataframe thead th {\n",
              "        text-align: right;\n",
              "    }\n",
              "</style>\n",
              "<table border=\"1\" class=\"dataframe\">\n",
              "  <thead>\n",
              "    <tr style=\"text-align: right;\">\n",
              "      <th></th>\n",
              "      <th>file</th>\n",
              "      <th>label</th>\n",
              "      <th>covid</th>\n",
              "      <th>noncovid</th>\n",
              "    </tr>\n",
              "  </thead>\n",
              "  <tbody>\n",
              "    <tr>\n",
              "      <th>60</th>\n",
              "      <td>2020.02.10.20021584-p6-52%6.png</td>\n",
              "      <td>covid</td>\n",
              "      <td>1</td>\n",
              "      <td>0</td>\n",
              "    </tr>\n",
              "    <tr>\n",
              "      <th>227</th>\n",
              "      <td>2020.02.17.20024018-p17-61%2.png</td>\n",
              "      <td>covid</td>\n",
              "      <td>1</td>\n",
              "      <td>0</td>\n",
              "    </tr>\n",
              "    <tr>\n",
              "      <th>327</th>\n",
              "      <td>2020.03.07.20031393-p7-50%2.png</td>\n",
              "      <td>covid</td>\n",
              "      <td>1</td>\n",
              "      <td>0</td>\n",
              "    </tr>\n",
              "    <tr>\n",
              "      <th>78</th>\n",
              "      <td>1920.png</td>\n",
              "      <td>noncovid</td>\n",
              "      <td>0</td>\n",
              "      <td>1</td>\n",
              "    </tr>\n",
              "    <tr>\n",
              "      <th>210</th>\n",
              "      <td>1123.png</td>\n",
              "      <td>noncovid</td>\n",
              "      <td>0</td>\n",
              "      <td>1</td>\n",
              "    </tr>\n",
              "  </tbody>\n",
              "</table>\n",
              "</div>"
            ],
            "text/plain": [
              "                                 file     label  covid  noncovid\n",
              "60    2020.02.10.20021584-p6-52%6.png     covid      1         0\n",
              "227  2020.02.17.20024018-p17-61%2.png     covid      1         0\n",
              "327   2020.03.07.20031393-p7-50%2.png     covid      1         0\n",
              "78                           1920.png  noncovid      0         1\n",
              "210                          1123.png  noncovid      0         1"
            ]
          },
          "metadata": {
            "tags": []
          },
          "execution_count": 9
        }
      ]
    },
    {
      "cell_type": "markdown",
      "metadata": {
        "id": "klH5y0SbVWKx",
        "colab_type": "text"
      },
      "source": [
        "#### TEST DATA"
      ]
    },
    {
      "cell_type": "code",
      "metadata": {
        "id": "sQtp3QAt-POe",
        "colab_type": "code",
        "outputId": "736a897d-81ba-4dc2-8331-af70e39bb300",
        "colab": {
          "base_uri": "https://localhost:8080/",
          "height": 33
        }
      },
      "source": [
        "covid_test=pd.read_csv('/content/COVID-CT/Data-split/COVID/testCT_COVID.txt',header=None,squeeze=True).tolist()\n",
        "noncovid_test=pd.read_csv('/content/COVID-CT/Data-split/NonCOVID/testCT_NonCOVID.txt',header=None,squeeze=True).tolist()\n",
        "test=covid_test+noncovid_test\n",
        "len(test)"
      ],
      "execution_count": 10,
      "outputs": [
        {
          "output_type": "execute_result",
          "data": {
            "text/plain": [
              "203"
            ]
          },
          "metadata": {
            "tags": []
          },
          "execution_count": 10
        }
      ]
    },
    {
      "cell_type": "code",
      "metadata": {
        "id": "M3vJ-sCcaeQm",
        "colab_type": "code",
        "outputId": "66b0ed80-0aec-41d2-f300-106dc976f596",
        "colab": {
          "base_uri": "https://localhost:8080/",
          "height": 33
        }
      },
      "source": [
        "len(test),len(covid_test),len(noncovid_test)"
      ],
      "execution_count": 11,
      "outputs": [
        {
          "output_type": "execute_result",
          "data": {
            "text/plain": [
              "(203, 98, 105)"
            ]
          },
          "metadata": {
            "tags": []
          },
          "execution_count": 11
        }
      ]
    },
    {
      "cell_type": "code",
      "metadata": {
        "id": "JRUWC9sKV5G8",
        "colab_type": "code",
        "colab": {}
      },
      "source": [
        "test_df=df[df['file'].isin(test)]\n",
        "train_df=df[~df['file'].isin(test)]"
      ],
      "execution_count": 0,
      "outputs": []
    },
    {
      "cell_type": "code",
      "metadata": {
        "id": "KUuvqVvSaA-S",
        "colab_type": "code",
        "outputId": "ea8efa68-783d-44ac-d32d-79dce3d9c0bd",
        "colab": {
          "base_uri": "https://localhost:8080/",
          "height": 33
        }
      },
      "source": [
        "len(df),len(train_df),len(test_df)"
      ],
      "execution_count": 13,
      "outputs": [
        {
          "output_type": "execute_result",
          "data": {
            "text/plain": [
              "(746, 543, 203)"
            ]
          },
          "metadata": {
            "tags": []
          },
          "execution_count": 13
        }
      ]
    },
    {
      "cell_type": "markdown",
      "metadata": {
        "id": "oOXgCH8l-bqZ",
        "colab_type": "text"
      },
      "source": [
        "### Data generator"
      ]
    },
    {
      "cell_type": "code",
      "metadata": {
        "id": "CzTlWxDb-c9N",
        "colab_type": "code",
        "colab": {}
      },
      "source": [
        "from keras_preprocessing.image import ImageDataGenerator\n",
        "data_gen= ImageDataGenerator(\n",
        "    horizontal_flip=True,\n",
        "    vertical_flip=True,\n",
        "    #rotation_range=360,\n",
        "    #width_shift_range=0.2,\n",
        "    #height_shift_range=0.2,\n",
        "    #zoom_range=.2,\n",
        "    rescale=1/255,\n",
        "    fill_mode='nearest',\n",
        "    #shear_range=0.2,\n",
        "    #brightness_range=[0.2, 2.0],\n",
        "    )"
      ],
      "execution_count": 0,
      "outputs": []
    },
    {
      "cell_type": "code",
      "metadata": {
        "id": "gZ8ZMeKI-gQu",
        "colab_type": "code",
        "colab": {}
      },
      "source": [
        "from tensorflow.keras.models import Sequential,Model\n",
        "from tensorflow.keras.layers import Activation, Dropout, Flatten, Dense, Conv2D, MaxPool2D, BatchNormalization,Input,MaxPooling2D,GlobalMaxPooling2D,concatenate\n",
        "from tensorflow.keras.layers import GlobalAveragePooling2D\n",
        "from tensorflow.keras.applications.resnet50 import ResNet50\n",
        "from tensorflow.keras.callbacks import ModelCheckpoint,ReduceLROnPlateau\n",
        "from tensorflow.keras.optimizers import Adam\n",
        "import tensorflow.keras.backend as K\n",
        "import tensorflow as tf"
      ],
      "execution_count": 0,
      "outputs": []
    },
    {
      "cell_type": "markdown",
      "metadata": {
        "id": "rdSPz3Ru-VgF",
        "colab_type": "text"
      },
      "source": [
        "#Train model"
      ]
    },
    {
      "cell_type": "code",
      "metadata": {
        "id": "BfiKa4qr-rjv",
        "colab_type": "code",
        "colab": {}
      },
      "source": [
        "img_shape=300\n",
        "batch_size=20"
      ],
      "execution_count": 0,
      "outputs": []
    },
    {
      "cell_type": "code",
      "metadata": {
        "id": "d_omSkY2-W0d",
        "colab_type": "code",
        "outputId": "8dffad6f-f5d7-4f46-d2d5-ca5bed4a4e6a",
        "colab": {
          "base_uri": "https://localhost:8080/",
          "height": 1000
        }
      },
      "source": [
        "from sklearn.model_selection import KFold\n",
        "import gc\n",
        "from focal_loss import BinaryFocalLoss\n",
        "\n",
        "from sklearn.metrics import classification_report,accuracy_score,f1_score,roc_auc_score\n",
        "classification_reports=[]\n",
        "kf = KFold(n_splits=5)\n",
        "history=[]\n",
        "accuracy=[]\n",
        "f1_scores=[]\n",
        "auc=[]\n",
        "y_pred=[]\n",
        "fold=0\n",
        "for train_index, test_index in kf.split(train_df):\n",
        "  train=train_df.iloc[train_index,:]\n",
        "  val=train_df.iloc[test_index,:]\n",
        "  print('-----------fold {}--------------'.format(fold))\n",
        "  train_generator=data_gen.flow_from_dataframe(train,directory='images',\n",
        "                                                      target_size=(img_shape,img_shape),\n",
        "                                                      x_col=\"file\",\n",
        "                                                      y_col=['covid','noncovid'],\n",
        "                                                      class_mode='raw',\n",
        "                                                      shuffle=True,\n",
        "                                                      batch_size=batch_size)\n",
        "\n",
        "  val_generator=data_gen.flow_from_dataframe(val,directory='images',\n",
        "                                                        target_size=(img_shape,img_shape),\n",
        "                                                        x_col=\"file\",\n",
        "                                                        y_col=['covid','noncovid'],\n",
        "                                                        class_mode='raw',\n",
        "                                                        shuffle=False,\n",
        "                                                        batch_size=batch_size)\n",
        "  \n",
        "  test_generator=data_gen.flow_from_dataframe(test_df,directory='images',\n",
        "                                                      target_size=(img_shape,img_shape),\n",
        "                                                      x_col=\"file\",\n",
        "                                                      y_col=['covid','noncovid'],\n",
        "                                                      class_mode='raw',\n",
        "                                                      shuffle=False,\n",
        "                                                      batch_size=batch_size)\n",
        "  #train_generator.next()[0].shape,train_generator.next()[1].shape\n",
        "  import efficientnet.tfkeras as efn\n",
        "  model =efn.EfficientNetB4(weights ='noisy-student', include_top=False, input_shape = (img_shape,img_shape,3))\n",
        "    \n",
        "  x = model.output\n",
        "  x = GlobalAveragePooling2D()(x)\n",
        "  #x = Dropout(0.3)(x)\n",
        "  #x = Dense(128, activation=\"relu\")(x)\n",
        "  #x = Dropout(0.3)(x)\n",
        "  #x = Dense(64, activation=\"relu\")(x)\n",
        "  predictions = Dense(2, activation=\"softmax\")(x)\n",
        "  model = Model(inputs=model.input, outputs=predictions)\n",
        "\n",
        "\n",
        "  model.compile(optimizer=Adam(0.001), loss=BinaryFocalLoss(gamma=2), metrics=['accuracy'])\n",
        "\n",
        "  results = model.fit(train_generator,epochs=25,\n",
        "                              steps_per_epoch=train_generator.n/batch_size,\n",
        "                              validation_data=val_generator,\n",
        "                             validation_steps=val_generator.n/batch_size,\n",
        "                              callbacks=[ReduceLROnPlateau(monitor='val_loss', factor=0.5,patience=3, min_lr=0.000001),\n",
        "                                         #ModelCheckpoint('model_{}.hdf5'.format(fold), save_best_only=True, monitor='val_loss', mode='min')\n",
        "                                         ])\n",
        "  #model.load_weights('model_{}.hdf5'.format(fold))\n",
        "  test_generator.reset()\n",
        "  y_pred.append(model.predict(test_generator,steps=test_generator.n/batch_size,verbose=1))\n",
        "\n",
        "\n",
        "  \n",
        "  fold+=1\n",
        "  del model\n",
        "  tf.keras.backend.clear_session()\n",
        "  gc.collect()"
      ],
      "execution_count": 45,
      "outputs": [
        {
          "output_type": "stream",
          "text": [
            "-----------fold 0--------------\n",
            "Found 434 validated image filenames.\n",
            "Found 109 validated image filenames.\n",
            "Found 203 validated image filenames.\n",
            "Downloading data from https://github.com/qubvel/efficientnet/releases/download/v0.0.1/efficientnet-b4_noisy-student_notop.h5\n",
            "71680000/71678424 [==============================] - 7s 0us/step\n",
            "Epoch 1/25\n",
            "22/21 [==============================] - 24s 1s/step - loss: 0.2348 - accuracy: 0.6659 - val_loss: 0.2621 - val_accuracy: 0.5963 - lr: 0.0010\n",
            "Epoch 2/25\n",
            "22/21 [==============================] - 19s 863ms/step - loss: 0.1611 - accuracy: 0.7604 - val_loss: 0.5168 - val_accuracy: 0.7523 - lr: 0.0010\n",
            "Epoch 3/25\n",
            "22/21 [==============================] - 19s 848ms/step - loss: 0.1134 - accuracy: 0.8502 - val_loss: 0.1735 - val_accuracy: 0.7982 - lr: 0.0010\n",
            "Epoch 4/25\n",
            "22/21 [==============================] - 19s 847ms/step - loss: 0.0724 - accuracy: 0.8963 - val_loss: 0.2133 - val_accuracy: 0.7431 - lr: 0.0010\n",
            "Epoch 5/25\n",
            "22/21 [==============================] - 19s 855ms/step - loss: 0.0525 - accuracy: 0.9171 - val_loss: 0.1537 - val_accuracy: 0.8349 - lr: 0.0010\n",
            "Epoch 6/25\n",
            "22/21 [==============================] - 19s 847ms/step - loss: 0.0613 - accuracy: 0.9147 - val_loss: 0.2277 - val_accuracy: 0.8073 - lr: 0.0010\n",
            "Epoch 7/25\n",
            "22/21 [==============================] - 19s 853ms/step - loss: 0.0451 - accuracy: 0.9332 - val_loss: 0.9702 - val_accuracy: 0.6789 - lr: 0.0010\n",
            "Epoch 8/25\n",
            "22/21 [==============================] - 19s 848ms/step - loss: 0.0397 - accuracy: 0.9424 - val_loss: 0.3804 - val_accuracy: 0.6972 - lr: 0.0010\n",
            "Epoch 9/25\n",
            "22/21 [==============================] - 19s 847ms/step - loss: 0.0672 - accuracy: 0.9263 - val_loss: 0.0727 - val_accuracy: 0.8716 - lr: 5.0000e-04\n",
            "Epoch 10/25\n",
            "22/21 [==============================] - 19s 847ms/step - loss: 0.0270 - accuracy: 0.9677 - val_loss: 0.0633 - val_accuracy: 0.9266 - lr: 5.0000e-04\n",
            "Epoch 11/25\n",
            "22/21 [==============================] - 19s 854ms/step - loss: 0.0181 - accuracy: 0.9839 - val_loss: 0.0632 - val_accuracy: 0.8991 - lr: 5.0000e-04\n",
            "Epoch 12/25\n",
            "22/21 [==============================] - 19s 841ms/step - loss: 0.0140 - accuracy: 0.9816 - val_loss: 0.0693 - val_accuracy: 0.9174 - lr: 5.0000e-04\n",
            "Epoch 13/25\n",
            "22/21 [==============================] - 19s 853ms/step - loss: 0.0067 - accuracy: 0.9908 - val_loss: 0.1807 - val_accuracy: 0.8716 - lr: 5.0000e-04\n",
            "Epoch 14/25\n",
            "22/21 [==============================] - 19s 847ms/step - loss: 0.0084 - accuracy: 0.9839 - val_loss: 0.1691 - val_accuracy: 0.8716 - lr: 5.0000e-04\n",
            "Epoch 15/25\n",
            "22/21 [==============================] - 19s 847ms/step - loss: 0.0068 - accuracy: 0.9931 - val_loss: 0.1520 - val_accuracy: 0.8807 - lr: 2.5000e-04\n",
            "Epoch 16/25\n",
            "22/21 [==============================] - 19s 847ms/step - loss: 0.0108 - accuracy: 0.9839 - val_loss: 0.1610 - val_accuracy: 0.8899 - lr: 2.5000e-04\n",
            "Epoch 17/25\n",
            "22/21 [==============================] - 19s 848ms/step - loss: 0.0045 - accuracy: 0.9931 - val_loss: 0.1317 - val_accuracy: 0.8807 - lr: 2.5000e-04\n",
            "Epoch 18/25\n",
            "22/21 [==============================] - 19s 844ms/step - loss: 0.0057 - accuracy: 0.9931 - val_loss: 0.1042 - val_accuracy: 0.8899 - lr: 1.2500e-04\n",
            "Epoch 19/25\n",
            "22/21 [==============================] - 19s 851ms/step - loss: 0.0138 - accuracy: 0.9839 - val_loss: 0.0769 - val_accuracy: 0.9358 - lr: 1.2500e-04\n",
            "Epoch 20/25\n",
            "22/21 [==============================] - 19s 849ms/step - loss: 0.0033 - accuracy: 1.0000 - val_loss: 0.0448 - val_accuracy: 0.9358 - lr: 1.2500e-04\n",
            "Epoch 21/25\n",
            "22/21 [==============================] - 19s 856ms/step - loss: 0.0030 - accuracy: 0.9954 - val_loss: 0.0433 - val_accuracy: 0.9358 - lr: 1.2500e-04\n",
            "Epoch 22/25\n",
            "22/21 [==============================] - 19s 851ms/step - loss: 0.0098 - accuracy: 0.9839 - val_loss: 0.0176 - val_accuracy: 0.9725 - lr: 1.2500e-04\n",
            "Epoch 23/25\n",
            "22/21 [==============================] - 19s 847ms/step - loss: 0.0101 - accuracy: 0.9862 - val_loss: 0.0173 - val_accuracy: 0.9725 - lr: 1.2500e-04\n",
            "Epoch 24/25\n",
            "22/21 [==============================] - 19s 849ms/step - loss: 0.0038 - accuracy: 0.9977 - val_loss: 0.0300 - val_accuracy: 0.9450 - lr: 1.2500e-04\n",
            "Epoch 25/25\n",
            "22/21 [==============================] - 19s 852ms/step - loss: 0.0037 - accuracy: 0.9931 - val_loss: 0.0276 - val_accuracy: 0.9541 - lr: 1.2500e-04\n",
            "11/10 [================================] - 2s 195ms/step\n",
            "-----------fold 1--------------\n",
            "Found 434 validated image filenames.\n",
            "Found 109 validated image filenames.\n",
            "Found 203 validated image filenames.\n",
            "Epoch 1/25\n",
            "22/21 [==============================] - 21s 955ms/step - loss: 0.2546 - accuracy: 0.6244 - val_loss: 1.7031 - val_accuracy: 0.5321 - lr: 0.0010\n",
            "Epoch 2/25\n",
            "22/21 [==============================] - 19s 869ms/step - loss: 0.1275 - accuracy: 0.8041 - val_loss: 0.6571 - val_accuracy: 0.5321 - lr: 0.0010\n",
            "Epoch 3/25\n",
            "22/21 [==============================] - 19s 863ms/step - loss: 0.0837 - accuracy: 0.8710 - val_loss: 0.1365 - val_accuracy: 0.7339 - lr: 0.0010\n",
            "Epoch 4/25\n",
            "22/21 [==============================] - 19s 851ms/step - loss: 0.0745 - accuracy: 0.8940 - val_loss: 0.2711 - val_accuracy: 0.6239 - lr: 0.0010\n",
            "Epoch 5/25\n",
            "22/21 [==============================] - 19s 857ms/step - loss: 0.0457 - accuracy: 0.9470 - val_loss: 0.3228 - val_accuracy: 0.5780 - lr: 0.0010\n",
            "Epoch 6/25\n",
            "22/21 [==============================] - 19s 872ms/step - loss: 0.0319 - accuracy: 0.9516 - val_loss: 0.5216 - val_accuracy: 0.5413 - lr: 0.0010\n",
            "Epoch 7/25\n",
            "22/21 [==============================] - 19s 863ms/step - loss: 0.0259 - accuracy: 0.9677 - val_loss: 0.6080 - val_accuracy: 0.6147 - lr: 5.0000e-04\n",
            "Epoch 8/25\n",
            "22/21 [==============================] - 19s 858ms/step - loss: 0.0217 - accuracy: 0.9700 - val_loss: 0.4427 - val_accuracy: 0.6789 - lr: 5.0000e-04\n",
            "Epoch 9/25\n",
            "22/21 [==============================] - 19s 852ms/step - loss: 0.0102 - accuracy: 0.9839 - val_loss: 0.2953 - val_accuracy: 0.8073 - lr: 5.0000e-04\n",
            "Epoch 10/25\n",
            "22/21 [==============================] - 19s 856ms/step - loss: 0.0180 - accuracy: 0.9793 - val_loss: 0.3923 - val_accuracy: 0.8073 - lr: 2.5000e-04\n",
            "Epoch 11/25\n",
            "22/21 [==============================] - 19s 853ms/step - loss: 0.0122 - accuracy: 0.9816 - val_loss: 0.3946 - val_accuracy: 0.7431 - lr: 2.5000e-04\n",
            "Epoch 12/25\n",
            "22/21 [==============================] - 19s 852ms/step - loss: 0.0160 - accuracy: 0.9862 - val_loss: 0.2685 - val_accuracy: 0.7890 - lr: 2.5000e-04\n",
            "Epoch 13/25\n",
            "22/21 [==============================] - 19s 856ms/step - loss: 0.0079 - accuracy: 0.9954 - val_loss: 0.2140 - val_accuracy: 0.8349 - lr: 1.2500e-04\n",
            "Epoch 14/25\n",
            "22/21 [==============================] - 19s 841ms/step - loss: 0.0075 - accuracy: 0.9885 - val_loss: 0.2196 - val_accuracy: 0.8532 - lr: 1.2500e-04\n",
            "Epoch 15/25\n",
            "22/21 [==============================] - 19s 849ms/step - loss: 0.0054 - accuracy: 0.9954 - val_loss: 0.1983 - val_accuracy: 0.8716 - lr: 1.2500e-04\n",
            "Epoch 16/25\n",
            "22/21 [==============================] - 19s 855ms/step - loss: 0.0078 - accuracy: 0.9954 - val_loss: 0.1678 - val_accuracy: 0.8624 - lr: 6.2500e-05\n",
            "Epoch 17/25\n",
            "22/21 [==============================] - 19s 857ms/step - loss: 0.0061 - accuracy: 0.9931 - val_loss: 0.1462 - val_accuracy: 0.8716 - lr: 6.2500e-05\n",
            "Epoch 18/25\n",
            "22/21 [==============================] - 18s 839ms/step - loss: 0.0054 - accuracy: 0.9931 - val_loss: 0.1118 - val_accuracy: 0.8991 - lr: 6.2500e-05\n",
            "Epoch 19/25\n",
            "22/21 [==============================] - 19s 857ms/step - loss: 0.0039 - accuracy: 0.9954 - val_loss: 0.1097 - val_accuracy: 0.9083 - lr: 6.2500e-05\n",
            "Epoch 20/25\n",
            "22/21 [==============================] - 19s 856ms/step - loss: 0.0026 - accuracy: 1.0000 - val_loss: 0.0956 - val_accuracy: 0.8716 - lr: 6.2500e-05\n",
            "Epoch 21/25\n",
            "22/21 [==============================] - 19s 856ms/step - loss: 0.0054 - accuracy: 0.9908 - val_loss: 0.1039 - val_accuracy: 0.9083 - lr: 6.2500e-05\n",
            "Epoch 22/25\n",
            "22/21 [==============================] - 19s 856ms/step - loss: 0.0060 - accuracy: 0.9931 - val_loss: 0.1122 - val_accuracy: 0.9174 - lr: 6.2500e-05\n",
            "Epoch 23/25\n",
            "22/21 [==============================] - 19s 845ms/step - loss: 0.0041 - accuracy: 0.9931 - val_loss: 0.1013 - val_accuracy: 0.8991 - lr: 6.2500e-05\n",
            "Epoch 24/25\n",
            "22/21 [==============================] - 19s 855ms/step - loss: 0.0025 - accuracy: 1.0000 - val_loss: 0.1059 - val_accuracy: 0.9174 - lr: 3.1250e-05\n",
            "Epoch 25/25\n",
            "22/21 [==============================] - 19s 859ms/step - loss: 0.0026 - accuracy: 0.9977 - val_loss: 0.0891 - val_accuracy: 0.9174 - lr: 3.1250e-05\n",
            "11/10 [================================] - 2s 137ms/step\n",
            "-----------fold 2--------------\n",
            "Found 434 validated image filenames.\n",
            "Found 109 validated image filenames.\n",
            "Found 203 validated image filenames.\n",
            "Epoch 1/25\n",
            "22/21 [==============================] - 21s 966ms/step - loss: 0.2233 - accuracy: 0.6452 - val_loss: 0.1966 - val_accuracy: 0.7339 - lr: 0.0010\n",
            "Epoch 2/25\n",
            "22/21 [==============================] - 19s 872ms/step - loss: 0.1445 - accuracy: 0.7535 - val_loss: 0.3203 - val_accuracy: 0.6697 - lr: 0.0010\n",
            "Epoch 3/25\n",
            "22/21 [==============================] - 19s 875ms/step - loss: 0.0813 - accuracy: 0.8802 - val_loss: 0.5985 - val_accuracy: 0.7339 - lr: 0.0010\n",
            "Epoch 4/25\n",
            "22/21 [==============================] - 19s 851ms/step - loss: 0.0720 - accuracy: 0.8848 - val_loss: 0.2595 - val_accuracy: 0.6881 - lr: 0.0010\n",
            "Epoch 5/25\n",
            "22/21 [==============================] - 19s 873ms/step - loss: 0.0466 - accuracy: 0.9263 - val_loss: 0.1163 - val_accuracy: 0.8257 - lr: 5.0000e-04\n",
            "Epoch 6/25\n",
            "22/21 [==============================] - 19s 861ms/step - loss: 0.0503 - accuracy: 0.9240 - val_loss: 0.2117 - val_accuracy: 0.7248 - lr: 5.0000e-04\n",
            "Epoch 7/25\n",
            "22/21 [==============================] - 19s 856ms/step - loss: 0.0290 - accuracy: 0.9562 - val_loss: 0.3832 - val_accuracy: 0.6697 - lr: 5.0000e-04\n",
            "Epoch 8/25\n",
            "22/21 [==============================] - 19s 841ms/step - loss: 0.0225 - accuracy: 0.9724 - val_loss: 0.6136 - val_accuracy: 0.6881 - lr: 5.0000e-04\n",
            "Epoch 9/25\n",
            "22/21 [==============================] - 19s 859ms/step - loss: 0.0164 - accuracy: 0.9770 - val_loss: 0.6237 - val_accuracy: 0.7064 - lr: 2.5000e-04\n",
            "Epoch 10/25\n",
            "22/21 [==============================] - 19s 855ms/step - loss: 0.0152 - accuracy: 0.9770 - val_loss: 0.4541 - val_accuracy: 0.7431 - lr: 2.5000e-04\n",
            "Epoch 11/25\n",
            "22/21 [==============================] - 19s 867ms/step - loss: 0.0106 - accuracy: 0.9885 - val_loss: 0.4531 - val_accuracy: 0.6972 - lr: 2.5000e-04\n",
            "Epoch 12/25\n",
            "22/21 [==============================] - 19s 861ms/step - loss: 0.0101 - accuracy: 0.9954 - val_loss: 0.4192 - val_accuracy: 0.7339 - lr: 1.2500e-04\n",
            "Epoch 13/25\n",
            "22/21 [==============================] - 19s 850ms/step - loss: 0.0103 - accuracy: 0.9862 - val_loss: 0.2906 - val_accuracy: 0.7706 - lr: 1.2500e-04\n",
            "Epoch 14/25\n",
            "22/21 [==============================] - 19s 859ms/step - loss: 0.0041 - accuracy: 1.0000 - val_loss: 0.3692 - val_accuracy: 0.7339 - lr: 1.2500e-04\n",
            "Epoch 15/25\n",
            "22/21 [==============================] - 19s 858ms/step - loss: 0.0062 - accuracy: 0.9931 - val_loss: 0.2964 - val_accuracy: 0.7615 - lr: 6.2500e-05\n",
            "Epoch 16/25\n",
            "22/21 [==============================] - 19s 867ms/step - loss: 0.0033 - accuracy: 0.9977 - val_loss: 0.2943 - val_accuracy: 0.7615 - lr: 6.2500e-05\n",
            "Epoch 17/25\n",
            "22/21 [==============================] - 19s 845ms/step - loss: 0.0051 - accuracy: 0.9954 - val_loss: 0.2385 - val_accuracy: 0.8257 - lr: 6.2500e-05\n",
            "Epoch 18/25\n",
            "22/21 [==============================] - 19s 846ms/step - loss: 0.0067 - accuracy: 0.9931 - val_loss: 0.1709 - val_accuracy: 0.8073 - lr: 3.1250e-05\n",
            "Epoch 19/25\n",
            "22/21 [==============================] - 19s 844ms/step - loss: 0.0147 - accuracy: 0.9885 - val_loss: 0.1367 - val_accuracy: 0.8532 - lr: 3.1250e-05\n",
            "Epoch 20/25\n",
            "22/21 [==============================] - 19s 853ms/step - loss: 0.0034 - accuracy: 1.0000 - val_loss: 0.1339 - val_accuracy: 0.8257 - lr: 3.1250e-05\n",
            "Epoch 21/25\n",
            "22/21 [==============================] - 19s 868ms/step - loss: 0.0077 - accuracy: 0.9908 - val_loss: 0.1198 - val_accuracy: 0.8807 - lr: 1.5625e-05\n",
            "Epoch 22/25\n",
            "22/21 [==============================] - 19s 863ms/step - loss: 0.0054 - accuracy: 0.9931 - val_loss: 0.0895 - val_accuracy: 0.8716 - lr: 1.5625e-05\n",
            "Epoch 23/25\n",
            "22/21 [==============================] - 19s 867ms/step - loss: 0.0033 - accuracy: 0.9954 - val_loss: 0.0897 - val_accuracy: 0.8991 - lr: 1.5625e-05\n",
            "Epoch 24/25\n",
            "22/21 [==============================] - 19s 868ms/step - loss: 0.0027 - accuracy: 1.0000 - val_loss: 0.0749 - val_accuracy: 0.9174 - lr: 1.5625e-05\n",
            "Epoch 25/25\n",
            "22/21 [==============================] - 19s 843ms/step - loss: 0.0041 - accuracy: 0.9954 - val_loss: 0.0648 - val_accuracy: 0.9358 - lr: 1.5625e-05\n",
            "11/10 [================================] - 2s 137ms/step\n",
            "-----------fold 3--------------\n",
            "Found 435 validated image filenames.\n",
            "Found 108 validated image filenames.\n",
            "Found 203 validated image filenames.\n",
            "Epoch 1/25\n",
            "22/21 [==============================] - 24s 1s/step - loss: 0.2583 - accuracy: 0.6621 - val_loss: 0.3312 - val_accuracy: 0.6296 - lr: 0.0010\n",
            "Epoch 2/25\n",
            "22/21 [==============================] - 19s 871ms/step - loss: 0.1297 - accuracy: 0.7770 - val_loss: 0.2570 - val_accuracy: 0.6481 - lr: 0.0010\n",
            "Epoch 3/25\n",
            "22/21 [==============================] - 19s 864ms/step - loss: 0.0859 - accuracy: 0.8690 - val_loss: 0.3094 - val_accuracy: 0.7778 - lr: 0.0010\n",
            "Epoch 4/25\n",
            "22/21 [==============================] - 19s 848ms/step - loss: 0.0702 - accuracy: 0.8851 - val_loss: 0.5035 - val_accuracy: 0.6852 - lr: 0.0010\n",
            "Epoch 5/25\n",
            "22/21 [==============================] - 19s 851ms/step - loss: 0.0555 - accuracy: 0.9310 - val_loss: 0.6137 - val_accuracy: 0.6389 - lr: 0.0010\n",
            "Epoch 6/25\n",
            "22/21 [==============================] - 19s 851ms/step - loss: 0.0447 - accuracy: 0.9402 - val_loss: 0.2747 - val_accuracy: 0.7778 - lr: 5.0000e-04\n",
            "Epoch 7/25\n",
            "22/21 [==============================] - 19s 868ms/step - loss: 0.0226 - accuracy: 0.9701 - val_loss: 0.5884 - val_accuracy: 0.7130 - lr: 5.0000e-04\n",
            "Epoch 8/25\n",
            "22/21 [==============================] - 19s 866ms/step - loss: 0.0217 - accuracy: 0.9724 - val_loss: 0.3961 - val_accuracy: 0.7778 - lr: 5.0000e-04\n",
            "Epoch 9/25\n",
            "22/21 [==============================] - 19s 862ms/step - loss: 0.0201 - accuracy: 0.9816 - val_loss: 0.2995 - val_accuracy: 0.8056 - lr: 2.5000e-04\n",
            "Epoch 10/25\n",
            "22/21 [==============================] - 19s 862ms/step - loss: 0.0211 - accuracy: 0.9655 - val_loss: 0.2319 - val_accuracy: 0.7870 - lr: 2.5000e-04\n",
            "Epoch 11/25\n",
            "22/21 [==============================] - 19s 859ms/step - loss: 0.0103 - accuracy: 0.9885 - val_loss: 0.2051 - val_accuracy: 0.8056 - lr: 2.5000e-04\n",
            "Epoch 12/25\n",
            "22/21 [==============================] - 19s 861ms/step - loss: 0.0053 - accuracy: 0.9931 - val_loss: 0.1534 - val_accuracy: 0.8333 - lr: 2.5000e-04\n",
            "Epoch 13/25\n",
            "22/21 [==============================] - 20s 891ms/step - loss: 0.0108 - accuracy: 0.9839 - val_loss: 0.1238 - val_accuracy: 0.8796 - lr: 2.5000e-04\n",
            "Epoch 14/25\n",
            "22/21 [==============================] - 19s 872ms/step - loss: 0.0109 - accuracy: 0.9908 - val_loss: 0.1492 - val_accuracy: 0.8889 - lr: 2.5000e-04\n",
            "Epoch 15/25\n",
            "22/21 [==============================] - 19s 859ms/step - loss: 0.0110 - accuracy: 0.9839 - val_loss: 0.0661 - val_accuracy: 0.8981 - lr: 2.5000e-04\n",
            "Epoch 16/25\n",
            "22/21 [==============================] - 19s 853ms/step - loss: 0.0084 - accuracy: 0.9908 - val_loss: 0.0876 - val_accuracy: 0.8796 - lr: 2.5000e-04\n",
            "Epoch 17/25\n",
            "22/21 [==============================] - 19s 861ms/step - loss: 0.0126 - accuracy: 0.9839 - val_loss: 0.0856 - val_accuracy: 0.8889 - lr: 2.5000e-04\n",
            "Epoch 18/25\n",
            "22/21 [==============================] - 19s 859ms/step - loss: 0.0102 - accuracy: 0.9885 - val_loss: 0.0513 - val_accuracy: 0.9259 - lr: 2.5000e-04\n",
            "Epoch 19/25\n",
            "22/21 [==============================] - 19s 866ms/step - loss: 0.0046 - accuracy: 0.9954 - val_loss: 0.0454 - val_accuracy: 0.9352 - lr: 2.5000e-04\n",
            "Epoch 20/25\n",
            "22/21 [==============================] - 19s 862ms/step - loss: 0.0040 - accuracy: 0.9954 - val_loss: 0.0500 - val_accuracy: 0.9444 - lr: 2.5000e-04\n",
            "Epoch 21/25\n",
            "22/21 [==============================] - 19s 853ms/step - loss: 0.0033 - accuracy: 0.9977 - val_loss: 0.0673 - val_accuracy: 0.9352 - lr: 2.5000e-04\n",
            "Epoch 22/25\n",
            "22/21 [==============================] - 19s 852ms/step - loss: 0.0030 - accuracy: 0.9977 - val_loss: 0.0544 - val_accuracy: 0.9259 - lr: 2.5000e-04\n",
            "Epoch 23/25\n",
            "22/21 [==============================] - 19s 863ms/step - loss: 0.0022 - accuracy: 0.9977 - val_loss: 0.0583 - val_accuracy: 0.9444 - lr: 1.2500e-04\n",
            "Epoch 24/25\n",
            "22/21 [==============================] - 19s 853ms/step - loss: 0.0012 - accuracy: 1.0000 - val_loss: 0.0483 - val_accuracy: 0.9537 - lr: 1.2500e-04\n",
            "Epoch 25/25\n",
            "22/21 [==============================] - 19s 860ms/step - loss: 0.0015 - accuracy: 0.9977 - val_loss: 0.0389 - val_accuracy: 0.9630 - lr: 1.2500e-04\n",
            "11/10 [================================] - 2s 136ms/step\n",
            "-----------fold 4--------------\n",
            "Found 435 validated image filenames.\n",
            "Found 108 validated image filenames.\n",
            "Found 203 validated image filenames.\n",
            "Epoch 1/25\n",
            "22/21 [==============================] - 21s 969ms/step - loss: 0.2646 - accuracy: 0.6230 - val_loss: 0.1704 - val_accuracy: 0.6574 - lr: 0.0010\n",
            "Epoch 2/25\n",
            "22/21 [==============================] - 19s 876ms/step - loss: 0.1167 - accuracy: 0.7931 - val_loss: 0.8021 - val_accuracy: 0.5370 - lr: 0.0010\n",
            "Epoch 3/25\n",
            "22/21 [==============================] - 19s 854ms/step - loss: 0.0787 - accuracy: 0.8713 - val_loss: 0.4168 - val_accuracy: 0.5741 - lr: 0.0010\n",
            "Epoch 4/25\n",
            "22/21 [==============================] - 19s 846ms/step - loss: 0.0624 - accuracy: 0.9218 - val_loss: 0.3848 - val_accuracy: 0.6204 - lr: 0.0010\n",
            "Epoch 5/25\n",
            "22/21 [==============================] - 19s 856ms/step - loss: 0.0439 - accuracy: 0.9356 - val_loss: 0.1892 - val_accuracy: 0.7037 - lr: 5.0000e-04\n",
            "Epoch 6/25\n",
            "22/21 [==============================] - 19s 873ms/step - loss: 0.0336 - accuracy: 0.9793 - val_loss: 0.3295 - val_accuracy: 0.7130 - lr: 5.0000e-04\n",
            "Epoch 7/25\n",
            "22/21 [==============================] - 19s 857ms/step - loss: 0.0218 - accuracy: 0.9701 - val_loss: 0.4744 - val_accuracy: 0.7222 - lr: 5.0000e-04\n",
            "Epoch 8/25\n",
            "22/21 [==============================] - 19s 856ms/step - loss: 0.0242 - accuracy: 0.9655 - val_loss: 0.4734 - val_accuracy: 0.6944 - lr: 2.5000e-04\n",
            "Epoch 9/25\n",
            "22/21 [==============================] - 19s 867ms/step - loss: 0.0131 - accuracy: 0.9793 - val_loss: 0.3239 - val_accuracy: 0.7870 - lr: 2.5000e-04\n",
            "Epoch 10/25\n",
            "22/21 [==============================] - 19s 852ms/step - loss: 0.0195 - accuracy: 0.9793 - val_loss: 0.4142 - val_accuracy: 0.7778 - lr: 2.5000e-04\n",
            "Epoch 11/25\n",
            "22/21 [==============================] - 19s 868ms/step - loss: 0.0079 - accuracy: 0.9839 - val_loss: 0.3856 - val_accuracy: 0.7593 - lr: 1.2500e-04\n",
            "Epoch 12/25\n",
            "22/21 [==============================] - 19s 858ms/step - loss: 0.0114 - accuracy: 0.9816 - val_loss: 0.3242 - val_accuracy: 0.7778 - lr: 1.2500e-04\n",
            "Epoch 13/25\n",
            "22/21 [==============================] - 19s 854ms/step - loss: 0.0087 - accuracy: 0.9885 - val_loss: 0.3122 - val_accuracy: 0.7963 - lr: 1.2500e-04\n",
            "Epoch 14/25\n",
            "22/21 [==============================] - 19s 858ms/step - loss: 0.0060 - accuracy: 0.9931 - val_loss: 0.2878 - val_accuracy: 0.8241 - lr: 6.2500e-05\n",
            "Epoch 15/25\n",
            "22/21 [==============================] - 19s 859ms/step - loss: 0.0100 - accuracy: 0.9862 - val_loss: 0.2385 - val_accuracy: 0.8148 - lr: 6.2500e-05\n",
            "Epoch 16/25\n",
            "22/21 [==============================] - 19s 852ms/step - loss: 0.0044 - accuracy: 0.9931 - val_loss: 0.2184 - val_accuracy: 0.8241 - lr: 6.2500e-05\n",
            "Epoch 17/25\n",
            "22/21 [==============================] - 19s 866ms/step - loss: 0.0062 - accuracy: 0.9931 - val_loss: 0.2077 - val_accuracy: 0.8333 - lr: 3.1250e-05\n",
            "Epoch 18/25\n",
            "22/21 [==============================] - 19s 850ms/step - loss: 0.0111 - accuracy: 0.9793 - val_loss: 0.1984 - val_accuracy: 0.8333 - lr: 3.1250e-05\n",
            "Epoch 19/25\n",
            "22/21 [==============================] - 19s 854ms/step - loss: 0.0049 - accuracy: 0.9931 - val_loss: 0.1351 - val_accuracy: 0.8519 - lr: 3.1250e-05\n",
            "Epoch 20/25\n",
            "22/21 [==============================] - 19s 857ms/step - loss: 0.0048 - accuracy: 0.9954 - val_loss: 0.1555 - val_accuracy: 0.8611 - lr: 3.1250e-05\n",
            "Epoch 21/25\n",
            "22/21 [==============================] - 19s 854ms/step - loss: 0.0046 - accuracy: 0.9931 - val_loss: 0.1436 - val_accuracy: 0.8704 - lr: 3.1250e-05\n",
            "Epoch 22/25\n",
            "22/21 [==============================] - 19s 850ms/step - loss: 0.0055 - accuracy: 0.9908 - val_loss: 0.1544 - val_accuracy: 0.8333 - lr: 3.1250e-05\n",
            "Epoch 23/25\n",
            "22/21 [==============================] - 19s 872ms/step - loss: 0.0182 - accuracy: 0.9816 - val_loss: 0.1292 - val_accuracy: 0.8611 - lr: 1.5625e-05\n",
            "Epoch 24/25\n",
            "22/21 [==============================] - 19s 871ms/step - loss: 0.0051 - accuracy: 0.9954 - val_loss: 0.1037 - val_accuracy: 0.8889 - lr: 1.5625e-05\n",
            "Epoch 25/25\n",
            "22/21 [==============================] - 19s 855ms/step - loss: 0.0024 - accuracy: 0.9977 - val_loss: 0.1064 - val_accuracy: 0.8796 - lr: 1.5625e-05\n",
            "11/10 [================================] - 2s 137ms/step\n"
          ],
          "name": "stdout"
        }
      ]
    },
    {
      "cell_type": "code",
      "metadata": {
        "id": "BJobcAABrZK4",
        "colab_type": "code",
        "colab": {}
      },
      "source": [
        "y_mean=np.mean(y_pred,axis=0)"
      ],
      "execution_count": 0,
      "outputs": []
    },
    {
      "cell_type": "code",
      "metadata": {
        "id": "ecc-q4ledbtX",
        "colab_type": "code",
        "colab": {
          "base_uri": "https://localhost:8080/",
          "height": 201
        },
        "outputId": "e54a167c-7f0d-4ede-c51c-74601a56bd17"
      },
      "source": [
        "y_mean=y_mean.round().astype(int)\n",
        "y_true=test_df.iloc[:,2::]\n",
        "print(classification_report(y_true, y_mean,target_names=['covid','noncovid']))#\n",
        "accuracy.append(accuracy_score(y_true,y_mean))\n",
        "#auc.append(roc_auc_score(y_true,y_pred))\n",
        "f1=f1_score(y_true,y_mean,average='macro')\n",
        "print('f1 score is ', f1)\n",
        "f1_scores.append(f1)"
      ],
      "execution_count": 47,
      "outputs": [
        {
          "output_type": "stream",
          "text": [
            "              precision    recall  f1-score   support\n",
            "\n",
            "       covid       0.93      0.69      0.80        98\n",
            "    noncovid       0.77      0.95      0.85       105\n",
            "\n",
            "   micro avg       0.83      0.83      0.83       203\n",
            "   macro avg       0.85      0.82      0.82       203\n",
            "weighted avg       0.85      0.83      0.82       203\n",
            " samples avg       0.83      0.83      0.83       203\n",
            "\n",
            "f1 score is  0.8231927336070672\n"
          ],
          "name": "stdout"
        }
      ]
    },
    {
      "cell_type": "code",
      "metadata": {
        "id": "nloJlTlUPJDZ",
        "colab_type": "code",
        "colab": {}
      },
      "source": [
        ""
      ],
      "execution_count": 0,
      "outputs": []
    }
  ]
}