{
  "nbformat": 4,
  "nbformat_minor": 0,
  "metadata": {
    "colab": {
      "name": "cross_validation_test.ipynb",
      "provenance": [],
      "include_colab_link": true
    },
    "kernelspec": {
      "name": "python3",
      "display_name": "Python 3"
    },
    "accelerator": "GPU"
  },
  "cells": [
    {
      "cell_type": "markdown",
      "metadata": {
        "id": "view-in-github",
        "colab_type": "text"
      },
      "source": [
        "<a href=\"https://colab.research.google.com/github/talhaanwarch/Corona_Virus/blob/master/CT_scan/cross_validation_test.ipynb\" target=\"_parent\"><img src=\"https://colab.research.google.com/assets/colab-badge.svg\" alt=\"Open In Colab\"/></a>"
      ]
    },
    {
      "cell_type": "code",
      "metadata": {
        "id": "ylMZAGXl7kKx",
        "colab_type": "code",
        "colab": {}
      },
      "source": [
        "%%capture\n",
        "!pip install efficientnet"
      ],
      "execution_count": 0,
      "outputs": []
    },
    {
      "cell_type": "code",
      "metadata": {
        "id": "_d7PdOxl3KJv",
        "colab_type": "code",
        "colab": {}
      },
      "source": [
        "%%capture\n",
        "!pip install focal-loss"
      ],
      "execution_count": 0,
      "outputs": []
    },
    {
      "cell_type": "markdown",
      "metadata": {
        "id": "4FDtv7g97nN8",
        "colab_type": "text"
      },
      "source": [
        "### CLone github repo, to dowlonad data"
      ]
    },
    {
      "cell_type": "code",
      "metadata": {
        "id": "yi2pSQus7JR4",
        "colab_type": "code",
        "outputId": "7301782b-a2b1-4394-ca41-ece2b753f985",
        "colab": {
          "base_uri": "https://localhost:8080/",
          "height": 151
        }
      },
      "source": [
        "!git clone https://github.com/UCSD-AI4H/COVID-CT.git"
      ],
      "execution_count": 3,
      "outputs": [
        {
          "output_type": "stream",
          "text": [
            "Cloning into 'COVID-CT'...\n",
            "remote: Enumerating objects: 130, done.\u001b[K\n",
            "remote: Counting objects: 100% (130/130), done.\u001b[K\n",
            "remote: Compressing objects: 100% (128/128), done.\u001b[K\n",
            "remote: Total 5443 (delta 60), reused 9 (delta 2), pack-reused 5313\u001b[K\n",
            "Receiving objects: 100% (5443/5443), 1.09 GiB | 35.36 MiB/s, done.\n",
            "Resolving deltas: 100% (351/351), done.\n",
            "Checking out files: 100% (1048/1048), done.\n"
          ],
          "name": "stdout"
        }
      ]
    },
    {
      "cell_type": "markdown",
      "metadata": {
        "id": "imIfz2hq7s0m",
        "colab_type": "text"
      },
      "source": [
        "### Extract data in one format"
      ]
    },
    {
      "cell_type": "code",
      "metadata": {
        "id": "6WuO45h57deK",
        "colab_type": "code",
        "colab": {}
      },
      "source": [
        "%%capture\n",
        "!unzip /content/COVID-CT/Images-processed/CT_COVID.zip\n",
        "!unzip /content/COVID-CT/Images-processed/CT_NonCOVID.zip"
      ],
      "execution_count": 0,
      "outputs": []
    },
    {
      "cell_type": "code",
      "metadata": {
        "id": "eJUYRmVS8kJR",
        "colab_type": "code",
        "colab": {}
      },
      "source": [
        "!mkdir images\n",
        "!cp -r /content/CT_COVID/* images\n",
        "!cp -r /content/CT_NonCOVID/* images\n"
      ],
      "execution_count": 0,
      "outputs": []
    },
    {
      "cell_type": "markdown",
      "metadata": {
        "id": "R959Xz4V9GuP",
        "colab_type": "text"
      },
      "source": [
        "###read meta files"
      ]
    },
    {
      "cell_type": "code",
      "metadata": {
        "id": "ZSd1vcC-9Smh",
        "colab_type": "code",
        "colab": {}
      },
      "source": [
        "import pandas as pd\n",
        "import os"
      ],
      "execution_count": 0,
      "outputs": []
    },
    {
      "cell_type": "code",
      "metadata": {
        "id": "Li1uZhmr9Jk2",
        "colab_type": "code",
        "outputId": "fdccfd4b-86a6-4b7e-99df-e2fcd8e3a41d",
        "colab": {
          "base_uri": "https://localhost:8080/",
          "height": 195
        }
      },
      "source": [
        "covid=os.listdir('/content/CT_COVID')\n",
        "cov=list(zip(covid,['covid']*(len(covid))))\n",
        "covid_df = pd.DataFrame(cov,columns=['file','label']) \n",
        "covid_df.head()"
      ],
      "execution_count": 7,
      "outputs": [
        {
          "output_type": "execute_result",
          "data": {
            "text/html": [
              "<div>\n",
              "<style scoped>\n",
              "    .dataframe tbody tr th:only-of-type {\n",
              "        vertical-align: middle;\n",
              "    }\n",
              "\n",
              "    .dataframe tbody tr th {\n",
              "        vertical-align: top;\n",
              "    }\n",
              "\n",
              "    .dataframe thead th {\n",
              "        text-align: right;\n",
              "    }\n",
              "</style>\n",
              "<table border=\"1\" class=\"dataframe\">\n",
              "  <thead>\n",
              "    <tr style=\"text-align: right;\">\n",
              "      <th></th>\n",
              "      <th>file</th>\n",
              "      <th>label</th>\n",
              "    </tr>\n",
              "  </thead>\n",
              "  <tbody>\n",
              "    <tr>\n",
              "      <th>0</th>\n",
              "      <td>PIIS0140673620303603%3.png</td>\n",
              "      <td>covid</td>\n",
              "    </tr>\n",
              "    <tr>\n",
              "      <th>1</th>\n",
              "      <td>2020.03.30.20047985-p9-56%1.png</td>\n",
              "      <td>covid</td>\n",
              "    </tr>\n",
              "    <tr>\n",
              "      <th>2</th>\n",
              "      <td>PIIS0140673620302117_2.png</td>\n",
              "      <td>covid</td>\n",
              "    </tr>\n",
              "    <tr>\n",
              "      <th>3</th>\n",
              "      <td>2020.03.22.20040782-p25-1542.png</td>\n",
              "      <td>covid</td>\n",
              "    </tr>\n",
              "    <tr>\n",
              "      <th>4</th>\n",
              "      <td>bmj.m606.full-p4-22%1.png</td>\n",
              "      <td>covid</td>\n",
              "    </tr>\n",
              "  </tbody>\n",
              "</table>\n",
              "</div>"
            ],
            "text/plain": [
              "                               file  label\n",
              "0        PIIS0140673620303603%3.png  covid\n",
              "1   2020.03.30.20047985-p9-56%1.png  covid\n",
              "2        PIIS0140673620302117_2.png  covid\n",
              "3  2020.03.22.20040782-p25-1542.png  covid\n",
              "4         bmj.m606.full-p4-22%1.png  covid"
            ]
          },
          "metadata": {
            "tags": []
          },
          "execution_count": 7
        }
      ]
    },
    {
      "cell_type": "code",
      "metadata": {
        "id": "PUrppSTx7Z3f",
        "colab_type": "code",
        "outputId": "ebb77a77-50af-4aac-dbf2-ff0ec2885ad7",
        "colab": {
          "base_uri": "https://localhost:8080/",
          "height": 195
        }
      },
      "source": [
        "noncovid=os.listdir('/content/CT_NonCOVID')\n",
        "noncov=list(zip(noncovid,['noncovid']*(len(noncovid))))\n",
        "noncovid_df = pd.DataFrame(noncov,columns=['file','label']) \n",
        "noncovid_df.head()"
      ],
      "execution_count": 8,
      "outputs": [
        {
          "output_type": "execute_result",
          "data": {
            "text/html": [
              "<div>\n",
              "<style scoped>\n",
              "    .dataframe tbody tr th:only-of-type {\n",
              "        vertical-align: middle;\n",
              "    }\n",
              "\n",
              "    .dataframe tbody tr th {\n",
              "        vertical-align: top;\n",
              "    }\n",
              "\n",
              "    .dataframe thead th {\n",
              "        text-align: right;\n",
              "    }\n",
              "</style>\n",
              "<table border=\"1\" class=\"dataframe\">\n",
              "  <thead>\n",
              "    <tr style=\"text-align: right;\">\n",
              "      <th></th>\n",
              "      <th>file</th>\n",
              "      <th>label</th>\n",
              "    </tr>\n",
              "  </thead>\n",
              "  <tbody>\n",
              "    <tr>\n",
              "      <th>0</th>\n",
              "      <td>81%2.jpg</td>\n",
              "      <td>noncovid</td>\n",
              "    </tr>\n",
              "    <tr>\n",
              "      <th>1</th>\n",
              "      <td>583.png</td>\n",
              "      <td>noncovid</td>\n",
              "    </tr>\n",
              "    <tr>\n",
              "      <th>2</th>\n",
              "      <td>5%7.jpg</td>\n",
              "      <td>noncovid</td>\n",
              "    </tr>\n",
              "    <tr>\n",
              "      <th>3</th>\n",
              "      <td>1212.png</td>\n",
              "      <td>noncovid</td>\n",
              "    </tr>\n",
              "    <tr>\n",
              "      <th>4</th>\n",
              "      <td>46.jpg</td>\n",
              "      <td>noncovid</td>\n",
              "    </tr>\n",
              "  </tbody>\n",
              "</table>\n",
              "</div>"
            ],
            "text/plain": [
              "       file     label\n",
              "0  81%2.jpg  noncovid\n",
              "1   583.png  noncovid\n",
              "2   5%7.jpg  noncovid\n",
              "3  1212.png  noncovid\n",
              "4    46.jpg  noncovid"
            ]
          },
          "metadata": {
            "tags": []
          },
          "execution_count": 8
        }
      ]
    },
    {
      "cell_type": "code",
      "metadata": {
        "id": "Tryb2TOv99r4",
        "colab_type": "code",
        "outputId": "3f035e73-762a-414d-d3c3-782a7f9af326",
        "colab": {
          "base_uri": "https://localhost:8080/",
          "height": 195
        }
      },
      "source": [
        "dataframe=pd.concat([covid_df,noncovid_df])\n",
        "dataframe.head()"
      ],
      "execution_count": 9,
      "outputs": [
        {
          "output_type": "execute_result",
          "data": {
            "text/html": [
              "<div>\n",
              "<style scoped>\n",
              "    .dataframe tbody tr th:only-of-type {\n",
              "        vertical-align: middle;\n",
              "    }\n",
              "\n",
              "    .dataframe tbody tr th {\n",
              "        vertical-align: top;\n",
              "    }\n",
              "\n",
              "    .dataframe thead th {\n",
              "        text-align: right;\n",
              "    }\n",
              "</style>\n",
              "<table border=\"1\" class=\"dataframe\">\n",
              "  <thead>\n",
              "    <tr style=\"text-align: right;\">\n",
              "      <th></th>\n",
              "      <th>file</th>\n",
              "      <th>label</th>\n",
              "    </tr>\n",
              "  </thead>\n",
              "  <tbody>\n",
              "    <tr>\n",
              "      <th>0</th>\n",
              "      <td>PIIS0140673620303603%3.png</td>\n",
              "      <td>covid</td>\n",
              "    </tr>\n",
              "    <tr>\n",
              "      <th>1</th>\n",
              "      <td>2020.03.30.20047985-p9-56%1.png</td>\n",
              "      <td>covid</td>\n",
              "    </tr>\n",
              "    <tr>\n",
              "      <th>2</th>\n",
              "      <td>PIIS0140673620302117_2.png</td>\n",
              "      <td>covid</td>\n",
              "    </tr>\n",
              "    <tr>\n",
              "      <th>3</th>\n",
              "      <td>2020.03.22.20040782-p25-1542.png</td>\n",
              "      <td>covid</td>\n",
              "    </tr>\n",
              "    <tr>\n",
              "      <th>4</th>\n",
              "      <td>bmj.m606.full-p4-22%1.png</td>\n",
              "      <td>covid</td>\n",
              "    </tr>\n",
              "  </tbody>\n",
              "</table>\n",
              "</div>"
            ],
            "text/plain": [
              "                               file  label\n",
              "0        PIIS0140673620303603%3.png  covid\n",
              "1   2020.03.30.20047985-p9-56%1.png  covid\n",
              "2        PIIS0140673620302117_2.png  covid\n",
              "3  2020.03.22.20040782-p25-1542.png  covid\n",
              "4         bmj.m606.full-p4-22%1.png  covid"
            ]
          },
          "metadata": {
            "tags": []
          },
          "execution_count": 9
        }
      ]
    },
    {
      "cell_type": "code",
      "metadata": {
        "id": "L9YLBD4e-Gnd",
        "colab_type": "code",
        "outputId": "b88e834b-e8aa-435f-ef29-683f3a95f654",
        "colab": {
          "base_uri": "https://localhost:8080/",
          "height": 195
        }
      },
      "source": [
        "df = pd.get_dummies(dataframe['label'])\n",
        "df = pd.concat([dataframe, df], axis=1)\n",
        "df=df.sample(frac=1)\n",
        "df.head()\n"
      ],
      "execution_count": 10,
      "outputs": [
        {
          "output_type": "execute_result",
          "data": {
            "text/html": [
              "<div>\n",
              "<style scoped>\n",
              "    .dataframe tbody tr th:only-of-type {\n",
              "        vertical-align: middle;\n",
              "    }\n",
              "\n",
              "    .dataframe tbody tr th {\n",
              "        vertical-align: top;\n",
              "    }\n",
              "\n",
              "    .dataframe thead th {\n",
              "        text-align: right;\n",
              "    }\n",
              "</style>\n",
              "<table border=\"1\" class=\"dataframe\">\n",
              "  <thead>\n",
              "    <tr style=\"text-align: right;\">\n",
              "      <th></th>\n",
              "      <th>file</th>\n",
              "      <th>label</th>\n",
              "      <th>covid</th>\n",
              "      <th>noncovid</th>\n",
              "    </tr>\n",
              "  </thead>\n",
              "  <tbody>\n",
              "    <tr>\n",
              "      <th>23</th>\n",
              "      <td>2020.03.18.20038125-p16-56-5.png</td>\n",
              "      <td>covid</td>\n",
              "      <td>1</td>\n",
              "      <td>0</td>\n",
              "    </tr>\n",
              "    <tr>\n",
              "      <th>313</th>\n",
              "      <td>1239.png</td>\n",
              "      <td>noncovid</td>\n",
              "      <td>0</td>\n",
              "      <td>1</td>\n",
              "    </tr>\n",
              "    <tr>\n",
              "      <th>340</th>\n",
              "      <td>1029.png</td>\n",
              "      <td>noncovid</td>\n",
              "      <td>0</td>\n",
              "      <td>1</td>\n",
              "    </tr>\n",
              "    <tr>\n",
              "      <th>221</th>\n",
              "      <td>64.jpg</td>\n",
              "      <td>noncovid</td>\n",
              "      <td>0</td>\n",
              "      <td>1</td>\n",
              "    </tr>\n",
              "    <tr>\n",
              "      <th>284</th>\n",
              "      <td>2020.03.07.20031393-p7-50%3.png</td>\n",
              "      <td>covid</td>\n",
              "      <td>1</td>\n",
              "      <td>0</td>\n",
              "    </tr>\n",
              "  </tbody>\n",
              "</table>\n",
              "</div>"
            ],
            "text/plain": [
              "                                 file     label  covid  noncovid\n",
              "23   2020.03.18.20038125-p16-56-5.png     covid      1         0\n",
              "313                          1239.png  noncovid      0         1\n",
              "340                          1029.png  noncovid      0         1\n",
              "221                            64.jpg  noncovid      0         1\n",
              "284   2020.03.07.20031393-p7-50%3.png     covid      1         0"
            ]
          },
          "metadata": {
            "tags": []
          },
          "execution_count": 10
        }
      ]
    },
    {
      "cell_type": "markdown",
      "metadata": {
        "id": "klH5y0SbVWKx",
        "colab_type": "text"
      },
      "source": [
        "#### TEST DATA"
      ]
    },
    {
      "cell_type": "code",
      "metadata": {
        "id": "sQtp3QAt-POe",
        "colab_type": "code",
        "outputId": "32443c3b-9259-4004-ed83-6b435da056e8",
        "colab": {
          "base_uri": "https://localhost:8080/",
          "height": 34
        }
      },
      "source": [
        "covid_test=pd.read_csv('/content/COVID-CT/Data-split/COVID/testCT_COVID.txt',header=None,squeeze=True).tolist()\n",
        "noncovid_test=pd.read_csv('/content/COVID-CT/Data-split/NonCOVID/testCT_NonCOVID.txt',header=None,squeeze=True).tolist()\n",
        "test=covid_test+noncovid_test\n",
        "len(test)"
      ],
      "execution_count": 11,
      "outputs": [
        {
          "output_type": "execute_result",
          "data": {
            "text/plain": [
              "203"
            ]
          },
          "metadata": {
            "tags": []
          },
          "execution_count": 11
        }
      ]
    },
    {
      "cell_type": "code",
      "metadata": {
        "id": "M3vJ-sCcaeQm",
        "colab_type": "code",
        "outputId": "dd3332c8-61f5-4120-a6c3-af3e810ff151",
        "colab": {
          "base_uri": "https://localhost:8080/",
          "height": 34
        }
      },
      "source": [
        "len(test),len(covid_test),len(noncovid_test)"
      ],
      "execution_count": 12,
      "outputs": [
        {
          "output_type": "execute_result",
          "data": {
            "text/plain": [
              "(203, 98, 105)"
            ]
          },
          "metadata": {
            "tags": []
          },
          "execution_count": 12
        }
      ]
    },
    {
      "cell_type": "code",
      "metadata": {
        "id": "JRUWC9sKV5G8",
        "colab_type": "code",
        "colab": {}
      },
      "source": [
        "test_df=df[df['file'].isin(test)]\n",
        "train_df=df[~df['file'].isin(test)]"
      ],
      "execution_count": 0,
      "outputs": []
    },
    {
      "cell_type": "code",
      "metadata": {
        "id": "KUuvqVvSaA-S",
        "colab_type": "code",
        "outputId": "8b3ec184-dc18-4057-d116-01cd3e10f11a",
        "colab": {
          "base_uri": "https://localhost:8080/",
          "height": 34
        }
      },
      "source": [
        "len(df),len(train_df),len(test_df)"
      ],
      "execution_count": 14,
      "outputs": [
        {
          "output_type": "execute_result",
          "data": {
            "text/plain": [
              "(746, 543, 203)"
            ]
          },
          "metadata": {
            "tags": []
          },
          "execution_count": 14
        }
      ]
    },
    {
      "cell_type": "markdown",
      "metadata": {
        "id": "oOXgCH8l-bqZ",
        "colab_type": "text"
      },
      "source": [
        "### Data generator"
      ]
    },
    {
      "cell_type": "code",
      "metadata": {
        "id": "CzTlWxDb-c9N",
        "colab_type": "code",
        "colab": {}
      },
      "source": [
        "from keras_preprocessing.image import ImageDataGenerator\n",
        "data_gen= ImageDataGenerator(\n",
        "    horizontal_flip=True,\n",
        "    vertical_flip=True,\n",
        "    #rotation_range=360,\n",
        "    #width_shift_range=0.2,\n",
        "    #height_shift_range=0.2,\n",
        "    #zoom_range=.2,\n",
        "    rescale=1/255,\n",
        "    fill_mode='nearest',\n",
        "    #shear_range=0.2,\n",
        "    #brightness_range=[0.2, 2.0],\n",
        "    )"
      ],
      "execution_count": 0,
      "outputs": []
    },
    {
      "cell_type": "code",
      "metadata": {
        "id": "gZ8ZMeKI-gQu",
        "colab_type": "code",
        "colab": {}
      },
      "source": [
        "from tensorflow.keras.models import Sequential,Model\n",
        "from tensorflow.keras.layers import Activation, Dropout, Flatten, Dense, Conv2D, MaxPool2D, BatchNormalization,Input,MaxPooling2D,GlobalMaxPooling2D,concatenate\n",
        "from tensorflow.keras.layers import GlobalAveragePooling2D\n",
        "from tensorflow.keras.applications.resnet50 import ResNet50\n",
        "from tensorflow.keras.callbacks import ModelCheckpoint,ReduceLROnPlateau\n",
        "from tensorflow.keras.optimizers import Adam\n",
        "import tensorflow.keras.backend as K\n",
        "import tensorflow as tf"
      ],
      "execution_count": 0,
      "outputs": []
    },
    {
      "cell_type": "markdown",
      "metadata": {
        "id": "rdSPz3Ru-VgF",
        "colab_type": "text"
      },
      "source": [
        "#Train model"
      ]
    },
    {
      "cell_type": "code",
      "metadata": {
        "id": "BfiKa4qr-rjv",
        "colab_type": "code",
        "colab": {}
      },
      "source": [
        "img_shape=348\n",
        "batch_size=16"
      ],
      "execution_count": 0,
      "outputs": []
    },
    {
      "cell_type": "code",
      "metadata": {
        "id": "d_omSkY2-W0d",
        "colab_type": "code",
        "outputId": "3716779d-1afb-4deb-ae86-160ddc2b79e2",
        "colab": {
          "base_uri": "https://localhost:8080/",
          "height": 1000
        }
      },
      "source": [
        "from sklearn.model_selection import KFold\n",
        "import gc\n",
        "from focal_loss import BinaryFocalLoss\n",
        "\n",
        "from sklearn.metrics import classification_report,accuracy_score,f1_score,roc_auc_score\n",
        "classification_reports=[]\n",
        "kf = KFold(n_splits=5)\n",
        "history=[]\n",
        "accuracy=[]\n",
        "f1_scores=[]\n",
        "auc=[]\n",
        "y_pred=[]\n",
        "fold=0\n",
        "for train_index, test_index in kf.split(train_df):\n",
        "  train=train_df.iloc[train_index,:]\n",
        "  val=train_df.iloc[test_index,:]\n",
        "  print('-----------fold {}--------------'.format(fold))\n",
        "  train_generator=data_gen.flow_from_dataframe(train,directory='images',\n",
        "                                                      target_size=(img_shape,img_shape),\n",
        "                                                      x_col=\"file\",\n",
        "                                                      y_col=['covid','noncovid'],\n",
        "                                                      class_mode='raw',\n",
        "                                                      shuffle=True,\n",
        "                                                      batch_size=batch_size)\n",
        "\n",
        "  val_generator=data_gen.flow_from_dataframe(val,directory='images',\n",
        "                                                        target_size=(img_shape,img_shape),\n",
        "                                                        x_col=\"file\",\n",
        "                                                        y_col=['covid','noncovid'],\n",
        "                                                        class_mode='raw',\n",
        "                                                        shuffle=False,\n",
        "                                                        batch_size=batch_size)\n",
        "  \n",
        "  test_generator=data_gen.flow_from_dataframe(test_df,directory='images',\n",
        "                                                      target_size=(img_shape,img_shape),\n",
        "                                                      x_col=\"file\",\n",
        "                                                      y_col=['covid','noncovid'],\n",
        "                                                      class_mode='raw',\n",
        "                                                      shuffle=False,\n",
        "                                                      batch_size=batch_size)\n",
        "  #train_generator.next()[0].shape,train_generator.next()[1].shape\n",
        "  import efficientnet.tfkeras as efn\n",
        "  model =efn.EfficientNetB4(weights ='noisy-student', include_top=False, input_shape = (img_shape,img_shape,3))\n",
        "    \n",
        "  x = model.output\n",
        "  x = GlobalAveragePooling2D()(x)\n",
        "  #x = Dropout(0.3)(x)\n",
        "  #x = Dense(128, activation=\"relu\")(x)\n",
        "  #x = Dropout(0.3)(x)\n",
        "  #x = Dense(64, activation=\"relu\")(x)\n",
        "  predictions = Dense(2, activation=\"softmax\")(x)\n",
        "  model = Model(inputs=model.input, outputs=predictions)\n",
        "\n",
        "\n",
        "  model.compile(optimizer=Adam(0.001), loss=BinaryFocalLoss(gamma=2), metrics=['accuracy'])\n",
        "\n",
        "  results = model.fit(train_generator,epochs=25,\n",
        "                              steps_per_epoch=train_generator.n/batch_size,\n",
        "                              validation_data=val_generator,\n",
        "                             validation_steps=val_generator.n/batch_size,\n",
        "                              callbacks=[ReduceLROnPlateau(monitor='val_loss', factor=0.5,patience=3, min_lr=0.000001),\n",
        "                                         #ModelCheckpoint('model_{}.hdf5'.format(fold), save_best_only=True, monitor='val_loss', mode='min')\n",
        "                                         ])\n",
        "  #model.load_weights('model_{}.hdf5'.format(fold))\n",
        "  test_generator.reset()\n",
        "  y_pred.append(model.predict(test_generator,steps=test_generator.n/batch_size,verbose=1))\n",
        "\n",
        "\n",
        "  \n",
        "  fold+=1\n",
        "  del model\n",
        "  tf.keras.backend.clear_session()\n",
        "  gc.collect()"
      ],
      "execution_count": 18,
      "outputs": [
        {
          "output_type": "stream",
          "text": [
            "-----------fold 0--------------\n",
            "Found 434 validated image filenames.\n",
            "Found 109 validated image filenames.\n",
            "Found 203 validated image filenames.\n",
            "Downloading data from https://github.com/qubvel/efficientnet/releases/download/v0.0.1/efficientnet-b4_noisy-student_notop.h5\n",
            "71680000/71678424 [==============================] - 3s 0us/step\n",
            "Epoch 1/25\n",
            "28/27 [==============================] - 21s 754ms/step - loss: 0.2158 - accuracy: 0.6613 - val_loss: 0.1391 - val_accuracy: 0.7156 - lr: 0.0010\n",
            "Epoch 2/25\n",
            "28/27 [==============================] - 17s 609ms/step - loss: 0.1153 - accuracy: 0.8041 - val_loss: 0.1118 - val_accuracy: 0.7431 - lr: 0.0010\n",
            "Epoch 3/25\n",
            "28/27 [==============================] - 17s 610ms/step - loss: 0.0916 - accuracy: 0.8525 - val_loss: 0.0965 - val_accuracy: 0.8440 - lr: 0.0010\n",
            "Epoch 4/25\n",
            "28/27 [==============================] - 17s 614ms/step - loss: 0.0920 - accuracy: 0.8917 - val_loss: 0.3925 - val_accuracy: 0.5138 - lr: 0.0010\n",
            "Epoch 5/25\n",
            "28/27 [==============================] - 17s 611ms/step - loss: 0.1213 - accuracy: 0.8664 - val_loss: 0.2056 - val_accuracy: 0.8165 - lr: 0.0010\n",
            "Epoch 6/25\n",
            "28/27 [==============================] - 17s 616ms/step - loss: 0.0920 - accuracy: 0.8825 - val_loss: 0.2130 - val_accuracy: 0.8257 - lr: 0.0010\n",
            "Epoch 7/25\n",
            "28/27 [==============================] - 17s 618ms/step - loss: 0.0680 - accuracy: 0.8986 - val_loss: 0.1882 - val_accuracy: 0.7523 - lr: 5.0000e-04\n",
            "Epoch 8/25\n",
            "28/27 [==============================] - 17s 622ms/step - loss: 0.0596 - accuracy: 0.9240 - val_loss: 0.0795 - val_accuracy: 0.9358 - lr: 5.0000e-04\n",
            "Epoch 9/25\n",
            "28/27 [==============================] - 17s 621ms/step - loss: 0.0419 - accuracy: 0.9516 - val_loss: 0.0529 - val_accuracy: 0.9083 - lr: 5.0000e-04\n",
            "Epoch 10/25\n",
            "28/27 [==============================] - 17s 619ms/step - loss: 0.0605 - accuracy: 0.9493 - val_loss: 0.1599 - val_accuracy: 0.8073 - lr: 5.0000e-04\n",
            "Epoch 11/25\n",
            "28/27 [==============================] - 17s 616ms/step - loss: 0.0480 - accuracy: 0.9424 - val_loss: 0.1390 - val_accuracy: 0.7798 - lr: 5.0000e-04\n",
            "Epoch 12/25\n",
            "28/27 [==============================] - 17s 611ms/step - loss: 0.0312 - accuracy: 0.9654 - val_loss: 0.0827 - val_accuracy: 0.9083 - lr: 5.0000e-04\n",
            "Epoch 13/25\n",
            "28/27 [==============================] - 17s 616ms/step - loss: 0.0133 - accuracy: 0.9816 - val_loss: 0.0554 - val_accuracy: 0.9541 - lr: 2.5000e-04\n",
            "Epoch 14/25\n",
            "28/27 [==============================] - 17s 623ms/step - loss: 0.0545 - accuracy: 0.9816 - val_loss: 0.0400 - val_accuracy: 0.9174 - lr: 2.5000e-04\n",
            "Epoch 15/25\n",
            "28/27 [==============================] - 17s 612ms/step - loss: 0.0408 - accuracy: 0.9447 - val_loss: 0.0604 - val_accuracy: 0.9083 - lr: 2.5000e-04\n",
            "Epoch 16/25\n",
            "28/27 [==============================] - 17s 619ms/step - loss: 0.0228 - accuracy: 0.9770 - val_loss: 0.0661 - val_accuracy: 0.9174 - lr: 2.5000e-04\n",
            "Epoch 17/25\n",
            "28/27 [==============================] - 17s 611ms/step - loss: 0.0153 - accuracy: 0.9839 - val_loss: 0.0397 - val_accuracy: 0.9541 - lr: 2.5000e-04\n",
            "Epoch 18/25\n",
            "28/27 [==============================] - 17s 620ms/step - loss: 0.0141 - accuracy: 0.9770 - val_loss: 0.0508 - val_accuracy: 0.9541 - lr: 2.5000e-04\n",
            "Epoch 19/25\n",
            "28/27 [==============================] - 17s 612ms/step - loss: 0.0116 - accuracy: 0.9862 - val_loss: 0.0240 - val_accuracy: 0.9633 - lr: 2.5000e-04\n",
            "Epoch 20/25\n",
            "28/27 [==============================] - 17s 617ms/step - loss: 0.0151 - accuracy: 0.9931 - val_loss: 0.0246 - val_accuracy: 0.9450 - lr: 2.5000e-04\n",
            "Epoch 21/25\n",
            "28/27 [==============================] - 17s 624ms/step - loss: 0.0129 - accuracy: 0.9839 - val_loss: 0.0322 - val_accuracy: 0.9541 - lr: 2.5000e-04\n",
            "Epoch 22/25\n",
            "28/27 [==============================] - 17s 617ms/step - loss: 0.0096 - accuracy: 0.9862 - val_loss: 0.0147 - val_accuracy: 0.9817 - lr: 2.5000e-04\n",
            "Epoch 23/25\n",
            "28/27 [==============================] - 17s 621ms/step - loss: 0.0455 - accuracy: 0.9862 - val_loss: 0.0191 - val_accuracy: 0.9541 - lr: 2.5000e-04\n",
            "Epoch 24/25\n",
            "28/27 [==============================] - 17s 617ms/step - loss: 0.0363 - accuracy: 0.9516 - val_loss: 0.0410 - val_accuracy: 0.9266 - lr: 2.5000e-04\n",
            "Epoch 25/25\n",
            "28/27 [==============================] - 17s 611ms/step - loss: 0.0212 - accuracy: 0.9816 - val_loss: 0.0416 - val_accuracy: 0.9358 - lr: 2.5000e-04\n",
            "13/12 [==============================] - 2s 144ms/step\n",
            "-----------fold 1--------------\n",
            "Found 434 validated image filenames.\n",
            "Found 109 validated image filenames.\n",
            "Found 203 validated image filenames.\n",
            "Epoch 1/25\n",
            "28/27 [==============================] - 20s 730ms/step - loss: 0.2092 - accuracy: 0.7051 - val_loss: 0.4197 - val_accuracy: 0.6330 - lr: 0.0010\n",
            "Epoch 2/25\n",
            "28/27 [==============================] - 17s 612ms/step - loss: 0.1360 - accuracy: 0.7903 - val_loss: 1.0253 - val_accuracy: 0.5872 - lr: 0.0010\n",
            "Epoch 3/25\n",
            "28/27 [==============================] - 17s 616ms/step - loss: 0.0988 - accuracy: 0.8687 - val_loss: 0.1373 - val_accuracy: 0.7615 - lr: 0.0010\n",
            "Epoch 4/25\n",
            "28/27 [==============================] - 17s 610ms/step - loss: 0.0773 - accuracy: 0.8733 - val_loss: 0.2621 - val_accuracy: 0.7064 - lr: 0.0010\n",
            "Epoch 5/25\n",
            "28/27 [==============================] - 17s 624ms/step - loss: 0.0600 - accuracy: 0.9217 - val_loss: 0.5104 - val_accuracy: 0.6606 - lr: 0.0010\n",
            "Epoch 6/25\n",
            "28/27 [==============================] - 17s 623ms/step - loss: 0.0258 - accuracy: 0.9631 - val_loss: 0.4145 - val_accuracy: 0.7339 - lr: 0.0010\n",
            "Epoch 7/25\n",
            "28/27 [==============================] - 17s 614ms/step - loss: 0.0597 - accuracy: 0.9332 - val_loss: 0.2118 - val_accuracy: 0.7339 - lr: 5.0000e-04\n",
            "Epoch 8/25\n",
            "28/27 [==============================] - 17s 612ms/step - loss: 0.0296 - accuracy: 0.9562 - val_loss: 0.2604 - val_accuracy: 0.7248 - lr: 5.0000e-04\n",
            "Epoch 9/25\n",
            "28/27 [==============================] - 17s 607ms/step - loss: 0.0500 - accuracy: 0.9631 - val_loss: 0.2918 - val_accuracy: 0.7156 - lr: 5.0000e-04\n",
            "Epoch 10/25\n",
            "28/27 [==============================] - 17s 615ms/step - loss: 0.0288 - accuracy: 0.9562 - val_loss: 0.2599 - val_accuracy: 0.7064 - lr: 2.5000e-04\n",
            "Epoch 11/25\n",
            "28/27 [==============================] - 17s 615ms/step - loss: 0.0152 - accuracy: 0.9885 - val_loss: 0.2380 - val_accuracy: 0.7248 - lr: 2.5000e-04\n",
            "Epoch 12/25\n",
            "28/27 [==============================] - 17s 623ms/step - loss: 0.0203 - accuracy: 0.9793 - val_loss: 0.2778 - val_accuracy: 0.7339 - lr: 2.5000e-04\n",
            "Epoch 13/25\n",
            "28/27 [==============================] - 17s 620ms/step - loss: 0.0132 - accuracy: 0.9839 - val_loss: 0.2010 - val_accuracy: 0.7798 - lr: 1.2500e-04\n",
            "Epoch 14/25\n",
            "28/27 [==============================] - 17s 617ms/step - loss: 0.0144 - accuracy: 0.9862 - val_loss: 0.1605 - val_accuracy: 0.8257 - lr: 1.2500e-04\n",
            "Epoch 15/25\n",
            "28/27 [==============================] - 17s 618ms/step - loss: 0.0172 - accuracy: 0.9862 - val_loss: 0.1307 - val_accuracy: 0.8716 - lr: 1.2500e-04\n",
            "Epoch 16/25\n",
            "28/27 [==============================] - 17s 621ms/step - loss: 0.0092 - accuracy: 0.9908 - val_loss: 0.0560 - val_accuracy: 0.9266 - lr: 1.2500e-04\n",
            "Epoch 17/25\n",
            "28/27 [==============================] - 17s 610ms/step - loss: 0.0160 - accuracy: 0.9839 - val_loss: 0.0698 - val_accuracy: 0.9174 - lr: 1.2500e-04\n",
            "Epoch 18/25\n",
            "28/27 [==============================] - 17s 621ms/step - loss: 0.0162 - accuracy: 0.9885 - val_loss: 0.0930 - val_accuracy: 0.8991 - lr: 1.2500e-04\n",
            "Epoch 19/25\n",
            "28/27 [==============================] - 17s 621ms/step - loss: 0.0123 - accuracy: 0.9885 - val_loss: 0.0605 - val_accuracy: 0.9266 - lr: 1.2500e-04\n",
            "Epoch 20/25\n",
            "28/27 [==============================] - 17s 612ms/step - loss: 0.0052 - accuracy: 0.9931 - val_loss: 0.0754 - val_accuracy: 0.9358 - lr: 6.2500e-05\n",
            "Epoch 21/25\n",
            "28/27 [==============================] - 17s 617ms/step - loss: 0.0074 - accuracy: 0.9908 - val_loss: 0.0728 - val_accuracy: 0.9266 - lr: 6.2500e-05\n",
            "Epoch 22/25\n",
            "28/27 [==============================] - 17s 618ms/step - loss: 0.0096 - accuracy: 0.9885 - val_loss: 0.0678 - val_accuracy: 0.9358 - lr: 6.2500e-05\n",
            "Epoch 23/25\n",
            "28/27 [==============================] - 17s 612ms/step - loss: 0.0249 - accuracy: 0.9954 - val_loss: 0.0846 - val_accuracy: 0.9450 - lr: 3.1250e-05\n",
            "Epoch 24/25\n",
            "28/27 [==============================] - 17s 613ms/step - loss: 0.0061 - accuracy: 0.9977 - val_loss: 0.0714 - val_accuracy: 0.9174 - lr: 3.1250e-05\n",
            "Epoch 25/25\n",
            "28/27 [==============================] - 17s 616ms/step - loss: 0.0137 - accuracy: 0.9954 - val_loss: 0.0750 - val_accuracy: 0.9174 - lr: 3.1250e-05\n",
            "13/12 [==============================] - 1s 115ms/step\n",
            "-----------fold 2--------------\n",
            "Found 434 validated image filenames.\n",
            "Found 109 validated image filenames.\n",
            "Found 203 validated image filenames.\n",
            "Epoch 1/25\n",
            "28/27 [==============================] - 20s 728ms/step - loss: 0.2427 - accuracy: 0.6429 - val_loss: 0.1785 - val_accuracy: 0.5963 - lr: 0.0010\n",
            "Epoch 2/25\n",
            "28/27 [==============================] - 17s 617ms/step - loss: 0.1394 - accuracy: 0.7811 - val_loss: 0.1475 - val_accuracy: 0.7615 - lr: 0.0010\n",
            "Epoch 3/25\n",
            "28/27 [==============================] - 17s 605ms/step - loss: 0.1284 - accuracy: 0.7972 - val_loss: 0.0992 - val_accuracy: 0.8165 - lr: 0.0010\n",
            "Epoch 4/25\n",
            "28/27 [==============================] - 17s 613ms/step - loss: 0.0728 - accuracy: 0.8733 - val_loss: 0.1149 - val_accuracy: 0.8624 - lr: 0.0010\n",
            "Epoch 5/25\n",
            "28/27 [==============================] - 17s 616ms/step - loss: 0.0524 - accuracy: 0.9309 - val_loss: 0.1669 - val_accuracy: 0.8257 - lr: 0.0010\n",
            "Epoch 6/25\n",
            "28/27 [==============================] - 17s 623ms/step - loss: 0.0646 - accuracy: 0.8963 - val_loss: 0.2917 - val_accuracy: 0.6789 - lr: 0.0010\n",
            "Epoch 7/25\n",
            "28/27 [==============================] - 17s 615ms/step - loss: 0.0398 - accuracy: 0.9401 - val_loss: 0.2717 - val_accuracy: 0.7706 - lr: 5.0000e-04\n",
            "Epoch 8/25\n",
            "28/27 [==============================] - 17s 613ms/step - loss: 0.0452 - accuracy: 0.9309 - val_loss: 0.1893 - val_accuracy: 0.7706 - lr: 5.0000e-04\n",
            "Epoch 9/25\n",
            "28/27 [==============================] - 17s 621ms/step - loss: 0.0543 - accuracy: 0.9009 - val_loss: 0.0909 - val_accuracy: 0.8716 - lr: 5.0000e-04\n",
            "Epoch 10/25\n",
            "28/27 [==============================] - 17s 615ms/step - loss: 0.0357 - accuracy: 0.9424 - val_loss: 0.1325 - val_accuracy: 0.8716 - lr: 5.0000e-04\n",
            "Epoch 11/25\n",
            "28/27 [==============================] - 17s 620ms/step - loss: 0.0152 - accuracy: 0.9885 - val_loss: 0.3770 - val_accuracy: 0.8257 - lr: 5.0000e-04\n",
            "Epoch 12/25\n",
            "28/27 [==============================] - 17s 612ms/step - loss: 0.0097 - accuracy: 0.9908 - val_loss: 0.1714 - val_accuracy: 0.8807 - lr: 5.0000e-04\n",
            "Epoch 13/25\n",
            "28/27 [==============================] - 17s 613ms/step - loss: 0.0182 - accuracy: 0.9885 - val_loss: 0.1535 - val_accuracy: 0.8899 - lr: 2.5000e-04\n",
            "Epoch 14/25\n",
            "28/27 [==============================] - 17s 609ms/step - loss: 0.0475 - accuracy: 0.9585 - val_loss: 0.1113 - val_accuracy: 0.8807 - lr: 2.5000e-04\n",
            "Epoch 15/25\n",
            "28/27 [==============================] - 17s 614ms/step - loss: 0.0387 - accuracy: 0.9654 - val_loss: 0.0641 - val_accuracy: 0.9358 - lr: 2.5000e-04\n",
            "Epoch 16/25\n",
            "28/27 [==============================] - 17s 617ms/step - loss: 0.0249 - accuracy: 0.9724 - val_loss: 0.0696 - val_accuracy: 0.9174 - lr: 2.5000e-04\n",
            "Epoch 17/25\n",
            "28/27 [==============================] - 17s 615ms/step - loss: 0.0139 - accuracy: 0.9862 - val_loss: 0.0761 - val_accuracy: 0.9083 - lr: 2.5000e-04\n",
            "Epoch 18/25\n",
            "28/27 [==============================] - 17s 612ms/step - loss: 0.0125 - accuracy: 0.9839 - val_loss: 0.0575 - val_accuracy: 0.9266 - lr: 2.5000e-04\n",
            "Epoch 19/25\n",
            "28/27 [==============================] - 17s 621ms/step - loss: 0.0072 - accuracy: 0.9931 - val_loss: 0.0855 - val_accuracy: 0.8899 - lr: 2.5000e-04\n",
            "Epoch 20/25\n",
            "28/27 [==============================] - 17s 614ms/step - loss: 0.0203 - accuracy: 0.9770 - val_loss: 0.1231 - val_accuracy: 0.8899 - lr: 2.5000e-04\n",
            "Epoch 21/25\n",
            "28/27 [==============================] - 17s 615ms/step - loss: 0.0173 - accuracy: 0.9700 - val_loss: 0.1457 - val_accuracy: 0.8716 - lr: 2.5000e-04\n",
            "Epoch 22/25\n",
            "28/27 [==============================] - 17s 619ms/step - loss: 0.0082 - accuracy: 0.9908 - val_loss: 0.1710 - val_accuracy: 0.8899 - lr: 1.2500e-04\n",
            "Epoch 23/25\n",
            "28/27 [==============================] - 17s 622ms/step - loss: 0.0484 - accuracy: 0.9931 - val_loss: 0.0885 - val_accuracy: 0.8899 - lr: 1.2500e-04\n",
            "Epoch 24/25\n",
            "28/27 [==============================] - 17s 615ms/step - loss: 0.0107 - accuracy: 0.9885 - val_loss: 0.0590 - val_accuracy: 0.8899 - lr: 1.2500e-04\n",
            "Epoch 25/25\n",
            "28/27 [==============================] - 17s 604ms/step - loss: 0.0202 - accuracy: 0.9885 - val_loss: 0.0988 - val_accuracy: 0.9266 - lr: 6.2500e-05\n",
            "13/12 [==============================] - 1s 110ms/step\n",
            "-----------fold 3--------------\n",
            "Found 435 validated image filenames.\n",
            "Found 108 validated image filenames.\n",
            "Found 203 validated image filenames.\n",
            "Epoch 1/25\n",
            "28/27 [==============================] - 21s 758ms/step - loss: 0.2338 - accuracy: 0.6920 - val_loss: 0.8697 - val_accuracy: 0.6296 - lr: 0.0010\n",
            "Epoch 2/25\n",
            "28/27 [==============================] - 17s 618ms/step - loss: 0.1378 - accuracy: 0.7931 - val_loss: 0.2738 - val_accuracy: 0.6111 - lr: 0.0010\n",
            "Epoch 3/25\n",
            "28/27 [==============================] - 17s 622ms/step - loss: 0.1397 - accuracy: 0.8000 - val_loss: 0.2488 - val_accuracy: 0.7407 - lr: 0.0010\n",
            "Epoch 4/25\n",
            "28/27 [==============================] - 18s 625ms/step - loss: 0.0943 - accuracy: 0.8322 - val_loss: 0.8973 - val_accuracy: 0.5278 - lr: 0.0010\n",
            "Epoch 5/25\n",
            "28/27 [==============================] - 18s 625ms/step - loss: 0.0628 - accuracy: 0.9057 - val_loss: 0.3292 - val_accuracy: 0.8056 - lr: 0.0010\n",
            "Epoch 6/25\n",
            "28/27 [==============================] - 17s 625ms/step - loss: 0.0809 - accuracy: 0.9034 - val_loss: 0.3902 - val_accuracy: 0.7130 - lr: 0.0010\n",
            "Epoch 7/25\n",
            "28/27 [==============================] - 17s 622ms/step - loss: 0.0435 - accuracy: 0.9264 - val_loss: 0.2197 - val_accuracy: 0.8426 - lr: 5.0000e-04\n",
            "Epoch 8/25\n",
            "28/27 [==============================] - 17s 622ms/step - loss: 0.0359 - accuracy: 0.9448 - val_loss: 0.4994 - val_accuracy: 0.7222 - lr: 5.0000e-04\n",
            "Epoch 9/25\n",
            "28/27 [==============================] - 17s 620ms/step - loss: 0.0235 - accuracy: 0.9701 - val_loss: 0.1943 - val_accuracy: 0.8611 - lr: 5.0000e-04\n",
            "Epoch 10/25\n",
            "28/27 [==============================] - 17s 625ms/step - loss: 0.0410 - accuracy: 0.9471 - val_loss: 0.4165 - val_accuracy: 0.7593 - lr: 5.0000e-04\n",
            "Epoch 11/25\n",
            "28/27 [==============================] - 17s 623ms/step - loss: 0.0221 - accuracy: 0.9747 - val_loss: 0.3758 - val_accuracy: 0.8056 - lr: 5.0000e-04\n",
            "Epoch 12/25\n",
            "28/27 [==============================] - 17s 621ms/step - loss: 0.0162 - accuracy: 0.9793 - val_loss: 0.3569 - val_accuracy: 0.7870 - lr: 5.0000e-04\n",
            "Epoch 13/25\n",
            "28/27 [==============================] - 17s 619ms/step - loss: 0.0267 - accuracy: 0.9678 - val_loss: 0.1249 - val_accuracy: 0.8611 - lr: 2.5000e-04\n",
            "Epoch 14/25\n",
            "28/27 [==============================] - 17s 624ms/step - loss: 0.0227 - accuracy: 0.9678 - val_loss: 0.2639 - val_accuracy: 0.8148 - lr: 2.5000e-04\n",
            "Epoch 15/25\n",
            "28/27 [==============================] - 17s 618ms/step - loss: 0.0143 - accuracy: 0.9885 - val_loss: 0.1152 - val_accuracy: 0.8611 - lr: 2.5000e-04\n",
            "Epoch 16/25\n",
            "28/27 [==============================] - 18s 628ms/step - loss: 0.0077 - accuracy: 0.9862 - val_loss: 0.0998 - val_accuracy: 0.8611 - lr: 2.5000e-04\n",
            "Epoch 17/25\n",
            "28/27 [==============================] - 17s 621ms/step - loss: 0.0136 - accuracy: 0.9793 - val_loss: 0.0645 - val_accuracy: 0.9074 - lr: 2.5000e-04\n",
            "Epoch 18/25\n",
            "28/27 [==============================] - 17s 621ms/step - loss: 0.0160 - accuracy: 0.9931 - val_loss: 0.1037 - val_accuracy: 0.8704 - lr: 2.5000e-04\n",
            "Epoch 19/25\n",
            "28/27 [==============================] - 17s 624ms/step - loss: 0.0163 - accuracy: 0.9701 - val_loss: 0.0731 - val_accuracy: 0.9074 - lr: 2.5000e-04\n",
            "Epoch 20/25\n",
            "28/27 [==============================] - 17s 623ms/step - loss: 0.0143 - accuracy: 0.9816 - val_loss: 0.0531 - val_accuracy: 0.9352 - lr: 2.5000e-04\n",
            "Epoch 21/25\n",
            "28/27 [==============================] - 17s 621ms/step - loss: 0.0090 - accuracy: 0.9908 - val_loss: 0.0407 - val_accuracy: 0.9444 - lr: 2.5000e-04\n",
            "Epoch 22/25\n",
            "28/27 [==============================] - 18s 626ms/step - loss: 0.0321 - accuracy: 0.9885 - val_loss: 0.0633 - val_accuracy: 0.9352 - lr: 2.5000e-04\n",
            "Epoch 23/25\n",
            "28/27 [==============================] - 17s 615ms/step - loss: 0.0226 - accuracy: 0.9770 - val_loss: 0.0855 - val_accuracy: 0.8611 - lr: 2.5000e-04\n",
            "Epoch 24/25\n",
            "28/27 [==============================] - 18s 628ms/step - loss: 0.0146 - accuracy: 0.9793 - val_loss: 0.0906 - val_accuracy: 0.9074 - lr: 2.5000e-04\n",
            "Epoch 25/25\n",
            "28/27 [==============================] - 18s 627ms/step - loss: 0.0099 - accuracy: 0.9954 - val_loss: 0.0528 - val_accuracy: 0.9167 - lr: 1.2500e-04\n",
            "13/12 [==============================] - 1s 111ms/step\n",
            "-----------fold 4--------------\n",
            "Found 435 validated image filenames.\n",
            "Found 108 validated image filenames.\n",
            "Found 203 validated image filenames.\n",
            "Epoch 1/25\n",
            "28/27 [==============================] - 20s 715ms/step - loss: 0.2354 - accuracy: 0.6414 - val_loss: 0.3309 - val_accuracy: 0.4352 - lr: 0.0010\n",
            "Epoch 2/25\n",
            "28/27 [==============================] - 17s 617ms/step - loss: 0.1041 - accuracy: 0.8023 - val_loss: 0.4086 - val_accuracy: 0.5185 - lr: 0.0010\n",
            "Epoch 3/25\n",
            "28/27 [==============================] - 17s 620ms/step - loss: 0.1009 - accuracy: 0.8299 - val_loss: 0.2450 - val_accuracy: 0.6204 - lr: 0.0010\n",
            "Epoch 4/25\n",
            "28/27 [==============================] - 17s 615ms/step - loss: 0.0734 - accuracy: 0.8897 - val_loss: 0.0916 - val_accuracy: 0.8519 - lr: 0.0010\n",
            "Epoch 5/25\n",
            "28/27 [==============================] - 17s 616ms/step - loss: 0.0679 - accuracy: 0.9057 - val_loss: 0.3941 - val_accuracy: 0.5556 - lr: 0.0010\n",
            "Epoch 6/25\n",
            "28/27 [==============================] - 17s 616ms/step - loss: 0.0582 - accuracy: 0.9034 - val_loss: 0.0667 - val_accuracy: 0.8796 - lr: 0.0010\n",
            "Epoch 7/25\n",
            "28/27 [==============================] - 17s 616ms/step - loss: 0.0348 - accuracy: 0.9563 - val_loss: 0.3383 - val_accuracy: 0.7407 - lr: 0.0010\n",
            "Epoch 8/25\n",
            "28/27 [==============================] - 17s 612ms/step - loss: 0.0428 - accuracy: 0.9402 - val_loss: 0.0790 - val_accuracy: 0.9167 - lr: 0.0010\n",
            "Epoch 9/25\n",
            "28/27 [==============================] - 17s 613ms/step - loss: 0.0408 - accuracy: 0.9379 - val_loss: 0.1077 - val_accuracy: 0.8981 - lr: 0.0010\n",
            "Epoch 10/25\n",
            "28/27 [==============================] - 17s 623ms/step - loss: 0.0286 - accuracy: 0.9563 - val_loss: 0.0421 - val_accuracy: 0.9537 - lr: 5.0000e-04\n",
            "Epoch 11/25\n",
            "28/27 [==============================] - 17s 618ms/step - loss: 0.0298 - accuracy: 0.9471 - val_loss: 0.0841 - val_accuracy: 0.8704 - lr: 5.0000e-04\n",
            "Epoch 12/25\n",
            "28/27 [==============================] - 17s 615ms/step - loss: 0.0162 - accuracy: 0.9793 - val_loss: 0.4531 - val_accuracy: 0.6574 - lr: 5.0000e-04\n",
            "Epoch 13/25\n",
            "28/27 [==============================] - 17s 617ms/step - loss: 0.0228 - accuracy: 0.9678 - val_loss: 0.0822 - val_accuracy: 0.8981 - lr: 5.0000e-04\n",
            "Epoch 14/25\n",
            "28/27 [==============================] - 17s 611ms/step - loss: 0.0161 - accuracy: 0.9747 - val_loss: 0.1052 - val_accuracy: 0.8796 - lr: 2.5000e-04\n",
            "Epoch 15/25\n",
            "28/27 [==============================] - 17s 618ms/step - loss: 0.0116 - accuracy: 0.9770 - val_loss: 0.1209 - val_accuracy: 0.8981 - lr: 2.5000e-04\n",
            "Epoch 16/25\n",
            "28/27 [==============================] - 17s 616ms/step - loss: 0.0328 - accuracy: 0.9862 - val_loss: 0.1293 - val_accuracy: 0.8981 - lr: 2.5000e-04\n",
            "Epoch 17/25\n",
            "28/27 [==============================] - 17s 617ms/step - loss: 0.0154 - accuracy: 0.9770 - val_loss: 0.1792 - val_accuracy: 0.8889 - lr: 1.2500e-04\n",
            "Epoch 18/25\n",
            "28/27 [==============================] - 17s 612ms/step - loss: 0.0158 - accuracy: 0.9770 - val_loss: 0.0542 - val_accuracy: 0.9352 - lr: 1.2500e-04\n",
            "Epoch 19/25\n",
            "28/27 [==============================] - 17s 612ms/step - loss: 0.0084 - accuracy: 0.9908 - val_loss: 0.0363 - val_accuracy: 0.9630 - lr: 1.2500e-04\n",
            "Epoch 20/25\n",
            "28/27 [==============================] - 17s 617ms/step - loss: 0.0059 - accuracy: 0.9954 - val_loss: 0.0299 - val_accuracy: 0.9537 - lr: 1.2500e-04\n",
            "Epoch 21/25\n",
            "28/27 [==============================] - 17s 619ms/step - loss: 0.0479 - accuracy: 0.9908 - val_loss: 0.0247 - val_accuracy: 0.9630 - lr: 1.2500e-04\n",
            "Epoch 22/25\n",
            "28/27 [==============================] - 17s 622ms/step - loss: 0.0116 - accuracy: 0.9885 - val_loss: 0.0186 - val_accuracy: 0.9815 - lr: 1.2500e-04\n",
            "Epoch 23/25\n",
            "28/27 [==============================] - 17s 615ms/step - loss: 0.0061 - accuracy: 0.9977 - val_loss: 0.0130 - val_accuracy: 0.9907 - lr: 1.2500e-04\n",
            "Epoch 24/25\n",
            "28/27 [==============================] - 17s 613ms/step - loss: 0.0107 - accuracy: 0.9908 - val_loss: 0.0116 - val_accuracy: 0.9815 - lr: 1.2500e-04\n",
            "Epoch 25/25\n",
            "28/27 [==============================] - 17s 614ms/step - loss: 0.0112 - accuracy: 0.9931 - val_loss: 0.0173 - val_accuracy: 0.9722 - lr: 1.2500e-04\n",
            "13/12 [==============================] - 1s 113ms/step\n"
          ],
          "name": "stdout"
        }
      ]
    },
    {
      "cell_type": "code",
      "metadata": {
        "id": "BJobcAABrZK4",
        "colab_type": "code",
        "colab": {}
      },
      "source": [
        "import numpy as np\n",
        "y_mean=np.mean(y_pred,axis=0)"
      ],
      "execution_count": 0,
      "outputs": []
    },
    {
      "cell_type": "code",
      "metadata": {
        "id": "ecc-q4ledbtX",
        "colab_type": "code",
        "outputId": "e5c32c8d-9279-4753-9130-01d069428d30",
        "colab": {
          "base_uri": "https://localhost:8080/",
          "height": 202
        }
      },
      "source": [
        "y_mean=y_mean.round().astype(int)\n",
        "y_true=test_df.iloc[:,2::]\n",
        "print(classification_report(y_true, y_mean,target_names=['covid','noncovid']))#\n",
        "accuracy.append(accuracy_score(y_true,y_mean))\n",
        "#auc.append(roc_auc_score(y_true,y_pred))\n",
        "f1=f1_score(y_true,y_mean,average='macro')\n",
        "print('f1 score is ', f1)\n",
        "f1_scores.append(f1)"
      ],
      "execution_count": 23,
      "outputs": [
        {
          "output_type": "stream",
          "text": [
            "              precision    recall  f1-score   support\n",
            "\n",
            "       covid       0.91      0.80      0.85        98\n",
            "    noncovid       0.83      0.92      0.87       105\n",
            "\n",
            "   micro avg       0.86      0.86      0.86       203\n",
            "   macro avg       0.87      0.86      0.86       203\n",
            "weighted avg       0.87      0.86      0.86       203\n",
            " samples avg       0.86      0.86      0.86       203\n",
            "\n",
            "f1 score is  0.8608499804151978\n"
          ],
          "name": "stdout"
        }
      ]
    },
    {
      "cell_type": "code",
      "metadata": {
        "id": "nloJlTlUPJDZ",
        "colab_type": "code",
        "colab": {}
      },
      "source": [
        ""
      ],
      "execution_count": 0,
      "outputs": []
    }
  ]
}