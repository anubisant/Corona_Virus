{
  "nbformat": 4,
  "nbformat_minor": 0,
  "metadata": {
    "colab": {
      "name": "cross_validation_test.ipynb",
      "provenance": [],
      "authorship_tag": "ABX9TyOFrf5df6u/gwnIGvyQv0lt",
      "include_colab_link": true
    },
    "kernelspec": {
      "name": "python3",
      "display_name": "Python 3"
    },
    "accelerator": "GPU"
  },
  "cells": [
    {
      "cell_type": "markdown",
      "metadata": {
        "id": "view-in-github",
        "colab_type": "text"
      },
      "source": [
        "<a href=\"https://colab.research.google.com/github/talhaanwarch/Corona_Virus/blob/master/CT_scan/cross_validation_test.ipynb\" target=\"_parent\"><img src=\"https://colab.research.google.com/assets/colab-badge.svg\" alt=\"Open In Colab\"/></a>"
      ]
    },
    {
      "cell_type": "code",
      "metadata": {
        "id": "ylMZAGXl7kKx",
        "colab_type": "code",
        "colab": {}
      },
      "source": [
        "%%capture\n",
        "!pip install efficientnet"
      ],
      "execution_count": 0,
      "outputs": []
    },
    {
      "cell_type": "markdown",
      "metadata": {
        "id": "4FDtv7g97nN8",
        "colab_type": "text"
      },
      "source": [
        "### CLone github repo, to dowlonad data"
      ]
    },
    {
      "cell_type": "code",
      "metadata": {
        "id": "yi2pSQus7JR4",
        "colab_type": "code",
        "colab": {
          "base_uri": "https://localhost:8080/",
          "height": 150
        },
        "outputId": "3eeb3bba-a2f9-4db3-b07d-28ac561b4831"
      },
      "source": [
        "!git clone https://github.com/UCSD-AI4H/COVID-CT.git"
      ],
      "execution_count": 2,
      "outputs": [
        {
          "output_type": "stream",
          "text": [
            "Cloning into 'COVID-CT'...\n",
            "remote: Enumerating objects: 130, done.\u001b[K\n",
            "remote: Counting objects:   0% (1/130)\u001b[K\rremote: Counting objects:   1% (2/130)\u001b[K\rremote: Counting objects:   2% (3/130)\u001b[K\rremote: Counting objects:   3% (4/130)\u001b[K\rremote: Counting objects:   4% (6/130)\u001b[K\rremote: Counting objects:   5% (7/130)\u001b[K\rremote: Counting objects:   6% (8/130)\u001b[K\rremote: Counting objects:   7% (10/130)\u001b[K\rremote: Counting objects:   8% (11/130)\u001b[K\rremote: Counting objects:   9% (12/130)\u001b[K\rremote: Counting objects:  10% (13/130)\u001b[K\rremote: Counting objects:  11% (15/130)\u001b[K\rremote: Counting objects:  12% (16/130)\u001b[K\rremote: Counting objects:  13% (17/130)\u001b[K\rremote: Counting objects:  14% (19/130)\u001b[K\rremote: Counting objects:  15% (20/130)\u001b[K\rremote: Counting objects:  16% (21/130)\u001b[K\rremote: Counting objects:  17% (23/130)\u001b[K\rremote: Counting objects:  18% (24/130)\u001b[K\rremote: Counting objects:  19% (25/130)\u001b[K\rremote: Counting objects:  20% (26/130)\u001b[K\rremote: Counting objects:  21% (28/130)\u001b[K\rremote: Counting objects:  22% (29/130)\u001b[K\rremote: Counting objects:  23% (30/130)\u001b[K\rremote: Counting objects:  24% (32/130)\u001b[K\rremote: Counting objects:  25% (33/130)\u001b[K\rremote: Counting objects:  26% (34/130)\u001b[K\rremote: Counting objects:  27% (36/130)\u001b[K\rremote: Counting objects:  28% (37/130)\u001b[K\rremote: Counting objects:  29% (38/130)\u001b[K\rremote: Counting objects:  30% (39/130)\u001b[K\rremote: Counting objects:  31% (41/130)\u001b[K\rremote: Counting objects:  32% (42/130)\u001b[K\rremote: Counting objects:  33% (43/130)\u001b[K\rremote: Counting objects:  34% (45/130)\u001b[K\rremote: Counting objects:  35% (46/130)\u001b[K\rremote: Counting objects:  36% (47/130)\u001b[K\rremote: Counting objects:  37% (49/130)\u001b[K\rremote: Counting objects:  38% (50/130)\u001b[K\rremote: Counting objects:  39% (51/130)\u001b[K\rremote: Counting objects:  40% (52/130)\u001b[K\rremote: Counting objects:  41% (54/130)\u001b[K\rremote: Counting objects:  42% (55/130)\u001b[K\rremote: Counting objects:  43% (56/130)\u001b[K\rremote: Counting objects:  44% (58/130)\u001b[K\rremote: Counting objects:  45% (59/130)\u001b[K\rremote: Counting objects:  46% (60/130)\u001b[K\rremote: Counting objects:  47% (62/130)\u001b[K\rremote: Counting objects:  48% (63/130)\u001b[K\rremote: Counting objects:  49% (64/130)\u001b[K\rremote: Counting objects:  50% (65/130)\u001b[K\rremote: Counting objects:  51% (67/130)\u001b[K\rremote: Counting objects:  52% (68/130)\u001b[K\rremote: Counting objects:  53% (69/130)\u001b[K\rremote: Counting objects:  54% (71/130)\u001b[K\rremote: Counting objects:  55% (72/130)\u001b[K\rremote: Counting objects:  56% (73/130)\u001b[K\rremote: Counting objects:  57% (75/130)\u001b[K\rremote: Counting objects:  58% (76/130)\u001b[K\rremote: Counting objects:  59% (77/130)\u001b[K\rremote: Counting objects:  60% (78/130)\u001b[K\rremote: Counting objects:  61% (80/130)\u001b[K\rremote: Counting objects:  62% (81/130)\u001b[K\rremote: Counting objects:  63% (82/130)\u001b[K\rremote: Counting objects:  64% (84/130)\u001b[K\rremote: Counting objects:  65% (85/130)\u001b[K\rremote: Counting objects:  66% (86/130)\u001b[K\rremote: Counting objects:  67% (88/130)\u001b[K\rremote: Counting objects:  68% (89/130)\u001b[K\rremote: Counting objects:  69% (90/130)\u001b[K\rremote: Counting objects:  70% (91/130)\u001b[K\rremote: Counting objects:  71% (93/130)\u001b[K\rremote: Counting objects:  72% (94/130)\u001b[K\rremote: Counting objects:  73% (95/130)\u001b[K\rremote: Counting objects:  74% (97/130)\u001b[K\rremote: Counting objects:  75% (98/130)\u001b[K\rremote: Counting objects:  76% (99/130)\u001b[K\rremote: Counting objects:  77% (101/130)\u001b[K\rremote: Counting objects:  78% (102/130)\u001b[K\rremote: Counting objects:  79% (103/130)\u001b[K\rremote: Counting objects:  80% (104/130)\u001b[K\rremote: Counting objects:  81% (106/130)\u001b[K\rremote: Counting objects:  82% (107/130)\u001b[K\rremote: Counting objects:  83% (108/130)\u001b[K\rremote: Counting objects:  84% (110/130)\u001b[K\rremote: Counting objects:  85% (111/130)\u001b[K\rremote: Counting objects:  86% (112/130)\u001b[K\rremote: Counting objects:  87% (114/130)\u001b[K\rremote: Counting objects:  88% (115/130)\u001b[K\rremote: Counting objects:  89% (116/130)\u001b[K\rremote: Counting objects:  90% (117/130)\u001b[K\rremote: Counting objects:  91% (119/130)\u001b[K\rremote: Counting objects:  92% (120/130)\u001b[K\rremote: Counting objects:  93% (121/130)\u001b[K\rremote: Counting objects:  94% (123/130)\u001b[K\rremote: Counting objects:  95% (124/130)\u001b[K\rremote: Counting objects:  96% (125/130)\u001b[K\rremote: Counting objects:  97% (127/130)\u001b[K\rremote: Counting objects:  98% (128/130)\u001b[K\rremote: Counting objects:  99% (129/130)\u001b[K\rremote: Counting objects: 100% (130/130)\u001b[K\rremote: Counting objects: 100% (130/130), done.\u001b[K\n",
            "remote: Compressing objects: 100% (128/128), done.\u001b[K\n",
            "remote: Total 5443 (delta 60), reused 9 (delta 2), pack-reused 5313\u001b[K\n",
            "Receiving objects: 100% (5443/5443), 1.09 GiB | 42.88 MiB/s, done.\n",
            "Resolving deltas: 100% (351/351), done.\n",
            "Checking out files: 100% (1048/1048), done.\n"
          ],
          "name": "stdout"
        }
      ]
    },
    {
      "cell_type": "markdown",
      "metadata": {
        "id": "imIfz2hq7s0m",
        "colab_type": "text"
      },
      "source": [
        "### Extract data in one format"
      ]
    },
    {
      "cell_type": "code",
      "metadata": {
        "id": "6WuO45h57deK",
        "colab_type": "code",
        "colab": {}
      },
      "source": [
        "%%capture\n",
        "!unzip /content/COVID-CT/Images-processed/CT_COVID.zip\n",
        "!unzip /content/COVID-CT/Images-processed/CT_NonCOVID.zip"
      ],
      "execution_count": 0,
      "outputs": []
    },
    {
      "cell_type": "code",
      "metadata": {
        "id": "eJUYRmVS8kJR",
        "colab_type": "code",
        "colab": {}
      },
      "source": [
        "!mkdir images\n",
        "!cp -r /content/CT_COVID/* images\n",
        "!cp -r /content/CT_NonCOVID/* images\n"
      ],
      "execution_count": 0,
      "outputs": []
    },
    {
      "cell_type": "markdown",
      "metadata": {
        "id": "R959Xz4V9GuP",
        "colab_type": "text"
      },
      "source": [
        "###read meta files"
      ]
    },
    {
      "cell_type": "code",
      "metadata": {
        "id": "ZSd1vcC-9Smh",
        "colab_type": "code",
        "colab": {}
      },
      "source": [
        "import pandas as pd\n",
        "import os"
      ],
      "execution_count": 0,
      "outputs": []
    },
    {
      "cell_type": "code",
      "metadata": {
        "id": "Li1uZhmr9Jk2",
        "colab_type": "code",
        "colab": {
          "base_uri": "https://localhost:8080/",
          "height": 196
        },
        "outputId": "cb3c9d66-8af5-4c8f-afd2-e4e3f1a783c6"
      },
      "source": [
        "covid=os.listdir('/content/CT_COVID')\n",
        "cov=list(zip(covid,['covid']*(len(covid))))\n",
        "covid_df = pd.DataFrame(cov,columns=['file','label']) \n",
        "covid_df.head()"
      ],
      "execution_count": 6,
      "outputs": [
        {
          "output_type": "execute_result",
          "data": {
            "text/html": [
              "<div>\n",
              "<style scoped>\n",
              "    .dataframe tbody tr th:only-of-type {\n",
              "        vertical-align: middle;\n",
              "    }\n",
              "\n",
              "    .dataframe tbody tr th {\n",
              "        vertical-align: top;\n",
              "    }\n",
              "\n",
              "    .dataframe thead th {\n",
              "        text-align: right;\n",
              "    }\n",
              "</style>\n",
              "<table border=\"1\" class=\"dataframe\">\n",
              "  <thead>\n",
              "    <tr style=\"text-align: right;\">\n",
              "      <th></th>\n",
              "      <th>file</th>\n",
              "      <th>label</th>\n",
              "    </tr>\n",
              "  </thead>\n",
              "  <tbody>\n",
              "    <tr>\n",
              "      <th>0</th>\n",
              "      <td>PIIS0140673620303603%3.png</td>\n",
              "      <td>covid</td>\n",
              "    </tr>\n",
              "    <tr>\n",
              "      <th>1</th>\n",
              "      <td>2020.03.30.20047985-p9-56%1.png</td>\n",
              "      <td>covid</td>\n",
              "    </tr>\n",
              "    <tr>\n",
              "      <th>2</th>\n",
              "      <td>PIIS0140673620302117_2.png</td>\n",
              "      <td>covid</td>\n",
              "    </tr>\n",
              "    <tr>\n",
              "      <th>3</th>\n",
              "      <td>2020.03.22.20040782-p25-1542.png</td>\n",
              "      <td>covid</td>\n",
              "    </tr>\n",
              "    <tr>\n",
              "      <th>4</th>\n",
              "      <td>bmj.m606.full-p4-22%1.png</td>\n",
              "      <td>covid</td>\n",
              "    </tr>\n",
              "  </tbody>\n",
              "</table>\n",
              "</div>"
            ],
            "text/plain": [
              "                               file  label\n",
              "0        PIIS0140673620303603%3.png  covid\n",
              "1   2020.03.30.20047985-p9-56%1.png  covid\n",
              "2        PIIS0140673620302117_2.png  covid\n",
              "3  2020.03.22.20040782-p25-1542.png  covid\n",
              "4         bmj.m606.full-p4-22%1.png  covid"
            ]
          },
          "metadata": {
            "tags": []
          },
          "execution_count": 6
        }
      ]
    },
    {
      "cell_type": "code",
      "metadata": {
        "id": "PUrppSTx7Z3f",
        "colab_type": "code",
        "colab": {
          "base_uri": "https://localhost:8080/",
          "height": 196
        },
        "outputId": "ad4711b9-83db-48b1-fe2b-542ed83ccb31"
      },
      "source": [
        "noncovid=os.listdir('/content/CT_NonCOVID')\n",
        "noncov=list(zip(noncovid,['noncovid']*(len(noncovid))))\n",
        "noncovid_df = pd.DataFrame(noncov,columns=['file','label']) \n",
        "noncovid_df.head()"
      ],
      "execution_count": 7,
      "outputs": [
        {
          "output_type": "execute_result",
          "data": {
            "text/html": [
              "<div>\n",
              "<style scoped>\n",
              "    .dataframe tbody tr th:only-of-type {\n",
              "        vertical-align: middle;\n",
              "    }\n",
              "\n",
              "    .dataframe tbody tr th {\n",
              "        vertical-align: top;\n",
              "    }\n",
              "\n",
              "    .dataframe thead th {\n",
              "        text-align: right;\n",
              "    }\n",
              "</style>\n",
              "<table border=\"1\" class=\"dataframe\">\n",
              "  <thead>\n",
              "    <tr style=\"text-align: right;\">\n",
              "      <th></th>\n",
              "      <th>file</th>\n",
              "      <th>label</th>\n",
              "    </tr>\n",
              "  </thead>\n",
              "  <tbody>\n",
              "    <tr>\n",
              "      <th>0</th>\n",
              "      <td>81%2.jpg</td>\n",
              "      <td>noncovid</td>\n",
              "    </tr>\n",
              "    <tr>\n",
              "      <th>1</th>\n",
              "      <td>583.png</td>\n",
              "      <td>noncovid</td>\n",
              "    </tr>\n",
              "    <tr>\n",
              "      <th>2</th>\n",
              "      <td>5%7.jpg</td>\n",
              "      <td>noncovid</td>\n",
              "    </tr>\n",
              "    <tr>\n",
              "      <th>3</th>\n",
              "      <td>1212.png</td>\n",
              "      <td>noncovid</td>\n",
              "    </tr>\n",
              "    <tr>\n",
              "      <th>4</th>\n",
              "      <td>46.jpg</td>\n",
              "      <td>noncovid</td>\n",
              "    </tr>\n",
              "  </tbody>\n",
              "</table>\n",
              "</div>"
            ],
            "text/plain": [
              "       file     label\n",
              "0  81%2.jpg  noncovid\n",
              "1   583.png  noncovid\n",
              "2   5%7.jpg  noncovid\n",
              "3  1212.png  noncovid\n",
              "4    46.jpg  noncovid"
            ]
          },
          "metadata": {
            "tags": []
          },
          "execution_count": 7
        }
      ]
    },
    {
      "cell_type": "code",
      "metadata": {
        "id": "Tryb2TOv99r4",
        "colab_type": "code",
        "colab": {
          "base_uri": "https://localhost:8080/",
          "height": 196
        },
        "outputId": "8ef28b2d-4a87-4c94-ccda-512ccb8c14b0"
      },
      "source": [
        "dataframe=pd.concat([covid_df,noncovid_df])\n",
        "dataframe.head()"
      ],
      "execution_count": 8,
      "outputs": [
        {
          "output_type": "execute_result",
          "data": {
            "text/html": [
              "<div>\n",
              "<style scoped>\n",
              "    .dataframe tbody tr th:only-of-type {\n",
              "        vertical-align: middle;\n",
              "    }\n",
              "\n",
              "    .dataframe tbody tr th {\n",
              "        vertical-align: top;\n",
              "    }\n",
              "\n",
              "    .dataframe thead th {\n",
              "        text-align: right;\n",
              "    }\n",
              "</style>\n",
              "<table border=\"1\" class=\"dataframe\">\n",
              "  <thead>\n",
              "    <tr style=\"text-align: right;\">\n",
              "      <th></th>\n",
              "      <th>file</th>\n",
              "      <th>label</th>\n",
              "    </tr>\n",
              "  </thead>\n",
              "  <tbody>\n",
              "    <tr>\n",
              "      <th>0</th>\n",
              "      <td>PIIS0140673620303603%3.png</td>\n",
              "      <td>covid</td>\n",
              "    </tr>\n",
              "    <tr>\n",
              "      <th>1</th>\n",
              "      <td>2020.03.30.20047985-p9-56%1.png</td>\n",
              "      <td>covid</td>\n",
              "    </tr>\n",
              "    <tr>\n",
              "      <th>2</th>\n",
              "      <td>PIIS0140673620302117_2.png</td>\n",
              "      <td>covid</td>\n",
              "    </tr>\n",
              "    <tr>\n",
              "      <th>3</th>\n",
              "      <td>2020.03.22.20040782-p25-1542.png</td>\n",
              "      <td>covid</td>\n",
              "    </tr>\n",
              "    <tr>\n",
              "      <th>4</th>\n",
              "      <td>bmj.m606.full-p4-22%1.png</td>\n",
              "      <td>covid</td>\n",
              "    </tr>\n",
              "  </tbody>\n",
              "</table>\n",
              "</div>"
            ],
            "text/plain": [
              "                               file  label\n",
              "0        PIIS0140673620303603%3.png  covid\n",
              "1   2020.03.30.20047985-p9-56%1.png  covid\n",
              "2        PIIS0140673620302117_2.png  covid\n",
              "3  2020.03.22.20040782-p25-1542.png  covid\n",
              "4         bmj.m606.full-p4-22%1.png  covid"
            ]
          },
          "metadata": {
            "tags": []
          },
          "execution_count": 8
        }
      ]
    },
    {
      "cell_type": "code",
      "metadata": {
        "id": "L9YLBD4e-Gnd",
        "colab_type": "code",
        "colab": {
          "base_uri": "https://localhost:8080/",
          "height": 196
        },
        "outputId": "b3f51f0b-5158-4cf4-abc4-04a1b63b40d8"
      },
      "source": [
        "df = pd.get_dummies(dataframe['label'])\n",
        "df = pd.concat([dataframe, df], axis=1)\n",
        "df=df.sample(frac=1)\n",
        "df.head()\n"
      ],
      "execution_count": 9,
      "outputs": [
        {
          "output_type": "execute_result",
          "data": {
            "text/html": [
              "<div>\n",
              "<style scoped>\n",
              "    .dataframe tbody tr th:only-of-type {\n",
              "        vertical-align: middle;\n",
              "    }\n",
              "\n",
              "    .dataframe tbody tr th {\n",
              "        vertical-align: top;\n",
              "    }\n",
              "\n",
              "    .dataframe thead th {\n",
              "        text-align: right;\n",
              "    }\n",
              "</style>\n",
              "<table border=\"1\" class=\"dataframe\">\n",
              "  <thead>\n",
              "    <tr style=\"text-align: right;\">\n",
              "      <th></th>\n",
              "      <th>file</th>\n",
              "      <th>label</th>\n",
              "      <th>covid</th>\n",
              "      <th>noncovid</th>\n",
              "    </tr>\n",
              "  </thead>\n",
              "  <tbody>\n",
              "    <tr>\n",
              "      <th>16</th>\n",
              "      <td>2020.03.22.20040782-p24-1533-4.png</td>\n",
              "      <td>covid</td>\n",
              "      <td>1</td>\n",
              "      <td>0</td>\n",
              "    </tr>\n",
              "    <tr>\n",
              "      <th>345</th>\n",
              "      <td>2019-novel-Coronavirus-severe-adult-respirator...</td>\n",
              "      <td>covid</td>\n",
              "      <td>1</td>\n",
              "      <td>0</td>\n",
              "    </tr>\n",
              "    <tr>\n",
              "      <th>14</th>\n",
              "      <td>66.jpg</td>\n",
              "      <td>noncovid</td>\n",
              "      <td>0</td>\n",
              "      <td>1</td>\n",
              "    </tr>\n",
              "    <tr>\n",
              "      <th>11</th>\n",
              "      <td>663.png</td>\n",
              "      <td>noncovid</td>\n",
              "      <td>0</td>\n",
              "      <td>1</td>\n",
              "    </tr>\n",
              "    <tr>\n",
              "      <th>243</th>\n",
              "      <td>Ni2020_Article_CombinationOfWesternMedicineAn-...</td>\n",
              "      <td>covid</td>\n",
              "      <td>1</td>\n",
              "      <td>0</td>\n",
              "    </tr>\n",
              "  </tbody>\n",
              "</table>\n",
              "</div>"
            ],
            "text/plain": [
              "                                                  file  ... noncovid\n",
              "16                  2020.03.22.20040782-p24-1533-4.png  ...        0\n",
              "345  2019-novel-Coronavirus-severe-adult-respirator...  ...        0\n",
              "14                                              66.jpg  ...        1\n",
              "11                                             663.png  ...        1\n",
              "243  Ni2020_Article_CombinationOfWesternMedicineAn-...  ...        0\n",
              "\n",
              "[5 rows x 4 columns]"
            ]
          },
          "metadata": {
            "tags": []
          },
          "execution_count": 9
        }
      ]
    },
    {
      "cell_type": "markdown",
      "metadata": {
        "id": "klH5y0SbVWKx",
        "colab_type": "text"
      },
      "source": [
        "#### TEST DATA"
      ]
    },
    {
      "cell_type": "code",
      "metadata": {
        "id": "sQtp3QAt-POe",
        "colab_type": "code",
        "colab": {
          "base_uri": "https://localhost:8080/",
          "height": 33
        },
        "outputId": "7f85cdbd-5a67-47ff-a4d5-836a3fbf4764"
      },
      "source": [
        "covid_test=pd.read_csv('/content/COVID-CT/Data-split/COVID/testCT_COVID.txt',header=None,squeeze=True).tolist()\n",
        "noncovid_test=pd.read_csv('/content/COVID-CT/Data-split/NonCOVID/testCT_NonCOVID.txt',header=None,squeeze=True).tolist()\n",
        "test=covid_test+noncovid_test\n",
        "len(test)"
      ],
      "execution_count": 10,
      "outputs": [
        {
          "output_type": "execute_result",
          "data": {
            "text/plain": [
              "203"
            ]
          },
          "metadata": {
            "tags": []
          },
          "execution_count": 10
        }
      ]
    },
    {
      "cell_type": "code",
      "metadata": {
        "id": "M3vJ-sCcaeQm",
        "colab_type": "code",
        "colab": {
          "base_uri": "https://localhost:8080/",
          "height": 33
        },
        "outputId": "bfb6159a-0620-444c-cf86-5bcedcdd7bff"
      },
      "source": [
        "len(test),len(covid_test),len(noncovid_test)"
      ],
      "execution_count": 11,
      "outputs": [
        {
          "output_type": "execute_result",
          "data": {
            "text/plain": [
              "(203, 98, 105)"
            ]
          },
          "metadata": {
            "tags": []
          },
          "execution_count": 11
        }
      ]
    },
    {
      "cell_type": "code",
      "metadata": {
        "id": "JRUWC9sKV5G8",
        "colab_type": "code",
        "colab": {}
      },
      "source": [
        "test_df=df[df['file'].isin(covid_test)]\n",
        "train_df=df[~df['file'].isin(covid_test)]"
      ],
      "execution_count": 0,
      "outputs": []
    },
    {
      "cell_type": "code",
      "metadata": {
        "id": "KUuvqVvSaA-S",
        "colab_type": "code",
        "colab": {
          "base_uri": "https://localhost:8080/",
          "height": 33
        },
        "outputId": "9c27c25f-1d59-4baa-dc59-b7211c50206e"
      },
      "source": [
        "len(df),len(train_df),len(test_df)"
      ],
      "execution_count": 13,
      "outputs": [
        {
          "output_type": "execute_result",
          "data": {
            "text/plain": [
              "(746, 648, 98)"
            ]
          },
          "metadata": {
            "tags": []
          },
          "execution_count": 13
        }
      ]
    },
    {
      "cell_type": "markdown",
      "metadata": {
        "id": "oOXgCH8l-bqZ",
        "colab_type": "text"
      },
      "source": [
        "### Data generator"
      ]
    },
    {
      "cell_type": "code",
      "metadata": {
        "id": "CzTlWxDb-c9N",
        "colab_type": "code",
        "colab": {}
      },
      "source": [
        "from keras_preprocessing.image import ImageDataGenerator\n",
        "data_gen= ImageDataGenerator(\n",
        "    horizontal_flip=True,\n",
        "    vertical_flip=True,\n",
        "    rotation_range=360,\n",
        "    width_shift_range=0.2,\n",
        "    height_shift_range=0.2,\n",
        "    zoom_range=.2,\n",
        "    rescale=1/255,\n",
        "    fill_mode='nearest',\n",
        "    shear_range=0.2,\n",
        "    brightness_range=[0.2, 2.0],\n",
        "    )"
      ],
      "execution_count": 0,
      "outputs": []
    },
    {
      "cell_type": "code",
      "metadata": {
        "id": "gZ8ZMeKI-gQu",
        "colab_type": "code",
        "colab": {}
      },
      "source": [
        "from tensorflow.keras.models import Sequential,Model\n",
        "from tensorflow.keras.layers import Activation, Dropout, Flatten, Dense, Conv2D, MaxPool2D, BatchNormalization,Input,MaxPooling2D,GlobalMaxPooling2D,concatenate\n",
        "from tensorflow.keras.layers import GlobalAveragePooling2D\n",
        "from tensorflow.keras.applications.resnet50 import ResNet50\n",
        "from tensorflow.keras.callbacks import ModelCheckpoint,ReduceLROnPlateau\n",
        "from tensorflow.keras.optimizers import Adam\n",
        "import tensorflow.keras.backend as K\n",
        "import tensorflow as tf"
      ],
      "execution_count": 0,
      "outputs": []
    },
    {
      "cell_type": "markdown",
      "metadata": {
        "id": "rdSPz3Ru-VgF",
        "colab_type": "text"
      },
      "source": [
        "#Train model"
      ]
    },
    {
      "cell_type": "code",
      "metadata": {
        "id": "BfiKa4qr-rjv",
        "colab_type": "code",
        "colab": {}
      },
      "source": [
        "img_shape=300\n",
        "batch_size=16"
      ],
      "execution_count": 0,
      "outputs": []
    },
    {
      "cell_type": "code",
      "metadata": {
        "id": "d_omSkY2-W0d",
        "colab_type": "code",
        "colab": {
          "base_uri": "https://localhost:8080/",
          "height": 786
        },
        "outputId": "07e2a5c1-66cb-4997-aab8-c9065470e619"
      },
      "source": [
        "from sklearn.model_selection import KFold\n",
        "import gc\n",
        "\n",
        "from sklearn.metrics import classification_report,accuracy_score,f1_score,roc_auc_score\n",
        "classification_reports=[]\n",
        "kf = KFold(n_splits=5)\n",
        "history=[]\n",
        "accuracy=[]\n",
        "f1_scores=[]\n",
        "auc=[]\n",
        "fold=0\n",
        "for train_index, test_index in kf.split(train_df):\n",
        "  train=train_df.iloc[train_index,:]\n",
        "  val=train_df.iloc[test_index,:]\n",
        "  print('-----------fold {}--------------'.format(fold))\n",
        "  train_generator=data_gen.flow_from_dataframe(train,directory='images',\n",
        "                                                      target_size=(img_shape,img_shape),\n",
        "                                                      x_col=\"file\",\n",
        "                                                      y_col=['covid','noncovid'],\n",
        "                                                      class_mode='raw',\n",
        "                                                      shuffle=True,\n",
        "                                                      batch_size=batch_size)\n",
        "\n",
        "  val_generator=data_gen.flow_from_dataframe(val,directory='images',\n",
        "                                                        target_size=(img_shape,img_shape),\n",
        "                                                        x_col=\"file\",\n",
        "                                                        y_col=['covid','noncovid'],\n",
        "                                                        class_mode='raw',\n",
        "                                                        shuffle=False,\n",
        "                                                        batch_size=batch_size)\n",
        "  \n",
        "  test_generator=data_gen.flow_from_dataframe(test_df,directory='images',\n",
        "                                                      target_size=(img_shape,img_shape),\n",
        "                                                      x_col=\"file\",\n",
        "                                                      y_col=['covid','noncovid'],\n",
        "                                                      class_mode='raw',\n",
        "                                                      shuffle=False,\n",
        "                                                      batch_size=batch_size)\n",
        "  #train_generator.next()[0].shape,train_generator.next()[1].shape\n",
        "  import efficientnet.tfkeras as efn\n",
        "  model =efn.EfficientNetB3(weights ='noisy-student', include_top=False, input_shape = (img_shape,img_shape,3))\n",
        "    \n",
        "  x = model.output\n",
        "  x = GlobalAveragePooling2D()(x)\n",
        "  x = Dropout(0.3)(x)\n",
        "  x = Dense(128, activation=\"relu\")(x)\n",
        "  #x = Dropout(0.3)(x)\n",
        "  x = Dense(64, activation=\"relu\")(x)\n",
        "  predictions = Dense(2, activation=\"softmax\")(x)\n",
        "  model = Model(inputs=model.input, outputs=predictions)\n",
        "\n",
        "\n",
        "  model.compile(optimizer=Adam(0.001), loss='binary_crossentropy', metrics=['accuracy'])\n",
        "\n",
        "  results = model.fit(train_generator,epochs=25,\n",
        "                              steps_per_epoch=train_generator.n/batch_size,\n",
        "                              validation_data=val_generator,\n",
        "                             validation_steps=val_generator.n/batch_size,\n",
        "                              callbacks=[ReduceLROnPlateau(monitor='val_loss', factor=0.5,patience=3, min_lr=0.000001),\n",
        "                                         #ModelCheckpoint('model_{}.hdf5'.format(fold), save_best_only=True, monitor='val_loss', mode='min')\n",
        "                                         ])\n",
        "  #model.load_weights('model_{}.hdf5'.format(fold))\n",
        "  #test_generator.reset()\n",
        "  y_pred=model.predict(test_generator,steps=test_generator.n/batch_size,verbose=1)\n",
        "  y_pred=y_pred.round().astype(int)\n",
        "  y_true=test_df.iloc[:,2::]\n",
        "  classification_reports.append(classification_report(y_true, y_pred,target_names=['covid','noncovid']))#\n",
        "  accuracy.append(accuracy_score(y_true,y_pred))\n",
        "  #auc.append(roc_auc_score(y_true,y_pred))\n",
        "  f1=f1_score(y_true,y_pred,average='macro')\n",
        "  print('f1 score is ', f1)\n",
        "  f1_scores.append(f1)\n",
        "  \n",
        "  fold+=1\n",
        "  del model\n",
        "  tf.keras.backend.clear_session()\n",
        "  gc.collect()"
      ],
      "execution_count": 0,
      "outputs": [
        {
          "output_type": "stream",
          "text": [
            "-----------fold 0--------------\n",
            "Found 518 validated image filenames.\n",
            "Found 130 validated image filenames.\n",
            "Found 98 validated image filenames.\n",
            "Downloading data from https://github.com/qubvel/efficientnet/releases/download/v0.0.1/efficientnet-b3_noisy-student_notop.h5\n",
            "43933696/43933088 [==============================] - 2s 0us/step\n",
            "Epoch 1/25\n",
            "33/32 [==============================] - 33s 987ms/step - loss: 0.6269 - accuracy: 0.6371 - val_loss: 0.6331 - val_accuracy: 0.6154 - lr: 0.0010\n",
            "Epoch 2/25\n",
            "33/32 [==============================] - 29s 891ms/step - loss: 0.5980 - accuracy: 0.6622 - val_loss: 1.8223 - val_accuracy: 0.6154 - lr: 0.0010\n",
            "Epoch 3/25\n",
            "33/32 [==============================] - 29s 890ms/step - loss: 0.5390 - accuracy: 0.7606 - val_loss: 0.6902 - val_accuracy: 0.6462 - lr: 0.0010\n",
            "Epoch 4/25\n",
            "33/32 [==============================] - 29s 889ms/step - loss: 0.5346 - accuracy: 0.7432 - val_loss: 0.5453 - val_accuracy: 0.6846 - lr: 0.0010\n",
            "Epoch 5/25\n",
            "33/32 [==============================] - 29s 892ms/step - loss: 0.4770 - accuracy: 0.7703 - val_loss: 0.8991 - val_accuracy: 0.5846 - lr: 0.0010\n",
            "Epoch 6/25\n",
            "33/32 [==============================] - 29s 886ms/step - loss: 0.4797 - accuracy: 0.7645 - val_loss: 0.5289 - val_accuracy: 0.7308 - lr: 0.0010\n",
            "Epoch 7/25\n",
            "33/32 [==============================] - 29s 888ms/step - loss: 0.4578 - accuracy: 0.7838 - val_loss: 0.6813 - val_accuracy: 0.6385 - lr: 0.0010\n",
            "Epoch 8/25\n",
            "33/32 [==============================] - 29s 893ms/step - loss: 0.4571 - accuracy: 0.8012 - val_loss: 0.5776 - val_accuracy: 0.6923 - lr: 0.0010\n",
            "Epoch 9/25\n",
            "33/32 [==============================] - 29s 880ms/step - loss: 0.4113 - accuracy: 0.8050 - val_loss: 0.6244 - val_accuracy: 0.6231 - lr: 0.0010\n",
            "Epoch 10/25\n",
            "33/32 [==============================] - 29s 887ms/step - loss: 0.3899 - accuracy: 0.8166 - val_loss: 0.4884 - val_accuracy: 0.8154 - lr: 5.0000e-04\n",
            "Epoch 11/25\n",
            "33/32 [==============================] - 29s 891ms/step - loss: 0.3838 - accuracy: 0.8378 - val_loss: 0.5588 - val_accuracy: 0.8000 - lr: 5.0000e-04\n",
            "Epoch 12/25\n",
            "33/32 [==============================] - 29s 885ms/step - loss: 0.3198 - accuracy: 0.8668 - val_loss: 0.3740 - val_accuracy: 0.8000 - lr: 5.0000e-04\n",
            "Epoch 13/25\n",
            "33/32 [==============================] - 29s 884ms/step - loss: 0.3131 - accuracy: 0.8687 - val_loss: 0.4534 - val_accuracy: 0.7462 - lr: 5.0000e-04\n",
            "Epoch 14/25\n",
            "33/32 [==============================] - 30s 898ms/step - loss: 0.2491 - accuracy: 0.8938 - val_loss: 0.5693 - val_accuracy: 0.8231 - lr: 5.0000e-04\n",
            "Epoch 15/25\n",
            "33/32 [==============================] - 29s 878ms/step - loss: 0.3233 - accuracy: 0.8610 - val_loss: 0.4206 - val_accuracy: 0.7923 - lr: 5.0000e-04\n",
            "Epoch 16/25\n",
            "33/32 [==============================] - 29s 882ms/step - loss: 0.3014 - accuracy: 0.8687 - val_loss: 0.3429 - val_accuracy: 0.8462 - lr: 2.5000e-04\n",
            "Epoch 17/25\n",
            "33/32 [==============================] - 29s 884ms/step - loss: 0.2408 - accuracy: 0.9093 - val_loss: 0.3125 - val_accuracy: 0.8769 - lr: 2.5000e-04\n",
            "Epoch 18/25\n",
            "33/32 [==============================] - 29s 871ms/step - loss: 0.2365 - accuracy: 0.8977 - val_loss: 0.2649 - val_accuracy: 0.8769 - lr: 2.5000e-04\n",
            "Epoch 19/25\n",
            "33/32 [==============================] - 30s 896ms/step - loss: 0.1973 - accuracy: 0.9228 - val_loss: 0.3581 - val_accuracy: 0.8769 - lr: 2.5000e-04\n",
            "Epoch 20/25\n",
            "33/32 [==============================] - ETA: 0s - loss: 0.2231 - accuracy: 0.9112"
          ],
          "name": "stdout"
        }
      ]
    },
    {
      "cell_type": "code",
      "metadata": {
        "id": "LXZyOVaD-oEZ",
        "colab_type": "code",
        "colab": {
          "base_uri": "https://localhost:8080/",
          "height": 33
        },
        "outputId": "8b622723-b18e-4483-ff72-24bc7f2c75fd"
      },
      "source": [
        "accuracy\n"
      ],
      "execution_count": 50,
      "outputs": [
        {
          "output_type": "execute_result",
          "data": {
            "text/plain": [
              "[0.6836734693877551]"
            ]
          },
          "metadata": {
            "tags": []
          },
          "execution_count": 50
        }
      ]
    },
    {
      "cell_type": "code",
      "metadata": {
        "id": "rZiL21WlO_K8",
        "colab_type": "code",
        "colab": {
          "base_uri": "https://localhost:8080/",
          "height": 33
        },
        "outputId": "d751b13c-2189-4653-a069-032af6fef6d6"
      },
      "source": [
        "import numpy as np\n",
        "print(np.mean(accuracy))"
      ],
      "execution_count": 25,
      "outputs": [
        {
          "output_type": "stream",
          "text": [
            "0.8780492170022371\n"
          ],
          "name": "stdout"
        }
      ]
    },
    {
      "cell_type": "code",
      "metadata": {
        "id": "6jZXDyHoPBWN",
        "colab_type": "code",
        "colab": {
          "base_uri": "https://localhost:8080/",
          "height": 100
        },
        "outputId": "df6f2665-4d08-4300-818b-4e1bd98e5075"
      },
      "source": [
        "f1_scores"
      ],
      "execution_count": 26,
      "outputs": [
        {
          "output_type": "execute_result",
          "data": {
            "text/plain": [
              "[0.8432750759878418,\n",
              " 0.8858854800198226,\n",
              " 0.8925739005046864,\n",
              " 0.8789274106175515,\n",
              " 0.8791456380677721]"
            ]
          },
          "metadata": {
            "tags": []
          },
          "execution_count": 26
        }
      ]
    },
    {
      "cell_type": "code",
      "metadata": {
        "id": "w9haxiPUPE2b",
        "colab_type": "code",
        "colab": {
          "base_uri": "https://localhost:8080/",
          "height": 33
        },
        "outputId": "e5117382-007f-4ba9-8911-af903a91dbb7"
      },
      "source": [
        "np.mean(f1_scores)"
      ],
      "execution_count": 27,
      "outputs": [
        {
          "output_type": "execute_result",
          "data": {
            "text/plain": [
              "0.8759615010395349"
            ]
          },
          "metadata": {
            "tags": []
          },
          "execution_count": 27
        }
      ]
    },
    {
      "cell_type": "code",
      "metadata": {
        "id": "YIGWme4bPGJA",
        "colab_type": "code",
        "colab": {
          "base_uri": "https://localhost:8080/",
          "height": 937
        },
        "outputId": "9b2a7cc1-b9ba-4d25-b754-5cc0c1f27e6c"
      },
      "source": [
        "for i in range(5):\n",
        "  print('--------------FOLD {}------------------'.format(i))\n",
        "  print(classification_reports[i])"
      ],
      "execution_count": 28,
      "outputs": [
        {
          "output_type": "stream",
          "text": [
            "--------------FOLD 0------------------\n",
            "              precision    recall  f1-score   support\n",
            "\n",
            "       covid       0.85      0.76      0.80        59\n",
            "    noncovid       0.86      0.91      0.88        91\n",
            "\n",
            "   micro avg       0.85      0.85      0.85       150\n",
            "   macro avg       0.85      0.84      0.84       150\n",
            "weighted avg       0.85      0.85      0.85       150\n",
            " samples avg       0.85      0.85      0.85       150\n",
            "\n",
            "--------------FOLD 1------------------\n",
            "              precision    recall  f1-score   support\n",
            "\n",
            "       covid       0.87      0.91      0.89        74\n",
            "    noncovid       0.90      0.87      0.88        75\n",
            "\n",
            "   micro avg       0.89      0.89      0.89       149\n",
            "   macro avg       0.89      0.89      0.89       149\n",
            "weighted avg       0.89      0.89      0.89       149\n",
            " samples avg       0.89      0.89      0.89       149\n",
            "\n",
            "--------------FOLD 2------------------\n",
            "              precision    recall  f1-score   support\n",
            "\n",
            "       covid       0.89      0.89      0.89        73\n",
            "    noncovid       0.89      0.89      0.89        76\n",
            "\n",
            "   micro avg       0.89      0.89      0.89       149\n",
            "   macro avg       0.89      0.89      0.89       149\n",
            "weighted avg       0.89      0.89      0.89       149\n",
            " samples avg       0.89      0.89      0.89       149\n",
            "\n",
            "--------------FOLD 3------------------\n",
            "              precision    recall  f1-score   support\n",
            "\n",
            "       covid       0.86      0.89      0.87        70\n",
            "    noncovid       0.90      0.87      0.88        79\n",
            "\n",
            "   micro avg       0.88      0.88      0.88       149\n",
            "   macro avg       0.88      0.88      0.88       149\n",
            "weighted avg       0.88      0.88      0.88       149\n",
            " samples avg       0.88      0.88      0.88       149\n",
            "\n",
            "--------------FOLD 4------------------\n",
            "              precision    recall  f1-score   support\n",
            "\n",
            "       covid       0.88      0.88      0.88        73\n",
            "    noncovid       0.88      0.88      0.88        76\n",
            "\n",
            "   micro avg       0.88      0.88      0.88       149\n",
            "   macro avg       0.88      0.88      0.88       149\n",
            "weighted avg       0.88      0.88      0.88       149\n",
            " samples avg       0.88      0.88      0.88       149\n",
            "\n"
          ],
          "name": "stdout"
        }
      ]
    },
    {
      "cell_type": "code",
      "metadata": {
        "id": "nloJlTlUPJDZ",
        "colab_type": "code",
        "colab": {}
      },
      "source": [
        ""
      ],
      "execution_count": 0,
      "outputs": []
    }
  ]
}