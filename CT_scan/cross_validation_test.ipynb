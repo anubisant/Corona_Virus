{
  "nbformat": 4,
  "nbformat_minor": 0,
  "metadata": {
    "colab": {
      "name": "cross_validation_test.ipynb",
      "provenance": [],
      "toc_visible": true,
      "include_colab_link": true
    },
    "kernelspec": {
      "name": "python3",
      "display_name": "Python 3"
    },
    "accelerator": "GPU"
  },
  "cells": [
    {
      "cell_type": "markdown",
      "metadata": {
        "id": "view-in-github",
        "colab_type": "text"
      },
      "source": [
        "<a href=\"https://colab.research.google.com/github/talhaanwarch/Corona_Virus/blob/master/CT_scan/cross_validation_test.ipynb\" target=\"_parent\"><img src=\"https://colab.research.google.com/assets/colab-badge.svg\" alt=\"Open In Colab\"/></a>"
      ]
    },
    {
      "cell_type": "code",
      "metadata": {
        "id": "ylMZAGXl7kKx",
        "colab_type": "code",
        "colab": {}
      },
      "source": [
        "%%capture\n",
        "!pip install efficientnet"
      ],
      "execution_count": 0,
      "outputs": []
    },
    {
      "cell_type": "code",
      "metadata": {
        "id": "_d7PdOxl3KJv",
        "colab_type": "code",
        "colab": {}
      },
      "source": [
        "%%capture\n",
        "!pip install focal-loss"
      ],
      "execution_count": 0,
      "outputs": []
    },
    {
      "cell_type": "markdown",
      "metadata": {
        "id": "4FDtv7g97nN8",
        "colab_type": "text"
      },
      "source": [
        "### CLone github repo, to dowlonad data"
      ]
    },
    {
      "cell_type": "code",
      "metadata": {
        "id": "yi2pSQus7JR4",
        "colab_type": "code",
        "outputId": "01739ea7-b494-49b8-a2fb-fe5a1e303c4d",
        "colab": {
          "base_uri": "https://localhost:8080/",
          "height": 151
        }
      },
      "source": [
        "!git clone https://github.com/UCSD-AI4H/COVID-CT.git"
      ],
      "execution_count": 3,
      "outputs": [
        {
          "output_type": "stream",
          "text": [
            "Cloning into 'COVID-CT'...\n",
            "remote: Enumerating objects: 130, done.\u001b[K\n",
            "remote: Counting objects:   0% (1/130)\u001b[K\rremote: Counting objects:   1% (2/130)\u001b[K\rremote: Counting objects:   2% (3/130)\u001b[K\rremote: Counting objects:   3% (4/130)\u001b[K\rremote: Counting objects:   4% (6/130)\u001b[K\rremote: Counting objects:   5% (7/130)\u001b[K\rremote: Counting objects:   6% (8/130)\u001b[K\rremote: Counting objects:   7% (10/130)\u001b[K\rremote: Counting objects:   8% (11/130)\u001b[K\rremote: Counting objects:   9% (12/130)\u001b[K\rremote: Counting objects:  10% (13/130)\u001b[K\rremote: Counting objects:  11% (15/130)\u001b[K\rremote: Counting objects:  12% (16/130)\u001b[K\rremote: Counting objects:  13% (17/130)\u001b[K\rremote: Counting objects:  14% (19/130)\u001b[K\rremote: Counting objects:  15% (20/130)\u001b[K\rremote: Counting objects:  16% (21/130)\u001b[K\rremote: Counting objects:  17% (23/130)\u001b[K\rremote: Counting objects:  18% (24/130)\u001b[K\rremote: Counting objects:  19% (25/130)\u001b[K\rremote: Counting objects:  20% (26/130)\u001b[K\rremote: Counting objects:  21% (28/130)\u001b[K\rremote: Counting objects:  22% (29/130)\u001b[K\rremote: Counting objects:  23% (30/130)\u001b[K\rremote: Counting objects:  24% (32/130)\u001b[K\rremote: Counting objects:  25% (33/130)\u001b[K\rremote: Counting objects:  26% (34/130)\u001b[K\rremote: Counting objects:  27% (36/130)\u001b[K\rremote: Counting objects:  28% (37/130)\u001b[K\rremote: Counting objects:  29% (38/130)\u001b[K\rremote: Counting objects:  30% (39/130)\u001b[K\rremote: Counting objects:  31% (41/130)\u001b[K\rremote: Counting objects:  32% (42/130)\u001b[K\rremote: Counting objects:  33% (43/130)\u001b[K\rremote: Counting objects:  34% (45/130)\u001b[K\rremote: Counting objects:  35% (46/130)\u001b[K\rremote: Counting objects:  36% (47/130)\u001b[K\rremote: Counting objects:  37% (49/130)\u001b[K\rremote: Counting objects:  38% (50/130)\u001b[K\rremote: Counting objects:  39% (51/130)\u001b[K\rremote: Counting objects:  40% (52/130)\u001b[K\rremote: Counting objects:  41% (54/130)\u001b[K\rremote: Counting objects:  42% (55/130)\u001b[K\rremote: Counting objects:  43% (56/130)\u001b[K\rremote: Counting objects:  44% (58/130)\u001b[K\rremote: Counting objects:  45% (59/130)\u001b[K\rremote: Counting objects:  46% (60/130)\u001b[K\rremote: Counting objects:  47% (62/130)\u001b[K\rremote: Counting objects:  48% (63/130)\u001b[K\rremote: Counting objects:  49% (64/130)\u001b[K\rremote: Counting objects:  50% (65/130)\u001b[K\rremote: Counting objects:  51% (67/130)\u001b[K\rremote: Counting objects:  52% (68/130)\u001b[K\rremote: Counting objects:  53% (69/130)\u001b[K\rremote: Counting objects:  54% (71/130)\u001b[K\rremote: Counting objects:  55% (72/130)\u001b[K\rremote: Counting objects:  56% (73/130)\u001b[K\rremote: Counting objects:  57% (75/130)\u001b[K\rremote: Counting objects:  58% (76/130)\u001b[K\rremote: Counting objects:  59% (77/130)\u001b[K\rremote: Counting objects:  60% (78/130)\u001b[K\rremote: Counting objects:  61% (80/130)\u001b[K\rremote: Counting objects:  62% (81/130)\u001b[K\rremote: Counting objects:  63% (82/130)\u001b[K\rremote: Counting objects:  64% (84/130)\u001b[K\rremote: Counting objects:  65% (85/130)\u001b[K\rremote: Counting objects:  66% (86/130)\u001b[K\rremote: Counting objects:  67% (88/130)\u001b[K\rremote: Counting objects:  68% (89/130)\u001b[K\rremote: Counting objects:  69% (90/130)\u001b[K\rremote: Counting objects:  70% (91/130)\u001b[K\rremote: Counting objects:  71% (93/130)\u001b[K\rremote: Counting objects:  72% (94/130)\u001b[K\rremote: Counting objects:  73% (95/130)\u001b[K\rremote: Counting objects:  74% (97/130)\u001b[K\rremote: Counting objects:  75% (98/130)\u001b[K\rremote: Counting objects:  76% (99/130)\u001b[K\rremote: Counting objects:  77% (101/130)\u001b[K\rremote: Counting objects:  78% (102/130)\u001b[K\rremote: Counting objects:  79% (103/130)\u001b[K\rremote: Counting objects:  80% (104/130)\u001b[K\rremote: Counting objects:  81% (106/130)\u001b[K\rremote: Counting objects:  82% (107/130)\u001b[K\rremote: Counting objects:  83% (108/130)\u001b[K\rremote: Counting objects:  84% (110/130)\u001b[K\rremote: Counting objects:  85% (111/130)\u001b[K\rremote: Counting objects:  86% (112/130)\u001b[K\rremote: Counting objects:  87% (114/130)\u001b[K\rremote: Counting objects:  88% (115/130)\u001b[K\rremote: Counting objects:  89% (116/130)\u001b[K\rremote: Counting objects:  90% (117/130)\u001b[K\rremote: Counting objects:  91% (119/130)\u001b[K\rremote: Counting objects:  92% (120/130)\u001b[K\rremote: Counting objects:  93% (121/130)\u001b[K\rremote: Counting objects:  94% (123/130)\u001b[K\rremote: Counting objects:  95% (124/130)\u001b[K\rremote: Counting objects:  96% (125/130)\u001b[K\rremote: Counting objects:  97% (127/130)\u001b[K\rremote: Counting objects:  98% (128/130)\u001b[K\rremote: Counting objects:  99% (129/130)\u001b[K\rremote: Counting objects: 100% (130/130)\u001b[K\rremote: Counting objects: 100% (130/130), done.\u001b[K\n",
            "remote: Compressing objects: 100% (128/128), done.\u001b[K\n",
            "remote: Total 5443 (delta 60), reused 9 (delta 2), pack-reused 5313\u001b[K\n",
            "Receiving objects: 100% (5443/5443), 1.09 GiB | 15.11 MiB/s, done.\n",
            "Resolving deltas: 100% (351/351), done.\n",
            "Checking out files: 100% (1048/1048), done.\n"
          ],
          "name": "stdout"
        }
      ]
    },
    {
      "cell_type": "markdown",
      "metadata": {
        "id": "imIfz2hq7s0m",
        "colab_type": "text"
      },
      "source": [
        "### Extract data in one format"
      ]
    },
    {
      "cell_type": "code",
      "metadata": {
        "id": "6WuO45h57deK",
        "colab_type": "code",
        "colab": {}
      },
      "source": [
        "%%capture\n",
        "!unzip /content/COVID-CT/Images-processed/CT_COVID.zip\n",
        "!unzip /content/COVID-CT/Images-processed/CT_NonCOVID.zip"
      ],
      "execution_count": 0,
      "outputs": []
    },
    {
      "cell_type": "code",
      "metadata": {
        "id": "eJUYRmVS8kJR",
        "colab_type": "code",
        "colab": {}
      },
      "source": [
        "!mkdir images\n",
        "!cp -r /content/CT_COVID/* images\n",
        "!cp -r /content/CT_NonCOVID/* images\n"
      ],
      "execution_count": 0,
      "outputs": []
    },
    {
      "cell_type": "markdown",
      "metadata": {
        "id": "R959Xz4V9GuP",
        "colab_type": "text"
      },
      "source": [
        "###read meta files"
      ]
    },
    {
      "cell_type": "code",
      "metadata": {
        "id": "ZSd1vcC-9Smh",
        "colab_type": "code",
        "colab": {}
      },
      "source": [
        "import pandas as pd\n",
        "import os"
      ],
      "execution_count": 0,
      "outputs": []
    },
    {
      "cell_type": "code",
      "metadata": {
        "id": "Li1uZhmr9Jk2",
        "colab_type": "code",
        "outputId": "02a5e065-e6b3-4394-91e0-bfc861781788",
        "colab": {
          "base_uri": "https://localhost:8080/",
          "height": 195
        }
      },
      "source": [
        "covid=os.listdir('/content/CT_COVID')\n",
        "cov=list(zip(covid,['covid']*(len(covid))))\n",
        "covid_df = pd.DataFrame(cov,columns=['file','label']) \n",
        "covid_df.head()"
      ],
      "execution_count": 7,
      "outputs": [
        {
          "output_type": "execute_result",
          "data": {
            "text/html": [
              "<div>\n",
              "<style scoped>\n",
              "    .dataframe tbody tr th:only-of-type {\n",
              "        vertical-align: middle;\n",
              "    }\n",
              "\n",
              "    .dataframe tbody tr th {\n",
              "        vertical-align: top;\n",
              "    }\n",
              "\n",
              "    .dataframe thead th {\n",
              "        text-align: right;\n",
              "    }\n",
              "</style>\n",
              "<table border=\"1\" class=\"dataframe\">\n",
              "  <thead>\n",
              "    <tr style=\"text-align: right;\">\n",
              "      <th></th>\n",
              "      <th>file</th>\n",
              "      <th>label</th>\n",
              "    </tr>\n",
              "  </thead>\n",
              "  <tbody>\n",
              "    <tr>\n",
              "      <th>0</th>\n",
              "      <td>PIIS0140673620303603%3.png</td>\n",
              "      <td>covid</td>\n",
              "    </tr>\n",
              "    <tr>\n",
              "      <th>1</th>\n",
              "      <td>2020.03.30.20047985-p9-56%1.png</td>\n",
              "      <td>covid</td>\n",
              "    </tr>\n",
              "    <tr>\n",
              "      <th>2</th>\n",
              "      <td>PIIS0140673620302117_2.png</td>\n",
              "      <td>covid</td>\n",
              "    </tr>\n",
              "    <tr>\n",
              "      <th>3</th>\n",
              "      <td>2020.03.22.20040782-p25-1542.png</td>\n",
              "      <td>covid</td>\n",
              "    </tr>\n",
              "    <tr>\n",
              "      <th>4</th>\n",
              "      <td>bmj.m606.full-p4-22%1.png</td>\n",
              "      <td>covid</td>\n",
              "    </tr>\n",
              "  </tbody>\n",
              "</table>\n",
              "</div>"
            ],
            "text/plain": [
              "                               file  label\n",
              "0        PIIS0140673620303603%3.png  covid\n",
              "1   2020.03.30.20047985-p9-56%1.png  covid\n",
              "2        PIIS0140673620302117_2.png  covid\n",
              "3  2020.03.22.20040782-p25-1542.png  covid\n",
              "4         bmj.m606.full-p4-22%1.png  covid"
            ]
          },
          "metadata": {
            "tags": []
          },
          "execution_count": 7
        }
      ]
    },
    {
      "cell_type": "code",
      "metadata": {
        "id": "PUrppSTx7Z3f",
        "colab_type": "code",
        "outputId": "b8647f0d-67da-485d-eaa3-65f81698d72d",
        "colab": {
          "base_uri": "https://localhost:8080/",
          "height": 195
        }
      },
      "source": [
        "noncovid=os.listdir('/content/CT_NonCOVID')\n",
        "noncov=list(zip(noncovid,['noncovid']*(len(noncovid))))\n",
        "noncovid_df = pd.DataFrame(noncov,columns=['file','label']) \n",
        "noncovid_df.head()"
      ],
      "execution_count": 8,
      "outputs": [
        {
          "output_type": "execute_result",
          "data": {
            "text/html": [
              "<div>\n",
              "<style scoped>\n",
              "    .dataframe tbody tr th:only-of-type {\n",
              "        vertical-align: middle;\n",
              "    }\n",
              "\n",
              "    .dataframe tbody tr th {\n",
              "        vertical-align: top;\n",
              "    }\n",
              "\n",
              "    .dataframe thead th {\n",
              "        text-align: right;\n",
              "    }\n",
              "</style>\n",
              "<table border=\"1\" class=\"dataframe\">\n",
              "  <thead>\n",
              "    <tr style=\"text-align: right;\">\n",
              "      <th></th>\n",
              "      <th>file</th>\n",
              "      <th>label</th>\n",
              "    </tr>\n",
              "  </thead>\n",
              "  <tbody>\n",
              "    <tr>\n",
              "      <th>0</th>\n",
              "      <td>81%2.jpg</td>\n",
              "      <td>noncovid</td>\n",
              "    </tr>\n",
              "    <tr>\n",
              "      <th>1</th>\n",
              "      <td>583.png</td>\n",
              "      <td>noncovid</td>\n",
              "    </tr>\n",
              "    <tr>\n",
              "      <th>2</th>\n",
              "      <td>5%7.jpg</td>\n",
              "      <td>noncovid</td>\n",
              "    </tr>\n",
              "    <tr>\n",
              "      <th>3</th>\n",
              "      <td>1212.png</td>\n",
              "      <td>noncovid</td>\n",
              "    </tr>\n",
              "    <tr>\n",
              "      <th>4</th>\n",
              "      <td>46.jpg</td>\n",
              "      <td>noncovid</td>\n",
              "    </tr>\n",
              "  </tbody>\n",
              "</table>\n",
              "</div>"
            ],
            "text/plain": [
              "       file     label\n",
              "0  81%2.jpg  noncovid\n",
              "1   583.png  noncovid\n",
              "2   5%7.jpg  noncovid\n",
              "3  1212.png  noncovid\n",
              "4    46.jpg  noncovid"
            ]
          },
          "metadata": {
            "tags": []
          },
          "execution_count": 8
        }
      ]
    },
    {
      "cell_type": "code",
      "metadata": {
        "id": "Tryb2TOv99r4",
        "colab_type": "code",
        "outputId": "015b0776-ae58-4896-d21d-253d2d72466b",
        "colab": {
          "base_uri": "https://localhost:8080/",
          "height": 195
        }
      },
      "source": [
        "dataframe=pd.concat([covid_df,noncovid_df])\n",
        "dataframe.head()"
      ],
      "execution_count": 9,
      "outputs": [
        {
          "output_type": "execute_result",
          "data": {
            "text/html": [
              "<div>\n",
              "<style scoped>\n",
              "    .dataframe tbody tr th:only-of-type {\n",
              "        vertical-align: middle;\n",
              "    }\n",
              "\n",
              "    .dataframe tbody tr th {\n",
              "        vertical-align: top;\n",
              "    }\n",
              "\n",
              "    .dataframe thead th {\n",
              "        text-align: right;\n",
              "    }\n",
              "</style>\n",
              "<table border=\"1\" class=\"dataframe\">\n",
              "  <thead>\n",
              "    <tr style=\"text-align: right;\">\n",
              "      <th></th>\n",
              "      <th>file</th>\n",
              "      <th>label</th>\n",
              "    </tr>\n",
              "  </thead>\n",
              "  <tbody>\n",
              "    <tr>\n",
              "      <th>0</th>\n",
              "      <td>PIIS0140673620303603%3.png</td>\n",
              "      <td>covid</td>\n",
              "    </tr>\n",
              "    <tr>\n",
              "      <th>1</th>\n",
              "      <td>2020.03.30.20047985-p9-56%1.png</td>\n",
              "      <td>covid</td>\n",
              "    </tr>\n",
              "    <tr>\n",
              "      <th>2</th>\n",
              "      <td>PIIS0140673620302117_2.png</td>\n",
              "      <td>covid</td>\n",
              "    </tr>\n",
              "    <tr>\n",
              "      <th>3</th>\n",
              "      <td>2020.03.22.20040782-p25-1542.png</td>\n",
              "      <td>covid</td>\n",
              "    </tr>\n",
              "    <tr>\n",
              "      <th>4</th>\n",
              "      <td>bmj.m606.full-p4-22%1.png</td>\n",
              "      <td>covid</td>\n",
              "    </tr>\n",
              "  </tbody>\n",
              "</table>\n",
              "</div>"
            ],
            "text/plain": [
              "                               file  label\n",
              "0        PIIS0140673620303603%3.png  covid\n",
              "1   2020.03.30.20047985-p9-56%1.png  covid\n",
              "2        PIIS0140673620302117_2.png  covid\n",
              "3  2020.03.22.20040782-p25-1542.png  covid\n",
              "4         bmj.m606.full-p4-22%1.png  covid"
            ]
          },
          "metadata": {
            "tags": []
          },
          "execution_count": 9
        }
      ]
    },
    {
      "cell_type": "code",
      "metadata": {
        "id": "L9YLBD4e-Gnd",
        "colab_type": "code",
        "outputId": "ae93a006-33db-49a5-d1a5-6070df8a0dbf",
        "colab": {
          "base_uri": "https://localhost:8080/",
          "height": 195
        }
      },
      "source": [
        "df = pd.get_dummies(dataframe['label'])\n",
        "df = pd.concat([dataframe, df], axis=1)\n",
        "df=df.sample(frac=1)\n",
        "df.head()\n"
      ],
      "execution_count": 10,
      "outputs": [
        {
          "output_type": "execute_result",
          "data": {
            "text/html": [
              "<div>\n",
              "<style scoped>\n",
              "    .dataframe tbody tr th:only-of-type {\n",
              "        vertical-align: middle;\n",
              "    }\n",
              "\n",
              "    .dataframe tbody tr th {\n",
              "        vertical-align: top;\n",
              "    }\n",
              "\n",
              "    .dataframe thead th {\n",
              "        text-align: right;\n",
              "    }\n",
              "</style>\n",
              "<table border=\"1\" class=\"dataframe\">\n",
              "  <thead>\n",
              "    <tr style=\"text-align: right;\">\n",
              "      <th></th>\n",
              "      <th>file</th>\n",
              "      <th>label</th>\n",
              "      <th>covid</th>\n",
              "      <th>noncovid</th>\n",
              "    </tr>\n",
              "  </thead>\n",
              "  <tbody>\n",
              "    <tr>\n",
              "      <th>203</th>\n",
              "      <td>impact_of_covid19_infection_on_pregnancy_outco...</td>\n",
              "      <td>covid</td>\n",
              "      <td>1</td>\n",
              "      <td>0</td>\n",
              "    </tr>\n",
              "    <tr>\n",
              "      <th>293</th>\n",
              "      <td>2020.02.17.20024018-p17-61%4.png</td>\n",
              "      <td>covid</td>\n",
              "      <td>1</td>\n",
              "      <td>0</td>\n",
              "    </tr>\n",
              "    <tr>\n",
              "      <th>166</th>\n",
              "      <td>177.png</td>\n",
              "      <td>noncovid</td>\n",
              "      <td>0</td>\n",
              "      <td>1</td>\n",
              "    </tr>\n",
              "    <tr>\n",
              "      <th>347</th>\n",
              "      <td>2020.02.25.20021568-p24-111%6.png</td>\n",
              "      <td>covid</td>\n",
              "      <td>1</td>\n",
              "      <td>0</td>\n",
              "    </tr>\n",
              "    <tr>\n",
              "      <th>268</th>\n",
              "      <td>709.png</td>\n",
              "      <td>noncovid</td>\n",
              "      <td>0</td>\n",
              "      <td>1</td>\n",
              "    </tr>\n",
              "  </tbody>\n",
              "</table>\n",
              "</div>"
            ],
            "text/plain": [
              "                                                  file  ... noncovid\n",
              "203  impact_of_covid19_infection_on_pregnancy_outco...  ...        0\n",
              "293                   2020.02.17.20024018-p17-61%4.png  ...        0\n",
              "166                                            177.png  ...        1\n",
              "347                  2020.02.25.20021568-p24-111%6.png  ...        0\n",
              "268                                            709.png  ...        1\n",
              "\n",
              "[5 rows x 4 columns]"
            ]
          },
          "metadata": {
            "tags": []
          },
          "execution_count": 10
        }
      ]
    },
    {
      "cell_type": "markdown",
      "metadata": {
        "id": "klH5y0SbVWKx",
        "colab_type": "text"
      },
      "source": [
        "#### TEST DATA"
      ]
    },
    {
      "cell_type": "code",
      "metadata": {
        "id": "sQtp3QAt-POe",
        "colab_type": "code",
        "outputId": "f0c1bb2a-d8ba-4d05-e23d-807d644bd23a",
        "colab": {
          "base_uri": "https://localhost:8080/",
          "height": 34
        }
      },
      "source": [
        "covid_test=pd.read_csv('/content/COVID-CT/Data-split/COVID/testCT_COVID.txt',header=None,squeeze=True).tolist()\n",
        "noncovid_test=pd.read_csv('/content/COVID-CT/Data-split/NonCOVID/testCT_NonCOVID.txt',header=None,squeeze=True).tolist()\n",
        "test=covid_test+noncovid_test\n",
        "len(test)"
      ],
      "execution_count": 11,
      "outputs": [
        {
          "output_type": "execute_result",
          "data": {
            "text/plain": [
              "203"
            ]
          },
          "metadata": {
            "tags": []
          },
          "execution_count": 11
        }
      ]
    },
    {
      "cell_type": "code",
      "metadata": {
        "id": "M3vJ-sCcaeQm",
        "colab_type": "code",
        "outputId": "543987b6-152a-4b98-cac0-5e1314aa5b4a",
        "colab": {
          "base_uri": "https://localhost:8080/",
          "height": 34
        }
      },
      "source": [
        "len(test),len(covid_test),len(noncovid_test)"
      ],
      "execution_count": 12,
      "outputs": [
        {
          "output_type": "execute_result",
          "data": {
            "text/plain": [
              "(203, 98, 105)"
            ]
          },
          "metadata": {
            "tags": []
          },
          "execution_count": 12
        }
      ]
    },
    {
      "cell_type": "code",
      "metadata": {
        "id": "JRUWC9sKV5G8",
        "colab_type": "code",
        "colab": {}
      },
      "source": [
        "test_df=df[df['file'].isin(test)]\n",
        "train_df=df[~df['file'].isin(test)]"
      ],
      "execution_count": 0,
      "outputs": []
    },
    {
      "cell_type": "code",
      "metadata": {
        "id": "KUuvqVvSaA-S",
        "colab_type": "code",
        "outputId": "11c516cd-eba4-4b61-babb-b9c5dc9f2b09",
        "colab": {
          "base_uri": "https://localhost:8080/",
          "height": 34
        }
      },
      "source": [
        "len(df),len(train_df),len(test_df)"
      ],
      "execution_count": 14,
      "outputs": [
        {
          "output_type": "execute_result",
          "data": {
            "text/plain": [
              "(746, 543, 203)"
            ]
          },
          "metadata": {
            "tags": []
          },
          "execution_count": 14
        }
      ]
    },
    {
      "cell_type": "markdown",
      "metadata": {
        "id": "oOXgCH8l-bqZ",
        "colab_type": "text"
      },
      "source": [
        "### Data generator"
      ]
    },
    {
      "cell_type": "code",
      "metadata": {
        "id": "CzTlWxDb-c9N",
        "colab_type": "code",
        "colab": {}
      },
      "source": [
        "from keras_preprocessing.image import ImageDataGenerator\n",
        "data_gen= ImageDataGenerator(\n",
        "    horizontal_flip=True,\n",
        "    vertical_flip=True,\n",
        "    #rotation_range=360,\n",
        "    #width_shift_range=0.2,\n",
        "    #height_shift_range=0.2,\n",
        "    #zoom_range=.2,\n",
        "    rescale=1/255,\n",
        "    fill_mode='nearest',\n",
        "    #shear_range=0.2,\n",
        "    #brightness_range=[0.2, 2.0],\n",
        "    )"
      ],
      "execution_count": 0,
      "outputs": []
    },
    {
      "cell_type": "code",
      "metadata": {
        "id": "gZ8ZMeKI-gQu",
        "colab_type": "code",
        "colab": {}
      },
      "source": [
        "from tensorflow.keras.models import Sequential,Model\n",
        "from tensorflow.keras.layers import Activation, Dropout, Flatten, Dense, Conv2D, MaxPool2D, BatchNormalization,Input,MaxPooling2D,GlobalMaxPooling2D,concatenate\n",
        "from tensorflow.keras.layers import GlobalAveragePooling2D\n",
        "from tensorflow.keras.applications.resnet50 import ResNet50\n",
        "from tensorflow.keras.callbacks import ModelCheckpoint,ReduceLROnPlateau\n",
        "from tensorflow.keras.optimizers import Adam\n",
        "import tensorflow.keras.backend as K\n",
        "import tensorflow as tf"
      ],
      "execution_count": 0,
      "outputs": []
    },
    {
      "cell_type": "markdown",
      "metadata": {
        "id": "rdSPz3Ru-VgF",
        "colab_type": "text"
      },
      "source": [
        "#Train model"
      ]
    },
    {
      "cell_type": "code",
      "metadata": {
        "id": "BfiKa4qr-rjv",
        "colab_type": "code",
        "colab": {}
      },
      "source": [
        "img_shape=348\n",
        "batch_size=16"
      ],
      "execution_count": 0,
      "outputs": []
    },
    {
      "cell_type": "code",
      "metadata": {
        "id": "d_omSkY2-W0d",
        "colab_type": "code",
        "outputId": "307a6b08-cddd-41fd-bb28-2fe4e7f70695",
        "colab": {
          "base_uri": "https://localhost:8080/",
          "height": 1000
        }
      },
      "source": [
        "from sklearn.model_selection import KFold\n",
        "import gc\n",
        "from focal_loss import BinaryFocalLoss\n",
        "\n",
        "from sklearn.metrics import classification_report,accuracy_score,f1_score,roc_auc_score\n",
        "classification_reports=[]\n",
        "kf = KFold(n_splits=5)\n",
        "history=[]\n",
        "accuracy=[]\n",
        "f1_scores=[]\n",
        "auc=[]\n",
        "y_pred=[]\n",
        "fold=0\n",
        "for train_index, test_index in kf.split(train_df):\n",
        "  train=train_df.iloc[train_index,:]\n",
        "  val=train_df.iloc[test_index,:]\n",
        "  print('-----------fold {}--------------'.format(fold))\n",
        "  train_generator=data_gen.flow_from_dataframe(train,directory='images',\n",
        "                                                      target_size=(img_shape,img_shape),\n",
        "                                                      x_col=\"file\",\n",
        "                                                      y_col=['covid','noncovid'],\n",
        "                                                      class_mode='raw',\n",
        "                                                      shuffle=True,\n",
        "                                                      batch_size=batch_size)\n",
        "\n",
        "  val_generator=data_gen.flow_from_dataframe(val,directory='images',\n",
        "                                                        target_size=(img_shape,img_shape),\n",
        "                                                        x_col=\"file\",\n",
        "                                                        y_col=['covid','noncovid'],\n",
        "                                                        class_mode='raw',\n",
        "                                                        shuffle=False,\n",
        "                                                        batch_size=batch_size)\n",
        "  \n",
        "  test_generator=data_gen.flow_from_dataframe(test_df,directory='images',\n",
        "                                                      target_size=(img_shape,img_shape),\n",
        "                                                      x_col=\"file\",\n",
        "                                                      y_col=['covid','noncovid'],\n",
        "                                                      class_mode='raw',\n",
        "                                                      shuffle=False,\n",
        "                                                      batch_size=batch_size)\n",
        "  #train_generator.next()[0].shape,train_generator.next()[1].shape\n",
        "  import efficientnet.tfkeras as efn\n",
        "  model =efn.EfficientNetB4(weights ='noisy-student', include_top=False, input_shape = (img_shape,img_shape,3))\n",
        "    \n",
        "  x = model.output\n",
        "  x = GlobalAveragePooling2D()(x)\n",
        "  #x = Dropout(0.3)(x)\n",
        "  #x = Dense(128, activation=\"relu\")(x)\n",
        "  #x = Dropout(0.3)(x)\n",
        "  #x = Dense(64, activation=\"relu\")(x)\n",
        "  predictions = Dense(2, activation=\"softmax\")(x)\n",
        "  model = Model(inputs=model.input, outputs=predictions)\n",
        "\n",
        "\n",
        "  model.compile(optimizer=Adam(0.001), loss=BinaryFocalLoss(gamma=2), metrics=['accuracy'])\n",
        "\n",
        "  results = model.fit(train_generator,epochs=25,\n",
        "                              steps_per_epoch=train_generator.n/batch_size,\n",
        "                              validation_data=val_generator,\n",
        "                             validation_steps=val_generator.n/batch_size,\n",
        "                              callbacks=[ReduceLROnPlateau(monitor='val_loss', factor=0.5,patience=3, min_lr=0.000001),\n",
        "                                         #ModelCheckpoint('model_{}.hdf5'.format(fold), save_best_only=True, monitor='val_loss', mode='min')\n",
        "                                         ])\n",
        "  #model.load_weights('model_{}.hdf5'.format(fold))\n",
        "  test_generator.reset()\n",
        "  y_pred.append(model.predict(test_generator,steps=test_generator.n/batch_size,verbose=1))\n",
        "\n",
        "\n",
        "  \n",
        "  fold+=1\n",
        "  del model\n",
        "  tf.keras.backend.clear_session()\n",
        "  gc.collect()"
      ],
      "execution_count": 18,
      "outputs": [
        {
          "output_type": "stream",
          "text": [
            "-----------fold 0--------------\n",
            "Found 434 validated image filenames.\n",
            "Found 109 validated image filenames.\n",
            "Found 203 validated image filenames.\n",
            "Downloading data from https://github.com/qubvel/efficientnet/releases/download/v0.0.1/efficientnet-b4_noisy-student_notop.h5\n",
            "71680000/71678424 [==============================] - 6s 0us/step\n",
            "Epoch 1/25\n",
            "28/27 [==============================] - 21s 756ms/step - loss: 0.2531 - accuracy: 0.6498 - val_loss: 0.5991 - val_accuracy: 0.3945 - lr: 0.0010\n",
            "Epoch 2/25\n",
            "28/27 [==============================] - 17s 611ms/step - loss: 0.1724 - accuracy: 0.6912 - val_loss: 0.1245 - val_accuracy: 0.7706 - lr: 0.0010\n",
            "Epoch 3/25\n",
            "28/27 [==============================] - 17s 612ms/step - loss: 0.0931 - accuracy: 0.8272 - val_loss: 0.2025 - val_accuracy: 0.6972 - lr: 0.0010\n",
            "Epoch 4/25\n",
            "28/27 [==============================] - 17s 621ms/step - loss: 0.1042 - accuracy: 0.8433 - val_loss: 0.1807 - val_accuracy: 0.7431 - lr: 0.0010\n",
            "Epoch 5/25\n",
            "28/27 [==============================] - 18s 627ms/step - loss: 0.0976 - accuracy: 0.8456 - val_loss: 0.3945 - val_accuracy: 0.6972 - lr: 0.0010\n",
            "Epoch 6/25\n",
            "28/27 [==============================] - 17s 621ms/step - loss: 0.0556 - accuracy: 0.9332 - val_loss: 0.0884 - val_accuracy: 0.8532 - lr: 5.0000e-04\n",
            "Epoch 7/25\n",
            "28/27 [==============================] - 17s 624ms/step - loss: 0.0401 - accuracy: 0.9539 - val_loss: 0.2214 - val_accuracy: 0.7615 - lr: 5.0000e-04\n",
            "Epoch 8/25\n",
            "28/27 [==============================] - 17s 614ms/step - loss: 0.0527 - accuracy: 0.9608 - val_loss: 0.2178 - val_accuracy: 0.7798 - lr: 5.0000e-04\n",
            "Epoch 9/25\n",
            "28/27 [==============================] - 17s 616ms/step - loss: 0.0634 - accuracy: 0.9147 - val_loss: 0.1221 - val_accuracy: 0.8257 - lr: 5.0000e-04\n",
            "Epoch 10/25\n",
            "28/27 [==============================] - 17s 623ms/step - loss: 0.0429 - accuracy: 0.9516 - val_loss: 0.1361 - val_accuracy: 0.8440 - lr: 2.5000e-04\n",
            "Epoch 11/25\n",
            "28/27 [==============================] - 17s 618ms/step - loss: 0.0262 - accuracy: 0.9700 - val_loss: 0.1432 - val_accuracy: 0.8257 - lr: 2.5000e-04\n",
            "Epoch 12/25\n",
            "28/27 [==============================] - 17s 617ms/step - loss: 0.0166 - accuracy: 0.9747 - val_loss: 0.1356 - val_accuracy: 0.8532 - lr: 2.5000e-04\n",
            "Epoch 13/25\n",
            "28/27 [==============================] - 18s 625ms/step - loss: 0.0139 - accuracy: 0.9839 - val_loss: 0.1767 - val_accuracy: 0.8532 - lr: 1.2500e-04\n",
            "Epoch 14/25\n",
            "28/27 [==============================] - 17s 612ms/step - loss: 0.0261 - accuracy: 0.9908 - val_loss: 0.1339 - val_accuracy: 0.8807 - lr: 1.2500e-04\n",
            "Epoch 15/25\n",
            "28/27 [==============================] - 17s 618ms/step - loss: 0.0320 - accuracy: 0.9700 - val_loss: 0.1588 - val_accuracy: 0.8440 - lr: 1.2500e-04\n",
            "Epoch 16/25\n",
            "28/27 [==============================] - 17s 613ms/step - loss: 0.0197 - accuracy: 0.9839 - val_loss: 0.0879 - val_accuracy: 0.8716 - lr: 6.2500e-05\n",
            "Epoch 17/25\n",
            "28/27 [==============================] - 17s 613ms/step - loss: 0.0180 - accuracy: 0.9908 - val_loss: 0.0918 - val_accuracy: 0.8991 - lr: 6.2500e-05\n",
            "Epoch 18/25\n",
            "28/27 [==============================] - 17s 618ms/step - loss: 0.0167 - accuracy: 0.9885 - val_loss: 0.0659 - val_accuracy: 0.9450 - lr: 6.2500e-05\n",
            "Epoch 19/25\n",
            "28/27 [==============================] - 17s 625ms/step - loss: 0.0305 - accuracy: 0.9862 - val_loss: 0.0550 - val_accuracy: 0.9541 - lr: 6.2500e-05\n",
            "Epoch 20/25\n",
            "28/27 [==============================] - 17s 608ms/step - loss: 0.0074 - accuracy: 0.9954 - val_loss: 0.0503 - val_accuracy: 0.9633 - lr: 6.2500e-05\n",
            "Epoch 21/25\n",
            "28/27 [==============================] - 17s 619ms/step - loss: 0.0125 - accuracy: 0.9839 - val_loss: 0.0503 - val_accuracy: 0.9633 - lr: 6.2500e-05\n",
            "Epoch 22/25\n",
            "28/27 [==============================] - 17s 622ms/step - loss: 0.0087 - accuracy: 0.9931 - val_loss: 0.0472 - val_accuracy: 0.9450 - lr: 6.2500e-05\n",
            "Epoch 23/25\n",
            "28/27 [==============================] - 17s 609ms/step - loss: 0.0262 - accuracy: 0.9862 - val_loss: 0.0579 - val_accuracy: 0.9358 - lr: 6.2500e-05\n",
            "Epoch 24/25\n",
            "28/27 [==============================] - 17s 612ms/step - loss: 0.0183 - accuracy: 0.9908 - val_loss: 0.0522 - val_accuracy: 0.9358 - lr: 6.2500e-05\n",
            "Epoch 25/25\n",
            "28/27 [==============================] - 17s 609ms/step - loss: 0.0134 - accuracy: 0.9770 - val_loss: 0.0369 - val_accuracy: 0.9541 - lr: 6.2500e-05\n",
            "13/12 [==============================] - 2s 138ms/step\n",
            "-----------fold 1--------------\n",
            "Found 434 validated image filenames.\n",
            "Found 109 validated image filenames.\n",
            "Found 203 validated image filenames.\n",
            "Epoch 1/25\n",
            "28/27 [==============================] - 20s 721ms/step - loss: 0.2695 - accuracy: 0.6429 - val_loss: 0.3044 - val_accuracy: 0.5505 - lr: 0.0010\n",
            "Epoch 2/25\n",
            "28/27 [==============================] - 17s 612ms/step - loss: 0.1366 - accuracy: 0.7465 - val_loss: 0.1376 - val_accuracy: 0.7615 - lr: 0.0010\n",
            "Epoch 3/25\n",
            "28/27 [==============================] - 17s 614ms/step - loss: 0.1001 - accuracy: 0.8641 - val_loss: 0.1209 - val_accuracy: 0.7982 - lr: 0.0010\n",
            "Epoch 4/25\n",
            "28/27 [==============================] - 17s 612ms/step - loss: 0.0733 - accuracy: 0.8779 - val_loss: 0.1181 - val_accuracy: 0.8257 - lr: 0.0010\n",
            "Epoch 5/25\n",
            "28/27 [==============================] - 17s 606ms/step - loss: 0.0643 - accuracy: 0.8825 - val_loss: 0.0714 - val_accuracy: 0.8532 - lr: 0.0010\n",
            "Epoch 6/25\n",
            "28/27 [==============================] - 17s 618ms/step - loss: 0.0753 - accuracy: 0.9124 - val_loss: 0.1458 - val_accuracy: 0.7248 - lr: 0.0010\n",
            "Epoch 7/25\n",
            "28/27 [==============================] - 17s 614ms/step - loss: 0.0451 - accuracy: 0.9309 - val_loss: 0.6583 - val_accuracy: 0.5780 - lr: 0.0010\n",
            "Epoch 8/25\n",
            "28/27 [==============================] - 17s 609ms/step - loss: 0.0441 - accuracy: 0.9332 - val_loss: 0.2114 - val_accuracy: 0.8073 - lr: 0.0010\n",
            "Epoch 9/25\n",
            "28/27 [==============================] - 17s 615ms/step - loss: 0.0254 - accuracy: 0.9654 - val_loss: 0.2983 - val_accuracy: 0.8165 - lr: 5.0000e-04\n",
            "Epoch 10/25\n",
            "28/27 [==============================] - 17s 616ms/step - loss: 0.0139 - accuracy: 0.9770 - val_loss: 0.2092 - val_accuracy: 0.8807 - lr: 5.0000e-04\n",
            "Epoch 11/25\n",
            "28/27 [==============================] - 17s 615ms/step - loss: 0.0612 - accuracy: 0.9839 - val_loss: 0.1861 - val_accuracy: 0.8807 - lr: 5.0000e-04\n",
            "Epoch 12/25\n",
            "28/27 [==============================] - 17s 602ms/step - loss: 0.0397 - accuracy: 0.9355 - val_loss: 0.0955 - val_accuracy: 0.8532 - lr: 2.5000e-04\n",
            "Epoch 13/25\n",
            "28/27 [==============================] - 17s 620ms/step - loss: 0.0404 - accuracy: 0.9608 - val_loss: 0.0489 - val_accuracy: 0.9266 - lr: 2.5000e-04\n",
            "Epoch 14/25\n",
            "28/27 [==============================] - 17s 617ms/step - loss: 0.0264 - accuracy: 0.9747 - val_loss: 0.0522 - val_accuracy: 0.8991 - lr: 2.5000e-04\n",
            "Epoch 15/25\n",
            "28/27 [==============================] - 17s 619ms/step - loss: 0.0196 - accuracy: 0.9677 - val_loss: 0.0367 - val_accuracy: 0.9541 - lr: 2.5000e-04\n",
            "Epoch 16/25\n",
            "28/27 [==============================] - 17s 614ms/step - loss: 0.0134 - accuracy: 0.9793 - val_loss: 0.0269 - val_accuracy: 0.9633 - lr: 2.5000e-04\n",
            "Epoch 17/25\n",
            "28/27 [==============================] - 17s 614ms/step - loss: 0.0199 - accuracy: 0.9908 - val_loss: 0.0287 - val_accuracy: 0.9541 - lr: 2.5000e-04\n",
            "Epoch 18/25\n",
            "28/27 [==============================] - 17s 615ms/step - loss: 0.0072 - accuracy: 0.9931 - val_loss: 0.0261 - val_accuracy: 0.9450 - lr: 2.5000e-04\n",
            "Epoch 19/25\n",
            "28/27 [==============================] - 17s 616ms/step - loss: 0.0114 - accuracy: 0.9862 - val_loss: 0.0195 - val_accuracy: 0.9725 - lr: 2.5000e-04\n",
            "Epoch 20/25\n",
            "28/27 [==============================] - 17s 613ms/step - loss: 0.0099 - accuracy: 0.9885 - val_loss: 0.0188 - val_accuracy: 0.9908 - lr: 2.5000e-04\n",
            "Epoch 21/25\n",
            "28/27 [==============================] - 17s 616ms/step - loss: 0.0112 - accuracy: 0.9816 - val_loss: 0.0250 - val_accuracy: 0.9633 - lr: 2.5000e-04\n",
            "Epoch 22/25\n",
            "28/27 [==============================] - 17s 614ms/step - loss: 0.0089 - accuracy: 0.9862 - val_loss: 0.0230 - val_accuracy: 0.9633 - lr: 2.5000e-04\n",
            "Epoch 23/25\n",
            "28/27 [==============================] - 17s 615ms/step - loss: 0.0074 - accuracy: 0.9862 - val_loss: 0.0140 - val_accuracy: 0.9817 - lr: 2.5000e-04\n",
            "Epoch 24/25\n",
            "28/27 [==============================] - 17s 612ms/step - loss: 0.0096 - accuracy: 0.9862 - val_loss: 0.0567 - val_accuracy: 0.9083 - lr: 2.5000e-04\n",
            "Epoch 25/25\n",
            "28/27 [==============================] - 17s 610ms/step - loss: 0.0085 - accuracy: 0.9885 - val_loss: 0.0403 - val_accuracy: 0.9450 - lr: 2.5000e-04\n",
            "13/12 [==============================] - 1s 111ms/step\n",
            "-----------fold 2--------------\n",
            "Found 434 validated image filenames.\n",
            "Found 109 validated image filenames.\n",
            "Found 203 validated image filenames.\n",
            "Epoch 1/25\n",
            "28/27 [==============================] - 20s 722ms/step - loss: 0.2188 - accuracy: 0.6475 - val_loss: 0.2733 - val_accuracy: 0.6514 - lr: 0.0010\n",
            "Epoch 2/25\n",
            "28/27 [==============================] - 17s 613ms/step - loss: 0.1361 - accuracy: 0.7650 - val_loss: 0.2414 - val_accuracy: 0.6881 - lr: 0.0010\n",
            "Epoch 3/25\n",
            "28/27 [==============================] - 17s 610ms/step - loss: 0.0656 - accuracy: 0.9009 - val_loss: 0.1912 - val_accuracy: 0.7982 - lr: 0.0010\n",
            "Epoch 4/25\n",
            "28/27 [==============================] - 17s 614ms/step - loss: 0.0567 - accuracy: 0.9240 - val_loss: 0.6825 - val_accuracy: 0.6606 - lr: 0.0010\n",
            "Epoch 5/25\n",
            "28/27 [==============================] - 17s 611ms/step - loss: 0.0501 - accuracy: 0.9124 - val_loss: 0.1947 - val_accuracy: 0.7248 - lr: 0.0010\n",
            "Epoch 6/25\n",
            "28/27 [==============================] - 17s 611ms/step - loss: 0.0719 - accuracy: 0.9055 - val_loss: 0.2666 - val_accuracy: 0.7064 - lr: 0.0010\n",
            "Epoch 7/25\n",
            "28/27 [==============================] - 17s 618ms/step - loss: 0.1058 - accuracy: 0.8410 - val_loss: 0.2895 - val_accuracy: 0.6606 - lr: 5.0000e-04\n",
            "Epoch 8/25\n",
            "28/27 [==============================] - 17s 615ms/step - loss: 0.0423 - accuracy: 0.9401 - val_loss: 0.2342 - val_accuracy: 0.7248 - lr: 5.0000e-04\n",
            "Epoch 9/25\n",
            "28/27 [==============================] - 17s 617ms/step - loss: 0.0585 - accuracy: 0.9424 - val_loss: 0.2297 - val_accuracy: 0.7156 - lr: 5.0000e-04\n",
            "Epoch 10/25\n",
            "28/27 [==============================] - 17s 614ms/step - loss: 0.0406 - accuracy: 0.9401 - val_loss: 0.1903 - val_accuracy: 0.7431 - lr: 2.5000e-04\n",
            "Epoch 11/25\n",
            "28/27 [==============================] - 17s 614ms/step - loss: 0.0405 - accuracy: 0.9355 - val_loss: 0.1543 - val_accuracy: 0.7523 - lr: 2.5000e-04\n",
            "Epoch 12/25\n",
            "28/27 [==============================] - 17s 615ms/step - loss: 0.0216 - accuracy: 0.9793 - val_loss: 0.1710 - val_accuracy: 0.7431 - lr: 2.5000e-04\n",
            "Epoch 13/25\n",
            "28/27 [==============================] - 17s 619ms/step - loss: 0.0320 - accuracy: 0.9724 - val_loss: 0.2402 - val_accuracy: 0.7431 - lr: 2.5000e-04\n",
            "Epoch 14/25\n",
            "28/27 [==============================] - 17s 611ms/step - loss: 0.0222 - accuracy: 0.9747 - val_loss: 0.1605 - val_accuracy: 0.8073 - lr: 2.5000e-04\n",
            "Epoch 15/25\n",
            "28/27 [==============================] - 17s 619ms/step - loss: 0.0287 - accuracy: 0.9839 - val_loss: 0.1521 - val_accuracy: 0.8440 - lr: 1.2500e-04\n",
            "Epoch 16/25\n",
            "28/27 [==============================] - 17s 613ms/step - loss: 0.0147 - accuracy: 0.9793 - val_loss: 0.1590 - val_accuracy: 0.8165 - lr: 1.2500e-04\n",
            "Epoch 17/25\n",
            "28/27 [==============================] - 17s 619ms/step - loss: 0.0180 - accuracy: 0.9839 - val_loss: 0.1753 - val_accuracy: 0.8349 - lr: 1.2500e-04\n",
            "Epoch 18/25\n",
            "28/27 [==============================] - 17s 618ms/step - loss: 0.0248 - accuracy: 0.9747 - val_loss: 0.1245 - val_accuracy: 0.8716 - lr: 1.2500e-04\n",
            "Epoch 19/25\n",
            "28/27 [==============================] - 17s 615ms/step - loss: 0.0115 - accuracy: 0.9931 - val_loss: 0.0857 - val_accuracy: 0.8991 - lr: 1.2500e-04\n",
            "Epoch 20/25\n",
            "28/27 [==============================] - 17s 620ms/step - loss: 0.0134 - accuracy: 0.9908 - val_loss: 0.0636 - val_accuracy: 0.9083 - lr: 1.2500e-04\n",
            "Epoch 21/25\n",
            "28/27 [==============================] - 17s 612ms/step - loss: 0.0120 - accuracy: 0.9908 - val_loss: 0.0483 - val_accuracy: 0.9083 - lr: 1.2500e-04\n",
            "Epoch 22/25\n",
            "28/27 [==============================] - 17s 613ms/step - loss: 0.0102 - accuracy: 0.9931 - val_loss: 0.0632 - val_accuracy: 0.9174 - lr: 1.2500e-04\n",
            "Epoch 23/25\n",
            "28/27 [==============================] - 17s 614ms/step - loss: 0.0119 - accuracy: 0.9770 - val_loss: 0.0915 - val_accuracy: 0.9358 - lr: 1.2500e-04\n",
            "Epoch 24/25\n",
            "28/27 [==============================] - 17s 620ms/step - loss: 0.0201 - accuracy: 0.9931 - val_loss: 0.0379 - val_accuracy: 0.9541 - lr: 1.2500e-04\n",
            "Epoch 25/25\n",
            "28/27 [==============================] - 17s 614ms/step - loss: 0.0490 - accuracy: 0.9770 - val_loss: 0.0587 - val_accuracy: 0.9174 - lr: 1.2500e-04\n",
            "13/12 [==============================] - 1s 110ms/step\n",
            "-----------fold 3--------------\n",
            "Found 435 validated image filenames.\n",
            "Found 108 validated image filenames.\n",
            "Found 203 validated image filenames.\n",
            "Epoch 1/25\n",
            "28/27 [==============================] - 21s 757ms/step - loss: 0.2435 - accuracy: 0.6759 - val_loss: 0.5065 - val_accuracy: 0.5370 - lr: 0.0010\n",
            "Epoch 2/25\n",
            "28/27 [==============================] - 17s 617ms/step - loss: 0.1253 - accuracy: 0.8115 - val_loss: 0.1920 - val_accuracy: 0.6667 - lr: 0.0010\n",
            "Epoch 3/25\n",
            "28/27 [==============================] - 17s 618ms/step - loss: 0.0830 - accuracy: 0.8437 - val_loss: 0.1787 - val_accuracy: 0.7407 - lr: 0.0010\n",
            "Epoch 4/25\n",
            "28/27 [==============================] - 17s 622ms/step - loss: 0.0690 - accuracy: 0.8920 - val_loss: 0.6483 - val_accuracy: 0.6296 - lr: 0.0010\n",
            "Epoch 5/25\n",
            "28/27 [==============================] - 17s 623ms/step - loss: 0.0606 - accuracy: 0.9172 - val_loss: 0.3132 - val_accuracy: 0.8148 - lr: 0.0010\n",
            "Epoch 6/25\n",
            "28/27 [==============================] - 18s 627ms/step - loss: 0.0434 - accuracy: 0.9218 - val_loss: 0.3079 - val_accuracy: 0.7778 - lr: 0.0010\n",
            "Epoch 7/25\n",
            "28/27 [==============================] - 17s 624ms/step - loss: 0.0618 - accuracy: 0.9264 - val_loss: 0.2605 - val_accuracy: 0.8056 - lr: 5.0000e-04\n",
            "Epoch 8/25\n",
            "28/27 [==============================] - 17s 617ms/step - loss: 0.0467 - accuracy: 0.9218 - val_loss: 0.1758 - val_accuracy: 0.8333 - lr: 5.0000e-04\n",
            "Epoch 9/25\n",
            "28/27 [==============================] - 18s 626ms/step - loss: 0.0371 - accuracy: 0.9333 - val_loss: 0.4764 - val_accuracy: 0.7222 - lr: 5.0000e-04\n",
            "Epoch 10/25\n",
            "28/27 [==============================] - 17s 620ms/step - loss: 0.0258 - accuracy: 0.9678 - val_loss: 0.1703 - val_accuracy: 0.8148 - lr: 5.0000e-04\n",
            "Epoch 11/25\n",
            "28/27 [==============================] - 17s 622ms/step - loss: 0.0172 - accuracy: 0.9770 - val_loss: 0.2642 - val_accuracy: 0.8056 - lr: 5.0000e-04\n",
            "Epoch 12/25\n",
            "28/27 [==============================] - 18s 629ms/step - loss: 0.0416 - accuracy: 0.9678 - val_loss: 0.2024 - val_accuracy: 0.7870 - lr: 5.0000e-04\n",
            "Epoch 13/25\n",
            "28/27 [==============================] - 17s 620ms/step - loss: 0.0707 - accuracy: 0.9218 - val_loss: 0.1438 - val_accuracy: 0.7037 - lr: 5.0000e-04\n",
            "Epoch 14/25\n",
            "28/27 [==============================] - 18s 629ms/step - loss: 0.0353 - accuracy: 0.9471 - val_loss: 0.5173 - val_accuracy: 0.6481 - lr: 5.0000e-04\n",
            "Epoch 15/25\n",
            "28/27 [==============================] - 18s 629ms/step - loss: 0.0213 - accuracy: 0.9793 - val_loss: 0.1625 - val_accuracy: 0.8426 - lr: 5.0000e-04\n",
            "Epoch 16/25\n",
            "28/27 [==============================] - 18s 627ms/step - loss: 0.0076 - accuracy: 0.9931 - val_loss: 0.0797 - val_accuracy: 0.9259 - lr: 5.0000e-04\n",
            "Epoch 17/25\n",
            "28/27 [==============================] - 18s 625ms/step - loss: 0.0150 - accuracy: 0.9793 - val_loss: 0.0627 - val_accuracy: 0.9352 - lr: 5.0000e-04\n",
            "Epoch 18/25\n",
            "28/27 [==============================] - 18s 627ms/step - loss: 0.0404 - accuracy: 0.9494 - val_loss: 0.0521 - val_accuracy: 0.9444 - lr: 5.0000e-04\n",
            "Epoch 19/25\n",
            "28/27 [==============================] - 18s 626ms/step - loss: 0.0456 - accuracy: 0.9448 - val_loss: 0.0792 - val_accuracy: 0.8981 - lr: 5.0000e-04\n",
            "Epoch 20/25\n",
            "28/27 [==============================] - 18s 629ms/step - loss: 0.0141 - accuracy: 0.9816 - val_loss: 0.0707 - val_accuracy: 0.9167 - lr: 5.0000e-04\n",
            "Epoch 21/25\n",
            "28/27 [==============================] - 17s 613ms/step - loss: 0.0079 - accuracy: 0.9908 - val_loss: 0.0993 - val_accuracy: 0.9444 - lr: 5.0000e-04\n",
            "Epoch 22/25\n",
            "28/27 [==============================] - 17s 624ms/step - loss: 0.0527 - accuracy: 0.9816 - val_loss: 0.0975 - val_accuracy: 0.9352 - lr: 2.5000e-04\n",
            "Epoch 23/25\n",
            "28/27 [==============================] - 17s 625ms/step - loss: 0.0727 - accuracy: 0.9011 - val_loss: 0.1338 - val_accuracy: 0.8981 - lr: 2.5000e-04\n",
            "Epoch 24/25\n",
            "28/27 [==============================] - 17s 622ms/step - loss: 0.0380 - accuracy: 0.9586 - val_loss: 0.0830 - val_accuracy: 0.9074 - lr: 2.5000e-04\n",
            "Epoch 25/25\n",
            "28/27 [==============================] - 17s 616ms/step - loss: 0.0226 - accuracy: 0.9862 - val_loss: 0.0783 - val_accuracy: 0.9074 - lr: 1.2500e-04\n",
            "13/12 [==============================] - 1s 111ms/step\n",
            "-----------fold 4--------------\n",
            "Found 435 validated image filenames.\n",
            "Found 108 validated image filenames.\n",
            "Found 203 validated image filenames.\n",
            "Epoch 1/25\n",
            "28/27 [==============================] - 20s 730ms/step - loss: 0.2460 - accuracy: 0.6851 - val_loss: 0.5506 - val_accuracy: 0.5093 - lr: 0.0010\n",
            "Epoch 2/25\n",
            "28/27 [==============================] - 17s 613ms/step - loss: 0.1450 - accuracy: 0.7517 - val_loss: 0.2004 - val_accuracy: 0.7593 - lr: 0.0010\n",
            "Epoch 3/25\n",
            "28/27 [==============================] - 17s 615ms/step - loss: 0.0773 - accuracy: 0.8598 - val_loss: 0.2180 - val_accuracy: 0.6667 - lr: 0.0010\n",
            "Epoch 4/25\n",
            "28/27 [==============================] - 17s 613ms/step - loss: 0.1004 - accuracy: 0.8690 - val_loss: 0.0743 - val_accuracy: 0.8981 - lr: 0.0010\n",
            "Epoch 5/25\n",
            "28/27 [==============================] - 17s 617ms/step - loss: 0.0796 - accuracy: 0.9034 - val_loss: 0.3748 - val_accuracy: 0.7130 - lr: 0.0010\n",
            "Epoch 6/25\n",
            "28/27 [==============================] - 17s 618ms/step - loss: 0.0926 - accuracy: 0.8460 - val_loss: 0.1478 - val_accuracy: 0.7778 - lr: 0.0010\n",
            "Epoch 7/25\n",
            "28/27 [==============================] - 17s 613ms/step - loss: 0.0589 - accuracy: 0.9103 - val_loss: 1.8146 - val_accuracy: 0.5556 - lr: 0.0010\n",
            "Epoch 8/25\n",
            "28/27 [==============================] - 17s 616ms/step - loss: 0.0559 - accuracy: 0.9218 - val_loss: 0.8696 - val_accuracy: 0.6759 - lr: 5.0000e-04\n",
            "Epoch 9/25\n",
            "28/27 [==============================] - 17s 614ms/step - loss: 0.0256 - accuracy: 0.9678 - val_loss: 0.7153 - val_accuracy: 0.7315 - lr: 5.0000e-04\n",
            "Epoch 10/25\n",
            "28/27 [==============================] - 17s 622ms/step - loss: 0.0211 - accuracy: 0.9655 - val_loss: 0.5492 - val_accuracy: 0.7315 - lr: 5.0000e-04\n",
            "Epoch 11/25\n",
            "28/27 [==============================] - 17s 617ms/step - loss: 0.0297 - accuracy: 0.9586 - val_loss: 0.3993 - val_accuracy: 0.7685 - lr: 2.5000e-04\n",
            "Epoch 12/25\n",
            "28/27 [==============================] - 17s 613ms/step - loss: 0.0096 - accuracy: 0.9931 - val_loss: 0.2538 - val_accuracy: 0.8148 - lr: 2.5000e-04\n",
            "Epoch 13/25\n",
            "28/27 [==============================] - 17s 617ms/step - loss: 0.0735 - accuracy: 0.9747 - val_loss: 0.2644 - val_accuracy: 0.7870 - lr: 2.5000e-04\n",
            "Epoch 14/25\n",
            "28/27 [==============================] - 17s 618ms/step - loss: 0.0443 - accuracy: 0.9724 - val_loss: 0.2252 - val_accuracy: 0.7500 - lr: 1.2500e-04\n",
            "Epoch 15/25\n",
            "28/27 [==============================] - 17s 614ms/step - loss: 0.0163 - accuracy: 0.9885 - val_loss: 0.2536 - val_accuracy: 0.7685 - lr: 1.2500e-04\n",
            "Epoch 16/25\n",
            "28/27 [==============================] - 17s 620ms/step - loss: 0.0206 - accuracy: 0.9816 - val_loss: 0.2177 - val_accuracy: 0.7870 - lr: 1.2500e-04\n",
            "Epoch 17/25\n",
            "28/27 [==============================] - 17s 613ms/step - loss: 0.0167 - accuracy: 0.9793 - val_loss: 0.1756 - val_accuracy: 0.8241 - lr: 6.2500e-05\n",
            "Epoch 18/25\n",
            "28/27 [==============================] - 17s 612ms/step - loss: 0.0131 - accuracy: 0.9908 - val_loss: 0.1418 - val_accuracy: 0.8519 - lr: 6.2500e-05\n",
            "Epoch 19/25\n",
            "28/27 [==============================] - 17s 618ms/step - loss: 0.0167 - accuracy: 0.9862 - val_loss: 0.1123 - val_accuracy: 0.8889 - lr: 6.2500e-05\n",
            "Epoch 20/25\n",
            "28/27 [==============================] - 17s 611ms/step - loss: 0.0092 - accuracy: 0.9954 - val_loss: 0.0774 - val_accuracy: 0.8889 - lr: 3.1250e-05\n",
            "Epoch 21/25\n",
            "28/27 [==============================] - 17s 619ms/step - loss: 0.0277 - accuracy: 0.9862 - val_loss: 0.0816 - val_accuracy: 0.9167 - lr: 3.1250e-05\n",
            "Epoch 22/25\n",
            "28/27 [==============================] - 17s 617ms/step - loss: 0.0111 - accuracy: 0.9908 - val_loss: 0.0720 - val_accuracy: 0.9259 - lr: 3.1250e-05\n",
            "Epoch 23/25\n",
            "28/27 [==============================] - 17s 617ms/step - loss: 0.0224 - accuracy: 0.9701 - val_loss: 0.0621 - val_accuracy: 0.9352 - lr: 3.1250e-05\n",
            "Epoch 24/25\n",
            "28/27 [==============================] - 17s 614ms/step - loss: 0.0110 - accuracy: 0.9908 - val_loss: 0.0277 - val_accuracy: 0.9352 - lr: 3.1250e-05\n",
            "Epoch 25/25\n",
            "28/27 [==============================] - 17s 609ms/step - loss: 0.0156 - accuracy: 0.9839 - val_loss: 0.0228 - val_accuracy: 0.9630 - lr: 3.1250e-05\n",
            "13/12 [==============================] - 1s 109ms/step\n"
          ],
          "name": "stdout"
        }
      ]
    },
    {
      "cell_type": "code",
      "metadata": {
        "id": "BJobcAABrZK4",
        "colab_type": "code",
        "colab": {
          "base_uri": "https://localhost:8080/",
          "height": 34
        },
        "outputId": "bac471c9-eea2-4f89-ce85-5cecaf3937be"
      },
      "source": [
        "import numpy as np\n",
        "y_mean=np.mean(y_pred,axis=0)\n",
        "y_true=test_df.iloc[:,2::]\n",
        "y_true.shape,y_mean.shape"
      ],
      "execution_count": 61,
      "outputs": [
        {
          "output_type": "execute_result",
          "data": {
            "text/plain": [
              "((203, 2), (203, 2))"
            ]
          },
          "metadata": {
            "tags": []
          },
          "execution_count": 61
        }
      ]
    },
    {
      "cell_type": "code",
      "metadata": {
        "id": "XCphJVfdBm0H",
        "colab_type": "code",
        "colab": {
          "base_uri": "https://localhost:8080/",
          "height": 34
        },
        "outputId": "36c8b4ab-f222-4f47-91e4-ac0c8e64f128"
      },
      "source": [
        "y_mean=np.argmax(y_mean,axis=1).ravel()\n",
        "y_true=np.argmax(y_true.values,axis=1).ravel()\n",
        "\n",
        "y_true.shape,y_mean.shape"
      ],
      "execution_count": 62,
      "outputs": [
        {
          "output_type": "execute_result",
          "data": {
            "text/plain": [
              "((203,), (203,))"
            ]
          },
          "metadata": {
            "tags": []
          },
          "execution_count": 62
        }
      ]
    },
    {
      "cell_type": "code",
      "metadata": {
        "id": "ecc-q4ledbtX",
        "colab_type": "code",
        "outputId": "c1d8a598-4167-48d3-81cb-ebaa6b395c73",
        "colab": {
          "base_uri": "https://localhost:8080/",
          "height": 218
        }
      },
      "source": [
        "\n",
        "print(classification_report(y_true, y_mean,target_names=['covid','noncovid']))#\n",
        "print('accuracy',np.round(accuracy_score(y_true,y_mean),2))\n",
        "print('f1 score is ',np.round(f1_score(y_true,y_mean,average='macro'),2))\n",
        "print('auc',np.round(roc_auc_score(y_true,y_mean),2))"
      ],
      "execution_count": 63,
      "outputs": [
        {
          "output_type": "stream",
          "text": [
            "              precision    recall  f1-score   support\n",
            "\n",
            "       covid       0.96      0.84      0.90        98\n",
            "    noncovid       0.86      0.97      0.91       105\n",
            "\n",
            "    accuracy                           0.91       203\n",
            "   macro avg       0.91      0.90      0.91       203\n",
            "weighted avg       0.91      0.91      0.91       203\n",
            "\n",
            "accuracy 0.91\n",
            "f1 score is  0.91\n",
            "auc 0.9\n"
          ],
          "name": "stdout"
        }
      ]
    },
    {
      "cell_type": "code",
      "metadata": {
        "id": "nloJlTlUPJDZ",
        "colab_type": "code",
        "colab": {}
      },
      "source": [
        ""
      ],
      "execution_count": 0,
      "outputs": []
    }
  ]
}