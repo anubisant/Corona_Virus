{
  "nbformat": 4,
  "nbformat_minor": 0,
  "metadata": {
    "colab": {
      "name": "cross_validation_test.ipynb",
      "provenance": [],
      "toc_visible": true,
      "include_colab_link": true
    },
    "kernelspec": {
      "name": "python3",
      "display_name": "Python 3"
    },
    "accelerator": "GPU"
  },
  "cells": [
    {
      "cell_type": "markdown",
      "metadata": {
        "id": "view-in-github",
        "colab_type": "text"
      },
      "source": [
        "<a href=\"https://colab.research.google.com/github/talhaanwarch/Corona_Virus/blob/master/CT_scan/cross_validation_test.ipynb\" target=\"_parent\"><img src=\"https://colab.research.google.com/assets/colab-badge.svg\" alt=\"Open In Colab\"/></a>"
      ]
    },
    {
      "cell_type": "code",
      "metadata": {
        "id": "ylMZAGXl7kKx",
        "colab_type": "code",
        "colab": {}
      },
      "source": [
        "%%capture\n",
        "!pip install efficientnet"
      ],
      "execution_count": 0,
      "outputs": []
    },
    {
      "cell_type": "markdown",
      "metadata": {
        "id": "4FDtv7g97nN8",
        "colab_type": "text"
      },
      "source": [
        "### CLone github repo, to dowlonad data"
      ]
    },
    {
      "cell_type": "code",
      "metadata": {
        "id": "yi2pSQus7JR4",
        "colab_type": "code",
        "outputId": "101934b6-5c48-45bc-d4cb-0d3a795a3e3f",
        "colab": {
          "base_uri": "https://localhost:8080/",
          "height": 150
        }
      },
      "source": [
        "!git clone https://github.com/UCSD-AI4H/COVID-CT.git"
      ],
      "execution_count": 2,
      "outputs": [
        {
          "output_type": "stream",
          "text": [
            "Cloning into 'COVID-CT'...\n",
            "remote: Enumerating objects: 130, done.\u001b[K\n",
            "remote: Counting objects: 100% (130/130), done.\u001b[K\n",
            "remote: Compressing objects: 100% (128/128), done.\u001b[K\n",
            "remote: Total 5443 (delta 60), reused 9 (delta 2), pack-reused 5313\u001b[K\n",
            "Receiving objects: 100% (5443/5443), 1.09 GiB | 12.77 MiB/s, done.\n",
            "Resolving deltas: 100% (351/351), done.\n",
            "Checking out files: 100% (1048/1048), done.\n"
          ],
          "name": "stdout"
        }
      ]
    },
    {
      "cell_type": "markdown",
      "metadata": {
        "id": "imIfz2hq7s0m",
        "colab_type": "text"
      },
      "source": [
        "### Extract data in one format"
      ]
    },
    {
      "cell_type": "code",
      "metadata": {
        "id": "6WuO45h57deK",
        "colab_type": "code",
        "colab": {}
      },
      "source": [
        "%%capture\n",
        "!unzip /content/COVID-CT/Images-processed/CT_COVID.zip\n",
        "!unzip /content/COVID-CT/Images-processed/CT_NonCOVID.zip"
      ],
      "execution_count": 0,
      "outputs": []
    },
    {
      "cell_type": "code",
      "metadata": {
        "id": "eJUYRmVS8kJR",
        "colab_type": "code",
        "colab": {}
      },
      "source": [
        "!mkdir images\n",
        "!cp -r /content/CT_COVID/* images\n",
        "!cp -r /content/CT_NonCOVID/* images\n"
      ],
      "execution_count": 0,
      "outputs": []
    },
    {
      "cell_type": "markdown",
      "metadata": {
        "id": "R959Xz4V9GuP",
        "colab_type": "text"
      },
      "source": [
        "###read meta files"
      ]
    },
    {
      "cell_type": "code",
      "metadata": {
        "id": "ZSd1vcC-9Smh",
        "colab_type": "code",
        "colab": {}
      },
      "source": [
        "import pandas as pd\n",
        "import os"
      ],
      "execution_count": 0,
      "outputs": []
    },
    {
      "cell_type": "code",
      "metadata": {
        "id": "Li1uZhmr9Jk2",
        "colab_type": "code",
        "outputId": "bafa4e76-5ee7-4838-c30a-7eeec29f8afa",
        "colab": {
          "base_uri": "https://localhost:8080/",
          "height": 196
        }
      },
      "source": [
        "covid=os.listdir('/content/CT_COVID')\n",
        "cov=list(zip(covid,['covid']*(len(covid))))\n",
        "covid_df = pd.DataFrame(cov,columns=['file','label']) \n",
        "covid_df.head()"
      ],
      "execution_count": 6,
      "outputs": [
        {
          "output_type": "execute_result",
          "data": {
            "text/html": [
              "<div>\n",
              "<style scoped>\n",
              "    .dataframe tbody tr th:only-of-type {\n",
              "        vertical-align: middle;\n",
              "    }\n",
              "\n",
              "    .dataframe tbody tr th {\n",
              "        vertical-align: top;\n",
              "    }\n",
              "\n",
              "    .dataframe thead th {\n",
              "        text-align: right;\n",
              "    }\n",
              "</style>\n",
              "<table border=\"1\" class=\"dataframe\">\n",
              "  <thead>\n",
              "    <tr style=\"text-align: right;\">\n",
              "      <th></th>\n",
              "      <th>file</th>\n",
              "      <th>label</th>\n",
              "    </tr>\n",
              "  </thead>\n",
              "  <tbody>\n",
              "    <tr>\n",
              "      <th>0</th>\n",
              "      <td>PIIS0140673620303603%3.png</td>\n",
              "      <td>covid</td>\n",
              "    </tr>\n",
              "    <tr>\n",
              "      <th>1</th>\n",
              "      <td>2020.03.30.20047985-p9-56%1.png</td>\n",
              "      <td>covid</td>\n",
              "    </tr>\n",
              "    <tr>\n",
              "      <th>2</th>\n",
              "      <td>PIIS0140673620302117_2.png</td>\n",
              "      <td>covid</td>\n",
              "    </tr>\n",
              "    <tr>\n",
              "      <th>3</th>\n",
              "      <td>2020.03.22.20040782-p25-1542.png</td>\n",
              "      <td>covid</td>\n",
              "    </tr>\n",
              "    <tr>\n",
              "      <th>4</th>\n",
              "      <td>bmj.m606.full-p4-22%1.png</td>\n",
              "      <td>covid</td>\n",
              "    </tr>\n",
              "  </tbody>\n",
              "</table>\n",
              "</div>"
            ],
            "text/plain": [
              "                               file  label\n",
              "0        PIIS0140673620303603%3.png  covid\n",
              "1   2020.03.30.20047985-p9-56%1.png  covid\n",
              "2        PIIS0140673620302117_2.png  covid\n",
              "3  2020.03.22.20040782-p25-1542.png  covid\n",
              "4         bmj.m606.full-p4-22%1.png  covid"
            ]
          },
          "metadata": {
            "tags": []
          },
          "execution_count": 6
        }
      ]
    },
    {
      "cell_type": "code",
      "metadata": {
        "id": "PUrppSTx7Z3f",
        "colab_type": "code",
        "outputId": "1091091a-f70d-4a53-91be-1d8942652422",
        "colab": {
          "base_uri": "https://localhost:8080/",
          "height": 196
        }
      },
      "source": [
        "noncovid=os.listdir('/content/CT_NonCOVID')\n",
        "noncov=list(zip(noncovid,['noncovid']*(len(noncovid))))\n",
        "noncovid_df = pd.DataFrame(noncov,columns=['file','label']) \n",
        "noncovid_df.head()"
      ],
      "execution_count": 7,
      "outputs": [
        {
          "output_type": "execute_result",
          "data": {
            "text/html": [
              "<div>\n",
              "<style scoped>\n",
              "    .dataframe tbody tr th:only-of-type {\n",
              "        vertical-align: middle;\n",
              "    }\n",
              "\n",
              "    .dataframe tbody tr th {\n",
              "        vertical-align: top;\n",
              "    }\n",
              "\n",
              "    .dataframe thead th {\n",
              "        text-align: right;\n",
              "    }\n",
              "</style>\n",
              "<table border=\"1\" class=\"dataframe\">\n",
              "  <thead>\n",
              "    <tr style=\"text-align: right;\">\n",
              "      <th></th>\n",
              "      <th>file</th>\n",
              "      <th>label</th>\n",
              "    </tr>\n",
              "  </thead>\n",
              "  <tbody>\n",
              "    <tr>\n",
              "      <th>0</th>\n",
              "      <td>81%2.jpg</td>\n",
              "      <td>noncovid</td>\n",
              "    </tr>\n",
              "    <tr>\n",
              "      <th>1</th>\n",
              "      <td>583.png</td>\n",
              "      <td>noncovid</td>\n",
              "    </tr>\n",
              "    <tr>\n",
              "      <th>2</th>\n",
              "      <td>5%7.jpg</td>\n",
              "      <td>noncovid</td>\n",
              "    </tr>\n",
              "    <tr>\n",
              "      <th>3</th>\n",
              "      <td>1212.png</td>\n",
              "      <td>noncovid</td>\n",
              "    </tr>\n",
              "    <tr>\n",
              "      <th>4</th>\n",
              "      <td>46.jpg</td>\n",
              "      <td>noncovid</td>\n",
              "    </tr>\n",
              "  </tbody>\n",
              "</table>\n",
              "</div>"
            ],
            "text/plain": [
              "       file     label\n",
              "0  81%2.jpg  noncovid\n",
              "1   583.png  noncovid\n",
              "2   5%7.jpg  noncovid\n",
              "3  1212.png  noncovid\n",
              "4    46.jpg  noncovid"
            ]
          },
          "metadata": {
            "tags": []
          },
          "execution_count": 7
        }
      ]
    },
    {
      "cell_type": "code",
      "metadata": {
        "id": "Tryb2TOv99r4",
        "colab_type": "code",
        "outputId": "3f0a453c-b3ab-482d-ed5d-dc26a16c21af",
        "colab": {
          "base_uri": "https://localhost:8080/",
          "height": 196
        }
      },
      "source": [
        "dataframe=pd.concat([covid_df,noncovid_df])\n",
        "dataframe.head()"
      ],
      "execution_count": 8,
      "outputs": [
        {
          "output_type": "execute_result",
          "data": {
            "text/html": [
              "<div>\n",
              "<style scoped>\n",
              "    .dataframe tbody tr th:only-of-type {\n",
              "        vertical-align: middle;\n",
              "    }\n",
              "\n",
              "    .dataframe tbody tr th {\n",
              "        vertical-align: top;\n",
              "    }\n",
              "\n",
              "    .dataframe thead th {\n",
              "        text-align: right;\n",
              "    }\n",
              "</style>\n",
              "<table border=\"1\" class=\"dataframe\">\n",
              "  <thead>\n",
              "    <tr style=\"text-align: right;\">\n",
              "      <th></th>\n",
              "      <th>file</th>\n",
              "      <th>label</th>\n",
              "    </tr>\n",
              "  </thead>\n",
              "  <tbody>\n",
              "    <tr>\n",
              "      <th>0</th>\n",
              "      <td>PIIS0140673620303603%3.png</td>\n",
              "      <td>covid</td>\n",
              "    </tr>\n",
              "    <tr>\n",
              "      <th>1</th>\n",
              "      <td>2020.03.30.20047985-p9-56%1.png</td>\n",
              "      <td>covid</td>\n",
              "    </tr>\n",
              "    <tr>\n",
              "      <th>2</th>\n",
              "      <td>PIIS0140673620302117_2.png</td>\n",
              "      <td>covid</td>\n",
              "    </tr>\n",
              "    <tr>\n",
              "      <th>3</th>\n",
              "      <td>2020.03.22.20040782-p25-1542.png</td>\n",
              "      <td>covid</td>\n",
              "    </tr>\n",
              "    <tr>\n",
              "      <th>4</th>\n",
              "      <td>bmj.m606.full-p4-22%1.png</td>\n",
              "      <td>covid</td>\n",
              "    </tr>\n",
              "  </tbody>\n",
              "</table>\n",
              "</div>"
            ],
            "text/plain": [
              "                               file  label\n",
              "0        PIIS0140673620303603%3.png  covid\n",
              "1   2020.03.30.20047985-p9-56%1.png  covid\n",
              "2        PIIS0140673620302117_2.png  covid\n",
              "3  2020.03.22.20040782-p25-1542.png  covid\n",
              "4         bmj.m606.full-p4-22%1.png  covid"
            ]
          },
          "metadata": {
            "tags": []
          },
          "execution_count": 8
        }
      ]
    },
    {
      "cell_type": "code",
      "metadata": {
        "id": "L9YLBD4e-Gnd",
        "colab_type": "code",
        "outputId": "799e697a-f796-42ec-d17e-a93e5d3d1566",
        "colab": {
          "base_uri": "https://localhost:8080/",
          "height": 196
        }
      },
      "source": [
        "df = pd.get_dummies(dataframe['label'])\n",
        "df = pd.concat([dataframe, df], axis=1)\n",
        "df=df.sample(frac=1)\n",
        "df.head()\n"
      ],
      "execution_count": 9,
      "outputs": [
        {
          "output_type": "execute_result",
          "data": {
            "text/html": [
              "<div>\n",
              "<style scoped>\n",
              "    .dataframe tbody tr th:only-of-type {\n",
              "        vertical-align: middle;\n",
              "    }\n",
              "\n",
              "    .dataframe tbody tr th {\n",
              "        vertical-align: top;\n",
              "    }\n",
              "\n",
              "    .dataframe thead th {\n",
              "        text-align: right;\n",
              "    }\n",
              "</style>\n",
              "<table border=\"1\" class=\"dataframe\">\n",
              "  <thead>\n",
              "    <tr style=\"text-align: right;\">\n",
              "      <th></th>\n",
              "      <th>file</th>\n",
              "      <th>label</th>\n",
              "      <th>covid</th>\n",
              "      <th>noncovid</th>\n",
              "    </tr>\n",
              "  </thead>\n",
              "  <tbody>\n",
              "    <tr>\n",
              "      <th>60</th>\n",
              "      <td>2020.02.10.20021584-p6-52%6.png</td>\n",
              "      <td>covid</td>\n",
              "      <td>1</td>\n",
              "      <td>0</td>\n",
              "    </tr>\n",
              "    <tr>\n",
              "      <th>227</th>\n",
              "      <td>2020.02.17.20024018-p17-61%2.png</td>\n",
              "      <td>covid</td>\n",
              "      <td>1</td>\n",
              "      <td>0</td>\n",
              "    </tr>\n",
              "    <tr>\n",
              "      <th>327</th>\n",
              "      <td>2020.03.07.20031393-p7-50%2.png</td>\n",
              "      <td>covid</td>\n",
              "      <td>1</td>\n",
              "      <td>0</td>\n",
              "    </tr>\n",
              "    <tr>\n",
              "      <th>78</th>\n",
              "      <td>1920.png</td>\n",
              "      <td>noncovid</td>\n",
              "      <td>0</td>\n",
              "      <td>1</td>\n",
              "    </tr>\n",
              "    <tr>\n",
              "      <th>210</th>\n",
              "      <td>1123.png</td>\n",
              "      <td>noncovid</td>\n",
              "      <td>0</td>\n",
              "      <td>1</td>\n",
              "    </tr>\n",
              "  </tbody>\n",
              "</table>\n",
              "</div>"
            ],
            "text/plain": [
              "                                 file     label  covid  noncovid\n",
              "60    2020.02.10.20021584-p6-52%6.png     covid      1         0\n",
              "227  2020.02.17.20024018-p17-61%2.png     covid      1         0\n",
              "327   2020.03.07.20031393-p7-50%2.png     covid      1         0\n",
              "78                           1920.png  noncovid      0         1\n",
              "210                          1123.png  noncovid      0         1"
            ]
          },
          "metadata": {
            "tags": []
          },
          "execution_count": 9
        }
      ]
    },
    {
      "cell_type": "markdown",
      "metadata": {
        "id": "klH5y0SbVWKx",
        "colab_type": "text"
      },
      "source": [
        "#### TEST DATA"
      ]
    },
    {
      "cell_type": "code",
      "metadata": {
        "id": "sQtp3QAt-POe",
        "colab_type": "code",
        "outputId": "736a897d-81ba-4dc2-8331-af70e39bb300",
        "colab": {
          "base_uri": "https://localhost:8080/",
          "height": 33
        }
      },
      "source": [
        "covid_test=pd.read_csv('/content/COVID-CT/Data-split/COVID/testCT_COVID.txt',header=None,squeeze=True).tolist()\n",
        "noncovid_test=pd.read_csv('/content/COVID-CT/Data-split/NonCOVID/testCT_NonCOVID.txt',header=None,squeeze=True).tolist()\n",
        "test=covid_test+noncovid_test\n",
        "len(test)"
      ],
      "execution_count": 10,
      "outputs": [
        {
          "output_type": "execute_result",
          "data": {
            "text/plain": [
              "203"
            ]
          },
          "metadata": {
            "tags": []
          },
          "execution_count": 10
        }
      ]
    },
    {
      "cell_type": "code",
      "metadata": {
        "id": "M3vJ-sCcaeQm",
        "colab_type": "code",
        "outputId": "66b0ed80-0aec-41d2-f300-106dc976f596",
        "colab": {
          "base_uri": "https://localhost:8080/",
          "height": 33
        }
      },
      "source": [
        "len(test),len(covid_test),len(noncovid_test)"
      ],
      "execution_count": 11,
      "outputs": [
        {
          "output_type": "execute_result",
          "data": {
            "text/plain": [
              "(203, 98, 105)"
            ]
          },
          "metadata": {
            "tags": []
          },
          "execution_count": 11
        }
      ]
    },
    {
      "cell_type": "code",
      "metadata": {
        "id": "JRUWC9sKV5G8",
        "colab_type": "code",
        "colab": {}
      },
      "source": [
        "test_df=df[df['file'].isin(test)]\n",
        "train_df=df[~df['file'].isin(test)]"
      ],
      "execution_count": 0,
      "outputs": []
    },
    {
      "cell_type": "code",
      "metadata": {
        "id": "KUuvqVvSaA-S",
        "colab_type": "code",
        "outputId": "ea8efa68-783d-44ac-d32d-79dce3d9c0bd",
        "colab": {
          "base_uri": "https://localhost:8080/",
          "height": 33
        }
      },
      "source": [
        "len(df),len(train_df),len(test_df)"
      ],
      "execution_count": 13,
      "outputs": [
        {
          "output_type": "execute_result",
          "data": {
            "text/plain": [
              "(746, 543, 203)"
            ]
          },
          "metadata": {
            "tags": []
          },
          "execution_count": 13
        }
      ]
    },
    {
      "cell_type": "markdown",
      "metadata": {
        "id": "oOXgCH8l-bqZ",
        "colab_type": "text"
      },
      "source": [
        "### Data generator"
      ]
    },
    {
      "cell_type": "code",
      "metadata": {
        "id": "CzTlWxDb-c9N",
        "colab_type": "code",
        "colab": {}
      },
      "source": [
        "from keras_preprocessing.image import ImageDataGenerator\n",
        "data_gen= ImageDataGenerator(\n",
        "    horizontal_flip=True,\n",
        "    vertical_flip=True,\n",
        "    rotation_range=360,\n",
        "    width_shift_range=0.2,\n",
        "    height_shift_range=0.2,\n",
        "    zoom_range=.2,\n",
        "    rescale=1/255,\n",
        "    fill_mode='nearest',\n",
        "    shear_range=0.2,\n",
        "    brightness_range=[0.2, 2.0],\n",
        "    )"
      ],
      "execution_count": 0,
      "outputs": []
    },
    {
      "cell_type": "code",
      "metadata": {
        "id": "gZ8ZMeKI-gQu",
        "colab_type": "code",
        "colab": {}
      },
      "source": [
        "from tensorflow.keras.models import Sequential,Model\n",
        "from tensorflow.keras.layers import Activation, Dropout, Flatten, Dense, Conv2D, MaxPool2D, BatchNormalization,Input,MaxPooling2D,GlobalMaxPooling2D,concatenate\n",
        "from tensorflow.keras.layers import GlobalAveragePooling2D\n",
        "from tensorflow.keras.applications.resnet50 import ResNet50\n",
        "from tensorflow.keras.callbacks import ModelCheckpoint,ReduceLROnPlateau\n",
        "from tensorflow.keras.optimizers import Adam\n",
        "import tensorflow.keras.backend as K\n",
        "import tensorflow as tf"
      ],
      "execution_count": 0,
      "outputs": []
    },
    {
      "cell_type": "markdown",
      "metadata": {
        "id": "rdSPz3Ru-VgF",
        "colab_type": "text"
      },
      "source": [
        "#Train model"
      ]
    },
    {
      "cell_type": "code",
      "metadata": {
        "id": "BfiKa4qr-rjv",
        "colab_type": "code",
        "colab": {}
      },
      "source": [
        "img_shape=300\n",
        "batch_size=16"
      ],
      "execution_count": 0,
      "outputs": []
    },
    {
      "cell_type": "code",
      "metadata": {
        "id": "d_omSkY2-W0d",
        "colab_type": "code",
        "outputId": "63f6d8fb-a41c-45c4-d588-91bcdf2692ab",
        "colab": {
          "base_uri": "https://localhost:8080/",
          "height": 1000
        }
      },
      "source": [
        "from sklearn.model_selection import KFold\n",
        "import gc\n",
        "\n",
        "from sklearn.metrics import classification_report,accuracy_score,f1_score,roc_auc_score\n",
        "classification_reports=[]\n",
        "kf = KFold(n_splits=5)\n",
        "history=[]\n",
        "accuracy=[]\n",
        "f1_scores=[]\n",
        "auc=[]\n",
        "y_pred=[]\n",
        "fold=0\n",
        "for train_index, test_index in kf.split(train_df):\n",
        "  train=train_df.iloc[train_index,:]\n",
        "  val=train_df.iloc[test_index,:]\n",
        "  print('-----------fold {}--------------'.format(fold))\n",
        "  train_generator=data_gen.flow_from_dataframe(train,directory='images',\n",
        "                                                      target_size=(img_shape,img_shape),\n",
        "                                                      x_col=\"file\",\n",
        "                                                      y_col=['covid','noncovid'],\n",
        "                                                      class_mode='raw',\n",
        "                                                      shuffle=True,\n",
        "                                                      batch_size=batch_size)\n",
        "\n",
        "  val_generator=data_gen.flow_from_dataframe(val,directory='images',\n",
        "                                                        target_size=(img_shape,img_shape),\n",
        "                                                        x_col=\"file\",\n",
        "                                                        y_col=['covid','noncovid'],\n",
        "                                                        class_mode='raw',\n",
        "                                                        shuffle=False,\n",
        "                                                        batch_size=batch_size)\n",
        "  \n",
        "  test_generator=data_gen.flow_from_dataframe(test_df,directory='images',\n",
        "                                                      target_size=(img_shape,img_shape),\n",
        "                                                      x_col=\"file\",\n",
        "                                                      y_col=['covid','noncovid'],\n",
        "                                                      class_mode='raw',\n",
        "                                                      shuffle=False,\n",
        "                                                      batch_size=batch_size)\n",
        "  #train_generator.next()[0].shape,train_generator.next()[1].shape\n",
        "  import efficientnet.tfkeras as efn\n",
        "  model =efn.EfficientNetB3(weights ='noisy-student', include_top=False, input_shape = (img_shape,img_shape,3))\n",
        "    \n",
        "  x = model.output\n",
        "  x = GlobalAveragePooling2D()(x)\n",
        "  x = Dropout(0.3)(x)\n",
        "  x = Dense(128, activation=\"relu\")(x)\n",
        "  #x = Dropout(0.3)(x)\n",
        "  x = Dense(64, activation=\"relu\")(x)\n",
        "  predictions = Dense(2, activation=\"softmax\")(x)\n",
        "  model = Model(inputs=model.input, outputs=predictions)\n",
        "\n",
        "\n",
        "  model.compile(optimizer=Adam(0.001), loss='binary_crossentropy', metrics=['accuracy'])\n",
        "\n",
        "  results = model.fit(train_generator,epochs=25,\n",
        "                              steps_per_epoch=train_generator.n/batch_size,\n",
        "                              validation_data=val_generator,\n",
        "                             validation_steps=val_generator.n/batch_size,\n",
        "                              callbacks=[ReduceLROnPlateau(monitor='val_loss', factor=0.5,patience=3, min_lr=0.000001),\n",
        "                                         #ModelCheckpoint('model_{}.hdf5'.format(fold), save_best_only=True, monitor='val_loss', mode='min')\n",
        "                                         ])\n",
        "  #model.load_weights('model_{}.hdf5'.format(fold))\n",
        "  test_generator.reset()\n",
        "  y_pred.append(model.predict(test_generator,steps=test_generator.n/batch_size,verbose=1))\n",
        "\n",
        "\n",
        "  \n",
        "  fold+=1\n",
        "  del model\n",
        "  tf.keras.backend.clear_session()\n",
        "  gc.collect()"
      ],
      "execution_count": 31,
      "outputs": [
        {
          "output_type": "stream",
          "text": [
            "-----------fold 0--------------\n",
            "Found 434 validated image filenames.\n",
            "Found 109 validated image filenames.\n",
            "Found 203 validated image filenames.\n",
            "Epoch 1/25\n",
            "28/27 [==============================] - 22s 771ms/step - loss: 0.6523 - accuracy: 0.6406 - val_loss: 1.0597 - val_accuracy: 0.5321 - lr: 0.0010\n",
            "Epoch 2/25\n",
            "28/27 [==============================] - 20s 711ms/step - loss: 0.6356 - accuracy: 0.6728 - val_loss: 0.6880 - val_accuracy: 0.5413 - lr: 0.0010\n",
            "Epoch 3/25\n",
            "28/27 [==============================] - 20s 705ms/step - loss: 0.5061 - accuracy: 0.7765 - val_loss: 0.8140 - val_accuracy: 0.6422 - lr: 0.0010\n",
            "Epoch 4/25\n",
            "28/27 [==============================] - 19s 696ms/step - loss: 0.4970 - accuracy: 0.7558 - val_loss: 0.7405 - val_accuracy: 0.4771 - lr: 0.0010\n",
            "Epoch 5/25\n",
            "28/27 [==============================] - 20s 698ms/step - loss: 0.5596 - accuracy: 0.7465 - val_loss: 0.6836 - val_accuracy: 0.5963 - lr: 0.0010\n",
            "Epoch 6/25\n",
            "28/27 [==============================] - 20s 697ms/step - loss: 0.5550 - accuracy: 0.7212 - val_loss: 0.5651 - val_accuracy: 0.7339 - lr: 0.0010\n",
            "Epoch 7/25\n",
            "28/27 [==============================] - 19s 692ms/step - loss: 0.4876 - accuracy: 0.7442 - val_loss: 0.5314 - val_accuracy: 0.8073 - lr: 0.0010\n",
            "Epoch 8/25\n",
            "28/27 [==============================] - 19s 694ms/step - loss: 0.4514 - accuracy: 0.8134 - val_loss: 0.5518 - val_accuracy: 0.7431 - lr: 0.0010\n",
            "Epoch 9/25\n",
            "28/27 [==============================] - 20s 698ms/step - loss: 0.4870 - accuracy: 0.7926 - val_loss: 0.3953 - val_accuracy: 0.8165 - lr: 0.0010\n",
            "Epoch 10/25\n",
            "28/27 [==============================] - 19s 690ms/step - loss: 0.3822 - accuracy: 0.8249 - val_loss: 0.6268 - val_accuracy: 0.7339 - lr: 0.0010\n",
            "Epoch 11/25\n",
            "28/27 [==============================] - 19s 691ms/step - loss: 0.3718 - accuracy: 0.8341 - val_loss: 0.5325 - val_accuracy: 0.6881 - lr: 0.0010\n",
            "Epoch 12/25\n",
            "28/27 [==============================] - 19s 684ms/step - loss: 0.5106 - accuracy: 0.7673 - val_loss: 0.6791 - val_accuracy: 0.6330 - lr: 0.0010\n",
            "Epoch 13/25\n",
            "28/27 [==============================] - 19s 688ms/step - loss: 0.3898 - accuracy: 0.8226 - val_loss: 0.3778 - val_accuracy: 0.8257 - lr: 5.0000e-04\n",
            "Epoch 14/25\n",
            "28/27 [==============================] - 19s 688ms/step - loss: 0.3179 - accuracy: 0.8594 - val_loss: 0.5193 - val_accuracy: 0.7798 - lr: 5.0000e-04\n",
            "Epoch 15/25\n",
            "28/27 [==============================] - 19s 691ms/step - loss: 0.3418 - accuracy: 0.8594 - val_loss: 0.7656 - val_accuracy: 0.7248 - lr: 5.0000e-04\n",
            "Epoch 16/25\n",
            "28/27 [==============================] - 19s 693ms/step - loss: 0.2894 - accuracy: 0.8756 - val_loss: 0.6120 - val_accuracy: 0.7798 - lr: 5.0000e-04\n",
            "Epoch 17/25\n",
            "28/27 [==============================] - 19s 690ms/step - loss: 0.3499 - accuracy: 0.8687 - val_loss: 0.2412 - val_accuracy: 0.8807 - lr: 2.5000e-04\n",
            "Epoch 18/25\n",
            "28/27 [==============================] - 19s 691ms/step - loss: 0.2567 - accuracy: 0.8986 - val_loss: 0.3449 - val_accuracy: 0.8165 - lr: 2.5000e-04\n",
            "Epoch 19/25\n",
            "28/27 [==============================] - 19s 689ms/step - loss: 0.2151 - accuracy: 0.9078 - val_loss: 0.3009 - val_accuracy: 0.8899 - lr: 2.5000e-04\n",
            "Epoch 20/25\n",
            "28/27 [==============================] - 19s 695ms/step - loss: 0.2622 - accuracy: 0.8986 - val_loss: 0.3300 - val_accuracy: 0.8440 - lr: 2.5000e-04\n",
            "Epoch 21/25\n",
            "28/27 [==============================] - 19s 688ms/step - loss: 0.2651 - accuracy: 0.9124 - val_loss: 0.2869 - val_accuracy: 0.8991 - lr: 1.2500e-04\n",
            "Epoch 22/25\n",
            "28/27 [==============================] - 20s 697ms/step - loss: 0.2542 - accuracy: 0.9171 - val_loss: 0.2342 - val_accuracy: 0.9266 - lr: 1.2500e-04\n",
            "Epoch 23/25\n",
            "28/27 [==============================] - 19s 687ms/step - loss: 0.1897 - accuracy: 0.9217 - val_loss: 0.3305 - val_accuracy: 0.8899 - lr: 1.2500e-04\n",
            "Epoch 24/25\n",
            "28/27 [==============================] - 19s 690ms/step - loss: 0.2167 - accuracy: 0.9194 - val_loss: 0.3233 - val_accuracy: 0.8899 - lr: 1.2500e-04\n",
            "Epoch 25/25\n",
            "28/27 [==============================] - 19s 687ms/step - loss: 0.1819 - accuracy: 0.9309 - val_loss: 0.3010 - val_accuracy: 0.8899 - lr: 1.2500e-04\n",
            "13/12 [==============================] - 5s 377ms/step\n",
            "-----------fold 1--------------\n",
            "Found 434 validated image filenames.\n",
            "Found 109 validated image filenames.\n",
            "Found 203 validated image filenames.\n",
            "Epoch 1/25\n",
            "28/27 [==============================] - 21s 763ms/step - loss: 0.6381 - accuracy: 0.6567 - val_loss: 0.9766 - val_accuracy: 0.4679 - lr: 0.0010\n",
            "Epoch 2/25\n",
            "28/27 [==============================] - 20s 705ms/step - loss: 0.5524 - accuracy: 0.7327 - val_loss: 2.3577 - val_accuracy: 0.4679 - lr: 0.0010\n",
            "Epoch 3/25\n",
            "28/27 [==============================] - 20s 703ms/step - loss: 0.5402 - accuracy: 0.7650 - val_loss: 1.0069 - val_accuracy: 0.4679 - lr: 0.0010\n",
            "Epoch 4/25\n",
            "28/27 [==============================] - 20s 711ms/step - loss: 0.5054 - accuracy: 0.7627 - val_loss: 1.5039 - val_accuracy: 0.5321 - lr: 0.0010\n",
            "Epoch 5/25\n",
            "28/27 [==============================] - 20s 705ms/step - loss: 0.4911 - accuracy: 0.7535 - val_loss: 0.8998 - val_accuracy: 0.6789 - lr: 5.0000e-04\n",
            "Epoch 6/25\n",
            "28/27 [==============================] - 20s 712ms/step - loss: 0.4221 - accuracy: 0.8018 - val_loss: 0.7222 - val_accuracy: 0.7431 - lr: 5.0000e-04\n",
            "Epoch 7/25\n",
            "28/27 [==============================] - 20s 707ms/step - loss: 0.3925 - accuracy: 0.8157 - val_loss: 1.2520 - val_accuracy: 0.6606 - lr: 5.0000e-04\n",
            "Epoch 8/25\n",
            "28/27 [==============================] - 19s 693ms/step - loss: 0.3923 - accuracy: 0.8226 - val_loss: 0.7241 - val_accuracy: 0.5872 - lr: 5.0000e-04\n",
            "Epoch 9/25\n",
            "28/27 [==============================] - 19s 689ms/step - loss: 0.3083 - accuracy: 0.8756 - val_loss: 0.8316 - val_accuracy: 0.7156 - lr: 5.0000e-04\n",
            "Epoch 10/25\n",
            "28/27 [==============================] - 20s 696ms/step - loss: 0.2617 - accuracy: 0.8802 - val_loss: 0.4190 - val_accuracy: 0.7982 - lr: 2.5000e-04\n",
            "Epoch 11/25\n",
            "28/27 [==============================] - 20s 703ms/step - loss: 0.3757 - accuracy: 0.8571 - val_loss: 0.4671 - val_accuracy: 0.7615 - lr: 2.5000e-04\n",
            "Epoch 12/25\n",
            "28/27 [==============================] - 19s 696ms/step - loss: 0.2733 - accuracy: 0.8894 - val_loss: 0.4626 - val_accuracy: 0.7890 - lr: 2.5000e-04\n",
            "Epoch 13/25\n",
            "28/27 [==============================] - 19s 696ms/step - loss: 0.2909 - accuracy: 0.8664 - val_loss: 0.4736 - val_accuracy: 0.7615 - lr: 2.5000e-04\n",
            "Epoch 14/25\n",
            "28/27 [==============================] - 19s 693ms/step - loss: 0.2825 - accuracy: 0.8802 - val_loss: 0.5913 - val_accuracy: 0.7248 - lr: 1.2500e-04\n",
            "Epoch 15/25\n",
            "28/27 [==============================] - 20s 702ms/step - loss: 0.2367 - accuracy: 0.9009 - val_loss: 0.4791 - val_accuracy: 0.7798 - lr: 1.2500e-04\n",
            "Epoch 16/25\n",
            "28/27 [==============================] - 20s 699ms/step - loss: 0.3067 - accuracy: 0.8894 - val_loss: 0.4644 - val_accuracy: 0.7798 - lr: 1.2500e-04\n",
            "Epoch 17/25\n",
            "28/27 [==============================] - 20s 700ms/step - loss: 0.2098 - accuracy: 0.9147 - val_loss: 0.4289 - val_accuracy: 0.8165 - lr: 6.2500e-05\n",
            "Epoch 18/25\n",
            "28/27 [==============================] - 19s 696ms/step - loss: 0.2295 - accuracy: 0.9101 - val_loss: 0.4193 - val_accuracy: 0.8349 - lr: 6.2500e-05\n",
            "Epoch 19/25\n",
            "28/27 [==============================] - 20s 709ms/step - loss: 0.2188 - accuracy: 0.9124 - val_loss: 0.4330 - val_accuracy: 0.8440 - lr: 6.2500e-05\n",
            "Epoch 20/25\n",
            "28/27 [==============================] - 20s 704ms/step - loss: 0.1804 - accuracy: 0.9147 - val_loss: 0.4834 - val_accuracy: 0.8073 - lr: 3.1250e-05\n",
            "Epoch 21/25\n",
            "28/27 [==============================] - 20s 707ms/step - loss: 0.2109 - accuracy: 0.9194 - val_loss: 0.3790 - val_accuracy: 0.8716 - lr: 3.1250e-05\n",
            "Epoch 22/25\n",
            "28/27 [==============================] - 20s 697ms/step - loss: 0.1812 - accuracy: 0.9263 - val_loss: 0.3620 - val_accuracy: 0.8624 - lr: 3.1250e-05\n",
            "Epoch 23/25\n",
            "28/27 [==============================] - 20s 706ms/step - loss: 0.1907 - accuracy: 0.9240 - val_loss: 0.3634 - val_accuracy: 0.8899 - lr: 3.1250e-05\n",
            "Epoch 24/25\n",
            "28/27 [==============================] - 20s 711ms/step - loss: 0.1882 - accuracy: 0.9147 - val_loss: 0.3995 - val_accuracy: 0.8257 - lr: 3.1250e-05\n",
            "Epoch 25/25\n",
            "28/27 [==============================] - 20s 698ms/step - loss: 0.1408 - accuracy: 0.9539 - val_loss: 0.3659 - val_accuracy: 0.8349 - lr: 3.1250e-05\n",
            "13/12 [==============================] - 5s 378ms/step\n",
            "-----------fold 2--------------\n",
            "Found 434 validated image filenames.\n",
            "Found 109 validated image filenames.\n",
            "Found 203 validated image filenames.\n",
            "Epoch 1/25\n",
            "28/27 [==============================] - 21s 764ms/step - loss: 0.6804 - accuracy: 0.5576 - val_loss: 0.5648 - val_accuracy: 0.7890 - lr: 0.0010\n",
            "Epoch 2/25\n",
            "28/27 [==============================] - 20s 701ms/step - loss: 0.5947 - accuracy: 0.6613 - val_loss: 0.6521 - val_accuracy: 0.6514 - lr: 0.0010\n",
            "Epoch 3/25\n",
            "28/27 [==============================] - 20s 708ms/step - loss: 0.5722 - accuracy: 0.7097 - val_loss: 2.1196 - val_accuracy: 0.5688 - lr: 0.0010\n",
            "Epoch 4/25\n",
            "28/27 [==============================] - 20s 700ms/step - loss: 0.5803 - accuracy: 0.7327 - val_loss: 0.6571 - val_accuracy: 0.6330 - lr: 0.0010\n",
            "Epoch 5/25\n",
            "28/27 [==============================] - 20s 710ms/step - loss: 0.5243 - accuracy: 0.7396 - val_loss: 0.7147 - val_accuracy: 0.6239 - lr: 5.0000e-04\n",
            "Epoch 6/25\n",
            "28/27 [==============================] - 20s 704ms/step - loss: 0.4615 - accuracy: 0.7765 - val_loss: 0.6788 - val_accuracy: 0.6697 - lr: 5.0000e-04\n",
            "Epoch 7/25\n",
            "28/27 [==============================] - 20s 698ms/step - loss: 0.4092 - accuracy: 0.8134 - val_loss: 1.1834 - val_accuracy: 0.6147 - lr: 5.0000e-04\n",
            "Epoch 8/25\n",
            "28/27 [==============================] - 20s 698ms/step - loss: 0.4345 - accuracy: 0.7834 - val_loss: 0.8324 - val_accuracy: 0.6055 - lr: 2.5000e-04\n",
            "Epoch 9/25\n",
            "28/27 [==============================] - 20s 704ms/step - loss: 0.4327 - accuracy: 0.8180 - val_loss: 0.8219 - val_accuracy: 0.6330 - lr: 2.5000e-04\n",
            "Epoch 10/25\n",
            "28/27 [==============================] - 20s 701ms/step - loss: 0.3258 - accuracy: 0.8571 - val_loss: 0.6783 - val_accuracy: 0.6606 - lr: 2.5000e-04\n",
            "Epoch 11/25\n",
            "28/27 [==============================] - 19s 691ms/step - loss: 0.3434 - accuracy: 0.8710 - val_loss: 0.5555 - val_accuracy: 0.7156 - lr: 1.2500e-04\n",
            "Epoch 12/25\n",
            "28/27 [==============================] - 20s 701ms/step - loss: 0.2748 - accuracy: 0.8871 - val_loss: 0.4563 - val_accuracy: 0.7798 - lr: 1.2500e-04\n",
            "Epoch 13/25\n",
            "28/27 [==============================] - 20s 702ms/step - loss: 0.3057 - accuracy: 0.8710 - val_loss: 0.4567 - val_accuracy: 0.8165 - lr: 1.2500e-04\n",
            "Epoch 14/25\n",
            "28/27 [==============================] - 19s 693ms/step - loss: 0.2835 - accuracy: 0.9124 - val_loss: 0.3661 - val_accuracy: 0.8257 - lr: 1.2500e-04\n",
            "Epoch 15/25\n",
            "28/27 [==============================] - 19s 695ms/step - loss: 0.2328 - accuracy: 0.9078 - val_loss: 0.3104 - val_accuracy: 0.8532 - lr: 1.2500e-04\n",
            "Epoch 16/25\n",
            "28/27 [==============================] - 19s 696ms/step - loss: 0.2733 - accuracy: 0.8779 - val_loss: 0.4102 - val_accuracy: 0.8349 - lr: 1.2500e-04\n",
            "Epoch 17/25\n",
            "28/27 [==============================] - 20s 699ms/step - loss: 0.2745 - accuracy: 0.9055 - val_loss: 0.3812 - val_accuracy: 0.8257 - lr: 1.2500e-04\n",
            "Epoch 18/25\n",
            "28/27 [==============================] - 20s 700ms/step - loss: 0.2462 - accuracy: 0.8940 - val_loss: 0.4036 - val_accuracy: 0.8165 - lr: 1.2500e-04\n",
            "Epoch 19/25\n",
            "28/27 [==============================] - 19s 693ms/step - loss: 0.2717 - accuracy: 0.8756 - val_loss: 0.4154 - val_accuracy: 0.8349 - lr: 6.2500e-05\n",
            "Epoch 20/25\n",
            "28/27 [==============================] - 20s 700ms/step - loss: 0.2501 - accuracy: 0.8917 - val_loss: 0.3777 - val_accuracy: 0.8716 - lr: 6.2500e-05\n",
            "Epoch 21/25\n",
            "28/27 [==============================] - 20s 700ms/step - loss: 0.2967 - accuracy: 0.8894 - val_loss: 0.3018 - val_accuracy: 0.8532 - lr: 6.2500e-05\n",
            "Epoch 22/25\n",
            "28/27 [==============================] - 19s 695ms/step - loss: 0.2546 - accuracy: 0.8940 - val_loss: 0.2983 - val_accuracy: 0.8716 - lr: 6.2500e-05\n",
            "Epoch 23/25\n",
            "28/27 [==============================] - 19s 696ms/step - loss: 0.2488 - accuracy: 0.9078 - val_loss: 0.3434 - val_accuracy: 0.8624 - lr: 6.2500e-05\n",
            "Epoch 24/25\n",
            "28/27 [==============================] - 20s 702ms/step - loss: 0.2136 - accuracy: 0.9147 - val_loss: 0.3071 - val_accuracy: 0.8716 - lr: 6.2500e-05\n",
            "Epoch 25/25\n",
            "28/27 [==============================] - 20s 704ms/step - loss: 0.2426 - accuracy: 0.9101 - val_loss: 0.3028 - val_accuracy: 0.8899 - lr: 6.2500e-05\n",
            "13/12 [==============================] - 5s 380ms/step\n",
            "-----------fold 3--------------\n",
            "Found 435 validated image filenames.\n",
            "Found 108 validated image filenames.\n",
            "Found 203 validated image filenames.\n",
            "Epoch 1/25\n",
            "28/27 [==============================] - 21s 751ms/step - loss: 0.6586 - accuracy: 0.6000 - val_loss: 0.6718 - val_accuracy: 0.5926 - lr: 0.0010\n",
            "Epoch 2/25\n",
            "28/27 [==============================] - 20s 701ms/step - loss: 0.5817 - accuracy: 0.6920 - val_loss: 0.6681 - val_accuracy: 0.6389 - lr: 0.0010\n",
            "Epoch 3/25\n",
            "28/27 [==============================] - 20s 703ms/step - loss: 0.5260 - accuracy: 0.7425 - val_loss: 1.0630 - val_accuracy: 0.6389 - lr: 0.0010\n",
            "Epoch 4/25\n",
            "28/27 [==============================] - 20s 699ms/step - loss: 0.5261 - accuracy: 0.7517 - val_loss: 0.6905 - val_accuracy: 0.6296 - lr: 0.0010\n",
            "Epoch 5/25\n",
            "28/27 [==============================] - 19s 689ms/step - loss: 0.4811 - accuracy: 0.7494 - val_loss: 1.3299 - val_accuracy: 0.6574 - lr: 0.0010\n",
            "Epoch 6/25\n",
            "28/27 [==============================] - 20s 697ms/step - loss: 0.4429 - accuracy: 0.8000 - val_loss: 1.1417 - val_accuracy: 0.6759 - lr: 5.0000e-04\n",
            "Epoch 7/25\n",
            "28/27 [==============================] - 19s 693ms/step - loss: 0.3590 - accuracy: 0.8506 - val_loss: 0.6485 - val_accuracy: 0.6204 - lr: 5.0000e-04\n",
            "Epoch 8/25\n",
            "28/27 [==============================] - 19s 689ms/step - loss: 0.3397 - accuracy: 0.8506 - val_loss: 0.5885 - val_accuracy: 0.7315 - lr: 5.0000e-04\n",
            "Epoch 9/25\n",
            "28/27 [==============================] - 19s 689ms/step - loss: 0.3105 - accuracy: 0.8667 - val_loss: 0.6755 - val_accuracy: 0.7037 - lr: 5.0000e-04\n",
            "Epoch 10/25\n",
            "28/27 [==============================] - 19s 689ms/step - loss: 0.3213 - accuracy: 0.8713 - val_loss: 0.7020 - val_accuracy: 0.7500 - lr: 5.0000e-04\n",
            "Epoch 11/25\n",
            "28/27 [==============================] - 19s 695ms/step - loss: 0.3724 - accuracy: 0.8460 - val_loss: 0.3985 - val_accuracy: 0.8056 - lr: 5.0000e-04\n",
            "Epoch 12/25\n",
            "28/27 [==============================] - 19s 691ms/step - loss: 0.3503 - accuracy: 0.8759 - val_loss: 0.5858 - val_accuracy: 0.7315 - lr: 5.0000e-04\n",
            "Epoch 13/25\n",
            "28/27 [==============================] - 19s 692ms/step - loss: 0.3013 - accuracy: 0.8943 - val_loss: 0.4729 - val_accuracy: 0.7778 - lr: 5.0000e-04\n",
            "Epoch 14/25\n",
            "28/27 [==============================] - 19s 687ms/step - loss: 0.3187 - accuracy: 0.8736 - val_loss: 0.4898 - val_accuracy: 0.7963 - lr: 5.0000e-04\n",
            "Epoch 15/25\n",
            "28/27 [==============================] - 19s 689ms/step - loss: 0.2871 - accuracy: 0.8897 - val_loss: 0.4645 - val_accuracy: 0.7778 - lr: 2.5000e-04\n",
            "Epoch 16/25\n",
            "28/27 [==============================] - 19s 688ms/step - loss: 0.2306 - accuracy: 0.9126 - val_loss: 0.4174 - val_accuracy: 0.7963 - lr: 2.5000e-04\n",
            "Epoch 17/25\n",
            "28/27 [==============================] - 19s 690ms/step - loss: 0.2287 - accuracy: 0.8989 - val_loss: 0.5618 - val_accuracy: 0.7593 - lr: 2.5000e-04\n",
            "Epoch 18/25\n",
            "28/27 [==============================] - 19s 688ms/step - loss: 0.1980 - accuracy: 0.9218 - val_loss: 0.2823 - val_accuracy: 0.8333 - lr: 1.2500e-04\n",
            "Epoch 19/25\n",
            "28/27 [==============================] - 19s 691ms/step - loss: 0.2341 - accuracy: 0.9103 - val_loss: 0.4064 - val_accuracy: 0.8056 - lr: 1.2500e-04\n",
            "Epoch 20/25\n",
            "28/27 [==============================] - 19s 688ms/step - loss: 0.2027 - accuracy: 0.9195 - val_loss: 0.2066 - val_accuracy: 0.9167 - lr: 1.2500e-04\n",
            "Epoch 21/25\n",
            "28/27 [==============================] - 19s 676ms/step - loss: 0.2396 - accuracy: 0.9287 - val_loss: 0.2930 - val_accuracy: 0.8889 - lr: 1.2500e-04\n",
            "Epoch 22/25\n",
            "28/27 [==============================] - 19s 687ms/step - loss: 0.1644 - accuracy: 0.9379 - val_loss: 0.3521 - val_accuracy: 0.8796 - lr: 1.2500e-04\n",
            "Epoch 23/25\n",
            "28/27 [==============================] - 19s 693ms/step - loss: 0.1556 - accuracy: 0.9356 - val_loss: 0.3266 - val_accuracy: 0.8796 - lr: 1.2500e-04\n",
            "Epoch 24/25\n",
            "28/27 [==============================] - 19s 691ms/step - loss: 0.1430 - accuracy: 0.9471 - val_loss: 0.2907 - val_accuracy: 0.8981 - lr: 6.2500e-05\n",
            "Epoch 25/25\n",
            "28/27 [==============================] - 19s 687ms/step - loss: 0.2065 - accuracy: 0.9287 - val_loss: 0.4263 - val_accuracy: 0.8241 - lr: 6.2500e-05\n",
            "13/12 [==============================] - 5s 367ms/step\n",
            "-----------fold 4--------------\n",
            "Found 435 validated image filenames.\n",
            "Found 108 validated image filenames.\n",
            "Found 203 validated image filenames.\n",
            "Epoch 1/25\n",
            "28/27 [==============================] - 21s 748ms/step - loss: 0.6226 - accuracy: 0.6667 - val_loss: 0.9188 - val_accuracy: 0.5370 - lr: 0.0010\n",
            "Epoch 2/25\n",
            "28/27 [==============================] - 20s 696ms/step - loss: 0.6178 - accuracy: 0.6897 - val_loss: 0.6385 - val_accuracy: 0.5556 - lr: 0.0010\n",
            "Epoch 3/25\n",
            "28/27 [==============================] - 19s 690ms/step - loss: 0.5351 - accuracy: 0.7287 - val_loss: 1.0147 - val_accuracy: 0.5926 - lr: 0.0010\n",
            "Epoch 4/25\n",
            "28/27 [==============================] - 19s 693ms/step - loss: 0.5348 - accuracy: 0.7425 - val_loss: 1.1922 - val_accuracy: 0.7870 - lr: 0.0010\n",
            "Epoch 5/25\n",
            "28/27 [==============================] - 19s 696ms/step - loss: 0.5073 - accuracy: 0.7471 - val_loss: 0.5797 - val_accuracy: 0.7037 - lr: 0.0010\n",
            "Epoch 6/25\n",
            "28/27 [==============================] - 19s 694ms/step - loss: 0.4536 - accuracy: 0.7862 - val_loss: 1.2673 - val_accuracy: 0.6111 - lr: 0.0010\n",
            "Epoch 7/25\n",
            "28/27 [==============================] - 19s 686ms/step - loss: 0.4654 - accuracy: 0.7931 - val_loss: 0.5914 - val_accuracy: 0.7130 - lr: 0.0010\n",
            "Epoch 8/25\n",
            "28/27 [==============================] - 20s 698ms/step - loss: 0.4737 - accuracy: 0.8161 - val_loss: 1.3659 - val_accuracy: 0.5741 - lr: 0.0010\n",
            "Epoch 9/25\n",
            "28/27 [==============================] - 19s 691ms/step - loss: 0.4600 - accuracy: 0.7908 - val_loss: 0.7763 - val_accuracy: 0.6944 - lr: 5.0000e-04\n",
            "Epoch 10/25\n",
            "28/27 [==============================] - 19s 686ms/step - loss: 0.3183 - accuracy: 0.8690 - val_loss: 0.8229 - val_accuracy: 0.7222 - lr: 5.0000e-04\n",
            "Epoch 11/25\n",
            "28/27 [==============================] - 19s 692ms/step - loss: 0.3052 - accuracy: 0.8667 - val_loss: 0.5929 - val_accuracy: 0.7685 - lr: 5.0000e-04\n",
            "Epoch 12/25\n",
            "28/27 [==============================] - 19s 690ms/step - loss: 0.3680 - accuracy: 0.8345 - val_loss: 0.3222 - val_accuracy: 0.8611 - lr: 2.5000e-04\n",
            "Epoch 13/25\n",
            "28/27 [==============================] - 20s 698ms/step - loss: 0.2944 - accuracy: 0.8782 - val_loss: 0.4709 - val_accuracy: 0.7593 - lr: 2.5000e-04\n",
            "Epoch 14/25\n",
            "28/27 [==============================] - 19s 688ms/step - loss: 0.3029 - accuracy: 0.8598 - val_loss: 0.5172 - val_accuracy: 0.8056 - lr: 2.5000e-04\n",
            "Epoch 15/25\n",
            "28/27 [==============================] - 19s 694ms/step - loss: 0.3001 - accuracy: 0.8552 - val_loss: 0.4739 - val_accuracy: 0.8056 - lr: 2.5000e-04\n",
            "Epoch 16/25\n",
            "28/27 [==============================] - 19s 696ms/step - loss: 0.2794 - accuracy: 0.8966 - val_loss: 0.6265 - val_accuracy: 0.7407 - lr: 1.2500e-04\n",
            "Epoch 17/25\n",
            "28/27 [==============================] - 20s 697ms/step - loss: 0.2604 - accuracy: 0.9080 - val_loss: 0.4021 - val_accuracy: 0.8426 - lr: 1.2500e-04\n",
            "Epoch 18/25\n",
            "28/27 [==============================] - 19s 691ms/step - loss: 0.2253 - accuracy: 0.9218 - val_loss: 0.3440 - val_accuracy: 0.8519 - lr: 1.2500e-04\n",
            "Epoch 19/25\n",
            "28/27 [==============================] - 19s 693ms/step - loss: 0.1975 - accuracy: 0.9149 - val_loss: 0.3982 - val_accuracy: 0.8241 - lr: 6.2500e-05\n",
            "Epoch 20/25\n",
            "28/27 [==============================] - 20s 700ms/step - loss: 0.1605 - accuracy: 0.9448 - val_loss: 0.3005 - val_accuracy: 0.8796 - lr: 6.2500e-05\n",
            "Epoch 21/25\n",
            "28/27 [==============================] - 19s 688ms/step - loss: 0.1663 - accuracy: 0.9264 - val_loss: 0.2575 - val_accuracy: 0.8704 - lr: 6.2500e-05\n",
            "Epoch 22/25\n",
            "28/27 [==============================] - 19s 689ms/step - loss: 0.1967 - accuracy: 0.9218 - val_loss: 0.2319 - val_accuracy: 0.8981 - lr: 6.2500e-05\n",
            "Epoch 23/25\n",
            "28/27 [==============================] - 19s 692ms/step - loss: 0.2780 - accuracy: 0.9011 - val_loss: 0.3760 - val_accuracy: 0.8704 - lr: 6.2500e-05\n",
            "Epoch 24/25\n",
            "28/27 [==============================] - 19s 693ms/step - loss: 0.2207 - accuracy: 0.9195 - val_loss: 0.3183 - val_accuracy: 0.8796 - lr: 6.2500e-05\n",
            "Epoch 25/25\n",
            "28/27 [==============================] - 19s 696ms/step - loss: 0.2151 - accuracy: 0.9310 - val_loss: 0.2787 - val_accuracy: 0.8611 - lr: 6.2500e-05\n",
            "13/12 [==============================] - 5s 368ms/step\n"
          ],
          "name": "stdout"
        }
      ]
    },
    {
      "cell_type": "code",
      "metadata": {
        "id": "BJobcAABrZK4",
        "colab_type": "code",
        "colab": {}
      },
      "source": [
        "y_mean=np.mean(y_pred,axis=0)"
      ],
      "execution_count": 0,
      "outputs": []
    },
    {
      "cell_type": "code",
      "metadata": {
        "id": "ecc-q4ledbtX",
        "colab_type": "code",
        "colab": {
          "base_uri": "https://localhost:8080/",
          "height": 201
        },
        "outputId": "628c1d7c-1922-470e-8e32-636dc28c554c"
      },
      "source": [
        "y_mean=y_mean.round().astype(int)\n",
        "y_true=test_df.iloc[:,2::]\n",
        "print(classification_report(y_true, y_mean,target_names=['covid','noncovid']))#\n",
        "accuracy.append(accuracy_score(y_true,y_mean))\n",
        "#auc.append(roc_auc_score(y_true,y_pred))\n",
        "f1=f1_score(y_true,y_mean,average='macro')\n",
        "print('f1 score is ', f1)\n",
        "f1_scores.append(f1)"
      ],
      "execution_count": 33,
      "outputs": [
        {
          "output_type": "stream",
          "text": [
            "              precision    recall  f1-score   support\n",
            "\n",
            "       covid       0.84      0.78      0.81        98\n",
            "    noncovid       0.81      0.87      0.83       105\n",
            "\n",
            "   micro avg       0.82      0.82      0.82       203\n",
            "   macro avg       0.82      0.82      0.82       203\n",
            "weighted avg       0.82      0.82      0.82       203\n",
            " samples avg       0.82      0.82      0.82       203\n",
            "\n",
            "f1 score is  0.8216865118094865\n"
          ],
          "name": "stdout"
        }
      ]
    },
    {
      "cell_type": "code",
      "metadata": {
        "id": "LXZyOVaD-oEZ",
        "colab_type": "code",
        "colab": {}
      },
      "source": [
        "accuracy\n"
      ],
      "execution_count": 0,
      "outputs": []
    },
    {
      "cell_type": "code",
      "metadata": {
        "id": "rZiL21WlO_K8",
        "colab_type": "code",
        "outputId": "42f5c62a-270e-438e-d7a6-85cabecbfdd4",
        "colab": {
          "base_uri": "https://localhost:8080/",
          "height": 100
        }
      },
      "source": [
        "import numpy as np\n",
        "print(np.mean(accuracy))"
      ],
      "execution_count": 20,
      "outputs": [
        {
          "output_type": "stream",
          "text": [
            "nan\n"
          ],
          "name": "stdout"
        },
        {
          "output_type": "stream",
          "text": [
            "/usr/local/lib/python3.6/dist-packages/numpy/core/fromnumeric.py:3335: RuntimeWarning: Mean of empty slice.\n",
            "  out=out, **kwargs)\n",
            "/usr/local/lib/python3.6/dist-packages/numpy/core/_methods.py:161: RuntimeWarning: invalid value encountered in double_scalars\n",
            "  ret = ret.dtype.type(ret / rcount)\n"
          ],
          "name": "stderr"
        }
      ]
    },
    {
      "cell_type": "code",
      "metadata": {
        "id": "6jZXDyHoPBWN",
        "colab_type": "code",
        "colab": {}
      },
      "source": [
        "f1_scores"
      ],
      "execution_count": 0,
      "outputs": []
    },
    {
      "cell_type": "code",
      "metadata": {
        "id": "w9haxiPUPE2b",
        "colab_type": "code",
        "colab": {}
      },
      "source": [
        "np.mean(f1_scores)"
      ],
      "execution_count": 0,
      "outputs": []
    },
    {
      "cell_type": "code",
      "metadata": {
        "id": "YIGWme4bPGJA",
        "colab_type": "code",
        "outputId": "da5edf31-07aa-4acf-fd9c-7ea8846b09b0",
        "colab": {
          "base_uri": "https://localhost:8080/",
          "height": 937
        }
      },
      "source": [
        " for i in range(5):\n",
        "  print('--------------FOLD {}------------------'.format(i))\n",
        "  print(classification_reports[i])"
      ],
      "execution_count": 28,
      "outputs": [
        {
          "output_type": "stream",
          "text": [
            "--------------FOLD 0------------------\n",
            "              precision    recall  f1-score   support\n",
            "\n",
            "       covid       0.64      0.89      0.75        98\n",
            "    noncovid       0.84      0.54      0.66       105\n",
            "\n",
            "   micro avg       0.71      0.71      0.71       203\n",
            "   macro avg       0.74      0.72      0.70       203\n",
            "weighted avg       0.74      0.71      0.70       203\n",
            " samples avg       0.71      0.71      0.71       203\n",
            "\n",
            "--------------FOLD 1------------------\n",
            "              precision    recall  f1-score   support\n",
            "\n",
            "       covid       0.81      0.83      0.82        98\n",
            "    noncovid       0.83      0.82      0.83       105\n",
            "\n",
            "   micro avg       0.82      0.82      0.82       203\n",
            "   macro avg       0.82      0.82      0.82       203\n",
            "weighted avg       0.82      0.82      0.82       203\n",
            " samples avg       0.82      0.82      0.82       203\n",
            "\n",
            "--------------FOLD 2------------------\n",
            "              precision    recall  f1-score   support\n",
            "\n",
            "       covid       0.78      0.70      0.74        98\n",
            "    noncovid       0.75      0.81      0.78       105\n",
            "\n",
            "   micro avg       0.76      0.76      0.76       203\n",
            "   macro avg       0.76      0.76      0.76       203\n",
            "weighted avg       0.76      0.76      0.76       203\n",
            " samples avg       0.76      0.76      0.76       203\n",
            "\n",
            "--------------FOLD 3------------------\n",
            "              precision    recall  f1-score   support\n",
            "\n",
            "       covid       0.85      0.74      0.79        98\n",
            "    noncovid       0.79      0.88      0.83       105\n",
            "\n",
            "   micro avg       0.81      0.81      0.81       203\n",
            "   macro avg       0.82      0.81      0.81       203\n",
            "weighted avg       0.82      0.81      0.81       203\n",
            " samples avg       0.81      0.81      0.81       203\n",
            "\n",
            "--------------FOLD 4------------------\n",
            "              precision    recall  f1-score   support\n",
            "\n",
            "       covid       0.77      0.77      0.77        98\n",
            "    noncovid       0.78      0.78      0.78       105\n",
            "\n",
            "   micro avg       0.77      0.77      0.77       203\n",
            "   macro avg       0.77      0.77      0.77       203\n",
            "weighted avg       0.77      0.77      0.77       203\n",
            " samples avg       0.77      0.77      0.77       203\n",
            "\n"
          ],
          "name": "stdout"
        }
      ]
    },
    {
      "cell_type": "code",
      "metadata": {
        "id": "nloJlTlUPJDZ",
        "colab_type": "code",
        "colab": {}
      },
      "source": [
        ""
      ],
      "execution_count": 0,
      "outputs": []
    }
  ]
}