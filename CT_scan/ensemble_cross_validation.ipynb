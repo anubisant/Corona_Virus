{
  "nbformat": 4,
  "nbformat_minor": 0,
  "metadata": {
    "colab": {
      "name": "ensemble_cross_validation.ipynb",
      "provenance": [],
      "collapsed_sections": [],
      "authorship_tag": "ABX9TyM7yyPgoY9dxFfoLlzD1uN+",
      "include_colab_link": true
    },
    "kernelspec": {
      "name": "python3",
      "display_name": "Python 3"
    },
    "accelerator": "GPU"
  },
  "cells": [
    {
      "cell_type": "markdown",
      "metadata": {
        "id": "view-in-github",
        "colab_type": "text"
      },
      "source": [
        "<a href=\"https://colab.research.google.com/github/talhaanwarch/Corona_Virus/blob/master/CT_scan/ensemble_cross_validation.ipynb\" target=\"_parent\"><img src=\"https://colab.research.google.com/assets/colab-badge.svg\" alt=\"Open In Colab\"/></a>"
      ]
    },
    {
      "cell_type": "code",
      "metadata": {
        "id": "ylMZAGXl7kKx",
        "colab_type": "code",
        "colab": {}
      },
      "source": [
        "%%capture\n",
        "!pip install efficientnet"
      ],
      "execution_count": 0,
      "outputs": []
    },
    {
      "cell_type": "markdown",
      "metadata": {
        "id": "4FDtv7g97nN8",
        "colab_type": "text"
      },
      "source": [
        "### CLone github repo, to dowlonad data"
      ]
    },
    {
      "cell_type": "code",
      "metadata": {
        "id": "yi2pSQus7JR4",
        "colab_type": "code",
        "outputId": "b50908ae-3671-4803-8e02-75af16851638",
        "colab": {
          "base_uri": "https://localhost:8080/",
          "height": 150
        }
      },
      "source": [
        "!git clone https://github.com/UCSD-AI4H/COVID-CT.git"
      ],
      "execution_count": 2,
      "outputs": [
        {
          "output_type": "stream",
          "text": [
            "Cloning into 'COVID-CT'...\n",
            "remote: Enumerating objects: 130, done.\u001b[K\n",
            "remote: Counting objects: 100% (130/130), done.\u001b[K\n",
            "remote: Compressing objects: 100% (128/128), done.\u001b[K\n",
            "remote: Total 5443 (delta 60), reused 9 (delta 2), pack-reused 5313\u001b[K\n",
            "Receiving objects: 100% (5443/5443), 1.09 GiB | 42.21 MiB/s, done.\n",
            "Resolving deltas: 100% (351/351), done.\n",
            "Checking out files: 100% (1048/1048), done.\n"
          ],
          "name": "stdout"
        }
      ]
    },
    {
      "cell_type": "markdown",
      "metadata": {
        "id": "imIfz2hq7s0m",
        "colab_type": "text"
      },
      "source": [
        "### Extract data in one format"
      ]
    },
    {
      "cell_type": "code",
      "metadata": {
        "id": "6WuO45h57deK",
        "colab_type": "code",
        "colab": {}
      },
      "source": [
        "%%capture\n",
        "!unzip /content/COVID-CT/Images-processed/CT_COVID.zip\n",
        "!unzip /content/COVID-CT/Images-processed/CT_NonCOVID.zip"
      ],
      "execution_count": 0,
      "outputs": []
    },
    {
      "cell_type": "code",
      "metadata": {
        "id": "eJUYRmVS8kJR",
        "colab_type": "code",
        "colab": {}
      },
      "source": [
        "!mkdir images\n",
        "!cp -r /content/CT_COVID/* images\n",
        "!cp -r /content/CT_NonCOVID/* images\n"
      ],
      "execution_count": 0,
      "outputs": []
    },
    {
      "cell_type": "markdown",
      "metadata": {
        "id": "R959Xz4V9GuP",
        "colab_type": "text"
      },
      "source": [
        "###read meta files"
      ]
    },
    {
      "cell_type": "code",
      "metadata": {
        "id": "ZSd1vcC-9Smh",
        "colab_type": "code",
        "colab": {}
      },
      "source": [
        "import pandas as pd\n",
        "import os"
      ],
      "execution_count": 0,
      "outputs": []
    },
    {
      "cell_type": "code",
      "metadata": {
        "id": "Li1uZhmr9Jk2",
        "colab_type": "code",
        "outputId": "1a752c36-57bc-494a-b11f-04fe3a5e061c",
        "colab": {
          "base_uri": "https://localhost:8080/",
          "height": 196
        }
      },
      "source": [
        "covid=os.listdir('/content/CT_COVID')\n",
        "cov=list(zip(covid,['covid']*(len(covid))))\n",
        "covid_df = pd.DataFrame(cov,columns=['file','label']) \n",
        "covid_df.head()"
      ],
      "execution_count": 6,
      "outputs": [
        {
          "output_type": "execute_result",
          "data": {
            "text/html": [
              "<div>\n",
              "<style scoped>\n",
              "    .dataframe tbody tr th:only-of-type {\n",
              "        vertical-align: middle;\n",
              "    }\n",
              "\n",
              "    .dataframe tbody tr th {\n",
              "        vertical-align: top;\n",
              "    }\n",
              "\n",
              "    .dataframe thead th {\n",
              "        text-align: right;\n",
              "    }\n",
              "</style>\n",
              "<table border=\"1\" class=\"dataframe\">\n",
              "  <thead>\n",
              "    <tr style=\"text-align: right;\">\n",
              "      <th></th>\n",
              "      <th>file</th>\n",
              "      <th>label</th>\n",
              "    </tr>\n",
              "  </thead>\n",
              "  <tbody>\n",
              "    <tr>\n",
              "      <th>0</th>\n",
              "      <td>PIIS0140673620303603%3.png</td>\n",
              "      <td>covid</td>\n",
              "    </tr>\n",
              "    <tr>\n",
              "      <th>1</th>\n",
              "      <td>2020.03.30.20047985-p9-56%1.png</td>\n",
              "      <td>covid</td>\n",
              "    </tr>\n",
              "    <tr>\n",
              "      <th>2</th>\n",
              "      <td>PIIS0140673620302117_2.png</td>\n",
              "      <td>covid</td>\n",
              "    </tr>\n",
              "    <tr>\n",
              "      <th>3</th>\n",
              "      <td>2020.03.22.20040782-p25-1542.png</td>\n",
              "      <td>covid</td>\n",
              "    </tr>\n",
              "    <tr>\n",
              "      <th>4</th>\n",
              "      <td>bmj.m606.full-p4-22%1.png</td>\n",
              "      <td>covid</td>\n",
              "    </tr>\n",
              "  </tbody>\n",
              "</table>\n",
              "</div>"
            ],
            "text/plain": [
              "                               file  label\n",
              "0        PIIS0140673620303603%3.png  covid\n",
              "1   2020.03.30.20047985-p9-56%1.png  covid\n",
              "2        PIIS0140673620302117_2.png  covid\n",
              "3  2020.03.22.20040782-p25-1542.png  covid\n",
              "4         bmj.m606.full-p4-22%1.png  covid"
            ]
          },
          "metadata": {
            "tags": []
          },
          "execution_count": 6
        }
      ]
    },
    {
      "cell_type": "code",
      "metadata": {
        "id": "PUrppSTx7Z3f",
        "colab_type": "code",
        "outputId": "15264e8f-8b54-4c96-dc4e-50e66179810a",
        "colab": {
          "base_uri": "https://localhost:8080/",
          "height": 196
        }
      },
      "source": [
        "noncovid=os.listdir('/content/CT_NonCOVID')\n",
        "noncov=list(zip(noncovid,['noncovid']*(len(noncovid))))\n",
        "noncovid_df = pd.DataFrame(noncov,columns=['file','label']) \n",
        "noncovid_df.head()"
      ],
      "execution_count": 7,
      "outputs": [
        {
          "output_type": "execute_result",
          "data": {
            "text/html": [
              "<div>\n",
              "<style scoped>\n",
              "    .dataframe tbody tr th:only-of-type {\n",
              "        vertical-align: middle;\n",
              "    }\n",
              "\n",
              "    .dataframe tbody tr th {\n",
              "        vertical-align: top;\n",
              "    }\n",
              "\n",
              "    .dataframe thead th {\n",
              "        text-align: right;\n",
              "    }\n",
              "</style>\n",
              "<table border=\"1\" class=\"dataframe\">\n",
              "  <thead>\n",
              "    <tr style=\"text-align: right;\">\n",
              "      <th></th>\n",
              "      <th>file</th>\n",
              "      <th>label</th>\n",
              "    </tr>\n",
              "  </thead>\n",
              "  <tbody>\n",
              "    <tr>\n",
              "      <th>0</th>\n",
              "      <td>81%2.jpg</td>\n",
              "      <td>noncovid</td>\n",
              "    </tr>\n",
              "    <tr>\n",
              "      <th>1</th>\n",
              "      <td>583.png</td>\n",
              "      <td>noncovid</td>\n",
              "    </tr>\n",
              "    <tr>\n",
              "      <th>2</th>\n",
              "      <td>5%7.jpg</td>\n",
              "      <td>noncovid</td>\n",
              "    </tr>\n",
              "    <tr>\n",
              "      <th>3</th>\n",
              "      <td>1212.png</td>\n",
              "      <td>noncovid</td>\n",
              "    </tr>\n",
              "    <tr>\n",
              "      <th>4</th>\n",
              "      <td>46.jpg</td>\n",
              "      <td>noncovid</td>\n",
              "    </tr>\n",
              "  </tbody>\n",
              "</table>\n",
              "</div>"
            ],
            "text/plain": [
              "       file     label\n",
              "0  81%2.jpg  noncovid\n",
              "1   583.png  noncovid\n",
              "2   5%7.jpg  noncovid\n",
              "3  1212.png  noncovid\n",
              "4    46.jpg  noncovid"
            ]
          },
          "metadata": {
            "tags": []
          },
          "execution_count": 7
        }
      ]
    },
    {
      "cell_type": "code",
      "metadata": {
        "id": "Tryb2TOv99r4",
        "colab_type": "code",
        "outputId": "08661e31-dd2b-4ef6-cd1c-d47edd371718",
        "colab": {
          "base_uri": "https://localhost:8080/",
          "height": 196
        }
      },
      "source": [
        "dataframe=pd.concat([covid_df,noncovid_df])\n",
        "dataframe.head()"
      ],
      "execution_count": 8,
      "outputs": [
        {
          "output_type": "execute_result",
          "data": {
            "text/html": [
              "<div>\n",
              "<style scoped>\n",
              "    .dataframe tbody tr th:only-of-type {\n",
              "        vertical-align: middle;\n",
              "    }\n",
              "\n",
              "    .dataframe tbody tr th {\n",
              "        vertical-align: top;\n",
              "    }\n",
              "\n",
              "    .dataframe thead th {\n",
              "        text-align: right;\n",
              "    }\n",
              "</style>\n",
              "<table border=\"1\" class=\"dataframe\">\n",
              "  <thead>\n",
              "    <tr style=\"text-align: right;\">\n",
              "      <th></th>\n",
              "      <th>file</th>\n",
              "      <th>label</th>\n",
              "    </tr>\n",
              "  </thead>\n",
              "  <tbody>\n",
              "    <tr>\n",
              "      <th>0</th>\n",
              "      <td>PIIS0140673620303603%3.png</td>\n",
              "      <td>covid</td>\n",
              "    </tr>\n",
              "    <tr>\n",
              "      <th>1</th>\n",
              "      <td>2020.03.30.20047985-p9-56%1.png</td>\n",
              "      <td>covid</td>\n",
              "    </tr>\n",
              "    <tr>\n",
              "      <th>2</th>\n",
              "      <td>PIIS0140673620302117_2.png</td>\n",
              "      <td>covid</td>\n",
              "    </tr>\n",
              "    <tr>\n",
              "      <th>3</th>\n",
              "      <td>2020.03.22.20040782-p25-1542.png</td>\n",
              "      <td>covid</td>\n",
              "    </tr>\n",
              "    <tr>\n",
              "      <th>4</th>\n",
              "      <td>bmj.m606.full-p4-22%1.png</td>\n",
              "      <td>covid</td>\n",
              "    </tr>\n",
              "  </tbody>\n",
              "</table>\n",
              "</div>"
            ],
            "text/plain": [
              "                               file  label\n",
              "0        PIIS0140673620303603%3.png  covid\n",
              "1   2020.03.30.20047985-p9-56%1.png  covid\n",
              "2        PIIS0140673620302117_2.png  covid\n",
              "3  2020.03.22.20040782-p25-1542.png  covid\n",
              "4         bmj.m606.full-p4-22%1.png  covid"
            ]
          },
          "metadata": {
            "tags": []
          },
          "execution_count": 8
        }
      ]
    },
    {
      "cell_type": "code",
      "metadata": {
        "id": "L9YLBD4e-Gnd",
        "colab_type": "code",
        "outputId": "73016dec-ebc8-4d2c-e7b8-7eb14e639676",
        "colab": {
          "base_uri": "https://localhost:8080/",
          "height": 196
        }
      },
      "source": [
        "df = pd.get_dummies(dataframe['label'])\n",
        "df = pd.concat([dataframe, df], axis=1)\n",
        "df=df.sample(frac=1)\n",
        "df.head()\n"
      ],
      "execution_count": 9,
      "outputs": [
        {
          "output_type": "execute_result",
          "data": {
            "text/html": [
              "<div>\n",
              "<style scoped>\n",
              "    .dataframe tbody tr th:only-of-type {\n",
              "        vertical-align: middle;\n",
              "    }\n",
              "\n",
              "    .dataframe tbody tr th {\n",
              "        vertical-align: top;\n",
              "    }\n",
              "\n",
              "    .dataframe thead th {\n",
              "        text-align: right;\n",
              "    }\n",
              "</style>\n",
              "<table border=\"1\" class=\"dataframe\">\n",
              "  <thead>\n",
              "    <tr style=\"text-align: right;\">\n",
              "      <th></th>\n",
              "      <th>file</th>\n",
              "      <th>label</th>\n",
              "      <th>covid</th>\n",
              "      <th>noncovid</th>\n",
              "    </tr>\n",
              "  </thead>\n",
              "  <tbody>\n",
              "    <tr>\n",
              "      <th>161</th>\n",
              "      <td>2020.03.25.20043166-p17-78.png</td>\n",
              "      <td>covid</td>\n",
              "      <td>1</td>\n",
              "      <td>0</td>\n",
              "    </tr>\n",
              "    <tr>\n",
              "      <th>251</th>\n",
              "      <td>bmj.m606.full-p4-22%6.png</td>\n",
              "      <td>covid</td>\n",
              "      <td>1</td>\n",
              "      <td>0</td>\n",
              "    </tr>\n",
              "    <tr>\n",
              "      <th>85</th>\n",
              "      <td>2020.02.22.20024927-p18-66%1.png</td>\n",
              "      <td>covid</td>\n",
              "      <td>1</td>\n",
              "      <td>0</td>\n",
              "    </tr>\n",
              "    <tr>\n",
              "      <th>321</th>\n",
              "      <td>2020.02.25.20021568-p24-111%9.png</td>\n",
              "      <td>covid</td>\n",
              "      <td>1</td>\n",
              "      <td>0</td>\n",
              "    </tr>\n",
              "    <tr>\n",
              "      <th>296</th>\n",
              "      <td>1210.png</td>\n",
              "      <td>noncovid</td>\n",
              "      <td>0</td>\n",
              "      <td>1</td>\n",
              "    </tr>\n",
              "  </tbody>\n",
              "</table>\n",
              "</div>"
            ],
            "text/plain": [
              "                                  file     label  covid  noncovid\n",
              "161     2020.03.25.20043166-p17-78.png     covid      1         0\n",
              "251          bmj.m606.full-p4-22%6.png     covid      1         0\n",
              "85    2020.02.22.20024927-p18-66%1.png     covid      1         0\n",
              "321  2020.02.25.20021568-p24-111%9.png     covid      1         0\n",
              "296                           1210.png  noncovid      0         1"
            ]
          },
          "metadata": {
            "tags": []
          },
          "execution_count": 9
        }
      ]
    },
    {
      "cell_type": "markdown",
      "metadata": {
        "id": "klH5y0SbVWKx",
        "colab_type": "text"
      },
      "source": [
        "#### TEST DATA"
      ]
    },
    {
      "cell_type": "code",
      "metadata": {
        "id": "sQtp3QAt-POe",
        "colab_type": "code",
        "outputId": "b39246d5-7a4f-42e3-a37a-908f8056e9d4",
        "colab": {
          "base_uri": "https://localhost:8080/",
          "height": 33
        }
      },
      "source": [
        "covid_test=pd.read_csv('/content/COVID-CT/Data-split/COVID/testCT_COVID.txt',header=None,squeeze=True).tolist()\n",
        "noncovid_test=pd.read_csv('/content/COVID-CT/Data-split/NonCOVID/testCT_NonCOVID.txt',header=None,squeeze=True).tolist()\n",
        "test=covid_test+noncovid_test\n",
        "len(test)"
      ],
      "execution_count": 10,
      "outputs": [
        {
          "output_type": "execute_result",
          "data": {
            "text/plain": [
              "203"
            ]
          },
          "metadata": {
            "tags": []
          },
          "execution_count": 10
        }
      ]
    },
    {
      "cell_type": "code",
      "metadata": {
        "id": "M3vJ-sCcaeQm",
        "colab_type": "code",
        "outputId": "d46903a8-97f1-47fe-d5fa-6e6fbb1e54dc",
        "colab": {
          "base_uri": "https://localhost:8080/",
          "height": 33
        }
      },
      "source": [
        "len(test),len(covid_test),len(noncovid_test)"
      ],
      "execution_count": 11,
      "outputs": [
        {
          "output_type": "execute_result",
          "data": {
            "text/plain": [
              "(203, 98, 105)"
            ]
          },
          "metadata": {
            "tags": []
          },
          "execution_count": 11
        }
      ]
    },
    {
      "cell_type": "code",
      "metadata": {
        "id": "JRUWC9sKV5G8",
        "colab_type": "code",
        "colab": {}
      },
      "source": [
        "test_df=df[df['file'].isin(covid_test)]\n",
        "train_df=df[~df['file'].isin(covid_test)]"
      ],
      "execution_count": 0,
      "outputs": []
    },
    {
      "cell_type": "code",
      "metadata": {
        "id": "KUuvqVvSaA-S",
        "colab_type": "code",
        "outputId": "6679165b-461f-4c5d-d577-b2dfdf54d0df",
        "colab": {
          "base_uri": "https://localhost:8080/",
          "height": 33
        }
      },
      "source": [
        "len(df),len(train_df),len(test_df)"
      ],
      "execution_count": 13,
      "outputs": [
        {
          "output_type": "execute_result",
          "data": {
            "text/plain": [
              "(746, 648, 98)"
            ]
          },
          "metadata": {
            "tags": []
          },
          "execution_count": 13
        }
      ]
    },
    {
      "cell_type": "markdown",
      "metadata": {
        "id": "oOXgCH8l-bqZ",
        "colab_type": "text"
      },
      "source": [
        "### Data generator"
      ]
    },
    {
      "cell_type": "code",
      "metadata": {
        "id": "CzTlWxDb-c9N",
        "colab_type": "code",
        "colab": {}
      },
      "source": [
        "from keras_preprocessing.image import ImageDataGenerator\n",
        "data_gen= ImageDataGenerator(\n",
        "    horizontal_flip=True,\n",
        "    vertical_flip=True,\n",
        "    rotation_range=90,\n",
        "    width_shift_range=0.2,\n",
        "    height_shift_range=0.2,\n",
        "    zoom_range=.2,\n",
        "    rescale=1/255,\n",
        "    fill_mode='nearest',\n",
        "    shear_range=0.2,\n",
        "    brightness_range=[0.2, 2.0],\n",
        "    )"
      ],
      "execution_count": 0,
      "outputs": []
    },
    {
      "cell_type": "code",
      "metadata": {
        "id": "gZ8ZMeKI-gQu",
        "colab_type": "code",
        "colab": {}
      },
      "source": [
        "from tensorflow.keras.models import Sequential,Model\n",
        "from tensorflow.keras.layers import Activation, Dropout, Flatten, Dense, Conv2D, MaxPool2D, BatchNormalization,Input,MaxPooling2D,GlobalMaxPooling2D,concatenate\n",
        "from tensorflow.keras.layers import GlobalAveragePooling2D\n",
        "from tensorflow.keras.applications.resnet50 import ResNet50\n",
        "from tensorflow.keras.callbacks import ModelCheckpoint,ReduceLROnPlateau\n",
        "from tensorflow.keras.optimizers import Adam\n",
        "import tensorflow.keras.backend as K\n",
        "import tensorflow as tf"
      ],
      "execution_count": 0,
      "outputs": []
    },
    {
      "cell_type": "markdown",
      "metadata": {
        "id": "rdSPz3Ru-VgF",
        "colab_type": "text"
      },
      "source": [
        "#Train model"
      ]
    },
    {
      "cell_type": "code",
      "metadata": {
        "id": "BfiKa4qr-rjv",
        "colab_type": "code",
        "colab": {}
      },
      "source": [
        "img_shape=300\n",
        "batch_size=20"
      ],
      "execution_count": 0,
      "outputs": []
    },
    {
      "cell_type": "code",
      "metadata": {
        "id": "d_omSkY2-W0d",
        "colab_type": "code",
        "outputId": "ca4b187e-801c-49e2-fde9-9523c664ab43",
        "colab": {
          "base_uri": "https://localhost:8080/",
          "height": 686
        }
      },
      "source": [
        "from sklearn.model_selection import KFold\n",
        "import gc\n",
        "\n",
        "from sklearn.metrics import classification_report,accuracy_score,f1_score,roc_auc_score\n",
        "classification_reports=[]\n",
        "kf = KFold(n_splits=5)\n",
        "history=[]\n",
        "accuracy=[]\n",
        "f1_scores=[]\n",
        "auc=[]\n",
        "fold=0\n",
        "for train_index, test_index in kf.split(train_df):\n",
        "  train=train_df.iloc[train_index,:]\n",
        "  val=train_df.iloc[test_index,:]\n",
        "  print('-----------fold {}--------------'.format(fold))\n",
        "  train_generator=data_gen.flow_from_dataframe(train,directory='images',\n",
        "                                                      target_size=(img_shape,img_shape),\n",
        "                                                      x_col=\"file\",\n",
        "                                                      y_col=['covid','noncovid'],\n",
        "                                                      class_mode='raw',\n",
        "                                                      shuffle=True,\n",
        "                                                      batch_size=batch_size)\n",
        "\n",
        "  val_generator=data_gen.flow_from_dataframe(val,directory='images',\n",
        "                                                        target_size=(img_shape,img_shape),\n",
        "                                                        x_col=\"file\",\n",
        "                                                        y_col=['covid','noncovid'],\n",
        "                                                        class_mode='raw',\n",
        "                                                        shuffle=False,\n",
        "                                                        batch_size=batch_size)\n",
        "  \n",
        "  test_generator=data_gen.flow_from_dataframe(test_df,directory='images',\n",
        "                                                      target_size=(img_shape,img_shape),\n",
        "                                                      x_col=\"file\",\n",
        "                                                      y_col=['covid','noncovid'],\n",
        "                                                      class_mode='raw',\n",
        "                                                      shuffle=False,\n",
        "                                                      batch_size=batch_size)\n",
        "  #train_generator.next()[0].shape,train_generator.next()[1].shape\n",
        "  import efficientnet.tfkeras as efn\n",
        "  model1 =efn.EfficientNetB4(weights ='noisy-student', include_top=False, input_shape = (img_shape,img_shape,3))\n",
        "  model2 =efn.EfficientNetB3(weights ='noisy-student', include_top=False, input_shape = (img_shape,img_shape,3))\n",
        "  ####################################################################################################\n",
        "  def new_layer(model):\n",
        "    x = model.output\n",
        "    x = GlobalAveragePooling2D()(x)\n",
        "    x = Dropout(0.3)(x)\n",
        "    x = Dense(128, activation=\"relu\")(x)\n",
        "    #x = Dropout(0.3)(x)\n",
        "    x = Dense(64, activation=\"relu\")(x)\n",
        "    predictions = Dense(2, activation=\"softmax\")(x)\n",
        "    return predictions\n",
        "\n",
        "  ########################################################################################\n",
        "\n",
        "  model1 = Model(inputs=model1.input, outputs=new_layer(model1))\n",
        "  model2 = Model(inputs=model2.input, outputs=new_layer(model2))\n",
        "  model1.compile(optimizer=Adam(0.0001), loss='binary_crossentropy', metrics=['accuracy'])\n",
        "  model2.compile(optimizer=Adam(0.0001), loss='binary_crossentropy', metrics=['accuracy'])\n",
        "########################################################################################\n",
        "  model1_results = model1.fit(train_generator,epochs=25,\n",
        "                              steps_per_epoch=train_generator.n/batch_size,\n",
        "                              validation_data=val_generator,\n",
        "                             validation_steps=val_generator.n/batch_size,\n",
        "                              callbacks=[ReduceLROnPlateau(monitor='val_loss', factor=0.5,patience=3, min_lr=0.000001)])\n",
        "  model2_results = model2.fit(train_generator,epochs=25,\n",
        "                            steps_per_epoch=train_generator.n/batch_size,\n",
        "                            validation_data=val_generator,\n",
        "                            validation_steps=val_generator.n/batch_size,\n",
        "                            callbacks=[ReduceLROnPlateau(monitor='val_loss', factor=0.5,patience=3, min_lr=0.000001)])\n",
        "  \n",
        "  \n",
        "  \n",
        "  \n",
        "  test_generator.reset()\n",
        "  y_pred1=model1.predict(test_generator,steps=test_generator.n/batch_size,verbose=1)\n",
        "  y_pred2=model2.predict(test_generator,steps=test_generator.n/batch_size,verbose=1)\n",
        "  y_pred=(y_pred1+y_pred2)/2\n",
        "  y_pred=y_pred.round().astype(int)\n",
        "  y_true=test_df.iloc[:,2::]\n",
        "  classification_reports.append(classification_report(y_true, y_pred,target_names=['covid','noncovid']))#\n",
        "  accuracy.append(accuracy_score(y_true,y_pred))\n",
        "  auc.append(roc_auc_score(y_true,y_pred))\n",
        "  f1=f1_score(y_true,y_pred,average='macro')\n",
        "  print('f1 score is ', f1)\n",
        "  f1_scores.append(f1)\n",
        "  \n",
        "  fold+=1\n",
        "  del model\n",
        "  tf.keras.backend.clear_session()\n",
        "  gc.collect()"
      ],
      "execution_count": 0,
      "outputs": [
        {
          "output_type": "stream",
          "text": [
            "-----------fold 0--------------\n",
            "Found 518 validated image filenames.\n",
            "Found 130 validated image filenames.\n",
            "Found 98 validated image filenames.\n",
            "Downloading data from https://github.com/qubvel/efficientnet/releases/download/v0.0.1/efficientnet-b4_noisy-student_notop.h5\n",
            "71680000/71678424 [==============================] - 3s 0us/step\n",
            "Downloading data from https://github.com/qubvel/efficientnet/releases/download/v0.0.1/efficientnet-b3_noisy-student_notop.h5\n",
            "43933696/43933088 [==============================] - 2s 0us/step\n",
            "Epoch 1/25\n",
            "26/25 [==============================] - 32s 1s/step - loss: 0.6653 - accuracy: 0.6236 - val_loss: 0.6819 - val_accuracy: 0.6000 - lr: 1.0000e-04\n",
            "Epoch 2/25\n",
            "26/25 [==============================] - 26s 991ms/step - loss: 0.6175 - accuracy: 0.6583 - val_loss: 0.6358 - val_accuracy: 0.7000 - lr: 1.0000e-04\n",
            "Epoch 3/25\n",
            "26/25 [==============================] - 26s 986ms/step - loss: 0.5700 - accuracy: 0.7143 - val_loss: 0.6123 - val_accuracy: 0.7154 - lr: 1.0000e-04\n",
            "Epoch 4/25\n",
            "26/25 [==============================] - 26s 986ms/step - loss: 0.5317 - accuracy: 0.7355 - val_loss: 0.5601 - val_accuracy: 0.7154 - lr: 1.0000e-04\n",
            "Epoch 5/25\n",
            "26/25 [==============================] - 26s 988ms/step - loss: 0.4545 - accuracy: 0.7799 - val_loss: 0.5641 - val_accuracy: 0.7077 - lr: 1.0000e-04\n",
            "Epoch 6/25\n",
            "26/25 [==============================] - 26s 994ms/step - loss: 0.4534 - accuracy: 0.7838 - val_loss: 0.4428 - val_accuracy: 0.7846 - lr: 1.0000e-04\n",
            "Epoch 7/25\n",
            "26/25 [==============================] - 26s 984ms/step - loss: 0.4071 - accuracy: 0.8166 - val_loss: 0.4553 - val_accuracy: 0.7769 - lr: 1.0000e-04\n",
            "Epoch 8/25\n",
            "26/25 [==============================] - 26s 988ms/step - loss: 0.3716 - accuracy: 0.8320 - val_loss: 0.4071 - val_accuracy: 0.7769 - lr: 1.0000e-04\n",
            "Epoch 9/25\n",
            "26/25 [==============================] - 26s 1s/step - loss: 0.3684 - accuracy: 0.8320 - val_loss: 0.4419 - val_accuracy: 0.7923 - lr: 1.0000e-04\n",
            "Epoch 10/25\n",
            "26/25 [==============================] - 26s 988ms/step - loss: 0.3406 - accuracy: 0.8263 - val_loss: 0.3129 - val_accuracy: 0.8615 - lr: 1.0000e-04\n",
            "Epoch 11/25\n",
            "26/25 [==============================] - 26s 995ms/step - loss: 0.3113 - accuracy: 0.8687 - val_loss: 0.3572 - val_accuracy: 0.8077 - lr: 1.0000e-04\n",
            "Epoch 12/25\n",
            "26/25 [==============================] - 26s 998ms/step - loss: 0.3053 - accuracy: 0.8610 - val_loss: 0.3375 - val_accuracy: 0.8923 - lr: 1.0000e-04\n",
            "Epoch 13/25\n",
            "26/25 [==============================] - 26s 995ms/step - loss: 0.2465 - accuracy: 0.9015 - val_loss: 0.3896 - val_accuracy: 0.8000 - lr: 1.0000e-04\n",
            "Epoch 14/25\n",
            "26/25 [==============================] - 25s 979ms/step - loss: 0.2758 - accuracy: 0.8784 - val_loss: 0.3433 - val_accuracy: 0.8538 - lr: 5.0000e-05\n",
            "Epoch 15/25\n",
            "26/25 [==============================] - 26s 997ms/step - loss: 0.2195 - accuracy: 0.9170 - val_loss: 0.3405 - val_accuracy: 0.8308 - lr: 5.0000e-05\n",
            "Epoch 16/25\n",
            "22/25 [========================>.....] - ETA: 3s - loss: 0.2415 - accuracy: 0.8795"
          ],
          "name": "stdout"
        }
      ]
    },
    {
      "cell_type": "code",
      "metadata": {
        "id": "LXZyOVaD-oEZ",
        "colab_type": "code",
        "outputId": "f959456b-4acd-46f6-d71d-a95d32d9bf08",
        "colab": {
          "base_uri": "https://localhost:8080/",
          "height": 100
        }
      },
      "source": [
        "accuracy\n"
      ],
      "execution_count": 0,
      "outputs": [
        {
          "output_type": "execute_result",
          "data": {
            "text/plain": [
              "[0.8533333333333334,\n",
              " 0.8859060402684564,\n",
              " 0.8926174496644296,\n",
              " 0.8791946308724832,\n",
              " 0.8791946308724832]"
            ]
          },
          "metadata": {
            "tags": []
          },
          "execution_count": 23
        }
      ]
    },
    {
      "cell_type": "code",
      "metadata": {
        "id": "rZiL21WlO_K8",
        "colab_type": "code",
        "outputId": "d751b13c-2189-4653-a069-032af6fef6d6",
        "colab": {
          "base_uri": "https://localhost:8080/",
          "height": 33
        }
      },
      "source": [
        "import numpy as np\n",
        "print(np.mean(accuracy))"
      ],
      "execution_count": 0,
      "outputs": [
        {
          "output_type": "stream",
          "text": [
            "0.8780492170022371\n"
          ],
          "name": "stdout"
        }
      ]
    },
    {
      "cell_type": "code",
      "metadata": {
        "id": "6jZXDyHoPBWN",
        "colab_type": "code",
        "outputId": "df6f2665-4d08-4300-818b-4e1bd98e5075",
        "colab": {
          "base_uri": "https://localhost:8080/",
          "height": 100
        }
      },
      "source": [
        "f1_scores"
      ],
      "execution_count": 0,
      "outputs": [
        {
          "output_type": "execute_result",
          "data": {
            "text/plain": [
              "[0.8432750759878418,\n",
              " 0.8858854800198226,\n",
              " 0.8925739005046864,\n",
              " 0.8789274106175515,\n",
              " 0.8791456380677721]"
            ]
          },
          "metadata": {
            "tags": []
          },
          "execution_count": 26
        }
      ]
    },
    {
      "cell_type": "code",
      "metadata": {
        "id": "w9haxiPUPE2b",
        "colab_type": "code",
        "outputId": "e5117382-007f-4ba9-8911-af903a91dbb7",
        "colab": {
          "base_uri": "https://localhost:8080/",
          "height": 33
        }
      },
      "source": [
        "np.mean(f1_scores)"
      ],
      "execution_count": 0,
      "outputs": [
        {
          "output_type": "execute_result",
          "data": {
            "text/plain": [
              "0.8759615010395349"
            ]
          },
          "metadata": {
            "tags": []
          },
          "execution_count": 27
        }
      ]
    },
    {
      "cell_type": "code",
      "metadata": {
        "id": "YIGWme4bPGJA",
        "colab_type": "code",
        "outputId": "9b2a7cc1-b9ba-4d25-b754-5cc0c1f27e6c",
        "colab": {
          "base_uri": "https://localhost:8080/",
          "height": 937
        }
      },
      "source": [
        "for i in range(5):\n",
        "  print('--------------FOLD {}------------------'.format(i))\n",
        "  print(classification_reports[i])"
      ],
      "execution_count": 0,
      "outputs": [
        {
          "output_type": "stream",
          "text": [
            "--------------FOLD 0------------------\n",
            "              precision    recall  f1-score   support\n",
            "\n",
            "       covid       0.85      0.76      0.80        59\n",
            "    noncovid       0.86      0.91      0.88        91\n",
            "\n",
            "   micro avg       0.85      0.85      0.85       150\n",
            "   macro avg       0.85      0.84      0.84       150\n",
            "weighted avg       0.85      0.85      0.85       150\n",
            " samples avg       0.85      0.85      0.85       150\n",
            "\n",
            "--------------FOLD 1------------------\n",
            "              precision    recall  f1-score   support\n",
            "\n",
            "       covid       0.87      0.91      0.89        74\n",
            "    noncovid       0.90      0.87      0.88        75\n",
            "\n",
            "   micro avg       0.89      0.89      0.89       149\n",
            "   macro avg       0.89      0.89      0.89       149\n",
            "weighted avg       0.89      0.89      0.89       149\n",
            " samples avg       0.89      0.89      0.89       149\n",
            "\n",
            "--------------FOLD 2------------------\n",
            "              precision    recall  f1-score   support\n",
            "\n",
            "       covid       0.89      0.89      0.89        73\n",
            "    noncovid       0.89      0.89      0.89        76\n",
            "\n",
            "   micro avg       0.89      0.89      0.89       149\n",
            "   macro avg       0.89      0.89      0.89       149\n",
            "weighted avg       0.89      0.89      0.89       149\n",
            " samples avg       0.89      0.89      0.89       149\n",
            "\n",
            "--------------FOLD 3------------------\n",
            "              precision    recall  f1-score   support\n",
            "\n",
            "       covid       0.86      0.89      0.87        70\n",
            "    noncovid       0.90      0.87      0.88        79\n",
            "\n",
            "   micro avg       0.88      0.88      0.88       149\n",
            "   macro avg       0.88      0.88      0.88       149\n",
            "weighted avg       0.88      0.88      0.88       149\n",
            " samples avg       0.88      0.88      0.88       149\n",
            "\n",
            "--------------FOLD 4------------------\n",
            "              precision    recall  f1-score   support\n",
            "\n",
            "       covid       0.88      0.88      0.88        73\n",
            "    noncovid       0.88      0.88      0.88        76\n",
            "\n",
            "   micro avg       0.88      0.88      0.88       149\n",
            "   macro avg       0.88      0.88      0.88       149\n",
            "weighted avg       0.88      0.88      0.88       149\n",
            " samples avg       0.88      0.88      0.88       149\n",
            "\n"
          ],
          "name": "stdout"
        }
      ]
    },
    {
      "cell_type": "code",
      "metadata": {
        "id": "nloJlTlUPJDZ",
        "colab_type": "code",
        "colab": {}
      },
      "source": [
        ""
      ],
      "execution_count": 0,
      "outputs": []
    }
  ]
}