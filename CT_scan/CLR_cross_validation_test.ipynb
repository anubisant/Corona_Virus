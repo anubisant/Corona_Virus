{
  "nbformat": 4,
  "nbformat_minor": 0,
  "metadata": {
    "colab": {
      "name": "CLR cross_validation_test.ipynb",
      "provenance": [],
      "toc_visible": true,
      "include_colab_link": true
    },
    "kernelspec": {
      "name": "python3",
      "display_name": "Python 3"
    },
    "accelerator": "GPU"
  },
  "cells": [
    {
      "cell_type": "markdown",
      "metadata": {
        "id": "view-in-github",
        "colab_type": "text"
      },
      "source": [
        "<a href=\"https://colab.research.google.com/github/talhaanwarch/Corona_Virus/blob/master/CT_scan/CLR_cross_validation_test.ipynb\" target=\"_parent\"><img src=\"https://colab.research.google.com/assets/colab-badge.svg\" alt=\"Open In Colab\"/></a>"
      ]
    },
    {
      "cell_type": "code",
      "metadata": {
        "id": "ylMZAGXl7kKx",
        "colab_type": "code",
        "colab": {}
      },
      "source": [
        "%%capture\n",
        "!pip install efficientnet"
      ],
      "execution_count": 0,
      "outputs": []
    },
    {
      "cell_type": "code",
      "metadata": {
        "id": "_d7PdOxl3KJv",
        "colab_type": "code",
        "colab": {}
      },
      "source": [
        "%%capture\n",
        "!pip install focal-loss"
      ],
      "execution_count": 0,
      "outputs": []
    },
    {
      "cell_type": "code",
      "metadata": {
        "id": "KqvtepzCMe8O",
        "colab_type": "code",
        "outputId": "da9d3ee4-df3e-4835-bfcb-971f3cac5d4a",
        "colab": {
          "base_uri": "https://localhost:8080/",
          "height": 237
        }
      },
      "source": [
        "!wget https://raw.githubusercontent.com/talhaanwarch/keras-contrib/master/keras_contrib/callbacks/cyclical_learning_rate.py"
      ],
      "execution_count": 3,
      "outputs": [
        {
          "output_type": "stream",
          "text": [
            "--2020-05-03 02:08:55--  https://raw.githubusercontent.com/talhaanwarch/keras-contrib/master/keras_contrib/callbacks/cyclical_learning_rate.py\n",
            "Resolving raw.githubusercontent.com (raw.githubusercontent.com)... 151.101.0.133, 151.101.64.133, 151.101.128.133, ...\n",
            "Connecting to raw.githubusercontent.com (raw.githubusercontent.com)|151.101.0.133|:443... connected.\n",
            "HTTP request sent, awaiting response... 200 OK\n",
            "Length: 5976 (5.8K) [text/plain]\n",
            "Saving to: ‘cyclical_learning_rate.py’\n",
            "\n",
            "\r          cyclical_   0%[                    ]       0  --.-KB/s               \rcyclical_learning_r 100%[===================>]   5.84K  --.-KB/s    in 0s      \n",
            "\n",
            "2020-05-03 02:08:55 (96.8 MB/s) - ‘cyclical_learning_rate.py’ saved [5976/5976]\n",
            "\n"
          ],
          "name": "stdout"
        }
      ]
    },
    {
      "cell_type": "markdown",
      "metadata": {
        "id": "4FDtv7g97nN8",
        "colab_type": "text"
      },
      "source": [
        "### CLone github repo, to dowlonad data"
      ]
    },
    {
      "cell_type": "code",
      "metadata": {
        "id": "yi2pSQus7JR4",
        "colab_type": "code",
        "outputId": "cd759784-d661-4e33-f0b8-0435d38dd350",
        "colab": {
          "base_uri": "https://localhost:8080/",
          "height": 162
        }
      },
      "source": [
        "!git clone https://github.com/UCSD-AI4H/COVID-CT.git"
      ],
      "execution_count": 5,
      "outputs": [
        {
          "output_type": "stream",
          "text": [
            "Cloning into 'COVID-CT'...\n",
            "remote: Enumerating objects: 130, done.\u001b[K\n",
            "remote: Counting objects:   0% (1/130)\u001b[K\rremote: Counting objects:   1% (2/130)\u001b[K\rremote: Counting objects:   2% (3/130)\u001b[K\rremote: Counting objects:   3% (4/130)\u001b[K\rremote: Counting objects:   4% (6/130)\u001b[K\rremote: Counting objects:   5% (7/130)\u001b[K\rremote: Counting objects:   6% (8/130)\u001b[K\rremote: Counting objects:   7% (10/130)\u001b[K\rremote: Counting objects:   8% (11/130)\u001b[K\rremote: Counting objects:   9% (12/130)\u001b[K\rremote: Counting objects:  10% (13/130)\u001b[K\rremote: Counting objects:  11% (15/130)\u001b[K\rremote: Counting objects:  12% (16/130)\u001b[K\rremote: Counting objects:  13% (17/130)\u001b[K\rremote: Counting objects:  14% (19/130)\u001b[K\rremote: Counting objects:  15% (20/130)\u001b[K\rremote: Counting objects:  16% (21/130)\u001b[K\rremote: Counting objects:  17% (23/130)\u001b[K\rremote: Counting objects:  18% (24/130)\u001b[K\rremote: Counting objects:  19% (25/130)\u001b[K\rremote: Counting objects:  20% (26/130)\u001b[K\rremote: Counting objects:  21% (28/130)\u001b[K\rremote: Counting objects:  22% (29/130)\u001b[K\rremote: Counting objects:  23% (30/130)\u001b[K\rremote: Counting objects:  24% (32/130)\u001b[K\rremote: Counting objects:  25% (33/130)\u001b[K\rremote: Counting objects:  26% (34/130)\u001b[K\rremote: Counting objects:  27% (36/130)\u001b[K\rremote: Counting objects:  28% (37/130)\u001b[K\rremote: Counting objects:  29% (38/130)\u001b[K\rremote: Counting objects:  30% (39/130)\u001b[K\rremote: Counting objects:  31% (41/130)\u001b[K\rremote: Counting objects:  32% (42/130)\u001b[K\rremote: Counting objects:  33% (43/130)\u001b[K\rremote: Counting objects:  34% (45/130)\u001b[K\rremote: Counting objects:  35% (46/130)\u001b[K\rremote: Counting objects:  36% (47/130)\u001b[K\rremote: Counting objects:  37% (49/130)\u001b[K\rremote: Counting objects:  38% (50/130)\u001b[K\rremote: Counting objects:  39% (51/130)\u001b[K\rremote: Counting objects:  40% (52/130)\u001b[K\rremote: Counting objects:  41% (54/130)\u001b[K\rremote: Counting objects:  42% (55/130)\u001b[K\rremote: Counting objects:  43% (56/130)\u001b[K\rremote: Counting objects:  44% (58/130)\u001b[K\rremote: Counting objects:  45% (59/130)\u001b[K\rremote: Counting objects:  46% (60/130)\u001b[K\rremote: Counting objects:  47% (62/130)\u001b[K\rremote: Counting objects:  48% (63/130)\u001b[K\rremote: Counting objects:  49% (64/130)\u001b[K\rremote: Counting objects:  50% (65/130)\u001b[K\rremote: Counting objects:  51% (67/130)\u001b[K\rremote: Counting objects:  52% (68/130)\u001b[K\rremote: Counting objects:  53% (69/130)\u001b[K\rremote: Counting objects:  54% (71/130)\u001b[K\rremote: Counting objects:  55% (72/130)\u001b[K\rremote: Counting objects:  56% (73/130)\u001b[K\rremote: Counting objects:  57% (75/130)\u001b[K\rremote: Counting objects:  58% (76/130)\u001b[K\rremote: Counting objects:  59% (77/130)\u001b[K\rremote: Counting objects:  60% (78/130)\u001b[K\rremote: Counting objects:  61% (80/130)\u001b[K\rremote: Counting objects:  62% (81/130)\u001b[K\rremote: Counting objects:  63% (82/130)\u001b[K\rremote: Counting objects:  64% (84/130)\u001b[K\rremote: Counting objects:  65% (85/130)\u001b[K\rremote: Counting objects:  66% (86/130)\u001b[K\rremote: Counting objects:  67% (88/130)\u001b[K\rremote: Counting objects:  68% (89/130)\u001b[K\rremote: Counting objects:  69% (90/130)\u001b[K\rremote: Counting objects:  70% (91/130)\u001b[K\rremote: Counting objects:  71% (93/130)\u001b[K\rremote: Counting objects:  72% (94/130)\u001b[K\rremote: Counting objects:  73% (95/130)\u001b[K\rremote: Counting objects:  74% (97/130)\u001b[K\rremote: Counting objects:  75% (98/130)\u001b[K\rremote: Counting objects:  76% (99/130)\u001b[K\rremote: Counting objects:  77% (101/130)\u001b[K\rremote: Counting objects:  78% (102/130)\u001b[K\rremote: Counting objects:  79% (103/130)\u001b[K\rremote: Counting objects:  80% (104/130)\u001b[K\rremote: Counting objects:  81% (106/130)\u001b[K\rremote: Counting objects:  82% (107/130)\u001b[K\rremote: Counting objects:  83% (108/130)\u001b[K\rremote: Counting objects:  84% (110/130)\u001b[K\rremote: Counting objects:  85% (111/130)\u001b[K\rremote: Counting objects:  86% (112/130)\u001b[K\rremote: Counting objects:  87% (114/130)\u001b[K\rremote: Counting objects:  88% (115/130)\u001b[K\rremote: Counting objects:  89% (116/130)\u001b[K\rremote: Counting objects:  90% (117/130)\u001b[K\rremote: Counting objects:  91% (119/130)\u001b[K\rremote: Counting objects:  92% (120/130)\u001b[K\rremote: Counting objects:  93% (121/130)\u001b[K\rremote: Counting objects:  94% (123/130)\u001b[K\rremote: Counting objects:  95% (124/130)\u001b[K\rremote: Counting objects:  96% (125/130)\u001b[K\rremote: Counting objects:  97% (127/130)\u001b[K\rremote: Counting objects:  98% (128/130)\u001b[K\rremote: Counting objects:  99% (129/130)\u001b[K\rremote: Counting objects: 100% (130/130)\u001b[K\rremote: Counting objects: 100% (130/130), done.\u001b[K\n",
            "remote: Compressing objects: 100% (128/128), done.\u001b[K\n",
            "remote: Total 5443 (delta 60), reused 9 (delta 2), pack-reused 5313\u001b[K\n",
            "Receiving objects: 100% (5443/5443), 1.09 GiB | 37.25 MiB/s, done.\n",
            "Resolving deltas: 100% (351/351), done.\n",
            "Checking out files: 100% (1048/1048), done.\n"
          ],
          "name": "stdout"
        }
      ]
    },
    {
      "cell_type": "markdown",
      "metadata": {
        "id": "imIfz2hq7s0m",
        "colab_type": "text"
      },
      "source": [
        "### Extract data in one format"
      ]
    },
    {
      "cell_type": "code",
      "metadata": {
        "id": "6WuO45h57deK",
        "colab_type": "code",
        "colab": {}
      },
      "source": [
        "%%capture\n",
        "!unzip /content/COVID-CT/Images-processed/CT_COVID.zip\n",
        "!unzip /content/COVID-CT/Images-processed/CT_NonCOVID.zip"
      ],
      "execution_count": 0,
      "outputs": []
    },
    {
      "cell_type": "code",
      "metadata": {
        "id": "eJUYRmVS8kJR",
        "colab_type": "code",
        "colab": {}
      },
      "source": [
        "!mkdir images\n",
        "!cp -r /content/CT_COVID/* images\n",
        "!cp -r /content/CT_NonCOVID/* images\n"
      ],
      "execution_count": 0,
      "outputs": []
    },
    {
      "cell_type": "markdown",
      "metadata": {
        "id": "R959Xz4V9GuP",
        "colab_type": "text"
      },
      "source": [
        "###read meta files"
      ]
    },
    {
      "cell_type": "code",
      "metadata": {
        "id": "ZSd1vcC-9Smh",
        "colab_type": "code",
        "colab": {}
      },
      "source": [
        "import pandas as pd\n",
        "import os"
      ],
      "execution_count": 0,
      "outputs": []
    },
    {
      "cell_type": "code",
      "metadata": {
        "id": "Li1uZhmr9Jk2",
        "colab_type": "code",
        "outputId": "1b52b89c-d4e6-47e3-a259-250c2c4af715",
        "colab": {
          "base_uri": "https://localhost:8080/",
          "height": 206
        }
      },
      "source": [
        "covid=os.listdir('/content/CT_COVID')\n",
        "cov=list(zip(covid,['covid']*(len(covid))))\n",
        "covid_df = pd.DataFrame(cov,columns=['file','label']) \n",
        "covid_df.head()"
      ],
      "execution_count": 9,
      "outputs": [
        {
          "output_type": "execute_result",
          "data": {
            "text/html": [
              "<div>\n",
              "<style scoped>\n",
              "    .dataframe tbody tr th:only-of-type {\n",
              "        vertical-align: middle;\n",
              "    }\n",
              "\n",
              "    .dataframe tbody tr th {\n",
              "        vertical-align: top;\n",
              "    }\n",
              "\n",
              "    .dataframe thead th {\n",
              "        text-align: right;\n",
              "    }\n",
              "</style>\n",
              "<table border=\"1\" class=\"dataframe\">\n",
              "  <thead>\n",
              "    <tr style=\"text-align: right;\">\n",
              "      <th></th>\n",
              "      <th>file</th>\n",
              "      <th>label</th>\n",
              "    </tr>\n",
              "  </thead>\n",
              "  <tbody>\n",
              "    <tr>\n",
              "      <th>0</th>\n",
              "      <td>PIIS0140673620303603%3.png</td>\n",
              "      <td>covid</td>\n",
              "    </tr>\n",
              "    <tr>\n",
              "      <th>1</th>\n",
              "      <td>2020.03.30.20047985-p9-56%1.png</td>\n",
              "      <td>covid</td>\n",
              "    </tr>\n",
              "    <tr>\n",
              "      <th>2</th>\n",
              "      <td>PIIS0140673620302117_2.png</td>\n",
              "      <td>covid</td>\n",
              "    </tr>\n",
              "    <tr>\n",
              "      <th>3</th>\n",
              "      <td>2020.03.22.20040782-p25-1542.png</td>\n",
              "      <td>covid</td>\n",
              "    </tr>\n",
              "    <tr>\n",
              "      <th>4</th>\n",
              "      <td>bmj.m606.full-p4-22%1.png</td>\n",
              "      <td>covid</td>\n",
              "    </tr>\n",
              "  </tbody>\n",
              "</table>\n",
              "</div>"
            ],
            "text/plain": [
              "                               file  label\n",
              "0        PIIS0140673620303603%3.png  covid\n",
              "1   2020.03.30.20047985-p9-56%1.png  covid\n",
              "2        PIIS0140673620302117_2.png  covid\n",
              "3  2020.03.22.20040782-p25-1542.png  covid\n",
              "4         bmj.m606.full-p4-22%1.png  covid"
            ]
          },
          "metadata": {
            "tags": []
          },
          "execution_count": 9
        }
      ]
    },
    {
      "cell_type": "code",
      "metadata": {
        "id": "PUrppSTx7Z3f",
        "colab_type": "code",
        "outputId": "b646dae1-d57d-4df6-d1a7-cc8bbab85b07",
        "colab": {
          "base_uri": "https://localhost:8080/",
          "height": 206
        }
      },
      "source": [
        "noncovid=os.listdir('/content/CT_NonCOVID')\n",
        "noncov=list(zip(noncovid,['noncovid']*(len(noncovid))))\n",
        "noncovid_df = pd.DataFrame(noncov,columns=['file','label']) \n",
        "noncovid_df.head()"
      ],
      "execution_count": 10,
      "outputs": [
        {
          "output_type": "execute_result",
          "data": {
            "text/html": [
              "<div>\n",
              "<style scoped>\n",
              "    .dataframe tbody tr th:only-of-type {\n",
              "        vertical-align: middle;\n",
              "    }\n",
              "\n",
              "    .dataframe tbody tr th {\n",
              "        vertical-align: top;\n",
              "    }\n",
              "\n",
              "    .dataframe thead th {\n",
              "        text-align: right;\n",
              "    }\n",
              "</style>\n",
              "<table border=\"1\" class=\"dataframe\">\n",
              "  <thead>\n",
              "    <tr style=\"text-align: right;\">\n",
              "      <th></th>\n",
              "      <th>file</th>\n",
              "      <th>label</th>\n",
              "    </tr>\n",
              "  </thead>\n",
              "  <tbody>\n",
              "    <tr>\n",
              "      <th>0</th>\n",
              "      <td>81%2.jpg</td>\n",
              "      <td>noncovid</td>\n",
              "    </tr>\n",
              "    <tr>\n",
              "      <th>1</th>\n",
              "      <td>583.png</td>\n",
              "      <td>noncovid</td>\n",
              "    </tr>\n",
              "    <tr>\n",
              "      <th>2</th>\n",
              "      <td>5%7.jpg</td>\n",
              "      <td>noncovid</td>\n",
              "    </tr>\n",
              "    <tr>\n",
              "      <th>3</th>\n",
              "      <td>1212.png</td>\n",
              "      <td>noncovid</td>\n",
              "    </tr>\n",
              "    <tr>\n",
              "      <th>4</th>\n",
              "      <td>46.jpg</td>\n",
              "      <td>noncovid</td>\n",
              "    </tr>\n",
              "  </tbody>\n",
              "</table>\n",
              "</div>"
            ],
            "text/plain": [
              "       file     label\n",
              "0  81%2.jpg  noncovid\n",
              "1   583.png  noncovid\n",
              "2   5%7.jpg  noncovid\n",
              "3  1212.png  noncovid\n",
              "4    46.jpg  noncovid"
            ]
          },
          "metadata": {
            "tags": []
          },
          "execution_count": 10
        }
      ]
    },
    {
      "cell_type": "code",
      "metadata": {
        "id": "Tryb2TOv99r4",
        "colab_type": "code",
        "outputId": "b159dea5-a5fb-4555-8f49-256832aa9570",
        "colab": {
          "base_uri": "https://localhost:8080/",
          "height": 206
        }
      },
      "source": [
        "dataframe=pd.concat([covid_df,noncovid_df])\n",
        "dataframe.head()"
      ],
      "execution_count": 11,
      "outputs": [
        {
          "output_type": "execute_result",
          "data": {
            "text/html": [
              "<div>\n",
              "<style scoped>\n",
              "    .dataframe tbody tr th:only-of-type {\n",
              "        vertical-align: middle;\n",
              "    }\n",
              "\n",
              "    .dataframe tbody tr th {\n",
              "        vertical-align: top;\n",
              "    }\n",
              "\n",
              "    .dataframe thead th {\n",
              "        text-align: right;\n",
              "    }\n",
              "</style>\n",
              "<table border=\"1\" class=\"dataframe\">\n",
              "  <thead>\n",
              "    <tr style=\"text-align: right;\">\n",
              "      <th></th>\n",
              "      <th>file</th>\n",
              "      <th>label</th>\n",
              "    </tr>\n",
              "  </thead>\n",
              "  <tbody>\n",
              "    <tr>\n",
              "      <th>0</th>\n",
              "      <td>PIIS0140673620303603%3.png</td>\n",
              "      <td>covid</td>\n",
              "    </tr>\n",
              "    <tr>\n",
              "      <th>1</th>\n",
              "      <td>2020.03.30.20047985-p9-56%1.png</td>\n",
              "      <td>covid</td>\n",
              "    </tr>\n",
              "    <tr>\n",
              "      <th>2</th>\n",
              "      <td>PIIS0140673620302117_2.png</td>\n",
              "      <td>covid</td>\n",
              "    </tr>\n",
              "    <tr>\n",
              "      <th>3</th>\n",
              "      <td>2020.03.22.20040782-p25-1542.png</td>\n",
              "      <td>covid</td>\n",
              "    </tr>\n",
              "    <tr>\n",
              "      <th>4</th>\n",
              "      <td>bmj.m606.full-p4-22%1.png</td>\n",
              "      <td>covid</td>\n",
              "    </tr>\n",
              "  </tbody>\n",
              "</table>\n",
              "</div>"
            ],
            "text/plain": [
              "                               file  label\n",
              "0        PIIS0140673620303603%3.png  covid\n",
              "1   2020.03.30.20047985-p9-56%1.png  covid\n",
              "2        PIIS0140673620302117_2.png  covid\n",
              "3  2020.03.22.20040782-p25-1542.png  covid\n",
              "4         bmj.m606.full-p4-22%1.png  covid"
            ]
          },
          "metadata": {
            "tags": []
          },
          "execution_count": 11
        }
      ]
    },
    {
      "cell_type": "code",
      "metadata": {
        "id": "L9YLBD4e-Gnd",
        "colab_type": "code",
        "outputId": "e78ba730-3224-40ed-9be2-df137418bde5",
        "colab": {
          "base_uri": "https://localhost:8080/",
          "height": 206
        }
      },
      "source": [
        "df = pd.get_dummies(dataframe['label'])\n",
        "df = pd.concat([dataframe, df], axis=1)\n",
        "df=df.sample(frac=1)\n",
        "df.head()\n"
      ],
      "execution_count": 12,
      "outputs": [
        {
          "output_type": "execute_result",
          "data": {
            "text/html": [
              "<div>\n",
              "<style scoped>\n",
              "    .dataframe tbody tr th:only-of-type {\n",
              "        vertical-align: middle;\n",
              "    }\n",
              "\n",
              "    .dataframe tbody tr th {\n",
              "        vertical-align: top;\n",
              "    }\n",
              "\n",
              "    .dataframe thead th {\n",
              "        text-align: right;\n",
              "    }\n",
              "</style>\n",
              "<table border=\"1\" class=\"dataframe\">\n",
              "  <thead>\n",
              "    <tr style=\"text-align: right;\">\n",
              "      <th></th>\n",
              "      <th>file</th>\n",
              "      <th>label</th>\n",
              "      <th>covid</th>\n",
              "      <th>noncovid</th>\n",
              "    </tr>\n",
              "  </thead>\n",
              "  <tbody>\n",
              "    <tr>\n",
              "      <th>304</th>\n",
              "      <td>65%2.jpg</td>\n",
              "      <td>noncovid</td>\n",
              "      <td>0</td>\n",
              "      <td>1</td>\n",
              "    </tr>\n",
              "    <tr>\n",
              "      <th>372</th>\n",
              "      <td>1046.png</td>\n",
              "      <td>noncovid</td>\n",
              "      <td>0</td>\n",
              "      <td>1</td>\n",
              "    </tr>\n",
              "    <tr>\n",
              "      <th>337</th>\n",
              "      <td>PIIS0140673620303603%1.png</td>\n",
              "      <td>covid</td>\n",
              "      <td>1</td>\n",
              "      <td>0</td>\n",
              "    </tr>\n",
              "    <tr>\n",
              "      <th>378</th>\n",
              "      <td>591.png</td>\n",
              "      <td>noncovid</td>\n",
              "      <td>0</td>\n",
              "      <td>1</td>\n",
              "    </tr>\n",
              "    <tr>\n",
              "      <th>211</th>\n",
              "      <td>781.png</td>\n",
              "      <td>noncovid</td>\n",
              "      <td>0</td>\n",
              "      <td>1</td>\n",
              "    </tr>\n",
              "  </tbody>\n",
              "</table>\n",
              "</div>"
            ],
            "text/plain": [
              "                           file     label  covid  noncovid\n",
              "304                    65%2.jpg  noncovid      0         1\n",
              "372                    1046.png  noncovid      0         1\n",
              "337  PIIS0140673620303603%1.png     covid      1         0\n",
              "378                     591.png  noncovid      0         1\n",
              "211                     781.png  noncovid      0         1"
            ]
          },
          "metadata": {
            "tags": []
          },
          "execution_count": 12
        }
      ]
    },
    {
      "cell_type": "markdown",
      "metadata": {
        "id": "klH5y0SbVWKx",
        "colab_type": "text"
      },
      "source": [
        "#### TEST DATA"
      ]
    },
    {
      "cell_type": "code",
      "metadata": {
        "id": "sQtp3QAt-POe",
        "colab_type": "code",
        "outputId": "48fabf86-3ef6-44ff-800b-1bf0b71f7c54",
        "colab": {
          "base_uri": "https://localhost:8080/",
          "height": 35
        }
      },
      "source": [
        "covid_test=pd.read_csv('/content/COVID-CT/Data-split/COVID/testCT_COVID.txt',header=None,squeeze=True).tolist()\n",
        "noncovid_test=pd.read_csv('/content/COVID-CT/Data-split/NonCOVID/testCT_NonCOVID.txt',header=None,squeeze=True).tolist()\n",
        "test=covid_test+noncovid_test\n",
        "len(test)"
      ],
      "execution_count": 13,
      "outputs": [
        {
          "output_type": "execute_result",
          "data": {
            "text/plain": [
              "203"
            ]
          },
          "metadata": {
            "tags": []
          },
          "execution_count": 13
        }
      ]
    },
    {
      "cell_type": "code",
      "metadata": {
        "id": "M3vJ-sCcaeQm",
        "colab_type": "code",
        "outputId": "0502953a-2551-4f45-b5e5-ca6a6c0eda18",
        "colab": {
          "base_uri": "https://localhost:8080/",
          "height": 35
        }
      },
      "source": [
        "len(test),len(covid_test),len(noncovid_test)"
      ],
      "execution_count": 14,
      "outputs": [
        {
          "output_type": "execute_result",
          "data": {
            "text/plain": [
              "(203, 98, 105)"
            ]
          },
          "metadata": {
            "tags": []
          },
          "execution_count": 14
        }
      ]
    },
    {
      "cell_type": "code",
      "metadata": {
        "id": "JRUWC9sKV5G8",
        "colab_type": "code",
        "colab": {}
      },
      "source": [
        "test_df=df[df['file'].isin(test)]\n",
        "train_df=df[~df['file'].isin(test)]"
      ],
      "execution_count": 0,
      "outputs": []
    },
    {
      "cell_type": "code",
      "metadata": {
        "id": "KUuvqVvSaA-S",
        "colab_type": "code",
        "outputId": "97f50020-78e0-4bbf-d36c-04fc9ce3581a",
        "colab": {
          "base_uri": "https://localhost:8080/",
          "height": 35
        }
      },
      "source": [
        "len(df),len(train_df),len(test_df)"
      ],
      "execution_count": 16,
      "outputs": [
        {
          "output_type": "execute_result",
          "data": {
            "text/plain": [
              "(746, 543, 203)"
            ]
          },
          "metadata": {
            "tags": []
          },
          "execution_count": 16
        }
      ]
    },
    {
      "cell_type": "markdown",
      "metadata": {
        "id": "oOXgCH8l-bqZ",
        "colab_type": "text"
      },
      "source": [
        "### Data generator"
      ]
    },
    {
      "cell_type": "code",
      "metadata": {
        "id": "CzTlWxDb-c9N",
        "colab_type": "code",
        "colab": {}
      },
      "source": [
        "from keras_preprocessing.image import ImageDataGenerator\n",
        "data_gen= ImageDataGenerator(\n",
        "    horizontal_flip=True,\n",
        "    vertical_flip=True,\n",
        "    #rotation_range=360,\n",
        "    #width_shift_range=0.2,\n",
        "    #height_shift_range=0.2,\n",
        "    #zoom_range=.2,\n",
        "    rescale=1/255,\n",
        "    fill_mode='nearest',\n",
        "    #shear_range=0.2,\n",
        "    #brightness_range=[0.2, 2.0],\n",
        "    )"
      ],
      "execution_count": 0,
      "outputs": []
    },
    {
      "cell_type": "code",
      "metadata": {
        "id": "gZ8ZMeKI-gQu",
        "colab_type": "code",
        "colab": {}
      },
      "source": [
        "from tensorflow.keras.models import Sequential,Model\n",
        "from tensorflow.keras.layers import Activation, Dropout, Flatten, Dense, Conv2D, MaxPool2D, BatchNormalization,Input,MaxPooling2D,GlobalMaxPooling2D,concatenate\n",
        "from tensorflow.keras.layers import GlobalAveragePooling2D\n",
        "from tensorflow.keras.applications.resnet50 import ResNet50\n",
        "from tensorflow.keras.callbacks import ModelCheckpoint,ReduceLROnPlateau\n",
        "from tensorflow.keras.optimizers import Adam\n",
        "import tensorflow.keras.backend as K\n",
        "import tensorflow as tf"
      ],
      "execution_count": 0,
      "outputs": []
    },
    {
      "cell_type": "markdown",
      "metadata": {
        "id": "rdSPz3Ru-VgF",
        "colab_type": "text"
      },
      "source": [
        "#Train model"
      ]
    },
    {
      "cell_type": "code",
      "metadata": {
        "id": "BfiKa4qr-rjv",
        "colab_type": "code",
        "colab": {}
      },
      "source": [
        "img_shape=348\n",
        "batch_size=16"
      ],
      "execution_count": 0,
      "outputs": []
    },
    {
      "cell_type": "code",
      "metadata": {
        "id": "TuxqMnUnM9P1",
        "colab_type": "code",
        "colab": {}
      },
      "source": [
        "from cyclical_learning_rate import CyclicLR\n"
      ],
      "execution_count": 0,
      "outputs": []
    },
    {
      "cell_type": "code",
      "metadata": {
        "id": "d_omSkY2-W0d",
        "colab_type": "code",
        "outputId": "8945be86-6419-484e-bd2c-c7b76dfafe92",
        "colab": {
          "base_uri": "https://localhost:8080/",
          "height": 1000
        }
      },
      "source": [
        "from sklearn.model_selection import KFold\n",
        "import gc\n",
        "from focal_loss import BinaryFocalLoss\n",
        "from sklearn.metrics import classification_report,accuracy_score,f1_score,roc_auc_score\n",
        "classification_reports=[]\n",
        "kf = KFold(n_splits=5)\n",
        "history=[]\n",
        "accuracy=[]\n",
        "f1_scores=[]\n",
        "auc=[]\n",
        "y_pred=[]\n",
        "fold=0\n",
        "for train_index, test_index in kf.split(train_df):\n",
        "  train=train_df.iloc[train_index,:]\n",
        "  val=train_df.iloc[test_index,:]\n",
        "  print('-----------fold {}--------------'.format(fold))\n",
        "  train_generator=data_gen.flow_from_dataframe(train,directory='images',\n",
        "                                                      target_size=(img_shape,img_shape),\n",
        "                                                      x_col=\"file\",\n",
        "                                                      y_col=['covid','noncovid'],\n",
        "                                                      class_mode='raw',\n",
        "                                                      shuffle=True,\n",
        "                                                      batch_size=batch_size)\n",
        "\n",
        "  val_generator=data_gen.flow_from_dataframe(val,directory='images',\n",
        "                                                        target_size=(img_shape,img_shape),\n",
        "                                                        x_col=\"file\",\n",
        "                                                        y_col=['covid','noncovid'],\n",
        "                                                        class_mode='raw',\n",
        "                                                        shuffle=False,\n",
        "                                                        batch_size=batch_size)\n",
        "  \n",
        "  test_generator=data_gen.flow_from_dataframe(test_df,directory='images',\n",
        "                                                      target_size=(img_shape,img_shape),\n",
        "                                                      x_col=\"file\",\n",
        "                                                      y_col=['covid','noncovid'],\n",
        "                                                      class_mode='raw',\n",
        "                                                      shuffle=False,\n",
        "                                                      batch_size=batch_size)\n",
        "  #train_generator.next()[0].shape,train_generator.next()[1].shape\n",
        "  import efficientnet.tfkeras as efn\n",
        "  model =efn.EfficientNetB4(weights ='noisy-student', include_top=False, input_shape = (img_shape,img_shape,3))\n",
        "    \n",
        "  x = model.output\n",
        "  x = GlobalAveragePooling2D()(x)\n",
        "  #x = Dropout(0.3)(x)\n",
        "  #x = Dense(128, activation=\"relu\")(x)\n",
        "  #x = Dropout(0.3)(x)\n",
        "  #x = Dense(64, activation=\"relu\")(x)\n",
        "  predictions = Dense(2, activation=\"softmax\")(x)\n",
        "  model = Model(inputs=model.input, outputs=predictions)\n",
        "\n",
        "\n",
        "  model.compile(optimizer=Adam(0.001), loss=BinaryFocalLoss(gamma=2), metrics=['accuracy'])\n",
        "\n",
        "  results = model.fit(train_generator,epochs=30,\n",
        "                              steps_per_epoch=train_generator.n/batch_size,\n",
        "                              validation_data=val_generator,\n",
        "                             validation_steps=val_generator.n/batch_size,\n",
        "                              callbacks=[\n",
        "                                         #ReduceLROnPlateau(monitor='val_loss', factor=0.5,patience=3, min_lr=0.000001),\n",
        "                                         CyclicLR(base_lr=1e-5,max_lr=1e-3,step_size=(6*train_generator.n/batch_size))\n",
        "                                         ])\n",
        "  #model.load_weights('model_{}.hdf5'.format(fold))\n",
        "  test_generator.reset()\n",
        "  y_pred.append(model.predict(test_generator,steps=test_generator.n/batch_size,verbose=1))\n",
        "  history.append(results)\n",
        "\n",
        "  \n",
        "  fold+=1\n",
        "  del model\n",
        "  tf.keras.backend.clear_session()\n",
        "  gc.collect()"
      ],
      "execution_count": 23,
      "outputs": [
        {
          "output_type": "stream",
          "text": [
            "-----------fold 0--------------\n",
            "Found 434 validated image filenames.\n",
            "Found 109 validated image filenames.\n",
            "Found 203 validated image filenames.\n",
            "Epoch 1/30\n",
            "28/27 [==============================] - 19s 689ms/step - loss: 0.1691 - accuracy: 0.6359 - val_loss: 0.1684 - val_accuracy: 0.5872 - lr: 1.8032e-04\n",
            "Epoch 2/30\n",
            "28/27 [==============================] - 17s 619ms/step - loss: 0.1274 - accuracy: 0.7857 - val_loss: 0.3071 - val_accuracy: 0.5505 - lr: 3.5065e-04\n",
            "Epoch 3/30\n",
            "28/27 [==============================] - 17s 609ms/step - loss: 0.0865 - accuracy: 0.8664 - val_loss: 0.2299 - val_accuracy: 0.5963 - lr: 5.2097e-04\n",
            "Epoch 4/30\n",
            "28/27 [==============================] - 17s 611ms/step - loss: 0.1326 - accuracy: 0.8134 - val_loss: 0.2644 - val_accuracy: 0.5963 - lr: 6.9129e-04\n",
            "Epoch 5/30\n",
            "28/27 [==============================] - 17s 617ms/step - loss: 0.1213 - accuracy: 0.8272 - val_loss: 0.1367 - val_accuracy: 0.7156 - lr: 8.6161e-04\n",
            "Epoch 6/30\n",
            "28/27 [==============================] - 17s 618ms/step - loss: 0.0784 - accuracy: 0.9009 - val_loss: 0.2778 - val_accuracy: 0.7890 - lr: 9.6806e-04\n",
            "Epoch 7/30\n",
            "28/27 [==============================] - 17s 614ms/step - loss: 0.0999 - accuracy: 0.8548 - val_loss: 0.1731 - val_accuracy: 0.7890 - lr: 7.9774e-04\n",
            "Epoch 8/30\n",
            "28/27 [==============================] - 17s 614ms/step - loss: 0.0841 - accuracy: 0.8779 - val_loss: 0.0851 - val_accuracy: 0.8716 - lr: 6.2742e-04\n",
            "Epoch 9/30\n",
            "28/27 [==============================] - 17s 615ms/step - loss: 0.0926 - accuracy: 0.9147 - val_loss: 0.4729 - val_accuracy: 0.6606 - lr: 4.5710e-04\n",
            "Epoch 10/30\n",
            "28/27 [==============================] - 17s 608ms/step - loss: 0.0575 - accuracy: 0.9355 - val_loss: 0.1794 - val_accuracy: 0.7064 - lr: 2.8677e-04\n",
            "Epoch 11/30\n",
            "28/27 [==============================] - 17s 614ms/step - loss: 0.0317 - accuracy: 0.9631 - val_loss: 0.1668 - val_accuracy: 0.7615 - lr: 1.1645e-04\n",
            "Epoch 12/30\n",
            "28/27 [==============================] - 17s 614ms/step - loss: 0.0360 - accuracy: 0.9608 - val_loss: 0.1294 - val_accuracy: 0.8257 - lr: 7.3871e-05\n",
            "Epoch 13/30\n",
            "28/27 [==============================] - 17s 613ms/step - loss: 0.0246 - accuracy: 0.9770 - val_loss: 0.1294 - val_accuracy: 0.8349 - lr: 2.4419e-04\n",
            "Epoch 14/30\n",
            "28/27 [==============================] - 17s 615ms/step - loss: 0.0448 - accuracy: 0.9724 - val_loss: 0.1289 - val_accuracy: 0.8807 - lr: 4.1452e-04\n",
            "Epoch 15/30\n",
            "28/27 [==============================] - 17s 616ms/step - loss: 0.0439 - accuracy: 0.9355 - val_loss: 0.0705 - val_accuracy: 0.8624 - lr: 5.8484e-04\n",
            "Epoch 16/30\n",
            "28/27 [==============================] - 17s 616ms/step - loss: 0.0432 - accuracy: 0.9378 - val_loss: 0.0799 - val_accuracy: 0.8624 - lr: 7.5516e-04\n",
            "Epoch 17/30\n",
            "28/27 [==============================] - 17s 609ms/step - loss: 0.0451 - accuracy: 0.9539 - val_loss: 0.1322 - val_accuracy: 0.8624 - lr: 9.2548e-04\n",
            "Epoch 18/30\n",
            "28/27 [==============================] - 17s 614ms/step - loss: 0.0516 - accuracy: 0.9171 - val_loss: 0.1398 - val_accuracy: 0.8349 - lr: 9.0419e-04\n",
            "Epoch 19/30\n",
            "28/27 [==============================] - 17s 615ms/step - loss: 0.0485 - accuracy: 0.9286 - val_loss: 0.1371 - val_accuracy: 0.8716 - lr: 7.3387e-04\n",
            "Epoch 20/30\n",
            "28/27 [==============================] - 17s 614ms/step - loss: 0.0565 - accuracy: 0.9585 - val_loss: 0.1358 - val_accuracy: 0.8716 - lr: 5.6355e-04\n",
            "Epoch 21/30\n",
            "28/27 [==============================] - 17s 616ms/step - loss: 0.0673 - accuracy: 0.9147 - val_loss: 0.0783 - val_accuracy: 0.9083 - lr: 3.9323e-04\n",
            "Epoch 22/30\n",
            "28/27 [==============================] - 17s 614ms/step - loss: 0.0462 - accuracy: 0.9355 - val_loss: 0.0879 - val_accuracy: 0.8716 - lr: 2.2290e-04\n",
            "Epoch 23/30\n",
            "28/27 [==============================] - 17s 608ms/step - loss: 0.0493 - accuracy: 0.9470 - val_loss: 0.0473 - val_accuracy: 0.9083 - lr: 5.2581e-05\n",
            "Epoch 24/30\n",
            "28/27 [==============================] - 17s 618ms/step - loss: 0.0330 - accuracy: 0.9816 - val_loss: 0.0355 - val_accuracy: 0.9358 - lr: 1.3774e-04\n",
            "Epoch 25/30\n",
            "28/27 [==============================] - 17s 614ms/step - loss: 0.0355 - accuracy: 0.9585 - val_loss: 0.0301 - val_accuracy: 0.9541 - lr: 3.0806e-04\n",
            "Epoch 26/30\n",
            "28/27 [==============================] - 17s 610ms/step - loss: 0.0139 - accuracy: 0.9862 - val_loss: 0.0304 - val_accuracy: 0.9174 - lr: 4.7839e-04\n",
            "Epoch 27/30\n",
            "28/27 [==============================] - 17s 617ms/step - loss: 0.0082 - accuracy: 0.9908 - val_loss: 0.0811 - val_accuracy: 0.9358 - lr: 6.4871e-04\n",
            "Epoch 28/30\n",
            "28/27 [==============================] - 17s 618ms/step - loss: 0.0079 - accuracy: 0.9839 - val_loss: 0.0418 - val_accuracy: 0.9541 - lr: 8.1903e-04\n",
            "Epoch 29/30\n",
            "28/27 [==============================] - 17s 614ms/step - loss: 0.0192 - accuracy: 0.9677 - val_loss: 0.1074 - val_accuracy: 0.9174 - lr: 9.8935e-04\n",
            "Epoch 30/30\n",
            "28/27 [==============================] - 17s 616ms/step - loss: 0.0359 - accuracy: 0.9378 - val_loss: 0.1978 - val_accuracy: 0.8532 - lr: 8.4032e-04\n",
            "13/12 [==============================] - 1s 107ms/step\n",
            "-----------fold 1--------------\n",
            "Found 434 validated image filenames.\n",
            "Found 109 validated image filenames.\n",
            "Found 203 validated image filenames.\n",
            "Epoch 1/30\n",
            "28/27 [==============================] - 19s 686ms/step - loss: 0.1693 - accuracy: 0.5853 - val_loss: 0.1615 - val_accuracy: 0.6239 - lr: 1.8032e-04\n",
            "Epoch 2/30\n",
            "28/27 [==============================] - 17s 612ms/step - loss: 0.1170 - accuracy: 0.8249 - val_loss: 0.2140 - val_accuracy: 0.5780 - lr: 3.5065e-04\n",
            "Epoch 3/30\n",
            "28/27 [==============================] - 17s 612ms/step - loss: 0.1179 - accuracy: 0.8065 - val_loss: 0.4165 - val_accuracy: 0.6055 - lr: 5.2097e-04\n",
            "Epoch 4/30\n",
            "28/27 [==============================] - 17s 611ms/step - loss: 0.0977 - accuracy: 0.8387 - val_loss: 0.1352 - val_accuracy: 0.8349 - lr: 6.9129e-04\n",
            "Epoch 5/30\n",
            "28/27 [==============================] - 17s 614ms/step - loss: 0.1147 - accuracy: 0.8594 - val_loss: 0.1460 - val_accuracy: 0.7706 - lr: 8.6161e-04\n",
            "Epoch 6/30\n",
            "28/27 [==============================] - 17s 610ms/step - loss: 0.1223 - accuracy: 0.8249 - val_loss: 0.7494 - val_accuracy: 0.5413 - lr: 9.6806e-04\n",
            "Epoch 7/30\n",
            "28/27 [==============================] - 17s 613ms/step - loss: 0.0937 - accuracy: 0.8802 - val_loss: 0.2111 - val_accuracy: 0.7523 - lr: 7.9774e-04\n",
            "Epoch 8/30\n",
            "28/27 [==============================] - 17s 613ms/step - loss: 0.0818 - accuracy: 0.8986 - val_loss: 0.2209 - val_accuracy: 0.7156 - lr: 6.2742e-04\n",
            "Epoch 9/30\n",
            "28/27 [==============================] - 17s 612ms/step - loss: 0.0593 - accuracy: 0.8986 - val_loss: 0.3252 - val_accuracy: 0.7064 - lr: 4.5710e-04\n",
            "Epoch 10/30\n",
            "28/27 [==============================] - 17s 613ms/step - loss: 0.0381 - accuracy: 0.9447 - val_loss: 0.3280 - val_accuracy: 0.7064 - lr: 2.8677e-04\n",
            "Epoch 11/30\n",
            "28/27 [==============================] - 17s 611ms/step - loss: 0.0395 - accuracy: 0.9562 - val_loss: 0.2550 - val_accuracy: 0.7064 - lr: 1.1645e-04\n",
            "Epoch 12/30\n",
            "28/27 [==============================] - 17s 614ms/step - loss: 0.0235 - accuracy: 0.9654 - val_loss: 0.2230 - val_accuracy: 0.7339 - lr: 7.3871e-05\n",
            "Epoch 13/30\n",
            "28/27 [==============================] - 17s 609ms/step - loss: 0.0331 - accuracy: 0.9677 - val_loss: 0.1799 - val_accuracy: 0.7615 - lr: 2.4419e-04\n",
            "Epoch 14/30\n",
            "28/27 [==============================] - 17s 608ms/step - loss: 0.0297 - accuracy: 0.9654 - val_loss: 0.1005 - val_accuracy: 0.8532 - lr: 4.1452e-04\n",
            "Epoch 15/30\n",
            "28/27 [==============================] - 17s 608ms/step - loss: 0.0390 - accuracy: 0.9539 - val_loss: 0.0541 - val_accuracy: 0.9174 - lr: 5.8484e-04\n",
            "Epoch 16/30\n",
            "28/27 [==============================] - 17s 609ms/step - loss: 0.0385 - accuracy: 0.9585 - val_loss: 0.1152 - val_accuracy: 0.8532 - lr: 7.5516e-04\n",
            "Epoch 17/30\n",
            "28/27 [==============================] - 17s 609ms/step - loss: 0.0397 - accuracy: 0.9424 - val_loss: 0.1260 - val_accuracy: 0.8807 - lr: 9.2548e-04\n",
            "Epoch 18/30\n",
            "28/27 [==============================] - 17s 611ms/step - loss: 0.0471 - accuracy: 0.9286 - val_loss: 0.0832 - val_accuracy: 0.8257 - lr: 9.0419e-04\n",
            "Epoch 19/30\n",
            "28/27 [==============================] - 17s 616ms/step - loss: 0.0628 - accuracy: 0.9309 - val_loss: 0.2168 - val_accuracy: 0.7339 - lr: 7.3387e-04\n",
            "Epoch 20/30\n",
            "28/27 [==============================] - 17s 611ms/step - loss: 0.0597 - accuracy: 0.9401 - val_loss: 0.0968 - val_accuracy: 0.8165 - lr: 5.6355e-04\n",
            "Epoch 21/30\n",
            "28/27 [==============================] - 17s 610ms/step - loss: 0.1077 - accuracy: 0.8986 - val_loss: 0.1937 - val_accuracy: 0.6789 - lr: 3.9323e-04\n",
            "Epoch 22/30\n",
            "28/27 [==============================] - 17s 608ms/step - loss: 0.0667 - accuracy: 0.8940 - val_loss: 0.1786 - val_accuracy: 0.6606 - lr: 2.2290e-04\n",
            "Epoch 23/30\n",
            "28/27 [==============================] - 17s 607ms/step - loss: 0.0402 - accuracy: 0.9378 - val_loss: 0.1199 - val_accuracy: 0.7523 - lr: 5.2581e-05\n",
            "Epoch 24/30\n",
            "28/27 [==============================] - 17s 607ms/step - loss: 0.0278 - accuracy: 0.9654 - val_loss: 0.0658 - val_accuracy: 0.8899 - lr: 1.3774e-04\n",
            "Epoch 25/30\n",
            "28/27 [==============================] - 17s 609ms/step - loss: 0.0313 - accuracy: 0.9608 - val_loss: 0.0468 - val_accuracy: 0.9358 - lr: 3.0806e-04\n",
            "Epoch 26/30\n",
            "28/27 [==============================] - 17s 611ms/step - loss: 0.0350 - accuracy: 0.9770 - val_loss: 0.0286 - val_accuracy: 0.9450 - lr: 4.7839e-04\n",
            "Epoch 27/30\n",
            "28/27 [==============================] - 17s 610ms/step - loss: 0.0436 - accuracy: 0.9424 - val_loss: 0.0672 - val_accuracy: 0.8532 - lr: 6.4871e-04\n",
            "Epoch 28/30\n",
            "28/27 [==============================] - 17s 607ms/step - loss: 0.0554 - accuracy: 0.9631 - val_loss: 0.1385 - val_accuracy: 0.7982 - lr: 8.1903e-04\n",
            "Epoch 29/30\n",
            "28/27 [==============================] - 17s 608ms/step - loss: 0.0947 - accuracy: 0.8733 - val_loss: 0.4723 - val_accuracy: 0.5872 - lr: 9.8935e-04\n",
            "Epoch 30/30\n",
            "28/27 [==============================] - 17s 610ms/step - loss: 0.0720 - accuracy: 0.9009 - val_loss: 0.2085 - val_accuracy: 0.8532 - lr: 8.4032e-04\n",
            "13/12 [==============================] - 1s 104ms/step\n",
            "-----------fold 2--------------\n",
            "Found 434 validated image filenames.\n",
            "Found 109 validated image filenames.\n",
            "Found 203 validated image filenames.\n",
            "Epoch 1/30\n",
            "28/27 [==============================] - 20s 709ms/step - loss: 0.1627 - accuracy: 0.6452 - val_loss: 0.1641 - val_accuracy: 0.6606 - lr: 1.8032e-04\n",
            "Epoch 2/30\n",
            "28/27 [==============================] - 17s 612ms/step - loss: 0.1126 - accuracy: 0.8134 - val_loss: 0.2630 - val_accuracy: 0.6330 - lr: 3.5065e-04\n",
            "Epoch 3/30\n",
            "28/27 [==============================] - 17s 614ms/step - loss: 0.0842 - accuracy: 0.8779 - val_loss: 0.0971 - val_accuracy: 0.7982 - lr: 5.2097e-04\n",
            "Epoch 4/30\n",
            "28/27 [==============================] - 17s 608ms/step - loss: 0.1196 - accuracy: 0.8157 - val_loss: 0.1541 - val_accuracy: 0.8716 - lr: 6.9129e-04\n",
            "Epoch 5/30\n",
            "28/27 [==============================] - 17s 612ms/step - loss: 0.1279 - accuracy: 0.8134 - val_loss: 0.2121 - val_accuracy: 0.7706 - lr: 8.6161e-04\n",
            "Epoch 6/30\n",
            "28/27 [==============================] - 17s 607ms/step - loss: 0.1069 - accuracy: 0.8710 - val_loss: 1.1133 - val_accuracy: 0.7248 - lr: 9.6806e-04\n",
            "Epoch 7/30\n",
            "28/27 [==============================] - 17s 610ms/step - loss: 0.1476 - accuracy: 0.7442 - val_loss: 0.1634 - val_accuracy: 0.6606 - lr: 7.9774e-04\n",
            "Epoch 8/30\n",
            "28/27 [==============================] - 17s 610ms/step - loss: 0.0735 - accuracy: 0.8779 - val_loss: 0.2865 - val_accuracy: 0.7064 - lr: 6.2742e-04\n",
            "Epoch 9/30\n",
            "28/27 [==============================] - 17s 608ms/step - loss: 0.0663 - accuracy: 0.9124 - val_loss: 0.5690 - val_accuracy: 0.6514 - lr: 4.5710e-04\n",
            "Epoch 10/30\n",
            "28/27 [==============================] - 17s 609ms/step - loss: 0.0720 - accuracy: 0.9401 - val_loss: 0.1815 - val_accuracy: 0.7615 - lr: 2.8677e-04\n",
            "Epoch 11/30\n",
            "28/27 [==============================] - 17s 609ms/step - loss: 0.0356 - accuracy: 0.9585 - val_loss: 0.1366 - val_accuracy: 0.8073 - lr: 1.1645e-04\n",
            "Epoch 12/30\n",
            "28/27 [==============================] - 17s 614ms/step - loss: 0.0349 - accuracy: 0.9608 - val_loss: 0.1179 - val_accuracy: 0.8257 - lr: 7.3871e-05\n",
            "Epoch 13/30\n",
            "28/27 [==============================] - 17s 609ms/step - loss: 0.0230 - accuracy: 0.9608 - val_loss: 0.1218 - val_accuracy: 0.8349 - lr: 2.4419e-04\n",
            "Epoch 14/30\n",
            "28/27 [==============================] - 17s 608ms/step - loss: 0.0380 - accuracy: 0.9562 - val_loss: 0.2455 - val_accuracy: 0.7431 - lr: 4.1452e-04\n",
            "Epoch 15/30\n",
            "28/27 [==============================] - 17s 615ms/step - loss: 0.0621 - accuracy: 0.9124 - val_loss: 0.1975 - val_accuracy: 0.7615 - lr: 5.8484e-04\n",
            "Epoch 16/30\n",
            "28/27 [==============================] - 17s 608ms/step - loss: 0.0895 - accuracy: 0.9516 - val_loss: 0.1286 - val_accuracy: 0.8165 - lr: 7.5516e-04\n",
            "Epoch 17/30\n",
            "28/27 [==============================] - 17s 608ms/step - loss: 0.1015 - accuracy: 0.9032 - val_loss: 0.0790 - val_accuracy: 0.8807 - lr: 9.2548e-04\n",
            "Epoch 18/30\n",
            "28/27 [==============================] - 17s 612ms/step - loss: 0.0596 - accuracy: 0.9147 - val_loss: 0.1886 - val_accuracy: 0.8440 - lr: 9.0419e-04\n",
            "Epoch 19/30\n",
            "28/27 [==============================] - 17s 609ms/step - loss: 0.0302 - accuracy: 0.9539 - val_loss: 0.0893 - val_accuracy: 0.8624 - lr: 7.3387e-04\n",
            "Epoch 20/30\n",
            "28/27 [==============================] - 17s 609ms/step - loss: 0.0521 - accuracy: 0.9286 - val_loss: 0.2390 - val_accuracy: 0.8257 - lr: 5.6355e-04\n",
            "Epoch 21/30\n",
            "28/27 [==============================] - 17s 609ms/step - loss: 0.0425 - accuracy: 0.9493 - val_loss: 0.1778 - val_accuracy: 0.7890 - lr: 3.9323e-04\n",
            "Epoch 22/30\n",
            "28/27 [==============================] - 17s 606ms/step - loss: 0.0494 - accuracy: 0.9378 - val_loss: 0.1627 - val_accuracy: 0.8165 - lr: 2.2290e-04\n",
            "Epoch 23/30\n",
            "28/27 [==============================] - 17s 611ms/step - loss: 0.0129 - accuracy: 0.9885 - val_loss: 0.1171 - val_accuracy: 0.8716 - lr: 5.2581e-05\n",
            "Epoch 24/30\n",
            "28/27 [==============================] - 17s 616ms/step - loss: 0.0128 - accuracy: 0.9931 - val_loss: 0.1201 - val_accuracy: 0.8991 - lr: 1.3774e-04\n",
            "Epoch 25/30\n",
            "28/27 [==============================] - 17s 609ms/step - loss: 0.0151 - accuracy: 0.9839 - val_loss: 0.1078 - val_accuracy: 0.8991 - lr: 3.0806e-04\n",
            "Epoch 26/30\n",
            "28/27 [==============================] - 17s 611ms/step - loss: 0.0194 - accuracy: 0.9839 - val_loss: 0.0994 - val_accuracy: 0.9174 - lr: 4.7839e-04\n",
            "Epoch 27/30\n",
            "28/27 [==============================] - 17s 605ms/step - loss: 0.0185 - accuracy: 0.9793 - val_loss: 0.0506 - val_accuracy: 0.9450 - lr: 6.4871e-04\n",
            "Epoch 28/30\n",
            "28/27 [==============================] - 17s 607ms/step - loss: 0.0237 - accuracy: 0.9793 - val_loss: 0.0944 - val_accuracy: 0.8991 - lr: 8.1903e-04\n",
            "Epoch 29/30\n",
            "28/27 [==============================] - 17s 602ms/step - loss: 0.0569 - accuracy: 0.9171 - val_loss: 0.1648 - val_accuracy: 0.8165 - lr: 9.8935e-04\n",
            "Epoch 30/30\n",
            "28/27 [==============================] - 17s 605ms/step - loss: 0.0786 - accuracy: 0.9309 - val_loss: 0.0872 - val_accuracy: 0.8716 - lr: 8.4032e-04\n",
            "13/12 [==============================] - 1s 105ms/step\n",
            "-----------fold 3--------------\n",
            "Found 435 validated image filenames.\n",
            "Found 108 validated image filenames.\n",
            "Found 203 validated image filenames.\n",
            "Epoch 1/30\n",
            "28/27 [==============================] - 20s 719ms/step - loss: 0.1781 - accuracy: 0.5908 - val_loss: 0.1866 - val_accuracy: 0.5185 - lr: 1.7993e-04\n",
            "Epoch 2/30\n",
            "28/27 [==============================] - 17s 618ms/step - loss: 0.1237 - accuracy: 0.7632 - val_loss: 0.2432 - val_accuracy: 0.5278 - lr: 3.4986e-04\n",
            "Epoch 3/30\n",
            "28/27 [==============================] - 17s 615ms/step - loss: 0.0900 - accuracy: 0.8552 - val_loss: 0.4839 - val_accuracy: 0.6019 - lr: 5.1979e-04\n",
            "Epoch 4/30\n",
            "28/27 [==============================] - 17s 615ms/step - loss: 0.1159 - accuracy: 0.8575 - val_loss: 0.1569 - val_accuracy: 0.8148 - lr: 6.8972e-04\n",
            "Epoch 5/30\n",
            "28/27 [==============================] - 17s 619ms/step - loss: 0.1053 - accuracy: 0.8437 - val_loss: 0.1466 - val_accuracy: 0.8241 - lr: 8.5966e-04\n",
            "Epoch 6/30\n",
            "28/27 [==============================] - 17s 617ms/step - loss: 0.0804 - accuracy: 0.8828 - val_loss: 0.5287 - val_accuracy: 0.5833 - lr: 9.7041e-04\n",
            "Epoch 7/30\n",
            "28/27 [==============================] - 17s 619ms/step - loss: 0.0480 - accuracy: 0.9333 - val_loss: 0.3595 - val_accuracy: 0.8519 - lr: 8.0048e-04\n",
            "Epoch 8/30\n",
            "28/27 [==============================] - 17s 611ms/step - loss: 0.0530 - accuracy: 0.9356 - val_loss: 0.3531 - val_accuracy: 0.7870 - lr: 6.3055e-04\n",
            "Epoch 9/30\n",
            "28/27 [==============================] - 17s 618ms/step - loss: 0.0467 - accuracy: 0.9333 - val_loss: 0.3852 - val_accuracy: 0.7778 - lr: 4.6062e-04\n",
            "Epoch 10/30\n",
            "28/27 [==============================] - 17s 618ms/step - loss: 0.0376 - accuracy: 0.9471 - val_loss: 0.4928 - val_accuracy: 0.8056 - lr: 2.9069e-04\n",
            "Epoch 11/30\n",
            "28/27 [==============================] - 17s 615ms/step - loss: 0.0787 - accuracy: 0.9540 - val_loss: 0.3230 - val_accuracy: 0.7963 - lr: 1.2076e-04\n",
            "Epoch 12/30\n",
            "28/27 [==============================] - 17s 612ms/step - loss: 0.0287 - accuracy: 0.9586 - val_loss: 0.2199 - val_accuracy: 0.7500 - lr: 6.9172e-05\n",
            "Epoch 13/30\n",
            "28/27 [==============================] - 17s 613ms/step - loss: 0.0191 - accuracy: 0.9816 - val_loss: 0.2675 - val_accuracy: 0.8148 - lr: 2.3910e-04\n",
            "Epoch 14/30\n",
            "28/27 [==============================] - 17s 615ms/step - loss: 0.0245 - accuracy: 0.9839 - val_loss: 0.3351 - val_accuracy: 0.8148 - lr: 4.0903e-04\n",
            "Epoch 15/30\n",
            "28/27 [==============================] - 17s 616ms/step - loss: 0.0392 - accuracy: 0.9425 - val_loss: 0.5431 - val_accuracy: 0.6944 - lr: 5.7897e-04\n",
            "Epoch 16/30\n",
            "28/27 [==============================] - 17s 616ms/step - loss: 0.0308 - accuracy: 0.9471 - val_loss: 0.1399 - val_accuracy: 0.8704 - lr: 7.4890e-04\n",
            "Epoch 17/30\n",
            "28/27 [==============================] - 17s 615ms/step - loss: 0.0613 - accuracy: 0.9195 - val_loss: 0.0979 - val_accuracy: 0.8519 - lr: 9.1883e-04\n",
            "Epoch 18/30\n",
            "28/27 [==============================] - 17s 613ms/step - loss: 0.0954 - accuracy: 0.8621 - val_loss: 0.1341 - val_accuracy: 0.7685 - lr: 9.1124e-04\n",
            "Epoch 19/30\n",
            "28/27 [==============================] - 17s 621ms/step - loss: 0.0684 - accuracy: 0.9103 - val_loss: 0.0862 - val_accuracy: 0.8519 - lr: 7.4131e-04\n",
            "Epoch 20/30\n",
            "28/27 [==============================] - 17s 620ms/step - loss: 0.0741 - accuracy: 0.9264 - val_loss: 0.0585 - val_accuracy: 0.9074 - lr: 5.7138e-04\n",
            "Epoch 21/30\n",
            "28/27 [==============================] - 17s 618ms/step - loss: 0.0493 - accuracy: 0.9195 - val_loss: 0.0211 - val_accuracy: 0.9537 - lr: 4.0145e-04\n",
            "Epoch 22/30\n",
            "28/27 [==============================] - 17s 619ms/step - loss: 0.0267 - accuracy: 0.9494 - val_loss: 0.0242 - val_accuracy: 0.9444 - lr: 2.3152e-04\n",
            "Epoch 23/30\n",
            "28/27 [==============================] - 17s 621ms/step - loss: 0.0391 - accuracy: 0.9701 - val_loss: 0.0222 - val_accuracy: 0.9630 - lr: 6.1586e-05\n",
            "Epoch 24/30\n",
            "28/27 [==============================] - 17s 616ms/step - loss: 0.0153 - accuracy: 0.9816 - val_loss: 0.0222 - val_accuracy: 0.9630 - lr: 1.2834e-04\n",
            "Epoch 25/30\n",
            "28/27 [==============================] - 17s 614ms/step - loss: 0.0097 - accuracy: 0.9931 - val_loss: 0.0121 - val_accuracy: 0.9907 - lr: 2.9828e-04\n",
            "Epoch 26/30\n",
            "28/27 [==============================] - 17s 613ms/step - loss: 0.0116 - accuracy: 0.9862 - val_loss: 0.0371 - val_accuracy: 0.9537 - lr: 4.6821e-04\n",
            "Epoch 27/30\n",
            "28/27 [==============================] - 17s 613ms/step - loss: 0.0251 - accuracy: 0.9885 - val_loss: 0.0404 - val_accuracy: 0.9352 - lr: 6.3814e-04\n",
            "Epoch 28/30\n",
            "28/27 [==============================] - 17s 616ms/step - loss: 0.0958 - accuracy: 0.9241 - val_loss: 0.0863 - val_accuracy: 0.8889 - lr: 8.0807e-04\n",
            "Epoch 29/30\n",
            "28/27 [==============================] - 17s 616ms/step - loss: 0.0820 - accuracy: 0.9080 - val_loss: 0.0984 - val_accuracy: 0.8611 - lr: 9.7800e-04\n",
            "Epoch 30/30\n",
            "28/27 [==============================] - 17s 616ms/step - loss: 0.0955 - accuracy: 0.8506 - val_loss: 0.1290 - val_accuracy: 0.7593 - lr: 8.5207e-04\n",
            "13/12 [==============================] - 1s 105ms/step\n",
            "-----------fold 4--------------\n",
            "Found 435 validated image filenames.\n",
            "Found 108 validated image filenames.\n",
            "Found 203 validated image filenames.\n",
            "Epoch 1/30\n",
            "28/27 [==============================] - 19s 681ms/step - loss: 0.1724 - accuracy: 0.5816 - val_loss: 0.1877 - val_accuracy: 0.5556 - lr: 1.7993e-04\n",
            "Epoch 2/30\n",
            "28/27 [==============================] - 17s 614ms/step - loss: 0.1415 - accuracy: 0.7448 - val_loss: 0.2010 - val_accuracy: 0.6019 - lr: 3.4986e-04\n",
            "Epoch 3/30\n",
            "28/27 [==============================] - 17s 610ms/step - loss: 0.0951 - accuracy: 0.8391 - val_loss: 0.3033 - val_accuracy: 0.5648 - lr: 5.1979e-04\n",
            "Epoch 4/30\n",
            "28/27 [==============================] - 17s 616ms/step - loss: 0.0921 - accuracy: 0.8621 - val_loss: 0.3658 - val_accuracy: 0.6296 - lr: 6.8972e-04\n",
            "Epoch 5/30\n",
            "28/27 [==============================] - 17s 608ms/step - loss: 0.1233 - accuracy: 0.8138 - val_loss: 1.8261 - val_accuracy: 0.6111 - lr: 8.5966e-04\n",
            "Epoch 6/30\n",
            "28/27 [==============================] - 17s 614ms/step - loss: 0.1019 - accuracy: 0.8529 - val_loss: 0.5762 - val_accuracy: 0.7500 - lr: 9.7041e-04\n",
            "Epoch 7/30\n",
            "28/27 [==============================] - 17s 607ms/step - loss: 0.0948 - accuracy: 0.8782 - val_loss: 0.2135 - val_accuracy: 0.7963 - lr: 8.0048e-04\n",
            "Epoch 8/30\n",
            "28/27 [==============================] - 17s 614ms/step - loss: 0.0845 - accuracy: 0.8529 - val_loss: 0.2644 - val_accuracy: 0.7870 - lr: 6.3055e-04\n",
            "Epoch 9/30\n",
            "28/27 [==============================] - 17s 614ms/step - loss: 0.0776 - accuracy: 0.8989 - val_loss: 0.2947 - val_accuracy: 0.7778 - lr: 4.6062e-04\n",
            "Epoch 10/30\n",
            "28/27 [==============================] - 17s 612ms/step - loss: 0.0569 - accuracy: 0.9517 - val_loss: 0.3150 - val_accuracy: 0.7315 - lr: 2.9069e-04\n",
            "Epoch 11/30\n",
            "28/27 [==============================] - 17s 614ms/step - loss: 0.0499 - accuracy: 0.9356 - val_loss: 0.1546 - val_accuracy: 0.8241 - lr: 1.2076e-04\n",
            "Epoch 12/30\n",
            "28/27 [==============================] - 17s 614ms/step - loss: 0.0477 - accuracy: 0.9356 - val_loss: 0.1889 - val_accuracy: 0.8241 - lr: 6.9172e-05\n",
            "Epoch 13/30\n",
            "28/27 [==============================] - 17s 621ms/step - loss: 0.0439 - accuracy: 0.9563 - val_loss: 0.2645 - val_accuracy: 0.7407 - lr: 2.3910e-04\n",
            "Epoch 14/30\n",
            "28/27 [==============================] - 17s 612ms/step - loss: 0.0466 - accuracy: 0.9563 - val_loss: 0.3359 - val_accuracy: 0.7037 - lr: 4.0903e-04\n",
            "Epoch 15/30\n",
            "28/27 [==============================] - 17s 609ms/step - loss: 0.0314 - accuracy: 0.9655 - val_loss: 0.2360 - val_accuracy: 0.7963 - lr: 5.7897e-04\n",
            "Epoch 16/30\n",
            "28/27 [==============================] - 17s 621ms/step - loss: 0.0378 - accuracy: 0.9310 - val_loss: 0.1252 - val_accuracy: 0.8981 - lr: 7.4890e-04\n",
            "Epoch 17/30\n",
            "28/27 [==============================] - 17s 617ms/step - loss: 0.0271 - accuracy: 0.9632 - val_loss: 0.0751 - val_accuracy: 0.9352 - lr: 9.1883e-04\n",
            "Epoch 18/30\n",
            "28/27 [==============================] - 17s 616ms/step - loss: 0.0538 - accuracy: 0.9517 - val_loss: 0.3746 - val_accuracy: 0.7500 - lr: 9.1124e-04\n",
            "Epoch 19/30\n",
            "28/27 [==============================] - 17s 617ms/step - loss: 0.0837 - accuracy: 0.8736 - val_loss: 0.4605 - val_accuracy: 0.6574 - lr: 7.4131e-04\n",
            "Epoch 20/30\n",
            "28/27 [==============================] - 17s 614ms/step - loss: 0.0475 - accuracy: 0.9310 - val_loss: 0.2121 - val_accuracy: 0.8148 - lr: 5.7138e-04\n",
            "Epoch 21/30\n",
            "28/27 [==============================] - 17s 612ms/step - loss: 0.0523 - accuracy: 0.9379 - val_loss: 0.1585 - val_accuracy: 0.8148 - lr: 4.0145e-04\n",
            "Epoch 22/30\n",
            "28/27 [==============================] - 17s 615ms/step - loss: 0.0318 - accuracy: 0.9540 - val_loss: 0.1878 - val_accuracy: 0.8148 - lr: 2.3152e-04\n",
            "Epoch 23/30\n",
            "28/27 [==============================] - 17s 612ms/step - loss: 0.0154 - accuracy: 0.9770 - val_loss: 0.1138 - val_accuracy: 0.8611 - lr: 6.1586e-05\n",
            "Epoch 24/30\n",
            "28/27 [==============================] - 17s 615ms/step - loss: 0.0320 - accuracy: 0.9816 - val_loss: 0.0947 - val_accuracy: 0.8796 - lr: 1.2834e-04\n",
            "Epoch 25/30\n",
            "28/27 [==============================] - 17s 617ms/step - loss: 0.0195 - accuracy: 0.9862 - val_loss: 0.0843 - val_accuracy: 0.8611 - lr: 2.9828e-04\n",
            "Epoch 26/30\n",
            "28/27 [==============================] - 17s 618ms/step - loss: 0.0292 - accuracy: 0.9839 - val_loss: 0.1435 - val_accuracy: 0.8796 - lr: 4.6821e-04\n",
            "Epoch 27/30\n",
            "28/27 [==============================] - 17s 612ms/step - loss: 0.0514 - accuracy: 0.9310 - val_loss: 0.0703 - val_accuracy: 0.8796 - lr: 6.3814e-04\n",
            "Epoch 28/30\n",
            "28/27 [==============================] - 17s 612ms/step - loss: 0.0388 - accuracy: 0.9563 - val_loss: 0.0573 - val_accuracy: 0.9167 - lr: 8.0807e-04\n",
            "Epoch 29/30\n",
            "28/27 [==============================] - 17s 616ms/step - loss: 0.0269 - accuracy: 0.9701 - val_loss: 0.0254 - val_accuracy: 0.9630 - lr: 9.7800e-04\n",
            "Epoch 30/30\n",
            "28/27 [==============================] - 17s 612ms/step - loss: 0.0332 - accuracy: 0.9609 - val_loss: 0.0840 - val_accuracy: 0.9444 - lr: 8.5207e-04\n",
            "13/12 [==============================] - 1s 107ms/step\n"
          ],
          "name": "stdout"
        }
      ]
    },
    {
      "cell_type": "code",
      "metadata": {
        "id": "BJobcAABrZK4",
        "colab_type": "code",
        "outputId": "c6793e7e-f80e-4336-d686-abf3c1908519",
        "colab": {
          "base_uri": "https://localhost:8080/",
          "height": 35
        }
      },
      "source": [
        "import numpy as np\n",
        "y_mean=np.mean(y_pred,axis=0)\n",
        "y_true=test_df.iloc[:,2::]\n",
        "y_true.shape,y_mean.shape"
      ],
      "execution_count": 24,
      "outputs": [
        {
          "output_type": "execute_result",
          "data": {
            "text/plain": [
              "((203, 2), (203, 2))"
            ]
          },
          "metadata": {
            "tags": []
          },
          "execution_count": 24
        }
      ]
    },
    {
      "cell_type": "code",
      "metadata": {
        "id": "XCphJVfdBm0H",
        "colab_type": "code",
        "outputId": "3171c7de-c691-4b3c-9c87-ee3671fdeed4",
        "colab": {
          "base_uri": "https://localhost:8080/",
          "height": 35
        }
      },
      "source": [
        "y_mean=np.argmax(y_mean,axis=1).ravel()\n",
        "y_true=np.argmax(y_true.values,axis=1).ravel()\n",
        "\n",
        "y_true.shape,y_mean.shape"
      ],
      "execution_count": 25,
      "outputs": [
        {
          "output_type": "execute_result",
          "data": {
            "text/plain": [
              "((203,), (203,))"
            ]
          },
          "metadata": {
            "tags": []
          },
          "execution_count": 25
        }
      ]
    },
    {
      "cell_type": "code",
      "metadata": {
        "id": "ecc-q4ledbtX",
        "colab_type": "code",
        "outputId": "d19eeb5e-61fa-436e-d565-0b7d0a93c440",
        "colab": {
          "base_uri": "https://localhost:8080/",
          "height": 235
        }
      },
      "source": [
        "\n",
        "print(classification_report(y_true, y_mean,target_names=['covid','noncovid']))#\n",
        "print('accuracy',np.round(accuracy_score(y_true,y_mean),2))\n",
        "print('f1 score is ',np.round(f1_score(y_true,y_mean,average='macro'),2))\n",
        "print('auc',np.round(roc_auc_score(y_true,y_mean),2))"
      ],
      "execution_count": 26,
      "outputs": [
        {
          "output_type": "stream",
          "text": [
            "              precision    recall  f1-score   support\n",
            "\n",
            "       covid       0.96      0.82      0.88        98\n",
            "    noncovid       0.85      0.97      0.91       105\n",
            "\n",
            "    accuracy                           0.90       203\n",
            "   macro avg       0.91      0.89      0.90       203\n",
            "weighted avg       0.90      0.90      0.90       203\n",
            "\n",
            "accuracy 0.9\n",
            "f1 score is  0.9\n",
            "auc 0.89\n"
          ],
          "name": "stdout"
        }
      ]
    },
    {
      "cell_type": "code",
      "metadata": {
        "id": "ro8qafwWGVUw",
        "colab_type": "code",
        "outputId": "04009602-0f29-474b-cbb6-f3bbebe7eb74",
        "colab": {
          "base_uri": "https://localhost:8080/",
          "height": 573
        }
      },
      "source": [
        "import matplotlib.pyplot as plt\n",
        "\n",
        "# Plot training & validation accuracy values\n",
        "plt.plot(np.mean([[j for j in x.history['accuracy']] for x in history ],axis=0))\n",
        "plt.plot(np.mean([[j for j in x.history['val_accuracy']] for x in history ],axis=0))\n",
        "plt.title('Model accuracy')\n",
        "plt.ylabel('Accuracy')\n",
        "plt.xlabel('Epoch')\n",
        "plt.legend(['Train', 'Test'], loc='upper left')\n",
        "plt.show()\n",
        "\n",
        "# Plot training & validation loss values\n",
        "plt.plot(np.mean([[j for j in x.history['loss']] for x in history ],axis=0))\n",
        "plt.plot(np.mean([[j for j in x.history['val_loss']] for x in history ],axis=0))\n",
        "plt.title('Model loss')\n",
        "plt.ylabel('Loss')\n",
        "plt.xlabel('Epoch')\n",
        "plt.legend(['Train', 'Test'], loc='upper left')\n",
        "plt.show()"
      ],
      "execution_count": 27,
      "outputs": [
        {
          "output_type": "display_data",
          "data": {
            "image/png": "[encoded data removed]",
            "text/plain": [
              "<Figure size 432x288 with 1 Axes>"
            ]
          },
          "metadata": {
            "tags": [],
            "needs_background": "light"
          }
        },
        {
          "output_type": "display_data",
          "data": {
            "image/png": "[encoded data removed]",
            "text/plain": [
              "<Figure size 432x288 with 1 Axes>"
            ]
          },
          "metadata": {
            "tags": [],
            "needs_background": "light"
          }
        }
      ]
    },
    {
      "cell_type": "code",
      "metadata": {
        "id": "4iBpBbOKKsHl",
        "colab_type": "code",
        "colab": {}
      },
      "source": [
        "history[0].history.keys()"
      ],
      "execution_count": 0,
      "outputs": []
    },
    {
      "cell_type": "code",
      "metadata": {
        "id": "qwwg0V-iI4wg",
        "colab_type": "code",
        "colab": {}
      },
      "source": [
        "# # Plot training & validation loss values\n",
        "# #plt.plot([i.history['lr'] for i in history])\n",
        "# plt.title('Model LR')\n",
        "# plt.ylabel('LR')\n",
        "# plt.xlabel('Epoch')\n",
        "# plt.legend(['LR1','LR2','LR3','LR4','LR5' ], loc='upper left')\n",
        "# plt.show()"
      ],
      "execution_count": 0,
      "outputs": []
    },
    {
      "cell_type": "code",
      "metadata": {
        "id": "cWbbVN8cLGb1",
        "colab_type": "code",
        "outputId": "f4609eca-7cec-4640-e3a9-d6f17ddd7b15",
        "colab": {
          "base_uri": "https://localhost:8080/",
          "height": 295
        }
      },
      "source": [
        "# Plot training & validation loss values\n",
        "for i in range(5):\n",
        "  plt.plot(history[i].history['lr'])\n",
        "plt.title('Model LR')\n",
        "plt.ylabel('LR')\n",
        "plt.xlabel('Epoch')\n",
        "plt.legend(['LR1','LR2','LR3','LR4','LR5' ], loc='upper left')\n",
        "plt.show()"
      ],
      "execution_count": 28,
      "outputs": [
        {
          "output_type": "display_data",
          "data": {
            "image/png": "[encoded data removed]",
            "text/plain": [
              "<Figure size 432x288 with 1 Axes>"
            ]
          },
          "metadata": {
            "tags": [],
            "needs_background": "light"
          }
        }
      ]
    },
    {
      "cell_type": "code",
      "metadata": {
        "id": "vtFhi-VbLa9Y",
        "colab_type": "code",
        "colab": {}
      },
      "source": [
        ""
      ],
      "execution_count": 0,
      "outputs": []
    }
  ]
}