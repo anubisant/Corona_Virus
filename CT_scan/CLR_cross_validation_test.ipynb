{
  "nbformat": 4,
  "nbformat_minor": 0,
  "metadata": {
    "colab": {
      "name": "CLR cross_validation_test.ipynb",
      "provenance": [],
      "toc_visible": true,
      "include_colab_link": true
    },
    "kernelspec": {
      "name": "python3",
      "display_name": "Python 3"
    },
    "accelerator": "GPU"
  },
  "cells": [
    {
      "cell_type": "markdown",
      "metadata": {
        "id": "view-in-github",
        "colab_type": "text"
      },
      "source": [
        "<a href=\"https://colab.research.google.com/github/talhaanwarch/Corona_Virus/blob/master/CT_scan/CLR_cross_validation_test.ipynb\" target=\"_parent\"><img src=\"https://colab.research.google.com/assets/colab-badge.svg\" alt=\"Open In Colab\"/></a>"
      ]
    },
    {
      "cell_type": "code",
      "metadata": {
        "id": "ylMZAGXl7kKx",
        "colab_type": "code",
        "colab": {}
      },
      "source": [
        "%%capture\n",
        "!pip install efficientnet"
      ],
      "execution_count": 0,
      "outputs": []
    },
    {
      "cell_type": "code",
      "metadata": {
        "id": "_d7PdOxl3KJv",
        "colab_type": "code",
        "colab": {}
      },
      "source": [
        "%%capture\n",
        "!pip install focal-loss"
      ],
      "execution_count": 0,
      "outputs": []
    },
    {
      "cell_type": "code",
      "metadata": {
        "id": "KqvtepzCMe8O",
        "colab_type": "code",
        "outputId": "08117543-bb6f-4807-cdff-241358b59cee",
        "colab": {
          "base_uri": "https://localhost:8080/",
          "height": 228
        }
      },
      "source": [
        "!wget https://raw.githubusercontent.com/talhaanwarch/keras-contrib/master/keras_contrib/callbacks/cyclical_learning_rate.py"
      ],
      "execution_count": 3,
      "outputs": [
        {
          "output_type": "stream",
          "text": [
            "--2020-05-09 09:38:53--  https://raw.githubusercontent.com/talhaanwarch/keras-contrib/master/keras_contrib/callbacks/cyclical_learning_rate.py\n",
            "Resolving raw.githubusercontent.com (raw.githubusercontent.com)... 151.101.0.133, 151.101.64.133, 151.101.128.133, ...\n",
            "Connecting to raw.githubusercontent.com (raw.githubusercontent.com)|151.101.0.133|:443... connected.\n",
            "HTTP request sent, awaiting response... 200 OK\n",
            "Length: 5976 (5.8K) [text/plain]\n",
            "Saving to: ‘cyclical_learning_rate.py’\n",
            "\n",
            "\r          cyclical_   0%[                    ]       0  --.-KB/s               \rcyclical_learning_r 100%[===================>]   5.84K  --.-KB/s    in 0s      \n",
            "\n",
            "2020-05-09 09:38:53 (105 MB/s) - ‘cyclical_learning_rate.py’ saved [5976/5976]\n",
            "\n"
          ],
          "name": "stdout"
        }
      ]
    },
    {
      "cell_type": "markdown",
      "metadata": {
        "id": "4FDtv7g97nN8",
        "colab_type": "text"
      },
      "source": [
        "### CLone github repo, to dowlonad data"
      ]
    },
    {
      "cell_type": "code",
      "metadata": {
        "id": "yi2pSQus7JR4",
        "colab_type": "code",
        "outputId": "2f315697-544d-4f95-8448-02d1f8c91822",
        "colab": {
          "base_uri": "https://localhost:8080/",
          "height": 121
        }
      },
      "source": [
        "!git clone https://github.com/UCSD-AI4H/COVID-CT.git"
      ],
      "execution_count": 4,
      "outputs": [
        {
          "output_type": "stream",
          "text": [
            "Cloning into 'COVID-CT'...\n",
            "remote: Enumerating objects: 5443, done.\u001b[K\n",
            "remote: Total 5443 (delta 0), reused 0 (delta 0), pack-reused 5443\u001b[K\n",
            "Receiving objects: 100% (5443/5443), 1.09 GiB | 43.64 MiB/s, done.\n",
            "Resolving deltas: 100% (355/355), done.\n",
            "Checking out files: 100% (1048/1048), done.\n"
          ],
          "name": "stdout"
        }
      ]
    },
    {
      "cell_type": "markdown",
      "metadata": {
        "id": "imIfz2hq7s0m",
        "colab_type": "text"
      },
      "source": [
        "### Extract data in one format"
      ]
    },
    {
      "cell_type": "code",
      "metadata": {
        "id": "6WuO45h57deK",
        "colab_type": "code",
        "colab": {}
      },
      "source": [
        "%%capture\n",
        "!unzip /content/COVID-CT/Images-processed/CT_COVID.zip\n",
        "!unzip /content/COVID-CT/Images-processed/CT_NonCOVID.zip"
      ],
      "execution_count": 0,
      "outputs": []
    },
    {
      "cell_type": "code",
      "metadata": {
        "id": "eJUYRmVS8kJR",
        "colab_type": "code",
        "colab": {}
      },
      "source": [
        "!mkdir images\n",
        "!cp -r /content/CT_COVID/* images\n",
        "!cp -r /content/CT_NonCOVID/* images\n"
      ],
      "execution_count": 0,
      "outputs": []
    },
    {
      "cell_type": "markdown",
      "metadata": {
        "id": "R959Xz4V9GuP",
        "colab_type": "text"
      },
      "source": [
        "###read meta files"
      ]
    },
    {
      "cell_type": "code",
      "metadata": {
        "id": "ZSd1vcC-9Smh",
        "colab_type": "code",
        "colab": {}
      },
      "source": [
        "import pandas as pd\n",
        "import os"
      ],
      "execution_count": 0,
      "outputs": []
    },
    {
      "cell_type": "code",
      "metadata": {
        "id": "Li1uZhmr9Jk2",
        "colab_type": "code",
        "outputId": "52507a77-c8a4-4241-97e6-b8f9a7abad86",
        "colab": {
          "base_uri": "https://localhost:8080/",
          "height": 202
        }
      },
      "source": [
        "covid=os.listdir('/content/CT_COVID')\n",
        "cov=list(zip(covid,['covid']*(len(covid))))\n",
        "covid_df = pd.DataFrame(cov,columns=['file','label']) \n",
        "covid_df.head()"
      ],
      "execution_count": 8,
      "outputs": [
        {
          "output_type": "execute_result",
          "data": {
            "text/html": [
              "<div>\n",
              "<style scoped>\n",
              "    .dataframe tbody tr th:only-of-type {\n",
              "        vertical-align: middle;\n",
              "    }\n",
              "\n",
              "    .dataframe tbody tr th {\n",
              "        vertical-align: top;\n",
              "    }\n",
              "\n",
              "    .dataframe thead th {\n",
              "        text-align: right;\n",
              "    }\n",
              "</style>\n",
              "<table border=\"1\" class=\"dataframe\">\n",
              "  <thead>\n",
              "    <tr style=\"text-align: right;\">\n",
              "      <th></th>\n",
              "      <th>file</th>\n",
              "      <th>label</th>\n",
              "    </tr>\n",
              "  </thead>\n",
              "  <tbody>\n",
              "    <tr>\n",
              "      <th>0</th>\n",
              "      <td>2020.02.10.20021584-p6-52%7.png</td>\n",
              "      <td>covid</td>\n",
              "    </tr>\n",
              "    <tr>\n",
              "      <th>1</th>\n",
              "      <td>2020.03.13.20035212-p23-157.png</td>\n",
              "      <td>covid</td>\n",
              "    </tr>\n",
              "    <tr>\n",
              "      <th>2</th>\n",
              "      <td>2020.02.25.20021568-p23-108%1.png</td>\n",
              "      <td>covid</td>\n",
              "    </tr>\n",
              "    <tr>\n",
              "      <th>3</th>\n",
              "      <td>2020.03.13.20035212-p23-155.png</td>\n",
              "      <td>covid</td>\n",
              "    </tr>\n",
              "    <tr>\n",
              "      <th>4</th>\n",
              "      <td>2020.03.07.20031393-p7-50%2.png</td>\n",
              "      <td>covid</td>\n",
              "    </tr>\n",
              "  </tbody>\n",
              "</table>\n",
              "</div>"
            ],
            "text/plain": [
              "                                file  label\n",
              "0    2020.02.10.20021584-p6-52%7.png  covid\n",
              "1    2020.03.13.20035212-p23-157.png  covid\n",
              "2  2020.02.25.20021568-p23-108%1.png  covid\n",
              "3    2020.03.13.20035212-p23-155.png  covid\n",
              "4    2020.03.07.20031393-p7-50%2.png  covid"
            ]
          },
          "metadata": {
            "tags": []
          },
          "execution_count": 8
        }
      ]
    },
    {
      "cell_type": "code",
      "metadata": {
        "id": "PUrppSTx7Z3f",
        "colab_type": "code",
        "outputId": "b62f090f-4432-4bb8-e40f-a5b446adb1be",
        "colab": {
          "base_uri": "https://localhost:8080/",
          "height": 202
        }
      },
      "source": [
        "noncovid=os.listdir('/content/CT_NonCOVID')\n",
        "noncov=list(zip(noncovid,['noncovid']*(len(noncovid))))\n",
        "noncovid_df = pd.DataFrame(noncov,columns=['file','label']) \n",
        "noncovid_df.head()"
      ],
      "execution_count": 11,
      "outputs": [
        {
          "output_type": "execute_result",
          "data": {
            "text/html": [
              "<div>\n",
              "<style scoped>\n",
              "    .dataframe tbody tr th:only-of-type {\n",
              "        vertical-align: middle;\n",
              "    }\n",
              "\n",
              "    .dataframe tbody tr th {\n",
              "        vertical-align: top;\n",
              "    }\n",
              "\n",
              "    .dataframe thead th {\n",
              "        text-align: right;\n",
              "    }\n",
              "</style>\n",
              "<table border=\"1\" class=\"dataframe\">\n",
              "  <thead>\n",
              "    <tr style=\"text-align: right;\">\n",
              "      <th></th>\n",
              "      <th>file</th>\n",
              "      <th>label</th>\n",
              "    </tr>\n",
              "  </thead>\n",
              "  <tbody>\n",
              "    <tr>\n",
              "      <th>0</th>\n",
              "      <td>584.png</td>\n",
              "      <td>noncovid</td>\n",
              "    </tr>\n",
              "    <tr>\n",
              "      <th>1</th>\n",
              "      <td>662.png</td>\n",
              "      <td>noncovid</td>\n",
              "    </tr>\n",
              "    <tr>\n",
              "      <th>2</th>\n",
              "      <td>1297.png</td>\n",
              "      <td>noncovid</td>\n",
              "    </tr>\n",
              "    <tr>\n",
              "      <th>3</th>\n",
              "      <td>65%3.jpg</td>\n",
              "      <td>noncovid</td>\n",
              "    </tr>\n",
              "    <tr>\n",
              "      <th>4</th>\n",
              "      <td>43%2.jpg</td>\n",
              "      <td>noncovid</td>\n",
              "    </tr>\n",
              "  </tbody>\n",
              "</table>\n",
              "</div>"
            ],
            "text/plain": [
              "       file     label\n",
              "0   584.png  noncovid\n",
              "1   662.png  noncovid\n",
              "2  1297.png  noncovid\n",
              "3  65%3.jpg  noncovid\n",
              "4  43%2.jpg  noncovid"
            ]
          },
          "metadata": {
            "tags": []
          },
          "execution_count": 11
        }
      ]
    },
    {
      "cell_type": "code",
      "metadata": {
        "id": "Tryb2TOv99r4",
        "colab_type": "code",
        "outputId": "369ffe47-9f56-40c7-b941-f78a2517627c",
        "colab": {
          "base_uri": "https://localhost:8080/",
          "height": 202
        }
      },
      "source": [
        "dataframe=pd.concat([covid_df,noncovid_df])\n",
        "dataframe.head()"
      ],
      "execution_count": 12,
      "outputs": [
        {
          "output_type": "execute_result",
          "data": {
            "text/html": [
              "<div>\n",
              "<style scoped>\n",
              "    .dataframe tbody tr th:only-of-type {\n",
              "        vertical-align: middle;\n",
              "    }\n",
              "\n",
              "    .dataframe tbody tr th {\n",
              "        vertical-align: top;\n",
              "    }\n",
              "\n",
              "    .dataframe thead th {\n",
              "        text-align: right;\n",
              "    }\n",
              "</style>\n",
              "<table border=\"1\" class=\"dataframe\">\n",
              "  <thead>\n",
              "    <tr style=\"text-align: right;\">\n",
              "      <th></th>\n",
              "      <th>file</th>\n",
              "      <th>label</th>\n",
              "    </tr>\n",
              "  </thead>\n",
              "  <tbody>\n",
              "    <tr>\n",
              "      <th>0</th>\n",
              "      <td>2020.02.10.20021584-p6-52%7.png</td>\n",
              "      <td>covid</td>\n",
              "    </tr>\n",
              "    <tr>\n",
              "      <th>1</th>\n",
              "      <td>2020.03.13.20035212-p23-157.png</td>\n",
              "      <td>covid</td>\n",
              "    </tr>\n",
              "    <tr>\n",
              "      <th>2</th>\n",
              "      <td>2020.02.25.20021568-p23-108%1.png</td>\n",
              "      <td>covid</td>\n",
              "    </tr>\n",
              "    <tr>\n",
              "      <th>3</th>\n",
              "      <td>2020.03.13.20035212-p23-155.png</td>\n",
              "      <td>covid</td>\n",
              "    </tr>\n",
              "    <tr>\n",
              "      <th>4</th>\n",
              "      <td>2020.03.07.20031393-p7-50%2.png</td>\n",
              "      <td>covid</td>\n",
              "    </tr>\n",
              "  </tbody>\n",
              "</table>\n",
              "</div>"
            ],
            "text/plain": [
              "                                file  label\n",
              "0    2020.02.10.20021584-p6-52%7.png  covid\n",
              "1    2020.03.13.20035212-p23-157.png  covid\n",
              "2  2020.02.25.20021568-p23-108%1.png  covid\n",
              "3    2020.03.13.20035212-p23-155.png  covid\n",
              "4    2020.03.07.20031393-p7-50%2.png  covid"
            ]
          },
          "metadata": {
            "tags": []
          },
          "execution_count": 12
        }
      ]
    },
    {
      "cell_type": "code",
      "metadata": {
        "id": "L9YLBD4e-Gnd",
        "colab_type": "code",
        "outputId": "8548874b-7646-4812-9341-cbe4afd95fe5",
        "colab": {
          "base_uri": "https://localhost:8080/",
          "height": 202
        }
      },
      "source": [
        "df = pd.get_dummies(dataframe['label'])\n",
        "df = pd.concat([dataframe, df], axis=1)\n",
        "df=df.sample(frac=1)\n",
        "df.head()\n"
      ],
      "execution_count": 13,
      "outputs": [
        {
          "output_type": "execute_result",
          "data": {
            "text/html": [
              "<div>\n",
              "<style scoped>\n",
              "    .dataframe tbody tr th:only-of-type {\n",
              "        vertical-align: middle;\n",
              "    }\n",
              "\n",
              "    .dataframe tbody tr th {\n",
              "        vertical-align: top;\n",
              "    }\n",
              "\n",
              "    .dataframe thead th {\n",
              "        text-align: right;\n",
              "    }\n",
              "</style>\n",
              "<table border=\"1\" class=\"dataframe\">\n",
              "  <thead>\n",
              "    <tr style=\"text-align: right;\">\n",
              "      <th></th>\n",
              "      <th>file</th>\n",
              "      <th>label</th>\n",
              "      <th>covid</th>\n",
              "      <th>noncovid</th>\n",
              "    </tr>\n",
              "  </thead>\n",
              "  <tbody>\n",
              "    <tr>\n",
              "      <th>139</th>\n",
              "      <td>2020.03.01.20029769-p21-73_1%1.png</td>\n",
              "      <td>covid</td>\n",
              "      <td>1</td>\n",
              "      <td>0</td>\n",
              "    </tr>\n",
              "    <tr>\n",
              "      <th>49</th>\n",
              "      <td>2020.03.10.20032136-p34-118_2%1.png</td>\n",
              "      <td>covid</td>\n",
              "      <td>1</td>\n",
              "      <td>0</td>\n",
              "    </tr>\n",
              "    <tr>\n",
              "      <th>169</th>\n",
              "      <td>kjr-21-e25-p1-14.png</td>\n",
              "      <td>covid</td>\n",
              "      <td>1</td>\n",
              "      <td>0</td>\n",
              "    </tr>\n",
              "    <tr>\n",
              "      <th>46</th>\n",
              "      <td>2020.03.25.20043166-p17-78.png</td>\n",
              "      <td>covid</td>\n",
              "      <td>1</td>\n",
              "      <td>0</td>\n",
              "    </tr>\n",
              "    <tr>\n",
              "      <th>360</th>\n",
              "      <td>1859.png</td>\n",
              "      <td>noncovid</td>\n",
              "      <td>0</td>\n",
              "      <td>1</td>\n",
              "    </tr>\n",
              "  </tbody>\n",
              "</table>\n",
              "</div>"
            ],
            "text/plain": [
              "                                    file     label  covid  noncovid\n",
              "139   2020.03.01.20029769-p21-73_1%1.png     covid      1         0\n",
              "49   2020.03.10.20032136-p34-118_2%1.png     covid      1         0\n",
              "169                 kjr-21-e25-p1-14.png     covid      1         0\n",
              "46        2020.03.25.20043166-p17-78.png     covid      1         0\n",
              "360                             1859.png  noncovid      0         1"
            ]
          },
          "metadata": {
            "tags": []
          },
          "execution_count": 13
        }
      ]
    },
    {
      "cell_type": "markdown",
      "metadata": {
        "id": "klH5y0SbVWKx",
        "colab_type": "text"
      },
      "source": [
        "#### TEST DATA"
      ]
    },
    {
      "cell_type": "code",
      "metadata": {
        "id": "sQtp3QAt-POe",
        "colab_type": "code",
        "outputId": "58afcb58-6ccb-431e-ca4f-6468a940341b",
        "colab": {
          "base_uri": "https://localhost:8080/",
          "height": 35
        }
      },
      "source": [
        "covid_test=pd.read_csv('/content/COVID-CT/Data-split/COVID/testCT_COVID.txt',header=None,squeeze=True).tolist()\n",
        "noncovid_test=pd.read_csv('/content/COVID-CT/Data-split/NonCOVID/testCT_NonCOVID.txt',header=None,squeeze=True).tolist()\n",
        "test=covid_test+noncovid_test\n",
        "len(test)"
      ],
      "execution_count": 14,
      "outputs": [
        {
          "output_type": "execute_result",
          "data": {
            "text/plain": [
              "203"
            ]
          },
          "metadata": {
            "tags": []
          },
          "execution_count": 14
        }
      ]
    },
    {
      "cell_type": "code",
      "metadata": {
        "id": "M3vJ-sCcaeQm",
        "colab_type": "code",
        "outputId": "73134709-d8cb-44a9-812c-3056b157d7a0",
        "colab": {
          "base_uri": "https://localhost:8080/",
          "height": 35
        }
      },
      "source": [
        "len(test),len(covid_test),len(noncovid_test)"
      ],
      "execution_count": 15,
      "outputs": [
        {
          "output_type": "execute_result",
          "data": {
            "text/plain": [
              "(203, 98, 105)"
            ]
          },
          "metadata": {
            "tags": []
          },
          "execution_count": 15
        }
      ]
    },
    {
      "cell_type": "code",
      "metadata": {
        "id": "JRUWC9sKV5G8",
        "colab_type": "code",
        "colab": {}
      },
      "source": [
        "test_df=df[df['file'].isin(test)]\n",
        "train_df=df[~df['file'].isin(test)]"
      ],
      "execution_count": 0,
      "outputs": []
    },
    {
      "cell_type": "code",
      "metadata": {
        "id": "KUuvqVvSaA-S",
        "colab_type": "code",
        "outputId": "97c620fc-11e8-4f76-b1a1-12d4d8db38ec",
        "colab": {
          "base_uri": "https://localhost:8080/",
          "height": 35
        }
      },
      "source": [
        "len(df),len(train_df),len(test_df)"
      ],
      "execution_count": 17,
      "outputs": [
        {
          "output_type": "execute_result",
          "data": {
            "text/plain": [
              "(746, 543, 203)"
            ]
          },
          "metadata": {
            "tags": []
          },
          "execution_count": 17
        }
      ]
    },
    {
      "cell_type": "markdown",
      "metadata": {
        "id": "oOXgCH8l-bqZ",
        "colab_type": "text"
      },
      "source": [
        "### Data generator"
      ]
    },
    {
      "cell_type": "code",
      "metadata": {
        "id": "CzTlWxDb-c9N",
        "colab_type": "code",
        "colab": {}
      },
      "source": [
        "from keras_preprocessing.image import ImageDataGenerator\n",
        "data_gen= ImageDataGenerator(\n",
        "    horizontal_flip=True,\n",
        "    vertical_flip=True,\n",
        "    #rotation_range=360,\n",
        "    #width_shift_range=0.2,\n",
        "    #height_shift_range=0.2,\n",
        "    #zoom_range=.2,\n",
        "    rescale=1/255,\n",
        "    fill_mode='nearest',\n",
        "    #shear_range=0.2,\n",
        "    #brightness_range=[0.2, 2.0],\n",
        "    )"
      ],
      "execution_count": 0,
      "outputs": []
    },
    {
      "cell_type": "code",
      "metadata": {
        "id": "gZ8ZMeKI-gQu",
        "colab_type": "code",
        "colab": {}
      },
      "source": [
        "from tensorflow.keras.models import Sequential,Model\n",
        "from tensorflow.keras.layers import Activation, Dropout, Flatten, Dense, Conv2D, MaxPool2D, BatchNormalization,Input,MaxPooling2D,GlobalMaxPooling2D,concatenate\n",
        "from tensorflow.keras.layers import GlobalAveragePooling2D\n",
        "from tensorflow.keras.applications.resnet50 import ResNet50\n",
        "from tensorflow.keras.callbacks import ModelCheckpoint,ReduceLROnPlateau\n",
        "from tensorflow.keras.optimizers import Adam\n",
        "import tensorflow.keras.backend as K\n",
        "import tensorflow as tf"
      ],
      "execution_count": 0,
      "outputs": []
    },
    {
      "cell_type": "markdown",
      "metadata": {
        "id": "rdSPz3Ru-VgF",
        "colab_type": "text"
      },
      "source": [
        "#Train model"
      ]
    },
    {
      "cell_type": "code",
      "metadata": {
        "id": "BfiKa4qr-rjv",
        "colab_type": "code",
        "colab": {}
      },
      "source": [
        "img_shape=348\n",
        "batch_size=16"
      ],
      "execution_count": 0,
      "outputs": []
    },
    {
      "cell_type": "code",
      "metadata": {
        "id": "TuxqMnUnM9P1",
        "colab_type": "code",
        "colab": {}
      },
      "source": [
        "from cyclical_learning_rate import CyclicLR\n"
      ],
      "execution_count": 0,
      "outputs": []
    },
    {
      "cell_type": "code",
      "metadata": {
        "id": "d_omSkY2-W0d",
        "colab_type": "code",
        "outputId": "ad3f0d14-e3d9-43f4-98b5-8289d5bb8e3d",
        "colab": {
          "base_uri": "https://localhost:8080/",
          "height": 1000
        }
      },
      "source": [
        "from sklearn.model_selection import KFold\n",
        "import gc\n",
        "from focal_loss import BinaryFocalLoss\n",
        "from sklearn.metrics import classification_report,accuracy_score,f1_score,roc_auc_score\n",
        "classification_reports=[]\n",
        "kf = KFold(n_splits=5)\n",
        "history=[]\n",
        "accuracy=[]\n",
        "f1_scores=[]\n",
        "auc=[]\n",
        "y_pred=[]\n",
        "fold=0\n",
        "for train_index, test_index in kf.split(train_df):\n",
        "  train=train_df.iloc[train_index,:]\n",
        "  val=train_df.iloc[test_index,:]\n",
        "  print('-----------fold {}--------------'.format(fold))\n",
        "  train_generator=data_gen.flow_from_dataframe(train,directory='images',\n",
        "                                                      target_size=(img_shape,img_shape),\n",
        "                                                      x_col=\"file\",\n",
        "                                                      y_col=['covid','noncovid'],\n",
        "                                                      class_mode='raw',\n",
        "                                                      shuffle=True,\n",
        "                                                      batch_size=batch_size)\n",
        "\n",
        "  val_generator=data_gen.flow_from_dataframe(val,directory='images',\n",
        "                                                        target_size=(img_shape,img_shape),\n",
        "                                                        x_col=\"file\",\n",
        "                                                        y_col=['covid','noncovid'],\n",
        "                                                        class_mode='raw',\n",
        "                                                        shuffle=False,\n",
        "                                                        batch_size=batch_size)\n",
        "  \n",
        "  test_generator=data_gen.flow_from_dataframe(test_df,directory='images',\n",
        "                                                      target_size=(img_shape,img_shape),\n",
        "                                                      x_col=\"file\",\n",
        "                                                      y_col=['covid','noncovid'],\n",
        "                                                      class_mode='raw',\n",
        "                                                      shuffle=False,\n",
        "                                                      batch_size=batch_size)\n",
        "  #train_generator.next()[0].shape,train_generator.next()[1].shape\n",
        "  import efficientnet.tfkeras as efn\n",
        "  model =efn.EfficientNetB4(weights ='noisy-student', include_top=False, input_shape = (img_shape,img_shape,3))\n",
        "    \n",
        "  x = model.output\n",
        "  x = GlobalAveragePooling2D()(x)\n",
        "  #x = Dropout(0.3)(x)\n",
        "  #x = Dense(128, activation=\"relu\")(x)\n",
        "  #x = Dropout(0.3)(x)\n",
        "  #x = Dense(64, activation=\"relu\")(x)\n",
        "  predictions = Dense(2, activation=\"softmax\")(x)\n",
        "  model = Model(inputs=model.input, outputs=predictions)\n",
        "\n",
        "\n",
        "  model.compile(optimizer=Adam(0.001), loss=BinaryFocalLoss(gamma=2), metrics=['accuracy'])\n",
        "\n",
        "  results = model.fit(train_generator,epochs=25,\n",
        "                              steps_per_epoch=train_generator.n/batch_size,\n",
        "                              validation_data=val_generator,\n",
        "                             validation_steps=val_generator.n/batch_size,\n",
        "                              callbacks=[\n",
        "                                         #ReduceLROnPlateau(monitor='val_loss', factor=0.5,patience=3, min_lr=0.000001),\n",
        "                                         CyclicLR(base_lr=1e-5,max_lr=1e-3,step_size=(6*train_generator.n/batch_size))\n",
        "                                         ])\n",
        "  #model.load_weights('model_{}.hdf5'.format(fold))\n",
        "  test_generator.reset()\n",
        "  y_pred.append(model.predict(test_generator,steps=test_generator.n/batch_size,verbose=1))\n",
        "  history.append(results)\n",
        "\n",
        "  \n",
        "  fold+=1\n",
        "  del model\n",
        "  tf.keras.backend.clear_session()\n",
        "  gc.collect()"
      ],
      "execution_count": 20,
      "outputs": [
        {
          "output_type": "stream",
          "text": [
            "-----------fold 0--------------\n",
            "Found 434 validated image filenames.\n",
            "Found 109 validated image filenames.\n",
            "Found 203 validated image filenames.\n",
            "Downloading data from https://github.com/qubvel/efficientnet/releases/download/v0.0.1/efficientnet-b4_noisy-student_notop.h5\n",
            "71680000/71678424 [==============================] - 2s 0us/step\n",
            "Epoch 1/25\n",
            "28/27 [==============================] - 20s 726ms/step - loss: 0.1800 - accuracy: 0.5876 - val_loss: 0.1687 - val_accuracy: 0.6147 - lr: 1.8032e-04\n",
            "Epoch 2/25\n",
            "28/27 [==============================] - 17s 607ms/step - loss: 0.1138 - accuracy: 0.8041 - val_loss: 0.2720 - val_accuracy: 0.5321 - lr: 3.5065e-04\n",
            "Epoch 3/25\n",
            "28/27 [==============================] - 17s 610ms/step - loss: 0.0933 - accuracy: 0.8548 - val_loss: 0.1605 - val_accuracy: 0.7248 - lr: 5.2097e-04\n",
            "Epoch 4/25\n",
            "28/27 [==============================] - 17s 608ms/step - loss: 0.0888 - accuracy: 0.8756 - val_loss: 0.9005 - val_accuracy: 0.4954 - lr: 6.9129e-04\n",
            "Epoch 5/25\n",
            "28/27 [==============================] - 17s 617ms/step - loss: 0.0953 - accuracy: 0.8618 - val_loss: 0.2149 - val_accuracy: 0.7064 - lr: 8.6161e-04\n",
            "Epoch 6/25\n",
            "28/27 [==============================] - 17s 618ms/step - loss: 0.1369 - accuracy: 0.7834 - val_loss: 0.2123 - val_accuracy: 0.7064 - lr: 9.6806e-04\n",
            "Epoch 7/25\n",
            "28/27 [==============================] - 17s 613ms/step - loss: 0.1100 - accuracy: 0.7972 - val_loss: 0.2690 - val_accuracy: 0.7156 - lr: 7.9774e-04\n",
            "Epoch 8/25\n",
            "28/27 [==============================] - 17s 617ms/step - loss: 0.0508 - accuracy: 0.9263 - val_loss: 0.3134 - val_accuracy: 0.7339 - lr: 6.2742e-04\n",
            "Epoch 9/25\n",
            "28/27 [==============================] - 17s 604ms/step - loss: 0.0967 - accuracy: 0.8710 - val_loss: 0.1190 - val_accuracy: 0.8165 - lr: 4.5710e-04\n",
            "Epoch 10/25\n",
            "28/27 [==============================] - 17s 613ms/step - loss: 0.0365 - accuracy: 0.9355 - val_loss: 0.4493 - val_accuracy: 0.6881 - lr: 2.8677e-04\n",
            "Epoch 11/25\n",
            "28/27 [==============================] - 17s 617ms/step - loss: 0.0415 - accuracy: 0.9309 - val_loss: 0.2146 - val_accuracy: 0.7890 - lr: 1.1645e-04\n",
            "Epoch 12/25\n",
            "28/27 [==============================] - 17s 613ms/step - loss: 0.0361 - accuracy: 0.9493 - val_loss: 0.1896 - val_accuracy: 0.7890 - lr: 7.3871e-05\n",
            "Epoch 13/25\n",
            "28/27 [==============================] - 17s 606ms/step - loss: 0.0279 - accuracy: 0.9631 - val_loss: 0.1272 - val_accuracy: 0.8624 - lr: 2.4419e-04\n",
            "Epoch 14/25\n",
            "28/27 [==============================] - 17s 605ms/step - loss: 0.0185 - accuracy: 0.9839 - val_loss: 0.1097 - val_accuracy: 0.9174 - lr: 4.1452e-04\n",
            "Epoch 15/25\n",
            "28/27 [==============================] - 17s 615ms/step - loss: 0.0192 - accuracy: 0.9700 - val_loss: 0.0475 - val_accuracy: 0.9083 - lr: 5.8484e-04\n",
            "Epoch 16/25\n",
            "28/27 [==============================] - 17s 618ms/step - loss: 0.0750 - accuracy: 0.8848 - val_loss: 0.2417 - val_accuracy: 0.7248 - lr: 7.5516e-04\n",
            "Epoch 17/25\n",
            "28/27 [==============================] - 17s 611ms/step - loss: 0.0579 - accuracy: 0.9124 - val_loss: 0.1083 - val_accuracy: 0.8899 - lr: 9.2548e-04\n",
            "Epoch 18/25\n",
            "28/27 [==============================] - 17s 609ms/step - loss: 0.0559 - accuracy: 0.9240 - val_loss: 0.1781 - val_accuracy: 0.8349 - lr: 9.0419e-04\n",
            "Epoch 19/25\n",
            "28/27 [==============================] - 17s 615ms/step - loss: 0.0690 - accuracy: 0.9032 - val_loss: 0.1775 - val_accuracy: 0.8807 - lr: 7.3387e-04\n",
            "Epoch 20/25\n",
            "28/27 [==============================] - 17s 616ms/step - loss: 0.0567 - accuracy: 0.9401 - val_loss: 0.1509 - val_accuracy: 0.8624 - lr: 5.6355e-04\n",
            "Epoch 21/25\n",
            "28/27 [==============================] - 17s 606ms/step - loss: 0.0325 - accuracy: 0.9631 - val_loss: 0.0266 - val_accuracy: 0.9541 - lr: 3.9323e-04\n",
            "Epoch 22/25\n",
            "28/27 [==============================] - 17s 623ms/step - loss: 0.0183 - accuracy: 0.9747 - val_loss: 0.0237 - val_accuracy: 0.9725 - lr: 2.2290e-04\n",
            "Epoch 23/25\n",
            "28/27 [==============================] - 17s 613ms/step - loss: 0.0247 - accuracy: 0.9677 - val_loss: 0.0282 - val_accuracy: 0.9541 - lr: 5.2581e-05\n",
            "Epoch 24/25\n",
            "28/27 [==============================] - 17s 613ms/step - loss: 0.0211 - accuracy: 0.9816 - val_loss: 0.0222 - val_accuracy: 0.9725 - lr: 1.3774e-04\n",
            "Epoch 25/25\n",
            "28/27 [==============================] - 17s 618ms/step - loss: 0.0157 - accuracy: 0.9862 - val_loss: 0.0340 - val_accuracy: 0.9450 - lr: 3.0806e-04\n",
            "13/12 [==============================] - 2s 131ms/step\n",
            "-----------fold 1--------------\n",
            "Found 434 validated image filenames.\n",
            "Found 109 validated image filenames.\n",
            "Found 203 validated image filenames.\n",
            "Epoch 1/25\n",
            "28/27 [==============================] - 19s 693ms/step - loss: 0.1724 - accuracy: 0.6129 - val_loss: 0.1961 - val_accuracy: 0.5321 - lr: 1.8032e-04\n",
            "Epoch 2/25\n",
            "28/27 [==============================] - 17s 617ms/step - loss: 0.1071 - accuracy: 0.7903 - val_loss: 0.1654 - val_accuracy: 0.6606 - lr: 3.5065e-04\n",
            "Epoch 3/25\n",
            "28/27 [==============================] - 17s 618ms/step - loss: 0.1088 - accuracy: 0.8502 - val_loss: 0.2161 - val_accuracy: 0.6881 - lr: 5.2097e-04\n",
            "Epoch 4/25\n",
            "28/27 [==============================] - 17s 613ms/step - loss: 0.0864 - accuracy: 0.8571 - val_loss: 0.1727 - val_accuracy: 0.7706 - lr: 6.9129e-04\n",
            "Epoch 5/25\n",
            "28/27 [==============================] - 17s 623ms/step - loss: 0.0868 - accuracy: 0.8756 - val_loss: 0.1479 - val_accuracy: 0.6881 - lr: 8.6161e-04\n",
            "Epoch 6/25\n",
            "28/27 [==============================] - 17s 617ms/step - loss: 0.1240 - accuracy: 0.8295 - val_loss: 0.1051 - val_accuracy: 0.8073 - lr: 9.6806e-04\n",
            "Epoch 7/25\n",
            "28/27 [==============================] - 17s 618ms/step - loss: 0.1123 - accuracy: 0.8364 - val_loss: 0.1020 - val_accuracy: 0.8257 - lr: 7.9774e-04\n",
            "Epoch 8/25\n",
            "28/27 [==============================] - 17s 615ms/step - loss: 0.0962 - accuracy: 0.8226 - val_loss: 0.2640 - val_accuracy: 0.7064 - lr: 6.2742e-04\n",
            "Epoch 9/25\n",
            "28/27 [==============================] - 17s 612ms/step - loss: 0.0559 - accuracy: 0.9147 - val_loss: 0.3601 - val_accuracy: 0.6972 - lr: 4.5710e-04\n",
            "Epoch 10/25\n",
            "28/27 [==============================] - 17s 619ms/step - loss: 0.0548 - accuracy: 0.9194 - val_loss: 0.2733 - val_accuracy: 0.6881 - lr: 2.8677e-04\n",
            "Epoch 11/25\n",
            "28/27 [==============================] - 17s 615ms/step - loss: 0.0438 - accuracy: 0.9378 - val_loss: 0.1959 - val_accuracy: 0.7706 - lr: 1.1645e-04\n",
            "Epoch 12/25\n",
            "28/27 [==============================] - 17s 623ms/step - loss: 0.0287 - accuracy: 0.9654 - val_loss: 0.1873 - val_accuracy: 0.7798 - lr: 7.3871e-05\n",
            "Epoch 13/25\n",
            "28/27 [==============================] - 17s 608ms/step - loss: 0.0329 - accuracy: 0.9562 - val_loss: 0.1356 - val_accuracy: 0.8532 - lr: 2.4419e-04\n",
            "Epoch 14/25\n",
            "28/27 [==============================] - 17s 617ms/step - loss: 0.0446 - accuracy: 0.9424 - val_loss: 0.1159 - val_accuracy: 0.8899 - lr: 4.1452e-04\n",
            "Epoch 15/25\n",
            "28/27 [==============================] - 17s 615ms/step - loss: 0.0186 - accuracy: 0.9700 - val_loss: 0.2129 - val_accuracy: 0.8532 - lr: 5.8484e-04\n",
            "Epoch 16/25\n",
            "28/27 [==============================] - 17s 613ms/step - loss: 0.0268 - accuracy: 0.9608 - val_loss: 0.0936 - val_accuracy: 0.8991 - lr: 7.5516e-04\n",
            "Epoch 17/25\n",
            "28/27 [==============================] - 17s 616ms/step - loss: 0.0590 - accuracy: 0.9194 - val_loss: 0.0565 - val_accuracy: 0.9358 - lr: 9.2548e-04\n",
            "Epoch 18/25\n",
            "28/27 [==============================] - 17s 612ms/step - loss: 0.1104 - accuracy: 0.8387 - val_loss: 0.3094 - val_accuracy: 0.7064 - lr: 9.0419e-04\n",
            "Epoch 19/25\n",
            "28/27 [==============================] - 17s 619ms/step - loss: 0.0321 - accuracy: 0.9516 - val_loss: 0.5201 - val_accuracy: 0.7890 - lr: 7.3387e-04\n",
            "Epoch 20/25\n",
            "28/27 [==============================] - 17s 613ms/step - loss: 0.0452 - accuracy: 0.9470 - val_loss: 0.0397 - val_accuracy: 0.9450 - lr: 5.6355e-04\n",
            "Epoch 21/25\n",
            "28/27 [==============================] - 17s 623ms/step - loss: 0.0789 - accuracy: 0.8779 - val_loss: 0.1557 - val_accuracy: 0.7982 - lr: 3.9323e-04\n",
            "Epoch 22/25\n",
            "28/27 [==============================] - 17s 614ms/step - loss: 0.0422 - accuracy: 0.9585 - val_loss: 0.0929 - val_accuracy: 0.9174 - lr: 2.2290e-04\n",
            "Epoch 23/25\n",
            "28/27 [==============================] - 17s 615ms/step - loss: 0.0226 - accuracy: 0.9770 - val_loss: 0.0360 - val_accuracy: 0.9266 - lr: 5.2581e-05\n",
            "Epoch 24/25\n",
            "28/27 [==============================] - 17s 622ms/step - loss: 0.0212 - accuracy: 0.9747 - val_loss: 0.0288 - val_accuracy: 0.9541 - lr: 1.3774e-04\n",
            "Epoch 25/25\n",
            "28/27 [==============================] - 17s 621ms/step - loss: 0.0260 - accuracy: 0.9631 - val_loss: 0.0654 - val_accuracy: 0.9358 - lr: 3.0806e-04\n",
            "13/12 [==============================] - 1s 109ms/step\n",
            "-----------fold 2--------------\n",
            "Found 434 validated image filenames.\n",
            "Found 109 validated image filenames.\n",
            "Found 203 validated image filenames.\n",
            "Epoch 1/25\n",
            "28/27 [==============================] - 19s 677ms/step - loss: 0.1735 - accuracy: 0.5945 - val_loss: 0.3987 - val_accuracy: 0.5138 - lr: 1.8032e-04\n",
            "Epoch 2/25\n",
            "28/27 [==============================] - 17s 615ms/step - loss: 0.1165 - accuracy: 0.7972 - val_loss: 0.5480 - val_accuracy: 0.5138 - lr: 3.5065e-04\n",
            "Epoch 3/25\n",
            "28/27 [==============================] - 17s 610ms/step - loss: 0.0679 - accuracy: 0.9032 - val_loss: 1.8739 - val_accuracy: 0.5229 - lr: 5.2097e-04\n",
            "Epoch 4/25\n",
            "28/27 [==============================] - 17s 608ms/step - loss: 0.1363 - accuracy: 0.8249 - val_loss: 0.4728 - val_accuracy: 0.6055 - lr: 6.9129e-04\n",
            "Epoch 5/25\n",
            "28/27 [==============================] - 17s 609ms/step - loss: 0.0939 - accuracy: 0.8548 - val_loss: 0.4390 - val_accuracy: 0.6697 - lr: 8.6161e-04\n",
            "Epoch 6/25\n",
            "28/27 [==============================] - 17s 609ms/step - loss: 0.0753 - accuracy: 0.9032 - val_loss: 0.6960 - val_accuracy: 0.6239 - lr: 9.6806e-04\n",
            "Epoch 7/25\n",
            "28/27 [==============================] - 17s 607ms/step - loss: 0.0926 - accuracy: 0.8664 - val_loss: 0.1580 - val_accuracy: 0.6972 - lr: 7.9774e-04\n",
            "Epoch 8/25\n",
            "28/27 [==============================] - 17s 609ms/step - loss: 0.0510 - accuracy: 0.9378 - val_loss: 0.1941 - val_accuracy: 0.7798 - lr: 6.2742e-04\n",
            "Epoch 9/25\n",
            "28/27 [==============================] - 17s 609ms/step - loss: 0.0935 - accuracy: 0.8756 - val_loss: 0.1224 - val_accuracy: 0.7248 - lr: 4.5710e-04\n",
            "Epoch 10/25\n",
            "28/27 [==============================] - 17s 613ms/step - loss: 0.0561 - accuracy: 0.9263 - val_loss: 0.1485 - val_accuracy: 0.8165 - lr: 2.8677e-04\n",
            "Epoch 11/25\n",
            "28/27 [==============================] - 17s 610ms/step - loss: 0.0277 - accuracy: 0.9585 - val_loss: 0.1830 - val_accuracy: 0.8257 - lr: 1.1645e-04\n",
            "Epoch 12/25\n",
            "28/27 [==============================] - 17s 608ms/step - loss: 0.0248 - accuracy: 0.9654 - val_loss: 0.2104 - val_accuracy: 0.7431 - lr: 7.3871e-05\n",
            "Epoch 13/25\n",
            "28/27 [==============================] - 17s 620ms/step - loss: 0.0291 - accuracy: 0.9562 - val_loss: 0.1962 - val_accuracy: 0.7982 - lr: 2.4419e-04\n",
            "Epoch 14/25\n",
            "28/27 [==============================] - 17s 617ms/step - loss: 0.0222 - accuracy: 0.9700 - val_loss: 0.2122 - val_accuracy: 0.8073 - lr: 4.1452e-04\n",
            "Epoch 15/25\n",
            "28/27 [==============================] - 17s 607ms/step - loss: 0.0288 - accuracy: 0.9585 - val_loss: 0.1931 - val_accuracy: 0.8532 - lr: 5.8484e-04\n",
            "Epoch 16/25\n",
            "28/27 [==============================] - 17s 604ms/step - loss: 0.0248 - accuracy: 0.9631 - val_loss: 0.1160 - val_accuracy: 0.8532 - lr: 7.5516e-04\n",
            "Epoch 17/25\n",
            "28/27 [==============================] - 17s 606ms/step - loss: 0.0185 - accuracy: 0.9816 - val_loss: 0.2119 - val_accuracy: 0.8807 - lr: 9.2548e-04\n",
            "Epoch 18/25\n",
            "28/27 [==============================] - 17s 615ms/step - loss: 0.0565 - accuracy: 0.9263 - val_loss: 1.2928 - val_accuracy: 0.6422 - lr: 9.0419e-04\n",
            "Epoch 19/25\n",
            "28/27 [==============================] - 17s 614ms/step - loss: 0.0828 - accuracy: 0.8802 - val_loss: 0.9061 - val_accuracy: 0.7615 - lr: 7.3387e-04\n",
            "Epoch 20/25\n",
            "28/27 [==============================] - 17s 615ms/step - loss: 0.1074 - accuracy: 0.7995 - val_loss: 0.4353 - val_accuracy: 0.6789 - lr: 5.6355e-04\n",
            "Epoch 21/25\n",
            "28/27 [==============================] - 17s 612ms/step - loss: 0.0528 - accuracy: 0.9194 - val_loss: 0.4925 - val_accuracy: 0.7339 - lr: 3.9323e-04\n",
            "Epoch 22/25\n",
            "28/27 [==============================] - 17s 606ms/step - loss: 0.0411 - accuracy: 0.9401 - val_loss: 0.1744 - val_accuracy: 0.8624 - lr: 2.2290e-04\n",
            "Epoch 23/25\n",
            "28/27 [==============================] - 17s 607ms/step - loss: 0.0259 - accuracy: 0.9585 - val_loss: 0.2152 - val_accuracy: 0.8440 - lr: 5.2581e-05\n",
            "Epoch 24/25\n",
            "28/27 [==============================] - 17s 612ms/step - loss: 0.0374 - accuracy: 0.9654 - val_loss: 0.1556 - val_accuracy: 0.8440 - lr: 1.3774e-04\n",
            "Epoch 25/25\n",
            "28/27 [==============================] - 17s 618ms/step - loss: 0.0278 - accuracy: 0.9654 - val_loss: 0.1467 - val_accuracy: 0.8532 - lr: 3.0806e-04\n",
            "13/12 [==============================] - 1s 107ms/step\n",
            "-----------fold 3--------------\n",
            "Found 435 validated image filenames.\n",
            "Found 108 validated image filenames.\n",
            "Found 203 validated image filenames.\n",
            "Epoch 1/25\n",
            "28/27 [==============================] - 21s 747ms/step - loss: 0.1727 - accuracy: 0.6138 - val_loss: 0.1812 - val_accuracy: 0.5278 - lr: 1.7993e-04\n",
            "Epoch 2/25\n",
            "28/27 [==============================] - 17s 618ms/step - loss: 0.1160 - accuracy: 0.7701 - val_loss: 0.1472 - val_accuracy: 0.6481 - lr: 3.4986e-04\n",
            "Epoch 3/25\n",
            "28/27 [==============================] - 17s 610ms/step - loss: 0.0988 - accuracy: 0.8575 - val_loss: 0.1068 - val_accuracy: 0.8056 - lr: 5.1979e-04\n",
            "Epoch 4/25\n",
            "28/27 [==============================] - 17s 619ms/step - loss: 0.1052 - accuracy: 0.8483 - val_loss: 0.1965 - val_accuracy: 0.6574 - lr: 6.8972e-04\n",
            "Epoch 5/25\n",
            "28/27 [==============================] - 17s 620ms/step - loss: 0.0800 - accuracy: 0.8966 - val_loss: 0.1334 - val_accuracy: 0.8056 - lr: 8.5966e-04\n",
            "Epoch 6/25\n",
            "28/27 [==============================] - 17s 624ms/step - loss: 0.1084 - accuracy: 0.8598 - val_loss: 0.2256 - val_accuracy: 0.6944 - lr: 9.7041e-04\n",
            "Epoch 7/25\n",
            "28/27 [==============================] - 17s 618ms/step - loss: 0.0959 - accuracy: 0.8506 - val_loss: 0.4442 - val_accuracy: 0.5463 - lr: 8.0048e-04\n",
            "Epoch 8/25\n",
            "28/27 [==============================] - 17s 624ms/step - loss: 0.0987 - accuracy: 0.8460 - val_loss: 0.7261 - val_accuracy: 0.5926 - lr: 6.3055e-04\n",
            "Epoch 9/25\n",
            "28/27 [==============================] - 17s 622ms/step - loss: 0.0435 - accuracy: 0.9379 - val_loss: 0.6046 - val_accuracy: 0.6944 - lr: 4.6062e-04\n",
            "Epoch 10/25\n",
            "28/27 [==============================] - 17s 616ms/step - loss: 0.0428 - accuracy: 0.9586 - val_loss: 0.2696 - val_accuracy: 0.8056 - lr: 2.9069e-04\n",
            "Epoch 11/25\n",
            "28/27 [==============================] - 17s 620ms/step - loss: 0.0197 - accuracy: 0.9839 - val_loss: 0.1583 - val_accuracy: 0.8148 - lr: 1.2076e-04\n",
            "Epoch 12/25\n",
            "28/27 [==============================] - 17s 618ms/step - loss: 0.0204 - accuracy: 0.9793 - val_loss: 0.0745 - val_accuracy: 0.8796 - lr: 6.9172e-05\n",
            "Epoch 13/25\n",
            "28/27 [==============================] - 17s 624ms/step - loss: 0.0116 - accuracy: 0.9862 - val_loss: 0.0500 - val_accuracy: 0.9352 - lr: 2.3910e-04\n",
            "Epoch 14/25\n",
            "28/27 [==============================] - 18s 625ms/step - loss: 0.0074 - accuracy: 0.9954 - val_loss: 0.0351 - val_accuracy: 0.9352 - lr: 4.0903e-04\n",
            "Epoch 15/25\n",
            "28/27 [==============================] - 17s 613ms/step - loss: 0.0157 - accuracy: 0.9793 - val_loss: 0.0425 - val_accuracy: 0.9444 - lr: 5.7897e-04\n",
            "Epoch 16/25\n",
            "28/27 [==============================] - 17s 622ms/step - loss: 0.0245 - accuracy: 0.9701 - val_loss: 0.0832 - val_accuracy: 0.8889 - lr: 7.4890e-04\n",
            "Epoch 17/25\n",
            "28/27 [==============================] - 17s 616ms/step - loss: 0.1080 - accuracy: 0.8184 - val_loss: 0.1332 - val_accuracy: 0.7870 - lr: 9.1883e-04\n",
            "Epoch 18/25\n",
            "28/27 [==============================] - 17s 614ms/step - loss: 0.0739 - accuracy: 0.8828 - val_loss: 0.5668 - val_accuracy: 0.7593 - lr: 9.1124e-04\n",
            "Epoch 19/25\n",
            "28/27 [==============================] - 17s 621ms/step - loss: 0.0625 - accuracy: 0.9057 - val_loss: 0.0733 - val_accuracy: 0.9167 - lr: 7.4131e-04\n",
            "Epoch 20/25\n",
            "28/27 [==============================] - 17s 620ms/step - loss: 0.0510 - accuracy: 0.9241 - val_loss: 0.2034 - val_accuracy: 0.7963 - lr: 5.7138e-04\n",
            "Epoch 21/25\n",
            "28/27 [==============================] - 17s 622ms/step - loss: 0.0320 - accuracy: 0.9471 - val_loss: 0.1059 - val_accuracy: 0.9537 - lr: 4.0145e-04\n",
            "Epoch 22/25\n",
            "28/27 [==============================] - 17s 616ms/step - loss: 0.0136 - accuracy: 0.9908 - val_loss: 0.0904 - val_accuracy: 0.9537 - lr: 2.3152e-04\n",
            "Epoch 23/25\n",
            "28/27 [==============================] - 17s 614ms/step - loss: 0.0073 - accuracy: 0.9954 - val_loss: 0.0556 - val_accuracy: 0.9630 - lr: 6.1586e-05\n",
            "Epoch 24/25\n",
            "28/27 [==============================] - 17s 622ms/step - loss: 0.0159 - accuracy: 0.9816 - val_loss: 0.0781 - val_accuracy: 0.9722 - lr: 1.2834e-04\n",
            "Epoch 25/25\n",
            "28/27 [==============================] - 17s 619ms/step - loss: 0.0100 - accuracy: 0.9908 - val_loss: 0.0677 - val_accuracy: 0.9537 - lr: 2.9828e-04\n",
            "13/12 [==============================] - 1s 110ms/step\n",
            "-----------fold 4--------------\n",
            "Found 435 validated image filenames.\n",
            "Found 108 validated image filenames.\n",
            "Found 203 validated image filenames.\n",
            "Epoch 1/25\n",
            "28/27 [==============================] - 19s 687ms/step - loss: 0.1667 - accuracy: 0.6276 - val_loss: 0.1825 - val_accuracy: 0.6111 - lr: 1.7993e-04\n",
            "Epoch 2/25\n",
            "28/27 [==============================] - 17s 617ms/step - loss: 0.1055 - accuracy: 0.8299 - val_loss: 0.2492 - val_accuracy: 0.6389 - lr: 3.4986e-04\n",
            "Epoch 3/25\n",
            "28/27 [==============================] - 17s 614ms/step - loss: 0.0937 - accuracy: 0.8506 - val_loss: 0.4847 - val_accuracy: 0.6852 - lr: 5.1979e-04\n",
            "Epoch 4/25\n",
            "28/27 [==============================] - 17s 614ms/step - loss: 0.1117 - accuracy: 0.8529 - val_loss: 0.0969 - val_accuracy: 0.8148 - lr: 6.8972e-04\n",
            "Epoch 5/25\n",
            "28/27 [==============================] - 17s 613ms/step - loss: 0.0877 - accuracy: 0.8759 - val_loss: 0.2415 - val_accuracy: 0.7685 - lr: 8.5966e-04\n",
            "Epoch 6/25\n",
            "28/27 [==============================] - 17s 615ms/step - loss: 0.1069 - accuracy: 0.8161 - val_loss: 0.1780 - val_accuracy: 0.7222 - lr: 9.7041e-04\n",
            "Epoch 7/25\n",
            "28/27 [==============================] - 17s 620ms/step - loss: 0.0848 - accuracy: 0.8621 - val_loss: 0.3382 - val_accuracy: 0.6019 - lr: 8.0048e-04\n",
            "Epoch 8/25\n",
            "28/27 [==============================] - 17s 617ms/step - loss: 0.0653 - accuracy: 0.8851 - val_loss: 0.0652 - val_accuracy: 0.9167 - lr: 6.3055e-04\n",
            "Epoch 9/25\n",
            "28/27 [==============================] - 17s 613ms/step - loss: 0.0616 - accuracy: 0.9195 - val_loss: 0.0956 - val_accuracy: 0.8796 - lr: 4.6062e-04\n",
            "Epoch 10/25\n",
            "28/27 [==============================] - 17s 617ms/step - loss: 0.0410 - accuracy: 0.9471 - val_loss: 0.0600 - val_accuracy: 0.9167 - lr: 2.9069e-04\n",
            "Epoch 11/25\n",
            "28/27 [==============================] - 17s 617ms/step - loss: 0.0209 - accuracy: 0.9701 - val_loss: 0.0420 - val_accuracy: 0.9352 - lr: 1.2076e-04\n",
            "Epoch 12/25\n",
            "28/27 [==============================] - 17s 612ms/step - loss: 0.0242 - accuracy: 0.9632 - val_loss: 0.0263 - val_accuracy: 0.9444 - lr: 6.9172e-05\n",
            "Epoch 13/25\n",
            "28/27 [==============================] - 17s 616ms/step - loss: 0.0268 - accuracy: 0.9724 - val_loss: 0.0248 - val_accuracy: 0.9815 - lr: 2.3910e-04\n",
            "Epoch 14/25\n",
            "28/27 [==============================] - 17s 615ms/step - loss: 0.0207 - accuracy: 0.9747 - val_loss: 0.0462 - val_accuracy: 0.9352 - lr: 4.0903e-04\n",
            "Epoch 15/25\n",
            "28/27 [==============================] - 17s 621ms/step - loss: 0.0239 - accuracy: 0.9678 - val_loss: 0.0811 - val_accuracy: 0.9352 - lr: 5.7897e-04\n",
            "Epoch 16/25\n",
            "28/27 [==============================] - 17s 614ms/step - loss: 0.0405 - accuracy: 0.9448 - val_loss: 0.1451 - val_accuracy: 0.9074 - lr: 7.4890e-04\n",
            "Epoch 17/25\n",
            "28/27 [==============================] - 17s 616ms/step - loss: 0.0159 - accuracy: 0.9816 - val_loss: 0.0675 - val_accuracy: 0.9537 - lr: 9.1883e-04\n",
            "Epoch 18/25\n",
            "28/27 [==============================] - 17s 618ms/step - loss: 0.0677 - accuracy: 0.9356 - val_loss: 0.1814 - val_accuracy: 0.7685 - lr: 9.1124e-04\n",
            "Epoch 19/25\n",
            "28/27 [==============================] - 17s 620ms/step - loss: 0.0622 - accuracy: 0.9057 - val_loss: 0.1241 - val_accuracy: 0.8889 - lr: 7.4131e-04\n",
            "Epoch 20/25\n",
            "28/27 [==============================] - 17s 613ms/step - loss: 0.0823 - accuracy: 0.8851 - val_loss: 0.0914 - val_accuracy: 0.9352 - lr: 5.7138e-04\n",
            "Epoch 21/25\n",
            "28/27 [==============================] - 17s 622ms/step - loss: 0.0391 - accuracy: 0.9471 - val_loss: 0.1643 - val_accuracy: 0.9167 - lr: 4.0145e-04\n",
            "Epoch 22/25\n",
            "28/27 [==============================] - 17s 621ms/step - loss: 0.0401 - accuracy: 0.9425 - val_loss: 0.1300 - val_accuracy: 0.9167 - lr: 2.3152e-04\n",
            "Epoch 23/25\n",
            "28/27 [==============================] - 17s 621ms/step - loss: 0.0235 - accuracy: 0.9747 - val_loss: 0.0622 - val_accuracy: 0.9259 - lr: 6.1586e-05\n",
            "Epoch 24/25\n",
            "28/27 [==============================] - 17s 621ms/step - loss: 0.0207 - accuracy: 0.9770 - val_loss: 0.0553 - val_accuracy: 0.9444 - lr: 1.2834e-04\n",
            "Epoch 25/25\n",
            "28/27 [==============================] - 17s 613ms/step - loss: 0.0149 - accuracy: 0.9885 - val_loss: 0.0224 - val_accuracy: 0.9722 - lr: 2.9828e-04\n",
            "13/12 [==============================] - 1s 108ms/step\n"
          ],
          "name": "stdout"
        }
      ]
    },
    {
      "cell_type": "code",
      "metadata": {
        "id": "BJobcAABrZK4",
        "colab_type": "code",
        "outputId": "b131cd44-8055-44d3-9f3d-f9c6666b2631",
        "colab": {
          "base_uri": "https://localhost:8080/",
          "height": 35
        }
      },
      "source": [
        "import numpy as np\n",
        "y_mean=np.mean(y_pred,axis=0)\n",
        "y_true=test_df.iloc[:,2::]\n",
        "y_true.shape,y_mean.shape"
      ],
      "execution_count": 21,
      "outputs": [
        {
          "output_type": "execute_result",
          "data": {
            "text/plain": [
              "((203, 2), (203, 2))"
            ]
          },
          "metadata": {
            "tags": []
          },
          "execution_count": 21
        }
      ]
    },
    {
      "cell_type": "code",
      "metadata": {
        "id": "XCphJVfdBm0H",
        "colab_type": "code",
        "outputId": "6bcf7769-8938-43f9-f2c4-ce100d1f7d07",
        "colab": {
          "base_uri": "https://localhost:8080/",
          "height": 35
        }
      },
      "source": [
        "y_mean=np.argmax(y_mean,axis=1).ravel()\n",
        "y_true=np.argmax(y_true.values,axis=1).ravel()\n",
        "\n",
        "y_true.shape,y_mean.shape"
      ],
      "execution_count": 22,
      "outputs": [
        {
          "output_type": "execute_result",
          "data": {
            "text/plain": [
              "((203,), (203,))"
            ]
          },
          "metadata": {
            "tags": []
          },
          "execution_count": 22
        }
      ]
    },
    {
      "cell_type": "code",
      "metadata": {
        "id": "ecc-q4ledbtX",
        "colab_type": "code",
        "outputId": "8b9e0aec-074a-4051-e095-8f52c718f539",
        "colab": {
          "base_uri": "https://localhost:8080/",
          "height": 225
        }
      },
      "source": [
        "\n",
        "print(classification_report(y_true, y_mean,target_names=['covid','noncovid']))#\n",
        "print('accuracy',np.round(accuracy_score(y_true,y_mean),2))\n",
        "print('f1 score is ',np.round(f1_score(y_true,y_mean,average='macro'),2))\n",
        "print('auc',np.round(roc_auc_score(y_true,y_mean),2))"
      ],
      "execution_count": 23,
      "outputs": [
        {
          "output_type": "stream",
          "text": [
            "              precision    recall  f1-score   support\n",
            "\n",
            "       covid       0.92      0.74      0.82        98\n",
            "    noncovid       0.80      0.94      0.86       105\n",
            "\n",
            "    accuracy                           0.85       203\n",
            "   macro avg       0.86      0.84      0.84       203\n",
            "weighted avg       0.86      0.85      0.85       203\n",
            "\n",
            "accuracy 0.85\n",
            "f1 score is  0.84\n",
            "auc 0.84\n"
          ],
          "name": "stdout"
        }
      ]
    },
    {
      "cell_type": "code",
      "metadata": {
        "id": "l8wKVY53zFEU",
        "colab_type": "code",
        "colab": {
          "base_uri": "https://localhost:8080/",
          "height": 52
        },
        "outputId": "1ed6abf9-804a-4348-a25e-d9f81243ff31"
      },
      "source": [
        "from sklearn.metrics import confusion_matrix\n",
        "confusion_matrix(y_true, y_mean)"
      ],
      "execution_count": 24,
      "outputs": [
        {
          "output_type": "execute_result",
          "data": {
            "text/plain": [
              "array([[73, 25],\n",
              "       [ 6, 99]])"
            ]
          },
          "metadata": {
            "tags": []
          },
          "execution_count": 24
        }
      ]
    },
    {
      "cell_type": "code",
      "metadata": {
        "id": "vTITL7dozI_1",
        "colab_type": "code",
        "colab": {}
      },
      "source": [
        "for i in range(5):\n",
        "  np.save('CLR_history_{}'.format(i),history[i].history)"
      ],
      "execution_count": 0,
      "outputs": []
    },
    {
      "cell_type": "code",
      "metadata": {
        "id": "ro8qafwWGVUw",
        "colab_type": "code",
        "outputId": "577e9d1f-27f2-4cde-e359-64ecc59e6158",
        "colab": {
          "base_uri": "https://localhost:8080/",
          "height": 573
        }
      },
      "source": [
        "import matplotlib.pyplot as plt\n",
        "\n",
        "# Plot training & validation accuracy values\n",
        "plt.plot(np.mean([[j for j in x.history['accuracy']] for x in history ],axis=0))\n",
        "plt.plot(np.mean([[j for j in x.history['val_accuracy']] for x in history ],axis=0))\n",
        "plt.title('Model accuracy')\n",
        "plt.ylabel('Accuracy')\n",
        "plt.xlabel('Epoch')\n",
        "plt.legend(['Train', 'Test'], loc='upper left')\n",
        "plt.show()\n",
        "\n",
        "# Plot training & validation loss values\n",
        "plt.plot(np.mean([[j for j in x.history['loss']] for x in history ],axis=0))\n",
        "plt.plot(np.mean([[j for j in x.history['val_loss']] for x in history ],axis=0))\n",
        "plt.title('Model loss')\n",
        "plt.ylabel('Loss')\n",
        "plt.xlabel('Epoch')\n",
        "plt.legend(['Train', 'Test'], loc='upper left')\n",
        "plt.show()"
      ],
      "execution_count": 26,
      "outputs": [
        {
          "output_type": "display_data",
          "data": {
            "image/png": "[encoded data removed]",
            "text/plain": [
              "<Figure size 432x288 with 1 Axes>"
            ]
          },
          "metadata": {
            "tags": [],
            "needs_background": "light"
          }
        },
        {
          "output_type": "display_data",
          "data": {
            "image/png": "[encoded data removed]",
            "text/plain": [
              "<Figure size 432x288 with 1 Axes>"
            ]
          },
          "metadata": {
            "tags": [],
            "needs_background": "light"
          }
        }
      ]
    },
    {
      "cell_type": "code",
      "metadata": {
        "id": "4iBpBbOKKsHl",
        "colab_type": "code",
        "colab": {
          "base_uri": "https://localhost:8080/",
          "height": 35
        },
        "outputId": "b294c909-4c13-4336-9ffc-beb6cbc5a712"
      },
      "source": [
        "history[0].history.keys()"
      ],
      "execution_count": 27,
      "outputs": [
        {
          "output_type": "execute_result",
          "data": {
            "text/plain": [
              "dict_keys(['loss', 'accuracy', 'val_loss', 'val_accuracy', 'lr'])"
            ]
          },
          "metadata": {
            "tags": []
          },
          "execution_count": 27
        }
      ]
    },
    {
      "cell_type": "code",
      "metadata": {
        "id": "qwwg0V-iI4wg",
        "colab_type": "code",
        "colab": {
          "base_uri": "https://localhost:8080/",
          "height": 295
        },
        "outputId": "195be5b3-ab6f-4e12-922d-798a9633fa51"
      },
      "source": [
        "# Plot training & validation loss values\n",
        "for i in range(5):\n",
        "  plt.plot(history[i].history['val_accuracy'])\n",
        "plt.title('Model Validation Accuracy')\n",
        "plt.ylabel('Accuracy')\n",
        "plt.xlabel('Epoch')\n",
        "plt.legend(['Fold1','Fold2','Fold3','Fold4','Fold5' ], loc='upper left')\n",
        "plt.show()"
      ],
      "execution_count": 28,
      "outputs": [
        {
          "output_type": "display_data",
          "data": {
            "image/png": "[encoded data removed]",
            "text/plain": [
              "<Figure size 432x288 with 1 Axes>"
            ]
          },
          "metadata": {
            "tags": [],
            "needs_background": "light"
          }
        }
      ]
    },
    {
      "cell_type": "code",
      "metadata": {
        "id": "IZYI3cDH-vGN",
        "colab_type": "code",
        "colab": {
          "base_uri": "https://localhost:8080/",
          "height": 295
        },
        "outputId": "b93538d8-f902-4002-c0c5-7e801592d1d0"
      },
      "source": [
        "# Plot training & validation loss values\n",
        "for i in range(5):\n",
        "  plt.plot(history[i].history['val_loss'])\n",
        "plt.title('Model Validation Loss')\n",
        "plt.ylabel('Loss')\n",
        "plt.xlabel('Epoch')\n",
        "plt.legend(['Fold1','Fold2','Fold3','Fold4','Fold5' ], loc='upper left')\n",
        "plt.show()"
      ],
      "execution_count": 29,
      "outputs": [
        {
          "output_type": "display_data",
          "data": {
            "image/png": "[encoded data removed]",
            "text/plain": [
              "<Figure size 432x288 with 1 Axes>"
            ]
          },
          "metadata": {
            "tags": [],
            "needs_background": "light"
          }
        }
      ]
    },
    {
      "cell_type": "code",
      "metadata": {
        "id": "cWbbVN8cLGb1",
        "colab_type": "code",
        "outputId": "f4609eca-7cec-4640-e3a9-d6f17ddd7b15",
        "colab": {
          "base_uri": "https://localhost:8080/",
          "height": 295
        }
      },
      "source": [
        "# Plot training & validation loss values\n",
        "for i in range(5):\n",
        "  plt.plot(history[i].history['lr'])\n",
        "plt.title('Model LR')\n",
        "plt.ylabel('LR')\n",
        "plt.xlabel('Epoch')\n",
        "plt.legend(['LR1','LR2','LR3','LR4','LR5' ], loc='upper left')\n",
        "plt.show()"
      ],
      "execution_count": 0,
      "outputs": [
        {
          "output_type": "display_data",
          "data": {
            "image/png": "[encoded data removed]",
            "text/plain": [
              "<Figure size 432x288 with 1 Axes>"
            ]
          },
          "metadata": {
            "tags": [],
            "needs_background": "light"
          }
        }
      ]
    },
    {
      "cell_type": "code",
      "metadata": {
        "id": "vtFhi-VbLa9Y",
        "colab_type": "code",
        "colab": {}
      },
      "source": [
        ""
      ],
      "execution_count": 0,
      "outputs": []
    }
  ]
}