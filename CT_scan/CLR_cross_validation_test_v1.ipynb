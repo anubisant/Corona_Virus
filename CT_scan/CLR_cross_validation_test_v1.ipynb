{
  "nbformat": 4,
  "nbformat_minor": 0,
  "metadata": {
    "colab": {
      "name": "CLR cross_validation_test.ipynb",
      "provenance": [],
      "toc_visible": true,
      "include_colab_link": true
    },
    "kernelspec": {
      "name": "python3",
      "display_name": "Python 3"
    },
    "accelerator": "GPU"
  },
  "cells": [
    {
      "cell_type": "markdown",
      "metadata": {
        "id": "view-in-github",
        "colab_type": "text"
      },
      "source": [
        "<a href=\"https://colab.research.google.com/github/talhaanwarch/Corona_Virus/blob/master/CT_scan/CLR_cross_validation_test_v1.ipynb\" target=\"_parent\"><img src=\"https://colab.research.google.com/assets/colab-badge.svg\" alt=\"Open In Colab\"/></a>"
      ]
    },
    {
      "cell_type": "code",
      "metadata": {
        "id": "ylMZAGXl7kKx",
        "colab_type": "code",
        "colab": {}
      },
      "source": [
        "%%capture\n",
        "!pip install efficientnet"
      ],
      "execution_count": 0,
      "outputs": []
    },
    {
      "cell_type": "code",
      "metadata": {
        "id": "_d7PdOxl3KJv",
        "colab_type": "code",
        "colab": {}
      },
      "source": [
        "%%capture\n",
        "!pip install focal-loss"
      ],
      "execution_count": 0,
      "outputs": []
    },
    {
      "cell_type": "code",
      "metadata": {
        "id": "KqvtepzCMe8O",
        "colab_type": "code",
        "outputId": "f4d7d4ac-35ac-4bb6-af01-e73e99911324",
        "colab": {
          "base_uri": "https://localhost:8080/",
          "height": 208
        }
      },
      "source": [
        "!wget https://raw.githubusercontent.com/talhaanwarch/keras-contrib/master/keras_contrib/callbacks/cyclical_learning_rate.py"
      ],
      "execution_count": 3,
      "outputs": [
        {
          "output_type": "stream",
          "text": [
            "--2020-05-09 14:53:15--  https://raw.githubusercontent.com/talhaanwarch/keras-contrib/master/keras_contrib/callbacks/cyclical_learning_rate.py\n",
            "Resolving raw.githubusercontent.com (raw.githubusercontent.com)... 151.101.0.133, 151.101.64.133, 151.101.128.133, ...\n",
            "Connecting to raw.githubusercontent.com (raw.githubusercontent.com)|151.101.0.133|:443... connected.\n",
            "HTTP request sent, awaiting response... 200 OK\n",
            "Length: 5976 (5.8K) [text/plain]\n",
            "Saving to: ‘cyclical_learning_rate.py’\n",
            "\n",
            "\r          cyclical_   0%[                    ]       0  --.-KB/s               \rcyclical_learning_r 100%[===================>]   5.84K  --.-KB/s    in 0s      \n",
            "\n",
            "2020-05-09 14:53:16 (97.8 MB/s) - ‘cyclical_learning_rate.py’ saved [5976/5976]\n",
            "\n"
          ],
          "name": "stdout"
        }
      ]
    },
    {
      "cell_type": "markdown",
      "metadata": {
        "id": "4FDtv7g97nN8",
        "colab_type": "text"
      },
      "source": [
        "### CLone github repo, to dowlonad data"
      ]
    },
    {
      "cell_type": "code",
      "metadata": {
        "id": "yi2pSQus7JR4",
        "colab_type": "code",
        "outputId": "fdf74ee7-3cb4-4b35-8276-c529080839ed",
        "colab": {
          "base_uri": "https://localhost:8080/",
          "height": 121
        }
      },
      "source": [
        "!git clone https://github.com/UCSD-AI4H/COVID-CT.git"
      ],
      "execution_count": 4,
      "outputs": [
        {
          "output_type": "stream",
          "text": [
            "Cloning into 'COVID-CT'...\n",
            "remote: Enumerating objects: 5443, done.\u001b[K\n",
            "remote: Total 5443 (delta 0), reused 0 (delta 0), pack-reused 5443\u001b[K\n",
            "Receiving objects: 100% (5443/5443), 1.09 GiB | 15.17 MiB/s, done.\n",
            "Resolving deltas: 100% (355/355), done.\n",
            "Checking out files: 100% (1048/1048), done.\n"
          ],
          "name": "stdout"
        }
      ]
    },
    {
      "cell_type": "markdown",
      "metadata": {
        "id": "imIfz2hq7s0m",
        "colab_type": "text"
      },
      "source": [
        "### Extract data in one format"
      ]
    },
    {
      "cell_type": "code",
      "metadata": {
        "id": "6WuO45h57deK",
        "colab_type": "code",
        "colab": {}
      },
      "source": [
        "%%capture\n",
        "!unzip /content/COVID-CT/Images-processed/CT_COVID.zip\n",
        "!unzip /content/COVID-CT/Images-processed/CT_NonCOVID.zip"
      ],
      "execution_count": 0,
      "outputs": []
    },
    {
      "cell_type": "code",
      "metadata": {
        "id": "eJUYRmVS8kJR",
        "colab_type": "code",
        "colab": {}
      },
      "source": [
        "!mkdir images\n",
        "!cp -r /content/CT_COVID/* images\n",
        "!cp -r /content/CT_NonCOVID/* images\n"
      ],
      "execution_count": 0,
      "outputs": []
    },
    {
      "cell_type": "markdown",
      "metadata": {
        "id": "R959Xz4V9GuP",
        "colab_type": "text"
      },
      "source": [
        "###read meta files"
      ]
    },
    {
      "cell_type": "code",
      "metadata": {
        "id": "ZSd1vcC-9Smh",
        "colab_type": "code",
        "colab": {}
      },
      "source": [
        "import pandas as pd\n",
        "import os"
      ],
      "execution_count": 0,
      "outputs": []
    },
    {
      "cell_type": "code",
      "metadata": {
        "id": "Li1uZhmr9Jk2",
        "colab_type": "code",
        "outputId": "a779f21b-03f0-424c-dd7b-695d011000fc",
        "colab": {
          "base_uri": "https://localhost:8080/",
          "height": 202
        }
      },
      "source": [
        "covid=os.listdir('/content/CT_COVID')\n",
        "cov=list(zip(covid,['covid']*(len(covid))))\n",
        "covid_df = pd.DataFrame(cov,columns=['file','label']) \n",
        "covid_df.head()"
      ],
      "execution_count": 8,
      "outputs": [
        {
          "output_type": "execute_result",
          "data": {
            "text/html": [
              "<div>\n",
              "<style scoped>\n",
              "    .dataframe tbody tr th:only-of-type {\n",
              "        vertical-align: middle;\n",
              "    }\n",
              "\n",
              "    .dataframe tbody tr th {\n",
              "        vertical-align: top;\n",
              "    }\n",
              "\n",
              "    .dataframe thead th {\n",
              "        text-align: right;\n",
              "    }\n",
              "</style>\n",
              "<table border=\"1\" class=\"dataframe\">\n",
              "  <thead>\n",
              "    <tr style=\"text-align: right;\">\n",
              "      <th></th>\n",
              "      <th>file</th>\n",
              "      <th>label</th>\n",
              "    </tr>\n",
              "  </thead>\n",
              "  <tbody>\n",
              "    <tr>\n",
              "      <th>0</th>\n",
              "      <td>2020.02.10.20021584-p6-52%7.png</td>\n",
              "      <td>covid</td>\n",
              "    </tr>\n",
              "    <tr>\n",
              "      <th>1</th>\n",
              "      <td>2020.03.13.20035212-p23-157.png</td>\n",
              "      <td>covid</td>\n",
              "    </tr>\n",
              "    <tr>\n",
              "      <th>2</th>\n",
              "      <td>2020.02.25.20021568-p23-108%1.png</td>\n",
              "      <td>covid</td>\n",
              "    </tr>\n",
              "    <tr>\n",
              "      <th>3</th>\n",
              "      <td>2020.03.13.20035212-p23-155.png</td>\n",
              "      <td>covid</td>\n",
              "    </tr>\n",
              "    <tr>\n",
              "      <th>4</th>\n",
              "      <td>2020.03.07.20031393-p7-50%2.png</td>\n",
              "      <td>covid</td>\n",
              "    </tr>\n",
              "  </tbody>\n",
              "</table>\n",
              "</div>"
            ],
            "text/plain": [
              "                                file  label\n",
              "0    2020.02.10.20021584-p6-52%7.png  covid\n",
              "1    2020.03.13.20035212-p23-157.png  covid\n",
              "2  2020.02.25.20021568-p23-108%1.png  covid\n",
              "3    2020.03.13.20035212-p23-155.png  covid\n",
              "4    2020.03.07.20031393-p7-50%2.png  covid"
            ]
          },
          "metadata": {
            "tags": []
          },
          "execution_count": 8
        }
      ]
    },
    {
      "cell_type": "code",
      "metadata": {
        "id": "PUrppSTx7Z3f",
        "colab_type": "code",
        "outputId": "72160ccb-4f32-4609-a2ed-96eb58a73a5a",
        "colab": {
          "base_uri": "https://localhost:8080/",
          "height": 202
        }
      },
      "source": [
        "noncovid=os.listdir('/content/CT_NonCOVID')\n",
        "noncov=list(zip(noncovid,['noncovid']*(len(noncovid))))\n",
        "noncovid_df = pd.DataFrame(noncov,columns=['file','label']) \n",
        "noncovid_df.head()"
      ],
      "execution_count": 9,
      "outputs": [
        {
          "output_type": "execute_result",
          "data": {
            "text/html": [
              "<div>\n",
              "<style scoped>\n",
              "    .dataframe tbody tr th:only-of-type {\n",
              "        vertical-align: middle;\n",
              "    }\n",
              "\n",
              "    .dataframe tbody tr th {\n",
              "        vertical-align: top;\n",
              "    }\n",
              "\n",
              "    .dataframe thead th {\n",
              "        text-align: right;\n",
              "    }\n",
              "</style>\n",
              "<table border=\"1\" class=\"dataframe\">\n",
              "  <thead>\n",
              "    <tr style=\"text-align: right;\">\n",
              "      <th></th>\n",
              "      <th>file</th>\n",
              "      <th>label</th>\n",
              "    </tr>\n",
              "  </thead>\n",
              "  <tbody>\n",
              "    <tr>\n",
              "      <th>0</th>\n",
              "      <td>584.png</td>\n",
              "      <td>noncovid</td>\n",
              "    </tr>\n",
              "    <tr>\n",
              "      <th>1</th>\n",
              "      <td>662.png</td>\n",
              "      <td>noncovid</td>\n",
              "    </tr>\n",
              "    <tr>\n",
              "      <th>2</th>\n",
              "      <td>1297.png</td>\n",
              "      <td>noncovid</td>\n",
              "    </tr>\n",
              "    <tr>\n",
              "      <th>3</th>\n",
              "      <td>65%3.jpg</td>\n",
              "      <td>noncovid</td>\n",
              "    </tr>\n",
              "    <tr>\n",
              "      <th>4</th>\n",
              "      <td>43%2.jpg</td>\n",
              "      <td>noncovid</td>\n",
              "    </tr>\n",
              "  </tbody>\n",
              "</table>\n",
              "</div>"
            ],
            "text/plain": [
              "       file     label\n",
              "0   584.png  noncovid\n",
              "1   662.png  noncovid\n",
              "2  1297.png  noncovid\n",
              "3  65%3.jpg  noncovid\n",
              "4  43%2.jpg  noncovid"
            ]
          },
          "metadata": {
            "tags": []
          },
          "execution_count": 9
        }
      ]
    },
    {
      "cell_type": "code",
      "metadata": {
        "id": "Tryb2TOv99r4",
        "colab_type": "code",
        "outputId": "f506c8d9-60d9-4d12-f3e7-c851d3f9cd95",
        "colab": {
          "base_uri": "https://localhost:8080/",
          "height": 202
        }
      },
      "source": [
        "dataframe=pd.concat([covid_df,noncovid_df])\n",
        "dataframe.head()"
      ],
      "execution_count": 10,
      "outputs": [
        {
          "output_type": "execute_result",
          "data": {
            "text/html": [
              "<div>\n",
              "<style scoped>\n",
              "    .dataframe tbody tr th:only-of-type {\n",
              "        vertical-align: middle;\n",
              "    }\n",
              "\n",
              "    .dataframe tbody tr th {\n",
              "        vertical-align: top;\n",
              "    }\n",
              "\n",
              "    .dataframe thead th {\n",
              "        text-align: right;\n",
              "    }\n",
              "</style>\n",
              "<table border=\"1\" class=\"dataframe\">\n",
              "  <thead>\n",
              "    <tr style=\"text-align: right;\">\n",
              "      <th></th>\n",
              "      <th>file</th>\n",
              "      <th>label</th>\n",
              "    </tr>\n",
              "  </thead>\n",
              "  <tbody>\n",
              "    <tr>\n",
              "      <th>0</th>\n",
              "      <td>2020.02.10.20021584-p6-52%7.png</td>\n",
              "      <td>covid</td>\n",
              "    </tr>\n",
              "    <tr>\n",
              "      <th>1</th>\n",
              "      <td>2020.03.13.20035212-p23-157.png</td>\n",
              "      <td>covid</td>\n",
              "    </tr>\n",
              "    <tr>\n",
              "      <th>2</th>\n",
              "      <td>2020.02.25.20021568-p23-108%1.png</td>\n",
              "      <td>covid</td>\n",
              "    </tr>\n",
              "    <tr>\n",
              "      <th>3</th>\n",
              "      <td>2020.03.13.20035212-p23-155.png</td>\n",
              "      <td>covid</td>\n",
              "    </tr>\n",
              "    <tr>\n",
              "      <th>4</th>\n",
              "      <td>2020.03.07.20031393-p7-50%2.png</td>\n",
              "      <td>covid</td>\n",
              "    </tr>\n",
              "  </tbody>\n",
              "</table>\n",
              "</div>"
            ],
            "text/plain": [
              "                                file  label\n",
              "0    2020.02.10.20021584-p6-52%7.png  covid\n",
              "1    2020.03.13.20035212-p23-157.png  covid\n",
              "2  2020.02.25.20021568-p23-108%1.png  covid\n",
              "3    2020.03.13.20035212-p23-155.png  covid\n",
              "4    2020.03.07.20031393-p7-50%2.png  covid"
            ]
          },
          "metadata": {
            "tags": []
          },
          "execution_count": 10
        }
      ]
    },
    {
      "cell_type": "code",
      "metadata": {
        "id": "L9YLBD4e-Gnd",
        "colab_type": "code",
        "outputId": "1c497955-b07b-4375-dbcb-947953a85509",
        "colab": {
          "base_uri": "https://localhost:8080/",
          "height": 202
        }
      },
      "source": [
        "df = pd.get_dummies(dataframe['label'])\n",
        "df = pd.concat([dataframe, df], axis=1)\n",
        "df=df.sample(frac=1)\n",
        "df.head()\n"
      ],
      "execution_count": 11,
      "outputs": [
        {
          "output_type": "execute_result",
          "data": {
            "text/html": [
              "<div>\n",
              "<style scoped>\n",
              "    .dataframe tbody tr th:only-of-type {\n",
              "        vertical-align: middle;\n",
              "    }\n",
              "\n",
              "    .dataframe tbody tr th {\n",
              "        vertical-align: top;\n",
              "    }\n",
              "\n",
              "    .dataframe thead th {\n",
              "        text-align: right;\n",
              "    }\n",
              "</style>\n",
              "<table border=\"1\" class=\"dataframe\">\n",
              "  <thead>\n",
              "    <tr style=\"text-align: right;\">\n",
              "      <th></th>\n",
              "      <th>file</th>\n",
              "      <th>label</th>\n",
              "      <th>covid</th>\n",
              "      <th>noncovid</th>\n",
              "    </tr>\n",
              "  </thead>\n",
              "  <tbody>\n",
              "    <tr>\n",
              "      <th>304</th>\n",
              "      <td>64.jpg</td>\n",
              "      <td>noncovid</td>\n",
              "      <td>0</td>\n",
              "      <td>1</td>\n",
              "    </tr>\n",
              "    <tr>\n",
              "      <th>150</th>\n",
              "      <td>1046.png</td>\n",
              "      <td>noncovid</td>\n",
              "      <td>0</td>\n",
              "      <td>1</td>\n",
              "    </tr>\n",
              "    <tr>\n",
              "      <th>147</th>\n",
              "      <td>176.png</td>\n",
              "      <td>noncovid</td>\n",
              "      <td>0</td>\n",
              "      <td>1</td>\n",
              "    </tr>\n",
              "    <tr>\n",
              "      <th>91</th>\n",
              "      <td>74.jpg</td>\n",
              "      <td>noncovid</td>\n",
              "      <td>0</td>\n",
              "      <td>1</td>\n",
              "    </tr>\n",
              "    <tr>\n",
              "      <th>352</th>\n",
              "      <td>81%1.jpg</td>\n",
              "      <td>noncovid</td>\n",
              "      <td>0</td>\n",
              "      <td>1</td>\n",
              "    </tr>\n",
              "  </tbody>\n",
              "</table>\n",
              "</div>"
            ],
            "text/plain": [
              "         file     label  covid  noncovid\n",
              "304    64.jpg  noncovid      0         1\n",
              "150  1046.png  noncovid      0         1\n",
              "147   176.png  noncovid      0         1\n",
              "91     74.jpg  noncovid      0         1\n",
              "352  81%1.jpg  noncovid      0         1"
            ]
          },
          "metadata": {
            "tags": []
          },
          "execution_count": 11
        }
      ]
    },
    {
      "cell_type": "markdown",
      "metadata": {
        "id": "klH5y0SbVWKx",
        "colab_type": "text"
      },
      "source": [
        "#### TEST DATA"
      ]
    },
    {
      "cell_type": "code",
      "metadata": {
        "id": "sQtp3QAt-POe",
        "colab_type": "code",
        "outputId": "f22fd060-5c36-4558-b772-e28cc0afe3a9",
        "colab": {
          "base_uri": "https://localhost:8080/",
          "height": 35
        }
      },
      "source": [
        "covid_test=pd.read_csv('/content/COVID-CT/Data-split/COVID/testCT_COVID.txt',header=None,squeeze=True).tolist()\n",
        "noncovid_test=pd.read_csv('/content/COVID-CT/Data-split/NonCOVID/testCT_NonCOVID.txt',header=None,squeeze=True).tolist()\n",
        "test=covid_test+noncovid_test\n",
        "len(test)"
      ],
      "execution_count": 12,
      "outputs": [
        {
          "output_type": "execute_result",
          "data": {
            "text/plain": [
              "203"
            ]
          },
          "metadata": {
            "tags": []
          },
          "execution_count": 12
        }
      ]
    },
    {
      "cell_type": "code",
      "metadata": {
        "id": "M3vJ-sCcaeQm",
        "colab_type": "code",
        "outputId": "cc3916e0-ba65-4622-c832-eedd0699b2e0",
        "colab": {
          "base_uri": "https://localhost:8080/",
          "height": 35
        }
      },
      "source": [
        "len(test),len(covid_test),len(noncovid_test)"
      ],
      "execution_count": 13,
      "outputs": [
        {
          "output_type": "execute_result",
          "data": {
            "text/plain": [
              "(203, 98, 105)"
            ]
          },
          "metadata": {
            "tags": []
          },
          "execution_count": 13
        }
      ]
    },
    {
      "cell_type": "code",
      "metadata": {
        "id": "JRUWC9sKV5G8",
        "colab_type": "code",
        "colab": {}
      },
      "source": [
        "test_df=df[df['file'].isin(test)]\n",
        "train_df=df[~df['file'].isin(test)]"
      ],
      "execution_count": 0,
      "outputs": []
    },
    {
      "cell_type": "code",
      "metadata": {
        "id": "KUuvqVvSaA-S",
        "colab_type": "code",
        "outputId": "93ea8999-dd62-452b-cd76-0f35b44c71fe",
        "colab": {
          "base_uri": "https://localhost:8080/",
          "height": 35
        }
      },
      "source": [
        "len(df),len(train_df),len(test_df)"
      ],
      "execution_count": 15,
      "outputs": [
        {
          "output_type": "execute_result",
          "data": {
            "text/plain": [
              "(746, 543, 203)"
            ]
          },
          "metadata": {
            "tags": []
          },
          "execution_count": 15
        }
      ]
    },
    {
      "cell_type": "markdown",
      "metadata": {
        "id": "oOXgCH8l-bqZ",
        "colab_type": "text"
      },
      "source": [
        "### Data generator"
      ]
    },
    {
      "cell_type": "code",
      "metadata": {
        "id": "CzTlWxDb-c9N",
        "colab_type": "code",
        "colab": {}
      },
      "source": [
        "from keras_preprocessing.image import ImageDataGenerator\n",
        "data_gen= ImageDataGenerator(\n",
        "    horizontal_flip=True,\n",
        "    vertical_flip=True,\n",
        "    #rotation_range=360,\n",
        "    #width_shift_range=0.2,\n",
        "    #height_shift_range=0.2,\n",
        "    #zoom_range=.2,\n",
        "    rescale=1/255,\n",
        "    fill_mode='nearest',\n",
        "    #shear_range=0.2,\n",
        "    #brightness_range=[0.2, 2.0],\n",
        "    )"
      ],
      "execution_count": 0,
      "outputs": []
    },
    {
      "cell_type": "code",
      "metadata": {
        "id": "gZ8ZMeKI-gQu",
        "colab_type": "code",
        "colab": {}
      },
      "source": [
        "from tensorflow.keras.models import Sequential,Model\n",
        "from tensorflow.keras.layers import Activation, Dropout, Flatten, Dense, Conv2D, MaxPool2D, BatchNormalization,Input,MaxPooling2D,GlobalMaxPooling2D,concatenate\n",
        "from tensorflow.keras.layers import GlobalAveragePooling2D\n",
        "from tensorflow.keras.applications.resnet50 import ResNet50\n",
        "from tensorflow.keras.callbacks import ModelCheckpoint,ReduceLROnPlateau\n",
        "from tensorflow.keras.optimizers import Adam\n",
        "import tensorflow.keras.backend as K\n",
        "import tensorflow as tf"
      ],
      "execution_count": 0,
      "outputs": []
    },
    {
      "cell_type": "markdown",
      "metadata": {
        "id": "rdSPz3Ru-VgF",
        "colab_type": "text"
      },
      "source": [
        "#Train model"
      ]
    },
    {
      "cell_type": "code",
      "metadata": {
        "id": "BfiKa4qr-rjv",
        "colab_type": "code",
        "colab": {}
      },
      "source": [
        "img_shape=348\n",
        "batch_size=16"
      ],
      "execution_count": 0,
      "outputs": []
    },
    {
      "cell_type": "code",
      "metadata": {
        "id": "TuxqMnUnM9P1",
        "colab_type": "code",
        "colab": {}
      },
      "source": [
        "from cyclical_learning_rate import CyclicLR\n"
      ],
      "execution_count": 0,
      "outputs": []
    },
    {
      "cell_type": "code",
      "metadata": {
        "id": "d_omSkY2-W0d",
        "colab_type": "code",
        "outputId": "a9fdf2bc-736c-4839-aca4-14cf2af06f60",
        "colab": {
          "base_uri": "https://localhost:8080/",
          "height": 1000
        }
      },
      "source": [
        "from sklearn.model_selection import KFold\n",
        "import gc\n",
        "from focal_loss import BinaryFocalLoss\n",
        "from sklearn.metrics import classification_report,accuracy_score,f1_score,roc_auc_score\n",
        "classification_reports=[]\n",
        "kf = KFold(n_splits=5)\n",
        "history=[]\n",
        "accuracy=[]\n",
        "f1_scores=[]\n",
        "auc=[]\n",
        "y_pred=[]\n",
        "fold=0\n",
        "for train_index, test_index in kf.split(train_df):\n",
        "  train=train_df.iloc[train_index,:]\n",
        "  val=train_df.iloc[test_index,:]\n",
        "  print('-----------fold {}--------------'.format(fold))\n",
        "  train_generator=data_gen.flow_from_dataframe(train,directory='images',\n",
        "                                                      target_size=(img_shape,img_shape),\n",
        "                                                      x_col=\"file\",\n",
        "                                                      y_col=['covid','noncovid'],\n",
        "                                                      class_mode='raw',\n",
        "                                                      shuffle=True,\n",
        "                                                      batch_size=batch_size)\n",
        "\n",
        "  val_generator=data_gen.flow_from_dataframe(val,directory='images',\n",
        "                                                        target_size=(img_shape,img_shape),\n",
        "                                                        x_col=\"file\",\n",
        "                                                        y_col=['covid','noncovid'],\n",
        "                                                        class_mode='raw',\n",
        "                                                        shuffle=False,\n",
        "                                                        batch_size=batch_size)\n",
        "  \n",
        "  test_generator=data_gen.flow_from_dataframe(test_df,directory='images',\n",
        "                                                      target_size=(img_shape,img_shape),\n",
        "                                                      x_col=\"file\",\n",
        "                                                      y_col=['covid','noncovid'],\n",
        "                                                      class_mode='raw',\n",
        "                                                      shuffle=False,\n",
        "                                                      batch_size=batch_size)\n",
        "  #train_generator.next()[0].shape,train_generator.next()[1].shape\n",
        "  import efficientnet.tfkeras as efn\n",
        "  model =efn.EfficientNetB4(weights ='noisy-student', include_top=False, input_shape = (img_shape,img_shape,3))\n",
        "    \n",
        "  x = model.output\n",
        "  x = GlobalAveragePooling2D()(x)\n",
        "  #x = Dropout(0.3)(x)\n",
        "  #x = Dense(128, activation=\"relu\")(x)\n",
        "  #x = Dropout(0.3)(x)\n",
        "  #x = Dense(64, activation=\"relu\")(x)\n",
        "  predictions = Dense(2, activation=\"softmax\")(x)\n",
        "  model = Model(inputs=model.input, outputs=predictions)\n",
        "\n",
        "\n",
        "  model.compile(optimizer=Adam(0.001), loss=BinaryFocalLoss(gamma=2), metrics=['accuracy'])\n",
        "\n",
        "  results = model.fit(train_generator,epochs=25,\n",
        "                              steps_per_epoch=train_generator.n/batch_size,\n",
        "                              validation_data=val_generator,\n",
        "                             validation_steps=val_generator.n/batch_size,\n",
        "                              callbacks=[\n",
        "                                         #ReduceLROnPlateau(monitor='val_loss', factor=0.5,patience=3, min_lr=0.000001),\n",
        "                                         CyclicLR(base_lr=1e-5,max_lr=1e-3,mode='triangular2',step_size=(6*train_generator.n/batch_size))\n",
        "                                         ])\n",
        "  #model.load_weights('model_{}.hdf5'.format(fold))\n",
        "  test_generator.reset()\n",
        "  y_pred.append(model.predict(test_generator,steps=test_generator.n/batch_size,verbose=1))\n",
        "  history.append(results)\n",
        "\n",
        "  \n",
        "  fold+=1\n",
        "  del model\n",
        "  tf.keras.backend.clear_session()\n",
        "  gc.collect()"
      ],
      "execution_count": 22,
      "outputs": [
        {
          "output_type": "stream",
          "text": [
            "-----------fold 0--------------\n",
            "Found 434 validated image filenames.\n",
            "Found 109 validated image filenames.\n",
            "Found 203 validated image filenames.\n",
            "Downloading data from https://github.com/qubvel/efficientnet/releases/download/v0.0.1/efficientnet-b4_noisy-student_notop.h5\n",
            "71680000/71678424 [==============================] - 6s 0us/step\n",
            "Epoch 1/25\n",
            "28/27 [==============================] - 20s 728ms/step - loss: 0.1632 - accuracy: 0.6244 - val_loss: 0.2072 - val_accuracy: 0.5688 - lr: 1.8032e-04\n",
            "Epoch 2/25\n",
            "28/27 [==============================] - 17s 615ms/step - loss: 0.1120 - accuracy: 0.8088 - val_loss: 0.1477 - val_accuracy: 0.7615 - lr: 3.5065e-04\n",
            "Epoch 3/25\n",
            "28/27 [==============================] - 17s 612ms/step - loss: 0.1004 - accuracy: 0.8456 - val_loss: 0.3222 - val_accuracy: 0.6606 - lr: 5.2097e-04\n",
            "Epoch 4/25\n",
            "28/27 [==============================] - 17s 617ms/step - loss: 0.0933 - accuracy: 0.8894 - val_loss: 0.2490 - val_accuracy: 0.7615 - lr: 6.9129e-04\n",
            "Epoch 5/25\n",
            "28/27 [==============================] - 17s 612ms/step - loss: 0.0937 - accuracy: 0.8479 - val_loss: 0.0744 - val_accuracy: 0.8624 - lr: 8.6161e-04\n",
            "Epoch 6/25\n",
            "28/27 [==============================] - 17s 618ms/step - loss: 0.1584 - accuracy: 0.7880 - val_loss: 0.8573 - val_accuracy: 0.6789 - lr: 9.6806e-04\n",
            "Epoch 7/25\n",
            "28/27 [==============================] - 17s 608ms/step - loss: 0.1204 - accuracy: 0.7995 - val_loss: 0.2352 - val_accuracy: 0.7706 - lr: 7.9774e-04\n",
            "Epoch 8/25\n",
            "28/27 [==============================] - 17s 615ms/step - loss: 0.0750 - accuracy: 0.8710 - val_loss: 0.2288 - val_accuracy: 0.7064 - lr: 6.2742e-04\n",
            "Epoch 9/25\n",
            "28/27 [==============================] - 17s 607ms/step - loss: 0.0488 - accuracy: 0.9378 - val_loss: 0.3524 - val_accuracy: 0.6881 - lr: 4.5710e-04\n",
            "Epoch 10/25\n",
            "28/27 [==============================] - 17s 615ms/step - loss: 0.0354 - accuracy: 0.9378 - val_loss: 0.2704 - val_accuracy: 0.7890 - lr: 2.8677e-04\n",
            "Epoch 11/25\n",
            "28/27 [==============================] - 17s 611ms/step - loss: 0.0297 - accuracy: 0.9608 - val_loss: 0.1868 - val_accuracy: 0.8349 - lr: 1.1645e-04\n",
            "Epoch 12/25\n",
            "28/27 [==============================] - 17s 612ms/step - loss: 0.0189 - accuracy: 0.9770 - val_loss: 0.1473 - val_accuracy: 0.8716 - lr: 4.1935e-05\n",
            "Epoch 13/25\n",
            "28/27 [==============================] - 17s 608ms/step - loss: 0.0294 - accuracy: 0.9724 - val_loss: 0.1040 - val_accuracy: 0.8899 - lr: 1.2710e-04\n",
            "Epoch 14/25\n",
            "28/27 [==============================] - 17s 613ms/step - loss: 0.0171 - accuracy: 0.9747 - val_loss: 0.0997 - val_accuracy: 0.8991 - lr: 2.1226e-04\n",
            "Epoch 15/25\n",
            "28/27 [==============================] - 17s 605ms/step - loss: 0.0144 - accuracy: 0.9839 - val_loss: 0.0812 - val_accuracy: 0.9083 - lr: 2.9742e-04\n",
            "Epoch 16/25\n",
            "28/27 [==============================] - 17s 605ms/step - loss: 0.0175 - accuracy: 0.9747 - val_loss: 0.0741 - val_accuracy: 0.9083 - lr: 3.8258e-04\n",
            "Epoch 17/25\n",
            "28/27 [==============================] - 17s 620ms/step - loss: 0.0150 - accuracy: 0.9793 - val_loss: 0.1306 - val_accuracy: 0.9266 - lr: 4.6774e-04\n",
            "Epoch 18/25\n",
            "28/27 [==============================] - 17s 613ms/step - loss: 0.0109 - accuracy: 0.9839 - val_loss: 0.1295 - val_accuracy: 0.9266 - lr: 4.5710e-04\n",
            "Epoch 19/25\n",
            "28/27 [==============================] - 17s 617ms/step - loss: 0.0209 - accuracy: 0.9700 - val_loss: 0.0973 - val_accuracy: 0.9083 - lr: 3.7194e-04\n",
            "Epoch 20/25\n",
            "28/27 [==============================] - 17s 610ms/step - loss: 0.0666 - accuracy: 0.9355 - val_loss: 0.0752 - val_accuracy: 0.9174 - lr: 2.8677e-04\n",
            "Epoch 21/25\n",
            "28/27 [==============================] - 17s 615ms/step - loss: 0.0451 - accuracy: 0.9401 - val_loss: 0.0517 - val_accuracy: 0.9174 - lr: 2.0161e-04\n",
            "Epoch 22/25\n",
            "28/27 [==============================] - 17s 610ms/step - loss: 0.0165 - accuracy: 0.9931 - val_loss: 0.0352 - val_accuracy: 0.9541 - lr: 1.1645e-04\n",
            "Epoch 23/25\n",
            "28/27 [==============================] - 17s 618ms/step - loss: 0.0165 - accuracy: 0.9839 - val_loss: 0.0396 - val_accuracy: 0.9358 - lr: 3.1290e-05\n",
            "Epoch 24/25\n",
            "28/27 [==============================] - 17s 612ms/step - loss: 0.0168 - accuracy: 0.9816 - val_loss: 0.0353 - val_accuracy: 0.9358 - lr: 4.1935e-05\n",
            "Epoch 25/25\n",
            "28/27 [==============================] - 17s 621ms/step - loss: 0.0224 - accuracy: 0.9700 - val_loss: 0.0279 - val_accuracy: 0.9633 - lr: 8.4516e-05\n",
            "13/12 [==============================] - 2s 129ms/step\n",
            "-----------fold 1--------------\n",
            "Found 434 validated image filenames.\n",
            "Found 109 validated image filenames.\n",
            "Found 203 validated image filenames.\n",
            "Epoch 1/25\n",
            "28/27 [==============================] - 19s 696ms/step - loss: 0.1660 - accuracy: 0.6267 - val_loss: 0.1650 - val_accuracy: 0.5963 - lr: 1.8032e-04\n",
            "Epoch 2/25\n",
            "28/27 [==============================] - 17s 615ms/step - loss: 0.1157 - accuracy: 0.7857 - val_loss: 0.2104 - val_accuracy: 0.5963 - lr: 3.5065e-04\n",
            "Epoch 3/25\n",
            "28/27 [==============================] - 17s 602ms/step - loss: 0.1052 - accuracy: 0.8502 - val_loss: 0.1636 - val_accuracy: 0.6881 - lr: 5.2097e-04\n",
            "Epoch 4/25\n",
            "28/27 [==============================] - 17s 607ms/step - loss: 0.0900 - accuracy: 0.8733 - val_loss: 0.3133 - val_accuracy: 0.7156 - lr: 6.9129e-04\n",
            "Epoch 5/25\n",
            "28/27 [==============================] - 17s 611ms/step - loss: 0.0954 - accuracy: 0.8848 - val_loss: 0.4066 - val_accuracy: 0.7523 - lr: 8.6161e-04\n",
            "Epoch 6/25\n",
            "28/27 [==============================] - 17s 617ms/step - loss: 0.1386 - accuracy: 0.7926 - val_loss: 2.5512 - val_accuracy: 0.6330 - lr: 9.6806e-04\n",
            "Epoch 7/25\n",
            "28/27 [==============================] - 17s 612ms/step - loss: 0.0901 - accuracy: 0.8641 - val_loss: 0.1500 - val_accuracy: 0.7615 - lr: 7.9774e-04\n",
            "Epoch 8/25\n",
            "28/27 [==============================] - 17s 611ms/step - loss: 0.0845 - accuracy: 0.8618 - val_loss: 0.2732 - val_accuracy: 0.6055 - lr: 6.2742e-04\n",
            "Epoch 9/25\n",
            "28/27 [==============================] - 17s 610ms/step - loss: 0.0443 - accuracy: 0.9217 - val_loss: 0.3858 - val_accuracy: 0.7339 - lr: 4.5710e-04\n",
            "Epoch 10/25\n",
            "28/27 [==============================] - 17s 617ms/step - loss: 0.0260 - accuracy: 0.9631 - val_loss: 0.1430 - val_accuracy: 0.8165 - lr: 2.8677e-04\n",
            "Epoch 11/25\n",
            "28/27 [==============================] - 17s 610ms/step - loss: 0.0291 - accuracy: 0.9562 - val_loss: 0.2481 - val_accuracy: 0.7706 - lr: 1.1645e-04\n",
            "Epoch 12/25\n",
            "28/27 [==============================] - 17s 611ms/step - loss: 0.0443 - accuracy: 0.9585 - val_loss: 0.2028 - val_accuracy: 0.7890 - lr: 4.1935e-05\n",
            "Epoch 13/25\n",
            "28/27 [==============================] - 17s 612ms/step - loss: 0.0389 - accuracy: 0.9585 - val_loss: 0.1583 - val_accuracy: 0.8532 - lr: 1.2710e-04\n",
            "Epoch 14/25\n",
            "28/27 [==============================] - 17s 608ms/step - loss: 0.0296 - accuracy: 0.9516 - val_loss: 0.1377 - val_accuracy: 0.8532 - lr: 2.1226e-04\n",
            "Epoch 15/25\n",
            "28/27 [==============================] - 17s 608ms/step - loss: 0.0171 - accuracy: 0.9700 - val_loss: 0.1321 - val_accuracy: 0.8716 - lr: 2.9742e-04\n",
            "Epoch 16/25\n",
            "28/27 [==============================] - 17s 602ms/step - loss: 0.0098 - accuracy: 0.9862 - val_loss: 0.0710 - val_accuracy: 0.9450 - lr: 3.8258e-04\n",
            "Epoch 17/25\n",
            "28/27 [==============================] - 17s 607ms/step - loss: 0.0190 - accuracy: 0.9747 - val_loss: 0.2093 - val_accuracy: 0.8349 - lr: 4.6774e-04\n",
            "Epoch 18/25\n",
            "28/27 [==============================] - 17s 605ms/step - loss: 0.0288 - accuracy: 0.9631 - val_loss: 0.2365 - val_accuracy: 0.8073 - lr: 4.5710e-04\n",
            "Epoch 19/25\n",
            "28/27 [==============================] - 17s 621ms/step - loss: 0.0267 - accuracy: 0.9724 - val_loss: 0.0946 - val_accuracy: 0.9358 - lr: 3.7194e-04\n",
            "Epoch 20/25\n",
            "28/27 [==============================] - 17s 613ms/step - loss: 0.0168 - accuracy: 0.9770 - val_loss: 0.0632 - val_accuracy: 0.9266 - lr: 2.8677e-04\n",
            "Epoch 21/25\n",
            "28/27 [==============================] - 17s 614ms/step - loss: 0.0239 - accuracy: 0.9700 - val_loss: 0.0742 - val_accuracy: 0.9358 - lr: 2.0161e-04\n",
            "Epoch 22/25\n",
            "28/27 [==============================] - 17s 611ms/step - loss: 0.0272 - accuracy: 0.9724 - val_loss: 0.0457 - val_accuracy: 0.9541 - lr: 1.1645e-04\n",
            "Epoch 23/25\n",
            "28/27 [==============================] - 17s 611ms/step - loss: 0.0145 - accuracy: 0.9862 - val_loss: 0.0513 - val_accuracy: 0.9358 - lr: 3.1290e-05\n",
            "Epoch 24/25\n",
            "28/27 [==============================] - 17s 614ms/step - loss: 0.0126 - accuracy: 0.9908 - val_loss: 0.0616 - val_accuracy: 0.9083 - lr: 4.1935e-05\n",
            "Epoch 25/25\n",
            "28/27 [==============================] - 17s 605ms/step - loss: 0.0164 - accuracy: 0.9816 - val_loss: 0.0483 - val_accuracy: 0.9541 - lr: 8.4516e-05\n",
            "13/12 [==============================] - 1s 106ms/step\n",
            "-----------fold 2--------------\n",
            "Found 434 validated image filenames.\n",
            "Found 109 validated image filenames.\n",
            "Found 203 validated image filenames.\n",
            "Epoch 1/25\n",
            "28/27 [==============================] - 19s 687ms/step - loss: 0.1586 - accuracy: 0.6636 - val_loss: 0.2386 - val_accuracy: 0.5046 - lr: 1.8032e-04\n",
            "Epoch 2/25\n",
            "28/27 [==============================] - 17s 616ms/step - loss: 0.1034 - accuracy: 0.8479 - val_loss: 0.5001 - val_accuracy: 0.4954 - lr: 3.5065e-04\n",
            "Epoch 3/25\n",
            "28/27 [==============================] - 17s 617ms/step - loss: 0.0869 - accuracy: 0.8618 - val_loss: 0.7974 - val_accuracy: 0.5138 - lr: 5.2097e-04\n",
            "Epoch 4/25\n",
            "28/27 [==============================] - 17s 608ms/step - loss: 0.0946 - accuracy: 0.8664 - val_loss: 0.4275 - val_accuracy: 0.7156 - lr: 6.9129e-04\n",
            "Epoch 5/25\n",
            "28/27 [==============================] - 17s 615ms/step - loss: 0.1375 - accuracy: 0.8157 - val_loss: 0.5564 - val_accuracy: 0.6789 - lr: 8.6161e-04\n",
            "Epoch 6/25\n",
            "28/27 [==============================] - 17s 621ms/step - loss: 0.1525 - accuracy: 0.7719 - val_loss: 0.8139 - val_accuracy: 0.5596 - lr: 9.6806e-04\n",
            "Epoch 7/25\n",
            "28/27 [==============================] - 17s 614ms/step - loss: 0.0736 - accuracy: 0.8802 - val_loss: 0.5402 - val_accuracy: 0.7615 - lr: 7.9774e-04\n",
            "Epoch 8/25\n",
            "28/27 [==============================] - 17s 618ms/step - loss: 0.0582 - accuracy: 0.9171 - val_loss: 0.5252 - val_accuracy: 0.6789 - lr: 6.2742e-04\n",
            "Epoch 9/25\n",
            "28/27 [==============================] - 17s 620ms/step - loss: 0.0438 - accuracy: 0.9447 - val_loss: 0.2826 - val_accuracy: 0.7523 - lr: 4.5710e-04\n",
            "Epoch 10/25\n",
            "28/27 [==============================] - 17s 618ms/step - loss: 0.0454 - accuracy: 0.9309 - val_loss: 0.3044 - val_accuracy: 0.8165 - lr: 2.8677e-04\n",
            "Epoch 11/25\n",
            "28/27 [==============================] - 17s 616ms/step - loss: 0.0321 - accuracy: 0.9447 - val_loss: 0.5108 - val_accuracy: 0.7615 - lr: 1.1645e-04\n",
            "Epoch 12/25\n",
            "28/27 [==============================] - 17s 614ms/step - loss: 0.0193 - accuracy: 0.9793 - val_loss: 0.4305 - val_accuracy: 0.7615 - lr: 4.1935e-05\n",
            "Epoch 13/25\n",
            "28/27 [==============================] - 17s 618ms/step - loss: 0.0176 - accuracy: 0.9793 - val_loss: 0.2885 - val_accuracy: 0.7706 - lr: 1.2710e-04\n",
            "Epoch 14/25\n",
            "28/27 [==============================] - 17s 612ms/step - loss: 0.0167 - accuracy: 0.9747 - val_loss: 0.1956 - val_accuracy: 0.8532 - lr: 2.1226e-04\n",
            "Epoch 15/25\n",
            "28/27 [==============================] - 17s 621ms/step - loss: 0.0204 - accuracy: 0.9747 - val_loss: 0.0867 - val_accuracy: 0.8991 - lr: 2.9742e-04\n",
            "Epoch 16/25\n",
            "28/27 [==============================] - 17s 615ms/step - loss: 0.0383 - accuracy: 0.9585 - val_loss: 0.1929 - val_accuracy: 0.6972 - lr: 3.8258e-04\n",
            "Epoch 17/25\n",
            "28/27 [==============================] - 17s 617ms/step - loss: 0.0517 - accuracy: 0.9378 - val_loss: 0.0954 - val_accuracy: 0.8165 - lr: 4.6774e-04\n",
            "Epoch 18/25\n",
            "28/27 [==============================] - 18s 628ms/step - loss: 0.0999 - accuracy: 0.8433 - val_loss: 0.1942 - val_accuracy: 0.7064 - lr: 4.5710e-04\n",
            "Epoch 19/25\n",
            "28/27 [==============================] - 17s 613ms/step - loss: 0.0354 - accuracy: 0.9424 - val_loss: 0.1151 - val_accuracy: 0.8440 - lr: 3.7194e-04\n",
            "Epoch 20/25\n",
            "28/27 [==============================] - 17s 618ms/step - loss: 0.0353 - accuracy: 0.9562 - val_loss: 0.0558 - val_accuracy: 0.9266 - lr: 2.8677e-04\n",
            "Epoch 21/25\n",
            "28/27 [==============================] - 17s 619ms/step - loss: 0.0191 - accuracy: 0.9700 - val_loss: 0.0488 - val_accuracy: 0.9358 - lr: 2.0161e-04\n",
            "Epoch 22/25\n",
            "28/27 [==============================] - 17s 620ms/step - loss: 0.0107 - accuracy: 0.9839 - val_loss: 0.0616 - val_accuracy: 0.9174 - lr: 1.1645e-04\n",
            "Epoch 23/25\n",
            "28/27 [==============================] - 17s 618ms/step - loss: 0.0216 - accuracy: 0.9793 - val_loss: 0.0296 - val_accuracy: 0.9633 - lr: 3.1290e-05\n",
            "Epoch 24/25\n",
            "28/27 [==============================] - 17s 622ms/step - loss: 0.0114 - accuracy: 0.9885 - val_loss: 0.0452 - val_accuracy: 0.9358 - lr: 4.1935e-05\n",
            "Epoch 25/25\n",
            "28/27 [==============================] - 17s 615ms/step - loss: 0.0076 - accuracy: 0.9931 - val_loss: 0.0400 - val_accuracy: 0.9450 - lr: 8.4516e-05\n",
            "13/12 [==============================] - 1s 106ms/step\n",
            "-----------fold 3--------------\n",
            "Found 435 validated image filenames.\n",
            "Found 108 validated image filenames.\n",
            "Found 203 validated image filenames.\n",
            "Epoch 1/25\n",
            "28/27 [==============================] - 21s 739ms/step - loss: 0.1792 - accuracy: 0.5816 - val_loss: 0.2113 - val_accuracy: 0.5000 - lr: 1.7993e-04\n",
            "Epoch 2/25\n",
            "28/27 [==============================] - 17s 611ms/step - loss: 0.1189 - accuracy: 0.7839 - val_loss: 0.3431 - val_accuracy: 0.4722 - lr: 3.4986e-04\n",
            "Epoch 3/25\n",
            "28/27 [==============================] - 17s 607ms/step - loss: 0.0874 - accuracy: 0.8713 - val_loss: 0.1990 - val_accuracy: 0.6759 - lr: 5.1979e-04\n",
            "Epoch 4/25\n",
            "28/27 [==============================] - 17s 612ms/step - loss: 0.1028 - accuracy: 0.8414 - val_loss: 0.2862 - val_accuracy: 0.6574 - lr: 6.8972e-04\n",
            "Epoch 5/25\n",
            "28/27 [==============================] - 17s 614ms/step - loss: 0.0892 - accuracy: 0.8667 - val_loss: 0.1784 - val_accuracy: 0.7593 - lr: 8.5966e-04\n",
            "Epoch 6/25\n",
            "28/27 [==============================] - 17s 610ms/step - loss: 0.0905 - accuracy: 0.8828 - val_loss: 0.3901 - val_accuracy: 0.7130 - lr: 9.7041e-04\n",
            "Epoch 7/25\n",
            "28/27 [==============================] - 17s 610ms/step - loss: 0.0857 - accuracy: 0.8598 - val_loss: 0.4386 - val_accuracy: 0.5185 - lr: 8.0048e-04\n",
            "Epoch 8/25\n",
            "28/27 [==============================] - 17s 619ms/step - loss: 0.0664 - accuracy: 0.9103 - val_loss: 0.1010 - val_accuracy: 0.8519 - lr: 6.3055e-04\n",
            "Epoch 9/25\n",
            "28/27 [==============================] - 17s 609ms/step - loss: 0.0512 - accuracy: 0.9310 - val_loss: 0.0969 - val_accuracy: 0.8426 - lr: 4.6062e-04\n",
            "Epoch 10/25\n",
            "28/27 [==============================] - 17s 615ms/step - loss: 0.0492 - accuracy: 0.9379 - val_loss: 0.0638 - val_accuracy: 0.8796 - lr: 2.9069e-04\n",
            "Epoch 11/25\n",
            "28/27 [==============================] - 17s 610ms/step - loss: 0.0261 - accuracy: 0.9678 - val_loss: 0.0802 - val_accuracy: 0.8889 - lr: 1.2076e-04\n",
            "Epoch 12/25\n",
            "28/27 [==============================] - 17s 614ms/step - loss: 0.0252 - accuracy: 0.9839 - val_loss: 0.0690 - val_accuracy: 0.8796 - lr: 3.9586e-05\n",
            "Epoch 13/25\n",
            "28/27 [==============================] - 17s 612ms/step - loss: 0.0325 - accuracy: 0.9632 - val_loss: 0.0942 - val_accuracy: 0.8796 - lr: 1.2455e-04\n",
            "Epoch 14/25\n",
            "28/27 [==============================] - 17s 608ms/step - loss: 0.0197 - accuracy: 0.9701 - val_loss: 0.1107 - val_accuracy: 0.8889 - lr: 2.0952e-04\n",
            "Epoch 15/25\n",
            "28/27 [==============================] - 17s 619ms/step - loss: 0.0168 - accuracy: 0.9747 - val_loss: 0.1530 - val_accuracy: 0.8611 - lr: 2.9448e-04\n",
            "Epoch 16/25\n",
            "28/27 [==============================] - 17s 614ms/step - loss: 0.0135 - accuracy: 0.9862 - val_loss: 0.0689 - val_accuracy: 0.9259 - lr: 3.7945e-04\n",
            "Epoch 17/25\n",
            "28/27 [==============================] - 17s 616ms/step - loss: 0.0139 - accuracy: 0.9793 - val_loss: 0.1948 - val_accuracy: 0.8704 - lr: 4.6441e-04\n",
            "Epoch 18/25\n",
            "28/27 [==============================] - 17s 611ms/step - loss: 0.0095 - accuracy: 0.9862 - val_loss: 0.2824 - val_accuracy: 0.7778 - lr: 4.6062e-04\n",
            "Epoch 19/25\n",
            "28/27 [==============================] - 17s 614ms/step - loss: 0.0091 - accuracy: 0.9908 - val_loss: 0.2230 - val_accuracy: 0.8611 - lr: 3.7566e-04\n",
            "Epoch 20/25\n",
            "28/27 [==============================] - 17s 608ms/step - loss: 0.0341 - accuracy: 0.9747 - val_loss: 0.0791 - val_accuracy: 0.9444 - lr: 2.9069e-04\n",
            "Epoch 21/25\n",
            "28/27 [==============================] - 17s 608ms/step - loss: 0.0422 - accuracy: 0.9494 - val_loss: 0.0567 - val_accuracy: 0.8981 - lr: 2.0572e-04\n",
            "Epoch 22/25\n",
            "28/27 [==============================] - 17s 612ms/step - loss: 0.0208 - accuracy: 0.9724 - val_loss: 0.0662 - val_accuracy: 0.9074 - lr: 1.2076e-04\n",
            "Epoch 23/25\n",
            "28/27 [==============================] - 17s 619ms/step - loss: 0.0176 - accuracy: 0.9839 - val_loss: 0.0407 - val_accuracy: 0.9074 - lr: 3.5793e-05\n",
            "Epoch 24/25\n",
            "28/27 [==============================] - 17s 609ms/step - loss: 0.0131 - accuracy: 0.9770 - val_loss: 0.0243 - val_accuracy: 0.9537 - lr: 3.9586e-05\n",
            "Epoch 25/25\n",
            "28/27 [==============================] - 17s 616ms/step - loss: 0.0210 - accuracy: 0.9655 - val_loss: 0.0376 - val_accuracy: 0.9352 - lr: 8.2069e-05\n",
            "13/12 [==============================] - 1s 106ms/step\n",
            "-----------fold 4--------------\n",
            "Found 435 validated image filenames.\n",
            "Found 108 validated image filenames.\n",
            "Found 203 validated image filenames.\n",
            "Epoch 1/25\n",
            "28/27 [==============================] - 19s 679ms/step - loss: 0.1890 - accuracy: 0.5632 - val_loss: 0.1688 - val_accuracy: 0.6667 - lr: 1.7993e-04\n",
            "Epoch 2/25\n",
            "28/27 [==============================] - 17s 618ms/step - loss: 0.1222 - accuracy: 0.7793 - val_loss: 0.2353 - val_accuracy: 0.6481 - lr: 3.4986e-04\n",
            "Epoch 3/25\n",
            "28/27 [==============================] - 17s 616ms/step - loss: 0.1089 - accuracy: 0.8299 - val_loss: 0.2489 - val_accuracy: 0.6852 - lr: 5.1979e-04\n",
            "Epoch 4/25\n",
            "28/27 [==============================] - 17s 624ms/step - loss: 0.0811 - accuracy: 0.8943 - val_loss: 0.2622 - val_accuracy: 0.7407 - lr: 6.8972e-04\n",
            "Epoch 5/25\n",
            "28/27 [==============================] - 17s 619ms/step - loss: 0.1014 - accuracy: 0.8483 - val_loss: 0.4198 - val_accuracy: 0.7870 - lr: 8.5966e-04\n",
            "Epoch 6/25\n",
            "28/27 [==============================] - 17s 616ms/step - loss: 0.1181 - accuracy: 0.8276 - val_loss: 0.4237 - val_accuracy: 0.7963 - lr: 9.7041e-04\n",
            "Epoch 7/25\n",
            "28/27 [==============================] - 17s 617ms/step - loss: 0.0965 - accuracy: 0.8644 - val_loss: 0.1162 - val_accuracy: 0.8241 - lr: 8.0048e-04\n",
            "Epoch 8/25\n",
            "28/27 [==============================] - 17s 618ms/step - loss: 0.0680 - accuracy: 0.9103 - val_loss: 1.0221 - val_accuracy: 0.6759 - lr: 6.3055e-04\n",
            "Epoch 9/25\n",
            "28/27 [==============================] - 17s 620ms/step - loss: 0.0496 - accuracy: 0.9379 - val_loss: 0.3712 - val_accuracy: 0.7037 - lr: 4.6062e-04\n",
            "Epoch 10/25\n",
            "28/27 [==============================] - 17s 618ms/step - loss: 0.0421 - accuracy: 0.9517 - val_loss: 0.2373 - val_accuracy: 0.7407 - lr: 2.9069e-04\n",
            "Epoch 11/25\n",
            "28/27 [==============================] - 17s 620ms/step - loss: 0.0354 - accuracy: 0.9517 - val_loss: 0.3020 - val_accuracy: 0.7130 - lr: 1.2076e-04\n",
            "Epoch 12/25\n",
            "28/27 [==============================] - 17s 619ms/step - loss: 0.0289 - accuracy: 0.9678 - val_loss: 0.2576 - val_accuracy: 0.7778 - lr: 3.9586e-05\n",
            "Epoch 13/25\n",
            "28/27 [==============================] - 17s 621ms/step - loss: 0.0205 - accuracy: 0.9747 - val_loss: 0.1880 - val_accuracy: 0.8241 - lr: 1.2455e-04\n",
            "Epoch 14/25\n",
            "28/27 [==============================] - 17s 613ms/step - loss: 0.0171 - accuracy: 0.9701 - val_loss: 0.2487 - val_accuracy: 0.7778 - lr: 2.0952e-04\n",
            "Epoch 15/25\n",
            "28/27 [==============================] - 17s 620ms/step - loss: 0.0326 - accuracy: 0.9540 - val_loss: 0.1888 - val_accuracy: 0.7778 - lr: 2.9448e-04\n",
            "Epoch 16/25\n",
            "28/27 [==============================] - 17s 614ms/step - loss: 0.0220 - accuracy: 0.9701 - val_loss: 0.2184 - val_accuracy: 0.8148 - lr: 3.7945e-04\n",
            "Epoch 17/25\n",
            "28/27 [==============================] - 17s 614ms/step - loss: 0.0093 - accuracy: 0.9908 - val_loss: 0.2609 - val_accuracy: 0.8241 - lr: 4.6441e-04\n",
            "Epoch 18/25\n",
            "28/27 [==============================] - 17s 609ms/step - loss: 0.0234 - accuracy: 0.9609 - val_loss: 0.1716 - val_accuracy: 0.8426 - lr: 4.6062e-04\n",
            "Epoch 19/25\n",
            "28/27 [==============================] - 17s 613ms/step - loss: 0.0259 - accuracy: 0.9701 - val_loss: 0.2857 - val_accuracy: 0.8148 - lr: 3.7566e-04\n",
            "Epoch 20/25\n",
            "28/27 [==============================] - 17s 615ms/step - loss: 0.0398 - accuracy: 0.9425 - val_loss: 0.0977 - val_accuracy: 0.8981 - lr: 2.9069e-04\n",
            "Epoch 21/25\n",
            "28/27 [==============================] - 17s 611ms/step - loss: 0.0291 - accuracy: 0.9632 - val_loss: 0.1241 - val_accuracy: 0.8889 - lr: 2.0572e-04\n",
            "Epoch 22/25\n",
            "28/27 [==============================] - 17s 610ms/step - loss: 0.0210 - accuracy: 0.9862 - val_loss: 0.0788 - val_accuracy: 0.9352 - lr: 1.2076e-04\n",
            "Epoch 23/25\n",
            "28/27 [==============================] - 17s 619ms/step - loss: 0.0188 - accuracy: 0.9839 - val_loss: 0.0311 - val_accuracy: 0.9630 - lr: 3.5793e-05\n",
            "Epoch 24/25\n",
            "28/27 [==============================] - 17s 616ms/step - loss: 0.0251 - accuracy: 0.9678 - val_loss: 0.0291 - val_accuracy: 0.9722 - lr: 3.9586e-05\n",
            "Epoch 25/25\n",
            "28/27 [==============================] - 17s 609ms/step - loss: 0.0109 - accuracy: 0.9954 - val_loss: 0.0351 - val_accuracy: 0.9537 - lr: 8.2069e-05\n",
            "13/12 [==============================] - 1s 108ms/step\n"
          ],
          "name": "stdout"
        }
      ]
    },
    {
      "cell_type": "code",
      "metadata": {
        "id": "BJobcAABrZK4",
        "colab_type": "code",
        "outputId": "d92e0263-d24f-458c-8037-791c3c08ed39",
        "colab": {
          "base_uri": "https://localhost:8080/",
          "height": 35
        }
      },
      "source": [
        "import numpy as np\n",
        "y_mean=np.mean(y_pred,axis=0)\n",
        "y_true=test_df.iloc[:,2::]\n",
        "y_true.shape,y_mean.shape"
      ],
      "execution_count": 23,
      "outputs": [
        {
          "output_type": "execute_result",
          "data": {
            "text/plain": [
              "((203, 2), (203, 2))"
            ]
          },
          "metadata": {
            "tags": []
          },
          "execution_count": 23
        }
      ]
    },
    {
      "cell_type": "code",
      "metadata": {
        "id": "XCphJVfdBm0H",
        "colab_type": "code",
        "outputId": "c85accdb-1a1c-4d1f-e6e8-0e888b152a52",
        "colab": {
          "base_uri": "https://localhost:8080/",
          "height": 35
        }
      },
      "source": [
        "y_mean=np.argmax(y_mean,axis=1).ravel()\n",
        "y_true=np.argmax(y_true.values,axis=1).ravel()\n",
        "\n",
        "y_true.shape,y_mean.shape"
      ],
      "execution_count": 24,
      "outputs": [
        {
          "output_type": "execute_result",
          "data": {
            "text/plain": [
              "((203,), (203,))"
            ]
          },
          "metadata": {
            "tags": []
          },
          "execution_count": 24
        }
      ]
    },
    {
      "cell_type": "code",
      "metadata": {
        "id": "ecc-q4ledbtX",
        "colab_type": "code",
        "outputId": "f4fd863a-b0a1-48e0-c2cd-7387e6193278",
        "colab": {
          "base_uri": "https://localhost:8080/",
          "height": 225
        }
      },
      "source": [
        "\n",
        "print(classification_report(y_true, y_mean,target_names=['covid','noncovid']))#\n",
        "print('accuracy',np.round(accuracy_score(y_true,y_mean),2))\n",
        "print('f1 score is ',np.round(f1_score(y_true,y_mean,average='macro'),2))\n",
        "print('auc',np.round(roc_auc_score(y_true,y_mean),2))"
      ],
      "execution_count": 25,
      "outputs": [
        {
          "output_type": "stream",
          "text": [
            "              precision    recall  f1-score   support\n",
            "\n",
            "       covid       0.97      0.73      0.84        98\n",
            "    noncovid       0.80      0.98      0.88       105\n",
            "\n",
            "    accuracy                           0.86       203\n",
            "   macro avg       0.89      0.86      0.86       203\n",
            "weighted avg       0.88      0.86      0.86       203\n",
            "\n",
            "accuracy 0.86\n",
            "f1 score is  0.86\n",
            "auc 0.86\n"
          ],
          "name": "stdout"
        }
      ]
    },
    {
      "cell_type": "code",
      "metadata": {
        "id": "l8wKVY53zFEU",
        "colab_type": "code",
        "outputId": "71830a2d-366b-4e6c-c0be-1395bfc1195c",
        "colab": {
          "base_uri": "https://localhost:8080/",
          "height": 52
        }
      },
      "source": [
        "from sklearn.metrics import confusion_matrix\n",
        "confusion_matrix(y_true, y_mean)"
      ],
      "execution_count": 26,
      "outputs": [
        {
          "output_type": "execute_result",
          "data": {
            "text/plain": [
              "array([[ 72,  26],\n",
              "       [  2, 103]])"
            ]
          },
          "metadata": {
            "tags": []
          },
          "execution_count": 26
        }
      ]
    },
    {
      "cell_type": "code",
      "metadata": {
        "id": "vTITL7dozI_1",
        "colab_type": "code",
        "colab": {}
      },
      "source": [
        "for i in range(5):\n",
        "  np.save('CLR_history_{}'.format(i),history[i].history)"
      ],
      "execution_count": 0,
      "outputs": []
    },
    {
      "cell_type": "code",
      "metadata": {
        "id": "ro8qafwWGVUw",
        "colab_type": "code",
        "outputId": "cdae1cb4-3da4-4138-d07f-7ed8e882fd21",
        "colab": {
          "base_uri": "https://localhost:8080/",
          "height": 573
        }
      },
      "source": [
        "import matplotlib.pyplot as plt\n",
        "\n",
        "# Plot training & validation accuracy values\n",
        "plt.plot(np.mean([[j for j in x.history['accuracy']] for x in history ],axis=0))\n",
        "plt.plot(np.mean([[j for j in x.history['val_accuracy']] for x in history ],axis=0))\n",
        "plt.title('Model accuracy')\n",
        "plt.ylabel('Accuracy')\n",
        "plt.xlabel('Epoch')\n",
        "plt.legend(['Train', 'Test'], loc='upper left')\n",
        "plt.show()\n",
        "\n",
        "# Plot training & validation loss values\n",
        "plt.plot(np.mean([[j for j in x.history['loss']] for x in history ],axis=0))\n",
        "plt.plot(np.mean([[j for j in x.history['val_loss']] for x in history ],axis=0))\n",
        "plt.title('Model loss')\n",
        "plt.ylabel('Loss')\n",
        "plt.xlabel('Epoch')\n",
        "plt.legend(['Train', 'Test'], loc='upper left')\n",
        "plt.show()"
      ],
      "execution_count": 28,
      "outputs": [
        {
          "output_type": "display_data",
          "data": {
            "image/png": "[encoded data removed]",
            "text/plain": [
              "<Figure size 432x288 with 1 Axes>"
            ]
          },
          "metadata": {
            "tags": [],
            "needs_background": "light"
          }
        },
        {
          "output_type": "display_data",
          "data": {
            "image/png": "[encoded data removed]",
            "text/plain": [
              "<Figure size 432x288 with 1 Axes>"
            ]
          },
          "metadata": {
            "tags": [],
            "needs_background": "light"
          }
        }
      ]
    },
    {
      "cell_type": "code",
      "metadata": {
        "id": "4iBpBbOKKsHl",
        "colab_type": "code",
        "outputId": "6ddfe4a1-7640-4605-e0f7-d89a8b0ef872",
        "colab": {
          "base_uri": "https://localhost:8080/",
          "height": 35
        }
      },
      "source": [
        "history[0].history.keys()"
      ],
      "execution_count": 29,
      "outputs": [
        {
          "output_type": "execute_result",
          "data": {
            "text/plain": [
              "dict_keys(['loss', 'accuracy', 'val_loss', 'val_accuracy', 'lr'])"
            ]
          },
          "metadata": {
            "tags": []
          },
          "execution_count": 29
        }
      ]
    },
    {
      "cell_type": "code",
      "metadata": {
        "id": "qwwg0V-iI4wg",
        "colab_type": "code",
        "outputId": "1b68c3f5-18a9-466b-cd81-3f5a6e9a1e04",
        "colab": {
          "base_uri": "https://localhost:8080/",
          "height": 295
        }
      },
      "source": [
        "# Plot training & validation loss values\n",
        "for i in range(5):\n",
        "  plt.plot(history[i].history['val_accuracy'])\n",
        "plt.title('Model Validation Accuracy')\n",
        "plt.ylabel('Accuracy')\n",
        "plt.xlabel('Epoch')\n",
        "plt.legend(['Fold1','Fold2','Fold3','Fold4','Fold5' ], loc='upper left')\n",
        "plt.show()"
      ],
      "execution_count": 30,
      "outputs": [
        {
          "output_type": "display_data",
          "data": {
            "image/png": "[encoded data removed]",
            "text/plain": [
              "<Figure size 432x288 with 1 Axes>"
            ]
          },
          "metadata": {
            "tags": [],
            "needs_background": "light"
          }
        }
      ]
    },
    {
      "cell_type": "code",
      "metadata": {
        "id": "IZYI3cDH-vGN",
        "colab_type": "code",
        "outputId": "000f20a0-43f5-4194-89b1-8d3ae7371e01",
        "colab": {
          "base_uri": "https://localhost:8080/",
          "height": 295
        }
      },
      "source": [
        "# Plot training & validation loss values\n",
        "for i in range(5):\n",
        "  plt.plot(history[i].history['val_loss'])\n",
        "plt.title('Model Validation Loss')\n",
        "plt.ylabel('Loss')\n",
        "plt.xlabel('Epoch')\n",
        "plt.legend(['Fold1','Fold2','Fold3','Fold4','Fold5' ], loc='upper left')\n",
        "plt.show()"
      ],
      "execution_count": 31,
      "outputs": [
        {
          "output_type": "display_data",
          "data": {
            "image/png": "[encoded data removed]",
            "text/plain": [
              "<Figure size 432x288 with 1 Axes>"
            ]
          },
          "metadata": {
            "tags": [],
            "needs_background": "light"
          }
        }
      ]
    },
    {
      "cell_type": "code",
      "metadata": {
        "id": "cWbbVN8cLGb1",
        "colab_type": "code",
        "outputId": "9092ec21-8d76-40d3-926e-9699ae48dc0f",
        "colab": {
          "base_uri": "https://localhost:8080/",
          "height": 295
        }
      },
      "source": [
        "# Plot training & validation loss values\n",
        "for i in range(5):\n",
        "  plt.plot(history[i].history['lr'])\n",
        "plt.title('Model LR')\n",
        "plt.ylabel('LR')\n",
        "plt.xlabel('Epoch')\n",
        "plt.legend(['LR1','LR2','LR3','LR4','LR5' ], loc='upper left')\n",
        "plt.show()"
      ],
      "execution_count": 32,
      "outputs": [
        {
          "output_type": "display_data",
          "data": {
            "image/png": "[encoded data removed]",
            "text/plain": [
              "<Figure size 432x288 with 1 Axes>"
            ]
          },
          "metadata": {
            "tags": [],
            "needs_background": "light"
          }
        }
      ]
    },
    {
      "cell_type": "code",
      "metadata": {
        "id": "t5r6wCOdAIjj",
        "colab_type": "code",
        "colab": {}
      },
      "source": [
        ""
      ],
      "execution_count": 0,
      "outputs": []
    }
  ]
}