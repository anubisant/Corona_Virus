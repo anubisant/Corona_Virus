{
  "nbformat": 4,
  "nbformat_minor": 0,
  "metadata": {
    "colab": {
      "name": "NLR cross_validation_test.ipynb",
      "provenance": [],
      "toc_visible": true,
      "include_colab_link": true
    },
    "kernelspec": {
      "name": "python3",
      "display_name": "Python 3"
    },
    "accelerator": "GPU"
  },
  "cells": [
    {
      "cell_type": "markdown",
      "metadata": {
        "id": "view-in-github",
        "colab_type": "text"
      },
      "source": [
        "<a href=\"https://colab.research.google.com/github/talhaanwarch/Corona_Virus/blob/master/CT_scan/NLR_cross_validation_test.ipynb\" target=\"_parent\"><img src=\"https://colab.research.google.com/assets/colab-badge.svg\" alt=\"Open In Colab\"/></a>"
      ]
    },
    {
      "cell_type": "code",
      "metadata": {
        "id": "ylMZAGXl7kKx",
        "colab_type": "code",
        "colab": {}
      },
      "source": [
        "%%capture\n",
        "!pip install efficientnet"
      ],
      "execution_count": 0,
      "outputs": []
    },
    {
      "cell_type": "code",
      "metadata": {
        "id": "_d7PdOxl3KJv",
        "colab_type": "code",
        "colab": {}
      },
      "source": [
        "%%capture\n",
        "!pip install focal-loss"
      ],
      "execution_count": 0,
      "outputs": []
    },
    {
      "cell_type": "code",
      "metadata": {
        "id": "KqvtepzCMe8O",
        "colab_type": "code",
        "outputId": "53854117-a4fa-4285-e1b2-b8a8c602491d",
        "colab": {
          "base_uri": "https://localhost:8080/",
          "height": 228
        }
      },
      "source": [
        "!wget https://raw.githubusercontent.com/talhaanwarch/keras-contrib/master/keras_contrib/callbacks/cyclical_learning_rate.py"
      ],
      "execution_count": 3,
      "outputs": [
        {
          "output_type": "stream",
          "text": [
            "--2020-05-10 23:26:54--  https://raw.githubusercontent.com/talhaanwarch/keras-contrib/master/keras_contrib/callbacks/cyclical_learning_rate.py\n",
            "Resolving raw.githubusercontent.com (raw.githubusercontent.com)... 151.101.0.133, 151.101.64.133, 151.101.128.133, ...\n",
            "Connecting to raw.githubusercontent.com (raw.githubusercontent.com)|151.101.0.133|:443... connected.\n",
            "HTTP request sent, awaiting response... 200 OK\n",
            "Length: 5976 (5.8K) [text/plain]\n",
            "Saving to: ‘cyclical_learning_rate.py’\n",
            "\n",
            "\r          cyclical_   0%[                    ]       0  --.-KB/s               \rcyclical_learning_r 100%[===================>]   5.84K  --.-KB/s    in 0s      \n",
            "\n",
            "2020-05-10 23:26:54 (83.0 MB/s) - ‘cyclical_learning_rate.py’ saved [5976/5976]\n",
            "\n"
          ],
          "name": "stdout"
        }
      ]
    },
    {
      "cell_type": "markdown",
      "metadata": {
        "id": "4FDtv7g97nN8",
        "colab_type": "text"
      },
      "source": [
        "### CLone github repo, to dowlonad data"
      ]
    },
    {
      "cell_type": "code",
      "metadata": {
        "id": "yi2pSQus7JR4",
        "colab_type": "code",
        "outputId": "185fc5cb-fd7f-401a-cf19-d228ebf08084",
        "colab": {
          "base_uri": "https://localhost:8080/",
          "height": 121
        }
      },
      "source": [
        "!git clone https://github.com/UCSD-AI4H/COVID-CT.git"
      ],
      "execution_count": 4,
      "outputs": [
        {
          "output_type": "stream",
          "text": [
            "Cloning into 'COVID-CT'...\n",
            "remote: Enumerating objects: 5443, done.\u001b[K\n",
            "remote: Total 5443 (delta 0), reused 0 (delta 0), pack-reused 5443\u001b[K\n",
            "Receiving objects: 100% (5443/5443), 1.09 GiB | 43.12 MiB/s, done.\n",
            "Resolving deltas: 100% (355/355), done.\n",
            "Checking out files: 100% (1048/1048), done.\n"
          ],
          "name": "stdout"
        }
      ]
    },
    {
      "cell_type": "markdown",
      "metadata": {
        "id": "imIfz2hq7s0m",
        "colab_type": "text"
      },
      "source": [
        "### Extract data in one format"
      ]
    },
    {
      "cell_type": "code",
      "metadata": {
        "id": "6WuO45h57deK",
        "colab_type": "code",
        "colab": {}
      },
      "source": [
        "%%capture\n",
        "!unzip /content/COVID-CT/Images-processed/CT_COVID.zip\n",
        "!unzip /content/COVID-CT/Images-processed/CT_NonCOVID.zip"
      ],
      "execution_count": 0,
      "outputs": []
    },
    {
      "cell_type": "code",
      "metadata": {
        "id": "eJUYRmVS8kJR",
        "colab_type": "code",
        "colab": {}
      },
      "source": [
        "!mkdir images\n",
        "!cp -r /content/CT_COVID/* images\n",
        "!cp -r /content/CT_NonCOVID/* images\n"
      ],
      "execution_count": 0,
      "outputs": []
    },
    {
      "cell_type": "markdown",
      "metadata": {
        "id": "R959Xz4V9GuP",
        "colab_type": "text"
      },
      "source": [
        "###read meta files"
      ]
    },
    {
      "cell_type": "code",
      "metadata": {
        "id": "ZSd1vcC-9Smh",
        "colab_type": "code",
        "colab": {}
      },
      "source": [
        "import pandas as pd\n",
        "import os"
      ],
      "execution_count": 0,
      "outputs": []
    },
    {
      "cell_type": "code",
      "metadata": {
        "id": "Li1uZhmr9Jk2",
        "colab_type": "code",
        "outputId": "f3bbf5ba-2cc4-4bb0-9345-e15d5ca37964",
        "colab": {
          "base_uri": "https://localhost:8080/",
          "height": 202
        }
      },
      "source": [
        "covid=os.listdir('/content/CT_COVID')\n",
        "cov=list(zip(covid,['covid']*(len(covid))))\n",
        "covid_df = pd.DataFrame(cov,columns=['file','label']) \n",
        "covid_df.head()"
      ],
      "execution_count": 8,
      "outputs": [
        {
          "output_type": "execute_result",
          "data": {
            "text/html": [
              "<div>\n",
              "<style scoped>\n",
              "    .dataframe tbody tr th:only-of-type {\n",
              "        vertical-align: middle;\n",
              "    }\n",
              "\n",
              "    .dataframe tbody tr th {\n",
              "        vertical-align: top;\n",
              "    }\n",
              "\n",
              "    .dataframe thead th {\n",
              "        text-align: right;\n",
              "    }\n",
              "</style>\n",
              "<table border=\"1\" class=\"dataframe\">\n",
              "  <thead>\n",
              "    <tr style=\"text-align: right;\">\n",
              "      <th></th>\n",
              "      <th>file</th>\n",
              "      <th>label</th>\n",
              "    </tr>\n",
              "  </thead>\n",
              "  <tbody>\n",
              "    <tr>\n",
              "      <th>0</th>\n",
              "      <td>2020.02.10.20021584-p6-52%7.png</td>\n",
              "      <td>covid</td>\n",
              "    </tr>\n",
              "    <tr>\n",
              "      <th>1</th>\n",
              "      <td>2020.03.13.20035212-p23-157.png</td>\n",
              "      <td>covid</td>\n",
              "    </tr>\n",
              "    <tr>\n",
              "      <th>2</th>\n",
              "      <td>2020.02.25.20021568-p23-108%1.png</td>\n",
              "      <td>covid</td>\n",
              "    </tr>\n",
              "    <tr>\n",
              "      <th>3</th>\n",
              "      <td>2020.03.13.20035212-p23-155.png</td>\n",
              "      <td>covid</td>\n",
              "    </tr>\n",
              "    <tr>\n",
              "      <th>4</th>\n",
              "      <td>2020.03.07.20031393-p7-50%2.png</td>\n",
              "      <td>covid</td>\n",
              "    </tr>\n",
              "  </tbody>\n",
              "</table>\n",
              "</div>"
            ],
            "text/plain": [
              "                                file  label\n",
              "0    2020.02.10.20021584-p6-52%7.png  covid\n",
              "1    2020.03.13.20035212-p23-157.png  covid\n",
              "2  2020.02.25.20021568-p23-108%1.png  covid\n",
              "3    2020.03.13.20035212-p23-155.png  covid\n",
              "4    2020.03.07.20031393-p7-50%2.png  covid"
            ]
          },
          "metadata": {
            "tags": []
          },
          "execution_count": 8
        }
      ]
    },
    {
      "cell_type": "code",
      "metadata": {
        "id": "PUrppSTx7Z3f",
        "colab_type": "code",
        "outputId": "20da9d50-f9d1-43cc-bfc3-a769c5c41f13",
        "colab": {
          "base_uri": "https://localhost:8080/",
          "height": 202
        }
      },
      "source": [
        "noncovid=os.listdir('/content/CT_NonCOVID')\n",
        "noncov=list(zip(noncovid,['noncovid']*(len(noncovid))))\n",
        "noncovid_df = pd.DataFrame(noncov,columns=['file','label']) \n",
        "noncovid_df.head()"
      ],
      "execution_count": 9,
      "outputs": [
        {
          "output_type": "execute_result",
          "data": {
            "text/html": [
              "<div>\n",
              "<style scoped>\n",
              "    .dataframe tbody tr th:only-of-type {\n",
              "        vertical-align: middle;\n",
              "    }\n",
              "\n",
              "    .dataframe tbody tr th {\n",
              "        vertical-align: top;\n",
              "    }\n",
              "\n",
              "    .dataframe thead th {\n",
              "        text-align: right;\n",
              "    }\n",
              "</style>\n",
              "<table border=\"1\" class=\"dataframe\">\n",
              "  <thead>\n",
              "    <tr style=\"text-align: right;\">\n",
              "      <th></th>\n",
              "      <th>file</th>\n",
              "      <th>label</th>\n",
              "    </tr>\n",
              "  </thead>\n",
              "  <tbody>\n",
              "    <tr>\n",
              "      <th>0</th>\n",
              "      <td>584.png</td>\n",
              "      <td>noncovid</td>\n",
              "    </tr>\n",
              "    <tr>\n",
              "      <th>1</th>\n",
              "      <td>662.png</td>\n",
              "      <td>noncovid</td>\n",
              "    </tr>\n",
              "    <tr>\n",
              "      <th>2</th>\n",
              "      <td>1297.png</td>\n",
              "      <td>noncovid</td>\n",
              "    </tr>\n",
              "    <tr>\n",
              "      <th>3</th>\n",
              "      <td>65%3.jpg</td>\n",
              "      <td>noncovid</td>\n",
              "    </tr>\n",
              "    <tr>\n",
              "      <th>4</th>\n",
              "      <td>43%2.jpg</td>\n",
              "      <td>noncovid</td>\n",
              "    </tr>\n",
              "  </tbody>\n",
              "</table>\n",
              "</div>"
            ],
            "text/plain": [
              "       file     label\n",
              "0   584.png  noncovid\n",
              "1   662.png  noncovid\n",
              "2  1297.png  noncovid\n",
              "3  65%3.jpg  noncovid\n",
              "4  43%2.jpg  noncovid"
            ]
          },
          "metadata": {
            "tags": []
          },
          "execution_count": 9
        }
      ]
    },
    {
      "cell_type": "code",
      "metadata": {
        "id": "Tryb2TOv99r4",
        "colab_type": "code",
        "outputId": "719c0fae-d369-4670-b3cc-3852b3e8bc54",
        "colab": {
          "base_uri": "https://localhost:8080/",
          "height": 202
        }
      },
      "source": [
        "dataframe=pd.concat([covid_df,noncovid_df])\n",
        "dataframe.head()"
      ],
      "execution_count": 10,
      "outputs": [
        {
          "output_type": "execute_result",
          "data": {
            "text/html": [
              "<div>\n",
              "<style scoped>\n",
              "    .dataframe tbody tr th:only-of-type {\n",
              "        vertical-align: middle;\n",
              "    }\n",
              "\n",
              "    .dataframe tbody tr th {\n",
              "        vertical-align: top;\n",
              "    }\n",
              "\n",
              "    .dataframe thead th {\n",
              "        text-align: right;\n",
              "    }\n",
              "</style>\n",
              "<table border=\"1\" class=\"dataframe\">\n",
              "  <thead>\n",
              "    <tr style=\"text-align: right;\">\n",
              "      <th></th>\n",
              "      <th>file</th>\n",
              "      <th>label</th>\n",
              "    </tr>\n",
              "  </thead>\n",
              "  <tbody>\n",
              "    <tr>\n",
              "      <th>0</th>\n",
              "      <td>2020.02.10.20021584-p6-52%7.png</td>\n",
              "      <td>covid</td>\n",
              "    </tr>\n",
              "    <tr>\n",
              "      <th>1</th>\n",
              "      <td>2020.03.13.20035212-p23-157.png</td>\n",
              "      <td>covid</td>\n",
              "    </tr>\n",
              "    <tr>\n",
              "      <th>2</th>\n",
              "      <td>2020.02.25.20021568-p23-108%1.png</td>\n",
              "      <td>covid</td>\n",
              "    </tr>\n",
              "    <tr>\n",
              "      <th>3</th>\n",
              "      <td>2020.03.13.20035212-p23-155.png</td>\n",
              "      <td>covid</td>\n",
              "    </tr>\n",
              "    <tr>\n",
              "      <th>4</th>\n",
              "      <td>2020.03.07.20031393-p7-50%2.png</td>\n",
              "      <td>covid</td>\n",
              "    </tr>\n",
              "  </tbody>\n",
              "</table>\n",
              "</div>"
            ],
            "text/plain": [
              "                                file  label\n",
              "0    2020.02.10.20021584-p6-52%7.png  covid\n",
              "1    2020.03.13.20035212-p23-157.png  covid\n",
              "2  2020.02.25.20021568-p23-108%1.png  covid\n",
              "3    2020.03.13.20035212-p23-155.png  covid\n",
              "4    2020.03.07.20031393-p7-50%2.png  covid"
            ]
          },
          "metadata": {
            "tags": []
          },
          "execution_count": 10
        }
      ]
    },
    {
      "cell_type": "code",
      "metadata": {
        "id": "L9YLBD4e-Gnd",
        "colab_type": "code",
        "outputId": "1925fffd-ac14-44e1-e756-887714ac3ccd",
        "colab": {
          "base_uri": "https://localhost:8080/",
          "height": 202
        }
      },
      "source": [
        "df = pd.get_dummies(dataframe['label'])\n",
        "df = pd.concat([dataframe, df], axis=1)\n",
        "df=df.sample(frac=1)\n",
        "df.head()\n"
      ],
      "execution_count": 11,
      "outputs": [
        {
          "output_type": "execute_result",
          "data": {
            "text/html": [
              "<div>\n",
              "<style scoped>\n",
              "    .dataframe tbody tr th:only-of-type {\n",
              "        vertical-align: middle;\n",
              "    }\n",
              "\n",
              "    .dataframe tbody tr th {\n",
              "        vertical-align: top;\n",
              "    }\n",
              "\n",
              "    .dataframe thead th {\n",
              "        text-align: right;\n",
              "    }\n",
              "</style>\n",
              "<table border=\"1\" class=\"dataframe\">\n",
              "  <thead>\n",
              "    <tr style=\"text-align: right;\">\n",
              "      <th></th>\n",
              "      <th>file</th>\n",
              "      <th>label</th>\n",
              "      <th>covid</th>\n",
              "      <th>noncovid</th>\n",
              "    </tr>\n",
              "  </thead>\n",
              "  <tbody>\n",
              "    <tr>\n",
              "      <th>189</th>\n",
              "      <td>2020.03.13.20035212-p23-158.png</td>\n",
              "      <td>covid</td>\n",
              "      <td>1</td>\n",
              "      <td>0</td>\n",
              "    </tr>\n",
              "    <tr>\n",
              "      <th>389</th>\n",
              "      <td>6%1.jpg</td>\n",
              "      <td>noncovid</td>\n",
              "      <td>0</td>\n",
              "      <td>1</td>\n",
              "    </tr>\n",
              "    <tr>\n",
              "      <th>97</th>\n",
              "      <td>2020.03.25.20037721-p27-173.png</td>\n",
              "      <td>covid</td>\n",
              "      <td>1</td>\n",
              "      <td>0</td>\n",
              "    </tr>\n",
              "    <tr>\n",
              "      <th>310</th>\n",
              "      <td>2020.02.22.20024927-p18-66%0.png</td>\n",
              "      <td>covid</td>\n",
              "      <td>1</td>\n",
              "      <td>0</td>\n",
              "    </tr>\n",
              "    <tr>\n",
              "      <th>12</th>\n",
              "      <td>89%2.jpg</td>\n",
              "      <td>noncovid</td>\n",
              "      <td>0</td>\n",
              "      <td>1</td>\n",
              "    </tr>\n",
              "  </tbody>\n",
              "</table>\n",
              "</div>"
            ],
            "text/plain": [
              "                                 file     label  covid  noncovid\n",
              "189   2020.03.13.20035212-p23-158.png     covid      1         0\n",
              "389                           6%1.jpg  noncovid      0         1\n",
              "97    2020.03.25.20037721-p27-173.png     covid      1         0\n",
              "310  2020.02.22.20024927-p18-66%0.png     covid      1         0\n",
              "12                           89%2.jpg  noncovid      0         1"
            ]
          },
          "metadata": {
            "tags": []
          },
          "execution_count": 11
        }
      ]
    },
    {
      "cell_type": "markdown",
      "metadata": {
        "id": "klH5y0SbVWKx",
        "colab_type": "text"
      },
      "source": [
        "#### TEST DATA"
      ]
    },
    {
      "cell_type": "code",
      "metadata": {
        "id": "sQtp3QAt-POe",
        "colab_type": "code",
        "outputId": "b167ec62-2a1d-4428-9c1e-1c03314b3542",
        "colab": {
          "base_uri": "https://localhost:8080/",
          "height": 35
        }
      },
      "source": [
        "covid_test=pd.read_csv('/content/COVID-CT/Data-split/COVID/testCT_COVID.txt',header=None,squeeze=True).tolist()\n",
        "noncovid_test=pd.read_csv('/content/COVID-CT/Data-split/NonCOVID/testCT_NonCOVID.txt',header=None,squeeze=True).tolist()\n",
        "test=covid_test+noncovid_test\n",
        "len(test)"
      ],
      "execution_count": 12,
      "outputs": [
        {
          "output_type": "execute_result",
          "data": {
            "text/plain": [
              "203"
            ]
          },
          "metadata": {
            "tags": []
          },
          "execution_count": 12
        }
      ]
    },
    {
      "cell_type": "code",
      "metadata": {
        "id": "M3vJ-sCcaeQm",
        "colab_type": "code",
        "outputId": "52c540dc-0ff7-4d03-e090-1dd0d416c78d",
        "colab": {
          "base_uri": "https://localhost:8080/",
          "height": 35
        }
      },
      "source": [
        "len(test),len(covid_test),len(noncovid_test)"
      ],
      "execution_count": 13,
      "outputs": [
        {
          "output_type": "execute_result",
          "data": {
            "text/plain": [
              "(203, 98, 105)"
            ]
          },
          "metadata": {
            "tags": []
          },
          "execution_count": 13
        }
      ]
    },
    {
      "cell_type": "code",
      "metadata": {
        "id": "JRUWC9sKV5G8",
        "colab_type": "code",
        "colab": {}
      },
      "source": [
        "test_df=df[df['file'].isin(test)]\n",
        "train_df=df[~df['file'].isin(test)]"
      ],
      "execution_count": 0,
      "outputs": []
    },
    {
      "cell_type": "code",
      "metadata": {
        "id": "KUuvqVvSaA-S",
        "colab_type": "code",
        "outputId": "85ccbcaa-a582-45b8-998b-ca8381ecd3de",
        "colab": {
          "base_uri": "https://localhost:8080/",
          "height": 35
        }
      },
      "source": [
        "len(df),len(train_df),len(test_df)"
      ],
      "execution_count": 15,
      "outputs": [
        {
          "output_type": "execute_result",
          "data": {
            "text/plain": [
              "(746, 543, 203)"
            ]
          },
          "metadata": {
            "tags": []
          },
          "execution_count": 15
        }
      ]
    },
    {
      "cell_type": "markdown",
      "metadata": {
        "id": "oOXgCH8l-bqZ",
        "colab_type": "text"
      },
      "source": [
        "### Data generator"
      ]
    },
    {
      "cell_type": "code",
      "metadata": {
        "id": "CzTlWxDb-c9N",
        "colab_type": "code",
        "colab": {}
      },
      "source": [
        "from keras_preprocessing.image import ImageDataGenerator\n",
        "data_gen= ImageDataGenerator(\n",
        "    horizontal_flip=True,\n",
        "    vertical_flip=True,\n",
        "    #rotation_range=360,\n",
        "    #width_shift_range=0.2,\n",
        "    #height_shift_range=0.2,\n",
        "    #zoom_range=.2,\n",
        "    rescale=1/255,\n",
        "    fill_mode='nearest',\n",
        "    #shear_range=0.2,\n",
        "    #brightness_range=[0.2, 2.0],\n",
        "    )"
      ],
      "execution_count": 0,
      "outputs": []
    },
    {
      "cell_type": "code",
      "metadata": {
        "id": "gZ8ZMeKI-gQu",
        "colab_type": "code",
        "colab": {}
      },
      "source": [
        "from tensorflow.keras.models import Sequential,Model\n",
        "from tensorflow.keras.layers import Activation, Dropout, Flatten, Dense, Conv2D, MaxPool2D, BatchNormalization,Input,MaxPooling2D,GlobalMaxPooling2D,concatenate\n",
        "from tensorflow.keras.layers import GlobalAveragePooling2D\n",
        "from tensorflow.keras.applications.resnet50 import ResNet50\n",
        "from tensorflow.keras.callbacks import ModelCheckpoint,ReduceLROnPlateau\n",
        "from tensorflow.keras.optimizers import Adam\n",
        "import tensorflow.keras.backend as K\n",
        "import tensorflow as tf"
      ],
      "execution_count": 0,
      "outputs": []
    },
    {
      "cell_type": "markdown",
      "metadata": {
        "id": "rdSPz3Ru-VgF",
        "colab_type": "text"
      },
      "source": [
        "#Train model"
      ]
    },
    {
      "cell_type": "code",
      "metadata": {
        "id": "BfiKa4qr-rjv",
        "colab_type": "code",
        "colab": {}
      },
      "source": [
        "img_shape=348\n",
        "batch_size=16"
      ],
      "execution_count": 0,
      "outputs": []
    },
    {
      "cell_type": "code",
      "metadata": {
        "id": "TuxqMnUnM9P1",
        "colab_type": "code",
        "colab": {}
      },
      "source": [
        "from cyclical_learning_rate import CyclicLR\n"
      ],
      "execution_count": 0,
      "outputs": []
    },
    {
      "cell_type": "code",
      "metadata": {
        "id": "d_omSkY2-W0d",
        "colab_type": "code",
        "outputId": "01623ef8-04ad-4a23-9774-197b3b4ec086",
        "colab": {
          "base_uri": "https://localhost:8080/",
          "height": 1000
        }
      },
      "source": [
        "from sklearn.model_selection import KFold\n",
        "import gc\n",
        "from focal_loss import BinaryFocalLoss\n",
        "from sklearn.metrics import classification_report,accuracy_score,f1_score,roc_auc_score\n",
        "classification_reports=[]\n",
        "kf = KFold(n_splits=5)\n",
        "history=[]\n",
        "accuracy=[]\n",
        "f1_scores=[]\n",
        "auc=[]\n",
        "y_pred=[]\n",
        "fold=0\n",
        "for train_index, test_index in kf.split(train_df):\n",
        "  train=train_df.iloc[train_index,:]\n",
        "  val=train_df.iloc[test_index,:]\n",
        "  print('-----------fold {}--------------'.format(fold))\n",
        "  train_generator=data_gen.flow_from_dataframe(train,directory='images',\n",
        "                                                      target_size=(img_shape,img_shape),\n",
        "                                                      x_col=\"file\",\n",
        "                                                      y_col=['covid','noncovid'],\n",
        "                                                      class_mode='raw',\n",
        "                                                      shuffle=True,\n",
        "                                                      batch_size=batch_size)\n",
        "\n",
        "  val_generator=data_gen.flow_from_dataframe(val,directory='images',\n",
        "                                                        target_size=(img_shape,img_shape),\n",
        "                                                        x_col=\"file\",\n",
        "                                                        y_col=['covid','noncovid'],\n",
        "                                                        class_mode='raw',\n",
        "                                                        shuffle=False,\n",
        "                                                        batch_size=batch_size)\n",
        "  \n",
        "  test_generator=data_gen.flow_from_dataframe(test_df,directory='images',\n",
        "                                                      target_size=(img_shape,img_shape),\n",
        "                                                      x_col=\"file\",\n",
        "                                                      y_col=['covid','noncovid'],\n",
        "                                                      class_mode='raw',\n",
        "                                                      shuffle=False,\n",
        "                                                      batch_size=batch_size)\n",
        "  #train_generator.next()[0].shape,train_generator.next()[1].shape\n",
        "  import efficientnet.tfkeras as efn\n",
        "  model =efn.EfficientNetB4(weights ='noisy-student', include_top=False, input_shape = (img_shape,img_shape,3))\n",
        "    \n",
        "  x = model.output\n",
        "  x = GlobalAveragePooling2D()(x)\n",
        "  #x = Dropout(0.3)(x)\n",
        "  #x = Dense(128, activation=\"relu\")(x)\n",
        "  #x = Dropout(0.3)(x)\n",
        "  #x = Dense(64, activation=\"relu\")(x)\n",
        "  predictions = Dense(2, activation=\"softmax\")(x)\n",
        "  model = Model(inputs=model.input, outputs=predictions)\n",
        "\n",
        "\n",
        "  model.compile(optimizer=Adam(0.0001), loss=BinaryFocalLoss(gamma=2), metrics=['accuracy'])\n",
        "\n",
        "  results = model.fit(train_generator,epochs=25,\n",
        "                              steps_per_epoch=train_generator.n/batch_size,\n",
        "                              validation_data=val_generator,\n",
        "                             validation_steps=val_generator.n/batch_size,\n",
        "                              #callbacks=[\n",
        "                                         #ReduceLROnPlateau(monitor='val_loss', factor=0.5,patience=3, min_lr=0.000001),\n",
        "                                         #CyclicLR(base_lr=1e-5,max_lr=1e-3,step_size=(6*train_generator.n/batch_size))\n",
        "                               #          ]\n",
        "                      )\n",
        "  #model.load_weights('model_{}.hdf5'.format(fold))\n",
        "  test_generator.reset()\n",
        "  y_pred.append(model.predict(test_generator,steps=test_generator.n/batch_size,verbose=1))\n",
        "  history.append(results)\n",
        "\n",
        "  \n",
        "  fold+=1\n",
        "  del model\n",
        "  tf.keras.backend.clear_session()\n",
        "  gc.collect()"
      ],
      "execution_count": 21,
      "outputs": [
        {
          "output_type": "stream",
          "text": [
            "-----------fold 0--------------\n",
            "Found 434 validated image filenames.\n",
            "Found 109 validated image filenames.\n",
            "Found 203 validated image filenames.\n",
            "Downloading data from https://github.com/qubvel/efficientnet/releases/download/v0.0.1/efficientnet-b4_noisy-student_notop.h5\n",
            "71680000/71678424 [==============================] - 3s 0us/step\n",
            "Epoch 1/25\n",
            "28/27 [==============================] - 30s 1s/step - loss: 0.1664 - accuracy: 0.6267 - val_loss: 0.1952 - val_accuracy: 0.4954\n",
            "Epoch 2/25\n",
            "28/27 [==============================] - 25s 878ms/step - loss: 0.1143 - accuracy: 0.7995 - val_loss: 0.2589 - val_accuracy: 0.5321\n",
            "Epoch 3/25\n",
            "28/27 [==============================] - 25s 900ms/step - loss: 0.0901 - accuracy: 0.8618 - val_loss: 0.2325 - val_accuracy: 0.5780\n",
            "Epoch 4/25\n",
            "28/27 [==============================] - 25s 907ms/step - loss: 0.0598 - accuracy: 0.9032 - val_loss: 0.2567 - val_accuracy: 0.5963\n",
            "Epoch 5/25\n",
            "28/27 [==============================] - 25s 909ms/step - loss: 0.0505 - accuracy: 0.9147 - val_loss: 0.3158 - val_accuracy: 0.6055\n",
            "Epoch 6/25\n",
            "28/27 [==============================] - 25s 900ms/step - loss: 0.0380 - accuracy: 0.9562 - val_loss: 0.3113 - val_accuracy: 0.6514\n",
            "Epoch 7/25\n",
            "28/27 [==============================] - 25s 900ms/step - loss: 0.0359 - accuracy: 0.9493 - val_loss: 0.1878 - val_accuracy: 0.7431\n",
            "Epoch 8/25\n",
            "28/27 [==============================] - 26s 914ms/step - loss: 0.0447 - accuracy: 0.9332 - val_loss: 0.1706 - val_accuracy: 0.8257\n",
            "Epoch 9/25\n",
            "28/27 [==============================] - 25s 903ms/step - loss: 0.0204 - accuracy: 0.9770 - val_loss: 0.1323 - val_accuracy: 0.8624\n",
            "Epoch 10/25\n",
            "28/27 [==============================] - 25s 903ms/step - loss: 0.0201 - accuracy: 0.9770 - val_loss: 0.1445 - val_accuracy: 0.8165\n",
            "Epoch 11/25\n",
            "28/27 [==============================] - 25s 898ms/step - loss: 0.0268 - accuracy: 0.9700 - val_loss: 0.1275 - val_accuracy: 0.8716\n",
            "Epoch 12/25\n",
            "28/27 [==============================] - 26s 911ms/step - loss: 0.0160 - accuracy: 0.9793 - val_loss: 0.1101 - val_accuracy: 0.8899\n",
            "Epoch 13/25\n",
            "28/27 [==============================] - 26s 912ms/step - loss: 0.0254 - accuracy: 0.9654 - val_loss: 0.1317 - val_accuracy: 0.8440\n",
            "Epoch 14/25\n",
            "28/27 [==============================] - 25s 896ms/step - loss: 0.0270 - accuracy: 0.9539 - val_loss: 0.1345 - val_accuracy: 0.8257\n",
            "Epoch 15/25\n",
            "28/27 [==============================] - 25s 893ms/step - loss: 0.0326 - accuracy: 0.9493 - val_loss: 0.3569 - val_accuracy: 0.6514\n",
            "Epoch 16/25\n",
            "28/27 [==============================] - 25s 907ms/step - loss: 0.0263 - accuracy: 0.9677 - val_loss: 0.1191 - val_accuracy: 0.8349\n",
            "Epoch 17/25\n",
            "28/27 [==============================] - 25s 897ms/step - loss: 0.0124 - accuracy: 0.9862 - val_loss: 0.0957 - val_accuracy: 0.8807\n",
            "Epoch 18/25\n",
            "28/27 [==============================] - 26s 916ms/step - loss: 0.0197 - accuracy: 0.9700 - val_loss: 0.0608 - val_accuracy: 0.8899\n",
            "Epoch 19/25\n",
            "28/27 [==============================] - 25s 903ms/step - loss: 0.0148 - accuracy: 0.9654 - val_loss: 0.0571 - val_accuracy: 0.9266\n",
            "Epoch 20/25\n",
            "28/27 [==============================] - 25s 896ms/step - loss: 0.0357 - accuracy: 0.9539 - val_loss: 0.0426 - val_accuracy: 0.9450\n",
            "Epoch 21/25\n",
            "28/27 [==============================] - 25s 910ms/step - loss: 0.0224 - accuracy: 0.9724 - val_loss: 0.0434 - val_accuracy: 0.9358\n",
            "Epoch 22/25\n",
            "28/27 [==============================] - 25s 911ms/step - loss: 0.0215 - accuracy: 0.9724 - val_loss: 0.0491 - val_accuracy: 0.9266\n",
            "Epoch 23/25\n",
            "28/27 [==============================] - 25s 900ms/step - loss: 0.0110 - accuracy: 0.9908 - val_loss: 0.0500 - val_accuracy: 0.9358\n",
            "Epoch 24/25\n",
            "28/27 [==============================] - 25s 899ms/step - loss: 0.0125 - accuracy: 0.9862 - val_loss: 0.0440 - val_accuracy: 0.9266\n",
            "Epoch 25/25\n",
            "28/27 [==============================] - 26s 918ms/step - loss: 0.0158 - accuracy: 0.9700 - val_loss: 0.0473 - val_accuracy: 0.9266\n",
            "13/12 [==============================] - 3s 244ms/step\n",
            "-----------fold 1--------------\n",
            "Found 434 validated image filenames.\n",
            "Found 109 validated image filenames.\n",
            "Found 203 validated image filenames.\n",
            "Epoch 1/25\n",
            "28/27 [==============================] - 28s 997ms/step - loss: 0.1576 - accuracy: 0.6221 - val_loss: 0.1802 - val_accuracy: 0.5780\n",
            "Epoch 2/25\n",
            "28/27 [==============================] - 26s 911ms/step - loss: 0.1068 - accuracy: 0.7972 - val_loss: 0.1956 - val_accuracy: 0.6055\n",
            "Epoch 3/25\n",
            "28/27 [==============================] - 26s 912ms/step - loss: 0.0797 - accuracy: 0.8940 - val_loss: 0.1998 - val_accuracy: 0.6147\n",
            "Epoch 4/25\n",
            "28/27 [==============================] - 26s 913ms/step - loss: 0.0646 - accuracy: 0.8917 - val_loss: 0.2270 - val_accuracy: 0.6330\n",
            "Epoch 5/25\n",
            "28/27 [==============================] - 26s 915ms/step - loss: 0.0460 - accuracy: 0.9263 - val_loss: 0.1733 - val_accuracy: 0.7064\n",
            "Epoch 6/25\n",
            "28/27 [==============================] - 25s 910ms/step - loss: 0.0534 - accuracy: 0.9217 - val_loss: 0.1712 - val_accuracy: 0.7339\n",
            "Epoch 7/25\n",
            "28/27 [==============================] - 26s 914ms/step - loss: 0.0445 - accuracy: 0.9401 - val_loss: 0.1614 - val_accuracy: 0.7523\n",
            "Epoch 8/25\n",
            "28/27 [==============================] - 26s 916ms/step - loss: 0.0340 - accuracy: 0.9631 - val_loss: 0.1003 - val_accuracy: 0.8440\n",
            "Epoch 9/25\n",
            "28/27 [==============================] - 26s 911ms/step - loss: 0.0238 - accuracy: 0.9631 - val_loss: 0.1511 - val_accuracy: 0.7982\n",
            "Epoch 10/25\n",
            "28/27 [==============================] - 26s 912ms/step - loss: 0.0306 - accuracy: 0.9631 - val_loss: 0.0963 - val_accuracy: 0.8624\n",
            "Epoch 11/25\n",
            "28/27 [==============================] - 26s 918ms/step - loss: 0.0225 - accuracy: 0.9677 - val_loss: 0.1089 - val_accuracy: 0.8532\n",
            "Epoch 12/25\n",
            "28/27 [==============================] - 25s 897ms/step - loss: 0.0167 - accuracy: 0.9793 - val_loss: 0.1181 - val_accuracy: 0.8807\n",
            "Epoch 13/25\n",
            "28/27 [==============================] - 26s 914ms/step - loss: 0.0265 - accuracy: 0.9539 - val_loss: 0.0790 - val_accuracy: 0.8807\n",
            "Epoch 14/25\n",
            "28/27 [==============================] - 26s 915ms/step - loss: 0.0160 - accuracy: 0.9770 - val_loss: 0.0640 - val_accuracy: 0.8991\n",
            "Epoch 15/25\n",
            "28/27 [==============================] - 26s 924ms/step - loss: 0.0334 - accuracy: 0.9562 - val_loss: 0.0538 - val_accuracy: 0.9083\n",
            "Epoch 16/25\n",
            "28/27 [==============================] - 25s 906ms/step - loss: 0.0331 - accuracy: 0.9447 - val_loss: 0.0515 - val_accuracy: 0.9358\n",
            "Epoch 17/25\n",
            "28/27 [==============================] - 26s 912ms/step - loss: 0.0197 - accuracy: 0.9700 - val_loss: 0.0610 - val_accuracy: 0.9174\n",
            "Epoch 18/25\n",
            "28/27 [==============================] - 25s 910ms/step - loss: 0.0105 - accuracy: 0.9885 - val_loss: 0.0547 - val_accuracy: 0.9450\n",
            "Epoch 19/25\n",
            "28/27 [==============================] - 26s 911ms/step - loss: 0.0071 - accuracy: 0.9931 - val_loss: 0.0409 - val_accuracy: 0.9541\n",
            "Epoch 20/25\n",
            "28/27 [==============================] - 26s 912ms/step - loss: 0.0153 - accuracy: 0.9839 - val_loss: 0.0248 - val_accuracy: 0.9633\n",
            "Epoch 21/25\n",
            "28/27 [==============================] - 25s 898ms/step - loss: 0.0062 - accuracy: 0.9908 - val_loss: 0.0362 - val_accuracy: 0.9450\n",
            "Epoch 22/25\n",
            "28/27 [==============================] - 26s 918ms/step - loss: 0.0057 - accuracy: 0.9908 - val_loss: 0.0239 - val_accuracy: 0.9450\n",
            "Epoch 23/25\n",
            "28/27 [==============================] - 26s 912ms/step - loss: 0.0092 - accuracy: 0.9862 - val_loss: 0.0235 - val_accuracy: 0.9541\n",
            "Epoch 24/25\n",
            "28/27 [==============================] - 25s 906ms/step - loss: 0.0105 - accuracy: 0.9862 - val_loss: 0.1091 - val_accuracy: 0.8899\n",
            "Epoch 25/25\n",
            "28/27 [==============================] - 26s 914ms/step - loss: 0.0174 - accuracy: 0.9770 - val_loss: 0.1401 - val_accuracy: 0.8991\n",
            "13/12 [==============================] - 2s 157ms/step\n",
            "-----------fold 2--------------\n",
            "Found 434 validated image filenames.\n",
            "Found 109 validated image filenames.\n",
            "Found 203 validated image filenames.\n",
            "Epoch 1/25\n",
            "28/27 [==============================] - 27s 980ms/step - loss: 0.1583 - accuracy: 0.6382 - val_loss: 0.1649 - val_accuracy: 0.5688\n",
            "Epoch 2/25\n",
            "28/27 [==============================] - 25s 908ms/step - loss: 0.1106 - accuracy: 0.8088 - val_loss: 0.1728 - val_accuracy: 0.6239\n",
            "Epoch 3/25\n",
            "28/27 [==============================] - 25s 904ms/step - loss: 0.0730 - accuracy: 0.8802 - val_loss: 0.1746 - val_accuracy: 0.6514\n",
            "Epoch 4/25\n",
            "28/27 [==============================] - 25s 898ms/step - loss: 0.0518 - accuracy: 0.9355 - val_loss: 0.1433 - val_accuracy: 0.6881\n",
            "Epoch 5/25\n",
            "28/27 [==============================] - 25s 901ms/step - loss: 0.0395 - accuracy: 0.9355 - val_loss: 0.1683 - val_accuracy: 0.6881\n",
            "Epoch 6/25\n",
            "28/27 [==============================] - 25s 899ms/step - loss: 0.0294 - accuracy: 0.9562 - val_loss: 0.1999 - val_accuracy: 0.7523\n",
            "Epoch 7/25\n",
            "28/27 [==============================] - 25s 903ms/step - loss: 0.0264 - accuracy: 0.9585 - val_loss: 0.2400 - val_accuracy: 0.7248\n",
            "Epoch 8/25\n",
            "28/27 [==============================] - 26s 912ms/step - loss: 0.0308 - accuracy: 0.9539 - val_loss: 0.1849 - val_accuracy: 0.7798\n",
            "Epoch 9/25\n",
            "28/27 [==============================] - 25s 903ms/step - loss: 0.0250 - accuracy: 0.9608 - val_loss: 0.1496 - val_accuracy: 0.8073\n",
            "Epoch 10/25\n",
            "28/27 [==============================] - 25s 909ms/step - loss: 0.0276 - accuracy: 0.9654 - val_loss: 0.1700 - val_accuracy: 0.7798\n",
            "Epoch 11/25\n",
            "28/27 [==============================] - 25s 900ms/step - loss: 0.0207 - accuracy: 0.9654 - val_loss: 0.1410 - val_accuracy: 0.8165\n",
            "Epoch 12/25\n",
            "28/27 [==============================] - 25s 907ms/step - loss: 0.0335 - accuracy: 0.9608 - val_loss: 0.0959 - val_accuracy: 0.8532\n",
            "Epoch 13/25\n",
            "28/27 [==============================] - 26s 917ms/step - loss: 0.0385 - accuracy: 0.9493 - val_loss: 0.1377 - val_accuracy: 0.8532\n",
            "Epoch 14/25\n",
            "28/27 [==============================] - 25s 897ms/step - loss: 0.0341 - accuracy: 0.9608 - val_loss: 0.1271 - val_accuracy: 0.8440\n",
            "Epoch 15/25\n",
            "28/27 [==============================] - 25s 903ms/step - loss: 0.0150 - accuracy: 0.9839 - val_loss: 0.1019 - val_accuracy: 0.8899\n",
            "Epoch 16/25\n",
            "28/27 [==============================] - 25s 903ms/step - loss: 0.0364 - accuracy: 0.9401 - val_loss: 0.0800 - val_accuracy: 0.8716\n",
            "Epoch 17/25\n",
            "28/27 [==============================] - 25s 909ms/step - loss: 0.0234 - accuracy: 0.9770 - val_loss: 0.1054 - val_accuracy: 0.8624\n",
            "Epoch 18/25\n",
            "28/27 [==============================] - 25s 902ms/step - loss: 0.0130 - accuracy: 0.9862 - val_loss: 0.1074 - val_accuracy: 0.8716\n",
            "Epoch 19/25\n",
            "28/27 [==============================] - 25s 909ms/step - loss: 0.0198 - accuracy: 0.9770 - val_loss: 0.1164 - val_accuracy: 0.8257\n",
            "Epoch 20/25\n",
            "28/27 [==============================] - 26s 912ms/step - loss: 0.0193 - accuracy: 0.9677 - val_loss: 0.1054 - val_accuracy: 0.8257\n",
            "Epoch 21/25\n",
            "28/27 [==============================] - 26s 915ms/step - loss: 0.0146 - accuracy: 0.9816 - val_loss: 0.0768 - val_accuracy: 0.8899\n",
            "Epoch 22/25\n",
            "28/27 [==============================] - 25s 909ms/step - loss: 0.0155 - accuracy: 0.9839 - val_loss: 0.0536 - val_accuracy: 0.9358\n",
            "Epoch 23/25\n",
            "28/27 [==============================] - 25s 909ms/step - loss: 0.0308 - accuracy: 0.9539 - val_loss: 0.0462 - val_accuracy: 0.9358\n",
            "Epoch 24/25\n",
            "28/27 [==============================] - 25s 904ms/step - loss: 0.0250 - accuracy: 0.9724 - val_loss: 0.0555 - val_accuracy: 0.9266\n",
            "Epoch 25/25\n",
            "28/27 [==============================] - 25s 905ms/step - loss: 0.0225 - accuracy: 0.9700 - val_loss: 0.0493 - val_accuracy: 0.9358\n",
            "13/12 [==============================] - 2s 156ms/step\n",
            "-----------fold 3--------------\n",
            "Found 435 validated image filenames.\n",
            "Found 108 validated image filenames.\n",
            "Found 203 validated image filenames.\n",
            "Epoch 1/25\n",
            "28/27 [==============================] - 32s 1s/step - loss: 0.1633 - accuracy: 0.6368 - val_loss: 0.1586 - val_accuracy: 0.5926\n",
            "Epoch 2/25\n",
            "28/27 [==============================] - 26s 914ms/step - loss: 0.1183 - accuracy: 0.7793 - val_loss: 0.1551 - val_accuracy: 0.6759\n",
            "Epoch 3/25\n",
            "28/27 [==============================] - 25s 904ms/step - loss: 0.0821 - accuracy: 0.8552 - val_loss: 0.1519 - val_accuracy: 0.7130\n",
            "Epoch 4/25\n",
            "28/27 [==============================] - 26s 912ms/step - loss: 0.0636 - accuracy: 0.9057 - val_loss: 0.1639 - val_accuracy: 0.7222\n",
            "Epoch 5/25\n",
            "28/27 [==============================] - 26s 930ms/step - loss: 0.0555 - accuracy: 0.9333 - val_loss: 0.2014 - val_accuracy: 0.7037\n",
            "Epoch 6/25\n",
            "28/27 [==============================] - 26s 919ms/step - loss: 0.0426 - accuracy: 0.9264 - val_loss: 0.2483 - val_accuracy: 0.6852\n",
            "Epoch 7/25\n",
            "28/27 [==============================] - 25s 909ms/step - loss: 0.0486 - accuracy: 0.9425 - val_loss: 0.2357 - val_accuracy: 0.7037\n",
            "Epoch 8/25\n",
            "28/27 [==============================] - 25s 902ms/step - loss: 0.0354 - accuracy: 0.9517 - val_loss: 0.2373 - val_accuracy: 0.7315\n",
            "Epoch 9/25\n",
            "28/27 [==============================] - 25s 900ms/step - loss: 0.0355 - accuracy: 0.9471 - val_loss: 0.1710 - val_accuracy: 0.7500\n",
            "Epoch 10/25\n",
            "28/27 [==============================] - 26s 911ms/step - loss: 0.0249 - accuracy: 0.9678 - val_loss: 0.2420 - val_accuracy: 0.7407\n",
            "Epoch 11/25\n",
            "28/27 [==============================] - 26s 915ms/step - loss: 0.0162 - accuracy: 0.9862 - val_loss: 0.1764 - val_accuracy: 0.7963\n",
            "Epoch 12/25\n",
            "28/27 [==============================] - 26s 939ms/step - loss: 0.0130 - accuracy: 0.9839 - val_loss: 0.1849 - val_accuracy: 0.7778\n",
            "Epoch 13/25\n",
            "28/27 [==============================] - 25s 909ms/step - loss: 0.0416 - accuracy: 0.9333 - val_loss: 0.1789 - val_accuracy: 0.7593\n",
            "Epoch 14/25\n",
            "28/27 [==============================] - 26s 920ms/step - loss: 0.0326 - accuracy: 0.9609 - val_loss: 0.1200 - val_accuracy: 0.8333\n",
            "Epoch 15/25\n",
            "28/27 [==============================] - 26s 918ms/step - loss: 0.0262 - accuracy: 0.9563 - val_loss: 0.2583 - val_accuracy: 0.7037\n",
            "Epoch 16/25\n",
            "28/27 [==============================] - 26s 914ms/step - loss: 0.0274 - accuracy: 0.9609 - val_loss: 0.2552 - val_accuracy: 0.7407\n",
            "Epoch 17/25\n",
            "28/27 [==============================] - 26s 921ms/step - loss: 0.0117 - accuracy: 0.9862 - val_loss: 0.2881 - val_accuracy: 0.7037\n",
            "Epoch 18/25\n",
            "28/27 [==============================] - 26s 913ms/step - loss: 0.0161 - accuracy: 0.9747 - val_loss: 0.3510 - val_accuracy: 0.7222\n",
            "Epoch 19/25\n",
            "28/27 [==============================] - 25s 906ms/step - loss: 0.0129 - accuracy: 0.9724 - val_loss: 0.1937 - val_accuracy: 0.7593\n",
            "Epoch 20/25\n",
            "28/27 [==============================] - 26s 914ms/step - loss: 0.0145 - accuracy: 0.9793 - val_loss: 0.1592 - val_accuracy: 0.8148\n",
            "Epoch 21/25\n",
            "28/27 [==============================] - 25s 899ms/step - loss: 0.0130 - accuracy: 0.9885 - val_loss: 0.0545 - val_accuracy: 0.9630\n",
            "Epoch 22/25\n",
            "28/27 [==============================] - 25s 907ms/step - loss: 0.0232 - accuracy: 0.9793 - val_loss: 0.0653 - val_accuracy: 0.9074\n",
            "Epoch 23/25\n",
            "28/27 [==============================] - 26s 921ms/step - loss: 0.0173 - accuracy: 0.9747 - val_loss: 0.0500 - val_accuracy: 0.9167\n",
            "Epoch 24/25\n",
            "28/27 [==============================] - 26s 914ms/step - loss: 0.0127 - accuracy: 0.9793 - val_loss: 0.0946 - val_accuracy: 0.8889\n",
            "Epoch 25/25\n",
            "28/27 [==============================] - 26s 917ms/step - loss: 0.0108 - accuracy: 0.9885 - val_loss: 0.0482 - val_accuracy: 0.9167\n",
            "13/12 [==============================] - 2s 156ms/step\n",
            "-----------fold 4--------------\n",
            "Found 435 validated image filenames.\n",
            "Found 108 validated image filenames.\n",
            "Found 203 validated image filenames.\n",
            "Epoch 1/25\n",
            "28/27 [==============================] - 27s 967ms/step - loss: 0.1535 - accuracy: 0.6713 - val_loss: 0.1827 - val_accuracy: 0.5648\n",
            "Epoch 2/25\n",
            "28/27 [==============================] - 25s 909ms/step - loss: 0.1123 - accuracy: 0.8115 - val_loss: 0.1900 - val_accuracy: 0.5833\n",
            "Epoch 3/25\n",
            "28/27 [==============================] - 25s 897ms/step - loss: 0.0800 - accuracy: 0.8690 - val_loss: 0.2341 - val_accuracy: 0.5833\n",
            "Epoch 4/25\n",
            "28/27 [==============================] - 26s 916ms/step - loss: 0.0642 - accuracy: 0.9080 - val_loss: 0.2077 - val_accuracy: 0.6204\n",
            "Epoch 5/25\n",
            "28/27 [==============================] - 25s 906ms/step - loss: 0.0466 - accuracy: 0.9264 - val_loss: 0.1814 - val_accuracy: 0.6296\n",
            "Epoch 6/25\n",
            "28/27 [==============================] - 25s 900ms/step - loss: 0.0315 - accuracy: 0.9632 - val_loss: 0.2195 - val_accuracy: 0.6667\n",
            "Epoch 7/25\n",
            "28/27 [==============================] - 26s 911ms/step - loss: 0.0380 - accuracy: 0.9632 - val_loss: 0.1996 - val_accuracy: 0.6852\n",
            "Epoch 8/25\n",
            "28/27 [==============================] - 26s 915ms/step - loss: 0.0298 - accuracy: 0.9586 - val_loss: 0.1755 - val_accuracy: 0.7685\n",
            "Epoch 9/25\n",
            "28/27 [==============================] - 25s 905ms/step - loss: 0.0256 - accuracy: 0.9701 - val_loss: 0.1306 - val_accuracy: 0.8148\n",
            "Epoch 10/25\n",
            "28/27 [==============================] - 25s 898ms/step - loss: 0.0267 - accuracy: 0.9517 - val_loss: 0.1305 - val_accuracy: 0.7870\n",
            "Epoch 11/25\n",
            "28/27 [==============================] - 26s 920ms/step - loss: 0.0186 - accuracy: 0.9793 - val_loss: 0.1267 - val_accuracy: 0.8056\n",
            "Epoch 12/25\n",
            "28/27 [==============================] - 26s 917ms/step - loss: 0.0226 - accuracy: 0.9563 - val_loss: 0.1458 - val_accuracy: 0.8333\n",
            "Epoch 13/25\n",
            "28/27 [==============================] - 25s 902ms/step - loss: 0.0450 - accuracy: 0.9310 - val_loss: 0.0947 - val_accuracy: 0.8148\n",
            "Epoch 14/25\n",
            "28/27 [==============================] - 26s 918ms/step - loss: 0.0335 - accuracy: 0.9494 - val_loss: 0.1011 - val_accuracy: 0.8241\n",
            "Epoch 15/25\n",
            "28/27 [==============================] - 26s 917ms/step - loss: 0.0228 - accuracy: 0.9586 - val_loss: 0.0926 - val_accuracy: 0.8241\n",
            "Epoch 16/25\n",
            "28/27 [==============================] - 26s 912ms/step - loss: 0.0141 - accuracy: 0.9816 - val_loss: 0.1043 - val_accuracy: 0.8426\n",
            "Epoch 17/25\n",
            "28/27 [==============================] - 25s 908ms/step - loss: 0.0128 - accuracy: 0.9839 - val_loss: 0.1267 - val_accuracy: 0.8519\n",
            "Epoch 18/25\n",
            "28/27 [==============================] - 26s 917ms/step - loss: 0.0184 - accuracy: 0.9793 - val_loss: 0.0920 - val_accuracy: 0.8981\n",
            "Epoch 19/25\n",
            "28/27 [==============================] - 25s 905ms/step - loss: 0.0121 - accuracy: 0.9839 - val_loss: 0.0816 - val_accuracy: 0.8889\n",
            "Epoch 20/25\n",
            "28/27 [==============================] - 25s 905ms/step - loss: 0.0168 - accuracy: 0.9770 - val_loss: 0.0946 - val_accuracy: 0.8889\n",
            "Epoch 21/25\n",
            "28/27 [==============================] - 25s 903ms/step - loss: 0.0170 - accuracy: 0.9793 - val_loss: 0.0977 - val_accuracy: 0.8981\n",
            "Epoch 22/25\n",
            "28/27 [==============================] - 25s 908ms/step - loss: 0.0080 - accuracy: 0.9908 - val_loss: 0.1165 - val_accuracy: 0.8889\n",
            "Epoch 23/25\n",
            "28/27 [==============================] - 25s 907ms/step - loss: 0.0042 - accuracy: 0.9931 - val_loss: 0.0906 - val_accuracy: 0.9074\n",
            "Epoch 24/25\n",
            "28/27 [==============================] - 25s 907ms/step - loss: 0.0113 - accuracy: 0.9839 - val_loss: 0.1042 - val_accuracy: 0.9074\n",
            "Epoch 25/25\n",
            "28/27 [==============================] - 26s 940ms/step - loss: 0.0195 - accuracy: 0.9747 - val_loss: 0.0980 - val_accuracy: 0.8796\n",
            "13/12 [==============================] - 2s 157ms/step\n"
          ],
          "name": "stdout"
        }
      ]
    },
    {
      "cell_type": "code",
      "metadata": {
        "id": "BJobcAABrZK4",
        "colab_type": "code",
        "outputId": "0d93a746-0168-43c4-a3ba-4f0f9688e1f4",
        "colab": {
          "base_uri": "https://localhost:8080/",
          "height": 35
        }
      },
      "source": [
        "import numpy as np\n",
        "y_mean=np.mean(y_pred,axis=0)\n",
        "y_true=test_df.iloc[:,2::]\n",
        "y_true.shape,y_mean.shape"
      ],
      "execution_count": 22,
      "outputs": [
        {
          "output_type": "execute_result",
          "data": {
            "text/plain": [
              "((203, 2), (203, 2))"
            ]
          },
          "metadata": {
            "tags": []
          },
          "execution_count": 22
        }
      ]
    },
    {
      "cell_type": "code",
      "metadata": {
        "id": "XCphJVfdBm0H",
        "colab_type": "code",
        "outputId": "b2739ee9-192a-47f8-e9cb-0a8d97283f91",
        "colab": {
          "base_uri": "https://localhost:8080/",
          "height": 35
        }
      },
      "source": [
        "y_mean=np.argmax(y_mean,axis=1).ravel()\n",
        "y_true=np.argmax(y_true.values,axis=1).ravel()\n",
        "\n",
        "y_true.shape,y_mean.shape"
      ],
      "execution_count": 23,
      "outputs": [
        {
          "output_type": "execute_result",
          "data": {
            "text/plain": [
              "((203,), (203,))"
            ]
          },
          "metadata": {
            "tags": []
          },
          "execution_count": 23
        }
      ]
    },
    {
      "cell_type": "code",
      "metadata": {
        "id": "ecc-q4ledbtX",
        "colab_type": "code",
        "outputId": "270dddec-2059-4d99-cec5-93f83ccf1c2f",
        "colab": {
          "base_uri": "https://localhost:8080/",
          "height": 225
        }
      },
      "source": [
        "\n",
        "print(classification_report(y_true, y_mean,target_names=['covid','noncovid']))#\n",
        "print('accuracy',np.round(accuracy_score(y_true,y_mean),2))\n",
        "print('f1 score is ',np.round(f1_score(y_true,y_mean,average='macro'),2))\n",
        "print('auc',np.round(roc_auc_score(y_true,y_mean),2))"
      ],
      "execution_count": 24,
      "outputs": [
        {
          "output_type": "stream",
          "text": [
            "              precision    recall  f1-score   support\n",
            "\n",
            "       covid       0.94      0.68      0.79        98\n",
            "    noncovid       0.77      0.96      0.85       105\n",
            "\n",
            "    accuracy                           0.83       203\n",
            "   macro avg       0.85      0.82      0.82       203\n",
            "weighted avg       0.85      0.83      0.82       203\n",
            "\n",
            "accuracy 0.83\n",
            "f1 score is  0.82\n",
            "auc 0.82\n"
          ],
          "name": "stdout"
        }
      ]
    },
    {
      "cell_type": "code",
      "metadata": {
        "id": "l8wKVY53zFEU",
        "colab_type": "code",
        "outputId": "9750b715-0d84-4858-e2f9-fe6252812082",
        "colab": {
          "base_uri": "https://localhost:8080/",
          "height": 52
        }
      },
      "source": [
        "from sklearn.metrics import confusion_matrix\n",
        "confusion_matrix(y_true, y_mean)"
      ],
      "execution_count": 25,
      "outputs": [
        {
          "output_type": "execute_result",
          "data": {
            "text/plain": [
              "array([[ 67,  31],\n",
              "       [  4, 101]])"
            ]
          },
          "metadata": {
            "tags": []
          },
          "execution_count": 25
        }
      ]
    },
    {
      "cell_type": "code",
      "metadata": {
        "id": "vTITL7dozI_1",
        "colab_type": "code",
        "colab": {}
      },
      "source": [
        "for i in range(5):\n",
        "  np.save('NLR_history_{}'.format(i),history[i].history)"
      ],
      "execution_count": 0,
      "outputs": []
    },
    {
      "cell_type": "code",
      "metadata": {
        "id": "ro8qafwWGVUw",
        "colab_type": "code",
        "outputId": "a04cac98-1406-4d44-b1e2-7eee300ee624",
        "colab": {
          "base_uri": "https://localhost:8080/",
          "height": 573
        }
      },
      "source": [
        "import matplotlib.pyplot as plt\n",
        "\n",
        "# Plot training & validation accuracy values\n",
        "plt.plot(np.mean([[j for j in x.history['accuracy']] for x in history ],axis=0))\n",
        "plt.plot(np.mean([[j for j in x.history['val_accuracy']] for x in history ],axis=0))\n",
        "plt.title('Model accuracy')\n",
        "plt.ylabel('Accuracy')\n",
        "plt.xlabel('Epoch')\n",
        "plt.legend(['Train', 'Test'], loc='upper left')\n",
        "plt.show()\n",
        "\n",
        "# Plot training & validation loss values\n",
        "plt.plot(np.mean([[j for j in x.history['loss']] for x in history ],axis=0))\n",
        "plt.plot(np.mean([[j for j in x.history['val_loss']] for x in history ],axis=0))\n",
        "plt.title('Model loss')\n",
        "plt.ylabel('Loss')\n",
        "plt.xlabel('Epoch')\n",
        "plt.legend(['Train', 'Test'], loc='upper left')\n",
        "plt.show()"
      ],
      "execution_count": 27,
      "outputs": [
        {
          "output_type": "display_data",
          "data": {
            "image/png": "[encoded data removed]",
            "text/plain": [
              "<Figure size 432x288 with 1 Axes>"
            ]
          },
          "metadata": {
            "tags": [],
            "needs_background": "light"
          }
        },
        {
          "output_type": "display_data",
          "data": {
            "image/png": "[encoded data removed]",
            "text/plain": [
              "<Figure size 432x288 with 1 Axes>"
            ]
          },
          "metadata": {
            "tags": [],
            "needs_background": "light"
          }
        }
      ]
    },
    {
      "cell_type": "code",
      "metadata": {
        "id": "4iBpBbOKKsHl",
        "colab_type": "code",
        "outputId": "f73f19be-8f79-4d56-f6a1-48e08aabd014",
        "colab": {
          "base_uri": "https://localhost:8080/",
          "height": 35
        }
      },
      "source": [
        "history[0].history.keys()"
      ],
      "execution_count": 28,
      "outputs": [
        {
          "output_type": "execute_result",
          "data": {
            "text/plain": [
              "dict_keys(['loss', 'accuracy', 'val_loss', 'val_accuracy'])"
            ]
          },
          "metadata": {
            "tags": []
          },
          "execution_count": 28
        }
      ]
    },
    {
      "cell_type": "code",
      "metadata": {
        "id": "qwwg0V-iI4wg",
        "colab_type": "code",
        "outputId": "427e78cd-6b70-4e4d-ddd0-aa9330907275",
        "colab": {
          "base_uri": "https://localhost:8080/",
          "height": 295
        }
      },
      "source": [
        "# Plot training & validation loss values\n",
        "for i in range(5):\n",
        "  plt.plot(history[i].history['val_accuracy'])\n",
        "plt.title('Model Validation Accuracy')\n",
        "plt.ylabel('Accuracy')\n",
        "plt.xlabel('Epoch')\n",
        "plt.legend(['Fold1','Fold2','Fold3','Fold4','Fold5' ], loc='upper left')\n",
        "plt.show()"
      ],
      "execution_count": 29,
      "outputs": [
        {
          "output_type": "display_data",
          "data": {
            "image/png": "[encoded data removed]",
            "text/plain": [
              "<Figure size 432x288 with 1 Axes>"
            ]
          },
          "metadata": {
            "tags": [],
            "needs_background": "light"
          }
        }
      ]
    },
    {
      "cell_type": "code",
      "metadata": {
        "id": "IZYI3cDH-vGN",
        "colab_type": "code",
        "outputId": "3d91e752-3e7f-489d-cc7f-109008673836",
        "colab": {
          "base_uri": "https://localhost:8080/",
          "height": 295
        }
      },
      "source": [
        "# Plot training & validation loss values\n",
        "for i in range(5):\n",
        "  plt.plot(history[i].history['val_loss'])\n",
        "plt.title('Model Validation Loss')\n",
        "plt.ylabel('Loss')\n",
        "plt.xlabel('Epoch')\n",
        "plt.legend(['Fold1','Fold2','Fold3','Fold4','Fold5' ], loc='upper left')\n",
        "plt.show()"
      ],
      "execution_count": 30,
      "outputs": [
        {
          "output_type": "display_data",
          "data": {
            "image/png": "[encoded data removed]",
            "text/plain": [
              "<Figure size 432x288 with 1 Axes>"
            ]
          },
          "metadata": {
            "tags": [],
            "needs_background": "light"
          }
        }
      ]
    },
    {
      "cell_type": "code",
      "metadata": {
        "id": "cWbbVN8cLGb1",
        "colab_type": "code",
        "outputId": "62031ea8-c4b7-48ec-9f4d-ebb770535c47",
        "colab": {
          "base_uri": "https://localhost:8080/",
          "height": 235
        }
      },
      "source": [
        "# Plot training & validation loss values\n",
        "for i in range(5):\n",
        "  plt.plot(history[i].history['lr'])\n",
        "plt.title('Model LR')\n",
        "plt.ylabel('LR')\n",
        "plt.xlabel('Epoch')\n",
        "plt.legend(['LR1','LR2','LR3','LR4','LR5' ], loc='upper left')\n",
        "plt.show()"
      ],
      "execution_count": 31,
      "outputs": [
        {
          "output_type": "error",
          "ename": "KeyError",
          "evalue": "ignored",
          "traceback": [
            "\u001b[0;31m---------------------------------------------------------------------------\u001b[0m",
            "\u001b[0;31mKeyError\u001b[0m                                  Traceback (most recent call last)",
            "\u001b[0;32m<ipython-input-31-8fbad35cf0f7>\u001b[0m in \u001b[0;36m<module>\u001b[0;34m()\u001b[0m\n\u001b[1;32m      1\u001b[0m \u001b[0;32mfor\u001b[0m \u001b[0mi\u001b[0m \u001b[0;32min\u001b[0m \u001b[0mrange\u001b[0m\u001b[0;34m(\u001b[0m\u001b[0;36m5\u001b[0m\u001b[0;34m)\u001b[0m\u001b[0;34m:\u001b[0m\u001b[0;34m\u001b[0m\u001b[0;34m\u001b[0m\u001b[0m\n\u001b[0;32m----> 2\u001b[0;31m   \u001b[0mplt\u001b[0m\u001b[0;34m.\u001b[0m\u001b[0mplot\u001b[0m\u001b[0;34m(\u001b[0m\u001b[0mhistory\u001b[0m\u001b[0;34m[\u001b[0m\u001b[0mi\u001b[0m\u001b[0;34m]\u001b[0m\u001b[0;34m.\u001b[0m\u001b[0mhistory\u001b[0m\u001b[0;34m[\u001b[0m\u001b[0;34m'lr'\u001b[0m\u001b[0;34m]\u001b[0m\u001b[0;34m)\u001b[0m\u001b[0;34m\u001b[0m\u001b[0;34m\u001b[0m\u001b[0m\n\u001b[0m\u001b[1;32m      3\u001b[0m \u001b[0mplt\u001b[0m\u001b[0;34m.\u001b[0m\u001b[0mtitle\u001b[0m\u001b[0;34m(\u001b[0m\u001b[0;34m'Model LR'\u001b[0m\u001b[0;34m)\u001b[0m\u001b[0;34m\u001b[0m\u001b[0;34m\u001b[0m\u001b[0m\n\u001b[1;32m      4\u001b[0m \u001b[0mplt\u001b[0m\u001b[0;34m.\u001b[0m\u001b[0mylabel\u001b[0m\u001b[0;34m(\u001b[0m\u001b[0;34m'LR'\u001b[0m\u001b[0;34m)\u001b[0m\u001b[0;34m\u001b[0m\u001b[0;34m\u001b[0m\u001b[0m\n\u001b[1;32m      5\u001b[0m \u001b[0mplt\u001b[0m\u001b[0;34m.\u001b[0m\u001b[0mxlabel\u001b[0m\u001b[0;34m(\u001b[0m\u001b[0;34m'Epoch'\u001b[0m\u001b[0;34m)\u001b[0m\u001b[0;34m\u001b[0m\u001b[0;34m\u001b[0m\u001b[0m\n",
            "\u001b[0;31mKeyError\u001b[0m: 'lr'"
          ]
        }
      ]
    },
    {
      "cell_type": "code",
      "metadata": {
        "id": "vtFhi-VbLa9Y",
        "colab_type": "code",
        "colab": {}
      },
      "source": [
        ""
      ],
      "execution_count": 0,
      "outputs": []
    }
  ]
}