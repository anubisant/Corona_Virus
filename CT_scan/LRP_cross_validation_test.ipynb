{
  "nbformat": 4,
  "nbformat_minor": 0,
  "metadata": {
    "colab": {
      "name": "cross_validation_test.ipynb",
      "provenance": [],
      "toc_visible": true,
      "include_colab_link": true
    },
    "kernelspec": {
      "name": "python3",
      "display_name": "Python 3"
    },
    "accelerator": "GPU"
  },
  "cells": [
    {
      "cell_type": "markdown",
      "metadata": {
        "id": "view-in-github",
        "colab_type": "text"
      },
      "source": [
        "<a href=\"https://colab.research.google.com/github/talhaanwarch/Corona_Virus/blob/master/CT_scan/LRP_cross_validation_test.ipynb\" target=\"_parent\"><img src=\"https://colab.research.google.com/assets/colab-badge.svg\" alt=\"Open In Colab\"/></a>"
      ]
    },
    {
      "cell_type": "code",
      "metadata": {
        "id": "ylMZAGXl7kKx",
        "colab_type": "code",
        "colab": {}
      },
      "source": [
        "%%capture\n",
        "!pip install efficientnet"
      ],
      "execution_count": 0,
      "outputs": []
    },
    {
      "cell_type": "code",
      "metadata": {
        "id": "_d7PdOxl3KJv",
        "colab_type": "code",
        "colab": {}
      },
      "source": [
        "%%capture\n",
        "!pip install focal-loss"
      ],
      "execution_count": 0,
      "outputs": []
    },
    {
      "cell_type": "markdown",
      "metadata": {
        "id": "4FDtv7g97nN8",
        "colab_type": "text"
      },
      "source": [
        "### CLone github repo, to dowlonad data"
      ]
    },
    {
      "cell_type": "code",
      "metadata": {
        "id": "yi2pSQus7JR4",
        "colab_type": "code",
        "outputId": "268107ac-e13e-4c98-8e2f-89acbfa3f6ec",
        "colab": {
          "base_uri": "https://localhost:8080/",
          "height": 121
        }
      },
      "source": [
        "!git clone https://github.com/UCSD-AI4H/COVID-CT.git"
      ],
      "execution_count": 0,
      "outputs": [
        {
          "output_type": "stream",
          "text": [
            "Cloning into 'COVID-CT'...\n",
            "remote: Enumerating objects: 5443, done.\u001b[K\n",
            "remote: Total 5443 (delta 0), reused 0 (delta 0), pack-reused 5443\u001b[K\n",
            "Receiving objects: 100% (5443/5443), 1.09 GiB | 16.31 MiB/s, done.\n",
            "Resolving deltas: 100% (355/355), done.\n",
            "Checking out files: 100% (1048/1048), done.\n"
          ],
          "name": "stdout"
        }
      ]
    },
    {
      "cell_type": "markdown",
      "metadata": {
        "id": "imIfz2hq7s0m",
        "colab_type": "text"
      },
      "source": [
        "### Extract data in one format"
      ]
    },
    {
      "cell_type": "code",
      "metadata": {
        "id": "6WuO45h57deK",
        "colab_type": "code",
        "colab": {}
      },
      "source": [
        "%%capture\n",
        "!unzip /content/COVID-CT/Images-processed/CT_COVID.zip\n",
        "!unzip /content/COVID-CT/Images-processed/CT_NonCOVID.zip"
      ],
      "execution_count": 0,
      "outputs": []
    },
    {
      "cell_type": "code",
      "metadata": {
        "id": "eJUYRmVS8kJR",
        "colab_type": "code",
        "colab": {}
      },
      "source": [
        "!mkdir images\n",
        "!cp -r /content/CT_COVID/* images\n",
        "!cp -r /content/CT_NonCOVID/* images\n"
      ],
      "execution_count": 0,
      "outputs": []
    },
    {
      "cell_type": "markdown",
      "metadata": {
        "id": "R959Xz4V9GuP",
        "colab_type": "text"
      },
      "source": [
        "###read meta files"
      ]
    },
    {
      "cell_type": "code",
      "metadata": {
        "id": "ZSd1vcC-9Smh",
        "colab_type": "code",
        "colab": {}
      },
      "source": [
        "import pandas as pd\n",
        "import os"
      ],
      "execution_count": 0,
      "outputs": []
    },
    {
      "cell_type": "code",
      "metadata": {
        "id": "Li1uZhmr9Jk2",
        "colab_type": "code",
        "outputId": "b32b1d4d-f4f6-4ffa-86ab-46a3248b487b",
        "colab": {
          "base_uri": "https://localhost:8080/",
          "height": 202
        }
      },
      "source": [
        "covid=os.listdir('/content/CT_COVID')\n",
        "cov=list(zip(covid,['covid']*(len(covid))))\n",
        "covid_df = pd.DataFrame(cov,columns=['file','label']) \n",
        "covid_df.head()"
      ],
      "execution_count": 0,
      "outputs": [
        {
          "output_type": "execute_result",
          "data": {
            "text/html": [
              "<div>\n",
              "<style scoped>\n",
              "    .dataframe tbody tr th:only-of-type {\n",
              "        vertical-align: middle;\n",
              "    }\n",
              "\n",
              "    .dataframe tbody tr th {\n",
              "        vertical-align: top;\n",
              "    }\n",
              "\n",
              "    .dataframe thead th {\n",
              "        text-align: right;\n",
              "    }\n",
              "</style>\n",
              "<table border=\"1\" class=\"dataframe\">\n",
              "  <thead>\n",
              "    <tr style=\"text-align: right;\">\n",
              "      <th></th>\n",
              "      <th>file</th>\n",
              "      <th>label</th>\n",
              "    </tr>\n",
              "  </thead>\n",
              "  <tbody>\n",
              "    <tr>\n",
              "      <th>0</th>\n",
              "      <td>2020.02.10.20021584-p6-52%7.png</td>\n",
              "      <td>covid</td>\n",
              "    </tr>\n",
              "    <tr>\n",
              "      <th>1</th>\n",
              "      <td>2020.03.13.20035212-p23-157.png</td>\n",
              "      <td>covid</td>\n",
              "    </tr>\n",
              "    <tr>\n",
              "      <th>2</th>\n",
              "      <td>2020.02.25.20021568-p23-108%1.png</td>\n",
              "      <td>covid</td>\n",
              "    </tr>\n",
              "    <tr>\n",
              "      <th>3</th>\n",
              "      <td>2020.03.13.20035212-p23-155.png</td>\n",
              "      <td>covid</td>\n",
              "    </tr>\n",
              "    <tr>\n",
              "      <th>4</th>\n",
              "      <td>2020.03.07.20031393-p7-50%2.png</td>\n",
              "      <td>covid</td>\n",
              "    </tr>\n",
              "  </tbody>\n",
              "</table>\n",
              "</div>"
            ],
            "text/plain": [
              "                                file  label\n",
              "0    2020.02.10.20021584-p6-52%7.png  covid\n",
              "1    2020.03.13.20035212-p23-157.png  covid\n",
              "2  2020.02.25.20021568-p23-108%1.png  covid\n",
              "3    2020.03.13.20035212-p23-155.png  covid\n",
              "4    2020.03.07.20031393-p7-50%2.png  covid"
            ]
          },
          "metadata": {
            "tags": []
          },
          "execution_count": 7
        }
      ]
    },
    {
      "cell_type": "code",
      "metadata": {
        "id": "PUrppSTx7Z3f",
        "colab_type": "code",
        "outputId": "a62646ca-8655-47dd-c30e-2808bf301531",
        "colab": {
          "base_uri": "https://localhost:8080/",
          "height": 202
        }
      },
      "source": [
        "noncovid=os.listdir('/content/CT_NonCOVID')\n",
        "noncov=list(zip(noncovid,['noncovid']*(len(noncovid))))\n",
        "noncovid_df = pd.DataFrame(noncov,columns=['file','label']) \n",
        "noncovid_df.head()"
      ],
      "execution_count": 0,
      "outputs": [
        {
          "output_type": "execute_result",
          "data": {
            "text/html": [
              "<div>\n",
              "<style scoped>\n",
              "    .dataframe tbody tr th:only-of-type {\n",
              "        vertical-align: middle;\n",
              "    }\n",
              "\n",
              "    .dataframe tbody tr th {\n",
              "        vertical-align: top;\n",
              "    }\n",
              "\n",
              "    .dataframe thead th {\n",
              "        text-align: right;\n",
              "    }\n",
              "</style>\n",
              "<table border=\"1\" class=\"dataframe\">\n",
              "  <thead>\n",
              "    <tr style=\"text-align: right;\">\n",
              "      <th></th>\n",
              "      <th>file</th>\n",
              "      <th>label</th>\n",
              "    </tr>\n",
              "  </thead>\n",
              "  <tbody>\n",
              "    <tr>\n",
              "      <th>0</th>\n",
              "      <td>584.png</td>\n",
              "      <td>noncovid</td>\n",
              "    </tr>\n",
              "    <tr>\n",
              "      <th>1</th>\n",
              "      <td>662.png</td>\n",
              "      <td>noncovid</td>\n",
              "    </tr>\n",
              "    <tr>\n",
              "      <th>2</th>\n",
              "      <td>1297.png</td>\n",
              "      <td>noncovid</td>\n",
              "    </tr>\n",
              "    <tr>\n",
              "      <th>3</th>\n",
              "      <td>65%3.jpg</td>\n",
              "      <td>noncovid</td>\n",
              "    </tr>\n",
              "    <tr>\n",
              "      <th>4</th>\n",
              "      <td>43%2.jpg</td>\n",
              "      <td>noncovid</td>\n",
              "    </tr>\n",
              "  </tbody>\n",
              "</table>\n",
              "</div>"
            ],
            "text/plain": [
              "       file     label\n",
              "0   584.png  noncovid\n",
              "1   662.png  noncovid\n",
              "2  1297.png  noncovid\n",
              "3  65%3.jpg  noncovid\n",
              "4  43%2.jpg  noncovid"
            ]
          },
          "metadata": {
            "tags": []
          },
          "execution_count": 8
        }
      ]
    },
    {
      "cell_type": "code",
      "metadata": {
        "id": "Tryb2TOv99r4",
        "colab_type": "code",
        "outputId": "af8b0d08-3444-4edf-a8be-a7aabfc9f887",
        "colab": {
          "base_uri": "https://localhost:8080/",
          "height": 202
        }
      },
      "source": [
        "dataframe=pd.concat([covid_df,noncovid_df])\n",
        "dataframe.head()"
      ],
      "execution_count": 0,
      "outputs": [
        {
          "output_type": "execute_result",
          "data": {
            "text/html": [
              "<div>\n",
              "<style scoped>\n",
              "    .dataframe tbody tr th:only-of-type {\n",
              "        vertical-align: middle;\n",
              "    }\n",
              "\n",
              "    .dataframe tbody tr th {\n",
              "        vertical-align: top;\n",
              "    }\n",
              "\n",
              "    .dataframe thead th {\n",
              "        text-align: right;\n",
              "    }\n",
              "</style>\n",
              "<table border=\"1\" class=\"dataframe\">\n",
              "  <thead>\n",
              "    <tr style=\"text-align: right;\">\n",
              "      <th></th>\n",
              "      <th>file</th>\n",
              "      <th>label</th>\n",
              "    </tr>\n",
              "  </thead>\n",
              "  <tbody>\n",
              "    <tr>\n",
              "      <th>0</th>\n",
              "      <td>2020.02.10.20021584-p6-52%7.png</td>\n",
              "      <td>covid</td>\n",
              "    </tr>\n",
              "    <tr>\n",
              "      <th>1</th>\n",
              "      <td>2020.03.13.20035212-p23-157.png</td>\n",
              "      <td>covid</td>\n",
              "    </tr>\n",
              "    <tr>\n",
              "      <th>2</th>\n",
              "      <td>2020.02.25.20021568-p23-108%1.png</td>\n",
              "      <td>covid</td>\n",
              "    </tr>\n",
              "    <tr>\n",
              "      <th>3</th>\n",
              "      <td>2020.03.13.20035212-p23-155.png</td>\n",
              "      <td>covid</td>\n",
              "    </tr>\n",
              "    <tr>\n",
              "      <th>4</th>\n",
              "      <td>2020.03.07.20031393-p7-50%2.png</td>\n",
              "      <td>covid</td>\n",
              "    </tr>\n",
              "  </tbody>\n",
              "</table>\n",
              "</div>"
            ],
            "text/plain": [
              "                                file  label\n",
              "0    2020.02.10.20021584-p6-52%7.png  covid\n",
              "1    2020.03.13.20035212-p23-157.png  covid\n",
              "2  2020.02.25.20021568-p23-108%1.png  covid\n",
              "3    2020.03.13.20035212-p23-155.png  covid\n",
              "4    2020.03.07.20031393-p7-50%2.png  covid"
            ]
          },
          "metadata": {
            "tags": []
          },
          "execution_count": 9
        }
      ]
    },
    {
      "cell_type": "code",
      "metadata": {
        "id": "L9YLBD4e-Gnd",
        "colab_type": "code",
        "outputId": "18680f30-4093-4823-d4a2-f646eb83e41b",
        "colab": {
          "base_uri": "https://localhost:8080/",
          "height": 202
        }
      },
      "source": [
        "df = pd.get_dummies(dataframe['label'])\n",
        "df = pd.concat([dataframe, df], axis=1)\n",
        "df=df.sample(frac=1)\n",
        "df.head()\n"
      ],
      "execution_count": 0,
      "outputs": [
        {
          "output_type": "execute_result",
          "data": {
            "text/html": [
              "<div>\n",
              "<style scoped>\n",
              "    .dataframe tbody tr th:only-of-type {\n",
              "        vertical-align: middle;\n",
              "    }\n",
              "\n",
              "    .dataframe tbody tr th {\n",
              "        vertical-align: top;\n",
              "    }\n",
              "\n",
              "    .dataframe thead th {\n",
              "        text-align: right;\n",
              "    }\n",
              "</style>\n",
              "<table border=\"1\" class=\"dataframe\">\n",
              "  <thead>\n",
              "    <tr style=\"text-align: right;\">\n",
              "      <th></th>\n",
              "      <th>file</th>\n",
              "      <th>label</th>\n",
              "      <th>covid</th>\n",
              "      <th>noncovid</th>\n",
              "    </tr>\n",
              "  </thead>\n",
              "  <tbody>\n",
              "    <tr>\n",
              "      <th>199</th>\n",
              "      <td>16.jpg</td>\n",
              "      <td>noncovid</td>\n",
              "      <td>0</td>\n",
              "      <td>1</td>\n",
              "    </tr>\n",
              "    <tr>\n",
              "      <th>395</th>\n",
              "      <td>957.png</td>\n",
              "      <td>noncovid</td>\n",
              "      <td>0</td>\n",
              "      <td>1</td>\n",
              "    </tr>\n",
              "    <tr>\n",
              "      <th>119</th>\n",
              "      <td>2020.03.25.20043166-p17-79.png</td>\n",
              "      <td>covid</td>\n",
              "      <td>1</td>\n",
              "      <td>0</td>\n",
              "    </tr>\n",
              "    <tr>\n",
              "      <th>149</th>\n",
              "      <td>1072.png</td>\n",
              "      <td>noncovid</td>\n",
              "      <td>0</td>\n",
              "      <td>1</td>\n",
              "    </tr>\n",
              "    <tr>\n",
              "      <th>155</th>\n",
              "      <td>2020.02.25.20021568-p24-111%5.png</td>\n",
              "      <td>covid</td>\n",
              "      <td>1</td>\n",
              "      <td>0</td>\n",
              "    </tr>\n",
              "  </tbody>\n",
              "</table>\n",
              "</div>"
            ],
            "text/plain": [
              "                                  file     label  covid  noncovid\n",
              "199                             16.jpg  noncovid      0         1\n",
              "395                            957.png  noncovid      0         1\n",
              "119     2020.03.25.20043166-p17-79.png     covid      1         0\n",
              "149                           1072.png  noncovid      0         1\n",
              "155  2020.02.25.20021568-p24-111%5.png     covid      1         0"
            ]
          },
          "metadata": {
            "tags": []
          },
          "execution_count": 10
        }
      ]
    },
    {
      "cell_type": "markdown",
      "metadata": {
        "id": "klH5y0SbVWKx",
        "colab_type": "text"
      },
      "source": [
        "#### TEST DATA"
      ]
    },
    {
      "cell_type": "code",
      "metadata": {
        "id": "sQtp3QAt-POe",
        "colab_type": "code",
        "outputId": "3a2eb356-c788-45f3-985a-494fa46edf75",
        "colab": {
          "base_uri": "https://localhost:8080/",
          "height": 35
        }
      },
      "source": [
        "covid_test=pd.read_csv('/content/COVID-CT/Data-split/COVID/testCT_COVID.txt',header=None,squeeze=True).tolist()\n",
        "noncovid_test=pd.read_csv('/content/COVID-CT/Data-split/NonCOVID/testCT_NonCOVID.txt',header=None,squeeze=True).tolist()\n",
        "test=covid_test+noncovid_test\n",
        "len(test)"
      ],
      "execution_count": 0,
      "outputs": [
        {
          "output_type": "execute_result",
          "data": {
            "text/plain": [
              "203"
            ]
          },
          "metadata": {
            "tags": []
          },
          "execution_count": 11
        }
      ]
    },
    {
      "cell_type": "code",
      "metadata": {
        "id": "M3vJ-sCcaeQm",
        "colab_type": "code",
        "outputId": "ebb40a4c-2fb2-4c5c-aa76-42bef2e5cbb2",
        "colab": {
          "base_uri": "https://localhost:8080/",
          "height": 35
        }
      },
      "source": [
        "len(test),len(covid_test),len(noncovid_test)"
      ],
      "execution_count": 0,
      "outputs": [
        {
          "output_type": "execute_result",
          "data": {
            "text/plain": [
              "(203, 98, 105)"
            ]
          },
          "metadata": {
            "tags": []
          },
          "execution_count": 12
        }
      ]
    },
    {
      "cell_type": "code",
      "metadata": {
        "id": "JRUWC9sKV5G8",
        "colab_type": "code",
        "colab": {}
      },
      "source": [
        "test_df=df[df['file'].isin(test)]\n",
        "train_df=df[~df['file'].isin(test)]"
      ],
      "execution_count": 0,
      "outputs": []
    },
    {
      "cell_type": "code",
      "metadata": {
        "id": "KUuvqVvSaA-S",
        "colab_type": "code",
        "outputId": "9a0e7424-9ed0-48f4-af0a-f2f0fdd44e39",
        "colab": {
          "base_uri": "https://localhost:8080/",
          "height": 35
        }
      },
      "source": [
        "len(df),len(train_df),len(test_df)"
      ],
      "execution_count": 0,
      "outputs": [
        {
          "output_type": "execute_result",
          "data": {
            "text/plain": [
              "(746, 543, 203)"
            ]
          },
          "metadata": {
            "tags": []
          },
          "execution_count": 14
        }
      ]
    },
    {
      "cell_type": "markdown",
      "metadata": {
        "id": "oOXgCH8l-bqZ",
        "colab_type": "text"
      },
      "source": [
        "### Data generator"
      ]
    },
    {
      "cell_type": "code",
      "metadata": {
        "id": "CzTlWxDb-c9N",
        "colab_type": "code",
        "colab": {}
      },
      "source": [
        "from keras_preprocessing.image import ImageDataGenerator\n",
        "data_gen= ImageDataGenerator(\n",
        "    horizontal_flip=True,\n",
        "    vertical_flip=True,\n",
        "    #rotation_range=360,\n",
        "    #width_shift_range=0.2,\n",
        "    #height_shift_range=0.2,\n",
        "    #zoom_range=.2,\n",
        "    rescale=1/255,\n",
        "    fill_mode='nearest',\n",
        "    #shear_range=0.2,\n",
        "    #brightness_range=[0.2, 2.0],\n",
        "    )"
      ],
      "execution_count": 0,
      "outputs": []
    },
    {
      "cell_type": "code",
      "metadata": {
        "id": "gZ8ZMeKI-gQu",
        "colab_type": "code",
        "colab": {}
      },
      "source": [
        "from tensorflow.keras.models import Sequential,Model\n",
        "from tensorflow.keras.layers import Activation, Dropout, Flatten, Dense, Conv2D, MaxPool2D, BatchNormalization,Input,MaxPooling2D,GlobalMaxPooling2D,concatenate\n",
        "from tensorflow.keras.layers import GlobalAveragePooling2D\n",
        "from tensorflow.keras.applications.resnet50 import ResNet50\n",
        "from tensorflow.keras.callbacks import ModelCheckpoint,ReduceLROnPlateau\n",
        "from tensorflow.keras.optimizers import Adam\n",
        "import tensorflow.keras.backend as K\n",
        "import tensorflow as tf"
      ],
      "execution_count": 0,
      "outputs": []
    },
    {
      "cell_type": "markdown",
      "metadata": {
        "id": "rdSPz3Ru-VgF",
        "colab_type": "text"
      },
      "source": [
        "#Train model"
      ]
    },
    {
      "cell_type": "code",
      "metadata": {
        "id": "BfiKa4qr-rjv",
        "colab_type": "code",
        "colab": {}
      },
      "source": [
        "img_shape=348\n",
        "batch_size=16"
      ],
      "execution_count": 0,
      "outputs": []
    },
    {
      "cell_type": "code",
      "metadata": {
        "id": "d_omSkY2-W0d",
        "colab_type": "code",
        "outputId": "c9a540d9-382b-458e-8939-3ac38c1e0d04",
        "colab": {
          "base_uri": "https://localhost:8080/",
          "height": 1000
        }
      },
      "source": [
        "from sklearn.model_selection import KFold\n",
        "import gc\n",
        "from focal_loss import BinaryFocalLoss\n",
        "\n",
        "from sklearn.metrics import classification_report,accuracy_score,f1_score,roc_auc_score\n",
        "classification_reports=[]\n",
        "kf = KFold(n_splits=5)\n",
        "history=[]\n",
        "accuracy=[]\n",
        "f1_scores=[]\n",
        "auc=[]\n",
        "y_pred=[]\n",
        "fold=0\n",
        "for train_index, test_index in kf.split(train_df):\n",
        "  train=train_df.iloc[train_index,:]\n",
        "  val=train_df.iloc[test_index,:]\n",
        "  print('-----------fold {}--------------'.format(fold))\n",
        "  train_generator=data_gen.flow_from_dataframe(train,directory='images',\n",
        "                                                      target_size=(img_shape,img_shape),\n",
        "                                                      x_col=\"file\",\n",
        "                                                      y_col=['covid','noncovid'],\n",
        "                                                      class_mode='raw',\n",
        "                                                      shuffle=True,\n",
        "                                                      batch_size=batch_size)\n",
        "\n",
        "  val_generator=data_gen.flow_from_dataframe(val,directory='images',\n",
        "                                                        target_size=(img_shape,img_shape),\n",
        "                                                        x_col=\"file\",\n",
        "                                                        y_col=['covid','noncovid'],\n",
        "                                                        class_mode='raw',\n",
        "                                                        shuffle=False,\n",
        "                                                        batch_size=batch_size)\n",
        "  \n",
        "  test_generator=data_gen.flow_from_dataframe(test_df,directory='images',\n",
        "                                                      target_size=(img_shape,img_shape),\n",
        "                                                      x_col=\"file\",\n",
        "                                                      y_col=['covid','noncovid'],\n",
        "                                                      class_mode='raw',\n",
        "                                                      shuffle=False,\n",
        "                                                      batch_size=batch_size)\n",
        "  #train_generator.next()[0].shape,train_generator.next()[1].shape\n",
        "  import efficientnet.tfkeras as efn\n",
        "  model =efn.EfficientNetB4(weights ='noisy-student', include_top=False, input_shape = (img_shape,img_shape,3))\n",
        "    \n",
        "  x = model.output\n",
        "  x = GlobalAveragePooling2D()(x)\n",
        "  #x = Dropout(0.3)(x)\n",
        "  #x = Dense(128, activation=\"relu\")(x)\n",
        "  #x = Dropout(0.3)(x)\n",
        "  #x = Dense(64, activation=\"relu\")(x)\n",
        "  predictions = Dense(2, activation=\"softmax\")(x)\n",
        "  model = Model(inputs=model.input, outputs=predictions)\n",
        "\n",
        "\n",
        "  model.compile(optimizer=Adam(0.001), loss=BinaryFocalLoss(gamma=2), metrics=['accuracy'])\n",
        "\n",
        "  results = model.fit(train_generator,epochs=25,\n",
        "                              steps_per_epoch=train_generator.n/batch_size,\n",
        "                              validation_data=val_generator,\n",
        "                             validation_steps=val_generator.n/batch_size,\n",
        "                              callbacks=[ReduceLROnPlateau(monitor='val_loss', factor=0.5,patience=3, min_lr=0.000001),\n",
        "                                         #ModelCheckpoint('model_{}.hdf5'.format(fold), save_best_only=True, monitor='val_loss', mode='min')\n",
        "                                         ])\n",
        "  #model.load_weights('model_{}.hdf5'.format(fold))\n",
        "  test_generator.reset()\n",
        "  y_pred.append(model.predict(test_generator,steps=test_generator.n/batch_size,verbose=1))\n",
        "  history.append(results)\n",
        "\n",
        "  \n",
        "  fold+=1\n",
        "  del model\n",
        "  tf.keras.backend.clear_session()\n",
        "  gc.collect()"
      ],
      "execution_count": 0,
      "outputs": [
        {
          "output_type": "stream",
          "text": [
            "-----------fold 0--------------\n",
            "Found 434 validated image filenames.\n",
            "Found 109 validated image filenames.\n",
            "Found 203 validated image filenames.\n",
            "Epoch 1/25\n",
            "28/27 [==============================] - 31s 1s/step - loss: 0.2722 - accuracy: 0.6475 - val_loss: 0.2032 - val_accuracy: 0.5413 - lr: 0.0010\n",
            "Epoch 2/25\n",
            "28/27 [==============================] - 25s 903ms/step - loss: 0.1439 - accuracy: 0.7581 - val_loss: 0.1447 - val_accuracy: 0.6606 - lr: 0.0010\n",
            "Epoch 3/25\n",
            "28/27 [==============================] - 26s 933ms/step - loss: 0.0823 - accuracy: 0.8594 - val_loss: 0.1441 - val_accuracy: 0.7156 - lr: 0.0010\n",
            "Epoch 4/25\n",
            "28/27 [==============================] - 26s 921ms/step - loss: 0.0759 - accuracy: 0.8986 - val_loss: 0.1502 - val_accuracy: 0.8165 - lr: 0.0010\n",
            "Epoch 5/25\n",
            "28/27 [==============================] - 26s 925ms/step - loss: 0.0782 - accuracy: 0.8802 - val_loss: 0.1062 - val_accuracy: 0.7798 - lr: 0.0010\n",
            "Epoch 6/25\n",
            "28/27 [==============================] - 26s 931ms/step - loss: 0.1084 - accuracy: 0.8341 - val_loss: 0.2251 - val_accuracy: 0.6514 - lr: 0.0010\n",
            "Epoch 7/25\n",
            "28/27 [==============================] - 26s 928ms/step - loss: 0.0565 - accuracy: 0.9055 - val_loss: 0.1204 - val_accuracy: 0.7982 - lr: 0.0010\n",
            "Epoch 8/25\n",
            "28/27 [==============================] - 26s 925ms/step - loss: 0.0872 - accuracy: 0.8525 - val_loss: 0.2049 - val_accuracy: 0.8440 - lr: 0.0010\n",
            "Epoch 9/25\n",
            "28/27 [==============================] - 26s 912ms/step - loss: 0.0402 - accuracy: 0.9424 - val_loss: 0.2582 - val_accuracy: 0.8716 - lr: 5.0000e-04\n",
            "Epoch 10/25\n",
            "28/27 [==============================] - 26s 921ms/step - loss: 0.0273 - accuracy: 0.9516 - val_loss: 0.2058 - val_accuracy: 0.8624 - lr: 5.0000e-04\n",
            "Epoch 11/25\n",
            "28/27 [==============================] - 26s 927ms/step - loss: 0.0257 - accuracy: 0.9700 - val_loss: 0.1595 - val_accuracy: 0.8257 - lr: 5.0000e-04\n",
            "Epoch 12/25\n",
            "28/27 [==============================] - 26s 927ms/step - loss: 0.0312 - accuracy: 0.9378 - val_loss: 0.1214 - val_accuracy: 0.8532 - lr: 2.5000e-04\n",
            "Epoch 13/25\n",
            "28/27 [==============================] - 26s 932ms/step - loss: 0.0230 - accuracy: 0.9700 - val_loss: 0.0721 - val_accuracy: 0.8807 - lr: 2.5000e-04\n",
            "Epoch 14/25\n",
            "28/27 [==============================] - 26s 911ms/step - loss: 0.0198 - accuracy: 0.9793 - val_loss: 0.0538 - val_accuracy: 0.8716 - lr: 2.5000e-04\n",
            "Epoch 15/25\n",
            "28/27 [==============================] - 26s 928ms/step - loss: 0.0179 - accuracy: 0.9677 - val_loss: 0.1304 - val_accuracy: 0.8532 - lr: 2.5000e-04\n",
            "Epoch 16/25\n",
            "28/27 [==============================] - 26s 929ms/step - loss: 0.0176 - accuracy: 0.9770 - val_loss: 0.1886 - val_accuracy: 0.7890 - lr: 2.5000e-04\n",
            "Epoch 17/25\n",
            "28/27 [==============================] - 26s 928ms/step - loss: 0.0320 - accuracy: 0.9677 - val_loss: 0.1274 - val_accuracy: 0.8991 - lr: 2.5000e-04\n",
            "Epoch 18/25\n",
            "28/27 [==============================] - 26s 916ms/step - loss: 0.0131 - accuracy: 0.9816 - val_loss: 0.0518 - val_accuracy: 0.9358 - lr: 1.2500e-04\n",
            "Epoch 19/25\n",
            "28/27 [==============================] - 26s 934ms/step - loss: 0.0202 - accuracy: 0.9816 - val_loss: 0.0471 - val_accuracy: 0.9174 - lr: 1.2500e-04\n",
            "Epoch 20/25\n",
            "28/27 [==============================] - 26s 933ms/step - loss: 0.0072 - accuracy: 0.9931 - val_loss: 0.0364 - val_accuracy: 0.9450 - lr: 1.2500e-04\n",
            "Epoch 21/25\n",
            "28/27 [==============================] - 26s 930ms/step - loss: 0.0124 - accuracy: 0.9908 - val_loss: 0.0402 - val_accuracy: 0.9358 - lr: 1.2500e-04\n",
            "Epoch 22/25\n",
            "28/27 [==============================] - 26s 920ms/step - loss: 0.0110 - accuracy: 0.9793 - val_loss: 0.0396 - val_accuracy: 0.9358 - lr: 1.2500e-04\n",
            "Epoch 23/25\n",
            "28/27 [==============================] - 26s 929ms/step - loss: 0.0176 - accuracy: 0.9770 - val_loss: 0.0243 - val_accuracy: 0.9633 - lr: 1.2500e-04\n",
            "Epoch 24/25\n",
            "28/27 [==============================] - 26s 931ms/step - loss: 0.0095 - accuracy: 0.9954 - val_loss: 0.0312 - val_accuracy: 0.9450 - lr: 1.2500e-04\n",
            "Epoch 25/25\n",
            "28/27 [==============================] - 26s 924ms/step - loss: 0.0153 - accuracy: 0.9839 - val_loss: 0.0300 - val_accuracy: 0.9633 - lr: 1.2500e-04\n",
            "13/12 [==============================] - 3s 247ms/step\n",
            "-----------fold 1--------------\n",
            "Found 434 validated image filenames.\n",
            "Found 109 validated image filenames.\n",
            "Found 203 validated image filenames.\n",
            "Epoch 1/25\n",
            "28/27 [==============================] - 28s 994ms/step - loss: 0.2121 - accuracy: 0.6682 - val_loss: 0.3780 - val_accuracy: 0.6055 - lr: 0.0010\n",
            "Epoch 2/25\n",
            "28/27 [==============================] - 26s 940ms/step - loss: 0.1237 - accuracy: 0.8226 - val_loss: 0.1099 - val_accuracy: 0.7890 - lr: 0.0010\n",
            "Epoch 3/25\n",
            "28/27 [==============================] - 26s 926ms/step - loss: 0.1034 - accuracy: 0.8226 - val_loss: 0.0984 - val_accuracy: 0.8532 - lr: 0.0010\n",
            "Epoch 4/25\n",
            "28/27 [==============================] - 26s 919ms/step - loss: 0.0778 - accuracy: 0.8917 - val_loss: 0.2844 - val_accuracy: 0.6789 - lr: 0.0010\n",
            "Epoch 5/25\n",
            "28/27 [==============================] - 26s 929ms/step - loss: 0.0516 - accuracy: 0.9217 - val_loss: 0.1961 - val_accuracy: 0.7982 - lr: 0.0010\n",
            "Epoch 6/25\n",
            "28/27 [==============================] - 26s 918ms/step - loss: 0.0564 - accuracy: 0.9263 - val_loss: 0.3623 - val_accuracy: 0.6881 - lr: 0.0010\n",
            "Epoch 7/25\n",
            "28/27 [==============================] - 26s 927ms/step - loss: 0.0953 - accuracy: 0.8479 - val_loss: 0.1542 - val_accuracy: 0.7615 - lr: 5.0000e-04\n",
            "Epoch 8/25\n",
            "28/27 [==============================] - 26s 943ms/step - loss: 0.0408 - accuracy: 0.9332 - val_loss: 0.2211 - val_accuracy: 0.7431 - lr: 5.0000e-04\n",
            "Epoch 9/25\n",
            "28/27 [==============================] - 26s 914ms/step - loss: 0.0179 - accuracy: 0.9747 - val_loss: 0.2968 - val_accuracy: 0.6972 - lr: 5.0000e-04\n",
            "Epoch 10/25\n",
            "28/27 [==============================] - 26s 930ms/step - loss: 0.0093 - accuracy: 0.9885 - val_loss: 0.2222 - val_accuracy: 0.7706 - lr: 2.5000e-04\n",
            "Epoch 11/25\n",
            "28/27 [==============================] - 26s 920ms/step - loss: 0.0120 - accuracy: 0.9816 - val_loss: 0.1419 - val_accuracy: 0.7982 - lr: 2.5000e-04\n",
            "Epoch 12/25\n",
            "28/27 [==============================] - 26s 921ms/step - loss: 0.0308 - accuracy: 0.9562 - val_loss: 0.0395 - val_accuracy: 0.9450 - lr: 2.5000e-04\n",
            "Epoch 13/25\n",
            "28/27 [==============================] - 26s 914ms/step - loss: 0.0205 - accuracy: 0.9816 - val_loss: 0.0262 - val_accuracy: 0.9541 - lr: 2.5000e-04\n",
            "Epoch 14/25\n",
            "28/27 [==============================] - 26s 926ms/step - loss: 0.0269 - accuracy: 0.9700 - val_loss: 0.0369 - val_accuracy: 0.9725 - lr: 2.5000e-04\n",
            "Epoch 15/25\n",
            "28/27 [==============================] - 26s 942ms/step - loss: 0.0341 - accuracy: 0.9654 - val_loss: 0.0391 - val_accuracy: 0.9541 - lr: 2.5000e-04\n",
            "Epoch 16/25\n",
            "28/27 [==============================] - 26s 925ms/step - loss: 0.0263 - accuracy: 0.9539 - val_loss: 0.0332 - val_accuracy: 0.9541 - lr: 2.5000e-04\n",
            "Epoch 17/25\n",
            "28/27 [==============================] - 26s 916ms/step - loss: 0.0107 - accuracy: 0.9885 - val_loss: 0.0293 - val_accuracy: 0.9725 - lr: 1.2500e-04\n",
            "Epoch 18/25\n",
            "28/27 [==============================] - 26s 925ms/step - loss: 0.0196 - accuracy: 0.9770 - val_loss: 0.0257 - val_accuracy: 0.9725 - lr: 1.2500e-04\n",
            "Epoch 19/25\n",
            "28/27 [==============================] - 26s 934ms/step - loss: 0.0186 - accuracy: 0.9724 - val_loss: 0.0369 - val_accuracy: 0.9633 - lr: 1.2500e-04\n",
            "Epoch 20/25\n",
            "28/27 [==============================] - 26s 923ms/step - loss: 0.0187 - accuracy: 0.9839 - val_loss: 0.0283 - val_accuracy: 0.9633 - lr: 1.2500e-04\n",
            "Epoch 21/25\n",
            "28/27 [==============================] - 26s 926ms/step - loss: 0.0138 - accuracy: 0.9816 - val_loss: 0.0151 - val_accuracy: 0.9725 - lr: 1.2500e-04\n",
            "Epoch 22/25\n",
            "28/27 [==============================] - 26s 916ms/step - loss: 0.0106 - accuracy: 0.9885 - val_loss: 0.0146 - val_accuracy: 0.9725 - lr: 1.2500e-04\n",
            "Epoch 23/25\n",
            "28/27 [==============================] - 26s 915ms/step - loss: 0.0085 - accuracy: 0.9885 - val_loss: 0.0155 - val_accuracy: 0.9908 - lr: 1.2500e-04\n",
            "Epoch 24/25\n",
            "28/27 [==============================] - 26s 932ms/step - loss: 0.0073 - accuracy: 0.9908 - val_loss: 0.0154 - val_accuracy: 0.9725 - lr: 1.2500e-04\n",
            "Epoch 25/25\n",
            "28/27 [==============================] - 26s 930ms/step - loss: 0.0107 - accuracy: 0.9862 - val_loss: 0.0153 - val_accuracy: 0.9817 - lr: 1.2500e-04\n",
            "13/12 [==============================] - 2s 159ms/step\n",
            "-----------fold 2--------------\n",
            "Found 434 validated image filenames.\n",
            "Found 109 validated image filenames.\n",
            "Found 203 validated image filenames.\n",
            "Epoch 1/25\n",
            "28/27 [==============================] - 29s 1s/step - loss: 0.2685 - accuracy: 0.6567 - val_loss: 0.7450 - val_accuracy: 0.5688 - lr: 0.0010\n",
            "Epoch 2/25\n",
            "28/27 [==============================] - 26s 934ms/step - loss: 0.1429 - accuracy: 0.7627 - val_loss: 0.1584 - val_accuracy: 0.6697 - lr: 0.0010\n",
            "Epoch 3/25\n",
            "28/27 [==============================] - 26s 937ms/step - loss: 0.0898 - accuracy: 0.8594 - val_loss: 0.1730 - val_accuracy: 0.7615 - lr: 0.0010\n",
            "Epoch 4/25\n",
            "28/27 [==============================] - 26s 915ms/step - loss: 0.0998 - accuracy: 0.8226 - val_loss: 0.1696 - val_accuracy: 0.7064 - lr: 0.0010\n",
            "Epoch 5/25\n",
            "28/27 [==============================] - 26s 928ms/step - loss: 0.0786 - accuracy: 0.8618 - val_loss: 0.2097 - val_accuracy: 0.7523 - lr: 0.0010\n",
            "Epoch 6/25\n",
            "28/27 [==============================] - 26s 940ms/step - loss: 0.0598 - accuracy: 0.9078 - val_loss: 0.1304 - val_accuracy: 0.8349 - lr: 5.0000e-04\n",
            "Epoch 7/25\n",
            "28/27 [==============================] - 26s 938ms/step - loss: 0.0421 - accuracy: 0.9286 - val_loss: 0.1698 - val_accuracy: 0.8073 - lr: 5.0000e-04\n",
            "Epoch 8/25\n",
            "28/27 [==============================] - 26s 938ms/step - loss: 0.0258 - accuracy: 0.9562 - val_loss: 0.3363 - val_accuracy: 0.7523 - lr: 5.0000e-04\n",
            "Epoch 9/25\n",
            "28/27 [==============================] - 26s 927ms/step - loss: 0.0287 - accuracy: 0.9608 - val_loss: 0.5037 - val_accuracy: 0.6881 - lr: 5.0000e-04\n",
            "Epoch 10/25\n",
            "28/27 [==============================] - 26s 924ms/step - loss: 0.0275 - accuracy: 0.9654 - val_loss: 0.3776 - val_accuracy: 0.7890 - lr: 2.5000e-04\n",
            "Epoch 11/25\n",
            "28/27 [==============================] - 26s 922ms/step - loss: 0.0123 - accuracy: 0.9862 - val_loss: 0.2653 - val_accuracy: 0.8257 - lr: 2.5000e-04\n",
            "Epoch 12/25\n",
            "28/27 [==============================] - 26s 927ms/step - loss: 0.0175 - accuracy: 0.9816 - val_loss: 0.2227 - val_accuracy: 0.8349 - lr: 2.5000e-04\n",
            "Epoch 13/25\n",
            "28/27 [==============================] - 26s 926ms/step - loss: 0.0243 - accuracy: 0.9700 - val_loss: 0.2555 - val_accuracy: 0.7890 - lr: 1.2500e-04\n",
            "Epoch 14/25\n",
            "28/27 [==============================] - 26s 922ms/step - loss: 0.0193 - accuracy: 0.9770 - val_loss: 0.1419 - val_accuracy: 0.8624 - lr: 1.2500e-04\n",
            "Epoch 15/25\n",
            "28/27 [==============================] - 26s 925ms/step - loss: 0.0245 - accuracy: 0.9724 - val_loss: 0.0575 - val_accuracy: 0.8991 - lr: 1.2500e-04\n",
            "Epoch 16/25\n",
            "28/27 [==============================] - 26s 928ms/step - loss: 0.0207 - accuracy: 0.9793 - val_loss: 0.0677 - val_accuracy: 0.8991 - lr: 1.2500e-04\n",
            "Epoch 17/25\n",
            "28/27 [==============================] - 26s 924ms/step - loss: 0.0159 - accuracy: 0.9793 - val_loss: 0.0686 - val_accuracy: 0.9266 - lr: 1.2500e-04\n",
            "Epoch 18/25\n",
            "28/27 [==============================] - 26s 923ms/step - loss: 0.0203 - accuracy: 0.9793 - val_loss: 0.0863 - val_accuracy: 0.8899 - lr: 1.2500e-04\n",
            "Epoch 19/25\n",
            "28/27 [==============================] - 26s 928ms/step - loss: 0.0133 - accuracy: 0.9885 - val_loss: 0.1272 - val_accuracy: 0.8624 - lr: 6.2500e-05\n",
            "Epoch 20/25\n",
            "28/27 [==============================] - 26s 923ms/step - loss: 0.0143 - accuracy: 0.9793 - val_loss: 0.0800 - val_accuracy: 0.9083 - lr: 6.2500e-05\n",
            "Epoch 21/25\n",
            "28/27 [==============================] - 26s 926ms/step - loss: 0.0121 - accuracy: 0.9931 - val_loss: 0.0598 - val_accuracy: 0.9174 - lr: 6.2500e-05\n",
            "Epoch 22/25\n",
            "28/27 [==============================] - 26s 936ms/step - loss: 0.0104 - accuracy: 0.9885 - val_loss: 0.0577 - val_accuracy: 0.9358 - lr: 3.1250e-05\n",
            "Epoch 23/25\n",
            "28/27 [==============================] - 26s 932ms/step - loss: 0.0083 - accuracy: 0.9931 - val_loss: 0.0425 - val_accuracy: 0.9266 - lr: 3.1250e-05\n",
            "Epoch 24/25\n",
            "28/27 [==============================] - 27s 954ms/step - loss: 0.0105 - accuracy: 0.9931 - val_loss: 0.0324 - val_accuracy: 0.9358 - lr: 3.1250e-05\n",
            "Epoch 25/25\n",
            "28/27 [==============================] - 27s 951ms/step - loss: 0.0111 - accuracy: 0.9862 - val_loss: 0.0348 - val_accuracy: 0.9450 - lr: 3.1250e-05\n",
            "13/12 [==============================] - 2s 160ms/step\n",
            "-----------fold 3--------------\n",
            "Found 435 validated image filenames.\n",
            "Found 108 validated image filenames.\n",
            "Found 203 validated image filenames.\n",
            "Epoch 1/25\n",
            "28/27 [==============================] - 32s 1s/step - loss: 0.2507 - accuracy: 0.6207 - val_loss: 0.2986 - val_accuracy: 0.6667 - lr: 0.0010\n",
            "Epoch 2/25\n",
            "28/27 [==============================] - 26s 922ms/step - loss: 0.1541 - accuracy: 0.7517 - val_loss: 0.8029 - val_accuracy: 0.5000 - lr: 0.0010\n",
            "Epoch 3/25\n",
            "28/27 [==============================] - 26s 927ms/step - loss: 0.0742 - accuracy: 0.9034 - val_loss: 0.3558 - val_accuracy: 0.6852 - lr: 0.0010\n",
            "Epoch 4/25\n",
            "28/27 [==============================] - 26s 916ms/step - loss: 0.0816 - accuracy: 0.8897 - val_loss: 1.3790 - val_accuracy: 0.5926 - lr: 0.0010\n",
            "Epoch 5/25\n",
            "28/27 [==============================] - 26s 927ms/step - loss: 0.0693 - accuracy: 0.8966 - val_loss: 0.5689 - val_accuracy: 0.6759 - lr: 5.0000e-04\n",
            "Epoch 6/25\n",
            "28/27 [==============================] - 26s 921ms/step - loss: 0.0507 - accuracy: 0.9310 - val_loss: 0.1126 - val_accuracy: 0.8426 - lr: 5.0000e-04\n",
            "Epoch 7/25\n",
            "28/27 [==============================] - 26s 926ms/step - loss: 0.0407 - accuracy: 0.9356 - val_loss: 0.2247 - val_accuracy: 0.8148 - lr: 5.0000e-04\n",
            "Epoch 8/25\n",
            "28/27 [==============================] - 26s 919ms/step - loss: 0.0386 - accuracy: 0.9517 - val_loss: 0.1617 - val_accuracy: 0.8241 - lr: 5.0000e-04\n",
            "Epoch 9/25\n",
            "28/27 [==============================] - 26s 922ms/step - loss: 0.0275 - accuracy: 0.9609 - val_loss: 0.1426 - val_accuracy: 0.8426 - lr: 5.0000e-04\n",
            "Epoch 10/25\n",
            "28/27 [==============================] - 26s 926ms/step - loss: 0.0153 - accuracy: 0.9816 - val_loss: 0.0935 - val_accuracy: 0.8889 - lr: 2.5000e-04\n",
            "Epoch 11/25\n",
            "28/27 [==============================] - 26s 927ms/step - loss: 0.0194 - accuracy: 0.9655 - val_loss: 0.0974 - val_accuracy: 0.8796 - lr: 2.5000e-04\n",
            "Epoch 12/25\n",
            "28/27 [==============================] - 26s 923ms/step - loss: 0.0263 - accuracy: 0.9540 - val_loss: 0.0688 - val_accuracy: 0.8889 - lr: 2.5000e-04\n",
            "Epoch 13/25\n",
            "28/27 [==============================] - 26s 923ms/step - loss: 0.0206 - accuracy: 0.9770 - val_loss: 0.0886 - val_accuracy: 0.8981 - lr: 2.5000e-04\n",
            "Epoch 14/25\n",
            "28/27 [==============================] - 26s 931ms/step - loss: 0.0267 - accuracy: 0.9655 - val_loss: 0.0673 - val_accuracy: 0.9259 - lr: 2.5000e-04\n",
            "Epoch 15/25\n",
            "28/27 [==============================] - 26s 933ms/step - loss: 0.0171 - accuracy: 0.9747 - val_loss: 0.0365 - val_accuracy: 0.9444 - lr: 2.5000e-04\n",
            "Epoch 16/25\n",
            "28/27 [==============================] - 26s 937ms/step - loss: 0.0130 - accuracy: 0.9862 - val_loss: 0.0615 - val_accuracy: 0.9074 - lr: 2.5000e-04\n",
            "Epoch 17/25\n",
            "28/27 [==============================] - 26s 924ms/step - loss: 0.0209 - accuracy: 0.9816 - val_loss: 0.0498 - val_accuracy: 0.9352 - lr: 2.5000e-04\n",
            "Epoch 18/25\n",
            "28/27 [==============================] - 26s 921ms/step - loss: 0.0083 - accuracy: 0.9908 - val_loss: 0.0656 - val_accuracy: 0.9259 - lr: 2.5000e-04\n",
            "Epoch 19/25\n",
            "28/27 [==============================] - 25s 910ms/step - loss: 0.0057 - accuracy: 0.9931 - val_loss: 0.0259 - val_accuracy: 0.9630 - lr: 1.2500e-04\n",
            "Epoch 20/25\n",
            "28/27 [==============================] - 26s 932ms/step - loss: 0.0062 - accuracy: 0.9931 - val_loss: 0.0358 - val_accuracy: 0.9444 - lr: 1.2500e-04\n",
            "Epoch 21/25\n",
            "28/27 [==============================] - 26s 924ms/step - loss: 0.0373 - accuracy: 0.9655 - val_loss: 0.0336 - val_accuracy: 0.9444 - lr: 1.2500e-04\n",
            "Epoch 22/25\n",
            "28/27 [==============================] - 26s 923ms/step - loss: 0.0124 - accuracy: 0.9816 - val_loss: 0.0317 - val_accuracy: 0.9444 - lr: 1.2500e-04\n",
            "Epoch 23/25\n",
            "28/27 [==============================] - 26s 918ms/step - loss: 0.0079 - accuracy: 0.9908 - val_loss: 0.0528 - val_accuracy: 0.9537 - lr: 6.2500e-05\n",
            "Epoch 24/25\n",
            "28/27 [==============================] - 26s 921ms/step - loss: 0.0086 - accuracy: 0.9885 - val_loss: 0.0322 - val_accuracy: 0.9444 - lr: 6.2500e-05\n",
            "Epoch 25/25\n",
            "28/27 [==============================] - 26s 931ms/step - loss: 0.0080 - accuracy: 0.9862 - val_loss: 0.0335 - val_accuracy: 0.9630 - lr: 6.2500e-05\n",
            "13/12 [==============================] - 2s 160ms/step\n",
            "-----------fold 4--------------\n",
            "Found 435 validated image filenames.\n",
            "Found 108 validated image filenames.\n",
            "Found 203 validated image filenames.\n",
            "Epoch 1/25\n",
            "28/27 [==============================] - 28s 1s/step - loss: 0.2310 - accuracy: 0.6874 - val_loss: 0.3892 - val_accuracy: 0.6204 - lr: 0.0010\n",
            "Epoch 2/25\n",
            "28/27 [==============================] - 26s 928ms/step - loss: 0.1302 - accuracy: 0.8023 - val_loss: 0.2717 - val_accuracy: 0.6204 - lr: 0.0010\n",
            "Epoch 3/25\n",
            "28/27 [==============================] - 26s 923ms/step - loss: 0.1029 - accuracy: 0.8483 - val_loss: 0.2881 - val_accuracy: 0.6481 - lr: 0.0010\n",
            "Epoch 4/25\n",
            "28/27 [==============================] - 26s 927ms/step - loss: 0.0517 - accuracy: 0.9149 - val_loss: 0.3104 - val_accuracy: 0.7130 - lr: 0.0010\n",
            "Epoch 5/25\n",
            "28/27 [==============================] - 26s 932ms/step - loss: 0.0794 - accuracy: 0.8920 - val_loss: 0.2670 - val_accuracy: 0.7315 - lr: 0.0010\n",
            "Epoch 6/25\n",
            "28/27 [==============================] - 26s 924ms/step - loss: 0.0840 - accuracy: 0.8667 - val_loss: 0.1212 - val_accuracy: 0.8241 - lr: 0.0010\n",
            "Epoch 7/25\n",
            "28/27 [==============================] - 26s 918ms/step - loss: 0.0499 - accuracy: 0.9448 - val_loss: 0.1843 - val_accuracy: 0.7685 - lr: 0.0010\n",
            "Epoch 8/25\n",
            "28/27 [==============================] - 26s 928ms/step - loss: 0.0523 - accuracy: 0.9264 - val_loss: 0.0992 - val_accuracy: 0.8333 - lr: 0.0010\n",
            "Epoch 9/25\n",
            "28/27 [==============================] - 26s 921ms/step - loss: 0.0410 - accuracy: 0.9471 - val_loss: 0.2674 - val_accuracy: 0.8148 - lr: 0.0010\n",
            "Epoch 10/25\n",
            "28/27 [==============================] - 26s 923ms/step - loss: 0.0969 - accuracy: 0.8851 - val_loss: 0.3239 - val_accuracy: 0.7407 - lr: 0.0010\n",
            "Epoch 11/25\n",
            "28/27 [==============================] - 26s 926ms/step - loss: 0.0394 - accuracy: 0.9402 - val_loss: 0.3835 - val_accuracy: 0.7593 - lr: 0.0010\n",
            "Epoch 12/25\n",
            "28/27 [==============================] - 26s 925ms/step - loss: 0.0448 - accuracy: 0.9425 - val_loss: 0.1876 - val_accuracy: 0.8241 - lr: 5.0000e-04\n",
            "Epoch 13/25\n",
            "28/27 [==============================] - 26s 925ms/step - loss: 0.0363 - accuracy: 0.9448 - val_loss: 0.0615 - val_accuracy: 0.8981 - lr: 5.0000e-04\n",
            "Epoch 14/25\n",
            "28/27 [==============================] - 26s 916ms/step - loss: 0.0341 - accuracy: 0.9402 - val_loss: 0.0513 - val_accuracy: 0.9444 - lr: 5.0000e-04\n",
            "Epoch 15/25\n",
            "28/27 [==============================] - 26s 919ms/step - loss: 0.0176 - accuracy: 0.9793 - val_loss: 0.0368 - val_accuracy: 0.9352 - lr: 5.0000e-04\n",
            "Epoch 16/25\n",
            "28/27 [==============================] - 26s 928ms/step - loss: 0.0098 - accuracy: 0.9908 - val_loss: 0.0475 - val_accuracy: 0.9630 - lr: 5.0000e-04\n",
            "Epoch 17/25\n",
            "28/27 [==============================] - 26s 924ms/step - loss: 0.0100 - accuracy: 0.9793 - val_loss: 0.0575 - val_accuracy: 0.9444 - lr: 5.0000e-04\n",
            "Epoch 18/25\n",
            "28/27 [==============================] - 26s 914ms/step - loss: 0.0163 - accuracy: 0.9816 - val_loss: 0.0551 - val_accuracy: 0.9352 - lr: 5.0000e-04\n",
            "Epoch 19/25\n",
            "28/27 [==============================] - 26s 922ms/step - loss: 0.0096 - accuracy: 0.9862 - val_loss: 0.0390 - val_accuracy: 0.9537 - lr: 2.5000e-04\n",
            "Epoch 20/25\n",
            "28/27 [==============================] - 26s 924ms/step - loss: 0.0049 - accuracy: 0.9977 - val_loss: 0.0584 - val_accuracy: 0.9537 - lr: 2.5000e-04\n",
            "Epoch 21/25\n",
            "28/27 [==============================] - 26s 922ms/step - loss: 0.0086 - accuracy: 0.9885 - val_loss: 0.0334 - val_accuracy: 0.9722 - lr: 2.5000e-04\n",
            "Epoch 22/25\n",
            "28/27 [==============================] - 26s 923ms/step - loss: 0.0037 - accuracy: 0.9954 - val_loss: 0.0433 - val_accuracy: 0.9537 - lr: 2.5000e-04\n",
            "Epoch 23/25\n",
            "28/27 [==============================] - 26s 926ms/step - loss: 0.0055 - accuracy: 0.9908 - val_loss: 0.0293 - val_accuracy: 0.9722 - lr: 2.5000e-04\n",
            "Epoch 24/25\n",
            "28/27 [==============================] - 26s 922ms/step - loss: 0.0247 - accuracy: 0.9632 - val_loss: 0.0744 - val_accuracy: 0.9074 - lr: 2.5000e-04\n",
            "Epoch 25/25\n",
            "28/27 [==============================] - 26s 926ms/step - loss: 0.0373 - accuracy: 0.9471 - val_loss: 0.1144 - val_accuracy: 0.8611 - lr: 2.5000e-04\n",
            "13/12 [==============================] - 2s 159ms/step\n"
          ],
          "name": "stdout"
        }
      ]
    },
    {
      "cell_type": "code",
      "metadata": {
        "id": "BJobcAABrZK4",
        "colab_type": "code",
        "outputId": "c1016bff-7319-448a-981c-ce1b1c80be6e",
        "colab": {
          "base_uri": "https://localhost:8080/",
          "height": 35
        }
      },
      "source": [
        "import numpy as np\n",
        "y_mean=np.mean(y_pred,axis=0)\n",
        "y_true=test_df.iloc[:,2::]\n",
        "y_true.shape,y_mean.shape"
      ],
      "execution_count": 0,
      "outputs": [
        {
          "output_type": "execute_result",
          "data": {
            "text/plain": [
              "((203, 2), (203, 2))"
            ]
          },
          "metadata": {
            "tags": []
          },
          "execution_count": 20
        }
      ]
    },
    {
      "cell_type": "code",
      "metadata": {
        "id": "XCphJVfdBm0H",
        "colab_type": "code",
        "outputId": "e794de8d-3259-4bb2-ece1-99b20999b13a",
        "colab": {
          "base_uri": "https://localhost:8080/",
          "height": 35
        }
      },
      "source": [
        "y_mean=np.argmax(y_mean,axis=1).ravel()\n",
        "y_true=np.argmax(y_true.values,axis=1).ravel()\n",
        "\n",
        "y_true.shape,y_mean.shape"
      ],
      "execution_count": 0,
      "outputs": [
        {
          "output_type": "execute_result",
          "data": {
            "text/plain": [
              "((203,), (203,))"
            ]
          },
          "metadata": {
            "tags": []
          },
          "execution_count": 21
        }
      ]
    },
    {
      "cell_type": "code",
      "metadata": {
        "id": "ecc-q4ledbtX",
        "colab_type": "code",
        "outputId": "c1584907-1635-4ad9-f4ad-fb6c17af6f4d",
        "colab": {
          "base_uri": "https://localhost:8080/",
          "height": 225
        }
      },
      "source": [
        "\n",
        "print(classification_report(y_true, y_mean,target_names=['covid','noncovid']))#\n",
        "print('accuracy',np.round(accuracy_score(y_true,y_mean),3))\n",
        "print('f1 score is ',np.round(f1_score(y_true,y_mean,average='macro'),3))\n",
        "print('auc',np.round(roc_auc_score(y_true,y_mean),3))"
      ],
      "execution_count": 0,
      "outputs": [
        {
          "output_type": "stream",
          "text": [
            "              precision    recall  f1-score   support\n",
            "\n",
            "       covid       0.94      0.84      0.89        98\n",
            "    noncovid       0.86      0.95      0.90       105\n",
            "\n",
            "    accuracy                           0.90       203\n",
            "   macro avg       0.90      0.89      0.90       203\n",
            "weighted avg       0.90      0.90      0.90       203\n",
            "\n",
            "accuracy 0.897\n",
            "f1 score is  0.896\n",
            "auc 0.895\n"
          ],
          "name": "stdout"
        }
      ]
    },
    {
      "cell_type": "code",
      "metadata": {
        "id": "6-HMF7zwAVGo",
        "colab_type": "code",
        "outputId": "e4294bd3-e0a3-42dd-d735-70583353659b",
        "colab": {
          "base_uri": "https://localhost:8080/",
          "height": 52
        }
      },
      "source": [
        "from sklearn.metrics import confusion_matrix\n",
        "confusion_matrix(y_true, y_mean)"
      ],
      "execution_count": 0,
      "outputs": [
        {
          "output_type": "execute_result",
          "data": {
            "text/plain": [
              "array([[ 82,  16],\n",
              "       [  5, 100]])"
            ]
          },
          "metadata": {
            "tags": []
          },
          "execution_count": 25
        }
      ]
    },
    {
      "cell_type": "code",
      "metadata": {
        "id": "waUeIzdyBaxM",
        "colab_type": "code",
        "colab": {}
      },
      "source": [
        "for i in range(5):\n",
        "  np.save('LRP_history_{}'.format(i),history[i].history)"
      ],
      "execution_count": 0,
      "outputs": []
    },
    {
      "cell_type": "code",
      "metadata": {
        "id": "nloJlTlUPJDZ",
        "colab_type": "code",
        "outputId": "6af66f4c-05bb-4958-f432-b53efe5fb414",
        "colab": {
          "base_uri": "https://localhost:8080/",
          "height": 573
        }
      },
      "source": [
        "import matplotlib.pyplot as plt\n",
        "\n",
        "# Plot training & validation accuracy values\n",
        "plt.plot(np.mean([[j for j in x.history['accuracy']] for x in history ],axis=0))\n",
        "plt.plot(np.mean([[j for j in x.history['val_accuracy']] for x in history ],axis=0))\n",
        "plt.title('Model accuracy')\n",
        "plt.ylabel('Accuracy')\n",
        "plt.xlabel('Epoch')\n",
        "plt.legend(['Train', 'Test'], loc='upper left')\n",
        "plt.show()\n",
        "\n",
        "# Plot training & validation loss values\n",
        "plt.plot(np.mean([[j for j in x.history['loss']] for x in history ],axis=0))\n",
        "plt.plot(np.mean([[j for j in x.history['val_loss']] for x in history ],axis=0))\n",
        "plt.title('Model loss')\n",
        "plt.ylabel('Loss')\n",
        "plt.xlabel('Epoch')\n",
        "plt.legend(['Train', 'Test'], loc='upper left')\n",
        "plt.show()"
      ],
      "execution_count": 0,
      "outputs": [
        {
          "output_type": "display_data",
          "data": {
            "image/png": "[encoded data removed]",
            "text/plain": [
              "<Figure size 432x288 with 1 Axes>"
            ]
          },
          "metadata": {
            "tags": [],
            "needs_background": "light"
          }
        },
        {
          "output_type": "display_data",
          "data": {
            "image/png": "[encoded data removed]",
            "text/plain": [
              "<Figure size 432x288 with 1 Axes>"
            ]
          },
          "metadata": {
            "tags": [],
            "needs_background": "light"
          }
        }
      ]
    },
    {
      "cell_type": "code",
      "metadata": {
        "id": "3BpPVfsCBGeE",
        "colab_type": "code",
        "outputId": "7d66befd-c56d-4acc-d726-8585c5b9ebad",
        "colab": {
          "base_uri": "https://localhost:8080/",
          "height": 295
        }
      },
      "source": [
        "# Plot training & validation loss values\n",
        "for i in range(5):\n",
        "  plt.plot(history[i].history['val_accuracy'])\n",
        "plt.title('Model Validation Accuracy')\n",
        "plt.ylabel('Accuracy')\n",
        "plt.xlabel('Epoch')\n",
        "plt.legend(['Fold1','Fold2','Fold3','Fold4','Fold5' ], loc='upper left')\n",
        "plt.show()"
      ],
      "execution_count": 0,
      "outputs": [
        {
          "output_type": "display_data",
          "data": {
            "image/png": "[encoded data removed]",
            "text/plain": [
              "<Figure size 432x288 with 1 Axes>"
            ]
          },
          "metadata": {
            "tags": [],
            "needs_background": "light"
          }
        }
      ]
    },
    {
      "cell_type": "code",
      "metadata": {
        "id": "UfGy7QI1EkDw",
        "colab_type": "code",
        "outputId": "7f0bb431-22a6-41ff-d929-21457f56c780",
        "colab": {
          "base_uri": "https://localhost:8080/",
          "height": 295
        }
      },
      "source": [
        "# Plot training & validation loss values\n",
        "for i in range(5):\n",
        "  plt.plot(history[i].history['val_loss'])\n",
        "plt.title('Model Validation Loss')\n",
        "plt.ylabel('Loss')\n",
        "plt.xlabel('Epoch')\n",
        "plt.legend(['Fold1','Fold2','Fold3','Fold4','Fold5' ], loc='upper left')\n",
        "plt.show()"
      ],
      "execution_count": 0,
      "outputs": [
        {
          "output_type": "display_data",
          "data": {
            "image/png": "[encoded data removed]",
            "text/plain": [
              "<Figure size 432x288 with 1 Axes>"
            ]
          },
          "metadata": {
            "tags": [],
            "needs_background": "light"
          }
        }
      ]
    },
    {
      "cell_type": "code",
      "metadata": {
        "id": "mglvlAJJEyMM",
        "colab_type": "code",
        "outputId": "d1e54c44-718c-43f4-ac9c-88bbc092cef7",
        "colab": {
          "base_uri": "https://localhost:8080/",
          "height": 295
        }
      },
      "source": [
        "for i in range(5):\n",
        "  plt.plot(history[i].history['lr'])\n",
        "plt.title('Model LR')\n",
        "plt.ylabel('LR')\n",
        "plt.xlabel('Epoch')\n",
        "plt.legend(['LR1','LR2','LR3','LR4','LR5' ], loc='upper left')\n",
        "plt.show()"
      ],
      "execution_count": 0,
      "outputs": [
        {
          "output_type": "display_data",
          "data": {
            "image/png": "[encoded data removed]",
            "text/plain": [
              "<Figure size 432x288 with 1 Axes>"
            ]
          },
          "metadata": {
            "tags": [],
            "needs_background": "light"
          }
        }
      ]
    },
    {
      "cell_type": "code",
      "metadata": {
        "id": "aAjnWP1DF2eF",
        "colab_type": "code",
        "colab": {}
      },
      "source": [
        ""
      ],
      "execution_count": 0,
      "outputs": []
    }
  ]
}