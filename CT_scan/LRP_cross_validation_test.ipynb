{
  "nbformat": 4,
  "nbformat_minor": 0,
  "metadata": {
    "colab": {
      "name": "LRP_cross_validation_test.ipynb",
      "provenance": [],
      "include_colab_link": true
    },
    "kernelspec": {
      "name": "python3",
      "display_name": "Python 3"
    },
    "accelerator": "GPU"
  },
  "cells": [
    {
      "cell_type": "markdown",
      "metadata": {
        "id": "view-in-github",
        "colab_type": "text"
      },
      "source": [
        "<a href=\"https://colab.research.google.com/github/talhaanwarch/Corona_Virus/blob/master/CT_scan/LRP_cross_validation_test.ipynb\" target=\"_parent\"><img src=\"https://colab.research.google.com/assets/colab-badge.svg\" alt=\"Open In Colab\"/></a>"
      ]
    },
    {
      "cell_type": "code",
      "metadata": {
        "id": "yGCfB8yhc3_E",
        "colab_type": "code",
        "outputId": "8c7a7b0a-c3ed-438d-a2d7-3ef5d8398c83",
        "colab": {
          "base_uri": "https://localhost:8080/",
          "height": 36
        }
      },
      "source": [
        "!nvidia-smi -L"
      ],
      "execution_count": 1,
      "outputs": [
        {
          "output_type": "stream",
          "text": [
            "GPU 0: Tesla P100-PCIE-16GB (UUID: GPU-0c8bb8fa-defe-ac90-aa84-5f717967c3e6)\n"
          ],
          "name": "stdout"
        }
      ]
    },
    {
      "cell_type": "code",
      "metadata": {
        "id": "ylMZAGXl7kKx",
        "colab_type": "code",
        "colab": {}
      },
      "source": [
        "%%capture\n",
        "!pip install efficientnet"
      ],
      "execution_count": 0,
      "outputs": []
    },
    {
      "cell_type": "code",
      "metadata": {
        "id": "_d7PdOxl3KJv",
        "colab_type": "code",
        "colab": {}
      },
      "source": [
        "%%capture\n",
        "!pip install focal-loss"
      ],
      "execution_count": 0,
      "outputs": []
    },
    {
      "cell_type": "code",
      "metadata": {
        "id": "KqvtepzCMe8O",
        "colab_type": "code",
        "outputId": "0fafd615-82da-4890-e3cd-c57fd886c25d",
        "colab": {
          "base_uri": "https://localhost:8080/",
          "height": 243
        }
      },
      "source": [
        "!wget https://raw.githubusercontent.com/talhaanwarch/keras-contrib/master/keras_contrib/callbacks/cyclical_learning_rate.py"
      ],
      "execution_count": 4,
      "outputs": [
        {
          "output_type": "stream",
          "text": [
            "--2020-05-06 23:53:23--  https://raw.githubusercontent.com/talhaanwarch/keras-contrib/master/keras_contrib/callbacks/cyclical_learning_rate.py\n",
            "Resolving raw.githubusercontent.com (raw.githubusercontent.com)... 151.101.0.133, 151.101.64.133, 151.101.128.133, ...\n",
            "Connecting to raw.githubusercontent.com (raw.githubusercontent.com)|151.101.0.133|:443... connected.\n",
            "HTTP request sent, awaiting response... 200 OK\n",
            "Length: 5976 (5.8K) [text/plain]\n",
            "Saving to: ‘cyclical_learning_rate.py’\n",
            "\n",
            "\r          cyclical_   0%[                    ]       0  --.-KB/s               \rcyclical_learning_r 100%[===================>]   5.84K  --.-KB/s    in 0s      \n",
            "\n",
            "2020-05-06 23:53:24 (84.2 MB/s) - ‘cyclical_learning_rate.py’ saved [5976/5976]\n",
            "\n"
          ],
          "name": "stdout"
        }
      ]
    },
    {
      "cell_type": "markdown",
      "metadata": {
        "id": "4FDtv7g97nN8",
        "colab_type": "text"
      },
      "source": [
        "### CLone github repo, to dowlonad data"
      ]
    },
    {
      "cell_type": "code",
      "metadata": {
        "id": "yi2pSQus7JR4",
        "colab_type": "code",
        "outputId": "8646ea4c-52c8-4f77-e4d7-d034afde4239",
        "colab": {
          "base_uri": "https://localhost:8080/",
          "height": 129
        }
      },
      "source": [
        "!git clone https://github.com/UCSD-AI4H/COVID-CT.git"
      ],
      "execution_count": 5,
      "outputs": [
        {
          "output_type": "stream",
          "text": [
            "Cloning into 'COVID-CT'...\n",
            "remote: Enumerating objects: 5443, done.\u001b[K\n",
            "remote: Total 5443 (delta 0), reused 0 (delta 0), pack-reused 5443\n",
            "Receiving objects: 100% (5443/5443), 1.09 GiB | 43.26 MiB/s, done.\n",
            "Resolving deltas: 100% (355/355), done.\n",
            "Checking out files: 100% (1048/1048), done.\n"
          ],
          "name": "stdout"
        }
      ]
    },
    {
      "cell_type": "markdown",
      "metadata": {
        "id": "imIfz2hq7s0m",
        "colab_type": "text"
      },
      "source": [
        "### Extract data in one format"
      ]
    },
    {
      "cell_type": "code",
      "metadata": {
        "id": "6WuO45h57deK",
        "colab_type": "code",
        "colab": {}
      },
      "source": [
        "%%capture\n",
        "!unzip /content/COVID-CT/Images-processed/CT_COVID.zip\n",
        "!unzip /content/COVID-CT/Images-processed/CT_NonCOVID.zip"
      ],
      "execution_count": 0,
      "outputs": []
    },
    {
      "cell_type": "code",
      "metadata": {
        "id": "eJUYRmVS8kJR",
        "colab_type": "code",
        "colab": {}
      },
      "source": [
        "!mkdir images\n",
        "!cp -r /content/CT_COVID/* images\n",
        "!cp -r /content/CT_NonCOVID/* images\n"
      ],
      "execution_count": 0,
      "outputs": []
    },
    {
      "cell_type": "markdown",
      "metadata": {
        "id": "R959Xz4V9GuP",
        "colab_type": "text"
      },
      "source": [
        "###read meta files"
      ]
    },
    {
      "cell_type": "code",
      "metadata": {
        "id": "ZSd1vcC-9Smh",
        "colab_type": "code",
        "colab": {}
      },
      "source": [
        "import pandas as pd\n",
        "import os"
      ],
      "execution_count": 0,
      "outputs": []
    },
    {
      "cell_type": "code",
      "metadata": {
        "id": "Li1uZhmr9Jk2",
        "colab_type": "code",
        "outputId": "362d4f5d-d59f-4564-fc01-d8503118f785",
        "colab": {
          "base_uri": "https://localhost:8080/",
          "height": 206
        }
      },
      "source": [
        "covid=os.listdir('/content/CT_COVID')\n",
        "cov=list(zip(covid,['covid']*(len(covid))))\n",
        "covid_df = pd.DataFrame(cov,columns=['file','label']) \n",
        "covid_df.head()"
      ],
      "execution_count": 9,
      "outputs": [
        {
          "output_type": "execute_result",
          "data": {
            "text/html": [
              "<div>\n",
              "<style scoped>\n",
              "    .dataframe tbody tr th:only-of-type {\n",
              "        vertical-align: middle;\n",
              "    }\n",
              "\n",
              "    .dataframe tbody tr th {\n",
              "        vertical-align: top;\n",
              "    }\n",
              "\n",
              "    .dataframe thead th {\n",
              "        text-align: right;\n",
              "    }\n",
              "</style>\n",
              "<table border=\"1\" class=\"dataframe\">\n",
              "  <thead>\n",
              "    <tr style=\"text-align: right;\">\n",
              "      <th></th>\n",
              "      <th>file</th>\n",
              "      <th>label</th>\n",
              "    </tr>\n",
              "  </thead>\n",
              "  <tbody>\n",
              "    <tr>\n",
              "      <th>0</th>\n",
              "      <td>PIIS0140673620303603%2.png</td>\n",
              "      <td>covid</td>\n",
              "    </tr>\n",
              "    <tr>\n",
              "      <th>1</th>\n",
              "      <td>2020.03.09.20033118-p20-93%3.png</td>\n",
              "      <td>covid</td>\n",
              "    </tr>\n",
              "    <tr>\n",
              "      <th>2</th>\n",
              "      <td>Talaromyces-marneffei-infection-relapse-presen...</td>\n",
              "      <td>covid</td>\n",
              "    </tr>\n",
              "    <tr>\n",
              "      <th>3</th>\n",
              "      <td>2020.02.27.20027557-p25-137%3.png</td>\n",
              "      <td>covid</td>\n",
              "    </tr>\n",
              "    <tr>\n",
              "      <th>4</th>\n",
              "      <td>2020.02.23.20026856-p17-115%2.png</td>\n",
              "      <td>covid</td>\n",
              "    </tr>\n",
              "  </tbody>\n",
              "</table>\n",
              "</div>"
            ],
            "text/plain": [
              "                                                file  label\n",
              "0                         PIIS0140673620303603%2.png  covid\n",
              "1                   2020.03.09.20033118-p20-93%3.png  covid\n",
              "2  Talaromyces-marneffei-infection-relapse-presen...  covid\n",
              "3                  2020.02.27.20027557-p25-137%3.png  covid\n",
              "4                  2020.02.23.20026856-p17-115%2.png  covid"
            ]
          },
          "metadata": {
            "tags": []
          },
          "execution_count": 9
        }
      ]
    },
    {
      "cell_type": "code",
      "metadata": {
        "id": "PUrppSTx7Z3f",
        "colab_type": "code",
        "outputId": "6126e19a-aa81-4265-833d-b8a4018c99eb",
        "colab": {
          "base_uri": "https://localhost:8080/",
          "height": 206
        }
      },
      "source": [
        "noncovid=os.listdir('/content/CT_NonCOVID')\n",
        "noncov=list(zip(noncovid,['noncovid']*(len(noncovid))))\n",
        "noncovid_df = pd.DataFrame(noncov,columns=['file','label']) \n",
        "noncovid_df.head()"
      ],
      "execution_count": 10,
      "outputs": [
        {
          "output_type": "execute_result",
          "data": {
            "text/html": [
              "<div>\n",
              "<style scoped>\n",
              "    .dataframe tbody tr th:only-of-type {\n",
              "        vertical-align: middle;\n",
              "    }\n",
              "\n",
              "    .dataframe tbody tr th {\n",
              "        vertical-align: top;\n",
              "    }\n",
              "\n",
              "    .dataframe thead th {\n",
              "        text-align: right;\n",
              "    }\n",
              "</style>\n",
              "<table border=\"1\" class=\"dataframe\">\n",
              "  <thead>\n",
              "    <tr style=\"text-align: right;\">\n",
              "      <th></th>\n",
              "      <th>file</th>\n",
              "      <th>label</th>\n",
              "    </tr>\n",
              "  </thead>\n",
              "  <tbody>\n",
              "    <tr>\n",
              "      <th>0</th>\n",
              "      <td>19%0.jpg</td>\n",
              "      <td>noncovid</td>\n",
              "    </tr>\n",
              "    <tr>\n",
              "      <th>1</th>\n",
              "      <td>12.jpg</td>\n",
              "      <td>noncovid</td>\n",
              "    </tr>\n",
              "    <tr>\n",
              "      <th>2</th>\n",
              "      <td>1100.png</td>\n",
              "      <td>noncovid</td>\n",
              "    </tr>\n",
              "    <tr>\n",
              "      <th>3</th>\n",
              "      <td>1923.png</td>\n",
              "      <td>noncovid</td>\n",
              "    </tr>\n",
              "    <tr>\n",
              "      <th>4</th>\n",
              "      <td>890.png</td>\n",
              "      <td>noncovid</td>\n",
              "    </tr>\n",
              "  </tbody>\n",
              "</table>\n",
              "</div>"
            ],
            "text/plain": [
              "       file     label\n",
              "0  19%0.jpg  noncovid\n",
              "1    12.jpg  noncovid\n",
              "2  1100.png  noncovid\n",
              "3  1923.png  noncovid\n",
              "4   890.png  noncovid"
            ]
          },
          "metadata": {
            "tags": []
          },
          "execution_count": 10
        }
      ]
    },
    {
      "cell_type": "code",
      "metadata": {
        "id": "Tryb2TOv99r4",
        "colab_type": "code",
        "outputId": "2e1e2964-33e5-445e-c941-58606410651f",
        "colab": {
          "base_uri": "https://localhost:8080/",
          "height": 206
        }
      },
      "source": [
        "dataframe=pd.concat([covid_df,noncovid_df])\n",
        "dataframe.head()"
      ],
      "execution_count": 11,
      "outputs": [
        {
          "output_type": "execute_result",
          "data": {
            "text/html": [
              "<div>\n",
              "<style scoped>\n",
              "    .dataframe tbody tr th:only-of-type {\n",
              "        vertical-align: middle;\n",
              "    }\n",
              "\n",
              "    .dataframe tbody tr th {\n",
              "        vertical-align: top;\n",
              "    }\n",
              "\n",
              "    .dataframe thead th {\n",
              "        text-align: right;\n",
              "    }\n",
              "</style>\n",
              "<table border=\"1\" class=\"dataframe\">\n",
              "  <thead>\n",
              "    <tr style=\"text-align: right;\">\n",
              "      <th></th>\n",
              "      <th>file</th>\n",
              "      <th>label</th>\n",
              "    </tr>\n",
              "  </thead>\n",
              "  <tbody>\n",
              "    <tr>\n",
              "      <th>0</th>\n",
              "      <td>PIIS0140673620303603%2.png</td>\n",
              "      <td>covid</td>\n",
              "    </tr>\n",
              "    <tr>\n",
              "      <th>1</th>\n",
              "      <td>2020.03.09.20033118-p20-93%3.png</td>\n",
              "      <td>covid</td>\n",
              "    </tr>\n",
              "    <tr>\n",
              "      <th>2</th>\n",
              "      <td>Talaromyces-marneffei-infection-relapse-presen...</td>\n",
              "      <td>covid</td>\n",
              "    </tr>\n",
              "    <tr>\n",
              "      <th>3</th>\n",
              "      <td>2020.02.27.20027557-p25-137%3.png</td>\n",
              "      <td>covid</td>\n",
              "    </tr>\n",
              "    <tr>\n",
              "      <th>4</th>\n",
              "      <td>2020.02.23.20026856-p17-115%2.png</td>\n",
              "      <td>covid</td>\n",
              "    </tr>\n",
              "  </tbody>\n",
              "</table>\n",
              "</div>"
            ],
            "text/plain": [
              "                                                file  label\n",
              "0                         PIIS0140673620303603%2.png  covid\n",
              "1                   2020.03.09.20033118-p20-93%3.png  covid\n",
              "2  Talaromyces-marneffei-infection-relapse-presen...  covid\n",
              "3                  2020.02.27.20027557-p25-137%3.png  covid\n",
              "4                  2020.02.23.20026856-p17-115%2.png  covid"
            ]
          },
          "metadata": {
            "tags": []
          },
          "execution_count": 11
        }
      ]
    },
    {
      "cell_type": "code",
      "metadata": {
        "id": "L9YLBD4e-Gnd",
        "colab_type": "code",
        "outputId": "b4b54bd4-c7d4-4581-8b81-235750d565e7",
        "colab": {
          "base_uri": "https://localhost:8080/",
          "height": 206
        }
      },
      "source": [
        "df = pd.get_dummies(dataframe['label'])\n",
        "df = pd.concat([dataframe, df], axis=1)\n",
        "df=df.sample(frac=1)\n",
        "df.head()\n"
      ],
      "execution_count": 12,
      "outputs": [
        {
          "output_type": "execute_result",
          "data": {
            "text/html": [
              "<div>\n",
              "<style scoped>\n",
              "    .dataframe tbody tr th:only-of-type {\n",
              "        vertical-align: middle;\n",
              "    }\n",
              "\n",
              "    .dataframe tbody tr th {\n",
              "        vertical-align: top;\n",
              "    }\n",
              "\n",
              "    .dataframe thead th {\n",
              "        text-align: right;\n",
              "    }\n",
              "</style>\n",
              "<table border=\"1\" class=\"dataframe\">\n",
              "  <thead>\n",
              "    <tr style=\"text-align: right;\">\n",
              "      <th></th>\n",
              "      <th>file</th>\n",
              "      <th>label</th>\n",
              "      <th>covid</th>\n",
              "      <th>noncovid</th>\n",
              "    </tr>\n",
              "  </thead>\n",
              "  <tbody>\n",
              "    <tr>\n",
              "      <th>162</th>\n",
              "      <td>84%2.jpg</td>\n",
              "      <td>noncovid</td>\n",
              "      <td>0</td>\n",
              "      <td>1</td>\n",
              "    </tr>\n",
              "    <tr>\n",
              "      <th>238</th>\n",
              "      <td>2020.02.24.20027052-p8-73%3.png</td>\n",
              "      <td>covid</td>\n",
              "      <td>1</td>\n",
              "      <td>0</td>\n",
              "    </tr>\n",
              "    <tr>\n",
              "      <th>327</th>\n",
              "      <td>5%5.jpg</td>\n",
              "      <td>noncovid</td>\n",
              "      <td>0</td>\n",
              "      <td>1</td>\n",
              "    </tr>\n",
              "    <tr>\n",
              "      <th>241</th>\n",
              "      <td>658.png</td>\n",
              "      <td>noncovid</td>\n",
              "      <td>0</td>\n",
              "      <td>1</td>\n",
              "    </tr>\n",
              "    <tr>\n",
              "      <th>40</th>\n",
              "      <td>2020.03.18.20038125-p16-56-1.png</td>\n",
              "      <td>covid</td>\n",
              "      <td>1</td>\n",
              "      <td>0</td>\n",
              "    </tr>\n",
              "  </tbody>\n",
              "</table>\n",
              "</div>"
            ],
            "text/plain": [
              "                                 file     label  covid  noncovid\n",
              "162                          84%2.jpg  noncovid      0         1\n",
              "238   2020.02.24.20027052-p8-73%3.png     covid      1         0\n",
              "327                           5%5.jpg  noncovid      0         1\n",
              "241                           658.png  noncovid      0         1\n",
              "40   2020.03.18.20038125-p16-56-1.png     covid      1         0"
            ]
          },
          "metadata": {
            "tags": []
          },
          "execution_count": 12
        }
      ]
    },
    {
      "cell_type": "markdown",
      "metadata": {
        "id": "klH5y0SbVWKx",
        "colab_type": "text"
      },
      "source": [
        "#### TEST DATA"
      ]
    },
    {
      "cell_type": "code",
      "metadata": {
        "id": "sQtp3QAt-POe",
        "colab_type": "code",
        "outputId": "9f502425-d723-4dce-b5dd-3adfdcc29ac3",
        "colab": {
          "base_uri": "https://localhost:8080/",
          "height": 36
        }
      },
      "source": [
        "covid_test=pd.read_csv('/content/COVID-CT/Data-split/COVID/testCT_COVID.txt',header=None,squeeze=True).tolist()\n",
        "noncovid_test=pd.read_csv('/content/COVID-CT/Data-split/NonCOVID/testCT_NonCOVID.txt',header=None,squeeze=True).tolist()\n",
        "test=covid_test+noncovid_test\n",
        "len(test)"
      ],
      "execution_count": 13,
      "outputs": [
        {
          "output_type": "execute_result",
          "data": {
            "text/plain": [
              "203"
            ]
          },
          "metadata": {
            "tags": []
          },
          "execution_count": 13
        }
      ]
    },
    {
      "cell_type": "code",
      "metadata": {
        "id": "M3vJ-sCcaeQm",
        "colab_type": "code",
        "outputId": "fc05d791-64dc-4130-eabe-6829d22c4796",
        "colab": {
          "base_uri": "https://localhost:8080/",
          "height": 36
        }
      },
      "source": [
        "len(test),len(covid_test),len(noncovid_test)"
      ],
      "execution_count": 14,
      "outputs": [
        {
          "output_type": "execute_result",
          "data": {
            "text/plain": [
              "(203, 98, 105)"
            ]
          },
          "metadata": {
            "tags": []
          },
          "execution_count": 14
        }
      ]
    },
    {
      "cell_type": "code",
      "metadata": {
        "id": "JRUWC9sKV5G8",
        "colab_type": "code",
        "colab": {}
      },
      "source": [
        "test_df=df[df['file'].isin(test)]\n",
        "train_df=df[~df['file'].isin(test)]"
      ],
      "execution_count": 0,
      "outputs": []
    },
    {
      "cell_type": "code",
      "metadata": {
        "id": "KUuvqVvSaA-S",
        "colab_type": "code",
        "outputId": "b2cd00d6-07fb-413f-faf1-0e931da836ee",
        "colab": {
          "base_uri": "https://localhost:8080/",
          "height": 36
        }
      },
      "source": [
        "len(df),len(train_df),len(test_df)"
      ],
      "execution_count": 16,
      "outputs": [
        {
          "output_type": "execute_result",
          "data": {
            "text/plain": [
              "(746, 543, 203)"
            ]
          },
          "metadata": {
            "tags": []
          },
          "execution_count": 16
        }
      ]
    },
    {
      "cell_type": "markdown",
      "metadata": {
        "id": "oOXgCH8l-bqZ",
        "colab_type": "text"
      },
      "source": [
        "### Data generator"
      ]
    },
    {
      "cell_type": "code",
      "metadata": {
        "id": "CzTlWxDb-c9N",
        "colab_type": "code",
        "colab": {}
      },
      "source": [
        "from keras_preprocessing.image import ImageDataGenerator\n",
        "data_gen= ImageDataGenerator(\n",
        "    horizontal_flip=True,\n",
        "    vertical_flip=True,\n",
        "    #rotation_range=360,\n",
        "    #width_shift_range=0.2,\n",
        "    #height_shift_range=0.2,\n",
        "    #zoom_range=.2,\n",
        "    rescale=1/255,\n",
        "    fill_mode='nearest',\n",
        "    #shear_range=0.2,\n",
        "    #brightness_range=[0.2, 2.0],\n",
        "    )"
      ],
      "execution_count": 0,
      "outputs": []
    },
    {
      "cell_type": "code",
      "metadata": {
        "id": "gZ8ZMeKI-gQu",
        "colab_type": "code",
        "colab": {}
      },
      "source": [
        "from tensorflow.keras.models import Sequential,Model\n",
        "from tensorflow.keras.layers import Activation, Dropout, Flatten, Dense, Conv2D, MaxPool2D, BatchNormalization,Input,MaxPooling2D,GlobalMaxPooling2D,concatenate\n",
        "from tensorflow.keras.layers import GlobalAveragePooling2D\n",
        "from tensorflow.keras.applications.resnet50 import ResNet50\n",
        "from tensorflow.keras.callbacks import ModelCheckpoint,ReduceLROnPlateau\n",
        "from tensorflow.keras.optimizers import Adam\n",
        "import tensorflow.keras.backend as K\n",
        "import tensorflow as tf"
      ],
      "execution_count": 0,
      "outputs": []
    },
    {
      "cell_type": "markdown",
      "metadata": {
        "id": "rdSPz3Ru-VgF",
        "colab_type": "text"
      },
      "source": [
        "#Train model"
      ]
    },
    {
      "cell_type": "code",
      "metadata": {
        "id": "BfiKa4qr-rjv",
        "colab_type": "code",
        "colab": {}
      },
      "source": [
        "img_shape=300\n",
        "batch_size=16"
      ],
      "execution_count": 0,
      "outputs": []
    },
    {
      "cell_type": "code",
      "metadata": {
        "id": "TuxqMnUnM9P1",
        "colab_type": "code",
        "colab": {}
      },
      "source": [
        "from cyclical_learning_rate import CyclicLR\n"
      ],
      "execution_count": 0,
      "outputs": []
    },
    {
      "cell_type": "code",
      "metadata": {
        "id": "d_omSkY2-W0d",
        "colab_type": "code",
        "outputId": "d61e3736-8271-4769-d4db-a307e2ced429",
        "colab": {
          "base_uri": "https://localhost:8080/",
          "height": 1000
        }
      },
      "source": [
        "from sklearn.model_selection import KFold\n",
        "import gc\n",
        "from focal_loss import BinaryFocalLoss\n",
        "from sklearn.metrics import classification_report,accuracy_score,f1_score,roc_auc_score\n",
        "classification_reports=[]\n",
        "kf = KFold(n_splits=5)\n",
        "history=[]\n",
        "accuracy=[]\n",
        "f1_scores=[]\n",
        "auc=[]\n",
        "y_pred=[]\n",
        "fold=0\n",
        "for train_index, test_index in kf.split(train_df):\n",
        "  train=train_df.iloc[train_index,:]\n",
        "  val=train_df.iloc[test_index,:]\n",
        "  print('-----------fold {}--------------'.format(fold))\n",
        "  train_generator=data_gen.flow_from_dataframe(train,directory='images',\n",
        "                                                      target_size=(img_shape,img_shape),\n",
        "                                                      x_col=\"file\",\n",
        "                                                      y_col=['covid','noncovid'],\n",
        "                                                      class_mode='raw',\n",
        "                                                      shuffle=True,\n",
        "                                                      batch_size=batch_size)\n",
        "\n",
        "  val_generator=data_gen.flow_from_dataframe(val,directory='images',\n",
        "                                                        target_size=(img_shape,img_shape),\n",
        "                                                        x_col=\"file\",\n",
        "                                                        y_col=['covid','noncovid'],\n",
        "                                                        class_mode='raw',\n",
        "                                                        shuffle=False,\n",
        "                                                        batch_size=batch_size)\n",
        "  \n",
        "  test_generator=data_gen.flow_from_dataframe(test_df,directory='images',\n",
        "                                                      target_size=(img_shape,img_shape),\n",
        "                                                      x_col=\"file\",\n",
        "                                                      y_col=['covid','noncovid'],\n",
        "                                                      class_mode='raw',\n",
        "                                                      shuffle=False,\n",
        "                                                      batch_size=batch_size)\n",
        "  #train_generator.next()[0].shape,train_generator.next()[1].shape\n",
        "  import efficientnet.tfkeras as efn\n",
        "  model =efn.EfficientNetB3(weights ='noisy-student', include_top=False, input_shape = (img_shape,img_shape,3))\n",
        "    \n",
        "  x = model.output\n",
        "  x = GlobalAveragePooling2D()(x)\n",
        "  #x = Dropout(0.3)(x)\n",
        "  #x = Dense(128, activation=\"relu\")(x)\n",
        "  #x = Dropout(0.3)(x)\n",
        "  #x = Dense(64, activation=\"relu\")(x)\n",
        "  predictions = Dense(2, activation=\"softmax\")(x)\n",
        "  model = Model(inputs=model.input, outputs=predictions)\n",
        "\n",
        "\n",
        "  model.compile(optimizer=Adam(0.001), loss=BinaryFocalLoss(gamma=2), metrics=['accuracy'])\n",
        "\n",
        "  results = model.fit(train_generator,epochs=25,\n",
        "                              steps_per_epoch=train_generator.n/batch_size,\n",
        "                              validation_data=val_generator,\n",
        "                             validation_steps=val_generator.n/batch_size,\n",
        "                              callbacks=[\n",
        "                                         ReduceLROnPlateau(monitor='val_loss', factor=0.5,patience=3, min_lr=0.000001),\n",
        "                                         #CyclicLR(base_lr=1e-5,max_lr=1e-3,step_size=(6*train_generator.n/batch_size))\n",
        "                                         ])\n",
        "  #model.load_weights('model_{}.hdf5'.format(fold))\n",
        "  test_generator.reset()\n",
        "  y_pred.append(model.predict(test_generator,steps=test_generator.n/batch_size,verbose=1))\n",
        "  history.append(results)\n",
        "\n",
        "  \n",
        "  fold+=1\n",
        "  del model\n",
        "  tf.keras.backend.clear_session()\n",
        "  gc.collect()"
      ],
      "execution_count": 21,
      "outputs": [
        {
          "output_type": "stream",
          "text": [
            "-----------fold 0--------------\n",
            "Found 434 validated image filenames.\n",
            "Found 109 validated image filenames.\n",
            "Found 203 validated image filenames.\n",
            "Downloading data from https://github.com/qubvel/efficientnet/releases/download/v0.0.1/efficientnet-b3_noisy-student_notop.h5\n",
            "43933696/43933088 [==============================] - 2s 0us/step\n",
            "Epoch 1/25\n",
            "28/27 [==============================] - 13s 464ms/step - loss: 0.2092 - accuracy: 0.6912 - val_loss: 0.2143 - val_accuracy: 0.6239 - lr: 0.0010\n",
            "Epoch 2/25\n",
            "28/27 [==============================] - 10s 372ms/step - loss: 0.1081 - accuracy: 0.8295 - val_loss: 0.1579 - val_accuracy: 0.7156 - lr: 0.0010\n",
            "Epoch 3/25\n",
            "28/27 [==============================] - 10s 373ms/step - loss: 0.1199 - accuracy: 0.8134 - val_loss: 0.1665 - val_accuracy: 0.6606 - lr: 0.0010\n",
            "Epoch 4/25\n",
            "28/27 [==============================] - 10s 369ms/step - loss: 0.0708 - accuracy: 0.8779 - val_loss: 0.1503 - val_accuracy: 0.8165 - lr: 0.0010\n",
            "Epoch 5/25\n",
            "28/27 [==============================] - 11s 376ms/step - loss: 0.0525 - accuracy: 0.9355 - val_loss: 0.0862 - val_accuracy: 0.8532 - lr: 0.0010\n",
            "Epoch 6/25\n",
            "28/27 [==============================] - 10s 374ms/step - loss: 0.0576 - accuracy: 0.9286 - val_loss: 0.3690 - val_accuracy: 0.6881 - lr: 0.0010\n",
            "Epoch 7/25\n",
            "28/27 [==============================] - 10s 372ms/step - loss: 0.0822 - accuracy: 0.8940 - val_loss: 0.1439 - val_accuracy: 0.7064 - lr: 0.0010\n",
            "Epoch 8/25\n",
            "28/27 [==============================] - 10s 374ms/step - loss: 0.0456 - accuracy: 0.9332 - val_loss: 0.2174 - val_accuracy: 0.7982 - lr: 0.0010\n",
            "Epoch 9/25\n",
            "28/27 [==============================] - 10s 368ms/step - loss: 0.0356 - accuracy: 0.9585 - val_loss: 0.2419 - val_accuracy: 0.7706 - lr: 5.0000e-04\n",
            "Epoch 10/25\n",
            "28/27 [==============================] - 10s 364ms/step - loss: 0.0210 - accuracy: 0.9724 - val_loss: 0.0754 - val_accuracy: 0.9083 - lr: 5.0000e-04\n",
            "Epoch 11/25\n",
            "28/27 [==============================] - 10s 369ms/step - loss: 0.0115 - accuracy: 0.9839 - val_loss: 0.0667 - val_accuracy: 0.8991 - lr: 5.0000e-04\n",
            "Epoch 12/25\n",
            "28/27 [==============================] - 11s 377ms/step - loss: 0.0230 - accuracy: 0.9677 - val_loss: 0.0695 - val_accuracy: 0.9083 - lr: 5.0000e-04\n",
            "Epoch 13/25\n",
            "28/27 [==============================] - 10s 366ms/step - loss: 0.0430 - accuracy: 0.9424 - val_loss: 0.1998 - val_accuracy: 0.8073 - lr: 5.0000e-04\n",
            "Epoch 14/25\n",
            "28/27 [==============================] - 10s 365ms/step - loss: 0.0328 - accuracy: 0.9493 - val_loss: 0.0619 - val_accuracy: 0.9083 - lr: 5.0000e-04\n",
            "Epoch 15/25\n",
            "28/27 [==============================] - 10s 375ms/step - loss: 0.0213 - accuracy: 0.9747 - val_loss: 0.0409 - val_accuracy: 0.9358 - lr: 5.0000e-04\n",
            "Epoch 16/25\n",
            "28/27 [==============================] - 10s 367ms/step - loss: 0.0205 - accuracy: 0.9862 - val_loss: 0.0806 - val_accuracy: 0.8807 - lr: 5.0000e-04\n",
            "Epoch 17/25\n",
            "28/27 [==============================] - 10s 375ms/step - loss: 0.0484 - accuracy: 0.9539 - val_loss: 0.1869 - val_accuracy: 0.7431 - lr: 5.0000e-04\n",
            "Epoch 18/25\n",
            "28/27 [==============================] - 10s 374ms/step - loss: 0.0259 - accuracy: 0.9654 - val_loss: 0.1071 - val_accuracy: 0.8624 - lr: 5.0000e-04\n",
            "Epoch 19/25\n",
            "28/27 [==============================] - 11s 375ms/step - loss: 0.0237 - accuracy: 0.9747 - val_loss: 0.0886 - val_accuracy: 0.8440 - lr: 2.5000e-04\n",
            "Epoch 20/25\n",
            "28/27 [==============================] - 10s 371ms/step - loss: 0.0174 - accuracy: 0.9724 - val_loss: 0.1500 - val_accuracy: 0.8440 - lr: 2.5000e-04\n",
            "Epoch 21/25\n",
            "28/27 [==============================] - 10s 375ms/step - loss: 0.0214 - accuracy: 0.9793 - val_loss: 0.0523 - val_accuracy: 0.8899 - lr: 2.5000e-04\n",
            "Epoch 22/25\n",
            "28/27 [==============================] - 11s 375ms/step - loss: 0.0200 - accuracy: 0.9793 - val_loss: 0.0394 - val_accuracy: 0.9174 - lr: 1.2500e-04\n",
            "Epoch 23/25\n",
            "28/27 [==============================] - 10s 373ms/step - loss: 0.0070 - accuracy: 0.9931 - val_loss: 0.0309 - val_accuracy: 0.9541 - lr: 1.2500e-04\n",
            "Epoch 24/25\n",
            "28/27 [==============================] - 10s 373ms/step - loss: 0.0136 - accuracy: 0.9885 - val_loss: 0.0364 - val_accuracy: 0.9450 - lr: 1.2500e-04\n",
            "Epoch 25/25\n",
            "28/27 [==============================] - 10s 371ms/step - loss: 0.0057 - accuracy: 0.9954 - val_loss: 0.0274 - val_accuracy: 0.9633 - lr: 1.2500e-04\n",
            "13/12 [==============================] - 1s 106ms/step\n",
            "-----------fold 1--------------\n",
            "Found 434 validated image filenames.\n",
            "Found 109 validated image filenames.\n",
            "Found 203 validated image filenames.\n",
            "Epoch 1/25\n",
            "28/27 [==============================] - 12s 438ms/step - loss: 0.2009 - accuracy: 0.7028 - val_loss: 0.2150 - val_accuracy: 0.6147 - lr: 0.0010\n",
            "Epoch 2/25\n",
            "28/27 [==============================] - 11s 383ms/step - loss: 0.0998 - accuracy: 0.8502 - val_loss: 0.2324 - val_accuracy: 0.5413 - lr: 0.0010\n",
            "Epoch 3/25\n",
            "28/27 [==============================] - 11s 383ms/step - loss: 0.0920 - accuracy: 0.8479 - val_loss: 0.2105 - val_accuracy: 0.5505 - lr: 0.0010\n",
            "Epoch 4/25\n",
            "28/27 [==============================] - 11s 382ms/step - loss: 0.0777 - accuracy: 0.8733 - val_loss: 0.1678 - val_accuracy: 0.5688 - lr: 0.0010\n",
            "Epoch 5/25\n",
            "28/27 [==============================] - 11s 376ms/step - loss: 0.0510 - accuracy: 0.9286 - val_loss: 0.4327 - val_accuracy: 0.5872 - lr: 0.0010\n",
            "Epoch 6/25\n",
            "28/27 [==============================] - 11s 385ms/step - loss: 0.0628 - accuracy: 0.9171 - val_loss: 0.3735 - val_accuracy: 0.7890 - lr: 0.0010\n",
            "Epoch 7/25\n",
            "28/27 [==============================] - 11s 384ms/step - loss: 0.0493 - accuracy: 0.9332 - val_loss: 0.1880 - val_accuracy: 0.7706 - lr: 0.0010\n",
            "Epoch 8/25\n",
            "28/27 [==============================] - 11s 379ms/step - loss: 0.0542 - accuracy: 0.9147 - val_loss: 0.1943 - val_accuracy: 0.6972 - lr: 5.0000e-04\n",
            "Epoch 9/25\n",
            "28/27 [==============================] - 11s 379ms/step - loss: 0.0429 - accuracy: 0.9424 - val_loss: 0.0825 - val_accuracy: 0.9083 - lr: 5.0000e-04\n",
            "Epoch 10/25\n",
            "28/27 [==============================] - 11s 383ms/step - loss: 0.0395 - accuracy: 0.9286 - val_loss: 0.0813 - val_accuracy: 0.9083 - lr: 5.0000e-04\n",
            "Epoch 11/25\n",
            "28/27 [==============================] - 11s 381ms/step - loss: 0.0159 - accuracy: 0.9885 - val_loss: 0.0821 - val_accuracy: 0.9266 - lr: 5.0000e-04\n",
            "Epoch 12/25\n",
            "28/27 [==============================] - 11s 380ms/step - loss: 0.0210 - accuracy: 0.9816 - val_loss: 0.0580 - val_accuracy: 0.9541 - lr: 5.0000e-04\n",
            "Epoch 13/25\n",
            "28/27 [==============================] - 11s 381ms/step - loss: 0.0641 - accuracy: 0.9078 - val_loss: 0.0970 - val_accuracy: 0.8532 - lr: 5.0000e-04\n",
            "Epoch 14/25\n",
            "28/27 [==============================] - 11s 379ms/step - loss: 0.0283 - accuracy: 0.9608 - val_loss: 0.0717 - val_accuracy: 0.8807 - lr: 5.0000e-04\n",
            "Epoch 15/25\n",
            "28/27 [==============================] - 11s 380ms/step - loss: 0.0245 - accuracy: 0.9677 - val_loss: 0.1066 - val_accuracy: 0.8899 - lr: 5.0000e-04\n",
            "Epoch 16/25\n",
            "28/27 [==============================] - 11s 378ms/step - loss: 0.0275 - accuracy: 0.9631 - val_loss: 0.0699 - val_accuracy: 0.9358 - lr: 2.5000e-04\n",
            "Epoch 17/25\n",
            "28/27 [==============================] - 11s 378ms/step - loss: 0.0283 - accuracy: 0.9700 - val_loss: 0.0717 - val_accuracy: 0.8807 - lr: 2.5000e-04\n",
            "Epoch 18/25\n",
            "28/27 [==============================] - 11s 379ms/step - loss: 0.0136 - accuracy: 0.9908 - val_loss: 0.1258 - val_accuracy: 0.8624 - lr: 2.5000e-04\n",
            "Epoch 19/25\n",
            "28/27 [==============================] - 11s 382ms/step - loss: 0.0138 - accuracy: 0.9885 - val_loss: 0.0982 - val_accuracy: 0.8899 - lr: 1.2500e-04\n",
            "Epoch 20/25\n",
            "28/27 [==============================] - 11s 379ms/step - loss: 0.0087 - accuracy: 0.9954 - val_loss: 0.0750 - val_accuracy: 0.9174 - lr: 1.2500e-04\n",
            "Epoch 21/25\n",
            "28/27 [==============================] - 11s 386ms/step - loss: 0.0103 - accuracy: 0.9885 - val_loss: 0.0745 - val_accuracy: 0.9083 - lr: 1.2500e-04\n",
            "Epoch 22/25\n",
            "28/27 [==============================] - 11s 382ms/step - loss: 0.0208 - accuracy: 0.9816 - val_loss: 0.0656 - val_accuracy: 0.9266 - lr: 6.2500e-05\n",
            "Epoch 23/25\n",
            "28/27 [==============================] - 11s 383ms/step - loss: 0.0053 - accuracy: 1.0000 - val_loss: 0.0541 - val_accuracy: 0.9450 - lr: 6.2500e-05\n",
            "Epoch 24/25\n",
            "28/27 [==============================] - 11s 381ms/step - loss: 0.0076 - accuracy: 0.9954 - val_loss: 0.0507 - val_accuracy: 0.9266 - lr: 6.2500e-05\n",
            "Epoch 25/25\n",
            "28/27 [==============================] - 11s 380ms/step - loss: 0.0052 - accuracy: 0.9954 - val_loss: 0.0441 - val_accuracy: 0.9633 - lr: 6.2500e-05\n",
            "13/12 [==============================] - 1s 85ms/step\n",
            "-----------fold 2--------------\n",
            "Found 434 validated image filenames.\n",
            "Found 109 validated image filenames.\n",
            "Found 203 validated image filenames.\n",
            "Epoch 1/25\n",
            "28/27 [==============================] - 12s 436ms/step - loss: 0.1868 - accuracy: 0.7189 - val_loss: 0.2646 - val_accuracy: 0.5872 - lr: 0.0010\n",
            "Epoch 2/25\n",
            "28/27 [==============================] - 10s 373ms/step - loss: 0.1070 - accuracy: 0.8249 - val_loss: 0.2886 - val_accuracy: 0.5780 - lr: 0.0010\n",
            "Epoch 3/25\n",
            "28/27 [==============================] - 10s 373ms/step - loss: 0.0779 - accuracy: 0.8917 - val_loss: 0.3026 - val_accuracy: 0.6239 - lr: 0.0010\n",
            "Epoch 4/25\n",
            "28/27 [==============================] - 11s 376ms/step - loss: 0.0648 - accuracy: 0.9240 - val_loss: 0.3889 - val_accuracy: 0.6330 - lr: 0.0010\n",
            "Epoch 5/25\n",
            "28/27 [==============================] - 10s 371ms/step - loss: 0.0411 - accuracy: 0.9539 - val_loss: 0.2112 - val_accuracy: 0.7982 - lr: 5.0000e-04\n",
            "Epoch 6/25\n",
            "28/27 [==============================] - 11s 377ms/step - loss: 0.0377 - accuracy: 0.9286 - val_loss: 0.1328 - val_accuracy: 0.8257 - lr: 5.0000e-04\n",
            "Epoch 7/25\n",
            "28/27 [==============================] - 11s 378ms/step - loss: 0.0301 - accuracy: 0.9539 - val_loss: 0.1211 - val_accuracy: 0.8624 - lr: 5.0000e-04\n",
            "Epoch 8/25\n",
            "28/27 [==============================] - 11s 378ms/step - loss: 0.0305 - accuracy: 0.9608 - val_loss: 0.1275 - val_accuracy: 0.8349 - lr: 5.0000e-04\n",
            "Epoch 9/25\n",
            "28/27 [==============================] - 11s 381ms/step - loss: 0.0458 - accuracy: 0.9263 - val_loss: 0.1694 - val_accuracy: 0.8073 - lr: 5.0000e-04\n",
            "Epoch 10/25\n",
            "28/27 [==============================] - 10s 372ms/step - loss: 0.0605 - accuracy: 0.9171 - val_loss: 0.7152 - val_accuracy: 0.6422 - lr: 5.0000e-04\n",
            "Epoch 11/25\n",
            "28/27 [==============================] - 11s 378ms/step - loss: 0.0237 - accuracy: 0.9654 - val_loss: 0.3863 - val_accuracy: 0.7248 - lr: 2.5000e-04\n",
            "Epoch 12/25\n",
            "28/27 [==============================] - 10s 372ms/step - loss: 0.0097 - accuracy: 0.9908 - val_loss: 0.2514 - val_accuracy: 0.8165 - lr: 2.5000e-04\n",
            "Epoch 13/25\n",
            "28/27 [==============================] - 11s 378ms/step - loss: 0.0104 - accuracy: 0.9816 - val_loss: 0.1902 - val_accuracy: 0.8624 - lr: 2.5000e-04\n",
            "Epoch 14/25\n",
            "28/27 [==============================] - 11s 379ms/step - loss: 0.0123 - accuracy: 0.9839 - val_loss: 0.1396 - val_accuracy: 0.8807 - lr: 1.2500e-04\n",
            "Epoch 15/25\n",
            "28/27 [==============================] - 11s 376ms/step - loss: 0.0189 - accuracy: 0.9724 - val_loss: 0.1326 - val_accuracy: 0.8624 - lr: 1.2500e-04\n",
            "Epoch 16/25\n",
            "28/27 [==============================] - 11s 379ms/step - loss: 0.0104 - accuracy: 0.9931 - val_loss: 0.0937 - val_accuracy: 0.9083 - lr: 1.2500e-04\n",
            "Epoch 17/25\n",
            "28/27 [==============================] - 11s 376ms/step - loss: 0.0223 - accuracy: 0.9747 - val_loss: 0.0872 - val_accuracy: 0.9083 - lr: 1.2500e-04\n",
            "Epoch 18/25\n",
            "28/27 [==============================] - 10s 373ms/step - loss: 0.0095 - accuracy: 0.9885 - val_loss: 0.1070 - val_accuracy: 0.9083 - lr: 1.2500e-04\n",
            "Epoch 19/25\n",
            "28/27 [==============================] - 11s 377ms/step - loss: 0.0052 - accuracy: 0.9931 - val_loss: 0.0857 - val_accuracy: 0.9174 - lr: 1.2500e-04\n",
            "Epoch 20/25\n",
            "28/27 [==============================] - 11s 379ms/step - loss: 0.0098 - accuracy: 0.9862 - val_loss: 0.0804 - val_accuracy: 0.9083 - lr: 1.2500e-04\n",
            "Epoch 21/25\n",
            "28/27 [==============================] - 10s 375ms/step - loss: 0.0068 - accuracy: 0.9908 - val_loss: 0.0896 - val_accuracy: 0.9174 - lr: 1.2500e-04\n",
            "Epoch 22/25\n",
            "28/27 [==============================] - 10s 374ms/step - loss: 0.0088 - accuracy: 0.9885 - val_loss: 0.0626 - val_accuracy: 0.8991 - lr: 1.2500e-04\n",
            "Epoch 23/25\n",
            "28/27 [==============================] - 10s 374ms/step - loss: 0.0089 - accuracy: 0.9908 - val_loss: 0.0693 - val_accuracy: 0.9174 - lr: 1.2500e-04\n",
            "Epoch 24/25\n",
            "28/27 [==============================] - 10s 370ms/step - loss: 0.0107 - accuracy: 0.9931 - val_loss: 0.0546 - val_accuracy: 0.9266 - lr: 1.2500e-04\n",
            "Epoch 25/25\n",
            "28/27 [==============================] - 11s 377ms/step - loss: 0.0131 - accuracy: 0.9816 - val_loss: 0.0718 - val_accuracy: 0.9358 - lr: 1.2500e-04\n",
            "13/12 [==============================] - 1s 83ms/step\n",
            "-----------fold 3--------------\n",
            "Found 435 validated image filenames.\n",
            "Found 108 validated image filenames.\n",
            "Found 203 validated image filenames.\n",
            "Epoch 1/25\n",
            "28/27 [==============================] - 13s 459ms/step - loss: 0.2055 - accuracy: 0.6897 - val_loss: 0.3593 - val_accuracy: 0.5926 - lr: 0.0010\n",
            "Epoch 2/25\n",
            "28/27 [==============================] - 10s 375ms/step - loss: 0.1151 - accuracy: 0.8276 - val_loss: 0.8349 - val_accuracy: 0.5370 - lr: 0.0010\n",
            "Epoch 3/25\n",
            "28/27 [==============================] - 10s 368ms/step - loss: 0.0737 - accuracy: 0.9011 - val_loss: 0.3757 - val_accuracy: 0.6574 - lr: 0.0010\n",
            "Epoch 4/25\n",
            "28/27 [==============================] - 10s 375ms/step - loss: 0.0903 - accuracy: 0.8897 - val_loss: 0.3048 - val_accuracy: 0.6481 - lr: 0.0010\n",
            "Epoch 5/25\n",
            "28/27 [==============================] - 11s 376ms/step - loss: 0.0616 - accuracy: 0.9034 - val_loss: 0.5804 - val_accuracy: 0.7130 - lr: 0.0010\n",
            "Epoch 6/25\n",
            "28/27 [==============================] - 10s 372ms/step - loss: 0.0980 - accuracy: 0.8552 - val_loss: 0.1361 - val_accuracy: 0.8056 - lr: 0.0010\n",
            "Epoch 7/25\n",
            "28/27 [==============================] - 10s 372ms/step - loss: 0.0771 - accuracy: 0.8759 - val_loss: 0.1237 - val_accuracy: 0.8426 - lr: 0.0010\n",
            "Epoch 8/25\n",
            "28/27 [==============================] - 11s 396ms/step - loss: 0.0379 - accuracy: 0.9540 - val_loss: 1.7847 - val_accuracy: 0.6019 - lr: 0.0010\n",
            "Epoch 9/25\n",
            "28/27 [==============================] - 11s 377ms/step - loss: 0.0727 - accuracy: 0.8874 - val_loss: 0.2653 - val_accuracy: 0.8056 - lr: 0.0010\n",
            "Epoch 10/25\n",
            "28/27 [==============================] - 10s 373ms/step - loss: 0.0728 - accuracy: 0.9149 - val_loss: 0.1709 - val_accuracy: 0.8426 - lr: 0.0010\n",
            "Epoch 11/25\n",
            "28/27 [==============================] - 10s 374ms/step - loss: 0.0707 - accuracy: 0.8851 - val_loss: 0.2307 - val_accuracy: 0.7500 - lr: 5.0000e-04\n",
            "Epoch 12/25\n",
            "28/27 [==============================] - 10s 371ms/step - loss: 0.0453 - accuracy: 0.9379 - val_loss: 0.2040 - val_accuracy: 0.7593 - lr: 5.0000e-04\n",
            "Epoch 13/25\n",
            "28/27 [==============================] - 11s 375ms/step - loss: 0.0255 - accuracy: 0.9724 - val_loss: 0.2048 - val_accuracy: 0.8241 - lr: 5.0000e-04\n",
            "Epoch 14/25\n",
            "28/27 [==============================] - 11s 376ms/step - loss: 0.0094 - accuracy: 0.9931 - val_loss: 0.2112 - val_accuracy: 0.8704 - lr: 2.5000e-04\n",
            "Epoch 15/25\n",
            "28/27 [==============================] - 10s 373ms/step - loss: 0.0142 - accuracy: 0.9770 - val_loss: 0.2200 - val_accuracy: 0.8611 - lr: 2.5000e-04\n",
            "Epoch 16/25\n",
            "28/27 [==============================] - 11s 378ms/step - loss: 0.0223 - accuracy: 0.9747 - val_loss: 0.3399 - val_accuracy: 0.7407 - lr: 2.5000e-04\n",
            "Epoch 17/25\n",
            "28/27 [==============================] - 10s 373ms/step - loss: 0.0180 - accuracy: 0.9793 - val_loss: 0.2451 - val_accuracy: 0.7407 - lr: 1.2500e-04\n",
            "Epoch 18/25\n",
            "28/27 [==============================] - 10s 371ms/step - loss: 0.0120 - accuracy: 0.9885 - val_loss: 0.2536 - val_accuracy: 0.7685 - lr: 1.2500e-04\n",
            "Epoch 19/25\n",
            "28/27 [==============================] - 11s 378ms/step - loss: 0.0049 - accuracy: 1.0000 - val_loss: 0.1998 - val_accuracy: 0.7685 - lr: 1.2500e-04\n",
            "Epoch 20/25\n",
            "28/27 [==============================] - 10s 371ms/step - loss: 0.0130 - accuracy: 0.9862 - val_loss: 0.2256 - val_accuracy: 0.7407 - lr: 6.2500e-05\n",
            "Epoch 21/25\n",
            "28/27 [==============================] - 10s 369ms/step - loss: 0.0121 - accuracy: 0.9862 - val_loss: 0.1848 - val_accuracy: 0.7963 - lr: 6.2500e-05\n",
            "Epoch 22/25\n",
            "28/27 [==============================] - 10s 372ms/step - loss: 0.0098 - accuracy: 0.9954 - val_loss: 0.1874 - val_accuracy: 0.7870 - lr: 6.2500e-05\n",
            "Epoch 23/25\n",
            "28/27 [==============================] - 11s 376ms/step - loss: 0.0045 - accuracy: 1.0000 - val_loss: 0.1784 - val_accuracy: 0.8148 - lr: 3.1250e-05\n",
            "Epoch 24/25\n",
            "28/27 [==============================] - 10s 374ms/step - loss: 0.0141 - accuracy: 0.9793 - val_loss: 0.1247 - val_accuracy: 0.8704 - lr: 3.1250e-05\n",
            "Epoch 25/25\n",
            "28/27 [==============================] - 10s 373ms/step - loss: 0.0113 - accuracy: 0.9839 - val_loss: 0.1088 - val_accuracy: 0.9074 - lr: 3.1250e-05\n",
            "13/12 [==============================] - 1s 83ms/step\n",
            "-----------fold 4--------------\n",
            "Found 435 validated image filenames.\n",
            "Found 108 validated image filenames.\n",
            "Found 203 validated image filenames.\n",
            "Epoch 1/25\n",
            "28/27 [==============================] - 12s 432ms/step - loss: 0.1861 - accuracy: 0.6828 - val_loss: 0.7290 - val_accuracy: 0.5833 - lr: 0.0010\n",
            "Epoch 2/25\n",
            "28/27 [==============================] - 11s 376ms/step - loss: 0.1172 - accuracy: 0.8529 - val_loss: 0.3337 - val_accuracy: 0.6481 - lr: 0.0010\n",
            "Epoch 3/25\n",
            "28/27 [==============================] - 10s 371ms/step - loss: 0.0766 - accuracy: 0.8805 - val_loss: 0.2985 - val_accuracy: 0.5926 - lr: 0.0010\n",
            "Epoch 4/25\n",
            "28/27 [==============================] - 10s 374ms/step - loss: 0.0736 - accuracy: 0.8667 - val_loss: 0.0979 - val_accuracy: 0.8241 - lr: 0.0010\n",
            "Epoch 5/25\n",
            "28/27 [==============================] - 10s 375ms/step - loss: 0.0677 - accuracy: 0.9080 - val_loss: 0.5806 - val_accuracy: 0.7130 - lr: 0.0010\n",
            "Epoch 6/25\n",
            "28/27 [==============================] - 11s 376ms/step - loss: 0.0473 - accuracy: 0.9287 - val_loss: 0.6751 - val_accuracy: 0.5185 - lr: 0.0010\n",
            "Epoch 7/25\n",
            "28/27 [==============================] - 10s 375ms/step - loss: 0.0524 - accuracy: 0.9103 - val_loss: 0.3165 - val_accuracy: 0.7315 - lr: 0.0010\n",
            "Epoch 8/25\n",
            "28/27 [==============================] - 10s 373ms/step - loss: 0.0316 - accuracy: 0.9517 - val_loss: 0.5435 - val_accuracy: 0.6389 - lr: 5.0000e-04\n",
            "Epoch 9/25\n",
            "28/27 [==============================] - 11s 378ms/step - loss: 0.0189 - accuracy: 0.9770 - val_loss: 0.4807 - val_accuracy: 0.7315 - lr: 5.0000e-04\n",
            "Epoch 10/25\n",
            "28/27 [==============================] - 11s 376ms/step - loss: 0.0153 - accuracy: 0.9770 - val_loss: 0.2797 - val_accuracy: 0.7222 - lr: 5.0000e-04\n",
            "Epoch 11/25\n",
            "28/27 [==============================] - 11s 375ms/step - loss: 0.0050 - accuracy: 0.9954 - val_loss: 0.1469 - val_accuracy: 0.8148 - lr: 2.5000e-04\n",
            "Epoch 12/25\n",
            "28/27 [==============================] - 11s 376ms/step - loss: 0.0220 - accuracy: 0.9770 - val_loss: 0.1354 - val_accuracy: 0.8241 - lr: 2.5000e-04\n",
            "Epoch 13/25\n",
            "28/27 [==============================] - 10s 371ms/step - loss: 0.0308 - accuracy: 0.9448 - val_loss: 0.0987 - val_accuracy: 0.8056 - lr: 2.5000e-04\n",
            "Epoch 14/25\n",
            "28/27 [==============================] - 10s 373ms/step - loss: 0.0179 - accuracy: 0.9793 - val_loss: 0.0843 - val_accuracy: 0.8426 - lr: 1.2500e-04\n",
            "Epoch 15/25\n",
            "28/27 [==============================] - 11s 377ms/step - loss: 0.0138 - accuracy: 0.9839 - val_loss: 0.0753 - val_accuracy: 0.8704 - lr: 1.2500e-04\n",
            "Epoch 16/25\n",
            "28/27 [==============================] - 10s 375ms/step - loss: 0.0296 - accuracy: 0.9793 - val_loss: 0.0812 - val_accuracy: 0.8796 - lr: 1.2500e-04\n",
            "Epoch 17/25\n",
            "28/27 [==============================] - 10s 374ms/step - loss: 0.0141 - accuracy: 0.9862 - val_loss: 0.0565 - val_accuracy: 0.8889 - lr: 1.2500e-04\n",
            "Epoch 18/25\n",
            "28/27 [==============================] - 11s 379ms/step - loss: 0.0099 - accuracy: 0.9954 - val_loss: 0.0441 - val_accuracy: 0.9167 - lr: 1.2500e-04\n",
            "Epoch 19/25\n",
            "28/27 [==============================] - 11s 376ms/step - loss: 0.0090 - accuracy: 0.9885 - val_loss: 0.0572 - val_accuracy: 0.8981 - lr: 1.2500e-04\n",
            "Epoch 20/25\n",
            "28/27 [==============================] - 10s 373ms/step - loss: 0.0090 - accuracy: 0.9908 - val_loss: 0.0419 - val_accuracy: 0.9259 - lr: 1.2500e-04\n",
            "Epoch 21/25\n",
            "28/27 [==============================] - 11s 376ms/step - loss: 0.0063 - accuracy: 0.9977 - val_loss: 0.0516 - val_accuracy: 0.9259 - lr: 1.2500e-04\n",
            "Epoch 22/25\n",
            "28/27 [==============================] - 11s 376ms/step - loss: 0.0070 - accuracy: 0.9908 - val_loss: 0.0605 - val_accuracy: 0.8796 - lr: 1.2500e-04\n",
            "Epoch 23/25\n",
            "28/27 [==============================] - 11s 378ms/step - loss: 0.0033 - accuracy: 0.9977 - val_loss: 0.0494 - val_accuracy: 0.9074 - lr: 1.2500e-04\n",
            "Epoch 24/25\n",
            "28/27 [==============================] - 10s 374ms/step - loss: 0.0076 - accuracy: 0.9908 - val_loss: 0.0445 - val_accuracy: 0.9167 - lr: 6.2500e-05\n",
            "Epoch 25/25\n",
            "28/27 [==============================] - 11s 377ms/step - loss: 0.0032 - accuracy: 1.0000 - val_loss: 0.0351 - val_accuracy: 0.9537 - lr: 6.2500e-05\n",
            "13/12 [==============================] - 1s 81ms/step\n"
          ],
          "name": "stdout"
        }
      ]
    },
    {
      "cell_type": "code",
      "metadata": {
        "id": "BJobcAABrZK4",
        "colab_type": "code",
        "colab": {
          "base_uri": "https://localhost:8080/",
          "height": 36
        },
        "outputId": "ef2a8439-c9fe-495a-af75-6a9b7eb15101"
      },
      "source": [
        "import numpy as np\n",
        "y_mean=np.mean(y_pred,axis=0)\n",
        "y_true=test_df.iloc[:,2::]\n",
        "y_true.shape,y_mean.shape"
      ],
      "execution_count": 22,
      "outputs": [
        {
          "output_type": "execute_result",
          "data": {
            "text/plain": [
              "((203, 2), (203, 2))"
            ]
          },
          "metadata": {
            "tags": []
          },
          "execution_count": 22
        }
      ]
    },
    {
      "cell_type": "code",
      "metadata": {
        "id": "XCphJVfdBm0H",
        "colab_type": "code",
        "outputId": "bba048eb-d815-4591-caa7-0649b9278d81",
        "colab": {
          "base_uri": "https://localhost:8080/",
          "height": 36
        }
      },
      "source": [
        "y_mean=np.argmax(y_mean,axis=1).ravel()\n",
        "y_true=np.argmax(y_true.values,axis=1).ravel()\n",
        "\n",
        "y_true.shape,y_mean.shape"
      ],
      "execution_count": 23,
      "outputs": [
        {
          "output_type": "execute_result",
          "data": {
            "text/plain": [
              "((203,), (203,))"
            ]
          },
          "metadata": {
            "tags": []
          },
          "execution_count": 23
        }
      ]
    },
    {
      "cell_type": "code",
      "metadata": {
        "id": "ecc-q4ledbtX",
        "colab_type": "code",
        "outputId": "bfa74fde-4ef2-402d-ac68-0c6bf01f6a51",
        "colab": {
          "base_uri": "https://localhost:8080/",
          "height": 241
        }
      },
      "source": [
        "\n",
        "print(classification_report(y_true, y_mean,target_names=['covid','noncovid']))#\n",
        "print('accuracy',np.round(accuracy_score(y_true,y_mean),2))\n",
        "print('f1 score is ',np.round(f1_score(y_true,y_mean,average='macro'),2))\n",
        "print('auc',np.round(roc_auc_score(y_true,y_mean),2))"
      ],
      "execution_count": 24,
      "outputs": [
        {
          "output_type": "stream",
          "text": [
            "              precision    recall  f1-score   support\n",
            "\n",
            "       covid       0.89      0.78      0.83        98\n",
            "    noncovid       0.81      0.91      0.86       105\n",
            "\n",
            "    accuracy                           0.85       203\n",
            "   macro avg       0.85      0.84      0.85       203\n",
            "weighted avg       0.85      0.85      0.85       203\n",
            "\n",
            "accuracy 0.85\n",
            "f1 score is  0.85\n",
            "auc 0.84\n"
          ],
          "name": "stdout"
        }
      ]
    },
    {
      "cell_type": "code",
      "metadata": {
        "id": "ro8qafwWGVUw",
        "colab_type": "code",
        "outputId": "32318c60-ea3c-4226-f3bf-7ee47e53f506",
        "colab": {
          "base_uri": "https://localhost:8080/",
          "height": 573
        }
      },
      "source": [
        "import matplotlib.pyplot as plt\n",
        "\n",
        "# Plot training & validation accuracy values\n",
        "plt.plot(np.mean([[j for j in x.history['accuracy']] for x in history ],axis=0))\n",
        "plt.plot(np.mean([[j for j in x.history['val_accuracy']] for x in history ],axis=0))\n",
        "plt.title('Model accuracy')\n",
        "plt.ylabel('Accuracy')\n",
        "plt.xlabel('Epoch')\n",
        "plt.legend(['Train', 'Test'], loc='upper left')\n",
        "plt.show()\n",
        "\n",
        "# Plot training & validation loss values\n",
        "plt.plot(np.mean([[j for j in x.history['loss']] for x in history ],axis=0))\n",
        "plt.plot(np.mean([[j for j in x.history['val_loss']] for x in history ],axis=0))\n",
        "plt.title('Model loss')\n",
        "plt.ylabel('Loss')\n",
        "plt.xlabel('Epoch')\n",
        "plt.legend(['Train', 'Test'], loc='upper left')\n",
        "plt.show()"
      ],
      "execution_count": 25,
      "outputs": [
        {
          "output_type": "display_data",
          "data": {
            "image/png": "[encoded data removed]",
            "text/plain": [
              "<Figure size 432x288 with 1 Axes>"
            ]
          },
          "metadata": {
            "tags": [],
            "needs_background": "light"
          }
        },
        {
          "output_type": "display_data",
          "data": {
            "image/png": "[encoded data removed]",
            "text/plain": [
              "<Figure size 432x288 with 1 Axes>"
            ]
          },
          "metadata": {
            "tags": [],
            "needs_background": "light"
          }
        }
      ]
    },
    {
      "cell_type": "code",
      "metadata": {
        "id": "OkiKeCNJheEa",
        "colab_type": "code",
        "colab": {
          "base_uri": "https://localhost:8080/",
          "height": 295
        },
        "outputId": "0a1a5a3a-6354-4bf4-87b0-f07fae550465"
      },
      "source": [
        "# Plot training & validation loss values\n",
        "for i in range(5):\n",
        "  plt.plot(history[i].history['val_accuracy'])\n",
        "plt.title('Model Validation Accuracy')\n",
        "plt.ylabel('Accuracy')\n",
        "plt.xlabel('Epoch')\n",
        "plt.legend(['LR1','LR2','LR3','LR4','LR5' ], loc='upper left')\n",
        "plt.show()"
      ],
      "execution_count": 27,
      "outputs": [
        {
          "output_type": "display_data",
          "data": {
            "image/png": "[encoded data removed]",
            "text/plain": [
              "<Figure size 432x288 with 1 Axes>"
            ]
          },
          "metadata": {
            "tags": [],
            "needs_background": "light"
          }
        }
      ]
    },
    {
      "cell_type": "code",
      "metadata": {
        "id": "4iBpBbOKKsHl",
        "colab_type": "code",
        "colab": {}
      },
      "source": [
        "history[0].history.keys()"
      ],
      "execution_count": 0,
      "outputs": []
    },
    {
      "cell_type": "code",
      "metadata": {
        "id": "qwwg0V-iI4wg",
        "colab_type": "code",
        "colab": {}
      },
      "source": [
        "# # Plot training & validation loss values\n",
        "# #plt.plot([i.history['lr'] for i in history])\n",
        "# plt.title('Model LR')\n",
        "# plt.ylabel('LR')\n",
        "# plt.xlabel('Epoch')\n",
        "# plt.legend(['LR1','LR2','LR3','LR4','LR5' ], loc='upper left')\n",
        "# plt.show()"
      ],
      "execution_count": 0,
      "outputs": []
    },
    {
      "cell_type": "code",
      "metadata": {
        "id": "cWbbVN8cLGb1",
        "colab_type": "code",
        "outputId": "f7cced19-0493-45c8-de05-9003d65996be",
        "colab": {
          "base_uri": "https://localhost:8080/",
          "height": 295
        }
      },
      "source": [
        "# Plot training & validation loss values\n",
        "for i in range(5):\n",
        "  plt.plot(history[i].history['lr'])\n",
        "plt.title('Model LR')\n",
        "plt.ylabel('LR')\n",
        "plt.xlabel('Epoch')\n",
        "plt.legend(['LR1','LR2','LR3','LR4','LR5' ], loc='upper left')\n",
        "plt.show()"
      ],
      "execution_count": 26,
      "outputs": [
        {
          "output_type": "display_data",
          "data": {
            "image/png": "[encoded data removed]",
            "text/plain": [
              "<Figure size 432x288 with 1 Axes>"
            ]
          },
          "metadata": {
            "tags": [],
            "needs_background": "light"
          }
        }
      ]
    },
    {
      "cell_type": "code",
      "metadata": {
        "id": "vtFhi-VbLa9Y",
        "colab_type": "code",
        "colab": {}
      },
      "source": [
        ""
      ],
      "execution_count": 0,
      "outputs": []
    }
  ]
}