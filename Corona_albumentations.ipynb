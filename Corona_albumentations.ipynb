{
  "nbformat": 4,
  "nbformat_minor": 0,
  "metadata": {
    "colab": {
      "name": "Corona_gpu.ipynb",
      "provenance": [],
      "collapsed_sections": [],
      "include_colab_link": true
    },
    "kernelspec": {
      "name": "python3",
      "display_name": "Python 3"
    },
    "accelerator": "GPU"
  },
  "cells": [
    {
      "cell_type": "markdown",
      "metadata": {
        "id": "view-in-github",
        "colab_type": "text"
      },
      "source": [
        "<a href=\"https://colab.research.google.com/github/talhaanwarch/Corona_Virus/blob/master/Corona_albumentations.ipynb\" target=\"_parent\"><img src=\"https://colab.research.google.com/assets/colab-badge.svg\" alt=\"Open In Colab\"/></a>"
      ]
    },
    {
      "cell_type": "code",
      "metadata": {
        "id": "Hx_mNhZ0f6Pa",
        "colab_type": "code",
        "colab": {}
      },
      "source": [
        "#https://arxiv.org/ftp/arxiv/papers/2003/2003.13145.pdf"
      ],
      "execution_count": 0,
      "outputs": []
    },
    {
      "cell_type": "code",
      "metadata": {
        "id": "pnxTswzLt9gQ",
        "colab_type": "code",
        "colab": {
          "base_uri": "https://localhost:8080/",
          "height": 134
        },
        "outputId": "4528baba-056a-482d-e854-0644c63d35f1"
      },
      "source": [
        "!git clone https://github.com/mjkvaak/ImageDataAugmentor.git"
      ],
      "execution_count": 3,
      "outputs": [
        {
          "output_type": "stream",
          "text": [
            "Cloning into 'ImageDataAugmentor'...\n",
            "remote: Enumerating objects: 98, done.\u001b[K\n",
            "remote: Counting objects:   1% (1/98)\u001b[K\rremote: Counting objects:   2% (2/98)\u001b[K\rremote: Counting objects:   3% (3/98)\u001b[K\rremote: Counting objects:   4% (4/98)\u001b[K\rremote: Counting objects:   5% (5/98)\u001b[K\rremote: Counting objects:   6% (6/98)\u001b[K\rremote: Counting objects:   7% (7/98)\u001b[K\rremote: Counting objects:   8% (8/98)\u001b[K\rremote: Counting objects:   9% (9/98)\u001b[K\rremote: Counting objects:  10% (10/98)\u001b[K\rremote: Counting objects:  11% (11/98)\u001b[K\rremote: Counting objects:  12% (12/98)\u001b[K\rremote: Counting objects:  13% (13/98)\u001b[K\rremote: Counting objects:  14% (14/98)\u001b[K\rremote: Counting objects:  15% (15/98)\u001b[K\rremote: Counting objects:  16% (16/98)\u001b[K\rremote: Counting objects:  17% (17/98)\u001b[K\rremote: Counting objects:  18% (18/98)\u001b[K\rremote: Counting objects:  19% (19/98)\u001b[K\rremote: Counting objects:  20% (20/98)\u001b[K\rremote: Counting objects:  21% (21/98)\u001b[K\rremote: Counting objects:  22% (22/98)\u001b[K\rremote: Counting objects:  23% (23/98)\u001b[K\rremote: Counting objects:  24% (24/98)\u001b[K\rremote: Counting objects:  25% (25/98)\u001b[K\rremote: Counting objects:  26% (26/98)\u001b[K\rremote: Counting objects:  27% (27/98)\u001b[K\rremote: Counting objects:  28% (28/98)\u001b[K\rremote: Counting objects:  29% (29/98)\u001b[K\rremote: Counting objects:  30% (30/98)\u001b[K\rremote: Counting objects:  31% (31/98)\u001b[K\rremote: Counting objects:  32% (32/98)\u001b[K\rremote: Counting objects:  33% (33/98)\u001b[K\rremote: Counting objects:  34% (34/98)\u001b[K\rremote: Counting objects:  35% (35/98)\u001b[K\rremote: Counting objects:  36% (36/98)\u001b[K\rremote: Counting objects:  37% (37/98)\u001b[K\rremote: Counting objects:  38% (38/98)\u001b[K\rremote: Counting objects:  39% (39/98)\u001b[K\rremote: Counting objects:  40% (40/98)\u001b[K\rremote: Counting objects:  41% (41/98)\u001b[K\rremote: Counting objects:  42% (42/98)\u001b[K\rremote: Counting objects:  43% (43/98)\u001b[K\rremote: Counting objects:  44% (44/98)\u001b[K\rremote: Counting objects:  45% (45/98)\u001b[K\rremote: Counting objects:  46% (46/98)\u001b[K\rremote: Counting objects:  47% (47/98)\u001b[K\rremote: Counting objects:  48% (48/98)\u001b[K\rremote: Counting objects:  50% (49/98)\u001b[K\rremote: Counting objects:  51% (50/98)\u001b[K\rremote: Counting objects:  52% (51/98)\u001b[K\rremote: Counting objects:  53% (52/98)\u001b[K\rremote: Counting objects:  54% (53/98)\u001b[K\rremote: Counting objects:  55% (54/98)\u001b[K\rremote: Counting objects:  56% (55/98)\u001b[K\rremote: Counting objects:  57% (56/98)\u001b[K\rremote: Counting objects:  58% (57/98)\u001b[K\rremote: Counting objects:  59% (58/98)\u001b[K\rremote: Counting objects:  60% (59/98)\u001b[K\rremote: Counting objects:  61% (60/98)\u001b[K\rremote: Counting objects:  62% (61/98)\u001b[K\rremote: Counting objects:  63% (62/98)\u001b[K\rremote: Counting objects:  64% (63/98)\u001b[K\rremote: Counting objects:  65% (64/98)\u001b[K\rremote: Counting objects:  66% (65/98)\u001b[K\rremote: Counting objects:  67% (66/98)\u001b[K\rremote: Counting objects:  68% (67/98)\u001b[K\rremote: Counting objects:  69% (68/98)\u001b[K\rremote: Counting objects:  70% (69/98)\u001b[K\rremote: Counting objects:  71% (70/98)\u001b[K\rremote: Counting objects:  72% (71/98)\u001b[K\rremote: Counting objects:  73% (72/98)\u001b[K\rremote: Counting objects:  74% (73/98)\u001b[K\rremote: Counting objects:  75% (74/98)\u001b[K\rremote: Counting objects:  76% (75/98)\u001b[K\rremote: Counting objects:  77% (76/98)\u001b[K\rremote: Counting objects:  78% (77/98)\u001b[K\rremote: Counting objects:  79% (78/98)\u001b[K\rremote: Counting objects:  80% (79/98)\u001b[K\rremote: Counting objects:  81% (80/98)\u001b[K\rremote: Counting objects:  82% (81/98)\u001b[K\rremote: Counting objects:  83% (82/98)\u001b[K\rremote: Counting objects:  84% (83/98)\u001b[K\rremote: Counting objects:  85% (84/98)\u001b[K\rremote: Counting objects:  86% (85/98)\u001b[K\rremote: Counting objects:  87% (86/98)\u001b[K\rremote: Counting objects:  88% (87/98)\u001b[K\rremote: Counting objects:  89% (88/98)\u001b[K\rremote: Counting objects:  90% (89/98)\u001b[K\rremote: Counting objects:  91% (90/98)\u001b[K\rremote: Counting objects:  92% (91/98)\u001b[K\rremote: Counting objects:  93% (92/98)\u001b[K\rremote: Counting objects:  94% (93/98)\u001b[K\rremote: Counting objects:  95% (94/98)\u001b[K\rremote: Counting objects:  96% (95/98)\u001b[K\rremote: Counting objects:  97% (96/98)\u001b[K\rremote: Counting objects:  98% (97/98)\u001b[K\rremote: Counting objects: 100% (98/98)\u001b[K\rremote: Counting objects: 100% (98/98), done.\u001b[K\n",
            "remote: Compressing objects:   1% (1/81)\u001b[K\rremote: Compressing objects:   2% (2/81)\u001b[K\rremote: Compressing objects:   3% (3/81)\u001b[K\rremote: Compressing objects:   4% (4/81)\u001b[K\rremote: Compressing objects:   6% (5/81)\u001b[K\rremote: Compressing objects:   7% (6/81)\u001b[K\rremote: Compressing objects:   8% (7/81)\u001b[K\rremote: Compressing objects:   9% (8/81)\u001b[K\rremote: Compressing objects:  11% (9/81)\u001b[K\rremote: Compressing objects:  12% (10/81)\u001b[K\rremote: Compressing objects:  13% (11/81)\u001b[K\rremote: Compressing objects:  14% (12/81)\u001b[K\rremote: Compressing objects:  16% (13/81)\u001b[K\rremote: Compressing objects:  17% (14/81)\u001b[K\rremote: Compressing objects:  18% (15/81)\u001b[K\rremote: Compressing objects:  19% (16/81)\u001b[K\rremote: Compressing objects:  20% (17/81)\u001b[K\rremote: Compressing objects:  22% (18/81)\u001b[K\rremote: Compressing objects:  23% (19/81)\u001b[K\rremote: Compressing objects:  24% (20/81)\u001b[K\rremote: Compressing objects:  25% (21/81)\u001b[K\rremote: Compressing objects:  27% (22/81)\u001b[K\rremote: Compressing objects:  28% (23/81)\u001b[K\rremote: Compressing objects:  29% (24/81)\u001b[K\rremote: Compressing objects:  30% (25/81)\u001b[K\rremote: Compressing objects:  32% (26/81)\u001b[K\rremote: Compressing objects:  33% (27/81)\u001b[K\rremote: Compressing objects:  34% (28/81)\u001b[K\rremote: Compressing objects:  35% (29/81)\u001b[K\rremote: Compressing objects:  37% (30/81)\u001b[K\rremote: Compressing objects:  38% (31/81)\u001b[K\rremote: Compressing objects:  39% (32/81)\u001b[K\rremote: Compressing objects:  40% (33/81)\u001b[K\rremote: Compressing objects:  41% (34/81)\u001b[K\rremote: Compressing objects:  43% (35/81)\u001b[K\rremote: Compressing objects:  44% (36/81)\u001b[K\rremote: Compressing objects:  45% (37/81)\u001b[K\rremote: Compressing objects:  46% (38/81)\u001b[K\rremote: Compressing objects:  48% (39/81)\u001b[K\rremote: Compressing objects:  49% (40/81)\u001b[K\rremote: Compressing objects:  50% (41/81)\u001b[K\rremote: Compressing objects:  51% (42/81)\u001b[K\rremote: Compressing objects:  53% (43/81)\u001b[K\rremote: Compressing objects:  54% (44/81)\u001b[K\rremote: Compressing objects:  55% (45/81)\u001b[K\rremote: Compressing objects:  56% (46/81)\u001b[K\rremote: Compressing objects:  58% (47/81)\u001b[K\rremote: Compressing objects:  59% (48/81)\u001b[K\rremote: Compressing objects:  60% (49/81)\u001b[K\rremote: Compressing objects:  61% (50/81)\u001b[K\rremote: Compressing objects:  62% (51/81)\u001b[K\rremote: Compressing objects:  64% (52/81)\u001b[K\rremote: Compressing objects:  65% (53/81)\u001b[K\rremote: Compressing objects:  66% (54/81)\u001b[K\rremote: Compressing objects:  67% (55/81)\u001b[K\rremote: Compressing objects:  69% (56/81)\u001b[K\rremote: Compressing objects:  70% (57/81)\u001b[K\rremote: Compressing objects:  71% (58/81)\u001b[K\rremote: Compressing objects:  72% (59/81)\u001b[K\rremote: Compressing objects:  74% (60/81)\u001b[K\rremote: Compressing objects:  75% (61/81)\u001b[K\rremote: Compressing objects:  76% (62/81)\u001b[K\rremote: Compressing objects:  77% (63/81)\u001b[K\rremote: Compressing objects:  79% (64/81)\u001b[K\rremote: Compressing objects:  80% (65/81)\u001b[K\rremote: Compressing objects:  81% (66/81)\u001b[K\rremote: Compressing objects:  82% (67/81)\u001b[K\rremote: Compressing objects:  83% (68/81)\u001b[K\rremote: Compressing objects:  85% (69/81)\u001b[K\rremote: Compressing objects:  86% (70/81)\u001b[K\rremote: Compressing objects:  87% (71/81)\u001b[K\rremote: Compressing objects:  88% (72/81)\u001b[K\rremote: Compressing objects:  90% (73/81)\u001b[K\rremote: Compressing objects:  91% (74/81)\u001b[K\rremote: Compressing objects:  92% (75/81)\u001b[K\rremote: Compressing objects:  93% (76/81)\u001b[K\rremote: Compressing objects:  95% (77/81)\u001b[K\rremote: Compressing objects:  96% (78/81)\u001b[K\rremote: Compressing objects:  97% (79/81)\u001b[K\rremote: Compressing objects:  98% (80/81)\u001b[K\rremote: Compressing objects: 100% (81/81)\u001b[K\rremote: Compressing objects: 100% (81/81), done.\u001b[K\n",
            "Receiving objects:   0% (1/263)   \rReceiving objects:   1% (3/263)   \rReceiving objects:   2% (6/263)   \rReceiving objects:   3% (8/263)   \rReceiving objects:   4% (11/263)   \rReceiving objects:   5% (14/263)   \rReceiving objects:   6% (16/263)   \rReceiving objects:   7% (19/263)   \rReceiving objects:   8% (22/263)   \rReceiving objects:   9% (24/263)   \rReceiving objects:  10% (27/263)   \rReceiving objects:  11% (29/263)   \rReceiving objects:  12% (32/263)   \rReceiving objects:  13% (35/263)   \rReceiving objects:  14% (37/263)   \rReceiving objects:  15% (40/263)   \rReceiving objects:  16% (43/263)   \rReceiving objects:  17% (45/263)   \rReceiving objects:  18% (48/263)   \rReceiving objects:  19% (50/263)   \rReceiving objects:  20% (53/263)   \rReceiving objects:  21% (56/263)   \rReceiving objects:  22% (58/263)   \rReceiving objects:  23% (61/263)   \rReceiving objects:  24% (64/263)   \rReceiving objects:  25% (66/263)   \rReceiving objects:  26% (69/263)   \rReceiving objects:  27% (72/263)   \rReceiving objects:  28% (74/263)   \rReceiving objects:  29% (77/263)   \rReceiving objects:  30% (79/263)   \rReceiving objects:  31% (82/263)   \rReceiving objects:  32% (85/263)   \rReceiving objects:  33% (87/263)   \rReceiving objects:  34% (90/263)   \rReceiving objects:  35% (93/263)   \rReceiving objects:  36% (95/263)   \rReceiving objects:  37% (98/263)   \rReceiving objects:  38% (100/263)   \rReceiving objects:  39% (103/263)   \rReceiving objects:  40% (106/263)   \rReceiving objects:  41% (108/263)   \rReceiving objects:  42% (111/263)   \rReceiving objects:  43% (114/263)   \rReceiving objects:  44% (116/263)   \rReceiving objects:  45% (119/263)   \rReceiving objects:  46% (121/263)   \rReceiving objects:  47% (124/263)   \rReceiving objects:  48% (127/263)   \rReceiving objects:  49% (129/263)   \rReceiving objects:  50% (132/263)   \rReceiving objects:  51% (135/263)   \rReceiving objects:  52% (137/263)   \rReceiving objects:  53% (140/263)   \rReceiving objects:  54% (143/263)   \rReceiving objects:  55% (145/263)   \rReceiving objects:  56% (148/263)   \rReceiving objects:  57% (150/263)   \rReceiving objects:  58% (153/263)   \rReceiving objects:  59% (156/263)   \rReceiving objects:  60% (158/263)   \rReceiving objects:  61% (161/263)   \rReceiving objects:  62% (164/263)   \rReceiving objects:  63% (166/263)   \rReceiving objects:  64% (169/263)   \rReceiving objects:  65% (171/263)   \rReceiving objects:  66% (174/263)   \rReceiving objects:  67% (177/263)   \rReceiving objects:  68% (179/263)   \rReceiving objects:  69% (182/263)   \rReceiving objects:  70% (185/263)   \rReceiving objects:  71% (187/263)   \rReceiving objects:  72% (190/263)   \rReceiving objects:  73% (192/263)   \rReceiving objects:  74% (195/263)   \rReceiving objects:  75% (198/263)   \rReceiving objects:  76% (200/263)   \rReceiving objects:  77% (203/263)   \rReceiving objects:  78% (206/263)   \rReceiving objects:  79% (208/263)   \rReceiving objects:  80% (211/263)   \rReceiving objects:  81% (214/263)   \rReceiving objects:  82% (216/263)   \rReceiving objects:  83% (219/263)   \rReceiving objects:  84% (221/263)   \rReceiving objects:  85% (224/263)   \rReceiving objects:  86% (227/263)   \rReceiving objects:  87% (229/263)   \rReceiving objects:  88% (232/263)   \rReceiving objects:  89% (235/263)   \rReceiving objects:  90% (237/263)   \rReceiving objects:  91% (240/263)   \rReceiving objects:  92% (242/263)   \rReceiving objects:  93% (245/263)   \rReceiving objects:  94% (248/263)   \rReceiving objects:  95% (250/263)   \rremote: Total 263 (delta 54), reused 38 (delta 15), pack-reused 165\u001b[K\n",
            "Receiving objects:  96% (253/263)   \rReceiving objects:  97% (256/263)   \rReceiving objects:  98% (258/263)   \rReceiving objects:  99% (261/263)   \rReceiving objects: 100% (263/263)   \rReceiving objects: 100% (263/263), 130.33 KiB | 766.00 KiB/s, done.\n",
            "Resolving deltas:   0% (0/153)   \rResolving deltas:  37% (58/153)   \rResolving deltas:  43% (66/153)   \rResolving deltas:  45% (70/153)   \rResolving deltas:  64% (98/153)   \rResolving deltas:  69% (107/153)   \rResolving deltas:  73% (113/153)   \rResolving deltas:  77% (118/153)   \rResolving deltas:  79% (121/153)   \rResolving deltas:  81% (125/153)   \rResolving deltas:  94% (144/153)   \rResolving deltas: 100% (153/153)   \rResolving deltas: 100% (153/153), done.\n"
          ],
          "name": "stdout"
        }
      ]
    },
    {
      "cell_type": "code",
      "metadata": {
        "id": "eAPVcU9Puz8w",
        "colab_type": "code",
        "colab": {
          "base_uri": "https://localhost:8080/",
          "height": 33
        },
        "outputId": "b1528984-dffe-4946-fd53-d1bf9040a70b"
      },
      "source": [
        "from ImageDataAugmentor.image_data_augmentor import *"
      ],
      "execution_count": 4,
      "outputs": [
        {
          "output_type": "stream",
          "text": [
            "Using TensorFlow backend.\n"
          ],
          "name": "stderr"
        }
      ]
    },
    {
      "cell_type": "code",
      "metadata": {
        "id": "e7sE0AGtdF-9",
        "colab_type": "code",
        "outputId": "39704371-ae81-40aa-f8d4-c9d649c18981",
        "colab": {
          "base_uri": "https://localhost:8080/",
          "height": 33
        }
      },
      "source": [
        "#Setup Kaggle DIR; copy json file ; chmod\n",
        "!mkdir -p ~/.kaggle\n",
        "!cp kaggle.json ~/.kaggle/\n",
        "!chmod 600 ~/.kaggle/kaggle.json\n",
        "!ls ~/.kaggle"
      ],
      "execution_count": 5,
      "outputs": [
        {
          "output_type": "stream",
          "text": [
            "kaggle.json\n"
          ],
          "name": "stdout"
        }
      ]
    },
    {
      "cell_type": "code",
      "metadata": {
        "id": "zh39xDtzdTyM",
        "colab_type": "code",
        "outputId": "c552ede6-0fac-4f02-90a0-bc3aaa038928",
        "colab": {
          "base_uri": "https://localhost:8080/",
          "height": 134
        }
      },
      "source": [
        "\n",
        "#Install kaggle packages\n",
        "!pip install -q kaggle\n",
        "!pip install -q kaggle-cli"
      ],
      "execution_count": 6,
      "outputs": [
        {
          "output_type": "stream",
          "text": [
            "\u001b[K     |████████████████████████████████| 81kB 6.3MB/s \n",
            "\u001b[K     |████████████████████████████████| 5.3MB 31.8MB/s \n",
            "\u001b[K     |████████████████████████████████| 112kB 60.8MB/s \n",
            "\u001b[K     |████████████████████████████████| 51kB 10.0MB/s \n",
            "\u001b[K     |████████████████████████████████| 112kB 68.6MB/s \n",
            "\u001b[?25h  Building wheel for kaggle-cli (setup.py) ... \u001b[?25l\u001b[?25hdone\n",
            "  Building wheel for pyperclip (setup.py) ... \u001b[?25l\u001b[?25hdone\n"
          ],
          "name": "stdout"
        }
      ]
    },
    {
      "cell_type": "code",
      "metadata": {
        "id": "rNziR1SddUWX",
        "colab_type": "code",
        "outputId": "74e6a804-aff5-416b-8b12-2a977a9b51ae",
        "colab": {
          "base_uri": "https://localhost:8080/",
          "height": 84
        }
      },
      "source": [
        "#!kaggle datasets list\n",
        "!kaggle datasets list -s tawsifurrahman/covid19-radiography-database"
      ],
      "execution_count": 7,
      "outputs": [
        {
          "output_type": "stream",
          "text": [
            "Warning: Looks like you're using an outdated API Version, please consider updating (server 1.5.6 / client 1.5.4)\n",
            "ref                                          title                          size  lastUpdated          downloadCount  \n",
            "-------------------------------------------  -----------------------------  ----  -------------------  -------------  \n",
            "tawsifurrahman/covid19-radiography-database  COVID-19 Radiography Database   1GB  2020-03-28 23:36:00            120  \n"
          ],
          "name": "stdout"
        }
      ]
    },
    {
      "cell_type": "code",
      "metadata": {
        "id": "FQynPUuEdmm5",
        "colab_type": "code",
        "outputId": "3030339b-ff7e-4bb2-e11a-c587655f17c9",
        "colab": {
          "base_uri": "https://localhost:8080/",
          "height": 67
        }
      },
      "source": [
        "!kaggle datasets download -d tawsifurrahman/covid19-radiography-database"
      ],
      "execution_count": 8,
      "outputs": [
        {
          "output_type": "stream",
          "text": [
            "Downloading covid19-radiography-database.zip to /content\n",
            " 98% 1.13G/1.15G [00:15<00:00, 72.5MB/s]\n",
            "100% 1.15G/1.15G [00:15<00:00, 78.9MB/s]\n"
          ],
          "name": "stdout"
        }
      ]
    },
    {
      "cell_type": "code",
      "metadata": {
        "id": "QAUSKsFVdzgo",
        "colab_type": "code",
        "colab": {}
      },
      "source": [
        "%%capture\n",
        "!unzip covid19-radiography-database.zip"
      ],
      "execution_count": 0,
      "outputs": []
    },
    {
      "cell_type": "code",
      "metadata": {
        "id": "RwXvgE7NeovP",
        "colab_type": "code",
        "colab": {}
      },
      "source": [
        "%%capture\n",
        "!pip install efficientnet"
      ],
      "execution_count": 0,
      "outputs": []
    },
    {
      "cell_type": "code",
      "metadata": {
        "id": "d5TW5jEhnY_3",
        "colab_type": "code",
        "colab": {}
      },
      "source": [
        "import glob\n",
        "import pandas as pd\n",
        "import os\n",
        "import numpy as np"
      ],
      "execution_count": 0,
      "outputs": []
    },
    {
      "cell_type": "code",
      "metadata": {
        "id": "6-BUg9tQjv3L",
        "colab_type": "code",
        "colab": {}
      },
      "source": [
        "\n",
        "covid=os.listdir('/content/COVID-19 Radiography Database/COVID-19')\n",
        "normal=os.listdir('/content/COVID-19 Radiography Database/NORMAL')\n",
        "pneumonia=os.listdir('/content/COVID-19 Radiography Database/Viral Pneumonia')\n"
      ],
      "execution_count": 0,
      "outputs": []
    },
    {
      "cell_type": "code",
      "metadata": {
        "id": "IjSQ-HF0lny3",
        "colab_type": "code",
        "outputId": "6577e59c-2668-4176-919e-5208d2b6e598",
        "colab": {
          "base_uri": "https://localhost:8080/",
          "height": 196
        }
      },
      "source": [
        "cov=list(zip(covid,['covid']*(len(covid))))\n",
        "covid_df = pd.DataFrame(cov,columns=['file','label']) \n",
        "covid_df.head()"
      ],
      "execution_count": 13,
      "outputs": [
        {
          "output_type": "execute_result",
          "data": {
            "text/html": [
              "<div>\n",
              "<style scoped>\n",
              "    .dataframe tbody tr th:only-of-type {\n",
              "        vertical-align: middle;\n",
              "    }\n",
              "\n",
              "    .dataframe tbody tr th {\n",
              "        vertical-align: top;\n",
              "    }\n",
              "\n",
              "    .dataframe thead th {\n",
              "        text-align: right;\n",
              "    }\n",
              "</style>\n",
              "<table border=\"1\" class=\"dataframe\">\n",
              "  <thead>\n",
              "    <tr style=\"text-align: right;\">\n",
              "      <th></th>\n",
              "      <th>file</th>\n",
              "      <th>label</th>\n",
              "    </tr>\n",
              "  </thead>\n",
              "  <tbody>\n",
              "    <tr>\n",
              "      <th>0</th>\n",
              "      <td>COVID-19 (48).png</td>\n",
              "      <td>covid</td>\n",
              "    </tr>\n",
              "    <tr>\n",
              "      <th>1</th>\n",
              "      <td>COVID-19(178).png</td>\n",
              "      <td>covid</td>\n",
              "    </tr>\n",
              "    <tr>\n",
              "      <th>2</th>\n",
              "      <td>COVID-19(180).png</td>\n",
              "      <td>covid</td>\n",
              "    </tr>\n",
              "    <tr>\n",
              "      <th>3</th>\n",
              "      <td>COVID-19 (19).png</td>\n",
              "      <td>covid</td>\n",
              "    </tr>\n",
              "    <tr>\n",
              "      <th>4</th>\n",
              "      <td>COVID-19(155).png</td>\n",
              "      <td>covid</td>\n",
              "    </tr>\n",
              "  </tbody>\n",
              "</table>\n",
              "</div>"
            ],
            "text/plain": [
              "                file  label\n",
              "0  COVID-19 (48).png  covid\n",
              "1  COVID-19(178).png  covid\n",
              "2  COVID-19(180).png  covid\n",
              "3  COVID-19 (19).png  covid\n",
              "4  COVID-19(155).png  covid"
            ]
          },
          "metadata": {
            "tags": []
          },
          "execution_count": 13
        }
      ]
    },
    {
      "cell_type": "code",
      "metadata": {
        "id": "NPb6WURumZl_",
        "colab_type": "code",
        "outputId": "af85b5fc-a92f-41b2-e452-b9f4278c98ea",
        "colab": {
          "base_uri": "https://localhost:8080/",
          "height": 196
        }
      },
      "source": [
        "norm=list(zip(normal,['normal']*(len(normal))))\n",
        "normal_df = pd.DataFrame(norm,columns=['file','label']) \n",
        "normal_df.head()"
      ],
      "execution_count": 14,
      "outputs": [
        {
          "output_type": "execute_result",
          "data": {
            "text/html": [
              "<div>\n",
              "<style scoped>\n",
              "    .dataframe tbody tr th:only-of-type {\n",
              "        vertical-align: middle;\n",
              "    }\n",
              "\n",
              "    .dataframe tbody tr th {\n",
              "        vertical-align: top;\n",
              "    }\n",
              "\n",
              "    .dataframe thead th {\n",
              "        text-align: right;\n",
              "    }\n",
              "</style>\n",
              "<table border=\"1\" class=\"dataframe\">\n",
              "  <thead>\n",
              "    <tr style=\"text-align: right;\">\n",
              "      <th></th>\n",
              "      <th>file</th>\n",
              "      <th>label</th>\n",
              "    </tr>\n",
              "  </thead>\n",
              "  <tbody>\n",
              "    <tr>\n",
              "      <th>0</th>\n",
              "      <td>NORMAL (110).png</td>\n",
              "      <td>normal</td>\n",
              "    </tr>\n",
              "    <tr>\n",
              "      <th>1</th>\n",
              "      <td>NORMAL (360).png</td>\n",
              "      <td>normal</td>\n",
              "    </tr>\n",
              "    <tr>\n",
              "      <th>2</th>\n",
              "      <td>NORMAL (131).png</td>\n",
              "      <td>normal</td>\n",
              "    </tr>\n",
              "    <tr>\n",
              "      <th>3</th>\n",
              "      <td>NORMAL (662).png</td>\n",
              "      <td>normal</td>\n",
              "    </tr>\n",
              "    <tr>\n",
              "      <th>4</th>\n",
              "      <td>NORMAL (1009).png</td>\n",
              "      <td>normal</td>\n",
              "    </tr>\n",
              "  </tbody>\n",
              "</table>\n",
              "</div>"
            ],
            "text/plain": [
              "                file   label\n",
              "0   NORMAL (110).png  normal\n",
              "1   NORMAL (360).png  normal\n",
              "2   NORMAL (131).png  normal\n",
              "3   NORMAL (662).png  normal\n",
              "4  NORMAL (1009).png  normal"
            ]
          },
          "metadata": {
            "tags": []
          },
          "execution_count": 14
        }
      ]
    },
    {
      "cell_type": "code",
      "metadata": {
        "id": "e5qFiQlwkyYI",
        "colab_type": "code",
        "outputId": "ff3df5cc-146b-45f5-fb7c-60c80b500ee9",
        "colab": {
          "base_uri": "https://localhost:8080/",
          "height": 196
        }
      },
      "source": [
        "pneumonia=list(zip(pneumonia,['pneumonia']*(len(pneumonia))*2))\n",
        "pneumonia_df = pd.DataFrame(pneumonia,columns=['file','label']) \n",
        "pneumonia_df.head()"
      ],
      "execution_count": 15,
      "outputs": [
        {
          "output_type": "execute_result",
          "data": {
            "text/html": [
              "<div>\n",
              "<style scoped>\n",
              "    .dataframe tbody tr th:only-of-type {\n",
              "        vertical-align: middle;\n",
              "    }\n",
              "\n",
              "    .dataframe tbody tr th {\n",
              "        vertical-align: top;\n",
              "    }\n",
              "\n",
              "    .dataframe thead th {\n",
              "        text-align: right;\n",
              "    }\n",
              "</style>\n",
              "<table border=\"1\" class=\"dataframe\">\n",
              "  <thead>\n",
              "    <tr style=\"text-align: right;\">\n",
              "      <th></th>\n",
              "      <th>file</th>\n",
              "      <th>label</th>\n",
              "    </tr>\n",
              "  </thead>\n",
              "  <tbody>\n",
              "    <tr>\n",
              "      <th>0</th>\n",
              "      <td>Viral Pneumonia (1067).png</td>\n",
              "      <td>pneumonia</td>\n",
              "    </tr>\n",
              "    <tr>\n",
              "      <th>1</th>\n",
              "      <td>Viral Pneumonia (1094).png</td>\n",
              "      <td>pneumonia</td>\n",
              "    </tr>\n",
              "    <tr>\n",
              "      <th>2</th>\n",
              "      <td>Viral Pneumonia (1287).png</td>\n",
              "      <td>pneumonia</td>\n",
              "    </tr>\n",
              "    <tr>\n",
              "      <th>3</th>\n",
              "      <td>Viral Pneumonia (1218).png</td>\n",
              "      <td>pneumonia</td>\n",
              "    </tr>\n",
              "    <tr>\n",
              "      <th>4</th>\n",
              "      <td>Viral Pneumonia (876).png</td>\n",
              "      <td>pneumonia</td>\n",
              "    </tr>\n",
              "  </tbody>\n",
              "</table>\n",
              "</div>"
            ],
            "text/plain": [
              "                         file      label\n",
              "0  Viral Pneumonia (1067).png  pneumonia\n",
              "1  Viral Pneumonia (1094).png  pneumonia\n",
              "2  Viral Pneumonia (1287).png  pneumonia\n",
              "3  Viral Pneumonia (1218).png  pneumonia\n",
              "4   Viral Pneumonia (876).png  pneumonia"
            ]
          },
          "metadata": {
            "tags": []
          },
          "execution_count": 15
        }
      ]
    },
    {
      "cell_type": "code",
      "metadata": {
        "id": "9DDgLUjwlKIQ",
        "colab_type": "code",
        "outputId": "c70a3fd5-3bbc-47c8-d0fb-df6f0a0ccfed",
        "colab": {
          "base_uri": "https://localhost:8080/",
          "height": 196
        }
      },
      "source": [
        "dataframe=pd.concat([covid_df,normal_df,pneumonia_df])\n",
        "dataframe.head()"
      ],
      "execution_count": 16,
      "outputs": [
        {
          "output_type": "execute_result",
          "data": {
            "text/html": [
              "<div>\n",
              "<style scoped>\n",
              "    .dataframe tbody tr th:only-of-type {\n",
              "        vertical-align: middle;\n",
              "    }\n",
              "\n",
              "    .dataframe tbody tr th {\n",
              "        vertical-align: top;\n",
              "    }\n",
              "\n",
              "    .dataframe thead th {\n",
              "        text-align: right;\n",
              "    }\n",
              "</style>\n",
              "<table border=\"1\" class=\"dataframe\">\n",
              "  <thead>\n",
              "    <tr style=\"text-align: right;\">\n",
              "      <th></th>\n",
              "      <th>file</th>\n",
              "      <th>label</th>\n",
              "    </tr>\n",
              "  </thead>\n",
              "  <tbody>\n",
              "    <tr>\n",
              "      <th>0</th>\n",
              "      <td>COVID-19 (48).png</td>\n",
              "      <td>covid</td>\n",
              "    </tr>\n",
              "    <tr>\n",
              "      <th>1</th>\n",
              "      <td>COVID-19(178).png</td>\n",
              "      <td>covid</td>\n",
              "    </tr>\n",
              "    <tr>\n",
              "      <th>2</th>\n",
              "      <td>COVID-19(180).png</td>\n",
              "      <td>covid</td>\n",
              "    </tr>\n",
              "    <tr>\n",
              "      <th>3</th>\n",
              "      <td>COVID-19 (19).png</td>\n",
              "      <td>covid</td>\n",
              "    </tr>\n",
              "    <tr>\n",
              "      <th>4</th>\n",
              "      <td>COVID-19(155).png</td>\n",
              "      <td>covid</td>\n",
              "    </tr>\n",
              "  </tbody>\n",
              "</table>\n",
              "</div>"
            ],
            "text/plain": [
              "                file  label\n",
              "0  COVID-19 (48).png  covid\n",
              "1  COVID-19(178).png  covid\n",
              "2  COVID-19(180).png  covid\n",
              "3  COVID-19 (19).png  covid\n",
              "4  COVID-19(155).png  covid"
            ]
          },
          "metadata": {
            "tags": []
          },
          "execution_count": 16
        }
      ]
    },
    {
      "cell_type": "code",
      "metadata": {
        "id": "HsaG153kksOV",
        "colab_type": "code",
        "outputId": "39517a48-90a4-468a-8333-a7d5ef8081fb",
        "colab": {
          "base_uri": "https://localhost:8080/",
          "height": 196
        }
      },
      "source": [
        "df = pd.get_dummies(dataframe['label'])\n",
        "df.head()"
      ],
      "execution_count": 17,
      "outputs": [
        {
          "output_type": "execute_result",
          "data": {
            "text/html": [
              "<div>\n",
              "<style scoped>\n",
              "    .dataframe tbody tr th:only-of-type {\n",
              "        vertical-align: middle;\n",
              "    }\n",
              "\n",
              "    .dataframe tbody tr th {\n",
              "        vertical-align: top;\n",
              "    }\n",
              "\n",
              "    .dataframe thead th {\n",
              "        text-align: right;\n",
              "    }\n",
              "</style>\n",
              "<table border=\"1\" class=\"dataframe\">\n",
              "  <thead>\n",
              "    <tr style=\"text-align: right;\">\n",
              "      <th></th>\n",
              "      <th>covid</th>\n",
              "      <th>normal</th>\n",
              "      <th>pneumonia</th>\n",
              "    </tr>\n",
              "  </thead>\n",
              "  <tbody>\n",
              "    <tr>\n",
              "      <th>0</th>\n",
              "      <td>1</td>\n",
              "      <td>0</td>\n",
              "      <td>0</td>\n",
              "    </tr>\n",
              "    <tr>\n",
              "      <th>1</th>\n",
              "      <td>1</td>\n",
              "      <td>0</td>\n",
              "      <td>0</td>\n",
              "    </tr>\n",
              "    <tr>\n",
              "      <th>2</th>\n",
              "      <td>1</td>\n",
              "      <td>0</td>\n",
              "      <td>0</td>\n",
              "    </tr>\n",
              "    <tr>\n",
              "      <th>3</th>\n",
              "      <td>1</td>\n",
              "      <td>0</td>\n",
              "      <td>0</td>\n",
              "    </tr>\n",
              "    <tr>\n",
              "      <th>4</th>\n",
              "      <td>1</td>\n",
              "      <td>0</td>\n",
              "      <td>0</td>\n",
              "    </tr>\n",
              "  </tbody>\n",
              "</table>\n",
              "</div>"
            ],
            "text/plain": [
              "   covid  normal  pneumonia\n",
              "0      1       0          0\n",
              "1      1       0          0\n",
              "2      1       0          0\n",
              "3      1       0          0\n",
              "4      1       0          0"
            ]
          },
          "metadata": {
            "tags": []
          },
          "execution_count": 17
        }
      ]
    },
    {
      "cell_type": "code",
      "metadata": {
        "id": "GD9oXFKskFAT",
        "colab_type": "code",
        "outputId": "322851fc-9a8e-46e6-8495-a87aaa0900ec",
        "colab": {
          "base_uri": "https://localhost:8080/",
          "height": 196
        }
      },
      "source": [
        "df = pd.concat([dataframe, df], axis=1)\n",
        "df.head()"
      ],
      "execution_count": 18,
      "outputs": [
        {
          "output_type": "execute_result",
          "data": {
            "text/html": [
              "<div>\n",
              "<style scoped>\n",
              "    .dataframe tbody tr th:only-of-type {\n",
              "        vertical-align: middle;\n",
              "    }\n",
              "\n",
              "    .dataframe tbody tr th {\n",
              "        vertical-align: top;\n",
              "    }\n",
              "\n",
              "    .dataframe thead th {\n",
              "        text-align: right;\n",
              "    }\n",
              "</style>\n",
              "<table border=\"1\" class=\"dataframe\">\n",
              "  <thead>\n",
              "    <tr style=\"text-align: right;\">\n",
              "      <th></th>\n",
              "      <th>file</th>\n",
              "      <th>label</th>\n",
              "      <th>covid</th>\n",
              "      <th>normal</th>\n",
              "      <th>pneumonia</th>\n",
              "    </tr>\n",
              "  </thead>\n",
              "  <tbody>\n",
              "    <tr>\n",
              "      <th>0</th>\n",
              "      <td>COVID-19 (48).png</td>\n",
              "      <td>covid</td>\n",
              "      <td>1</td>\n",
              "      <td>0</td>\n",
              "      <td>0</td>\n",
              "    </tr>\n",
              "    <tr>\n",
              "      <th>1</th>\n",
              "      <td>COVID-19(178).png</td>\n",
              "      <td>covid</td>\n",
              "      <td>1</td>\n",
              "      <td>0</td>\n",
              "      <td>0</td>\n",
              "    </tr>\n",
              "    <tr>\n",
              "      <th>2</th>\n",
              "      <td>COVID-19(180).png</td>\n",
              "      <td>covid</td>\n",
              "      <td>1</td>\n",
              "      <td>0</td>\n",
              "      <td>0</td>\n",
              "    </tr>\n",
              "    <tr>\n",
              "      <th>3</th>\n",
              "      <td>COVID-19 (19).png</td>\n",
              "      <td>covid</td>\n",
              "      <td>1</td>\n",
              "      <td>0</td>\n",
              "      <td>0</td>\n",
              "    </tr>\n",
              "    <tr>\n",
              "      <th>4</th>\n",
              "      <td>COVID-19(155).png</td>\n",
              "      <td>covid</td>\n",
              "      <td>1</td>\n",
              "      <td>0</td>\n",
              "      <td>0</td>\n",
              "    </tr>\n",
              "  </tbody>\n",
              "</table>\n",
              "</div>"
            ],
            "text/plain": [
              "                file  label  covid  normal  pneumonia\n",
              "0  COVID-19 (48).png  covid      1       0          0\n",
              "1  COVID-19(178).png  covid      1       0          0\n",
              "2  COVID-19(180).png  covid      1       0          0\n",
              "3  COVID-19 (19).png  covid      1       0          0\n",
              "4  COVID-19(155).png  covid      1       0          0"
            ]
          },
          "metadata": {
            "tags": []
          },
          "execution_count": 18
        }
      ]
    },
    {
      "cell_type": "code",
      "metadata": {
        "id": "BJlGUf0xpbJK",
        "colab_type": "code",
        "colab": {}
      },
      "source": [
        "df=df.sample(frac=1)"
      ],
      "execution_count": 0,
      "outputs": []
    },
    {
      "cell_type": "code",
      "metadata": {
        "id": "BVbMw1PLkC6Q",
        "colab_type": "code",
        "colab": {}
      },
      "source": [
        "!mkdir data"
      ],
      "execution_count": 0,
      "outputs": []
    },
    {
      "cell_type": "code",
      "metadata": {
        "id": "5tVw5aP6qSpS",
        "colab_type": "code",
        "colab": {}
      },
      "source": [
        "!cp -r /content/COVID-19\\ Radiography\\ Database/COVID-19/* data\n"
      ],
      "execution_count": 0,
      "outputs": []
    },
    {
      "cell_type": "code",
      "metadata": {
        "id": "AOT0dpOkjv8R",
        "colab_type": "code",
        "colab": {}
      },
      "source": [
        "!cp -r /content/COVID-19\\ Radiography\\ Database/NORMAL/* data\n"
      ],
      "execution_count": 0,
      "outputs": []
    },
    {
      "cell_type": "code",
      "metadata": {
        "id": "gv8Xa1e5jv_q",
        "colab_type": "code",
        "colab": {}
      },
      "source": [
        "!cp -r /content/COVID-19\\ Radiography\\ Database/Viral\\ Pneumonia/* data\n"
      ],
      "execution_count": 0,
      "outputs": []
    },
    {
      "cell_type": "code",
      "metadata": {
        "id": "NCH8fGHBfDVf",
        "colab_type": "code",
        "colab": {}
      },
      "source": [
        "import numpy as np # linear algebra\n",
        "import pandas as pd # data processing, CSV file I/O (e.g. pd.read_csv)\n",
        "import matplotlib.pyplot as plt\n",
        "from albumentations import *\n"
      ],
      "execution_count": 0,
      "outputs": []
    },
    {
      "cell_type": "code",
      "metadata": {
        "id": "InkYbh3KvPTR",
        "colab_type": "code",
        "colab": {}
      },
      "source": [
        "aug=Compose([\n",
        "        RandomRotate90(),\n",
        "        VerticalFlip(),\n",
        "        HorizontalFlip(),\n",
        "        Transpose(),\n",
        "        RandomScale(),\n",
        "        OneOf([\n",
        "            IAAAdditiveGaussianNoise(),\n",
        "            GaussNoise(),\n",
        "            GaussianBlur(),\n",
        "        ], p=0.3),\n",
        "        OneOf([\n",
        "            MotionBlur(p=.2),\n",
        "            MedianBlur(blur_limit=3, p=.1),\n",
        "            Blur(blur_limit=3, p=.1),\n",
        "        ], p=0.2),\n",
        "        ShiftScaleRotate(shift_limit=0.0625, scale_limit=0.2, rotate_limit=45, p=.2),\n",
        "        OneOf([\n",
        "            OpticalDistortion(p=0.3),\n",
        "            GridDistortion(p=.1),\n",
        "            IAAPiecewiseAffine(p=0.3),\n",
        "        ], p=0.2),\n",
        "        OneOf([\n",
        "            CLAHE(clip_limit=2),\n",
        "            IAASharpen(),\n",
        "            IAAEmboss(),\n",
        "            RandomContrast(),\n",
        "            RandomBrightness(),\n",
        "        ], p=0.3),\n",
        "        #HueSaturationValue(p=0.3),\n",
        "    ], p=1)"
      ],
      "execution_count": 0,
      "outputs": []
    },
    {
      "cell_type": "code",
      "metadata": {
        "id": "C0xQzjdywEO1",
        "colab_type": "code",
        "colab": {}
      },
      "source": [
        ""
      ],
      "execution_count": 0,
      "outputs": []
    },
    {
      "cell_type": "code",
      "metadata": {
        "id": "VByl228IfKB2",
        "colab_type": "code",
        "colab": {}
      },
      "source": [
        "#from keras_preprocessing.image import ImageDataGenerator\n",
        "from ImageDataAugmentor.image_data_augmentor import *\n",
        "data_gen= ImageDataAugmentor(\n",
        "    #horizontal_flip=True,\n",
        "    #vertical_flip=True,\n",
        "    #rotation_range=90,\n",
        "    # width_shift_range=0.2,\n",
        "    # height_shift_range=0.2,\n",
        "    # zoom_range=.2,\n",
        "    rescale=1/255,\n",
        "    # fill_mode='nearest',\n",
        "    # shear_range=0.2,\n",
        "    # brightness_range=[0.2, 2.0],\n",
        "    augment =aug)"
      ],
      "execution_count": 0,
      "outputs": []
    },
    {
      "cell_type": "code",
      "metadata": {
        "id": "wX4JK4fefMzS",
        "colab_type": "code",
        "colab": {}
      },
      "source": [
        "img_shape=300\n",
        "batch_size=16"
      ],
      "execution_count": 0,
      "outputs": []
    },
    {
      "cell_type": "code",
      "metadata": {
        "id": "94grLuQafcwc",
        "colab_type": "code",
        "colab": {}
      },
      "source": [
        "from tensorflow.keras.models import Sequential,Model\n",
        "from tensorflow.keras.layers import Activation, Dropout, Flatten, Dense, Conv2D, MaxPool2D, BatchNormalization,Input,MaxPooling2D,GlobalMaxPooling2D,concatenate\n",
        "from tensorflow.keras.layers import GlobalAveragePooling2D\n",
        "from tensorflow.keras.applications.resnet50 import ResNet50\n",
        "from tensorflow.keras.callbacks import ModelCheckpoint,ReduceLROnPlateau\n",
        "from tensorflow.keras.optimizers import Adam\n",
        "import tensorflow.keras.backend as K\n",
        "import tensorflow as tf"
      ],
      "execution_count": 0,
      "outputs": []
    },
    {
      "cell_type": "code",
      "metadata": {
        "id": "ENgCMgtw8o0p",
        "colab_type": "code",
        "outputId": "072a8d8d-3642-448a-a02e-17999c8beba3",
        "colab": {
          "base_uri": "https://localhost:8080/",
          "height": 522
        }
      },
      "source": [
        "from sklearn.model_selection import KFold\n",
        "import gc\n",
        "\n",
        "from sklearn.metrics import classification_report,accuracy_score,f1_score\n",
        "classification_reports=[]\n",
        "kf = KFold(n_splits=5)\n",
        "history=[]\n",
        "accuracy=[]\n",
        "f1_scores=[]\n",
        "fold=0\n",
        "for train_index, test_index in kf.split(df):\n",
        "  train=df.iloc[train_index,:]\n",
        "  val=df.iloc[test_index,:]\n",
        "  print('-----------fold {}--------------'.format(fold))\n",
        "  train_generator=data_gen.flow_from_dataframe(train,directory='data',\n",
        "                                                      target_size=(img_shape,img_shape),\n",
        "                                                      x_col=\"file\",\n",
        "                                                      y_col=['covid','normal','pneumonia'],\n",
        "                                                      class_mode='raw',\n",
        "                                                      shuffle=True,\n",
        "                                                      batch_size=batch_size)\n",
        "\n",
        "  val_generator=data_gen.flow_from_dataframe(val,directory='data',\n",
        "                                                        target_size=(img_shape,img_shape),\n",
        "                                                        x_col=\"file\",\n",
        "                                                        y_col=['covid','normal','pneumonia'],\n",
        "                                                        class_mode='raw',\n",
        "                                                        shuffle=False,\n",
        "                                                        batch_size=batch_size)\n",
        "  #train_generator.next()[0].shape,train_generator.next()[1].shape\n",
        "  import efficientnet.tfkeras as efn\n",
        "  model =efn.EfficientNetB4(weights ='noisy-student', include_top=False, input_shape = (img_shape,img_shape,3))\n",
        "    \n",
        "  x = model.output\n",
        "  x = GlobalAveragePooling2D()(x)\n",
        "  x = Dropout(0.3)(x)\n",
        "  x = Dense(128, activation=\"relu\")(x)\n",
        "  x = Dropout(0.3)(x)\n",
        "  x = Dense(64, activation=\"relu\")(x)\n",
        "  predictions = Dense(3, activation=\"softmax\")(x)\n",
        "  model = Model(inputs=model.input, outputs=predictions)\n",
        "\n",
        "  def custom_loss(y_true, y_pred):\n",
        "      return tf.keras.losses.categorical_crossentropy(y_true, y_pred, label_smoothing=0.1)\n",
        "  model.compile(optimizer=Adam(0.0001), loss=custom_loss, metrics=['accuracy'])\n",
        "\n",
        "  results = model.fit(train_generator,epochs=15,\n",
        "                              steps_per_epoch=train_generator.n/batch_size,\n",
        "                              validation_data=val_generator,\n",
        "                             validation_steps=val_generator.n/batch_size,\n",
        "                              callbacks=[ReduceLROnPlateau(monitor='val_loss', factor=0.3,patience=2, min_lr=0.000001)])\n",
        "  val_generator.reset()\n",
        "  y_pred=model.predict(val_generator,steps=val_generator.n/batch_size,verbose=1)\n",
        "  y_pred=y_pred.round().astype(int)\n",
        "  y_true=val.iloc[:,2::]\n",
        "  classification_reports.append(classification_report(y_true, y_pred,target_names=['covid','normal','pneumonia']))#\n",
        "  accuracy.append(accuracy_score(y_true,y_pred))\n",
        "  f1=f1_score(y_true,y_pred,average='macro')\n",
        "  print('f1 score is ', f1)\n",
        "  f1_scores.append(f1)\n",
        "  fold+=1\n",
        "  del model\n",
        "  tf.keras.backend.clear_session()\n",
        "  gc.collect()\n",
        "  "
      ],
      "execution_count": 0,
      "outputs": [
        {
          "output_type": "stream",
          "text": [
            "-----------fold 0--------------\n",
            "Found 2324 validated image filenames.\n",
            "Found 581 validated image filenames.\n",
            "Downloading data from https://github.com/qubvel/efficientnet/releases/download/v0.0.1/efficientnet-b4_noisy-student_notop.h5\n",
            "71680000/71678424 [==============================] - 3s 0us/step\n",
            "Epoch 1/15\n",
            "146/145 [==============================] - 131s 894ms/step - loss: 0.7327 - accuracy: 0.7401 - val_loss: 0.8738 - val_accuracy: 0.6334 - lr: 1.0000e-04\n",
            "Epoch 2/15\n",
            "146/145 [==============================] - 130s 889ms/step - loss: 0.5085 - accuracy: 0.9010 - val_loss: 0.6122 - val_accuracy: 0.8296 - lr: 1.0000e-04\n",
            "Epoch 3/15\n",
            "146/145 [==============================] - 128s 879ms/step - loss: 0.4676 - accuracy: 0.9161 - val_loss: 0.4657 - val_accuracy: 0.9122 - lr: 1.0000e-04\n",
            "Epoch 4/15\n",
            "146/145 [==============================] - 133s 911ms/step - loss: 0.4420 - accuracy: 0.9264 - val_loss: 0.3732 - val_accuracy: 0.9604 - lr: 1.0000e-04\n",
            "Epoch 5/15\n",
            "146/145 [==============================] - 130s 891ms/step - loss: 0.4230 - accuracy: 0.9346 - val_loss: 0.3762 - val_accuracy: 0.9621 - lr: 1.0000e-04\n",
            "Epoch 6/15\n",
            "146/145 [==============================] - 130s 887ms/step - loss: 0.4193 - accuracy: 0.9350 - val_loss: 0.3784 - val_accuracy: 0.9570 - lr: 1.0000e-04\n",
            "Epoch 7/15\n",
            "146/145 [==============================] - 130s 892ms/step - loss: 0.4068 - accuracy: 0.9389 - val_loss: 0.3643 - val_accuracy: 0.9570 - lr: 3.0000e-05\n",
            "Epoch 8/15\n",
            "146/145 [==============================] - 130s 889ms/step - loss: 0.3866 - accuracy: 0.9565 - val_loss: 0.3470 - val_accuracy: 0.9742 - lr: 3.0000e-05\n",
            "Epoch 9/15\n",
            "146/145 [==============================] - 129s 887ms/step - loss: 0.3766 - accuracy: 0.9626 - val_loss: 0.3317 - val_accuracy: 0.9793 - lr: 3.0000e-05\n",
            "Epoch 10/15\n",
            "146/145 [==============================] - 131s 894ms/step - loss: 0.3782 - accuracy: 0.9591 - val_loss: 0.3506 - val_accuracy: 0.9673 - lr: 3.0000e-05\n",
            "Epoch 11/15\n",
            "146/145 [==============================] - 127s 870ms/step - loss: 0.3752 - accuracy: 0.9608 - val_loss: 0.3359 - val_accuracy: 0.9811 - lr: 3.0000e-05\n",
            "Epoch 12/15\n",
            "121/145 [=======================>......] - ETA: 18s - loss: 0.3712 - accuracy: 0.9623"
          ],
          "name": "stdout"
        }
      ]
    },
    {
      "cell_type": "code",
      "metadata": {
        "id": "F2O_Kf-EG0jw",
        "colab_type": "code",
        "outputId": "fbc7b84f-e5e2-43e9-97f6-c004a787180a",
        "colab": {
          "base_uri": "https://localhost:8080/",
          "height": 53
        }
      },
      "source": [
        "classification_reports[0]"
      ],
      "execution_count": 0,
      "outputs": [
        {
          "output_type": "execute_result",
          "data": {
            "text/plain": [
              "'              precision    recall  f1-score   support\\n\\n       covid       0.97      0.97      0.97        35\\n      normal       0.98      0.99      0.98       276\\n   pneumonia       0.99      0.98      0.98       270\\n\\n   micro avg       0.98      0.98      0.98       581\\n   macro avg       0.98      0.98      0.98       581\\nweighted avg       0.98      0.98      0.98       581\\n samples avg       0.98      0.98      0.98       581\\n'"
            ]
          },
          "metadata": {
            "tags": []
          },
          "execution_count": 30
        }
      ]
    },
    {
      "cell_type": "code",
      "metadata": {
        "id": "TSuiEZvPPJ1k",
        "colab_type": "code",
        "colab": {}
      },
      "source": [
        ""
      ],
      "execution_count": 0,
      "outputs": []
    }
  ]
}